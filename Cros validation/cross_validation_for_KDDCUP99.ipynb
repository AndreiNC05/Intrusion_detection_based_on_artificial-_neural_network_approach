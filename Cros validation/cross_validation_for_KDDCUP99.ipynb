{
 "cells": [
  {
   "cell_type": "code",
   "execution_count": 1,
   "id": "tamil-sitting",
   "metadata": {},
   "outputs": [],
   "source": [
    "import numpy as np # linear algebra\n",
    "import pandas as pd # data processing, CSV file I/O (e.g. pd.read_csv)\n",
    "import seaborn as sns\n",
    "import matplotlib.pyplot as plt\n",
    "import glob\n",
    "\n",
    "from sklearn.metrics import confusion_matrix\n",
    "import itertools\n",
    "\n",
    "from sklearn.metrics import make_scorer, accuracy_score, precision_score, recall_score, f1_score, confusion_matrix, classification_report\n",
    "\n",
    "import tensorflow as tf\n",
    "from tensorflow import keras\n",
    "from keras.models import Sequential\n",
    "from keras.layers import Dense, Flatten, Conv1D, MaxPool1D\n",
    "from keras.initializers import random_uniform\n",
    "from keras.layers.advanced_activations import LeakyReLU\n",
    "from keras.callbacks import EarlyStopping\n",
    "\n",
    "from sklearn.model_selection import train_test_split\n",
    "from sklearn.preprocessing import StandardScaler as SS\n",
    "\n",
    "from sklearn.model_selection import train_test_split\n",
    "from keras.models import Sequential\n",
    "from keras.preprocessing.text import Tokenizer\n",
    "from matplotlib import pyplot as plt\n",
    "from keras.preprocessing.sequence import pad_sequences\n",
    "from keras.layers import Embedding,Dense,LSTM,Dropout,Flatten,BatchNormalization,Conv1D,GlobalMaxPooling1D,MaxPooling1D\n",
    "from keras.optimizers import  SGD\n",
    "import matplotlib.pyplot as plt\n",
    "from keras.regularizers import l2\n",
    "from keras.optimizers import Adam\n",
    "from keras import regularizers\n",
    "from keras.callbacks import EarlyStopping\n",
    "from sklearn.preprocessing import OneHotEncoder\n",
    "from keras.preprocessing import sequence\n",
    "from keras.layers import SimpleRNN\n",
    "#from hyperas.distributions import uniform\n",
    "\n",
    "from keras.utils.np_utils import to_categorical\n",
    "from keras import regularizers\n",
    "import pandas as pd\n",
    "import string\n",
    "import numpy as np\n",
    "import matplotlib.pyplot as plt\n",
    "\n",
    "# import warnings\n",
    "import warnings\n",
    "# filter warnings\n",
    "warnings.filterwarnings('ignore')\n"
   ]
  },
  {
   "cell_type": "markdown",
   "id": "abandoned-stamp",
   "metadata": {},
   "source": [
    "### Importing the dataset"
   ]
  },
  {
   "cell_type": "code",
   "execution_count": 2,
   "id": "binding-corruption",
   "metadata": {},
   "outputs": [],
   "source": [
    "dataset = pd.read_csv(r'...') # Use your path"
   ]
  },
  {
   "cell_type": "code",
   "execution_count": 3,
   "id": "received-documentary",
   "metadata": {},
   "outputs": [
    {
     "data": {
      "text/html": [
       "<div>\n",
       "<style scoped>\n",
       "    .dataframe tbody tr th:only-of-type {\n",
       "        vertical-align: middle;\n",
       "    }\n",
       "\n",
       "    .dataframe tbody tr th {\n",
       "        vertical-align: top;\n",
       "    }\n",
       "\n",
       "    .dataframe thead th {\n",
       "        text-align: right;\n",
       "    }\n",
       "</style>\n",
       "<table border=\"1\" class=\"dataframe\">\n",
       "  <thead>\n",
       "    <tr style=\"text-align: right;\">\n",
       "      <th></th>\n",
       "      <th>duration</th>\n",
       "      <th>protocol_type</th>\n",
       "      <th>service</th>\n",
       "      <th>flag</th>\n",
       "      <th>src_bytes</th>\n",
       "      <th>dst_bytes</th>\n",
       "      <th>land</th>\n",
       "      <th>wrong_fragment</th>\n",
       "      <th>urgent</th>\n",
       "      <th>hot</th>\n",
       "      <th>...</th>\n",
       "      <th>dst_host_srv_count</th>\n",
       "      <th>dst_host_same_srv_rate</th>\n",
       "      <th>dst_host_diff_srv_rate</th>\n",
       "      <th>dst_host_same_src_port_rate</th>\n",
       "      <th>dst_host_srv_diff_host_rate</th>\n",
       "      <th>dst_host_serror_rate</th>\n",
       "      <th>dst_host_srv_serror_rate</th>\n",
       "      <th>dst_host_rerror_rate</th>\n",
       "      <th>dst_host_srv_rerror_rate</th>\n",
       "      <th>Label</th>\n",
       "    </tr>\n",
       "  </thead>\n",
       "  <tbody>\n",
       "    <tr>\n",
       "      <th>0</th>\n",
       "      <td>0</td>\n",
       "      <td>1</td>\n",
       "      <td>24</td>\n",
       "      <td>9</td>\n",
       "      <td>215</td>\n",
       "      <td>45076</td>\n",
       "      <td>0</td>\n",
       "      <td>0</td>\n",
       "      <td>0</td>\n",
       "      <td>0</td>\n",
       "      <td>...</td>\n",
       "      <td>0</td>\n",
       "      <td>0.0</td>\n",
       "      <td>0.0</td>\n",
       "      <td>0.00</td>\n",
       "      <td>0.0</td>\n",
       "      <td>0.0</td>\n",
       "      <td>0.0</td>\n",
       "      <td>0.0</td>\n",
       "      <td>0.0</td>\n",
       "      <td>normal.</td>\n",
       "    </tr>\n",
       "    <tr>\n",
       "      <th>1</th>\n",
       "      <td>0</td>\n",
       "      <td>1</td>\n",
       "      <td>24</td>\n",
       "      <td>9</td>\n",
       "      <td>162</td>\n",
       "      <td>4528</td>\n",
       "      <td>0</td>\n",
       "      <td>0</td>\n",
       "      <td>0</td>\n",
       "      <td>0</td>\n",
       "      <td>...</td>\n",
       "      <td>1</td>\n",
       "      <td>1.0</td>\n",
       "      <td>0.0</td>\n",
       "      <td>1.00</td>\n",
       "      <td>0.0</td>\n",
       "      <td>0.0</td>\n",
       "      <td>0.0</td>\n",
       "      <td>0.0</td>\n",
       "      <td>0.0</td>\n",
       "      <td>normal.</td>\n",
       "    </tr>\n",
       "    <tr>\n",
       "      <th>2</th>\n",
       "      <td>0</td>\n",
       "      <td>1</td>\n",
       "      <td>24</td>\n",
       "      <td>9</td>\n",
       "      <td>236</td>\n",
       "      <td>1228</td>\n",
       "      <td>0</td>\n",
       "      <td>0</td>\n",
       "      <td>0</td>\n",
       "      <td>0</td>\n",
       "      <td>...</td>\n",
       "      <td>2</td>\n",
       "      <td>1.0</td>\n",
       "      <td>0.0</td>\n",
       "      <td>0.50</td>\n",
       "      <td>0.0</td>\n",
       "      <td>0.0</td>\n",
       "      <td>0.0</td>\n",
       "      <td>0.0</td>\n",
       "      <td>0.0</td>\n",
       "      <td>normal.</td>\n",
       "    </tr>\n",
       "    <tr>\n",
       "      <th>3</th>\n",
       "      <td>0</td>\n",
       "      <td>1</td>\n",
       "      <td>24</td>\n",
       "      <td>9</td>\n",
       "      <td>233</td>\n",
       "      <td>2032</td>\n",
       "      <td>0</td>\n",
       "      <td>0</td>\n",
       "      <td>0</td>\n",
       "      <td>0</td>\n",
       "      <td>...</td>\n",
       "      <td>3</td>\n",
       "      <td>1.0</td>\n",
       "      <td>0.0</td>\n",
       "      <td>0.33</td>\n",
       "      <td>0.0</td>\n",
       "      <td>0.0</td>\n",
       "      <td>0.0</td>\n",
       "      <td>0.0</td>\n",
       "      <td>0.0</td>\n",
       "      <td>normal.</td>\n",
       "    </tr>\n",
       "    <tr>\n",
       "      <th>4</th>\n",
       "      <td>0</td>\n",
       "      <td>1</td>\n",
       "      <td>24</td>\n",
       "      <td>9</td>\n",
       "      <td>239</td>\n",
       "      <td>486</td>\n",
       "      <td>0</td>\n",
       "      <td>0</td>\n",
       "      <td>0</td>\n",
       "      <td>0</td>\n",
       "      <td>...</td>\n",
       "      <td>4</td>\n",
       "      <td>1.0</td>\n",
       "      <td>0.0</td>\n",
       "      <td>0.25</td>\n",
       "      <td>0.0</td>\n",
       "      <td>0.0</td>\n",
       "      <td>0.0</td>\n",
       "      <td>0.0</td>\n",
       "      <td>0.0</td>\n",
       "      <td>normal.</td>\n",
       "    </tr>\n",
       "  </tbody>\n",
       "</table>\n",
       "<p>5 rows × 40 columns</p>\n",
       "</div>"
      ],
      "text/plain": [
       "   duration  protocol_type  service  flag  src_bytes  dst_bytes  land  \\\n",
       "0         0              1       24     9        215      45076     0   \n",
       "1         0              1       24     9        162       4528     0   \n",
       "2         0              1       24     9        236       1228     0   \n",
       "3         0              1       24     9        233       2032     0   \n",
       "4         0              1       24     9        239        486     0   \n",
       "\n",
       "   wrong_fragment  urgent  hot  ...  dst_host_srv_count  \\\n",
       "0               0       0    0  ...                   0   \n",
       "1               0       0    0  ...                   1   \n",
       "2               0       0    0  ...                   2   \n",
       "3               0       0    0  ...                   3   \n",
       "4               0       0    0  ...                   4   \n",
       "\n",
       "   dst_host_same_srv_rate  dst_host_diff_srv_rate  \\\n",
       "0                     0.0                     0.0   \n",
       "1                     1.0                     0.0   \n",
       "2                     1.0                     0.0   \n",
       "3                     1.0                     0.0   \n",
       "4                     1.0                     0.0   \n",
       "\n",
       "   dst_host_same_src_port_rate  dst_host_srv_diff_host_rate  \\\n",
       "0                         0.00                          0.0   \n",
       "1                         1.00                          0.0   \n",
       "2                         0.50                          0.0   \n",
       "3                         0.33                          0.0   \n",
       "4                         0.25                          0.0   \n",
       "\n",
       "   dst_host_serror_rate  dst_host_srv_serror_rate  dst_host_rerror_rate  \\\n",
       "0                   0.0                       0.0                   0.0   \n",
       "1                   0.0                       0.0                   0.0   \n",
       "2                   0.0                       0.0                   0.0   \n",
       "3                   0.0                       0.0                   0.0   \n",
       "4                   0.0                       0.0                   0.0   \n",
       "\n",
       "   dst_host_srv_rerror_rate    Label  \n",
       "0                       0.0  normal.  \n",
       "1                       0.0  normal.  \n",
       "2                       0.0  normal.  \n",
       "3                       0.0  normal.  \n",
       "4                       0.0  normal.  \n",
       "\n",
       "[5 rows x 40 columns]"
      ]
     },
     "execution_count": 3,
     "metadata": {},
     "output_type": "execute_result"
    }
   ],
   "source": [
    "dataset.head()"
   ]
  },
  {
   "cell_type": "code",
   "execution_count": 4,
   "id": "modified-priority",
   "metadata": {},
   "outputs": [
    {
     "data": {
      "text/plain": [
       "(1945562, 40)"
      ]
     },
     "execution_count": 4,
     "metadata": {},
     "output_type": "execute_result"
    }
   ],
   "source": [
    "dataset.shape"
   ]
  },
  {
   "cell_type": "code",
   "execution_count": 5,
   "id": "revolutionary-geometry",
   "metadata": {},
   "outputs": [],
   "source": [
    "# Splitting dataset into features and labels.\n",
    "labels = dataset['Label']\n",
    "features = dataset.loc[:, dataset.columns != 'Label'].astype('float64')"
   ]
  },
  {
   "cell_type": "code",
   "execution_count": 6,
   "id": "hindu-lancaster",
   "metadata": {},
   "outputs": [],
   "source": [
    "# For scaling the data, we use RobustScaler class from sklearn.\n",
    "\n",
    "from sklearn.preprocessing import MinMaxScaler, StandardScaler, RobustScaler"
   ]
  },
  {
   "cell_type": "code",
   "execution_count": 7,
   "id": "active-linux",
   "metadata": {},
   "outputs": [],
   "source": [
    "scaler = RobustScaler()\n",
    "scaler.fit(features)\n",
    "\n",
    "features = scaler.transform(features)"
   ]
  },
  {
   "cell_type": "code",
   "execution_count": 8,
   "id": "technological-observation",
   "metadata": {},
   "outputs": [],
   "source": [
    "from sklearn.preprocessing import LabelEncoder"
   ]
  },
  {
   "cell_type": "code",
   "execution_count": 9,
   "id": "lesbian-monitor",
   "metadata": {},
   "outputs": [],
   "source": [
    "LE = LabelEncoder()\n",
    "\n",
    "LE.fit(labels)\n",
    "labels = LE.transform(labels)"
   ]
  },
  {
   "cell_type": "code",
   "execution_count": 10,
   "id": "earlier-upset",
   "metadata": {},
   "outputs": [
    {
     "data": {
      "text/plain": [
       "array([ 0,  1,  2,  3,  4,  5,  6,  7,  8,  9, 10, 11, 12, 13, 14, 15, 16,\n",
       "       17, 18, 19])"
      ]
     },
     "execution_count": 10,
     "metadata": {},
     "output_type": "execute_result"
    }
   ],
   "source": [
    "# Labels have been replaced with integers.\n",
    "\n",
    "np.unique(labels)"
   ]
  },
  {
   "cell_type": "code",
   "execution_count": 11,
   "id": "improving-sponsorship",
   "metadata": {},
   "outputs": [
    {
     "data": {
      "text/plain": [
       "array(['normal.', 'smurf.', 'neptune.', 'satan.', 'ipsweep.',\n",
       "       'portsweep.', 'back.', 'nmap.', 'warezclient.', 'pod.',\n",
       "       'teardrop.', 'guess_passwd.', 'land.', 'buffer_overflow.',\n",
       "       'warezmaster.', 'multihop.', 'rootkit.', 'loadmodule.', 'phf.',\n",
       "       'ftp_write.'], dtype=object)"
      ]
     },
     "execution_count": 11,
     "metadata": {},
     "output_type": "execute_result"
    }
   ],
   "source": [
    "# Checking that encoding reversal works.\n",
    "\n",
    "d = LE.inverse_transform(labels)\n",
    "d = pd.Series(d)\n",
    "d.unique()"
   ]
  },
  {
   "cell_type": "markdown",
   "id": "veterinary-vegetable",
   "metadata": {},
   "source": [
    "### Performing cross validation for neural network with 1 layer"
   ]
  },
  {
   "cell_type": "code",
   "execution_count": 12,
   "id": "latest-limit",
   "metadata": {},
   "outputs": [],
   "source": [
    "from keras.wrappers.scikit_learn import KerasClassifier\n",
    "from sklearn.model_selection import StratifiedKFold\n",
    "from sklearn.model_selection import cross_val_score"
   ]
  },
  {
   "cell_type": "code",
   "execution_count": 29,
   "id": "stopped-facing",
   "metadata": {},
   "outputs": [],
   "source": [
    "# Function used to create the model needed for KerasClassifier\n",
    "def create_model():\n",
    "    # Compile model\n",
    "    dnn1= Sequential()\n",
    "    dnn1.add(Dense(256,input_dim=39 ,activation='relu'))\n",
    "    dnn1.add(Dropout(0.1))\n",
    "    dnn1.add(Dense(20, activation='softmax'))\n",
    "    \n",
    "    # Compile model\n",
    "    dnn1.compile(loss='sparse_categorical_crossentropy', optimizer='adam', metrics=['accuracy'])\n",
    "    return dnn1"
   ]
  },
  {
   "cell_type": "code",
   "execution_count": 30,
   "id": "suitable-edgar",
   "metadata": {},
   "outputs": [],
   "source": [
    "# fix random seed for reproducibility\n",
    "seed = 7\n",
    "np.random.seed(seed)"
   ]
  },
  {
   "cell_type": "code",
   "execution_count": 31,
   "id": "scenic-genre",
   "metadata": {},
   "outputs": [],
   "source": [
    "# create model\n",
    "model = KerasClassifier( build_fn=create_model, epochs= 30, batch_size=64, verbose=0)"
   ]
  },
  {
   "cell_type": "code",
   "execution_count": 32,
   "id": "scheduled-latest",
   "metadata": {},
   "outputs": [],
   "source": [
    "# 3-fold cross validation\n",
    "# StratifiedKFold is a variation of Kfold that first shuffles the data with a given random state\n",
    "kfold = StratifiedKFold(n_splits= 3, shuffle=True, random_state=seed)"
   ]
  },
  {
   "cell_type": "code",
   "execution_count": 33,
   "id": "delayed-wagon",
   "metadata": {},
   "outputs": [
    {
     "name": "stdout",
     "output_type": "stream",
     "text": [
      "0.9996571684529582\n"
     ]
    },
    {
     "data": {
      "text/plain": [
       "array([0.99966077, 0.9996839 , 0.99962684])"
      ]
     },
     "execution_count": 33,
     "metadata": {},
     "output_type": "execute_result"
    }
   ],
   "source": [
    "# Printing the mean accuracy value for the 3 folds\n",
    "results = cross_val_score(model, features, labels, cv=kfold,scoring='accuracy', error_score=\"raise\")\n",
    "print(results.mean())\n",
    "results"
   ]
  },
  {
   "cell_type": "markdown",
   "id": "continuing-greece",
   "metadata": {},
   "source": [
    "### Performing cross validation for neural network with 2 layers"
   ]
  },
  {
   "cell_type": "code",
   "execution_count": 34,
   "id": "cheap-review",
   "metadata": {},
   "outputs": [],
   "source": [
    "# Function used to create the model needed for KerasClassifier\n",
    "def create_model_dnn2():\n",
    "    # Compile model\n",
    "    model= Sequential()\n",
    "    model.add(Dense(256,input_dim=39 ,activation='relu'))\n",
    "    model.add(Dropout(0.1))\n",
    "    model.add(Dense(128, activation='relu'))\n",
    "    model.add(Dropout(0.1))\n",
    "    model.add(Dense(20, activation='softmax'))\n",
    "    \n",
    "    # Compile model\n",
    "    model.compile(loss='sparse_categorical_crossentropy', optimizer='adam', metrics=['accuracy'])\n",
    "    return model\n"
   ]
  },
  {
   "cell_type": "code",
   "execution_count": 35,
   "id": "underlying-april",
   "metadata": {},
   "outputs": [],
   "source": [
    "# fix random seed for reproducibility\n",
    "seed = 7\n",
    "np.random.seed(seed)"
   ]
  },
  {
   "cell_type": "code",
   "execution_count": 36,
   "id": "respiratory-consensus",
   "metadata": {},
   "outputs": [],
   "source": [
    "# create model\n",
    "model = KerasClassifier( build_fn=create_model_dnn2, epochs= 30, batch_size=64, verbose=0)"
   ]
  },
  {
   "cell_type": "code",
   "execution_count": 37,
   "id": "balanced-jacob",
   "metadata": {},
   "outputs": [],
   "source": [
    "# 3-fold cross validation\n",
    "# StratifiedKFold is a variation of Kfold that first shuffles the data with a given random state\n",
    "kfold = StratifiedKFold(n_splits= 3, shuffle=True, random_state=seed)"
   ]
  },
  {
   "cell_type": "code",
   "execution_count": 38,
   "id": "first-vegetable",
   "metadata": {},
   "outputs": [
    {
     "name": "stdout",
     "output_type": "stream",
     "text": [
      "0.9996695042423985\n"
     ]
    },
    {
     "data": {
      "text/plain": [
       "array([0.99964843, 0.99967773, 0.99968235])"
      ]
     },
     "execution_count": 38,
     "metadata": {},
     "output_type": "execute_result"
    }
   ],
   "source": [
    "# Printing the mean accuracy value for the 3 folds\n",
    "results = cross_val_score(model, features, labels, cv=kfold,scoring='accuracy', error_score=\"raise\")\n",
    "print(results.mean())\n",
    "results"
   ]
  },
  {
   "cell_type": "markdown",
   "id": "protected-repair",
   "metadata": {},
   "source": [
    "### Performing cross validation for neural network with 3 layers"
   ]
  },
  {
   "cell_type": "code",
   "execution_count": 39,
   "id": "paperback-daisy",
   "metadata": {},
   "outputs": [],
   "source": [
    "# Function used to create the model needed for KerasClassifier\n",
    "def create_model_dnn3():\n",
    "    # Compile model\n",
    "    model= Sequential()\n",
    "    model.add(Dense(256,input_dim=39 ,activation='relu'))\n",
    "    model.add(Dropout(0.1))\n",
    "    model.add(Dense(128, activation='relu'))\n",
    "    model.add(Dropout(0.1))\n",
    "    model.add(Dense(64, activation='relu'))\n",
    "    model.add(Dropout(0.1))\n",
    "    model.add(Dense(20, activation='softmax'))\n",
    "    \n",
    "    # Compile model\n",
    "    model.compile(loss='sparse_categorical_crossentropy', optimizer='adam', metrics=['accuracy'])\n",
    "    return model\n"
   ]
  },
  {
   "cell_type": "code",
   "execution_count": 40,
   "id": "proud-leisure",
   "metadata": {},
   "outputs": [],
   "source": [
    "# fix random seed for reproducibility\n",
    "seed = 7\n",
    "np.random.seed(seed)"
   ]
  },
  {
   "cell_type": "code",
   "execution_count": 41,
   "id": "sunrise-radical",
   "metadata": {},
   "outputs": [],
   "source": [
    "# create model\n",
    "model = KerasClassifier( build_fn=create_model_dnn3, epochs= 30, batch_size=64, verbose=0)"
   ]
  },
  {
   "cell_type": "code",
   "execution_count": 42,
   "id": "headed-video",
   "metadata": {},
   "outputs": [],
   "source": [
    "# 3-fold cross validation\n",
    "# StratifiedKFold is a variation of Kfold that first shuffles the data with a given random state\n",
    "kfold = StratifiedKFold(n_splits= 3, shuffle=True, random_state=seed)"
   ]
  },
  {
   "cell_type": "code",
   "execution_count": 43,
   "id": "rubber-detective",
   "metadata": {},
   "outputs": [
    {
     "name": "stdout",
     "output_type": "stream",
     "text": [
      "0.9993158788482903\n"
     ]
    },
    {
     "data": {
      "text/plain": [
       "array([0.99934004, 0.99940788, 0.99919972])"
      ]
     },
     "execution_count": 43,
     "metadata": {},
     "output_type": "execute_result"
    }
   ],
   "source": [
    "# Printing the mean accuracy value for the 3 folds\n",
    "results = cross_val_score(model, features, labels, cv=kfold,scoring='accuracy', error_score=\"raise\")\n",
    "print(results.mean())\n",
    "results"
   ]
  },
  {
   "cell_type": "markdown",
   "id": "higher-belly",
   "metadata": {},
   "source": [
    "### Performing cross validation for recurrent neural network with 1 layer"
   ]
  },
  {
   "cell_type": "code",
   "execution_count": 50,
   "id": "dirty-desktop",
   "metadata": {},
   "outputs": [],
   "source": [
    "# Function used to create the model needed for KerasClassifier\n",
    "def create_model_rnn1():\n",
    "    # create model\n",
    "    SEED = 1040941203\n",
    "    hidden_initializer = random_uniform(seed=SEED)\n",
    "\n",
    "    # Initialising the RNN\n",
    "    rnn1 = Sequential()\n",
    "\n",
    "    # Adding the first RNN layer and some Dropout regularisation\n",
    "    rnn1.add(SimpleRNN(units = 64,input_shape=(39, 1), activation='relu', return_sequences = True,))\n",
    "    rnn1.add(Dropout(0.3))\n",
    "\n",
    "    # Adding the output layer\n",
    "    rnn1.add(Flatten())\n",
    "    rnn1.add(Dense(64, input_dim=39, kernel_initializer=hidden_initializer))\n",
    "    rnn1.add(LeakyReLU(alpha=0.1))\n",
    "    rnn1.add(Dense(32))\n",
    "    rnn1.add(LeakyReLU(alpha=0.1))\n",
    "    rnn1.add(Dense(units = 20, activation='softmax'))\n",
    "    \n",
    "    # Compile model\n",
    "    rnn1.compile(loss='sparse_categorical_crossentropy', optimizer='adam', metrics=['accuracy'])\n",
    "    return rnn1\n"
   ]
  },
  {
   "cell_type": "code",
   "execution_count": 51,
   "id": "sonic-angle",
   "metadata": {},
   "outputs": [],
   "source": [
    "# create model\n",
    "rnn1 = KerasClassifier( build_fn=create_model_rnn1, epochs= 30, batch_size=512, verbose=0)"
   ]
  },
  {
   "cell_type": "code",
   "execution_count": 52,
   "id": "blond-stocks",
   "metadata": {},
   "outputs": [],
   "source": [
    "# 3-fold cross validation\n",
    "Three_kfold = StratifiedKFold(n_splits= 3, shuffle=True, random_state=seed)"
   ]
  },
  {
   "cell_type": "code",
   "execution_count": 53,
   "id": "found-creation",
   "metadata": {},
   "outputs": [],
   "source": [
    "ft_train = np.array(features).reshape(features.shape[0], features.shape[1], 1)\n",
    "ft_labels= to_categorical(labels)"
   ]
  },
  {
   "cell_type": "code",
   "execution_count": 55,
   "id": "assisted-mount",
   "metadata": {},
   "outputs": [
    {
     "name": "stdout",
     "output_type": "stream",
     "text": [
      "0.9995934337825799\n"
     ]
    }
   ],
   "source": [
    "# Printing the mean accuracy value for the 3 folds\n",
    "results_rnn1 = cross_val_score(rnn1, ft_train, labels, cv=Three_kfold,scoring='accuracy', error_score=\"raise\")\n",
    "print(results_rnn1.mean())"
   ]
  },
  {
   "cell_type": "markdown",
   "id": "invalid-harvey",
   "metadata": {},
   "source": [
    "### Performing cross validation for recurrent neural network with 2 layer"
   ]
  },
  {
   "cell_type": "code",
   "execution_count": null,
   "id": "trained-classroom",
   "metadata": {},
   "outputs": [],
   "source": [
    "# Function used to create the model needed for KerasClassifier\n",
    "def create_model_rnn2():\n",
    "    # create model\n",
    "    SEED = 1040941203\n",
    "    hidden_initializer = random_uniform(seed=SEED)\n",
    "\n",
    "    # Initialising the RNN\n",
    "    rnn2 = Sequential()\n",
    "\n",
    "    # Adding the first RNN layer and some Dropout regularisation\n",
    "    rnn2.add(SimpleRNN(units = 32,activation='relu', return_sequences = True,  input_shape = (39,1)))\n",
    "    rnn2.add(Dropout(0.3))\n",
    "\n",
    "    # Adding the first RNN layer and some Dropout regularisation\n",
    "    rnn2.add(SimpleRNN(units = 32,activation='relu', return_sequences = True,  ))\n",
    "    rnn2.add(Dropout(0.3))\n",
    "\n",
    "    # Adding the output layer\n",
    "    rnn2.add(Flatten())\n",
    "    rnn2.add(Dense(64, input_dim=39, kernel_initializer=hidden_initializer))\n",
    "    rnn2.add(LeakyReLU(alpha=0.1))\n",
    "    rnn2.add(Dense(32))\n",
    "    rnn2.add(LeakyReLU(alpha=0.1))\n",
    "    rnn2.add(Dense(units = 20, activation='softmax'))\n",
    "    \n",
    "    # Compile model\n",
    "    rnn2.compile(loss='sparse_categorical_crossentropy', optimizer='adam', metrics=['accuracy'])\n",
    "    return rnn2\n"
   ]
  },
  {
   "cell_type": "code",
   "execution_count": null,
   "id": "allied-chosen",
   "metadata": {},
   "outputs": [],
   "source": [
    "# create model\n",
    "rnn2 = KerasClassifier( build_fn=create_model_rnn2, epochs= 30, batch_size=1000, verbose=0)"
   ]
  },
  {
   "cell_type": "code",
   "execution_count": null,
   "id": "dental-medication",
   "metadata": {},
   "outputs": [],
   "source": [
    "# 3-fold cross validation\n",
    "Three_kfold = StratifiedKFold(n_splits= 3, shuffle=True, random_state=seed)"
   ]
  },
  {
   "cell_type": "code",
   "execution_count": null,
   "id": "taken-thompson",
   "metadata": {},
   "outputs": [],
   "source": [
    "ft_train = np.array(features).reshape(features.shape[0], features.shape[1], 1)\n",
    "ft_labels= to_categorical(labels)"
   ]
  },
  {
   "cell_type": "code",
   "execution_count": null,
   "id": "ranking-imaging",
   "metadata": {},
   "outputs": [],
   "source": [
    "# Printing the mean accuracy value for the 3 folds\n",
    "results_rnn2 = cross_val_score(rnn2, ft_train, labels, cv=Three_kfold,scoring='accuracy', error_score=\"raise\")\n",
    "print(results_rnn2.mean())"
   ]
  },
  {
   "cell_type": "markdown",
   "id": "governmental-peace",
   "metadata": {},
   "source": [
    "### Performing cross validation for recurrent neural network with 3 layer"
   ]
  },
  {
   "cell_type": "code",
   "execution_count": null,
   "id": "delayed-passage",
   "metadata": {},
   "outputs": [],
   "source": [
    "# Function used to create the model needed for KerasClassifier\n",
    "def create_model_rnn3():\n",
    "    # create model\n",
    "    SEED = 1040941203\n",
    "    hidden_initializer = random_uniform(seed=SEED)\n",
    "\n",
    "    # Initialising the RNN\n",
    "    rnn3 = Sequential()\n",
    "\n",
    "    # Adding the first RNN layer and some Dropout regularisation\n",
    "    rnn3.add(SimpleRNN(units = 32,activation='relu', return_sequences = True,  input_shape = (39,1)))\n",
    "    rnn3.add(Dropout(0.3))\n",
    "\n",
    "    # Adding the first RNN layer and some Dropout regularisation\n",
    "    rnn3.add(SimpleRNN(units = 32,activation='relu', return_sequences = True,  ))\n",
    "    rnn3.add(Dropout(0.3))\n",
    "    \n",
    "    # Adding a third RNN layer and some Dropout regularisation\n",
    "    rnn3.add(SimpleRNN(units = 32,activation='relu', return_sequences = True))\n",
    "    rnn3.add(Dropout(0.1))\n",
    "\n",
    "    # Adding the output layer\n",
    "    rnn3.add(Flatten())\n",
    "    rnn3.add(Dense(64, input_dim=39, kernel_initializer=hidden_initializer))\n",
    "    rnn3.add(LeakyReLU(alpha=0.1))\n",
    "    rnn3.add(Dense(32))\n",
    "    rnn3.add(LeakyReLU(alpha=0.1))\n",
    "    rnn3.add(Dense(units = 20, activation='softmax'))\n",
    "    \n",
    "    # Compile model\n",
    "    rnn3.compile(loss='sparse_categorical_crossentropy', optimizer='adam', metrics=['accuracy'])\n",
    "    return rnn3\n"
   ]
  },
  {
   "cell_type": "code",
   "execution_count": null,
   "id": "suited-place",
   "metadata": {},
   "outputs": [],
   "source": [
    "# create model\n",
    "rnn3 = KerasClassifier( build_fn=create_model_rnn3, epochs= 30, batch_size=1000, verbose=0)"
   ]
  },
  {
   "cell_type": "code",
   "execution_count": null,
   "id": "documentary-polish",
   "metadata": {},
   "outputs": [],
   "source": [
    "# 3-fold cross validation\n",
    "Three_kfold = StratifiedKFold(n_splits= 3, shuffle=True, random_state=seed)"
   ]
  },
  {
   "cell_type": "code",
   "execution_count": null,
   "id": "strategic-evidence",
   "metadata": {},
   "outputs": [],
   "source": [
    "ft_train = np.array(features).reshape(features.shape[0], features.shape[1], 1)\n",
    "ft_labels= to_categorical(labels)"
   ]
  },
  {
   "cell_type": "code",
   "execution_count": null,
   "id": "invalid-polymer",
   "metadata": {},
   "outputs": [],
   "source": [
    "# Printing the mean accuracy value for the 3 folds\n",
    "results_rnn3 = cross_val_score(rnn3, ft_train, labels, cv=Three_kfold,scoring='accuracy', error_score=\"raise\")\n",
    "print(results_rnn3.mean())"
   ]
  },
  {
   "cell_type": "markdown",
   "id": "natural-brook",
   "metadata": {},
   "source": [
    "### Performing cross validation for convolutional neural network with 1 layer"
   ]
  },
  {
   "cell_type": "code",
   "execution_count": null,
   "id": "consecutive-funds",
   "metadata": {},
   "outputs": [],
   "source": [
    "# 3-fold cross validation\n",
    "Three_kfold = StratifiedKFold(n_splits= 3, shuffle=True, random_state=seed)"
   ]
  },
  {
   "cell_type": "code",
   "execution_count": null,
   "id": "aerial-prayer",
   "metadata": {},
   "outputs": [],
   "source": [
    "y_train= to_categorical(labels)\n",
    "X_train = np.array(features).reshape(features.shape[0], features.shape[1], 1)"
   ]
  },
  {
   "cell_type": "code",
   "execution_count": null,
   "id": "first-doctor",
   "metadata": {},
   "outputs": [],
   "source": [
    "# Function used to create the model needed for KerasClassifier\n",
    "def create_model_cnn1():\n",
    "    # create model\n",
    "    SEED = 1040941203\n",
    "    hidden_initializer = random_uniform(seed=SEED)\n",
    "\n",
    "    cnn1 = Sequential()\n",
    "    cnn1.add(Conv1D(64, 3,input_shape=(39, 1) ))\n",
    "    cnn1.add(LeakyReLU(alpha=0.1))\n",
    "    cnn1.add(MaxPooling1D(pool_size=2))\n",
    "    cnn1.add(Dropout(0.3))\n",
    "\n",
    "    cnn1.add(Flatten())\n",
    "    cnn1.add(Dense(64, input_dim=39, kernel_initializer=hidden_initializer))\n",
    "    cnn1.add(LeakyReLU(alpha=0.1))\n",
    "\n",
    "    cnn1.add(Dense(20, activation='softmax'))\n",
    "    \n",
    "    # Compile model\n",
    "    cnn1.compile(loss='sparse_categorical_crossentropy', optimizer='adam', metrics=['accuracy'])\n",
    "    return cnn1\n"
   ]
  },
  {
   "cell_type": "code",
   "execution_count": null,
   "id": "elect-stupid",
   "metadata": {},
   "outputs": [],
   "source": [
    "# create model\n",
    "cnn1 = KerasClassifier( build_fn=create_model_cnn1, epochs= 30, batch_size=256, verbose=0)"
   ]
  },
  {
   "cell_type": "code",
   "execution_count": null,
   "id": "contrary-prague",
   "metadata": {},
   "outputs": [],
   "source": [
    "# Printing the mean accuracy value for the 5 folds\n",
    "results_cnn1 = cross_val_score(cnn1, X_train, labels, cv=kfold,scoring='accuracy', error_score=\"raise\")\n",
    "print(results_cnn1.mean())\n",
    "results_cnn1"
   ]
  },
  {
   "cell_type": "markdown",
   "id": "overhead-piece",
   "metadata": {},
   "source": [
    "### Performing cross validation for convolutional neural network with 2 layer"
   ]
  },
  {
   "cell_type": "code",
   "execution_count": null,
   "id": "persistent-device",
   "metadata": {},
   "outputs": [],
   "source": [
    "# Function used to create the model needed for KerasClassifier\n",
    "def create_model_cnn2():\n",
    "    # create model\n",
    "    SEED = 1040941203\n",
    "    hidden_initializer = random_uniform(seed=SEED)\n",
    "\n",
    "    cnn2 = Sequential()\n",
    "    cnn2.add(Conv1D(64, 3,input_shape=(39, 1) ))\n",
    "    cnn2.add(LeakyReLU(alpha=0.1))\n",
    "    cnn2.add(MaxPooling1D(pool_size=2))\n",
    "    cnn2.add(Dropout(0.3))\n",
    "\n",
    "    cnn2.add(Conv1D(32, 1))\n",
    "    cnn2.add(LeakyReLU(alpha=0.1))\n",
    "    cnn2.add(MaxPooling1D(pool_size=2))\n",
    "    cnn2.add(Dropout(0.3))\n",
    "\n",
    "    cnn2.add(Flatten())\n",
    "    cnn2.add(Dense(64, input_dim=39, kernel_initializer=hidden_initializer))\n",
    "    cnn2.add(LeakyReLU(alpha=0.1))\n",
    "\n",
    "    cnn2.add(Dense(20, activation='softmax'))\n",
    "    \n",
    "    # Compile model\n",
    "    cnn2.compile(loss='sparse_categorical_crossentropy', optimizer='adam', metrics=['accuracy'])\n",
    "    return cnn2\n"
   ]
  },
  {
   "cell_type": "code",
   "execution_count": null,
   "id": "inappropriate-penetration",
   "metadata": {},
   "outputs": [],
   "source": [
    "# create model\n",
    "cnn2 = KerasClassifier(build_fn=create_model_cnn2, epochs= 30, batch_size=512, verbose=0)"
   ]
  },
  {
   "cell_type": "code",
   "execution_count": null,
   "id": "aquatic-bahamas",
   "metadata": {},
   "outputs": [],
   "source": [
    "# Printing the mean accuracy value for the 3 folds\n",
    "results_cnn2 = cross_val_score(cnn2, X_train, labels, cv=Three_kfold,scoring='accuracy', error_score=\"raise\")\n",
    "print(results_cnn2.mean())\n",
    "results_cnn2"
   ]
  },
  {
   "cell_type": "markdown",
   "id": "differential-blanket",
   "metadata": {},
   "source": [
    "### Performing cross validation for convolutional neural network with 3 layer"
   ]
  },
  {
   "cell_type": "code",
   "execution_count": null,
   "id": "gothic-cisco",
   "metadata": {},
   "outputs": [],
   "source": [
    "# Function used to create the model needed for KerasClassifier\n",
    "def create_model_cnn3():\n",
    "    # create model\n",
    "    SEED = 1040941203\n",
    "    hidden_initializer = random_uniform(seed=SEED)\n",
    "\n",
    "    cnn3 = Sequential()\n",
    "    cnn3.add(Conv1D(64, 3,input_shape=(39, 1) ))\n",
    "    cnn3.add(LeakyReLU(alpha=0.1))\n",
    "    cnn3.add(MaxPooling1D(pool_size=2))\n",
    "    cnn3.add(Dropout(0.3))\n",
    "\n",
    "    cnn3.add(Conv1D(64, 1))\n",
    "    cnn3.add(LeakyReLU(alpha=0.1))\n",
    "    cnn3.add(MaxPooling1D(pool_size=2))\n",
    "    cnn3.add(Dropout(0.3))\n",
    "\n",
    "    cnn3.add(Conv1D(64, 1))\n",
    "    cnn3.add(LeakyReLU(alpha=0.1))\n",
    "    cnn3.add(MaxPooling1D(pool_size=2))\n",
    "    cnn3.add(Dropout(0.3))\n",
    "\n",
    "\n",
    "    cnn3.add(Flatten())\n",
    "    cnn3.add(Dense(64, input_dim=39, kernel_initializer=hidden_initializer))\n",
    "    cnn3.add(LeakyReLU(alpha=0.1))\n",
    "\n",
    "    cnn3.add(Dense(20, activation='softmax'))\n",
    "    \n",
    "    # Compile model\n",
    "    cnn3.compile(loss='sparse_categorical_crossentropy', optimizer='adam', metrics=['accuracy'])\n",
    "    return cnn3\n"
   ]
  },
  {
   "cell_type": "code",
   "execution_count": null,
   "id": "broad-clinic",
   "metadata": {},
   "outputs": [],
   "source": [
    "# create model\n",
    "cnn3 = KerasClassifier( build_fn=create_model_cnn3, epochs= 30, batch_size=512, verbose=0)"
   ]
  },
  {
   "cell_type": "code",
   "execution_count": null,
   "id": "reduced-drawing",
   "metadata": {},
   "outputs": [],
   "source": [
    "# Printing the mean accuracy value for the 3 folds\n",
    "results_cnn3 = cross_val_score(cnn3, X_train, labels, cv=Three_kfold,scoring='accuracy', error_score=\"raise\")\n",
    "print(results_cnn3.mean())\n",
    "results_cnn3"
   ]
  }
 ],
 "metadata": {
  "kernelspec": {
   "display_name": "Python 3",
   "language": "python",
   "name": "python3"
  },
  "language_info": {
   "codemirror_mode": {
    "name": "ipython",
    "version": 3
   },
   "file_extension": ".py",
   "mimetype": "text/x-python",
   "name": "python",
   "nbconvert_exporter": "python",
   "pygments_lexer": "ipython3",
   "version": "3.7.4"
  }
 },
 "nbformat": 4,
 "nbformat_minor": 5
}
