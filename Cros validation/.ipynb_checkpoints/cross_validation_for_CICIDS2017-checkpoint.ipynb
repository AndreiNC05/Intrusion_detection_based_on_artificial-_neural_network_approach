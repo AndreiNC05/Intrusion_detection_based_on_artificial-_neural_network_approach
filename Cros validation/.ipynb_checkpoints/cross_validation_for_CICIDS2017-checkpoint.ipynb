{
 "cells": [
  {
   "cell_type": "code",
   "execution_count": 1,
   "id": "demonstrated-application",
   "metadata": {},
   "outputs": [],
   "source": [
    "import numpy as np # linear algebra\n",
    "import pandas as pd # data processing, CSV file I/O (e.g. pd.read_csv)\n",
    "import seaborn as sns\n",
    "import matplotlib.pyplot as plt\n",
    "import glob\n",
    "\n",
    "from sklearn.metrics import confusion_matrix\n",
    "import itertools\n",
    "\n",
    "from sklearn.metrics import make_scorer, accuracy_score, precision_score, recall_score, f1_score, confusion_matrix, classification_report\n",
    "\n",
    "import tensorflow as tf\n",
    "from tensorflow import keras\n",
    "from keras.models import Sequential\n",
    "from keras.layers import Dense, Flatten, Conv1D, MaxPool1D\n",
    "from keras.initializers import random_uniform\n",
    "from keras.layers.advanced_activations import LeakyReLU\n",
    "from keras.callbacks import EarlyStopping\n",
    "\n",
    "from sklearn.model_selection import train_test_split\n",
    "from sklearn.preprocessing import StandardScaler as SS\n",
    "\n",
    "from sklearn.model_selection import train_test_split\n",
    "from keras.models import Sequential\n",
    "from keras.preprocessing.text import Tokenizer\n",
    "from matplotlib import pyplot as plt\n",
    "from keras.preprocessing.sequence import pad_sequences\n",
    "from keras.layers import Embedding,Dense,LSTM,Dropout,Flatten,BatchNormalization,Conv1D,GlobalMaxPooling1D,MaxPooling1D\n",
    "from keras.optimizers import  SGD\n",
    "import matplotlib.pyplot as plt\n",
    "from keras.regularizers import l2\n",
    "from keras.optimizers import Adam\n",
    "from keras import regularizers\n",
    "from keras.callbacks import EarlyStopping\n",
    "from sklearn.preprocessing import OneHotEncoder\n",
    "from keras.preprocessing import sequence\n",
    "from keras.layers import SimpleRNN\n",
    "#from hyperas.distributions import uniform\n",
    "\n",
    "from keras.utils.np_utils import to_categorical\n",
    "from keras import regularizers\n",
    "import pandas as pd\n",
    "import string\n",
    "import numpy as np\n",
    "import matplotlib.pyplot as plt\n",
    "\n",
    "# import warnings\n",
    "import warnings\n",
    "# filter warnings\n",
    "warnings.filterwarnings('ignore')"
   ]
  },
  {
   "cell_type": "markdown",
   "id": "lined-basic",
   "metadata": {},
   "source": [
    "## Importing the dataset"
   ]
  },
  {
   "cell_type": "code",
   "execution_count": 2,
   "id": "short-thanksgiving",
   "metadata": {},
   "outputs": [],
   "source": [
    "dataset = pd.read_csv(r'...') # Use your path"
   ]
  },
  {
   "cell_type": "code",
   "execution_count": 3,
   "id": "tutorial-selection",
   "metadata": {},
   "outputs": [
    {
     "data": {
      "text/plain": [
       "(780444, 79)"
      ]
     },
     "execution_count": 3,
     "metadata": {},
     "output_type": "execute_result"
    }
   ],
   "source": [
    "dataset.shape"
   ]
  },
  {
   "cell_type": "code",
   "execution_count": 4,
   "id": "upset-millennium",
   "metadata": {},
   "outputs": [],
   "source": [
    "# Splitting dataset into features and labels.\n",
    "\n",
    "labels = dataset['Label']\n",
    "features = dataset.loc[:, dataset.columns != 'Label'].astype('float64')"
   ]
  },
  {
   "cell_type": "code",
   "execution_count": 5,
   "id": "portuguese-stuff",
   "metadata": {},
   "outputs": [
    {
     "data": {
      "text/plain": [
       "((780444, 78), (780444,))"
      ]
     },
     "execution_count": 5,
     "metadata": {},
     "output_type": "execute_result"
    }
   ],
   "source": [
    "features.shape , labels.shape"
   ]
  },
  {
   "cell_type": "code",
   "execution_count": 6,
   "id": "seasonal-alfred",
   "metadata": {},
   "outputs": [],
   "source": [
    "# using Robust Scalar to scale data \n",
    "from sklearn.preprocessing import MinMaxScaler, StandardScaler, RobustScaler"
   ]
  },
  {
   "cell_type": "code",
   "execution_count": 7,
   "id": "enhanced-ethnic",
   "metadata": {},
   "outputs": [],
   "source": [
    "scaler = RobustScaler()\n",
    "scaler.fit(features)\n",
    "features = scaler.transform(features)"
   ]
  },
  {
   "cell_type": "code",
   "execution_count": 8,
   "id": "impressive-raise",
   "metadata": {},
   "outputs": [
    {
     "data": {
      "text/plain": [
       "array([ 0.00000000e+00,  1.31413515e-02,  0.00000000e+00,  1.00000000e+00,\n",
       "       -1.09422492e-01,  9.82224523e-01, -5.57275542e-02,  0.00000000e+00,\n",
       "       -5.33844189e-01,  5.55784845e-02,  1.31581374e+00,  0.00000000e+00,\n",
       "        9.34995239e-01,  1.21265083e+00,  1.92547676e-01, -4.13681964e-03,\n",
       "        1.80856446e-02,  6.11115735e-02,  5.23538913e-02, -4.00000000e-02,\n",
       "       -3.64567391e-04, -1.45444474e-03, -1.29167260e-03, -1.29024345e-03,\n",
       "        0.00000000e+00,  3.10008255e+00,  2.54122644e+00,  5.44866787e+00,\n",
       "        4.36669347e+00, -2.08333333e-02,  0.00000000e+00,  0.00000000e+00,\n",
       "        0.00000000e+00,  0.00000000e+00, -5.55555556e-02,  4.88888889e-01,\n",
       "       -3.70179592e-03,  3.08128303e-02,  0.00000000e+00,  1.30132602e+00,\n",
       "        1.23852347e+00,  1.15557266e+00,  1.41179220e+00,  0.00000000e+00,\n",
       "        0.00000000e+00,  0.00000000e+00,  1.00000000e+00,  0.00000000e+00,\n",
       "        0.00000000e+00,  0.00000000e+00,  0.00000000e+00,  1.00000000e+00,\n",
       "        1.25338954e+00, -5.33844189e-01,  9.34995239e-01, -5.55555556e-02,\n",
       "        0.00000000e+00,  0.00000000e+00,  0.00000000e+00,  0.00000000e+00,\n",
       "        0.00000000e+00,  0.00000000e+00,  0.00000000e+00, -1.09422492e-01,\n",
       "        1.00000000e+00,  9.82224523e-01,  9.68750000e-01,  4.53389831e-01,\n",
       "        3.33333333e-01,  0.00000000e+00,  0.00000000e+00,  0.00000000e+00,\n",
       "        0.00000000e+00,  0.00000000e+00,  0.00000000e+00,  0.00000000e+00,\n",
       "        0.00000000e+00,  0.00000000e+00])"
      ]
     },
     "execution_count": 8,
     "metadata": {},
     "output_type": "execute_result"
    }
   ],
   "source": [
    "# check if scaling was done\n",
    "features[0]"
   ]
  },
  {
   "cell_type": "code",
   "execution_count": 9,
   "id": "critical-london",
   "metadata": {},
   "outputs": [],
   "source": [
    "from sklearn.preprocessing import LabelEncoder"
   ]
  },
  {
   "cell_type": "code",
   "execution_count": 10,
   "id": "atmospheric-syria",
   "metadata": {},
   "outputs": [],
   "source": [
    "LabelEncoder = LabelEncoder()\n",
    "LabelEncoder.fit(labels)\n",
    "labels = LabelEncoder.transform(labels)"
   ]
  },
  {
   "cell_type": "code",
   "execution_count": 11,
   "id": "retired-cabinet",
   "metadata": {},
   "outputs": [
    {
     "data": {
      "text/plain": [
       "array([ 0,  1,  2,  3,  4,  5,  6,  7,  8,  9, 10, 11, 12, 13, 14])"
      ]
     },
     "execution_count": 11,
     "metadata": {},
     "output_type": "execute_result"
    }
   ],
   "source": [
    "# Replacing the labels with integers\n",
    "np.unique(labels)"
   ]
  },
  {
   "cell_type": "code",
   "execution_count": 12,
   "id": "broad-budapest",
   "metadata": {},
   "outputs": [
    {
     "data": {
      "text/plain": [
       "array(['DDoS', 'PortScan', 'Bot', 'Infiltration',\n",
       "       'Web_Attack_Brute_Force', 'Web_Attack_XSS',\n",
       "       'Web_Attack_Sql_Injection', 'FTPPatator', 'SSHPatator',\n",
       "       'DoS_slowloris', 'DoS_Slowhttptest', 'DoS_Hulk', 'DoS_GoldenEye',\n",
       "       'Heartbleed', 'BENIGN'], dtype=object)"
      ]
     },
     "execution_count": 12,
     "metadata": {},
     "output_type": "execute_result"
    }
   ],
   "source": [
    "# Check if reverse encoding works\n",
    "check = LabelEncoder.inverse_transform(labels)\n",
    "check = pd.Series(check)\n",
    "check.unique()"
   ]
  },
  {
   "cell_type": "markdown",
   "id": "spanish-milwaukee",
   "metadata": {},
   "source": [
    "## Performing cross validation for neural network with 1 layer"
   ]
  },
  {
   "cell_type": "code",
   "execution_count": 13,
   "id": "experienced-fashion",
   "metadata": {},
   "outputs": [],
   "source": [
    "from keras.wrappers.scikit_learn import KerasClassifier\n",
    "from sklearn.model_selection import StratifiedKFold\n",
    "from sklearn.model_selection import cross_val_score"
   ]
  },
  {
   "cell_type": "code",
   "execution_count": 14,
   "id": "voluntary-brooks",
   "metadata": {},
   "outputs": [],
   "source": [
    "# Function used to create the model needed for KerasClassifier\n",
    "def create_model():\n",
    "    # Compile model\n",
    "    dnn1= Sequential()\n",
    "    dnn1.add(Dense(256,input_dim=78 ,activation='relu'))\n",
    "    dnn1.add(Dropout(0.1))\n",
    "    dnn1.add(Dense(15, activation='softmax'))\n",
    "    \n",
    "    # Compile model\n",
    "    dnn1.compile(loss='sparse_categorical_crossentropy', optimizer='adam', metrics=['accuracy'])\n",
    "    return dnn1\n"
   ]
  },
  {
   "cell_type": "code",
   "execution_count": 15,
   "id": "environmental-animal",
   "metadata": {},
   "outputs": [],
   "source": [
    "# fix random seed for reproducibility\n",
    "seed = 7\n",
    "np.random.seed(seed)"
   ]
  },
  {
   "cell_type": "code",
   "execution_count": 16,
   "id": "attached-partner",
   "metadata": {},
   "outputs": [],
   "source": [
    "# create model\n",
    "model = KerasClassifier( build_fn=create_model, epochs= 30, batch_size=64, verbose=0)"
   ]
  },
  {
   "cell_type": "code",
   "execution_count": 17,
   "id": "intermediate-emergency",
   "metadata": {},
   "outputs": [],
   "source": [
    "# 5-fold cross validation\n",
    "# StratifiedKFold is a variation of Kfold that first shuffles the data with a given random state\n",
    "kfold = StratifiedKFold(n_splits= 5, shuffle=True, random_state=seed)"
   ]
  },
  {
   "cell_type": "code",
   "execution_count": 18,
   "id": "shaped-conflict",
   "metadata": {},
   "outputs": [
    {
     "name": "stdout",
     "output_type": "stream",
     "text": [
      "0.9591553006219146\n"
     ]
    }
   ],
   "source": [
    "# Printing the mean accuracy value for the 5 folds\n",
    "results = cross_val_score(model, features, labels, cv=kfold,scoring='accuracy', error_score=\"raise\")\n",
    "print(results.mean())"
   ]
  },
  {
   "cell_type": "code",
   "execution_count": 19,
   "id": "dental-parcel",
   "metadata": {},
   "outputs": [
    {
     "data": {
      "text/plain": [
       "array([0.96063143, 0.95854288, 0.95949747, 0.95851085, 0.95859387])"
      ]
     },
     "execution_count": 19,
     "metadata": {},
     "output_type": "execute_result"
    }
   ],
   "source": [
    "results"
   ]
  },
  {
   "cell_type": "markdown",
   "id": "thrown-operator",
   "metadata": {},
   "source": [
    "### Performing cross validation for deep neural network with 2 layers"
   ]
  },
  {
   "cell_type": "code",
   "execution_count": 23,
   "id": "minute-congress",
   "metadata": {},
   "outputs": [],
   "source": [
    "# Function used to create the model needed for KerasClassifier\n",
    "def create_model_dnn2():\n",
    "    # Compile model\n",
    "    model= Sequential()\n",
    "    model.add(Dense(256,input_dim=78 ,activation='relu'))\n",
    "    model.add(Dropout(0.1))\n",
    "    model.add(Dense(128, activation='relu'))\n",
    "    model.add(Dropout(0.1))\n",
    "    model.add(Dense(15, activation='softmax'))\n",
    "    \n",
    "    # Compile model\n",
    "    model.compile(loss='sparse_categorical_crossentropy', optimizer='adam', metrics=['accuracy'])\n",
    "    return model\n"
   ]
  },
  {
   "cell_type": "code",
   "execution_count": 24,
   "id": "possible-advocacy",
   "metadata": {},
   "outputs": [],
   "source": [
    "# create model\n",
    "dnn2 = KerasClassifier( build_fn=create_model_dnn2, epochs= 30, batch_size=64, verbose=0)"
   ]
  },
  {
   "cell_type": "code",
   "execution_count": 25,
   "id": "consistent-diesel",
   "metadata": {},
   "outputs": [
    {
     "name": "stdout",
     "output_type": "stream",
     "text": [
      "0.9421021817641699\n"
     ]
    }
   ],
   "source": [
    "# Printing the mean accuracy value for the 5 folds\n",
    "results_dnn2 = cross_val_score(dnn2, features, labels, cv=kfold,scoring='accuracy', error_score=\"raise\")\n",
    "print(results_dnn2.mean())"
   ]
  },
  {
   "cell_type": "code",
   "execution_count": 26,
   "id": "incomplete-integral",
   "metadata": {},
   "outputs": [
    {
     "data": {
      "text/plain": [
       "array([0.95109201, 0.94067487, 0.94102723, 0.94046986, 0.93724694])"
      ]
     },
     "execution_count": 26,
     "metadata": {},
     "output_type": "execute_result"
    }
   ],
   "source": [
    "results_dnn2"
   ]
  },
  {
   "cell_type": "markdown",
   "id": "boolean-rouge",
   "metadata": {},
   "source": [
    "### Performing cross validation for deep neural network with 3 layers"
   ]
  },
  {
   "cell_type": "code",
   "execution_count": 27,
   "id": "unique-arcade",
   "metadata": {},
   "outputs": [],
   "source": [
    "# Function used to create the model needed for KerasClassifier\n",
    "def create_model_dnn3():\n",
    "    # Compile model\n",
    "    model= Sequential()\n",
    "    model.add(Dense(256,input_dim=78 ,activation='relu'))\n",
    "    model.add(Dropout(0.01))\n",
    "    model.add(Dense(128, activation='relu'))\n",
    "    model.add(Dropout(0.01))\n",
    "    model.add(Dense(64, activation='relu'))\n",
    "    model.add(Dropout(0.01))\n",
    "    model.add(Dense(15, activation='softmax'))\n",
    "    \n",
    "    # Compile model\n",
    "    model.compile(loss='sparse_categorical_crossentropy', optimizer='adam', metrics=['accuracy'])\n",
    "    return model\n"
   ]
  },
  {
   "cell_type": "code",
   "execution_count": 28,
   "id": "recreational-james",
   "metadata": {},
   "outputs": [],
   "source": [
    "# create model\n",
    "dnn3 = KerasClassifier( build_fn=create_model_dnn2, epochs= 30, batch_size=128, verbose=0)"
   ]
  },
  {
   "cell_type": "code",
   "execution_count": 29,
   "id": "devoted-relationship",
   "metadata": {},
   "outputs": [
    {
     "name": "stdout",
     "output_type": "stream",
     "text": [
      "0.9500643265660361\n"
     ]
    },
    {
     "data": {
      "text/plain": [
       "array([0.95109201, 0.94067487, 0.94102723, 0.94046986, 0.93724694])"
      ]
     },
     "execution_count": 29,
     "metadata": {},
     "output_type": "execute_result"
    }
   ],
   "source": [
    "# Printing the mean accuracy value for the 5 folds\n",
    "results_dnn3 = cross_val_score(dnn3, features, labels, cv=kfold,scoring='accuracy', error_score=\"raise\")\n",
    "print(results_dnn3.mean())\n",
    "results_dnn2"
   ]
  },
  {
   "cell_type": "markdown",
   "id": "recreational-stopping",
   "metadata": {},
   "source": [
    "## Performing cross validation for convolutional neural network with 1 layer"
   ]
  },
  {
   "cell_type": "code",
   "execution_count": 30,
   "id": "directed-netscape",
   "metadata": {},
   "outputs": [],
   "source": [
    "# Function used to create the model needed for KerasClassifier\n",
    "def create_model_cnn1():\n",
    "    # create model\n",
    "    SEED = 1040941203\n",
    "    hidden_initializer = random_uniform(seed=SEED)\n",
    "\n",
    "    cnn1 = Sequential()\n",
    "    cnn1.add(Conv1D(64, 3,input_shape=(78, 1) ))\n",
    "    cnn1.add(LeakyReLU(alpha=0.1))\n",
    "    cnn1.add(MaxPooling1D(pool_size=2))\n",
    "    cnn1.add(Dropout(0.3))\n",
    "\n",
    "    cnn1.add(Flatten())\n",
    "    cnn1.add(Dense(64, input_dim=78, kernel_initializer=hidden_initializer))\n",
    "    cnn1.add(LeakyReLU(alpha=0.1))\n",
    "    cnn1.add(Dense(32))\n",
    "    cnn1.add(LeakyReLU(alpha=0.1))\n",
    "    cnn1.add(Dense(15, activation='softmax'))\n",
    "    \n",
    "    # Compile model\n",
    "    cnn1.compile(loss='categorical_crossentropy', optimizer='adam', metrics=['accuracy'])\n",
    "    return cnn1\n"
   ]
  },
  {
   "cell_type": "code",
   "execution_count": 31,
   "id": "optical-escape",
   "metadata": {},
   "outputs": [],
   "source": [
    "# create model\n",
    "cnn1 = KerasClassifier( build_fn=create_model_cnn1, epochs= 30, batch_size=128, verbose=0)"
   ]
  },
  {
   "cell_type": "code",
   "execution_count": 32,
   "id": "official-spyware",
   "metadata": {},
   "outputs": [],
   "source": [
    "y_train= to_categorical(labels)\n",
    "X_train = np.array(features).reshape(features.shape[0], features.shape[1], 1)"
   ]
  },
  {
   "cell_type": "code",
   "execution_count": 33,
   "id": "waiting-darwin",
   "metadata": {},
   "outputs": [
    {
     "name": "stdout",
     "output_type": "stream",
     "text": [
      "0.9546911748085103\n"
     ]
    },
    {
     "data": {
      "text/plain": [
       "array([0.9589465 , 0.95192486, 0.94152054, 0.96714054, 0.95392343])"
      ]
     },
     "execution_count": 33,
     "metadata": {},
     "output_type": "execute_result"
    }
   ],
   "source": [
    "# Printing the mean accuracy value for the 5 folds\n",
    "results_cnn1 = cross_val_score(cnn1, X_train, labels, cv=kfold,scoring='accuracy', error_score=\"raise\")\n",
    "print(results_cnn1.mean())\n",
    "results_cnn1"
   ]
  },
  {
   "cell_type": "markdown",
   "id": "industrial-fireplace",
   "metadata": {},
   "source": [
    "## Performing cross validation for convolutional neural network with 2 layers"
   ]
  },
  {
   "cell_type": "code",
   "execution_count": 42,
   "id": "systematic-valuable",
   "metadata": {},
   "outputs": [],
   "source": [
    "# Function used to create the model needed for KerasClassifier\n",
    "def create_model_cnn2():\n",
    "    # create model\n",
    "    SEED = 1040941203\n",
    "    hidden_initializer = random_uniform(seed=SEED)\n",
    "\n",
    "    cnn2 = Sequential()\n",
    "    cnn2.add(Conv1D(64, 3,input_shape=(78, 1) ))\n",
    "    cnn2.add(LeakyReLU(alpha=0.1))\n",
    "    cnn2.add(MaxPooling1D(pool_size=2))\n",
    "    cnn2.add(Dropout(0.3))\n",
    "\n",
    "    cnn2.add(Conv1D(32, 1))\n",
    "    cnn2.add(LeakyReLU(alpha=0.1))\n",
    "    cnn2.add(MaxPooling1D(pool_size=2))\n",
    "    cnn2.add(Dropout(0.3))\n",
    "\n",
    "    cnn2.add(Flatten())\n",
    "    cnn2.add(Dense(64, input_dim=78, kernel_initializer=hidden_initializer))\n",
    "    cnn2.add(LeakyReLU(alpha=0.1))\n",
    "    cnn2.add(Dense(32))\n",
    "    cnn2.add(LeakyReLU(alpha=0.1))\n",
    "    cnn2.add(Dense(15, activation='softmax'))\n",
    "    \n",
    "    # Compile model\n",
    "    cnn2.compile(loss='categorical_crossentropy', optimizer='adam', metrics=['accuracy'])\n",
    "    return cnn2\n"
   ]
  },
  {
   "cell_type": "code",
   "execution_count": 43,
   "id": "noted-advertising",
   "metadata": {},
   "outputs": [],
   "source": [
    "# create model\n",
    "cnn2 = KerasClassifier(build_fn=create_model_cnn2, epochs= 30, batch_size=256, verbose=0)"
   ]
  },
  {
   "cell_type": "code",
   "execution_count": 44,
   "id": "indoor-newcastle",
   "metadata": {},
   "outputs": [],
   "source": [
    "# 3-fold cross validation\n",
    "Three_kfold = StratifiedKFold(n_splits= 3, shuffle=True, random_state=seed)"
   ]
  },
  {
   "cell_type": "code",
   "execution_count": 45,
   "id": "recorded-sacramento",
   "metadata": {},
   "outputs": [
    {
     "name": "stdout",
     "output_type": "stream",
     "text": [
      "0.9902952678219066\n"
     ]
    },
    {
     "data": {
      "text/plain": [
       "array([0.98954057, 0.98983271, 0.99151252])"
      ]
     },
     "execution_count": 45,
     "metadata": {},
     "output_type": "execute_result"
    }
   ],
   "source": [
    "# Printing the mean accuracy value for the 3 folds\n",
    "results_cnn2 = cross_val_score(cnn2, X_train, labels, cv=Three_kfold,scoring='accuracy', error_score=\"raise\")\n",
    "print(results_cnn2.mean())\n",
    "results_cnn2"
   ]
  },
  {
   "cell_type": "markdown",
   "id": "liquid-botswana",
   "metadata": {},
   "source": [
    "## Performing cross validation for convolutional neural network with 3 layers"
   ]
  },
  {
   "cell_type": "code",
   "execution_count": 51,
   "id": "canadian-surge",
   "metadata": {},
   "outputs": [],
   "source": [
    "# Function used to create the model needed for KerasClassifier\n",
    "def create_model_cnn3():\n",
    "    # create model\n",
    "    SEED = 1040941203\n",
    "    hidden_initializer = random_uniform(seed=SEED)\n",
    "\n",
    "    cnn3 = Sequential()\n",
    "    cnn3.add(Conv1D(64, 3,input_shape=(78, 1) ))\n",
    "    cnn3.add(LeakyReLU(alpha=0.1))\n",
    "    cnn3.add(MaxPooling1D(pool_size=2))\n",
    "    cnn3.add(Dropout(0.3))\n",
    "\n",
    "    cnn3.add(Conv1D(64, 1))\n",
    "    cnn3.add(LeakyReLU(alpha=0.1))\n",
    "    cnn3.add(MaxPooling1D(pool_size=2))\n",
    "    cnn3.add(Dropout(0.3))\n",
    "\n",
    "    cnn3.add(Conv1D(64, 1))\n",
    "    cnn3.add(LeakyReLU(alpha=0.1))\n",
    "    cnn3.add(MaxPooling1D(pool_size=2))\n",
    "    cnn3.add(Dropout(0.3))\n",
    "\n",
    "\n",
    "    cnn3.add(Flatten())\n",
    "    cnn3.add(Dense(64, input_dim=78, kernel_initializer=hidden_initializer))\n",
    "    cnn3.add(LeakyReLU(alpha=0.1))\n",
    "    cnn3.add(Dense(32))\n",
    "    cnn3.add(LeakyReLU(alpha=0.1))\n",
    "    cnn3.add(Dense(15, activation='softmax'))\n",
    "    \n",
    "    # Compile model\n",
    "    cnn3.compile(loss='categorical_crossentropy', optimizer='adam', metrics=['accuracy'])\n",
    "    return cnn3\n"
   ]
  },
  {
   "cell_type": "code",
   "execution_count": 52,
   "id": "sapphire-flavor",
   "metadata": {},
   "outputs": [],
   "source": [
    "# create model\n",
    "cnn3 = KerasClassifier( build_fn=create_model_cnn3, epochs= 30, batch_size=512, verbose=0)"
   ]
  },
  {
   "cell_type": "code",
   "execution_count": 53,
   "id": "centered-model",
   "metadata": {},
   "outputs": [],
   "source": [
    "# 3-fold cross validation\n",
    "Three_kfold = StratifiedKFold(n_splits= 3, shuffle=True, random_state=seed)"
   ]
  },
  {
   "cell_type": "code",
   "execution_count": 68,
   "id": "broken-dallas",
   "metadata": {},
   "outputs": [
    {
     "name": "stdout",
     "output_type": "stream",
     "text": [
      "0.9902030126440846\n"
     ]
    },
    {
     "data": {
      "text/plain": [
       "array([0.98964436, 0.98953673, 0.99142796])"
      ]
     },
     "execution_count": 68,
     "metadata": {},
     "output_type": "execute_result"
    }
   ],
   "source": [
    "# Printing the mean accuracy value for the 3 folds\n",
    "results_cnn3 = cross_val_score(cnn3, X_train, labels, cv=Three_kfold,scoring='accuracy', error_score=\"raise\")\n",
    "print(results_cnn3.mean())\n",
    "results_cnn3"
   ]
  },
  {
   "cell_type": "markdown",
   "id": "severe-stuff",
   "metadata": {},
   "source": [
    "## Performing cross validation for recurrent neural network with 1 layer"
   ]
  },
  {
   "cell_type": "code",
   "execution_count": 61,
   "id": "convertible-journal",
   "metadata": {},
   "outputs": [],
   "source": [
    "# Function used to create the model needed for KerasClassifier\n",
    "def create_model_rnn1():\n",
    "    # create model\n",
    "    SEED = 1040941203\n",
    "    hidden_initializer = random_uniform(seed=SEED)\n",
    "\n",
    "    # Initialising the RNN\n",
    "    rnn1 = Sequential()\n",
    "\n",
    "    # Adding the first RNN layer and some Dropout regularisation\n",
    "    rnn1.add(SimpleRNN(units = 64,input_shape=(78, 1), activation='relu', return_sequences = True,))\n",
    "    rnn1.add(Dropout(0.3))\n",
    "\n",
    "    # Adding the output layer\n",
    "    rnn1.add(Flatten())\n",
    "    rnn1.add(Dense(64, input_dim=78, kernel_initializer=hidden_initializer))\n",
    "    rnn1.add(LeakyReLU(alpha=0.1))\n",
    "    rnn1.add(Dense(32))\n",
    "    rnn1.add(LeakyReLU(alpha=0.1))\n",
    "    rnn1.add(Dense(units = 15, activation='softmax'))\n",
    "    \n",
    "    # Compile model\n",
    "    rnn1.compile(loss='categorical_crossentropy', optimizer='adam', metrics=['accuracy'])\n",
    "    return rnn1\n"
   ]
  },
  {
   "cell_type": "code",
   "execution_count": 62,
   "id": "developed-semester",
   "metadata": {},
   "outputs": [],
   "source": [
    "# create model\n",
    "rnn1 = KerasClassifier( build_fn=create_model_rnn1, epochs= 30, batch_size=512, verbose=0)"
   ]
  },
  {
   "cell_type": "code",
   "execution_count": 63,
   "id": "encouraging-traffic",
   "metadata": {},
   "outputs": [],
   "source": [
    "# 3-fold cross validation\n",
    "Three_kfold = StratifiedKFold(n_splits= 3, shuffle=True, random_state=seed)"
   ]
  },
  {
   "cell_type": "code",
   "execution_count": 64,
   "id": "offshore-bracelet",
   "metadata": {},
   "outputs": [],
   "source": [
    "features_train = np.asarray(features).astype('float32').reshape((-1,1))"
   ]
  },
  {
   "cell_type": "code",
   "execution_count": 65,
   "id": "quiet-flexibility",
   "metadata": {},
   "outputs": [],
   "source": [
    "ft_train = np.array(features).reshape(features.shape[0], features.shape[1], 1)\n",
    "ft_labels= to_categorical(labels)"
   ]
  },
  {
   "cell_type": "code",
   "execution_count": 67,
   "id": "guided-village",
   "metadata": {},
   "outputs": [
    {
     "name": "stdout",
     "output_type": "stream",
     "text": [
      "0.9964071733526044\n"
     ]
    }
   ],
   "source": [
    "# Printing the mean accuracy value for the 3 folds\n",
    "results_rnn1 = cross_val_score(rnn1, ft_train, labels, cv=Three_kfold,scoring='accuracy', error_score=\"raise\")\n",
    "print(results_rnn1.mean())"
   ]
  },
  {
   "cell_type": "markdown",
   "id": "actual-abuse",
   "metadata": {},
   "source": [
    "### Performing cross validation for recurrent neural network with 2 layers"
   ]
  },
  {
   "cell_type": "code",
   "execution_count": 76,
   "id": "apparent-glance",
   "metadata": {},
   "outputs": [],
   "source": [
    "# Function used to create the model needed for KerasClassifier\n",
    "def create_model_rnn2():\n",
    "    # create model\n",
    "    SEED = 1040941203\n",
    "    hidden_initializer = random_uniform(seed=SEED)\n",
    "\n",
    "    # Initialising the RNN\n",
    "    rnn2 = Sequential()\n",
    "\n",
    "    # Adding the first RNN layer and some Dropout regularisation\n",
    "    rnn2.add(SimpleRNN(units = 64,input_shape=(78, 1), activation='relu', return_sequences = True,))\n",
    "    rnn2.add(Dropout(0.3))\n",
    "    \n",
    "    # Adding the second RNN layer and some Dropout regularisation\n",
    "    rnn2.add(SimpleRNN(units = 64, activation='relu', return_sequences = True,))\n",
    "    rnn2.add(Dropout(0.3))\n",
    "\n",
    "    # Adding the output layer\n",
    "    rnn2.add(Flatten())\n",
    "    rnn2.add(Dense(64, input_dim=78, kernel_initializer=hidden_initializer))\n",
    "    rnn2.add(LeakyReLU(alpha=0.1))\n",
    "    rnn2.add(Dense(32))\n",
    "    rnn2.add(LeakyReLU(alpha=0.1))\n",
    "    rnn2.add(Dense(units = 15, activation='softmax'))\n",
    "    \n",
    "    # Compile model\n",
    "    rnn2.compile(loss='categorical_crossentropy', optimizer='adam', metrics=['accuracy'])\n",
    "    return rnn2\n"
   ]
  },
  {
   "cell_type": "code",
   "execution_count": 77,
   "id": "italian-winter",
   "metadata": {},
   "outputs": [],
   "source": [
    "# create model\n",
    "rnn2 = KerasClassifier( build_fn=create_model_rnn2, epochs= 30, batch_size=512, verbose=0)"
   ]
  },
  {
   "cell_type": "code",
   "execution_count": 78,
   "id": "agreed-postage",
   "metadata": {},
   "outputs": [],
   "source": [
    "# 3-fold cross validation\n",
    "Three_kfold = StratifiedKFold(n_splits= 3, shuffle=True, random_state=seed)"
   ]
  },
  {
   "cell_type": "code",
   "execution_count": 79,
   "id": "activated-throw",
   "metadata": {},
   "outputs": [
    {
     "name": "stdout",
     "output_type": "stream",
     "text": [
      "0.9967044400366971\n"
     ]
    }
   ],
   "source": [
    "# Printing the mean accuracy value for the 3 folds\n",
    "results_rnn2 = cross_val_score(rnn2, ft_train, labels, cv=Three_kfold,scoring='accuracy', error_score=\"raise\")\n",
    "print(results_rnn2.mean())"
   ]
  },
  {
   "cell_type": "code",
   "execution_count": 80,
   "id": "requested-input",
   "metadata": {},
   "outputs": [
    {
     "data": {
      "text/plain": [
       "array([0.99661731, 0.99685948, 0.99663653])"
      ]
     },
     "execution_count": 80,
     "metadata": {},
     "output_type": "execute_result"
    }
   ],
   "source": [
    "results_rnn2"
   ]
  },
  {
   "cell_type": "markdown",
   "id": "comprehensive-resident",
   "metadata": {},
   "source": [
    "### Performing cross validation for recurrent neural network with 3 layers"
   ]
  },
  {
   "cell_type": "code",
   "execution_count": null,
   "id": "noticed-restoration",
   "metadata": {},
   "outputs": [],
   "source": [
    "# Function used to create the model needed for KerasClassifier\n",
    "def create_model_rnn3():\n",
    "    # create model\n",
    "    SEED = 1040941203\n",
    "    hidden_initializer = random_uniform(seed=SEED)\n",
    "\n",
    "    # Initialising the RNN\n",
    "    rnn3 = Sequential()\n",
    "\n",
    "    # Adding the first RNN layer and some Dropout regularisation\n",
    "    rnn3.add(SimpleRNN(units = 64,activation='relu', return_sequences = True,  input_shape = (78,1)))\n",
    "    rnn3.add(Dropout(0.3))\n",
    "\n",
    "    # Adding the first RNN layer and some Dropout regularisation\n",
    "    rnn3.add(SimpleRNN(units = 64,activation='relu', return_sequences = True,  ))\n",
    "    rnn3.add(Dropout(0.3))\n",
    "    \n",
    "    # Adding a third RNN layer and some Dropout regularisation\n",
    "    rnn3.add(SimpleRNN(units = 64,activation='relu', return_sequences = True))\n",
    "    rnn3.add(Dropout(0.3))\n",
    "\n",
    "    # Adding the output layer\n",
    "    rnn3.add(Flatten())\n",
    "    rnn3.add(Dense(64, input_dim=78, kernel_initializer=hidden_initializer))\n",
    "    rnn3.add(LeakyReLU(alpha=0.1))\n",
    "    rnn3.add(Dense(32))\n",
    "    rnn3.add(LeakyReLU(alpha=0.1))\n",
    "    rnn3.add(Dense(units = 20, activation='softmax'))\n",
    "    \n",
    "    # Compile model\n",
    "    rnn3.compile(loss='categorical_crossentropy', optimizer='adam', metrics=['accuracy'])\n",
    "    return rnn3\n"
   ]
  },
  {
   "cell_type": "code",
   "execution_count": null,
   "id": "duplicate-fellow",
   "metadata": {},
   "outputs": [],
   "source": [
    "# create model\n",
    "rnn3 = KerasClassifier( build_fn=create_model_rnn3, epochs= 30, batch_size=512, verbose=0)"
   ]
  },
  {
   "cell_type": "code",
   "execution_count": null,
   "id": "saving-bench",
   "metadata": {},
   "outputs": [],
   "source": [
    "# 3-fold cross validation\n",
    "Three_kfold = StratifiedKFold(n_splits= 3, shuffle=True, random_state=seed)"
   ]
  },
  {
   "cell_type": "code",
   "execution_count": null,
   "id": "superior-traveler",
   "metadata": {},
   "outputs": [],
   "source": [
    "# Printing the mean accuracy value for the 3 folds\n",
    "results_rnn3 = cross_val_score(rnn3, ft_train, labels, cv=Three_kfold,scoring='accuracy', error_score=\"raise\")\n",
    "print(results_rnn3.mean())"
   ]
  },
  {
   "cell_type": "code",
   "execution_count": null,
   "id": "collected-herald",
   "metadata": {},
   "outputs": [],
   "source": [
    "results_rnn3"
   ]
  }
 ],
 "metadata": {
  "kernelspec": {
   "display_name": "Python 3",
   "language": "python",
   "name": "python3"
  },
  "language_info": {
   "codemirror_mode": {
    "name": "ipython",
    "version": 3
   },
   "file_extension": ".py",
   "mimetype": "text/x-python",
   "name": "python",
   "nbconvert_exporter": "python",
   "pygments_lexer": "ipython3",
   "version": "3.7.4"
  }
 },
 "nbformat": 4,
 "nbformat_minor": 5
}
