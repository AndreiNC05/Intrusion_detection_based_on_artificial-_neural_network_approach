{
 "cells": [
  {
   "cell_type": "code",
   "execution_count": 123,
   "id": "korean-wallpaper",
   "metadata": {},
   "outputs": [],
   "source": [
    "import numpy as np # linear algebra\n",
    "import pandas as pd # data processing, CSV file I/O (e.g. pd.read_csv)\n",
    "import seaborn as sns\n",
    "import matplotlib.pyplot as plt\n",
    "import glob\n",
    "\n",
    "from sklearn.metrics import confusion_matrix\n",
    "import itertools\n",
    "\n",
    "from sklearn.metrics import make_scorer, accuracy_score, precision_score, recall_score, f1_score, confusion_matrix, classification_report\n",
    "\n",
    "import tensorflow as tf\n",
    "from tensorflow import keras\n",
    "from keras.models import Sequential\n",
    "from keras.layers import Dense, Flatten, Conv1D, MaxPool1D\n",
    "from keras.initializers import random_uniform\n",
    "from keras.layers.advanced_activations import LeakyReLU\n",
    "from keras.callbacks import EarlyStopping\n",
    "\n",
    "from sklearn.model_selection import train_test_split\n",
    "from sklearn.preprocessing import StandardScaler as SS\n",
    "\n",
    "from sklearn.model_selection import train_test_split\n",
    "from keras.models import Sequential\n",
    "from keras.preprocessing.text import Tokenizer\n",
    "from matplotlib import pyplot as plt\n",
    "from keras.preprocessing.sequence import pad_sequences\n",
    "from keras.layers import Embedding,Dense,LSTM,Dropout,Flatten,BatchNormalization,Conv1D,GlobalMaxPooling1D,MaxPooling1D\n",
    "from keras.optimizers import  SGD\n",
    "import matplotlib.pyplot as plt\n",
    "from keras.regularizers import l2\n",
    "from keras.optimizers import Adam\n",
    "from keras import regularizers\n",
    "from keras.callbacks import EarlyStopping\n",
    "from sklearn.preprocessing import OneHotEncoder\n",
    "from keras.preprocessing import sequence\n",
    "from keras.layers import SimpleRNN\n",
    "#from hyperas.distributions import uniform\n",
    "\n",
    "from keras.utils.np_utils import to_categorical\n",
    "from keras import regularizers\n",
    "import pandas as pd\n",
    "import string\n",
    "import numpy as np\n",
    "import matplotlib.pyplot as plt\n",
    "\n",
    "# import warnings\n",
    "import warnings\n",
    "# filter warnings\n",
    "warnings.filterwarnings('ignore')"
   ]
  },
  {
   "cell_type": "code",
   "execution_count": 2,
   "id": "aerial-childhood",
   "metadata": {},
   "outputs": [],
   "source": [
    "dataset = pd.read_csv(r'...') # use your path"
   ]
  },
  {
   "cell_type": "code",
   "execution_count": 3,
   "id": "resistant-messenger",
   "metadata": {},
   "outputs": [
    {
     "data": {
      "text/html": [
       "<div>\n",
       "<style scoped>\n",
       "    .dataframe tbody tr th:only-of-type {\n",
       "        vertical-align: middle;\n",
       "    }\n",
       "\n",
       "    .dataframe tbody tr th {\n",
       "        vertical-align: top;\n",
       "    }\n",
       "\n",
       "    .dataframe thead th {\n",
       "        text-align: right;\n",
       "    }\n",
       "</style>\n",
       "<table border=\"1\" class=\"dataframe\">\n",
       "  <thead>\n",
       "    <tr style=\"text-align: right;\">\n",
       "      <th></th>\n",
       "      <th>dur</th>\n",
       "      <th>proto</th>\n",
       "      <th>service</th>\n",
       "      <th>state</th>\n",
       "      <th>spkts</th>\n",
       "      <th>dpkts</th>\n",
       "      <th>sbytes</th>\n",
       "      <th>dbytes</th>\n",
       "      <th>rate</th>\n",
       "      <th>sttl</th>\n",
       "      <th>...</th>\n",
       "      <th>ct_dst_sport_ltm</th>\n",
       "      <th>ct_dst_src_ltm</th>\n",
       "      <th>is_ftp_login</th>\n",
       "      <th>ct_ftp_cmd</th>\n",
       "      <th>ct_flw_http_mthd</th>\n",
       "      <th>ct_src_ltm</th>\n",
       "      <th>ct_srv_dst</th>\n",
       "      <th>is_sm_ips_ports</th>\n",
       "      <th>attack_cat</th>\n",
       "      <th>label</th>\n",
       "    </tr>\n",
       "  </thead>\n",
       "  <tbody>\n",
       "    <tr>\n",
       "      <th>0</th>\n",
       "      <td>0.921987</td>\n",
       "      <td>78</td>\n",
       "      <td>0</td>\n",
       "      <td>5</td>\n",
       "      <td>20</td>\n",
       "      <td>0</td>\n",
       "      <td>1280</td>\n",
       "      <td>0</td>\n",
       "      <td>20.607666</td>\n",
       "      <td>254</td>\n",
       "      <td>...</td>\n",
       "      <td>1</td>\n",
       "      <td>2</td>\n",
       "      <td>0</td>\n",
       "      <td>0</td>\n",
       "      <td>0</td>\n",
       "      <td>1</td>\n",
       "      <td>1</td>\n",
       "      <td>0</td>\n",
       "      <td>7</td>\n",
       "      <td>1</td>\n",
       "    </tr>\n",
       "    <tr>\n",
       "      <th>1</th>\n",
       "      <td>0.921987</td>\n",
       "      <td>78</td>\n",
       "      <td>0</td>\n",
       "      <td>5</td>\n",
       "      <td>20</td>\n",
       "      <td>0</td>\n",
       "      <td>1280</td>\n",
       "      <td>0</td>\n",
       "      <td>20.607666</td>\n",
       "      <td>254</td>\n",
       "      <td>...</td>\n",
       "      <td>1</td>\n",
       "      <td>2</td>\n",
       "      <td>0</td>\n",
       "      <td>0</td>\n",
       "      <td>0</td>\n",
       "      <td>1</td>\n",
       "      <td>1</td>\n",
       "      <td>0</td>\n",
       "      <td>7</td>\n",
       "      <td>1</td>\n",
       "    </tr>\n",
       "    <tr>\n",
       "      <th>2</th>\n",
       "      <td>0.921987</td>\n",
       "      <td>78</td>\n",
       "      <td>0</td>\n",
       "      <td>5</td>\n",
       "      <td>20</td>\n",
       "      <td>0</td>\n",
       "      <td>1280</td>\n",
       "      <td>0</td>\n",
       "      <td>20.607666</td>\n",
       "      <td>254</td>\n",
       "      <td>...</td>\n",
       "      <td>1</td>\n",
       "      <td>2</td>\n",
       "      <td>0</td>\n",
       "      <td>0</td>\n",
       "      <td>0</td>\n",
       "      <td>1</td>\n",
       "      <td>1</td>\n",
       "      <td>0</td>\n",
       "      <td>1</td>\n",
       "      <td>1</td>\n",
       "    </tr>\n",
       "    <tr>\n",
       "      <th>3</th>\n",
       "      <td>0.921987</td>\n",
       "      <td>78</td>\n",
       "      <td>0</td>\n",
       "      <td>5</td>\n",
       "      <td>20</td>\n",
       "      <td>0</td>\n",
       "      <td>1280</td>\n",
       "      <td>0</td>\n",
       "      <td>20.607666</td>\n",
       "      <td>254</td>\n",
       "      <td>...</td>\n",
       "      <td>1</td>\n",
       "      <td>2</td>\n",
       "      <td>0</td>\n",
       "      <td>0</td>\n",
       "      <td>0</td>\n",
       "      <td>1</td>\n",
       "      <td>1</td>\n",
       "      <td>0</td>\n",
       "      <td>2</td>\n",
       "      <td>1</td>\n",
       "    </tr>\n",
       "    <tr>\n",
       "      <th>4</th>\n",
       "      <td>0.000009</td>\n",
       "      <td>97</td>\n",
       "      <td>0</td>\n",
       "      <td>5</td>\n",
       "      <td>2</td>\n",
       "      <td>0</td>\n",
       "      <td>104</td>\n",
       "      <td>0</td>\n",
       "      <td>111111.107200</td>\n",
       "      <td>254</td>\n",
       "      <td>...</td>\n",
       "      <td>1</td>\n",
       "      <td>2</td>\n",
       "      <td>0</td>\n",
       "      <td>0</td>\n",
       "      <td>0</td>\n",
       "      <td>1</td>\n",
       "      <td>1</td>\n",
       "      <td>0</td>\n",
       "      <td>3</td>\n",
       "      <td>1</td>\n",
       "    </tr>\n",
       "  </tbody>\n",
       "</table>\n",
       "<p>5 rows × 44 columns</p>\n",
       "</div>"
      ],
      "text/plain": [
       "        dur  proto  service  state  spkts  dpkts  sbytes  dbytes  \\\n",
       "0  0.921987     78        0      5     20      0    1280       0   \n",
       "1  0.921987     78        0      5     20      0    1280       0   \n",
       "2  0.921987     78        0      5     20      0    1280       0   \n",
       "3  0.921987     78        0      5     20      0    1280       0   \n",
       "4  0.000009     97        0      5      2      0     104       0   \n",
       "\n",
       "            rate  sttl  ...  ct_dst_sport_ltm  ct_dst_src_ltm  is_ftp_login  \\\n",
       "0      20.607666   254  ...                 1               2             0   \n",
       "1      20.607666   254  ...                 1               2             0   \n",
       "2      20.607666   254  ...                 1               2             0   \n",
       "3      20.607666   254  ...                 1               2             0   \n",
       "4  111111.107200   254  ...                 1               2             0   \n",
       "\n",
       "   ct_ftp_cmd  ct_flw_http_mthd  ct_src_ltm  ct_srv_dst  is_sm_ips_ports  \\\n",
       "0           0                 0           1           1                0   \n",
       "1           0                 0           1           1                0   \n",
       "2           0                 0           1           1                0   \n",
       "3           0                 0           1           1                0   \n",
       "4           0                 0           1           1                0   \n",
       "\n",
       "   attack_cat  label  \n",
       "0           7      1  \n",
       "1           7      1  \n",
       "2           1      1  \n",
       "3           2      1  \n",
       "4           3      1  \n",
       "\n",
       "[5 rows x 44 columns]"
      ]
     },
     "execution_count": 3,
     "metadata": {},
     "output_type": "execute_result"
    }
   ],
   "source": [
    "dataset.head()"
   ]
  },
  {
   "cell_type": "code",
   "execution_count": 5,
   "id": "oriented-reliance",
   "metadata": {},
   "outputs": [],
   "source": [
    "# Splitting dataset into features and labels.\n",
    "\n",
    "labels = dataset['label']\n",
    "features = dataset.loc[:, dataset.columns != 'label'].astype('float64')"
   ]
  },
  {
   "cell_type": "code",
   "execution_count": 6,
   "id": "efficient-malpractice",
   "metadata": {},
   "outputs": [
    {
     "data": {
      "text/html": [
       "<div>\n",
       "<style scoped>\n",
       "    .dataframe tbody tr th:only-of-type {\n",
       "        vertical-align: middle;\n",
       "    }\n",
       "\n",
       "    .dataframe tbody tr th {\n",
       "        vertical-align: top;\n",
       "    }\n",
       "\n",
       "    .dataframe thead th {\n",
       "        text-align: right;\n",
       "    }\n",
       "</style>\n",
       "<table border=\"1\" class=\"dataframe\">\n",
       "  <thead>\n",
       "    <tr style=\"text-align: right;\">\n",
       "      <th></th>\n",
       "      <th>dur</th>\n",
       "      <th>proto</th>\n",
       "      <th>service</th>\n",
       "      <th>state</th>\n",
       "      <th>spkts</th>\n",
       "      <th>dpkts</th>\n",
       "      <th>sbytes</th>\n",
       "      <th>dbytes</th>\n",
       "      <th>rate</th>\n",
       "      <th>sttl</th>\n",
       "      <th>...</th>\n",
       "      <th>ct_src_dport_ltm</th>\n",
       "      <th>ct_dst_sport_ltm</th>\n",
       "      <th>ct_dst_src_ltm</th>\n",
       "      <th>is_ftp_login</th>\n",
       "      <th>ct_ftp_cmd</th>\n",
       "      <th>ct_flw_http_mthd</th>\n",
       "      <th>ct_src_ltm</th>\n",
       "      <th>ct_srv_dst</th>\n",
       "      <th>is_sm_ips_ports</th>\n",
       "      <th>attack_cat</th>\n",
       "    </tr>\n",
       "  </thead>\n",
       "  <tbody>\n",
       "    <tr>\n",
       "      <th>0</th>\n",
       "      <td>0.921987</td>\n",
       "      <td>78.0</td>\n",
       "      <td>0.0</td>\n",
       "      <td>5.0</td>\n",
       "      <td>20.0</td>\n",
       "      <td>0.0</td>\n",
       "      <td>1280.0</td>\n",
       "      <td>0.0</td>\n",
       "      <td>20.607666</td>\n",
       "      <td>254.0</td>\n",
       "      <td>...</td>\n",
       "      <td>1.0</td>\n",
       "      <td>1.0</td>\n",
       "      <td>2.0</td>\n",
       "      <td>0.0</td>\n",
       "      <td>0.0</td>\n",
       "      <td>0.0</td>\n",
       "      <td>1.0</td>\n",
       "      <td>1.0</td>\n",
       "      <td>0.0</td>\n",
       "      <td>7.0</td>\n",
       "    </tr>\n",
       "    <tr>\n",
       "      <th>1</th>\n",
       "      <td>0.921987</td>\n",
       "      <td>78.0</td>\n",
       "      <td>0.0</td>\n",
       "      <td>5.0</td>\n",
       "      <td>20.0</td>\n",
       "      <td>0.0</td>\n",
       "      <td>1280.0</td>\n",
       "      <td>0.0</td>\n",
       "      <td>20.607666</td>\n",
       "      <td>254.0</td>\n",
       "      <td>...</td>\n",
       "      <td>1.0</td>\n",
       "      <td>1.0</td>\n",
       "      <td>2.0</td>\n",
       "      <td>0.0</td>\n",
       "      <td>0.0</td>\n",
       "      <td>0.0</td>\n",
       "      <td>1.0</td>\n",
       "      <td>1.0</td>\n",
       "      <td>0.0</td>\n",
       "      <td>7.0</td>\n",
       "    </tr>\n",
       "    <tr>\n",
       "      <th>2</th>\n",
       "      <td>0.921987</td>\n",
       "      <td>78.0</td>\n",
       "      <td>0.0</td>\n",
       "      <td>5.0</td>\n",
       "      <td>20.0</td>\n",
       "      <td>0.0</td>\n",
       "      <td>1280.0</td>\n",
       "      <td>0.0</td>\n",
       "      <td>20.607666</td>\n",
       "      <td>254.0</td>\n",
       "      <td>...</td>\n",
       "      <td>1.0</td>\n",
       "      <td>1.0</td>\n",
       "      <td>2.0</td>\n",
       "      <td>0.0</td>\n",
       "      <td>0.0</td>\n",
       "      <td>0.0</td>\n",
       "      <td>1.0</td>\n",
       "      <td>1.0</td>\n",
       "      <td>0.0</td>\n",
       "      <td>1.0</td>\n",
       "    </tr>\n",
       "    <tr>\n",
       "      <th>3</th>\n",
       "      <td>0.921987</td>\n",
       "      <td>78.0</td>\n",
       "      <td>0.0</td>\n",
       "      <td>5.0</td>\n",
       "      <td>20.0</td>\n",
       "      <td>0.0</td>\n",
       "      <td>1280.0</td>\n",
       "      <td>0.0</td>\n",
       "      <td>20.607666</td>\n",
       "      <td>254.0</td>\n",
       "      <td>...</td>\n",
       "      <td>1.0</td>\n",
       "      <td>1.0</td>\n",
       "      <td>2.0</td>\n",
       "      <td>0.0</td>\n",
       "      <td>0.0</td>\n",
       "      <td>0.0</td>\n",
       "      <td>1.0</td>\n",
       "      <td>1.0</td>\n",
       "      <td>0.0</td>\n",
       "      <td>2.0</td>\n",
       "    </tr>\n",
       "    <tr>\n",
       "      <th>4</th>\n",
       "      <td>0.000009</td>\n",
       "      <td>97.0</td>\n",
       "      <td>0.0</td>\n",
       "      <td>5.0</td>\n",
       "      <td>2.0</td>\n",
       "      <td>0.0</td>\n",
       "      <td>104.0</td>\n",
       "      <td>0.0</td>\n",
       "      <td>111111.107200</td>\n",
       "      <td>254.0</td>\n",
       "      <td>...</td>\n",
       "      <td>1.0</td>\n",
       "      <td>1.0</td>\n",
       "      <td>2.0</td>\n",
       "      <td>0.0</td>\n",
       "      <td>0.0</td>\n",
       "      <td>0.0</td>\n",
       "      <td>1.0</td>\n",
       "      <td>1.0</td>\n",
       "      <td>0.0</td>\n",
       "      <td>3.0</td>\n",
       "    </tr>\n",
       "  </tbody>\n",
       "</table>\n",
       "<p>5 rows × 43 columns</p>\n",
       "</div>"
      ],
      "text/plain": [
       "        dur  proto  service  state  spkts  dpkts  sbytes  dbytes  \\\n",
       "0  0.921987   78.0      0.0    5.0   20.0    0.0  1280.0     0.0   \n",
       "1  0.921987   78.0      0.0    5.0   20.0    0.0  1280.0     0.0   \n",
       "2  0.921987   78.0      0.0    5.0   20.0    0.0  1280.0     0.0   \n",
       "3  0.921987   78.0      0.0    5.0   20.0    0.0  1280.0     0.0   \n",
       "4  0.000009   97.0      0.0    5.0    2.0    0.0   104.0     0.0   \n",
       "\n",
       "            rate   sttl  ...  ct_src_dport_ltm  ct_dst_sport_ltm  \\\n",
       "0      20.607666  254.0  ...               1.0               1.0   \n",
       "1      20.607666  254.0  ...               1.0               1.0   \n",
       "2      20.607666  254.0  ...               1.0               1.0   \n",
       "3      20.607666  254.0  ...               1.0               1.0   \n",
       "4  111111.107200  254.0  ...               1.0               1.0   \n",
       "\n",
       "   ct_dst_src_ltm  is_ftp_login  ct_ftp_cmd  ct_flw_http_mthd  ct_src_ltm  \\\n",
       "0             2.0           0.0         0.0               0.0         1.0   \n",
       "1             2.0           0.0         0.0               0.0         1.0   \n",
       "2             2.0           0.0         0.0               0.0         1.0   \n",
       "3             2.0           0.0         0.0               0.0         1.0   \n",
       "4             2.0           0.0         0.0               0.0         1.0   \n",
       "\n",
       "   ct_srv_dst  is_sm_ips_ports  attack_cat  \n",
       "0         1.0              0.0         7.0  \n",
       "1         1.0              0.0         7.0  \n",
       "2         1.0              0.0         1.0  \n",
       "3         1.0              0.0         2.0  \n",
       "4         1.0              0.0         3.0  \n",
       "\n",
       "[5 rows x 43 columns]"
      ]
     },
     "execution_count": 6,
     "metadata": {},
     "output_type": "execute_result"
    }
   ],
   "source": [
    "features.head()"
   ]
  },
  {
   "cell_type": "code",
   "execution_count": 7,
   "id": "mounted-cambodia",
   "metadata": {},
   "outputs": [],
   "source": [
    "# For scaling the data, we use RobustScaler class from sklearn.\n",
    "\n",
    "from sklearn.preprocessing import MinMaxScaler, StandardScaler, RobustScaler"
   ]
  },
  {
   "cell_type": "code",
   "execution_count": 8,
   "id": "victorian-luxembourg",
   "metadata": {},
   "outputs": [],
   "source": [
    "scaler = RobustScaler()\n",
    "scaler.fit(features)\n",
    "\n",
    "features = scaler.transform(features)"
   ]
  },
  {
   "cell_type": "code",
   "execution_count": 10,
   "id": "complimentary-synthesis",
   "metadata": {},
   "outputs": [],
   "source": [
    "from sklearn.preprocessing import LabelEncoder"
   ]
  },
  {
   "cell_type": "code",
   "execution_count": 11,
   "id": "spatial-device",
   "metadata": {},
   "outputs": [],
   "source": [
    "LE = LabelEncoder()\n",
    "\n",
    "LE.fit(labels)\n",
    "labels = LE.transform(labels)"
   ]
  },
  {
   "cell_type": "code",
   "execution_count": 12,
   "id": "marine-thunder",
   "metadata": {},
   "outputs": [
    {
     "data": {
      "text/plain": [
       "array([0, 1], dtype=int64)"
      ]
     },
     "execution_count": 12,
     "metadata": {},
     "output_type": "execute_result"
    }
   ],
   "source": [
    "# Labels have been replaced with integers.\n",
    "\n",
    "np.unique(labels)"
   ]
  },
  {
   "cell_type": "code",
   "execution_count": 13,
   "id": "absolute-bubble",
   "metadata": {},
   "outputs": [
    {
     "data": {
      "text/plain": [
       "array([1, 0], dtype=int64)"
      ]
     },
     "execution_count": 13,
     "metadata": {},
     "output_type": "execute_result"
    }
   ],
   "source": [
    "# Checking that encoding reversal works.\n",
    "\n",
    "d = LE.inverse_transform(labels)\n",
    "d = pd.Series(d)\n",
    "d.unique()"
   ]
  },
  {
   "cell_type": "markdown",
   "id": "weird-italy",
   "metadata": {},
   "source": [
    "### Splitting the data"
   ]
  },
  {
   "cell_type": "code",
   "execution_count": 14,
   "id": "wanted-petroleum",
   "metadata": {},
   "outputs": [],
   "source": [
    "from sklearn.model_selection import train_test_split"
   ]
  },
  {
   "cell_type": "code",
   "execution_count": 15,
   "id": "sublime-article",
   "metadata": {},
   "outputs": [],
   "source": [
    "# The next step is to split training and testing data. For this we will use sklearn function train_test_split().\n",
    "\n",
    "features_train, features_test, labels_train, labels_test = train_test_split(features, labels, test_size= 0.2,random_state=1)"
   ]
  },
  {
   "cell_type": "code",
   "execution_count": 16,
   "id": "broadband-italian",
   "metadata": {},
   "outputs": [
    {
     "data": {
      "text/plain": [
       "((263476, 43), (263476,), (65870, 43), (65870,))"
      ]
     },
     "execution_count": 16,
     "metadata": {},
     "output_type": "execute_result"
    }
   ],
   "source": [
    "features_train.shape, labels_train.shape ,features_test.shape , labels_test.shape"
   ]
  },
  {
   "cell_type": "code",
   "execution_count": 17,
   "id": "independent-pontiac",
   "metadata": {},
   "outputs": [
    {
     "data": {
      "text/plain": [
       "((197607, 43), (197607,), (65870, 43), (65870,), (65869, 43), (65869,))"
      ]
     },
     "execution_count": 17,
     "metadata": {},
     "output_type": "execute_result"
    }
   ],
   "source": [
    "features_train,  features_val, labels_train, labels_val = train_test_split(features_train, labels_train, test_size=0.25, random_state=1)\n",
    "features_train.shape, labels_train.shape ,features_test.shape , labels_test.shape, features_val.shape ,labels_val.shape"
   ]
  },
  {
   "cell_type": "code",
   "execution_count": 18,
   "id": "consolidated-reasoning",
   "metadata": {},
   "outputs": [],
   "source": [
    "import datetime\n",
    "import os\n",
    "log_dir = os.path.join(\"train_logs\",datetime.datetime.now().strftime(\"%Y%m%d-%H%M%S\"),)\n",
    "\n",
    "tensorboard_callback = tf.keras.callbacks.TensorBoard(log_dir=log_dir, histogram_freq=1)\n",
    "\n",
    "# TF callback that stops training when best value of validationi loss function is reached\n",
    "eary_stop_callback = tf.keras.callbacks.EarlyStopping(monitor='loss', patience=10, restore_best_weights=True)"
   ]
  },
  {
   "cell_type": "code",
   "execution_count": 19,
   "id": "ecological-spectrum",
   "metadata": {},
   "outputs": [],
   "source": [
    "# this function has evaluation metrics\n",
    "def report(prediction, y_true):\n",
    "    print('        ----------Classification Report Of Classes-------------')\n",
    "    print(classification_report(y_true,prediction))\n",
    "    print('\\n        ----------Validation Data------------------')\n",
    "    print('Accuarcy:',accuracy_score(y_true, prediction)* 100)\n",
    "    print('Precision: {:,.4f} %'.format(precision_score(y_true, prediction, average='weighted') * 100))\n",
    "    print('Recall-score: {:,.4f}'.format(recall_score(y_true, prediction, average='weighted') * 100))\n",
    "    print('F1-score: {:,.4f}'.format(f1_score(y_true, prediction, average='weighted') * 100))"
   ]
  },
  {
   "cell_type": "code",
   "execution_count": 20,
   "id": "simplified-porter",
   "metadata": {},
   "outputs": [],
   "source": [
    "# plotting loss graphs w.r.t each epoch\n",
    "def plotgraphs(model):\n",
    "    f, ax = plt.subplots()\n",
    "    ax.plot([None] + model.history.history[\"accuracy\"], 'o-')\n",
    "    ax.plot([None] + model.history.history[\"val_accuracy\"], 'x-')\n",
    "\n",
    "    ax.legend(['Train_Accuracy', 'Val_Accuracy'], loc = 0)\n",
    "    ax.set_title('Training/Val Accuracy Per Epoch')\n",
    "    ax.set_xlabel('epoch')\n",
    "    ax.set_ylabel('acc')\n",
    "    plt.show()\n",
    "\n",
    "    f, ax = plt.subplots()\n",
    "    ax.plot([None] + model.history.history[\"loss\"], 'o-')\n",
    "    ax.plot([None] + model.history.history[\"val_loss\"], 'x-')\n",
    "\n",
    "    ax.legend(['Train_Loss', 'Val_Loss'], loc = 0)\n",
    "    ax.set_title('Training/Val Losses Per Epoch')\n",
    "    ax.set_xlabel('epoch')\n",
    "    ax.set_ylabel('loss')\n",
    "    plt.show()"
   ]
  },
  {
   "cell_type": "markdown",
   "id": "gross-example",
   "metadata": {},
   "source": [
    "### DNN Models"
   ]
  },
  {
   "cell_type": "code",
   "execution_count": 33,
   "id": "ready-found",
   "metadata": {},
   "outputs": [
    {
     "name": "stdout",
     "output_type": "stream",
     "text": [
      "Model: \"sequential_1\"\n",
      "_________________________________________________________________\n",
      "Layer (type)                 Output Shape              Param #   \n",
      "=================================================================\n",
      "dense_2 (Dense)              (None, 256)               11264     \n",
      "_________________________________________________________________\n",
      "dropout_1 (Dropout)          (None, 256)               0         \n",
      "_________________________________________________________________\n",
      "dense_3 (Dense)              (None, 2)                 514       \n",
      "=================================================================\n",
      "Total params: 11,778\n",
      "Trainable params: 11,778\n",
      "Non-trainable params: 0\n",
      "_________________________________________________________________\n"
     ]
    }
   ],
   "source": [
    "dnn1= Sequential()\n",
    "\n",
    "dnn1.add(Dense(256, activation='relu', input_shape=(features_train.shape[1],)))\n",
    "dnn1.add(Dropout(0.1))\n",
    "dnn1.add(Dense(2, activation='softmax'))\n",
    "\n",
    "dnn1.summary()"
   ]
  },
  {
   "cell_type": "code",
   "execution_count": 34,
   "id": "frequent-safety",
   "metadata": {},
   "outputs": [],
   "source": [
    "dnn1.compile(loss = \"sparse_categorical_crossentropy\", optimizer='adam', metrics=['accuracy'])"
   ]
  },
  {
   "cell_type": "code",
   "execution_count": 35,
   "id": "fabulous-combination",
   "metadata": {
    "scrolled": true
   },
   "outputs": [
    {
     "name": "stdout",
     "output_type": "stream",
     "text": [
      "Epoch 1/30\n",
      "3088/3088 [==============================] - 10s 3ms/step - loss: 58.8505 - accuracy: 0.9006 - val_loss: 37.4748 - val_accuracy: 0.9757\n",
      "Epoch 2/30\n",
      "3088/3088 [==============================] - 10s 3ms/step - loss: 37.9659 - accuracy: 0.9730 - val_loss: 11.5377 - val_accuracy: 0.9863\n",
      "Epoch 3/30\n",
      "3088/3088 [==============================] - 10s 3ms/step - loss: 49.9141 - accuracy: 0.9802 - val_loss: 22.4493 - val_accuracy: 0.9883\n",
      "Epoch 4/30\n",
      "3088/3088 [==============================] - 10s 3ms/step - loss: 16.5892 - accuracy: 0.9856 - val_loss: 2.1149 - val_accuracy: 0.9947\n",
      "Epoch 5/30\n",
      "3088/3088 [==============================] - 9s 3ms/step - loss: 7.1624 - accuracy: 0.9907 - val_loss: 3.8862 - val_accuracy: 0.9884\n",
      "Epoch 6/30\n",
      "3088/3088 [==============================] - 8s 2ms/step - loss: 0.8266 - accuracy: 0.9930 - val_loss: 0.0226 - val_accuracy: 0.9903\n",
      "Epoch 7/30\n",
      "3088/3088 [==============================] - 8s 2ms/step - loss: 0.0234 - accuracy: 0.9935 - val_loss: 0.0165 - val_accuracy: 0.9949\n",
      "Epoch 8/30\n",
      "3088/3088 [==============================] - 10s 3ms/step - loss: 0.0802 - accuracy: 0.9938 - val_loss: 0.0304 - val_accuracy: 0.9946\n",
      "Epoch 9/30\n",
      "3088/3088 [==============================] - 9s 3ms/step - loss: 0.0419 - accuracy: 0.9948 - val_loss: 0.0149 - val_accuracy: 0.9915\n",
      "Epoch 10/30\n",
      "3088/3088 [==============================] - 10s 3ms/step - loss: 0.0929 - accuracy: 0.9930 - val_loss: 0.0163 - val_accuracy: 0.9949\n",
      "Epoch 11/30\n",
      "3088/3088 [==============================] - 9s 3ms/step - loss: 0.0342 - accuracy: 0.9919 - val_loss: 0.0256 - val_accuracy: 0.9931\n",
      "Epoch 12/30\n",
      "3088/3088 [==============================] - 9s 3ms/step - loss: 0.0393 - accuracy: 0.9935 - val_loss: 0.0179 - val_accuracy: 0.9944\n",
      "Epoch 13/30\n",
      "3088/3088 [==============================] - 10s 3ms/step - loss: 0.0590 - accuracy: 0.9946 - val_loss: 0.0173 - val_accuracy: 0.9957\n",
      "Epoch 14/30\n",
      "3088/3088 [==============================] - 11s 3ms/step - loss: 0.0322 - accuracy: 0.9926 - val_loss: 0.0173 - val_accuracy: 0.9955\n",
      "Epoch 15/30\n",
      "3088/3088 [==============================] - 9s 3ms/step - loss: 0.0537 - accuracy: 0.9928 - val_loss: 0.0154 - val_accuracy: 0.9960\n",
      "Epoch 16/30\n",
      "3088/3088 [==============================] - 9s 3ms/step - loss: 0.0201 - accuracy: 0.9954 - val_loss: 0.0228 - val_accuracy: 0.9904\n",
      "Epoch 17/30\n",
      "3088/3088 [==============================] - 8s 3ms/step - loss: 0.0357 - accuracy: 0.9941 - val_loss: 0.0210 - val_accuracy: 0.9924\n",
      "Epoch 18/30\n",
      "3088/3088 [==============================] - 6s 2ms/step - loss: 0.0252 - accuracy: 0.9943 - val_loss: 0.0229 - val_accuracy: 0.9920\n",
      "Epoch 19/30\n",
      "3088/3088 [==============================] - 6s 2ms/step - loss: 0.0242 - accuracy: 0.9937 - val_loss: 0.0130 - val_accuracy: 0.9959\n",
      "Epoch 20/30\n",
      "3088/3088 [==============================] - 6s 2ms/step - loss: 1.1971 - accuracy: 0.9949 - val_loss: 0.0179 - val_accuracy: 0.9966\n",
      "Epoch 21/30\n",
      "3088/3088 [==============================] - 6s 2ms/step - loss: 0.0152 - accuracy: 0.9967 - val_loss: 0.0105 - val_accuracy: 0.9982\n",
      "Epoch 22/30\n",
      "3088/3088 [==============================] - 6s 2ms/step - loss: 0.0196 - accuracy: 0.9957 - val_loss: 0.0218 - val_accuracy: 0.9936\n",
      "Epoch 23/30\n",
      "3088/3088 [==============================] - 6s 2ms/step - loss: 0.0326 - accuracy: 0.9944 - val_loss: 0.0128 - val_accuracy: 0.9975\n",
      "Epoch 24/30\n",
      "3088/3088 [==============================] - 8s 2ms/step - loss: 0.0290 - accuracy: 0.9951 - val_loss: 0.0284 - val_accuracy: 0.9945\n",
      "Epoch 25/30\n",
      "3088/3088 [==============================] - 10s 3ms/step - loss: 0.0216 - accuracy: 0.9952 - val_loss: 0.0230 - val_accuracy: 0.9919\n",
      "Epoch 26/30\n",
      "3088/3088 [==============================] - 10s 3ms/step - loss: 0.0867 - accuracy: 0.9942 - val_loss: 0.0181 - val_accuracy: 0.9933\n",
      "Epoch 27/30\n",
      "3088/3088 [==============================] - 10s 3ms/step - loss: 0.0231 - accuracy: 0.9945 - val_loss: 0.0149 - val_accuracy: 0.9958\n",
      "Epoch 28/30\n",
      "3088/3088 [==============================] - 10s 3ms/step - loss: 0.0532 - accuracy: 0.9957 - val_loss: 0.0180 - val_accuracy: 0.9926\n",
      "Epoch 29/30\n",
      "3088/3088 [==============================] - 10s 3ms/step - loss: 0.0569 - accuracy: 0.9948 - val_loss: 0.0093 - val_accuracy: 0.9978\n",
      "Epoch 30/30\n",
      "3088/3088 [==============================] - 11s 4ms/step - loss: 0.0237 - accuracy: 0.9959 - val_loss: 0.0146 - val_accuracy: 0.9957\n"
     ]
    },
    {
     "data": {
      "text/plain": [
       "<tensorflow.python.keras.callbacks.History at 0x1ed8f5e7f48>"
      ]
     },
     "execution_count": 35,
     "metadata": {},
     "output_type": "execute_result"
    }
   ],
   "source": [
    "dnn1.fit(features_train,labels_train,epochs=30,batch_size=64,\n",
    "         validation_data=(features_val,labels_val),callbacks=[tensorboard_callback, eary_stop_callback])"
   ]
  },
  {
   "cell_type": "code",
   "execution_count": 36,
   "id": "republican-disposal",
   "metadata": {},
   "outputs": [
    {
     "data": {
      "image/png": "[encoded data removed]",
      "text/plain": [
       "<Figure size 432x288 with 1 Axes>"
      ]
     },
     "metadata": {
      "needs_background": "light"
     },
     "output_type": "display_data"
    },
    {
     "data": {
      "image/png": "[encoded data removed]",
      "text/plain": [
       "<Figure size 432x288 with 1 Axes>"
      ]
     },
     "metadata": {
      "needs_background": "light"
     },
     "output_type": "display_data"
    }
   ],
   "source": [
    "plotgraphs(dnn1)"
   ]
  },
  {
   "cell_type": "code",
   "execution_count": 37,
   "id": "current-letter",
   "metadata": {},
   "outputs": [],
   "source": [
    "predict = np.argmax(dnn1.predict(features_test),axis=1)\n",
    "\n",
    "a = np.unique(predict)\n",
    "b = np.unique(labels_test)\n",
    "c = list(set(a) | set(b))"
   ]
  },
  {
   "cell_type": "code",
   "execution_count": 38,
   "id": "hired-bridges",
   "metadata": {},
   "outputs": [
    {
     "name": "stdout",
     "output_type": "stream",
     "text": [
      "        ----------Classification Report Of Classes-------------\n",
      "              precision    recall  f1-score   support\n",
      "\n",
      "           0       0.99      1.00      1.00     32881\n",
      "           1       1.00      0.99      1.00     32989\n",
      "\n",
      "    accuracy                           1.00     65870\n",
      "   macro avg       1.00      1.00      1.00     65870\n",
      "weighted avg       1.00      1.00      1.00     65870\n",
      "\n",
      "\n",
      "        ----------Validation Data------------------\n",
      "Accuarcy: 99.60528313344467\n",
      "Precision: 99.6080 %\n",
      "Recall-score: 99.6053\n",
      "F1-score: 99.6053\n"
     ]
    }
   ],
   "source": [
    "report(predict,labels_test)"
   ]
  },
  {
   "cell_type": "code",
   "execution_count": 39,
   "id": "concrete-ontario",
   "metadata": {},
   "outputs": [
    {
     "name": "stdout",
     "output_type": "stream",
     "text": [
      "Model: \"sequential_2\"\n",
      "_________________________________________________________________\n",
      "Layer (type)                 Output Shape              Param #   \n",
      "=================================================================\n",
      "dense_4 (Dense)              (None, 256)               11264     \n",
      "_________________________________________________________________\n",
      "dropout_2 (Dropout)          (None, 256)               0         \n",
      "_________________________________________________________________\n",
      "dense_5 (Dense)              (None, 128)               32896     \n",
      "_________________________________________________________________\n",
      "dropout_3 (Dropout)          (None, 128)               0         \n",
      "_________________________________________________________________\n",
      "dense_6 (Dense)              (None, 2)                 258       \n",
      "=================================================================\n",
      "Total params: 44,418\n",
      "Trainable params: 44,418\n",
      "Non-trainable params: 0\n",
      "_________________________________________________________________\n"
     ]
    }
   ],
   "source": [
    "dnn2= Sequential()\n",
    "dnn2.add(Dense(256, activation='relu', input_shape=(features_train.shape[1],)))\n",
    "dnn2.add(Dropout(0.1))\n",
    "dnn2.add(Dense(128, activation='relu'))\n",
    "dnn2.add(Dropout(0.1))\n",
    "dnn2.add(Dense(2, activation = 'softmax'))\n",
    "\n",
    "dnn2.summary()"
   ]
  },
  {
   "cell_type": "code",
   "execution_count": 40,
   "id": "bibliographic-syracuse",
   "metadata": {},
   "outputs": [],
   "source": [
    "dnn2.compile(loss = 'sparse_categorical_crossentropy', optimizer= 'adam', metrics = ['accuracy'])"
   ]
  },
  {
   "cell_type": "code",
   "execution_count": 41,
   "id": "antique-switch",
   "metadata": {
    "scrolled": true
   },
   "outputs": [
    {
     "name": "stdout",
     "output_type": "stream",
     "text": [
      "Epoch 1/30\n",
      "3088/3088 [==============================] - 12s 4ms/step - loss: 60.7072 - accuracy: 0.9154 - val_loss: 0.0663 - val_accuracy: 0.9780\n",
      "Epoch 2/30\n",
      "3088/3088 [==============================] - 13s 4ms/step - loss: 0.1272 - accuracy: 0.9775 - val_loss: 0.0331 - val_accuracy: 0.9838\n",
      "Epoch 3/30\n",
      "3088/3088 [==============================] - 13s 4ms/step - loss: 0.0370 - accuracy: 0.9835 - val_loss: 0.0289 - val_accuracy: 0.9867\n",
      "Epoch 4/30\n",
      "3088/3088 [==============================] - 13s 4ms/step - loss: 0.0380 - accuracy: 0.9850 - val_loss: 0.0264 - val_accuracy: 0.9872\n",
      "Epoch 5/30\n",
      "3088/3088 [==============================] - 14s 4ms/step - loss: 0.0391 - accuracy: 0.9855 - val_loss: 0.0283 - val_accuracy: 0.9860\n",
      "Epoch 6/30\n",
      "3088/3088 [==============================] - 14s 4ms/step - loss: 0.0299 - accuracy: 0.9867 - val_loss: 0.0287 - val_accuracy: 0.9854\n",
      "Epoch 7/30\n",
      "3088/3088 [==============================] - 14s 4ms/step - loss: 0.0517 - accuracy: 0.9861 - val_loss: 0.0272 - val_accuracy: 0.9857\n",
      "Epoch 8/30\n",
      "3088/3088 [==============================] - 14s 4ms/step - loss: 0.2632 - accuracy: 0.9861 - val_loss: 0.0259 - val_accuracy: 0.9888\n",
      "Epoch 9/30\n",
      "3088/3088 [==============================] - 13s 4ms/step - loss: 0.0348 - accuracy: 0.9862 - val_loss: 0.0266 - val_accuracy: 0.9873\n",
      "Epoch 10/30\n",
      "3088/3088 [==============================] - 13s 4ms/step - loss: 0.0556 - accuracy: 0.9866 - val_loss: 0.0236 - val_accuracy: 0.9890\n",
      "Epoch 11/30\n",
      "3088/3088 [==============================] - 14s 4ms/step - loss: 0.0306 - accuracy: 0.9871 - val_loss: 0.0269 - val_accuracy: 0.9882\n",
      "Epoch 12/30\n",
      "3088/3088 [==============================] - 13s 4ms/step - loss: 0.0589 - accuracy: 0.9868 - val_loss: 0.0242 - val_accuracy: 0.9882\n",
      "Epoch 13/30\n",
      "3088/3088 [==============================] - 14s 5ms/step - loss: 0.0323 - accuracy: 0.9875 - val_loss: 0.0259 - val_accuracy: 0.9861\n",
      "Epoch 14/30\n",
      "3088/3088 [==============================] - 11s 4ms/step - loss: 0.0274 - accuracy: 0.9870 - val_loss: 0.0275 - val_accuracy: 0.9855\n",
      "Epoch 15/30\n",
      "3088/3088 [==============================] - 12s 4ms/step - loss: 0.1024 - accuracy: 0.9853 - val_loss: 0.0250 - val_accuracy: 0.9871\n",
      "Epoch 16/30\n",
      "3088/3088 [==============================] - 14s 4ms/step - loss: 0.0356 - accuracy: 0.9872 - val_loss: 0.0269 - val_accuracy: 0.9860\n",
      "Epoch 17/30\n",
      "3088/3088 [==============================] - 13s 4ms/step - loss: 0.0334 - accuracy: 0.9870 - val_loss: 0.0220 - val_accuracy: 0.9898\n",
      "Epoch 18/30\n",
      "3088/3088 [==============================] - 13s 4ms/step - loss: 0.0267 - accuracy: 0.9894 - val_loss: 0.0231 - val_accuracy: 0.9908\n",
      "Epoch 19/30\n",
      "3088/3088 [==============================] - 13s 4ms/step - loss: 0.0334 - accuracy: 0.9890 - val_loss: 0.0238 - val_accuracy: 0.9882\n",
      "Epoch 20/30\n",
      "3088/3088 [==============================] - 13s 4ms/step - loss: 0.0455 - accuracy: 0.9880 - val_loss: 0.0242 - val_accuracy: 0.9881\n",
      "Epoch 21/30\n",
      "3088/3088 [==============================] - 14s 4ms/step - loss: 0.0330 - accuracy: 0.9889 - val_loss: 0.0226 - val_accuracy: 0.9891\n",
      "Epoch 22/30\n",
      "3088/3088 [==============================] - 13s 4ms/step - loss: 0.1495 - accuracy: 0.9885 - val_loss: 0.0234 - val_accuracy: 0.9881\n",
      "Epoch 23/30\n",
      "3088/3088 [==============================] - 13s 4ms/step - loss: 0.0250 - accuracy: 0.9889 - val_loss: 0.0224 - val_accuracy: 0.9898\n",
      "Epoch 24/30\n",
      "3088/3088 [==============================] - 13s 4ms/step - loss: 0.0261 - accuracy: 0.9906 - val_loss: 0.0247 - val_accuracy: 0.9892\n",
      "Epoch 25/30\n",
      "3088/3088 [==============================] - 14s 4ms/step - loss: 0.0439 - accuracy: 0.9888 - val_loss: 0.0269 - val_accuracy: 0.9865\n",
      "Epoch 26/30\n",
      "3088/3088 [==============================] - 14s 4ms/step - loss: 0.0379 - accuracy: 0.9879 - val_loss: 0.0246 - val_accuracy: 0.9886\n",
      "Epoch 27/30\n",
      "3088/3088 [==============================] - 13s 4ms/step - loss: 0.0264 - accuracy: 0.9887 - val_loss: 0.0248 - val_accuracy: 0.9876\n",
      "Epoch 28/30\n",
      "3088/3088 [==============================] - 12s 4ms/step - loss: 0.0257 - accuracy: 0.9890 - val_loss: 0.0257 - val_accuracy: 0.9882\n",
      "Epoch 29/30\n",
      "3088/3088 [==============================] - 15s 5ms/step - loss: 0.0603 - accuracy: 0.9877 - val_loss: 0.0239 - val_accuracy: 0.9883\n",
      "Epoch 30/30\n",
      "3088/3088 [==============================] - 15s 5ms/step - loss: 0.0910 - accuracy: 0.9886 - val_loss: 0.0243 - val_accuracy: 0.9885\n"
     ]
    },
    {
     "data": {
      "text/plain": [
       "<tensorflow.python.keras.callbacks.History at 0x1ed8f956b08>"
      ]
     },
     "execution_count": 41,
     "metadata": {},
     "output_type": "execute_result"
    }
   ],
   "source": [
    "dnn2.fit(features_train,labels_train,epochs=30,batch_size=64,\n",
    "         validation_data=(features_val,labels_val),callbacks=[tensorboard_callback, eary_stop_callback])"
   ]
  },
  {
   "cell_type": "code",
   "execution_count": 42,
   "id": "unusual-mattress",
   "metadata": {},
   "outputs": [
    {
     "data": {
      "image/png": "[encoded data removed]",
      "text/plain": [
       "<Figure size 432x288 with 1 Axes>"
      ]
     },
     "metadata": {
      "needs_background": "light"
     },
     "output_type": "display_data"
    },
    {
     "data": {
      "image/png": "[encoded data removed]",
      "text/plain": [
       "<Figure size 432x288 with 1 Axes>"
      ]
     },
     "metadata": {
      "needs_background": "light"
     },
     "output_type": "display_data"
    }
   ],
   "source": [
    "plotgraphs(dnn2)"
   ]
  },
  {
   "cell_type": "code",
   "execution_count": 43,
   "id": "romantic-orientation",
   "metadata": {},
   "outputs": [],
   "source": [
    "predict = np.argmax(dnn2.predict(features_test),axis=1)\n",
    "\n",
    "a = np.unique(predict)\n",
    "b = np.unique(labels_test)\n",
    "c = list(set(a) | set(b))"
   ]
  },
  {
   "cell_type": "code",
   "execution_count": 44,
   "id": "otherwise-treaty",
   "metadata": {},
   "outputs": [
    {
     "name": "stdout",
     "output_type": "stream",
     "text": [
      "        ----------Classification Report Of Classes-------------\n",
      "              precision    recall  f1-score   support\n",
      "\n",
      "           0       0.98      1.00      0.99     32881\n",
      "           1       1.00      0.98      0.99     32989\n",
      "\n",
      "    accuracy                           0.99     65870\n",
      "   macro avg       0.99      0.99      0.99     65870\n",
      "weighted avg       0.99      0.99      0.99     65870\n",
      "\n",
      "\n",
      "        ----------Validation Data------------------\n",
      "Accuarcy: 98.82799453468955\n",
      "Precision: 98.8546 %\n",
      "Recall-score: 98.8280\n",
      "F1-score: 98.8279\n"
     ]
    }
   ],
   "source": [
    "report(predict,labels_test)"
   ]
  },
  {
   "cell_type": "code",
   "execution_count": 46,
   "id": "applicable-communist",
   "metadata": {},
   "outputs": [
    {
     "name": "stdout",
     "output_type": "stream",
     "text": [
      "Model: \"sequential_4\"\n",
      "_________________________________________________________________\n",
      "Layer (type)                 Output Shape              Param #   \n",
      "=================================================================\n",
      "dense_11 (Dense)             (None, 256)               11264     \n",
      "_________________________________________________________________\n",
      "dropout_7 (Dropout)          (None, 256)               0         \n",
      "_________________________________________________________________\n",
      "dense_12 (Dense)             (None, 128)               32896     \n",
      "_________________________________________________________________\n",
      "dropout_8 (Dropout)          (None, 128)               0         \n",
      "_________________________________________________________________\n",
      "dense_13 (Dense)             (None, 64)                8256      \n",
      "_________________________________________________________________\n",
      "dropout_9 (Dropout)          (None, 64)                0         \n",
      "_________________________________________________________________\n",
      "dense_14 (Dense)             (None, 2)                 130       \n",
      "=================================================================\n",
      "Total params: 52,546\n",
      "Trainable params: 52,546\n",
      "Non-trainable params: 0\n",
      "_________________________________________________________________\n"
     ]
    }
   ],
   "source": [
    "dnn3= Sequential()\n",
    "\n",
    "dnn3.add(Dense(256, activation='relu', input_shape=(features_train.shape[1],)))\n",
    "dnn3.add(Dropout(0.1))\n",
    "dnn3.add(Dense(128, activation='relu'))\n",
    "dnn3.add(Dropout(0.1))\n",
    "dnn3.add(Dense(64, activation='relu'))\n",
    "dnn3.add(Dropout(0.1))\n",
    "\n",
    "dnn3.add(Dense(2, activation = 'softmax'))\n",
    "\n",
    "dnn3.summary()"
   ]
  },
  {
   "cell_type": "code",
   "execution_count": 47,
   "id": "lesbian-character",
   "metadata": {},
   "outputs": [],
   "source": [
    "dnn3.compile(loss = 'sparse_categorical_crossentropy', optimizer= 'adam', metrics = ['accuracy'])"
   ]
  },
  {
   "cell_type": "code",
   "execution_count": 48,
   "id": "considerable-retention",
   "metadata": {
    "scrolled": true
   },
   "outputs": [
    {
     "name": "stdout",
     "output_type": "stream",
     "text": [
      "Epoch 1/30\n",
      "3088/3088 [==============================] - 13s 4ms/step - loss: 28.2813 - accuracy: 0.9101 - val_loss: 0.0556 - val_accuracy: 0.9708\n",
      "Epoch 2/30\n",
      "3088/3088 [==============================] - 14s 5ms/step - loss: 0.1220 - accuracy: 0.9716 - val_loss: 0.0455 - val_accuracy: 0.9777\n",
      "Epoch 3/30\n",
      "3088/3088 [==============================] - 14s 5ms/step - loss: 0.0944 - accuracy: 0.9775 - val_loss: 0.0485 - val_accuracy: 0.9809\n",
      "Epoch 4/30\n",
      "3088/3088 [==============================] - 16s 5ms/step - loss: 0.0493 - accuracy: 0.9788 - val_loss: 0.0370 - val_accuracy: 0.9824\n",
      "Epoch 5/30\n",
      "3088/3088 [==============================] - 15s 5ms/step - loss: 0.0471 - accuracy: 0.9821 - val_loss: 0.0377 - val_accuracy: 0.9808\n",
      "Epoch 6/30\n",
      "3088/3088 [==============================] - 14s 5ms/step - loss: 0.0549 - accuracy: 0.9824 - val_loss: 0.0339 - val_accuracy: 0.9815\n",
      "Epoch 7/30\n",
      "3088/3088 [==============================] - 14s 5ms/step - loss: 0.0431 - accuracy: 0.9820 - val_loss: 0.0327 - val_accuracy: 0.9815\n",
      "Epoch 8/30\n",
      "3088/3088 [==============================] - 14s 5ms/step - loss: 0.0473 - accuracy: 0.9829 - val_loss: 0.0282 - val_accuracy: 0.9857\n",
      "Epoch 9/30\n",
      "3088/3088 [==============================] - 14s 5ms/step - loss: 0.0308 - accuracy: 0.9859 - val_loss: 0.0342 - val_accuracy: 0.9797\n",
      "Epoch 10/30\n",
      "3088/3088 [==============================] - 15s 5ms/step - loss: 0.1125 - accuracy: 0.9821 - val_loss: 0.0677 - val_accuracy: 0.9795\n",
      "Epoch 11/30\n",
      "3088/3088 [==============================] - 14s 5ms/step - loss: 0.0485 - accuracy: 0.9840 - val_loss: 0.0287 - val_accuracy: 0.9845\n",
      "Epoch 12/30\n",
      "3088/3088 [==============================] - 14s 5ms/step - loss: 0.0840 - accuracy: 0.9856 - val_loss: 0.0275 - val_accuracy: 0.9858\n",
      "Epoch 13/30\n",
      "3088/3088 [==============================] - 13s 4ms/step - loss: 0.1187 - accuracy: 0.9850 - val_loss: 0.0281 - val_accuracy: 0.9866\n",
      "Epoch 14/30\n",
      "3088/3088 [==============================] - 12s 4ms/step - loss: 0.0362 - accuracy: 0.9869 - val_loss: 0.0308 - val_accuracy: 0.9828\n",
      "Epoch 15/30\n",
      "3088/3088 [==============================] - 14s 5ms/step - loss: 0.0384 - accuracy: 0.9843 - val_loss: 0.0267 - val_accuracy: 0.9868\n",
      "Epoch 16/30\n",
      "3088/3088 [==============================] - 15s 5ms/step - loss: 1.0730 - accuracy: 0.9866 - val_loss: 0.0314 - val_accuracy: 0.9829\n",
      "Epoch 17/30\n",
      "3088/3088 [==============================] - 15s 5ms/step - loss: 0.0305 - accuracy: 0.9843 - val_loss: 0.0294 - val_accuracy: 0.9855\n",
      "Epoch 18/30\n",
      "3088/3088 [==============================] - 15s 5ms/step - loss: 0.0332 - accuracy: 0.9869 - val_loss: 0.0318 - val_accuracy: 0.9838\n",
      "Epoch 19/30\n",
      "3088/3088 [==============================] - 15s 5ms/step - loss: 0.0369 - accuracy: 0.9840 - val_loss: 0.0274 - val_accuracy: 0.9865\n",
      "Epoch 20/30\n",
      "3088/3088 [==============================] - 15s 5ms/step - loss: 0.0280 - accuracy: 0.9863 - val_loss: 0.0266 - val_accuracy: 0.9865\n",
      "Epoch 21/30\n",
      "3088/3088 [==============================] - 15s 5ms/step - loss: 0.0490 - accuracy: 0.9857 - val_loss: 0.0307 - val_accuracy: 0.9831\n",
      "Epoch 22/30\n",
      "3088/3088 [==============================] - 15s 5ms/step - loss: 0.0382 - accuracy: 0.9836 - val_loss: 0.0270 - val_accuracy: 0.9865\n",
      "Epoch 23/30\n",
      "3088/3088 [==============================] - 15s 5ms/step - loss: 0.0281 - accuracy: 0.9868 - val_loss: 0.0247 - val_accuracy: 0.9874\n",
      "Epoch 24/30\n",
      "3088/3088 [==============================] - 15s 5ms/step - loss: 0.0336 - accuracy: 0.9858 - val_loss: 0.0300 - val_accuracy: 0.9855\n",
      "Epoch 25/30\n",
      "3088/3088 [==============================] - 15s 5ms/step - loss: 0.0411 - accuracy: 0.9846 - val_loss: 0.0258 - val_accuracy: 0.9863\n",
      "Epoch 26/30\n",
      "3088/3088 [==============================] - 12s 4ms/step - loss: 0.0475 - accuracy: 0.9856 - val_loss: 0.0249 - val_accuracy: 0.9876\n",
      "Epoch 27/30\n",
      "3088/3088 [==============================] - 14s 5ms/step - loss: 0.0260 - accuracy: 0.9871 - val_loss: 0.0280 - val_accuracy: 0.9883\n",
      "Epoch 28/30\n",
      "3088/3088 [==============================] - 14s 5ms/step - loss: 0.0422 - accuracy: 0.9875 - val_loss: 0.0280 - val_accuracy: 0.9846\n",
      "Epoch 29/30\n",
      "3088/3088 [==============================] - 14s 4ms/step - loss: 0.0299 - accuracy: 0.9859 - val_loss: 0.0264 - val_accuracy: 0.9873\n",
      "Epoch 30/30\n",
      "3088/3088 [==============================] - 14s 5ms/step - loss: 0.0251 - accuracy: 0.9886 - val_loss: 0.0222 - val_accuracy: 0.9899\n"
     ]
    },
    {
     "data": {
      "text/plain": [
       "<tensorflow.python.keras.callbacks.History at 0x1ed8fbda848>"
      ]
     },
     "execution_count": 48,
     "metadata": {},
     "output_type": "execute_result"
    }
   ],
   "source": [
    "dnn3.fit(features_train,labels_train,epochs=30,batch_size=64,\n",
    "         validation_data=(features_val,labels_val),callbacks=[tensorboard_callback, eary_stop_callback])"
   ]
  },
  {
   "cell_type": "code",
   "execution_count": 49,
   "id": "conservative-dream",
   "metadata": {
    "scrolled": true
   },
   "outputs": [
    {
     "data": {
      "image/png": "[encoded data removed]",
      "text/plain": [
       "<Figure size 432x288 with 1 Axes>"
      ]
     },
     "metadata": {
      "needs_background": "light"
     },
     "output_type": "display_data"
    },
    {
     "data": {
      "image/png": "[encoded data removed]",
      "text/plain": [
       "<Figure size 432x288 with 1 Axes>"
      ]
     },
     "metadata": {
      "needs_background": "light"
     },
     "output_type": "display_data"
    }
   ],
   "source": [
    "plotgraphs(dnn3)"
   ]
  },
  {
   "cell_type": "code",
   "execution_count": 50,
   "id": "fuzzy-gibson",
   "metadata": {},
   "outputs": [],
   "source": [
    "predict = np.argmax(dnn3.predict(features_test),axis=1)\n",
    "\n",
    "a = np.unique(predict)\n",
    "b = np.unique(labels_test)\n",
    "c = list(set(a) | set(b))"
   ]
  },
  {
   "cell_type": "code",
   "execution_count": 51,
   "id": "nuclear-polymer",
   "metadata": {},
   "outputs": [
    {
     "name": "stdout",
     "output_type": "stream",
     "text": [
      "        ----------Classification Report Of Classes-------------\n",
      "              precision    recall  f1-score   support\n",
      "\n",
      "           0       0.98      1.00      0.99     32881\n",
      "           1       1.00      0.98      0.99     32989\n",
      "\n",
      "    accuracy                           0.99     65870\n",
      "   macro avg       0.99      0.99      0.99     65870\n",
      "weighted avg       0.99      0.99      0.99     65870\n",
      "\n",
      "\n",
      "        ----------Validation Data------------------\n",
      "Accuarcy: 98.94337331106725\n",
      "Precision: 98.9650 %\n",
      "Recall-score: 98.9434\n",
      "F1-score: 98.9433\n"
     ]
    }
   ],
   "source": [
    "report(predict,labels_test)"
   ]
  },
  {
   "cell_type": "markdown",
   "id": "mental-throw",
   "metadata": {},
   "source": [
    "### CNN Models"
   ]
  },
  {
   "cell_type": "code",
   "execution_count": 52,
   "id": "extensive-prevention",
   "metadata": {},
   "outputs": [
    {
     "data": {
      "text/plain": [
       "((197607, 43, 1), (65870, 43, 1), (65869, 43, 1))"
      ]
     },
     "execution_count": 52,
     "metadata": {},
     "output_type": "execute_result"
    }
   ],
   "source": [
    "# reshape input to be [samples, time steps, features]\n",
    "y_train= to_categorical(labels_train)\n",
    "y_test= to_categorical(labels_test)\n",
    "y_val= to_categorical(labels_val)\n",
    "\n",
    "X_train = np.array(features_train).reshape(features_train.shape[0], features_train.shape[1], 1)\n",
    "X_test = np.array(features_test).reshape(features_test.shape[0], features_test.shape[1], 1)\n",
    "X_val = np.array(features_val).reshape(features_val.shape[0], features_val.shape[1], 1)\n",
    "X_train.shape , X_test.shape ,X_val.shape"
   ]
  },
  {
   "cell_type": "code",
   "execution_count": 57,
   "id": "signed-translation",
   "metadata": {
    "scrolled": true
   },
   "outputs": [
    {
     "name": "stdout",
     "output_type": "stream",
     "text": [
      "Model: \"sequential\"\n",
      "_________________________________________________________________\n",
      "Layer (type)                 Output Shape              Param #   \n",
      "=================================================================\n",
      "conv1d (Conv1D)              (None, 41, 64)            256       \n",
      "_________________________________________________________________\n",
      "leaky_re_lu (LeakyReLU)      (None, 41, 64)            0         \n",
      "_________________________________________________________________\n",
      "dropout (Dropout)            (None, 41, 64)            0         \n",
      "_________________________________________________________________\n",
      "flatten (Flatten)            (None, 2624)              0         \n",
      "_________________________________________________________________\n",
      "dense (Dense)                (None, 64)                168000    \n",
      "_________________________________________________________________\n",
      "leaky_re_lu_1 (LeakyReLU)    (None, 64)                0         \n",
      "_________________________________________________________________\n",
      "dense_1 (Dense)              (None, 32)                2080      \n",
      "_________________________________________________________________\n",
      "leaky_re_lu_2 (LeakyReLU)    (None, 32)                0         \n",
      "_________________________________________________________________\n",
      "dense_2 (Dense)              (None, 2)                 66        \n",
      "=================================================================\n",
      "Total params: 170,402\n",
      "Trainable params: 170,402\n",
      "Non-trainable params: 0\n",
      "_________________________________________________________________\n"
     ]
    }
   ],
   "source": [
    "#hyperparameters\n",
    "keras.backend.clear_session()\n",
    "SEED = 1040941203\n",
    "hidden_initializer = random_uniform(seed=SEED)\n",
    "\n",
    "\n",
    "# create model\n",
    "cnn1 = Sequential()\n",
    "cnn1.add(Conv1D(64, 3, input_shape=(43, 1)))\n",
    "cnn1.add(LeakyReLU(alpha=0.1))\n",
    "cnn1.add(MaxPooling1D(pool_size=2))\n",
    "cnn1.add(Dropout(0.3))\n",
    "\n",
    "\n",
    "cnn1.add(Flatten())\n",
    "cnn1.add(Dense(64, input_dim=2, kernel_initializer=hidden_initializer))\n",
    "cnn1.add(LeakyReLU(alpha=0.1))\n",
    "cnn1.add(Dense(32))\n",
    "cnn1.add(LeakyReLU(alpha=0.1))\n",
    "cnn1.add(Dense(2, activation='softmax'))\n",
    "\n",
    "cnn1.summary()"
   ]
  },
  {
   "cell_type": "code",
   "execution_count": 59,
   "id": "numeric-holly",
   "metadata": {
    "scrolled": true
   },
   "outputs": [
    {
     "name": "stdout",
     "output_type": "stream",
     "text": [
      "Epoch 1/30\n",
      "772/772 [==============================] - 24s 31ms/step - loss: 1.0263 - accuracy: 0.9737 - val_loss: 0.4783 - val_accuracy: 0.9847\n",
      "Epoch 2/30\n",
      "772/772 [==============================] - 23s 30ms/step - loss: 0.3556 - accuracy: 0.9820 - val_loss: 0.1415 - val_accuracy: 0.9889\n",
      "Epoch 3/30\n",
      "772/772 [==============================] - 23s 29ms/step - loss: 0.1562 - accuracy: 0.9858 - val_loss: 0.7145 - val_accuracy: 0.9874\n",
      "Epoch 4/30\n",
      "772/772 [==============================] - 17s 22ms/step - loss: 0.7054 - accuracy: 0.9828 - val_loss: 0.0409 - val_accuracy: 0.9919\n",
      "Epoch 5/30\n",
      "772/772 [==============================] - 19s 25ms/step - loss: 0.0588 - accuracy: 0.9916 - val_loss: 0.0222 - val_accuracy: 0.9945\n",
      "Epoch 6/30\n",
      "772/772 [==============================] - 20s 26ms/step - loss: 0.0467 - accuracy: 0.9934 - val_loss: 0.3227 - val_accuracy: 0.9967\n",
      "Epoch 7/30\n",
      "772/772 [==============================] - 18s 23ms/step - loss: 0.1265 - accuracy: 0.9914 - val_loss: 0.0279 - val_accuracy: 0.9945\n",
      "Epoch 8/30\n",
      "772/772 [==============================] - 21s 28ms/step - loss: 0.0425 - accuracy: 0.9945 - val_loss: 0.0156 - val_accuracy: 0.9941\n",
      "Epoch 9/30\n",
      "772/772 [==============================] - 22s 29ms/step - loss: 0.0662 - accuracy: 0.9944 - val_loss: 0.0315 - val_accuracy: 0.9942\n",
      "Epoch 10/30\n",
      "772/772 [==============================] - 22s 28ms/step - loss: 0.0465 - accuracy: 0.9942 - val_loss: 0.1709 - val_accuracy: 0.9932\n",
      "Epoch 11/30\n",
      "772/772 [==============================] - 21s 28ms/step - loss: 0.0442 - accuracy: 0.9942 - val_loss: 0.0204 - val_accuracy: 0.9949\n",
      "Epoch 12/30\n",
      "772/772 [==============================] - 21s 27ms/step - loss: 0.0428 - accuracy: 0.9947 - val_loss: 0.0839 - val_accuracy: 0.9944\n",
      "Epoch 13/30\n",
      "772/772 [==============================] - 21s 27ms/step - loss: 0.0349 - accuracy: 0.9947 - val_loss: 0.2183 - val_accuracy: 0.9968\n",
      "Epoch 14/30\n",
      "772/772 [==============================] - 21s 27ms/step - loss: 0.0348 - accuracy: 0.9959 - val_loss: 0.0114 - val_accuracy: 0.9966\n",
      "Epoch 15/30\n",
      "772/772 [==============================] - 21s 27ms/step - loss: 0.0901 - accuracy: 0.9951 - val_loss: 0.0180 - val_accuracy: 0.9954\n",
      "Epoch 16/30\n",
      "772/772 [==============================] - 21s 27ms/step - loss: 0.0384 - accuracy: 0.9950 - val_loss: 0.0208 - val_accuracy: 0.9977\n",
      "Epoch 17/30\n",
      "772/772 [==============================] - 21s 28ms/step - loss: 0.0359 - accuracy: 0.9969 - val_loss: 0.0406 - val_accuracy: 0.9975\n",
      "Epoch 18/30\n",
      "772/772 [==============================] - 21s 27ms/step - loss: 0.0304 - accuracy: 0.9974 - val_loss: 0.0084 - val_accuracy: 0.9988\n",
      "Epoch 19/30\n",
      "772/772 [==============================] - 17s 22ms/step - loss: 0.0484 - accuracy: 0.9973 - val_loss: 0.0160 - val_accuracy: 0.9986\n",
      "Epoch 20/30\n",
      "772/772 [==============================] - 21s 27ms/step - loss: 0.0210 - accuracy: 0.9978 - val_loss: 0.0193 - val_accuracy: 0.9986\n",
      "Epoch 21/30\n",
      "772/772 [==============================] - 21s 28ms/step - loss: 0.0349 - accuracy: 0.9975 - val_loss: 0.0223 - val_accuracy: 0.9986\n",
      "Epoch 22/30\n",
      "772/772 [==============================] - 22s 28ms/step - loss: 0.0397 - accuracy: 0.9978 - val_loss: 0.0092 - val_accuracy: 0.9992\n",
      "Epoch 23/30\n",
      "772/772 [==============================] - 22s 29ms/step - loss: 0.0129 - accuracy: 0.9985 - val_loss: 0.8195 - val_accuracy: 0.9963\n",
      "Epoch 24/30\n",
      "772/772 [==============================] - 23s 30ms/step - loss: 0.1303 - accuracy: 0.9953 - val_loss: 0.0092 - val_accuracy: 0.9968\n",
      "Epoch 25/30\n",
      "772/772 [==============================] - 23s 30ms/step - loss: 0.0423 - accuracy: 0.9975 - val_loss: 0.0167 - val_accuracy: 0.9988\n",
      "Epoch 26/30\n",
      "772/772 [==============================] - 24s 31ms/step - loss: 0.0510 - accuracy: 0.9977 - val_loss: 0.0268 - val_accuracy: 0.9986\n",
      "Epoch 27/30\n",
      "772/772 [==============================] - 24s 31ms/step - loss: 0.0205 - accuracy: 0.9983 - val_loss: 0.0417 - val_accuracy: 0.9985\n",
      "Epoch 28/30\n",
      "772/772 [==============================] - 23s 30ms/step - loss: 0.0498 - accuracy: 0.9978 - val_loss: 0.0174 - val_accuracy: 0.9988\n",
      "Epoch 29/30\n",
      "772/772 [==============================] - 23s 30ms/step - loss: 0.0188 - accuracy: 0.9981 - val_loss: 0.0190 - val_accuracy: 0.9988\n",
      "Epoch 30/30\n",
      "772/772 [==============================] - 21s 28ms/step - loss: 0.0219 - accuracy: 0.9984 - val_loss: 0.0066 - val_accuracy: 0.9968\n"
     ]
    },
    {
     "data": {
      "text/plain": [
       "<tensorflow.python.keras.callbacks.History at 0x1ed8ffb84c8>"
      ]
     },
     "execution_count": 59,
     "metadata": {},
     "output_type": "execute_result"
    }
   ],
   "source": [
    "cnn1.compile(loss = \"categorical_crossentropy\", optimizer='adam', metrics=['accuracy'])\n",
    "cnn1.fit(X_train, y_train, epochs=30, batch_size=256,\n",
    "         validation_data=(X_val,y_val),callbacks=[tensorboard_callback, eary_stop_callback])"
   ]
  },
  {
   "cell_type": "code",
   "execution_count": 60,
   "id": "armed-stationery",
   "metadata": {},
   "outputs": [
    {
     "data": {
      "image/png": "[encoded data removed]",
      "text/plain": [
       "<Figure size 432x288 with 1 Axes>"
      ]
     },
     "metadata": {
      "needs_background": "light"
     },
     "output_type": "display_data"
    },
    {
     "data": {
      "image/png": "[encoded data removed]",
      "text/plain": [
       "<Figure size 432x288 with 1 Axes>"
      ]
     },
     "metadata": {
      "needs_background": "light"
     },
     "output_type": "display_data"
    }
   ],
   "source": [
    "plotgraphs(cnn1)"
   ]
  },
  {
   "cell_type": "code",
   "execution_count": 61,
   "id": "scheduled-appliance",
   "metadata": {},
   "outputs": [],
   "source": [
    "predict = np.argmax(cnn1.predict(X_test),axis=1)\n",
    "\n",
    "a = np.unique(predict)\n",
    "b = np.unique(y_test)\n",
    "c = list(set(a) | set(b))"
   ]
  },
  {
   "cell_type": "code",
   "execution_count": 62,
   "id": "thousand-assets",
   "metadata": {},
   "outputs": [
    {
     "name": "stdout",
     "output_type": "stream",
     "text": [
      "        ----------Classification Report Of Classes-------------\n",
      "              precision    recall  f1-score   support\n",
      "\n",
      "           0       1.00      0.99      1.00     32881\n",
      "           1       0.99      1.00      1.00     32989\n",
      "\n",
      "    accuracy                           1.00     65870\n",
      "   macro avg       1.00      1.00      1.00     65870\n",
      "weighted avg       1.00      1.00      1.00     65870\n",
      "\n",
      "\n",
      "        ----------Validation Data------------------\n",
      "Accuarcy: 99.6660088052224\n",
      "Precision: 99.6677 %\n",
      "Recall-score: 99.6660\n",
      "F1-score: 99.6660\n"
     ]
    }
   ],
   "source": [
    "report(predict,labels_test)"
   ]
  },
  {
   "cell_type": "code",
   "execution_count": 66,
   "id": "built-identification",
   "metadata": {},
   "outputs": [
    {
     "name": "stdout",
     "output_type": "stream",
     "text": [
      "Model: \"sequential\"\n",
      "_________________________________________________________________\n",
      "Layer (type)                 Output Shape              Param #   \n",
      "=================================================================\n",
      "conv1d (Conv1D)              (None, 41, 64)            256       \n",
      "_________________________________________________________________\n",
      "leaky_re_lu (LeakyReLU)      (None, 41, 64)            0         \n",
      "_________________________________________________________________\n",
      "dropout (Dropout)            (None, 41, 64)            0         \n",
      "_________________________________________________________________\n",
      "conv1d_1 (Conv1D)            (None, 41, 64)            4160      \n",
      "_________________________________________________________________\n",
      "leaky_re_lu_1 (LeakyReLU)    (None, 41, 64)            0         \n",
      "_________________________________________________________________\n",
      "dropout_1 (Dropout)          (None, 41, 64)            0         \n",
      "_________________________________________________________________\n",
      "flatten (Flatten)            (None, 2624)              0         \n",
      "_________________________________________________________________\n",
      "dense (Dense)                (None, 64)                168000    \n",
      "_________________________________________________________________\n",
      "leaky_re_lu_2 (LeakyReLU)    (None, 64)                0         \n",
      "_________________________________________________________________\n",
      "dense_1 (Dense)              (None, 32)                2080      \n",
      "_________________________________________________________________\n",
      "leaky_re_lu_3 (LeakyReLU)    (None, 32)                0         \n",
      "_________________________________________________________________\n",
      "dense_2 (Dense)              (None, 2)                 66        \n",
      "=================================================================\n",
      "Total params: 174,562\n",
      "Trainable params: 174,562\n",
      "Non-trainable params: 0\n",
      "_________________________________________________________________\n"
     ]
    }
   ],
   "source": [
    "#hyperparameters\n",
    "keras.backend.clear_session()\n",
    "SEED = 1040941203\n",
    "hidden_initializer = random_uniform(seed=SEED)\n",
    "\n",
    "\n",
    "# create model\n",
    "cnn2 = Sequential()\n",
    "cnn2.add(Conv1D(64, 3, input_shape=(43, 1)))\n",
    "cnn2.add(LeakyReLU(alpha=0.1))\n",
    "cnn2.add(MaxPooling1D(pool_size=2))\n",
    "cnn2.add(Dropout(0.3))\n",
    "\n",
    "cnn2.add(Conv1D(64, 1))\n",
    "cnn2.add(LeakyReLU(alpha=0.1))\n",
    "cnn2.add(MaxPooling1D(pool_size=2))\n",
    "cnn2.add(Dropout(0.3))\n",
    "\n",
    "cnn2.add(Flatten())\n",
    "cnn2.add(Dense(64, input_dim=2, kernel_initializer=hidden_initializer))\n",
    "cnn2.add(LeakyReLU(alpha=0.1))\n",
    "cnn2.add(Dense(32))\n",
    "cnn2.add(LeakyReLU(alpha=0.1))\n",
    "cnn2.add(Dense(2, activation='softmax'))\n",
    "\n",
    "cnn2.summary()"
   ]
  },
  {
   "cell_type": "code",
   "execution_count": 67,
   "id": "exterior-education",
   "metadata": {
    "scrolled": true
   },
   "outputs": [
    {
     "name": "stdout",
     "output_type": "stream",
     "text": [
      "Epoch 1/30\n",
      "772/772 [==============================] - 46s 58ms/step - loss: 4.8828 - accuracy: 0.8978 - val_loss: 0.8048 - val_accuracy: 0.9701\n",
      "Epoch 2/30\n",
      "772/772 [==============================] - 43s 55ms/step - loss: 0.7604 - accuracy: 0.9611 - val_loss: 0.1479 - val_accuracy: 0.9877\n",
      "Epoch 3/30\n",
      "772/772 [==============================] - 46s 59ms/step - loss: 0.2123 - accuracy: 0.9747 - val_loss: 0.1526 - val_accuracy: 0.9889\n",
      "Epoch 4/30\n",
      "772/772 [==============================] - 42s 54ms/step - loss: 0.2866 - accuracy: 0.9773 - val_loss: 0.2512 - val_accuracy: 0.9746\n",
      "Epoch 5/30\n",
      "772/772 [==============================] - 41s 53ms/step - loss: 0.1343 - accuracy: 0.9841 - val_loss: 0.1090 - val_accuracy: 0.9893\n",
      "Epoch 6/30\n",
      "772/772 [==============================] - 38s 49ms/step - loss: 0.3598 - accuracy: 0.9809 - val_loss: 0.1678 - val_accuracy: 0.9951\n",
      "Epoch 7/30\n",
      "772/772 [==============================] - 43s 55ms/step - loss: 0.1026 - accuracy: 0.9865 - val_loss: 0.0848 - val_accuracy: 0.9930\n",
      "Epoch 8/30\n",
      "772/772 [==============================] - 43s 56ms/step - loss: 0.0954 - accuracy: 0.9894 - val_loss: 0.0591 - val_accuracy: 0.9934\n",
      "Epoch 9/30\n",
      "772/772 [==============================] - 44s 57ms/step - loss: 0.0607 - accuracy: 0.9916 - val_loss: 0.0294 - val_accuracy: 0.9940\n",
      "Epoch 10/30\n",
      "772/772 [==============================] - 45s 58ms/step - loss: 0.0365 - accuracy: 0.9931 - val_loss: 0.0223 - val_accuracy: 0.9936\n",
      "Epoch 11/30\n",
      "772/772 [==============================] - 46s 60ms/step - loss: 0.1049 - accuracy: 0.9912 - val_loss: 0.0826 - val_accuracy: 0.9957\n",
      "Epoch 12/30\n",
      "772/772 [==============================] - 40s 52ms/step - loss: 0.0308 - accuracy: 0.9952 - val_loss: 0.0074 - val_accuracy: 0.9944\n",
      "Epoch 13/30\n",
      "772/772 [==============================] - 43s 56ms/step - loss: 0.0847 - accuracy: 0.9943 - val_loss: 0.0757 - val_accuracy: 0.9954\n",
      "Epoch 14/30\n",
      "772/772 [==============================] - 46s 59ms/step - loss: 0.0371 - accuracy: 0.9954 - val_loss: 0.0694 - val_accuracy: 0.9957\n",
      "Epoch 15/30\n",
      "772/772 [==============================] - 45s 58ms/step - loss: 0.0461 - accuracy: 0.9954 - val_loss: 0.0272 - val_accuracy: 0.9966\n",
      "Epoch 16/30\n",
      "772/772 [==============================] - 44s 57ms/step - loss: 0.0305 - accuracy: 0.9965 - val_loss: 0.0824 - val_accuracy: 0.9970\n",
      "Epoch 17/30\n",
      "772/772 [==============================] - 44s 57ms/step - loss: 0.0278 - accuracy: 0.9972 - val_loss: 0.6010 - val_accuracy: 0.9484\n",
      "Epoch 18/30\n",
      "772/772 [==============================] - 43s 56ms/step - loss: 0.1612 - accuracy: 0.9883 - val_loss: 0.0259 - val_accuracy: 0.9981\n",
      "Epoch 19/30\n",
      "772/772 [==============================] - 39s 50ms/step - loss: 0.0306 - accuracy: 0.9969 - val_loss: 0.0270 - val_accuracy: 0.9968\n",
      "Epoch 20/30\n",
      "772/772 [==============================] - 44s 57ms/step - loss: 0.0189 - accuracy: 0.9978 - val_loss: 0.0153 - val_accuracy: 0.9987\n",
      "Epoch 21/30\n",
      "772/772 [==============================] - 45s 59ms/step - loss: 0.0205 - accuracy: 0.9978 - val_loss: 0.0050 - val_accuracy: 0.9996\n",
      "Epoch 22/30\n",
      "772/772 [==============================] - 44s 57ms/step - loss: 0.0218 - accuracy: 0.9980 - val_loss: 0.0125 - val_accuracy: 0.9989\n",
      "Epoch 23/30\n",
      "772/772 [==============================] - 45s 59ms/step - loss: 0.0182 - accuracy: 0.9980 - val_loss: 0.0377 - val_accuracy: 0.9983\n",
      "Epoch 24/30\n",
      "772/772 [==============================] - 45s 59ms/step - loss: 0.0328 - accuracy: 0.9979 - val_loss: 0.0147 - val_accuracy: 0.9989\n",
      "Epoch 25/30\n",
      "772/772 [==============================] - 49s 64ms/step - loss: 0.0126 - accuracy: 0.9983 - val_loss: 0.0069 - val_accuracy: 0.9994\n",
      "Epoch 26/30\n",
      "772/772 [==============================] - 41s 53ms/step - loss: 0.0106 - accuracy: 0.9985 - val_loss: 0.0077 - val_accuracy: 0.9994\n",
      "Epoch 27/30\n",
      "772/772 [==============================] - 46s 59ms/step - loss: 0.0135 - accuracy: 0.9985 - val_loss: 0.0259 - val_accuracy: 0.9985\n",
      "Epoch 28/30\n",
      "772/772 [==============================] - 46s 59ms/step - loss: 0.0512 - accuracy: 0.9975 - val_loss: 0.0049 - val_accuracy: 0.9998\n",
      "Epoch 29/30\n",
      "772/772 [==============================] - 46s 60ms/step - loss: 0.0111 - accuracy: 0.9984 - val_loss: 0.0074 - val_accuracy: 0.9994\n",
      "Epoch 30/30\n",
      "772/772 [==============================] - 47s 61ms/step - loss: 0.0174 - accuracy: 0.9986 - val_loss: 0.0047 - val_accuracy: 0.9968\n"
     ]
    },
    {
     "data": {
      "text/plain": [
       "<tensorflow.python.keras.callbacks.History at 0x1ed994b1f08>"
      ]
     },
     "execution_count": 67,
     "metadata": {},
     "output_type": "execute_result"
    }
   ],
   "source": [
    "cnn2.compile(loss = \"categorical_crossentropy\", optimizer='adam', metrics=['accuracy'])\n",
    "cnn2.fit(X_train, y_train, epochs=30, batch_size=256,\n",
    "         validation_data=(X_val,y_val),callbacks=[tensorboard_callback, eary_stop_callback])"
   ]
  },
  {
   "cell_type": "code",
   "execution_count": 68,
   "id": "liquid-packing",
   "metadata": {
    "scrolled": true
   },
   "outputs": [
    {
     "data": {
      "image/png": "[encoded data removed]",
      "text/plain": [
       "<Figure size 432x288 with 1 Axes>"
      ]
     },
     "metadata": {
      "needs_background": "light"
     },
     "output_type": "display_data"
    },
    {
     "data": {
      "image/png": "[encoded data removed]",
      "text/plain": [
       "<Figure size 432x288 with 1 Axes>"
      ]
     },
     "metadata": {
      "needs_background": "light"
     },
     "output_type": "display_data"
    }
   ],
   "source": [
    "plotgraphs(cnn2)"
   ]
  },
  {
   "cell_type": "code",
   "execution_count": 69,
   "id": "american-banana",
   "metadata": {},
   "outputs": [],
   "source": [
    "predict = np.argmax(cnn2.predict(X_test),axis=1)\n",
    "\n",
    "a = np.unique(predict)\n",
    "b = np.unique(y_test)\n",
    "c = list(set(a) | set(b))"
   ]
  },
  {
   "cell_type": "code",
   "execution_count": 70,
   "id": "indie-advisory",
   "metadata": {},
   "outputs": [
    {
     "name": "stdout",
     "output_type": "stream",
     "text": [
      "        ----------Classification Report Of Classes-------------\n",
      "              precision    recall  f1-score   support\n",
      "\n",
      "           0       1.00      0.99      1.00     32881\n",
      "           1       0.99      1.00      1.00     32989\n",
      "\n",
      "    accuracy                           1.00     65870\n",
      "   macro avg       1.00      1.00      1.00     65870\n",
      "weighted avg       1.00      1.00      1.00     65870\n",
      "\n",
      "\n",
      "        ----------Validation Data------------------\n",
      "Accuarcy: 99.66449066342797\n",
      "Precision: 99.6662 %\n",
      "Recall-score: 99.6645\n",
      "F1-score: 99.6645\n"
     ]
    }
   ],
   "source": [
    "report(predict,labels_test)"
   ]
  },
  {
   "cell_type": "code",
   "execution_count": 71,
   "id": "blank-capability",
   "metadata": {},
   "outputs": [
    {
     "name": "stdout",
     "output_type": "stream",
     "text": [
      "Model: \"sequential\"\n",
      "_________________________________________________________________\n",
      "Layer (type)                 Output Shape              Param #   \n",
      "=================================================================\n",
      "conv1d (Conv1D)              (None, 41, 64)            256       \n",
      "_________________________________________________________________\n",
      "leaky_re_lu (LeakyReLU)      (None, 41, 64)            0         \n",
      "_________________________________________________________________\n",
      "dropout (Dropout)            (None, 41, 64)            0         \n",
      "_________________________________________________________________\n",
      "conv1d_1 (Conv1D)            (None, 41, 64)            4160      \n",
      "_________________________________________________________________\n",
      "leaky_re_lu_1 (LeakyReLU)    (None, 41, 64)            0         \n",
      "_________________________________________________________________\n",
      "dropout_1 (Dropout)          (None, 41, 64)            0         \n",
      "_________________________________________________________________\n",
      "conv1d_2 (Conv1D)            (None, 41, 64)            4160      \n",
      "_________________________________________________________________\n",
      "leaky_re_lu_2 (LeakyReLU)    (None, 41, 64)            0         \n",
      "_________________________________________________________________\n",
      "dropout_2 (Dropout)          (None, 41, 64)            0         \n",
      "_________________________________________________________________\n",
      "flatten (Flatten)            (None, 2624)              0         \n",
      "_________________________________________________________________\n",
      "dense (Dense)                (None, 64)                168000    \n",
      "_________________________________________________________________\n",
      "leaky_re_lu_3 (LeakyReLU)    (None, 64)                0         \n",
      "_________________________________________________________________\n",
      "dense_1 (Dense)              (None, 32)                2080      \n",
      "_________________________________________________________________\n",
      "leaky_re_lu_4 (LeakyReLU)    (None, 32)                0         \n",
      "_________________________________________________________________\n",
      "dense_2 (Dense)              (None, 2)                 66        \n",
      "=================================================================\n",
      "Total params: 178,722\n",
      "Trainable params: 178,722\n",
      "Non-trainable params: 0\n",
      "_________________________________________________________________\n"
     ]
    }
   ],
   "source": [
    "#hyperparameters\n",
    "keras.backend.clear_session()\n",
    "SEED = 1040941203\n",
    "hidden_initializer = random_uniform(seed=SEED)\n",
    "\n",
    "\n",
    "# create model\n",
    "cnn3 = Sequential()\n",
    "cnn3.add(Conv1D(64, 3, input_shape=(43, 1)))\n",
    "cnn3.add(LeakyReLU(alpha=0.1))\n",
    "cnn3.add(MaxPooling1D(pool_size=2))\n",
    "cnn3.add(Dropout(0.3))\n",
    "\n",
    "cnn3.add(Conv1D(64, 1))\n",
    "cnn3.add(LeakyReLU(alpha=0.1))\n",
    "cnn3.add(MaxPooling1D(pool_size=2))\n",
    "cnn3.add(Dropout(0.3))\n",
    "\n",
    "cnn3.add(Conv1D(64, 1))\n",
    "cnn3.add(LeakyReLU(alpha=0.1))\n",
    "cnn3.add(MaxPooling1D(pool_size=2))\n",
    "cnn3.add(Dropout(0.3))\n",
    "\n",
    "cnn3.add(Flatten())\n",
    "cnn3.add(Dense(64, input_dim=2, kernel_initializer=hidden_initializer))\n",
    "cnn3.add(LeakyReLU(alpha=0.1))\n",
    "cnn3.add(Dense(32))\n",
    "cnn3.add(LeakyReLU(alpha=0.1))\n",
    "cnn3.add(Dense(2, activation='softmax'))\n",
    "\n",
    "cnn3.summary()"
   ]
  },
  {
   "cell_type": "code",
   "execution_count": 72,
   "id": "magnetic-metallic",
   "metadata": {
    "scrolled": true
   },
   "outputs": [
    {
     "name": "stdout",
     "output_type": "stream",
     "text": [
      "Epoch 1/30\n",
      "772/772 [==============================] - 55s 71ms/step - loss: 8.6502 - accuracy: 0.8887 - val_loss: 3.0546 - val_accuracy: 0.9678\n",
      "Epoch 2/30\n",
      "772/772 [==============================] - 54s 70ms/step - loss: 1.6237 - accuracy: 0.9517 - val_loss: 0.0744 - val_accuracy: 0.9671\n",
      "Epoch 3/30\n",
      "772/772 [==============================] - 53s 69ms/step - loss: 0.6611 - accuracy: 0.9655 - val_loss: 0.1164 - val_accuracy: 0.9710\n",
      "Epoch 4/30\n",
      "772/772 [==============================] - 51s 66ms/step - loss: 0.4357 - accuracy: 0.9717 - val_loss: 0.3237 - val_accuracy: 0.9886\n",
      "Epoch 5/30\n",
      "772/772 [==============================] - 55s 71ms/step - loss: 0.4061 - accuracy: 0.9771 - val_loss: 0.2497 - val_accuracy: 0.9917\n",
      "Epoch 6/30\n",
      "772/772 [==============================] - 55s 72ms/step - loss: 0.3382 - accuracy: 0.9813 - val_loss: 0.0999 - val_accuracy: 0.9937\n",
      "Epoch 7/30\n",
      "772/772 [==============================] - 57s 74ms/step - loss: 0.2169 - accuracy: 0.9853 - val_loss: 0.2128 - val_accuracy: 0.9909\n",
      "Epoch 8/30\n",
      "772/772 [==============================] - 56s 73ms/step - loss: 0.1162 - accuracy: 0.9895 - val_loss: 0.1627 - val_accuracy: 0.9925\n",
      "Epoch 9/30\n",
      "772/772 [==============================] - 50s 64ms/step - loss: 0.0879 - accuracy: 0.9905 - val_loss: 0.0311 - val_accuracy: 0.9961\n",
      "Epoch 10/30\n",
      "772/772 [==============================] - 51s 66ms/step - loss: 0.0462 - accuracy: 0.9940 - val_loss: 0.0268 - val_accuracy: 0.9972\n",
      "Epoch 11/30\n",
      "772/772 [==============================] - 54s 70ms/step - loss: 0.0591 - accuracy: 0.9949 - val_loss: 0.0635 - val_accuracy: 0.9964\n",
      "Epoch 12/30\n",
      "772/772 [==============================] - 52s 68ms/step - loss: 0.0736 - accuracy: 0.9940 - val_loss: 0.0183 - val_accuracy: 0.9981\n",
      "Epoch 13/30\n",
      "772/772 [==============================] - 52s 68ms/step - loss: 0.0413 - accuracy: 0.9963 - val_loss: 0.1311 - val_accuracy: 0.9979\n",
      "Epoch 14/30\n",
      "772/772 [==============================] - 51s 66ms/step - loss: 0.0283 - accuracy: 0.9971 - val_loss: 0.0119 - val_accuracy: 0.9983\n",
      "Epoch 15/30\n",
      "772/772 [==============================] - 47s 61ms/step - loss: 0.0165 - accuracy: 0.9977 - val_loss: 0.0271 - val_accuracy: 0.9984\n",
      "Epoch 16/30\n",
      "772/772 [==============================] - 51s 66ms/step - loss: 0.0195 - accuracy: 0.9978 - val_loss: 0.0191 - val_accuracy: 0.9987\n",
      "Epoch 17/30\n",
      "772/772 [==============================] - 51s 66ms/step - loss: 0.0220 - accuracy: 0.9979 - val_loss: 0.1427 - val_accuracy: 0.9960\n",
      "Epoch 18/30\n",
      "772/772 [==============================] - 50s 64ms/step - loss: 0.0534 - accuracy: 0.9972 - val_loss: 0.0655 - val_accuracy: 0.9981\n",
      "Epoch 19/30\n",
      "772/772 [==============================] - 52s 67ms/step - loss: 0.0459 - accuracy: 0.9975 - val_loss: 0.0040 - val_accuracy: 0.9969\n",
      "Epoch 20/30\n",
      "772/772 [==============================] - 51s 67ms/step - loss: 0.0155 - accuracy: 0.9982 - val_loss: 0.0154 - val_accuracy: 0.9989\n",
      "Epoch 21/30\n",
      "772/772 [==============================] - 50s 64ms/step - loss: 0.0102 - accuracy: 0.9988 - val_loss: 0.0036 - val_accuracy: 0.9998\n",
      "Epoch 22/30\n",
      "772/772 [==============================] - 53s 68ms/step - loss: 0.0095 - accuracy: 0.9987 - val_loss: 0.0031 - val_accuracy: 0.9998\n",
      "Epoch 23/30\n",
      "772/772 [==============================] - 54s 70ms/step - loss: 0.0071 - accuracy: 0.9989 - val_loss: 0.0039 - val_accuracy: 0.9996\n",
      "Epoch 24/30\n",
      "772/772 [==============================] - 56s 72ms/step - loss: 0.1316 - accuracy: 0.9977 - val_loss: 0.0327 - val_accuracy: 0.9990\n",
      "Epoch 25/30\n",
      "772/772 [==============================] - 56s 72ms/step - loss: 0.0303 - accuracy: 0.9983 - val_loss: 0.0126 - val_accuracy: 0.9993\n",
      "Epoch 26/30\n",
      "772/772 [==============================] - 49s 63ms/step - loss: 0.0235 - accuracy: 0.9984 - val_loss: 0.0185 - val_accuracy: 0.9991\n",
      "Epoch 27/30\n",
      "772/772 [==============================] - 55s 71ms/step - loss: 0.0198 - accuracy: 0.9984 - val_loss: 0.0156 - val_accuracy: 0.9992\n",
      "Epoch 28/30\n",
      "772/772 [==============================] - 55s 71ms/step - loss: 0.0065 - accuracy: 0.9990 - val_loss: 0.0128 - val_accuracy: 0.9992\n",
      "Epoch 29/30\n",
      "772/772 [==============================] - 56s 72ms/step - loss: 0.0308 - accuracy: 0.9985 - val_loss: 0.0063 - val_accuracy: 0.9996\n",
      "Epoch 30/30\n",
      "772/772 [==============================] - 54s 70ms/step - loss: 0.0062 - accuracy: 0.9990 - val_loss: 0.0113 - val_accuracy: 0.9993\n"
     ]
    },
    {
     "data": {
      "text/plain": [
       "<tensorflow.python.keras.callbacks.History at 0x1ed8fdfb288>"
      ]
     },
     "execution_count": 72,
     "metadata": {},
     "output_type": "execute_result"
    }
   ],
   "source": [
    "cnn3.compile(loss = \"categorical_crossentropy\", optimizer='adam', metrics=['accuracy'])\n",
    "cnn3.fit(X_train, y_train, epochs=30, batch_size=256,\n",
    "         validation_data=(X_val,y_val),callbacks=[tensorboard_callback, eary_stop_callback])"
   ]
  },
  {
   "cell_type": "code",
   "execution_count": 73,
   "id": "altered-validation",
   "metadata": {},
   "outputs": [
    {
     "data": {
      "image/png": "[encoded data removed]",
      "text/plain": [
       "<Figure size 432x288 with 1 Axes>"
      ]
     },
     "metadata": {
      "needs_background": "light"
     },
     "output_type": "display_data"
    },
    {
     "data": {
      "image/png": "[encoded data removed]",
      "text/plain": [
       "<Figure size 432x288 with 1 Axes>"
      ]
     },
     "metadata": {
      "needs_background": "light"
     },
     "output_type": "display_data"
    }
   ],
   "source": [
    "plotgraphs(cnn3)"
   ]
  },
  {
   "cell_type": "code",
   "execution_count": 74,
   "id": "environmental-details",
   "metadata": {},
   "outputs": [],
   "source": [
    "predict = np.argmax(cnn3.predict(X_test),axis=1)\n",
    "\n",
    "a = np.unique(predict)\n",
    "b = np.unique(y_test)\n",
    "c = list(set(a) | set(b))"
   ]
  },
  {
   "cell_type": "code",
   "execution_count": 75,
   "id": "express-capital",
   "metadata": {},
   "outputs": [
    {
     "name": "stdout",
     "output_type": "stream",
     "text": [
      "        ----------Classification Report Of Classes-------------\n",
      "              precision    recall  f1-score   support\n",
      "\n",
      "           0       1.00      1.00      1.00     32881\n",
      "           1       1.00      1.00      1.00     32989\n",
      "\n",
      "    accuracy                           1.00     65870\n",
      "   macro avg       1.00      1.00      1.00     65870\n",
      "weighted avg       1.00      1.00      1.00     65870\n",
      "\n",
      "\n",
      "        ----------Validation Data------------------\n",
      "Accuarcy: 99.94231061181115\n",
      "Precision: 99.9424 %\n",
      "Recall-score: 99.9423\n",
      "F1-score: 99.9423\n"
     ]
    }
   ],
   "source": [
    "report(predict,labels_test)"
   ]
  },
  {
   "cell_type": "markdown",
   "id": "breeding-stable",
   "metadata": {},
   "source": [
    "### RNN Models"
   ]
  },
  {
   "cell_type": "code",
   "execution_count": 76,
   "id": "adult-brisbane",
   "metadata": {},
   "outputs": [],
   "source": [
    "# reshape input to be [samples, time steps, features] for RNN\n",
    "RNN_features_train = np.reshape(features_train, (features_train.shape[0],features_train.shape[1],1))\n",
    "RNN_features_test = np.reshape(features_test, (features_test.shape[0],features_test.shape[1],1))\n",
    "RNN_features_val = np.reshape(features_val, (features_val.shape[0],features_val.shape[1],1))"
   ]
  },
  {
   "cell_type": "code",
   "execution_count": 118,
   "id": "hollow-equation",
   "metadata": {},
   "outputs": [
    {
     "name": "stdout",
     "output_type": "stream",
     "text": [
      "Model: \"sequential_8\"\n",
      "_________________________________________________________________\n",
      "Layer (type)                 Output Shape              Param #   \n",
      "=================================================================\n",
      "simple_rnn_14 (SimpleRNN)    (None, 43, 32)            1088      \n",
      "_________________________________________________________________\n",
      "dropout_17 (Dropout)         (None, 43, 32)            0         \n",
      "_________________________________________________________________\n",
      "simple_rnn_15 (SimpleRNN)    (None, 43, 32)            2080      \n",
      "_________________________________________________________________\n",
      "dropout_18 (Dropout)         (None, 43, 32)            0         \n",
      "_________________________________________________________________\n",
      "simple_rnn_16 (SimpleRNN)    (None, 43, 32)            2080      \n",
      "_________________________________________________________________\n",
      "dropout_19 (Dropout)         (None, 43, 32)            0         \n",
      "_________________________________________________________________\n",
      "flatten_8 (Flatten)          (None, 1376)              0         \n",
      "_________________________________________________________________\n",
      "dense_24 (Dense)             (None, 64)                88128     \n",
      "_________________________________________________________________\n",
      "leaky_re_lu_19 (LeakyReLU)   (None, 64)                0         \n",
      "_________________________________________________________________\n",
      "dense_25 (Dense)             (None, 32)                2080      \n",
      "_________________________________________________________________\n",
      "leaky_re_lu_20 (LeakyReLU)   (None, 32)                0         \n",
      "_________________________________________________________________\n",
      "dense_26 (Dense)             (None, 2)                 66        \n",
      "=================================================================\n",
      "Total params: 95,522\n",
      "Trainable params: 95,522\n",
      "Non-trainable params: 0\n",
      "_________________________________________________________________\n"
     ]
    }
   ],
   "source": [
    "#hyperparameters\n",
    "\n",
    "# Initialising the RNN\n",
    "rnn3 = Sequential()\n",
    "\n",
    "# Adding the first RNN layer and some Dropout regularisation\n",
    "rnn3.add(SimpleRNN(units = 32,activation='relu', return_sequences = True,  input_shape = (43,1)))\n",
    "rnn3.add(Dropout(0.3))\n",
    "\n",
    "# Adding a second RNN layer and some Dropout regularisation\n",
    "rnn3.add(SimpleRNN(units = 32,activation='relu', return_sequences = True))\n",
    "rnn3.add(Dropout(0.3))\n",
    "\n",
    "# Adding a third RNN layer and some Dropout regularisation\n",
    "rnn3.add(SimpleRNN(units = 32,activation='relu', return_sequences = True))\n",
    "rnn3.add(Dropout(0.3))\n",
    "\n",
    "# Adding the output layer\n",
    "rnn3.add(Flatten())\n",
    "rnn3.add(Dense(64, input_dim=2, kernel_initializer=hidden_initializer))\n",
    "rnn3.add(LeakyReLU(alpha=0.1))\n",
    "rnn3.add(Dense(32))\n",
    "rnn3.add(LeakyReLU(alpha=0.1))\n",
    "rnn3.add(Dense(units = 2, activation='sigmoid'))\n",
    "\n",
    "rnn3.summary()"
   ]
  },
  {
   "cell_type": "code",
   "execution_count": 119,
   "id": "developing-genome",
   "metadata": {
    "scrolled": true
   },
   "outputs": [
    {
     "name": "stdout",
     "output_type": "stream",
     "text": [
      "Epoch 1/20\n",
      "386/386 [==============================] - 53s 129ms/step - loss: 7.4252 - accuracy: 0.8148 - val_loss: 0.5551 - val_accuracy: 0.9634\n",
      "Epoch 2/20\n",
      "386/386 [==============================] - 49s 126ms/step - loss: 1.2334 - accuracy: 0.9561 - val_loss: 0.7594 - val_accuracy: 0.9765\n",
      "Epoch 3/20\n",
      "386/386 [==============================] - 49s 126ms/step - loss: 0.6009 - accuracy: 0.9685 - val_loss: 0.3779 - val_accuracy: 0.9660\n",
      "Epoch 4/20\n",
      "386/386 [==============================] - 50s 129ms/step - loss: 0.3906 - accuracy: 0.9731 - val_loss: 0.2420 - val_accuracy: 0.9835\n",
      "Epoch 5/20\n",
      "386/386 [==============================] - 50s 129ms/step - loss: 0.2004 - accuracy: 0.9771 - val_loss: 0.1348 - val_accuracy: 0.9850\n",
      "Epoch 6/20\n",
      "386/386 [==============================] - 49s 128ms/step - loss: 0.1640 - accuracy: 0.9803 - val_loss: 0.2490 - val_accuracy: 0.9885\n",
      "Epoch 7/20\n",
      "386/386 [==============================] - 49s 126ms/step - loss: 0.1283 - accuracy: 0.9815 - val_loss: 0.0784 - val_accuracy: 0.9872\n",
      "Epoch 8/20\n",
      "386/386 [==============================] - 49s 126ms/step - loss: 0.1171 - accuracy: 0.9831 - val_loss: 0.0525 - val_accuracy: 0.9900\n",
      "Epoch 9/20\n",
      "386/386 [==============================] - 49s 126ms/step - loss: 0.1054 - accuracy: 0.9855 - val_loss: 0.0295 - val_accuracy: 0.9906\n",
      "Epoch 10/20\n",
      "386/386 [==============================] - 49s 126ms/step - loss: 0.0858 - accuracy: 0.9863 - val_loss: 0.0291 - val_accuracy: 0.9911\n",
      "Epoch 11/20\n",
      "386/386 [==============================] - 49s 126ms/step - loss: 0.0700 - accuracy: 0.9882 - val_loss: 0.1125 - val_accuracy: 0.9918\n",
      "Epoch 12/20\n",
      "386/386 [==============================] - 49s 127ms/step - loss: 0.0515 - accuracy: 0.9897 - val_loss: 0.0207 - val_accuracy: 0.9958\n",
      "Epoch 13/20\n",
      "386/386 [==============================] - 49s 127ms/step - loss: 0.0507 - accuracy: 0.9915 - val_loss: 0.0094 - val_accuracy: 0.9974\n",
      "Epoch 14/20\n",
      "386/386 [==============================] - 49s 127ms/step - loss: 0.0329 - accuracy: 0.9935 - val_loss: 0.0098 - val_accuracy: 0.9978\n",
      "Epoch 15/20\n",
      "386/386 [==============================] - 49s 127ms/step - loss: 0.0468 - accuracy: 0.9939 - val_loss: 0.0247 - val_accuracy: 0.9976\n",
      "Epoch 16/20\n",
      "386/386 [==============================] - 49s 128ms/step - loss: 0.0344 - accuracy: 0.9945 - val_loss: 0.0056 - val_accuracy: 0.9990\n",
      "Epoch 17/20\n",
      "386/386 [==============================] - 49s 126ms/step - loss: 0.0284 - accuracy: 0.9948 - val_loss: 0.0733 - val_accuracy: 0.9963\n",
      "Epoch 18/20\n",
      "386/386 [==============================] - 49s 127ms/step - loss: 0.0290 - accuracy: 0.9954 - val_loss: 0.0066 - val_accuracy: 0.9986\n",
      "Epoch 19/20\n",
      "386/386 [==============================] - 49s 126ms/step - loss: 0.0197 - accuracy: 0.9956 - val_loss: 0.0068 - val_accuracy: 0.9991\n",
      "Epoch 20/20\n",
      "386/386 [==============================] - 49s 126ms/step - loss: 0.0271 - accuracy: 0.9962 - val_loss: 0.0055 - val_accuracy: 0.9993\n"
     ]
    },
    {
     "data": {
      "text/plain": [
       "<tensorflow.python.keras.callbacks.History at 0x1edb8a27ac8>"
      ]
     },
     "execution_count": 119,
     "metadata": {},
     "output_type": "execute_result"
    }
   ],
   "source": [
    "rnn3.compile(loss = \"categorical_crossentropy\", optimizer='adam', metrics=['accuracy'])\n",
    "rnn3.fit(RNN_features_train, y_train, epochs=20, batch_size=512,\n",
    "         validation_data=(RNN_features_val,y_val),callbacks=[tensorboard_callback, eary_stop_callback])"
   ]
  },
  {
   "cell_type": "code",
   "execution_count": 120,
   "id": "practical-combat",
   "metadata": {},
   "outputs": [
    {
     "data": {
      "image/png": "[encoded data removed]",
      "text/plain": [
       "<Figure size 432x288 with 1 Axes>"
      ]
     },
     "metadata": {
      "needs_background": "light"
     },
     "output_type": "display_data"
    },
    {
     "data": {
      "image/png": "[encoded data removed]",
      "text/plain": [
       "<Figure size 432x288 with 1 Axes>"
      ]
     },
     "metadata": {
      "needs_background": "light"
     },
     "output_type": "display_data"
    }
   ],
   "source": [
    "plotgraphs(rnn3)"
   ]
  },
  {
   "cell_type": "code",
   "execution_count": 121,
   "id": "present-justice",
   "metadata": {},
   "outputs": [],
   "source": [
    "predict = np.argmax(rnn3.predict(X_test),axis=1)\n",
    "\n",
    "a = np.unique(predict)\n",
    "b = np.unique(y_test)\n",
    "c = list(set(a) | set(b))"
   ]
  },
  {
   "cell_type": "code",
   "execution_count": 122,
   "id": "scheduled-ozone",
   "metadata": {},
   "outputs": [
    {
     "name": "stdout",
     "output_type": "stream",
     "text": [
      "        ----------Classification Report Of Classes-------------\n",
      "              precision    recall  f1-score   support\n",
      "\n",
      "           0       0.98      1.00      0.99     32881\n",
      "           1       1.00      0.98      0.99     32989\n",
      "\n",
      "    accuracy                           0.99     65870\n",
      "   macro avg       0.99      0.99      0.99     65870\n",
      "weighted avg       0.99      0.99      0.99     65870\n",
      "\n",
      "\n",
      "        ----------Validation Data------------------\n",
      "Accuarcy: 99.08607863974495\n",
      "Precision: 99.1009 %\n",
      "Recall-score: 99.0861\n",
      "F1-score: 99.0860\n"
     ]
    }
   ],
   "source": [
    "report(predict,labels_test)"
   ]
  },
  {
   "cell_type": "code",
   "execution_count": 104,
   "id": "dress-pendant",
   "metadata": {},
   "outputs": [
    {
     "name": "stdout",
     "output_type": "stream",
     "text": [
      "Model: \"sequential_6\"\n",
      "_________________________________________________________________\n",
      "Layer (type)                 Output Shape              Param #   \n",
      "=================================================================\n",
      "simple_rnn_9 (SimpleRNN)     (None, 43, 64)            4224      \n",
      "_________________________________________________________________\n",
      "dropout_12 (Dropout)         (None, 43, 64)            0         \n",
      "_________________________________________________________________\n",
      "simple_rnn_10 (SimpleRNN)    (None, 43, 64)            8256      \n",
      "_________________________________________________________________\n",
      "dropout_13 (Dropout)         (None, 43, 64)            0         \n",
      "_________________________________________________________________\n",
      "flatten_6 (Flatten)          (None, 2752)              0         \n",
      "_________________________________________________________________\n",
      "dense_18 (Dense)             (None, 64)                176192    \n",
      "_________________________________________________________________\n",
      "leaky_re_lu_15 (LeakyReLU)   (None, 64)                0         \n",
      "_________________________________________________________________\n",
      "dense_19 (Dense)             (None, 32)                2080      \n",
      "_________________________________________________________________\n",
      "leaky_re_lu_16 (LeakyReLU)   (None, 32)                0         \n",
      "_________________________________________________________________\n",
      "dense_20 (Dense)             (None, 2)                 66        \n",
      "=================================================================\n",
      "Total params: 190,818\n",
      "Trainable params: 190,818\n",
      "Non-trainable params: 0\n",
      "_________________________________________________________________\n"
     ]
    }
   ],
   "source": [
    "#hyperparameters\n",
    "\n",
    "# Initialising the RNN\n",
    "rnn2 = Sequential()\n",
    "\n",
    "# Adding the first RNN layer and some Dropout regularisation\n",
    "rnn2.add(SimpleRNN(units = 64,activation='relu', return_sequences = True,  input_shape = (43,1)))\n",
    "rnn2.add(Dropout(0.3))\n",
    "\n",
    "# Adding a third RNN layer and some Dropout regularisation\n",
    "rnn2.add(SimpleRNN(units = 64,activation='relu', return_sequences = True))\n",
    "rnn2.add(Dropout(0.3))\n",
    "\n",
    "# Adding the output layer\n",
    "rnn2.add(Flatten())\n",
    "rnn2.add(Dense(64, input_dim=2, kernel_initializer=hidden_initializer))\n",
    "rnn2.add(LeakyReLU(alpha=0.1))\n",
    "rnn2.add(Dense(32))\n",
    "rnn2.add(LeakyReLU(alpha=0.1))\n",
    "rnn2.add(Dense(units = 2, activation='sigmoid'))\n",
    "\n",
    "rnn2.summary()"
   ]
  },
  {
   "cell_type": "code",
   "execution_count": 105,
   "id": "collective-danger",
   "metadata": {
    "scrolled": true
   },
   "outputs": [
    {
     "name": "stdout",
     "output_type": "stream",
     "text": [
      "Epoch 1/20\n",
      "198/198 [==============================] - 66s 321ms/step - loss: 4.7928 - accuracy: 0.8593 - val_loss: 0.1927 - val_accuracy: 0.9682\n",
      "Epoch 2/20\n",
      "198/198 [==============================] - 63s 317ms/step - loss: 0.7046 - accuracy: 0.9743 - val_loss: 0.0751 - val_accuracy: 0.9916\n",
      "Epoch 3/20\n",
      "198/198 [==============================] - 58s 293ms/step - loss: 0.5383 - accuracy: 0.9821 - val_loss: 0.3014 - val_accuracy: 0.9916\n",
      "Epoch 4/20\n",
      "198/198 [==============================] - 54s 272ms/step - loss: 0.1983 - accuracy: 0.9893 - val_loss: 0.0695 - val_accuracy: 0.9961\n",
      "Epoch 5/20\n",
      "198/198 [==============================] - 51s 257ms/step - loss: 0.0864 - accuracy: 0.9953 - val_loss: 0.0660 - val_accuracy: 0.9973\n",
      "Epoch 6/20\n",
      "198/198 [==============================] - 50s 253ms/step - loss: 0.1771 - accuracy: 0.9945 - val_loss: 0.0470 - val_accuracy: 0.9979\n",
      "Epoch 7/20\n",
      "198/198 [==============================] - 47s 240ms/step - loss: 0.1037 - accuracy: 0.9964 - val_loss: 0.3103 - val_accuracy: 0.9944\n",
      "Epoch 8/20\n",
      "198/198 [==============================] - 49s 246ms/step - loss: 0.1513 - accuracy: 0.9957 - val_loss: 0.0717 - val_accuracy: 0.9976\n",
      "Epoch 9/20\n",
      "198/198 [==============================] - 50s 251ms/step - loss: 0.1114 - accuracy: 0.9970 - val_loss: 0.0486 - val_accuracy: 0.9983\n",
      "Epoch 10/20\n",
      "198/198 [==============================] - 49s 248ms/step - loss: 0.0329 - accuracy: 0.9980 - val_loss: 0.0066 - val_accuracy: 0.9996\n",
      "Epoch 11/20\n",
      "198/198 [==============================] - 49s 246ms/step - loss: 0.0283 - accuracy: 0.9987 - val_loss: 0.0239 - val_accuracy: 0.9964\n",
      "Epoch 12/20\n",
      "198/198 [==============================] - 46s 233ms/step - loss: 0.0223 - accuracy: 0.9985 - val_loss: 0.0149 - val_accuracy: 0.9991\n",
      "Epoch 13/20\n",
      "198/198 [==============================] - 49s 248ms/step - loss: 0.0075 - accuracy: 0.9991 - val_loss: 0.0187 - val_accuracy: 0.9990\n",
      "Epoch 14/20\n",
      "198/198 [==============================] - 49s 249ms/step - loss: 0.0183 - accuracy: 0.9988 - val_loss: 0.0361 - val_accuracy: 0.9986\n",
      "Epoch 15/20\n",
      "198/198 [==============================] - 50s 252ms/step - loss: 0.0092 - accuracy: 0.9990 - val_loss: 0.0052 - val_accuracy: 0.9996\n",
      "Epoch 16/20\n",
      "198/198 [==============================] - 49s 250ms/step - loss: 0.0104 - accuracy: 0.9993 - val_loss: 0.0113 - val_accuracy: 0.9993\n",
      "Epoch 17/20\n",
      "198/198 [==============================] - 46s 232ms/step - loss: 0.0243 - accuracy: 0.9991 - val_loss: 6.7937e-05 - val_accuracy: 1.0000\n",
      "Epoch 18/20\n",
      "198/198 [==============================] - 49s 248ms/step - loss: 0.0094 - accuracy: 0.9996 - val_loss: 1.3457e-04 - val_accuracy: 0.9999\n",
      "Epoch 19/20\n",
      "198/198 [==============================] - 49s 249ms/step - loss: 0.0039 - accuracy: 0.9997 - val_loss: 4.8464e-05 - val_accuracy: 1.0000\n",
      "Epoch 20/20\n",
      "198/198 [==============================] - 49s 248ms/step - loss: 0.0028 - accuracy: 0.9998 - val_loss: 5.0573e-05 - val_accuracy: 1.0000\n"
     ]
    },
    {
     "data": {
      "text/plain": [
       "<tensorflow.python.keras.callbacks.History at 0x1ed99c965c8>"
      ]
     },
     "execution_count": 105,
     "metadata": {},
     "output_type": "execute_result"
    }
   ],
   "source": [
    "rnn2.compile(loss = \"categorical_crossentropy\", optimizer='adam', metrics=['accuracy'])\n",
    "rnn2.fit(RNN_features_train, y_train, epochs=20, batch_size=128,\n",
    "         validation_data=(RNN_features_val,y_val),callbacks=[tensorboard_callback, eary_stop_callback])"
   ]
  },
  {
   "cell_type": "code",
   "execution_count": 106,
   "id": "norman-convert",
   "metadata": {},
   "outputs": [
    {
     "data": {
      "image/png": "[encoded data removed]",
      "text/plain": [
       "<Figure size 432x288 with 1 Axes>"
      ]
     },
     "metadata": {
      "needs_background": "light"
     },
     "output_type": "display_data"
    },
    {
     "data": {
      "image/png": "[encoded data removed]",
      "text/plain": [
       "<Figure size 432x288 with 1 Axes>"
      ]
     },
     "metadata": {
      "needs_background": "light"
     },
     "output_type": "display_data"
    }
   ],
   "source": [
    "plotgraphs(rnn2)"
   ]
  },
  {
   "cell_type": "code",
   "execution_count": 107,
   "id": "labeled-enclosure",
   "metadata": {},
   "outputs": [],
   "source": [
    "predict = np.argmax(rnn2.predict(X_test),axis=1)\n",
    "\n",
    "a = np.unique(predict)\n",
    "b = np.unique(y_test)\n",
    "c = list(set(a) | set(b))"
   ]
  },
  {
   "cell_type": "code",
   "execution_count": 108,
   "id": "retired-crest",
   "metadata": {},
   "outputs": [
    {
     "name": "stdout",
     "output_type": "stream",
     "text": [
      "        ----------Classification Report Of Classes-------------\n",
      "              precision    recall  f1-score   support\n",
      "\n",
      "           0       1.00      1.00      1.00     32881\n",
      "           1       1.00      1.00      1.00     32989\n",
      "\n",
      "    accuracy                           1.00     65870\n",
      "   macro avg       1.00      1.00      1.00     65870\n",
      "weighted avg       1.00      1.00      1.00     65870\n",
      "\n",
      "\n",
      "        ----------Validation Data------------------\n",
      "Accuarcy: 99.99544557461667\n",
      "Precision: 99.9954 %\n",
      "Recall-score: 99.9954\n",
      "F1-score: 99.9954\n"
     ]
    }
   ],
   "source": [
    "report(predict,labels_test)"
   ]
  },
  {
   "cell_type": "code",
   "execution_count": 99,
   "id": "headed-firmware",
   "metadata": {},
   "outputs": [
    {
     "name": "stdout",
     "output_type": "stream",
     "text": [
      "Model: \"sequential_5\"\n",
      "_________________________________________________________________\n",
      "Layer (type)                 Output Shape              Param #   \n",
      "=================================================================\n",
      "simple_rnn_8 (SimpleRNN)     (None, 43, 64)            4224      \n",
      "_________________________________________________________________\n",
      "dropout_11 (Dropout)         (None, 43, 64)            0         \n",
      "_________________________________________________________________\n",
      "flatten_5 (Flatten)          (None, 2752)              0         \n",
      "_________________________________________________________________\n",
      "dense_15 (Dense)             (None, 64)                176192    \n",
      "_________________________________________________________________\n",
      "leaky_re_lu_13 (LeakyReLU)   (None, 64)                0         \n",
      "_________________________________________________________________\n",
      "dense_16 (Dense)             (None, 32)                2080      \n",
      "_________________________________________________________________\n",
      "leaky_re_lu_14 (LeakyReLU)   (None, 32)                0         \n",
      "_________________________________________________________________\n",
      "dense_17 (Dense)             (None, 2)                 66        \n",
      "=================================================================\n",
      "Total params: 182,562\n",
      "Trainable params: 182,562\n",
      "Non-trainable params: 0\n",
      "_________________________________________________________________\n"
     ]
    }
   ],
   "source": [
    "#hyperparameters\n",
    "\n",
    "# Initialising the RNN\n",
    "rnn1 = Sequential()\n",
    "\n",
    "# Adding the first RNN layer and some Dropout regularisation\n",
    "rnn1.add(SimpleRNN(units = 64,activation='relu', return_sequences = True,  input_shape = (43,1)))\n",
    "rnn1.add(Dropout(0.3))\n",
    "\n",
    "# Adding the output layer\n",
    "rnn1.add(Flatten())\n",
    "rnn1.add(Dense(64, input_dim=2, kernel_initializer=hidden_initializer))\n",
    "rnn1.add(LeakyReLU(alpha=0.1))\n",
    "rnn1.add(Dense(32))\n",
    "rnn1.add(LeakyReLU(alpha=0.1))\n",
    "rnn1.add(Dense(units = 2, activation='sigmoid'))\n",
    "\n",
    "rnn1.summary()"
   ]
  },
  {
   "cell_type": "code",
   "execution_count": 100,
   "id": "interpreted-mobility",
   "metadata": {
    "scrolled": true
   },
   "outputs": [
    {
     "name": "stdout",
     "output_type": "stream",
     "text": [
      "Epoch 1/20\n",
      "1544/1544 [==============================] - 38s 24ms/step - loss: 7.8049 - accuracy: 0.9363 - val_loss: 1.0391 - val_accuracy: 0.9863\n",
      "Epoch 2/20\n",
      "1544/1544 [==============================] - 36s 23ms/step - loss: 1.3815 - accuracy: 0.9824 - val_loss: 0.3401 - val_accuracy: 0.9912\n",
      "Epoch 3/20\n",
      "1544/1544 [==============================] - 37s 24ms/step - loss: 0.2796 - accuracy: 0.9891 - val_loss: 0.0779 - val_accuracy: 0.9945\n",
      "Epoch 4/20\n",
      "1544/1544 [==============================] - 40s 26ms/step - loss: 0.1331 - accuracy: 0.9928 - val_loss: 0.1825 - val_accuracy: 0.9920\n",
      "Epoch 5/20\n",
      "1544/1544 [==============================] - 41s 27ms/step - loss: 0.1858 - accuracy: 0.9931 - val_loss: 0.0745 - val_accuracy: 0.9957\n",
      "Epoch 6/20\n",
      "1544/1544 [==============================] - 47s 30ms/step - loss: 0.0618 - accuracy: 0.9954 - val_loss: 0.0618 - val_accuracy: 0.9966\n",
      "Epoch 7/20\n",
      "1544/1544 [==============================] - 47s 30ms/step - loss: 0.0430 - accuracy: 0.9955 - val_loss: 0.0051 - val_accuracy: 0.9990\n",
      "Epoch 8/20\n",
      "1544/1544 [==============================] - 46s 30ms/step - loss: 0.0111 - accuracy: 0.9972 - val_loss: 0.1051 - val_accuracy: 0.9977\n",
      "Epoch 9/20\n",
      "1544/1544 [==============================] - 45s 29ms/step - loss: 0.0534 - accuracy: 0.9976 - val_loss: 0.5091 - val_accuracy: 0.9981\n",
      "Epoch 10/20\n",
      "1544/1544 [==============================] - 46s 30ms/step - loss: 0.0305 - accuracy: 0.9981 - val_loss: 0.0074 - val_accuracy: 0.9987\n",
      "Epoch 11/20\n",
      "1544/1544 [==============================] - 51s 33ms/step - loss: 0.0060 - accuracy: 0.9987 - val_loss: 0.0010 - val_accuracy: 0.9997\n",
      "Epoch 12/20\n",
      "1544/1544 [==============================] - 51s 33ms/step - loss: 0.0022 - accuracy: 0.9993 - val_loss: 2.2964e-04 - val_accuracy: 1.0000\n",
      "Epoch 13/20\n",
      "1544/1544 [==============================] - 49s 32ms/step - loss: 0.0011 - accuracy: 0.9997 - val_loss: 1.9578e-04 - val_accuracy: 1.0000\n",
      "Epoch 14/20\n",
      "1544/1544 [==============================] - 46s 30ms/step - loss: 0.0015 - accuracy: 0.9996 - val_loss: 2.6035e-04 - val_accuracy: 0.9999\n",
      "Epoch 15/20\n",
      "1544/1544 [==============================] - 48s 31ms/step - loss: 0.0013 - accuracy: 0.9997 - val_loss: 1.9670e-04 - val_accuracy: 0.9999\n",
      "Epoch 16/20\n",
      "1544/1544 [==============================] - 62s 40ms/step - loss: 0.0024 - accuracy: 0.9995 - val_loss: 8.8939e-04 - val_accuracy: 0.9997\n",
      "Epoch 17/20\n",
      "1544/1544 [==============================] - 54s 35ms/step - loss: 0.0013 - accuracy: 0.9998 - val_loss: 4.3804e-04 - val_accuracy: 0.9999\n",
      "Epoch 18/20\n",
      "1544/1544 [==============================] - 50s 32ms/step - loss: 0.0012 - accuracy: 0.9997 - val_loss: 7.6636e-05 - val_accuracy: 1.0000\n",
      "Epoch 19/20\n",
      "1544/1544 [==============================] - 46s 30ms/step - loss: 0.0012 - accuracy: 0.9997 - val_loss: 6.0806e-05 - val_accuracy: 1.0000\n",
      "Epoch 20/20\n",
      "1544/1544 [==============================] - 51s 33ms/step - loss: 7.8990e-04 - accuracy: 0.9997 - val_loss: 1.0403e-04 - val_accuracy: 1.0000\n"
     ]
    },
    {
     "data": {
      "text/plain": [
       "<tensorflow.python.keras.callbacks.History at 0x1ed99d61dc8>"
      ]
     },
     "execution_count": 100,
     "metadata": {},
     "output_type": "execute_result"
    }
   ],
   "source": [
    "rnn1.compile(loss = \"categorical_crossentropy\", optimizer='adam', metrics=['accuracy'])\n",
    "rnn1.fit(RNN_features_train, y_train, epochs=20, batch_size=128,\n",
    "         validation_data=(RNN_features_val,y_val),callbacks=[tensorboard_callback, eary_stop_callback])"
   ]
  },
  {
   "cell_type": "code",
   "execution_count": 101,
   "id": "featured-bennett",
   "metadata": {},
   "outputs": [
    {
     "data": {
      "image/png": "[encoded data removed]",
      "text/plain": [
       "<Figure size 432x288 with 1 Axes>"
      ]
     },
     "metadata": {
      "needs_background": "light"
     },
     "output_type": "display_data"
    },
    {
     "data": {
      "image/png": "[encoded data removed]",
      "text/plain": [
       "<Figure size 432x288 with 1 Axes>"
      ]
     },
     "metadata": {
      "needs_background": "light"
     },
     "output_type": "display_data"
    }
   ],
   "source": [
    "plotgraphs(rnn1)"
   ]
  },
  {
   "cell_type": "code",
   "execution_count": 102,
   "id": "judicial-corporation",
   "metadata": {},
   "outputs": [],
   "source": [
    "predict = np.argmax(rnn1.predict(X_test),axis=1)\n",
    "\n",
    "a = np.unique(predict)\n",
    "b = np.unique(y_test)\n",
    "c = list(set(a) | set(b))"
   ]
  },
  {
   "cell_type": "code",
   "execution_count": 103,
   "id": "shared-narrative",
   "metadata": {},
   "outputs": [
    {
     "name": "stdout",
     "output_type": "stream",
     "text": [
      "        ----------Classification Report Of Classes-------------\n",
      "              precision    recall  f1-score   support\n",
      "\n",
      "           0       0.94      1.00      0.97     32881\n",
      "           1       1.00      0.94      0.97     32989\n",
      "\n",
      "    accuracy                           0.97     65870\n",
      "   macro avg       0.97      0.97      0.97     65870\n",
      "weighted avg       0.97      0.97      0.97     65870\n",
      "\n",
      "\n",
      "        ----------Validation Data------------------\n",
      "Accuarcy: 96.91209959010172\n",
      "Precision: 97.0920 %\n",
      "Recall-score: 96.9121\n",
      "F1-score: 96.9093\n"
     ]
    }
   ],
   "source": [
    "report(predict,labels_test)"
   ]
  },
  {
   "cell_type": "code",
   "execution_count": null,
   "id": "appropriate-harbor",
   "metadata": {},
   "outputs": [],
   "source": []
  }
 ],
 "metadata": {
  "kernelspec": {
   "display_name": "Python 3",
   "language": "python",
   "name": "python3"
  },
  "language_info": {
   "codemirror_mode": {
    "name": "ipython",
    "version": 3
   },
   "file_extension": ".py",
   "mimetype": "text/x-python",
   "name": "python",
   "nbconvert_exporter": "python",
   "pygments_lexer": "ipython3",
   "version": "3.7.4"
  }
 },
 "nbformat": 4,
 "nbformat_minor": 5
}
