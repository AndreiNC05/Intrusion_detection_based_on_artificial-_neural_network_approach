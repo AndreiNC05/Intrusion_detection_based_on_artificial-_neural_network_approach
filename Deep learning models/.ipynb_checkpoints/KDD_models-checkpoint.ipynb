{
 "cells": [
  {
   "cell_type": "code",
   "execution_count": 160,
   "id": "cultural-duplicate",
   "metadata": {},
   "outputs": [],
   "source": [
    "import numpy as np # linear algebra\n",
    "import pandas as pd # data processing, CSV file I/O (e.g. pd.read_csv)\n",
    "import seaborn as sns\n",
    "import matplotlib.pyplot as plt\n",
    "import glob\n",
    "\n",
    "from sklearn.metrics import confusion_matrix\n",
    "import itertools\n",
    "\n",
    "from sklearn.metrics import make_scorer, accuracy_score, precision_score, recall_score, f1_score, confusion_matrix, classification_report\n",
    "\n",
    "import tensorflow as tf\n",
    "from tensorflow import keras\n",
    "from keras.models import Sequential\n",
    "from keras.layers import Dense, Flatten, Conv1D, MaxPool1D\n",
    "from keras.initializers import random_uniform\n",
    "from keras.layers.advanced_activations import LeakyReLU\n",
    "from keras.callbacks import EarlyStopping\n",
    "\n",
    "from sklearn.model_selection import train_test_split\n",
    "from sklearn.preprocessing import StandardScaler as SS\n",
    "\n",
    "from sklearn.model_selection import train_test_split\n",
    "from keras.models import Sequential\n",
    "from keras.preprocessing.text import Tokenizer\n",
    "from matplotlib import pyplot as plt\n",
    "from keras.preprocessing.sequence import pad_sequences\n",
    "from keras.layers import Embedding,Dense,LSTM,Dropout,Flatten,BatchNormalization,Conv1D,GlobalMaxPooling1D,MaxPooling1D\n",
    "from keras.optimizers import  SGD\n",
    "import matplotlib.pyplot as plt\n",
    "from keras.regularizers import l2\n",
    "from keras.optimizers import Adam\n",
    "from keras import regularizers\n",
    "from keras.callbacks import EarlyStopping\n",
    "from sklearn.preprocessing import OneHotEncoder\n",
    "from keras.preprocessing import sequence\n",
    "from keras.layers import SimpleRNN\n",
    "#from hyperas.distributions import uniform\n",
    "\n",
    "from keras.utils.np_utils import to_categorical\n",
    "from keras import regularizers\n",
    "import pandas as pd\n",
    "import string\n",
    "import numpy as np\n",
    "import matplotlib.pyplot as plt\n",
    "\n",
    "# import warnings\n",
    "import warnings\n",
    "# filter warnings\n",
    "warnings.filterwarnings('ignore')"
   ]
  },
  {
   "cell_type": "code",
   "execution_count": 161,
   "id": "difficult-coalition",
   "metadata": {},
   "outputs": [],
   "source": [
    "dataset = pd.read_csv(r'...') # use your path"
   ]
  },
  {
   "cell_type": "code",
   "execution_count": 162,
   "id": "boring-saskatchewan",
   "metadata": {},
   "outputs": [
    {
     "data": {
      "text/html": [
       "<div>\n",
       "<style scoped>\n",
       "    .dataframe tbody tr th:only-of-type {\n",
       "        vertical-align: middle;\n",
       "    }\n",
       "\n",
       "    .dataframe tbody tr th {\n",
       "        vertical-align: top;\n",
       "    }\n",
       "\n",
       "    .dataframe thead th {\n",
       "        text-align: right;\n",
       "    }\n",
       "</style>\n",
       "<table border=\"1\" class=\"dataframe\">\n",
       "  <thead>\n",
       "    <tr style=\"text-align: right;\">\n",
       "      <th></th>\n",
       "      <th>duration</th>\n",
       "      <th>protocol_type</th>\n",
       "      <th>service</th>\n",
       "      <th>flag</th>\n",
       "      <th>src_bytes</th>\n",
       "      <th>dst_bytes</th>\n",
       "      <th>land</th>\n",
       "      <th>wrong_fragment</th>\n",
       "      <th>urgent</th>\n",
       "      <th>hot</th>\n",
       "      <th>...</th>\n",
       "      <th>dst_host_srv_count</th>\n",
       "      <th>dst_host_same_srv_rate</th>\n",
       "      <th>dst_host_diff_srv_rate</th>\n",
       "      <th>dst_host_same_src_port_rate</th>\n",
       "      <th>dst_host_srv_diff_host_rate</th>\n",
       "      <th>dst_host_serror_rate</th>\n",
       "      <th>dst_host_srv_serror_rate</th>\n",
       "      <th>dst_host_rerror_rate</th>\n",
       "      <th>dst_host_srv_rerror_rate</th>\n",
       "      <th>Label</th>\n",
       "    </tr>\n",
       "  </thead>\n",
       "  <tbody>\n",
       "    <tr>\n",
       "      <th>0</th>\n",
       "      <td>0</td>\n",
       "      <td>1</td>\n",
       "      <td>24</td>\n",
       "      <td>9</td>\n",
       "      <td>215</td>\n",
       "      <td>45076</td>\n",
       "      <td>0</td>\n",
       "      <td>0</td>\n",
       "      <td>0</td>\n",
       "      <td>0</td>\n",
       "      <td>...</td>\n",
       "      <td>0</td>\n",
       "      <td>0.0</td>\n",
       "      <td>0.0</td>\n",
       "      <td>0.00</td>\n",
       "      <td>0.0</td>\n",
       "      <td>0.0</td>\n",
       "      <td>0.0</td>\n",
       "      <td>0.0</td>\n",
       "      <td>0.0</td>\n",
       "      <td>normal.</td>\n",
       "    </tr>\n",
       "    <tr>\n",
       "      <th>1</th>\n",
       "      <td>0</td>\n",
       "      <td>1</td>\n",
       "      <td>24</td>\n",
       "      <td>9</td>\n",
       "      <td>162</td>\n",
       "      <td>4528</td>\n",
       "      <td>0</td>\n",
       "      <td>0</td>\n",
       "      <td>0</td>\n",
       "      <td>0</td>\n",
       "      <td>...</td>\n",
       "      <td>1</td>\n",
       "      <td>1.0</td>\n",
       "      <td>0.0</td>\n",
       "      <td>1.00</td>\n",
       "      <td>0.0</td>\n",
       "      <td>0.0</td>\n",
       "      <td>0.0</td>\n",
       "      <td>0.0</td>\n",
       "      <td>0.0</td>\n",
       "      <td>normal.</td>\n",
       "    </tr>\n",
       "    <tr>\n",
       "      <th>2</th>\n",
       "      <td>0</td>\n",
       "      <td>1</td>\n",
       "      <td>24</td>\n",
       "      <td>9</td>\n",
       "      <td>236</td>\n",
       "      <td>1228</td>\n",
       "      <td>0</td>\n",
       "      <td>0</td>\n",
       "      <td>0</td>\n",
       "      <td>0</td>\n",
       "      <td>...</td>\n",
       "      <td>2</td>\n",
       "      <td>1.0</td>\n",
       "      <td>0.0</td>\n",
       "      <td>0.50</td>\n",
       "      <td>0.0</td>\n",
       "      <td>0.0</td>\n",
       "      <td>0.0</td>\n",
       "      <td>0.0</td>\n",
       "      <td>0.0</td>\n",
       "      <td>normal.</td>\n",
       "    </tr>\n",
       "    <tr>\n",
       "      <th>3</th>\n",
       "      <td>0</td>\n",
       "      <td>1</td>\n",
       "      <td>24</td>\n",
       "      <td>9</td>\n",
       "      <td>233</td>\n",
       "      <td>2032</td>\n",
       "      <td>0</td>\n",
       "      <td>0</td>\n",
       "      <td>0</td>\n",
       "      <td>0</td>\n",
       "      <td>...</td>\n",
       "      <td>3</td>\n",
       "      <td>1.0</td>\n",
       "      <td>0.0</td>\n",
       "      <td>0.33</td>\n",
       "      <td>0.0</td>\n",
       "      <td>0.0</td>\n",
       "      <td>0.0</td>\n",
       "      <td>0.0</td>\n",
       "      <td>0.0</td>\n",
       "      <td>normal.</td>\n",
       "    </tr>\n",
       "    <tr>\n",
       "      <th>4</th>\n",
       "      <td>0</td>\n",
       "      <td>1</td>\n",
       "      <td>24</td>\n",
       "      <td>9</td>\n",
       "      <td>239</td>\n",
       "      <td>486</td>\n",
       "      <td>0</td>\n",
       "      <td>0</td>\n",
       "      <td>0</td>\n",
       "      <td>0</td>\n",
       "      <td>...</td>\n",
       "      <td>4</td>\n",
       "      <td>1.0</td>\n",
       "      <td>0.0</td>\n",
       "      <td>0.25</td>\n",
       "      <td>0.0</td>\n",
       "      <td>0.0</td>\n",
       "      <td>0.0</td>\n",
       "      <td>0.0</td>\n",
       "      <td>0.0</td>\n",
       "      <td>normal.</td>\n",
       "    </tr>\n",
       "  </tbody>\n",
       "</table>\n",
       "<p>5 rows × 40 columns</p>\n",
       "</div>"
      ],
      "text/plain": [
       "   duration  protocol_type  service  flag  src_bytes  dst_bytes  land  \\\n",
       "0         0              1       24     9        215      45076     0   \n",
       "1         0              1       24     9        162       4528     0   \n",
       "2         0              1       24     9        236       1228     0   \n",
       "3         0              1       24     9        233       2032     0   \n",
       "4         0              1       24     9        239        486     0   \n",
       "\n",
       "   wrong_fragment  urgent  hot  ...  dst_host_srv_count  \\\n",
       "0               0       0    0  ...                   0   \n",
       "1               0       0    0  ...                   1   \n",
       "2               0       0    0  ...                   2   \n",
       "3               0       0    0  ...                   3   \n",
       "4               0       0    0  ...                   4   \n",
       "\n",
       "   dst_host_same_srv_rate  dst_host_diff_srv_rate  \\\n",
       "0                     0.0                     0.0   \n",
       "1                     1.0                     0.0   \n",
       "2                     1.0                     0.0   \n",
       "3                     1.0                     0.0   \n",
       "4                     1.0                     0.0   \n",
       "\n",
       "   dst_host_same_src_port_rate  dst_host_srv_diff_host_rate  \\\n",
       "0                         0.00                          0.0   \n",
       "1                         1.00                          0.0   \n",
       "2                         0.50                          0.0   \n",
       "3                         0.33                          0.0   \n",
       "4                         0.25                          0.0   \n",
       "\n",
       "   dst_host_serror_rate  dst_host_srv_serror_rate  dst_host_rerror_rate  \\\n",
       "0                   0.0                       0.0                   0.0   \n",
       "1                   0.0                       0.0                   0.0   \n",
       "2                   0.0                       0.0                   0.0   \n",
       "3                   0.0                       0.0                   0.0   \n",
       "4                   0.0                       0.0                   0.0   \n",
       "\n",
       "   dst_host_srv_rerror_rate    Label  \n",
       "0                       0.0  normal.  \n",
       "1                       0.0  normal.  \n",
       "2                       0.0  normal.  \n",
       "3                       0.0  normal.  \n",
       "4                       0.0  normal.  \n",
       "\n",
       "[5 rows x 40 columns]"
      ]
     },
     "execution_count": 162,
     "metadata": {},
     "output_type": "execute_result"
    }
   ],
   "source": [
    "dataset.head()"
   ]
  },
  {
   "cell_type": "code",
   "execution_count": 163,
   "id": "favorite-veteran",
   "metadata": {},
   "outputs": [],
   "source": [
    "# Splitting dataset into features and labels.\n",
    "labels = dataset['Label']\n",
    "features = dataset.loc[:, dataset.columns != 'Label'].astype('float64')"
   ]
  },
  {
   "cell_type": "code",
   "execution_count": 164,
   "id": "cross-guard",
   "metadata": {},
   "outputs": [],
   "source": [
    "# For scaling the data, we use RobustScaler class from sklearn.\n",
    "\n",
    "from sklearn.preprocessing import MinMaxScaler, StandardScaler, RobustScaler"
   ]
  },
  {
   "cell_type": "code",
   "execution_count": 165,
   "id": "thirty-pregnancy",
   "metadata": {},
   "outputs": [],
   "source": [
    "scaler = RobustScaler()\n",
    "scaler.fit(features)\n",
    "\n",
    "features = scaler.transform(features)"
   ]
  },
  {
   "cell_type": "code",
   "execution_count": 166,
   "id": "completed-luther",
   "metadata": {},
   "outputs": [],
   "source": [
    "from sklearn.preprocessing import LabelEncoder"
   ]
  },
  {
   "cell_type": "code",
   "execution_count": 167,
   "id": "heated-broadcasting",
   "metadata": {},
   "outputs": [],
   "source": [
    "LE = LabelEncoder()\n",
    "\n",
    "LE.fit(labels)\n",
    "labels = LE.transform(labels)"
   ]
  },
  {
   "cell_type": "code",
   "execution_count": 168,
   "id": "declared-seafood",
   "metadata": {},
   "outputs": [
    {
     "data": {
      "text/plain": [
       "array([ 0,  1,  2,  3,  4,  5,  6,  7,  8,  9, 10, 11, 12, 13, 14, 15, 16,\n",
       "       17, 18, 19])"
      ]
     },
     "execution_count": 168,
     "metadata": {},
     "output_type": "execute_result"
    }
   ],
   "source": [
    "# Labels have been replaced with integers.\n",
    "\n",
    "np.unique(labels)"
   ]
  },
  {
   "cell_type": "code",
   "execution_count": 169,
   "id": "canadian-president",
   "metadata": {},
   "outputs": [
    {
     "data": {
      "text/plain": [
       "array(['normal.', 'smurf.', 'neptune.', 'satan.', 'ipsweep.',\n",
       "       'portsweep.', 'back.', 'nmap.', 'warezclient.', 'pod.',\n",
       "       'teardrop.', 'guess_passwd.', 'land.', 'buffer_overflow.',\n",
       "       'warezmaster.', 'multihop.', 'rootkit.', 'loadmodule.', 'phf.',\n",
       "       'ftp_write.'], dtype=object)"
      ]
     },
     "execution_count": 169,
     "metadata": {},
     "output_type": "execute_result"
    }
   ],
   "source": [
    "# Checking that encoding reversal works.\n",
    "\n",
    "d = LE.inverse_transform(labels)\n",
    "d = pd.Series(d)\n",
    "d.unique()\n"
   ]
  },
  {
   "cell_type": "markdown",
   "id": "accepted-surveillance",
   "metadata": {},
   "source": [
    "### Splitting the data"
   ]
  },
  {
   "cell_type": "code",
   "execution_count": 170,
   "id": "measured-shower",
   "metadata": {},
   "outputs": [],
   "source": [
    "from sklearn.model_selection import train_test_split"
   ]
  },
  {
   "cell_type": "code",
   "execution_count": 171,
   "id": "plain-toddler",
   "metadata": {},
   "outputs": [],
   "source": [
    "# The next step is to split training and testing data. For this we will use sklearn function train_test_split().\n",
    "\n",
    "features_train, features_test, labels_train, labels_test = train_test_split(features, labels, test_size= 0.2,random_state=1)"
   ]
  },
  {
   "cell_type": "code",
   "execution_count": 172,
   "id": "textile-function",
   "metadata": {},
   "outputs": [
    {
     "data": {
      "text/plain": [
       "((1556449, 39), (1556449,), (389113, 39), (389113,))"
      ]
     },
     "execution_count": 172,
     "metadata": {},
     "output_type": "execute_result"
    }
   ],
   "source": [
    "features_train.shape, labels_train.shape ,features_test.shape , labels_test.shape"
   ]
  },
  {
   "cell_type": "code",
   "execution_count": 173,
   "id": "early-amazon",
   "metadata": {},
   "outputs": [
    {
     "data": {
      "text/plain": [
       "((1167336, 39), (1167336,), (389113, 39), (389113,), (389113, 39), (389113,))"
      ]
     },
     "execution_count": 173,
     "metadata": {},
     "output_type": "execute_result"
    }
   ],
   "source": [
    "features_train,  features_val, labels_train, labels_val = train_test_split(features_train, labels_train, test_size=0.25, random_state=1)\n",
    "features_train.shape, labels_train.shape ,features_test.shape , labels_test.shape, features_val.shape ,labels_val.shape"
   ]
  },
  {
   "cell_type": "code",
   "execution_count": 174,
   "id": "honey-riverside",
   "metadata": {},
   "outputs": [],
   "source": [
    "import datetime\n",
    "import os\n",
    "log_dir = os.path.join(\"train_logs\",datetime.datetime.now().strftime(\"%Y%m%d-%H%M%S\"),)\n",
    "\n",
    "tensorboard_callback = tf.keras.callbacks.TensorBoard(log_dir=log_dir, histogram_freq=1)\n",
    "\n",
    "# TF callback that stops training when best value of validationi loss function is reached\n",
    "eary_stop_callback = tf.keras.callbacks.EarlyStopping(monitor='loss', patience=10, restore_best_weights=True)"
   ]
  },
  {
   "cell_type": "code",
   "execution_count": 175,
   "id": "furnished-decrease",
   "metadata": {},
   "outputs": [],
   "source": [
    "# this function has evaluation metrics\n",
    "def report(prediction, y_true):\n",
    "    print('        ----------Classification Report Of Classes-------------')\n",
    "    print(classification_report(y_true,prediction))\n",
    "    print('\\n        ----------Validation Data------------------')\n",
    "    print('Accuarcy:',accuracy_score(y_true, prediction)* 100)\n",
    "    print('Precision: {:,.4f} %'.format(precision_score(y_true, prediction, average='weighted') * 100))\n",
    "    print('Recall-score: {:,.4f}'.format(recall_score(y_true, prediction, average='weighted') * 100))\n",
    "    print('F1-score: {:,.4f}'.format(f1_score(y_true, prediction, average='weighted') * 100))"
   ]
  },
  {
   "cell_type": "code",
   "execution_count": 176,
   "id": "alert-panama",
   "metadata": {},
   "outputs": [],
   "source": [
    "# plotting loss graphs w.r.t each epoch\n",
    "def plotgraphs(model):\n",
    "    f, ax = plt.subplots()\n",
    "    ax.plot([None] + model.history.history[\"accuracy\"], 'o-')\n",
    "    ax.plot([None] + model.history.history[\"val_accuracy\"], 'x-')\n",
    "\n",
    "    ax.legend(['Train_Accuracy', 'Val_Accuracy'], loc = 0)\n",
    "    ax.set_title('Training/Val Accuracy Per Epoch')\n",
    "    ax.set_xlabel('epoch')\n",
    "    ax.set_ylabel('acc')\n",
    "    plt.show()\n",
    "\n",
    "    f, ax = plt.subplots()\n",
    "    ax.plot([None] + model.history.history[\"loss\"], 'o-')\n",
    "    ax.plot([None] + model.history.history[\"val_loss\"], 'x-')\n",
    "\n",
    "    ax.legend(['Train_Loss', 'Val_Loss'], loc = 0)\n",
    "    ax.set_title('Training/Val Losses Per Epoch')\n",
    "    ax.set_xlabel('epoch')\n",
    "    ax.set_ylabel('loss')\n",
    "    plt.show()"
   ]
  },
  {
   "cell_type": "markdown",
   "id": "chubby-copying",
   "metadata": {},
   "source": [
    "### DNN Models"
   ]
  },
  {
   "cell_type": "code",
   "execution_count": 177,
   "id": "experienced-background",
   "metadata": {},
   "outputs": [
    {
     "name": "stdout",
     "output_type": "stream",
     "text": [
      "Model: \"sequential_15\"\n",
      "_________________________________________________________________\n",
      "Layer (type)                 Output Shape              Param #   \n",
      "=================================================================\n",
      "dense_45 (Dense)             (None, 256)               10240     \n",
      "_________________________________________________________________\n",
      "dropout_23 (Dropout)         (None, 256)               0         \n",
      "_________________________________________________________________\n",
      "dense_46 (Dense)             (None, 20)                5140      \n",
      "=================================================================\n",
      "Total params: 15,380\n",
      "Trainable params: 15,380\n",
      "Non-trainable params: 0\n",
      "_________________________________________________________________\n"
     ]
    }
   ],
   "source": [
    "dnn1= Sequential()\n",
    "\n",
    "dnn1.add(Dense(256, activation='relu', input_shape=(features_train.shape[1],)))\n",
    "dnn1.add(Dropout(0.1))\n",
    "dnn1.add(Dense(20, activation='softmax'))\n",
    "\n",
    "dnn1.summary()"
   ]
  },
  {
   "cell_type": "code",
   "execution_count": 178,
   "id": "finite-generation",
   "metadata": {},
   "outputs": [],
   "source": [
    "dnn1.compile(loss = 'sparse_categorical_crossentropy', optimizer= 'adam', metrics = ['accuracy'])"
   ]
  },
  {
   "cell_type": "code",
   "execution_count": 180,
   "id": "hawaiian-miller",
   "metadata": {
    "scrolled": true
   },
   "outputs": [
    {
     "name": "stdout",
     "output_type": "stream",
     "text": [
      "Epoch 1/30\n",
      "18240/18240 [==============================] - 49s 3ms/step - loss: 0.1432 - accuracy: 0.9989 - val_loss: 9.3741 - val_accuracy: 0.9981\n",
      "Epoch 2/30\n",
      "18240/18240 [==============================] - 49s 3ms/step - loss: 0.1742 - accuracy: 0.9992 - val_loss: 12.5639 - val_accuracy: 0.9988\n",
      "Epoch 3/30\n",
      "18240/18240 [==============================] - 51s 3ms/step - loss: 0.0793 - accuracy: 0.9993 - val_loss: 19.1342 - val_accuracy: 0.9996\n",
      "Epoch 4/30\n",
      "18240/18240 [==============================] - 51s 3ms/step - loss: 0.1910 - accuracy: 0.9994 - val_loss: 17.1497 - val_accuracy: 0.9996\n",
      "Epoch 5/30\n",
      "18240/18240 [==============================] - 48s 3ms/step - loss: 0.1455 - accuracy: 0.9994 - val_loss: 16.1451 - val_accuracy: 0.9995\n",
      "Epoch 6/30\n",
      "18240/18240 [==============================] - 47s 3ms/step - loss: 0.0984 - accuracy: 0.9995 - val_loss: 16.0508 - val_accuracy: 0.9996\n",
      "Epoch 7/30\n",
      "18240/18240 [==============================] - 46s 3ms/step - loss: 0.1362 - accuracy: 0.9995 - val_loss: 17.8864 - val_accuracy: 0.9997\n",
      "Epoch 8/30\n",
      "18240/18240 [==============================] - 43s 2ms/step - loss: 0.3610 - accuracy: 0.9995 - val_loss: 14.0273 - val_accuracy: 0.9997\n",
      "Epoch 9/30\n",
      "18240/18240 [==============================] - 45s 2ms/step - loss: 0.4898 - accuracy: 0.9995 - val_loss: 20.1397 - val_accuracy: 0.9997\n",
      "Epoch 10/30\n",
      "18240/18240 [==============================] - 47s 3ms/step - loss: 0.0960 - accuracy: 0.9995 - val_loss: 17.7995 - val_accuracy: 0.9997\n",
      "Epoch 11/30\n",
      "18240/18240 [==============================] - 48s 3ms/step - loss: 0.3987 - accuracy: 0.9995 - val_loss: 23.1409 - val_accuracy: 0.9996\n",
      "Epoch 12/30\n",
      "18240/18240 [==============================] - 46s 3ms/step - loss: 0.2081 - accuracy: 0.9996 - val_loss: 25.9026 - val_accuracy: 0.9997\n",
      "Epoch 13/30\n",
      "18240/18240 [==============================] - 47s 3ms/step - loss: 0.5384 - accuracy: 0.9996 - val_loss: 32.0213 - val_accuracy: 0.9997\n"
     ]
    },
    {
     "data": {
      "text/plain": [
       "<tensorflow.python.keras.callbacks.History at 0x26150954648>"
      ]
     },
     "execution_count": 180,
     "metadata": {},
     "output_type": "execute_result"
    }
   ],
   "source": [
    "dnn1.fit(features_train,labels_train,epochs=30,batch_size=64,validation_data=(features_val,labels_val),callbacks=[tensorboard_callback, eary_stop_callback])"
   ]
  },
  {
   "cell_type": "code",
   "execution_count": 181,
   "id": "imperial-burton",
   "metadata": {
    "scrolled": true
   },
   "outputs": [
    {
     "data": {
      "image/png": "[encoded data removed]",
      "text/plain": [
       "<Figure size 432x288 with 1 Axes>"
      ]
     },
     "metadata": {
      "needs_background": "light"
     },
     "output_type": "display_data"
    },
    {
     "data": {
      "image/png": "[encoded data removed]",
      "text/plain": [
       "<Figure size 432x288 with 1 Axes>"
      ]
     },
     "metadata": {
      "needs_background": "light"
     },
     "output_type": "display_data"
    }
   ],
   "source": [
    "plotgraphs(dnn1)"
   ]
  },
  {
   "cell_type": "code",
   "execution_count": 182,
   "id": "little-rolling",
   "metadata": {},
   "outputs": [],
   "source": [
    "predict = np.argmax(dnn1.predict(features_test),axis=1)\n",
    "\n",
    "a = np.unique(predict)\n",
    "b = np.unique(labels_test)\n",
    "c = list(set(a) | set(b))"
   ]
  },
  {
   "cell_type": "code",
   "execution_count": 183,
   "id": "selective-morrison",
   "metadata": {
    "scrolled": false
   },
   "outputs": [
    {
     "name": "stdout",
     "output_type": "stream",
     "text": [
      "        ----------Classification Report Of Classes-------------\n",
      "              precision    recall  f1-score   support\n",
      "\n",
      "           0       1.00      0.98      0.99       109\n",
      "           1       0.00      0.00      0.00         2\n",
      "           3       1.00      0.83      0.91         6\n",
      "           4       0.96      0.97      0.97       627\n",
      "           5       0.00      0.00      0.00         2\n",
      "           8       1.00      1.00      1.00     53123\n",
      "           9       0.93      0.98      0.95       105\n",
      "          10       1.00      1.00      1.00    194326\n",
      "          12       1.00      0.93      0.96        14\n",
      "          13       0.99      0.90      0.94       557\n",
      "          14       0.00      0.00      0.00         1\n",
      "          15       0.99      0.98      0.98       777\n",
      "          16       1.00      1.00      1.00    139354\n",
      "          17       1.00      1.00      1.00        43\n",
      "          18       0.85      0.85      0.85        65\n",
      "          19       0.00      0.00      0.00         2\n",
      "\n",
      "    accuracy                           1.00    389113\n",
      "   macro avg       0.73      0.71      0.72    389113\n",
      "weighted avg       1.00      1.00      1.00    389113\n",
      "\n",
      "\n",
      "        ----------Validation Data------------------\n",
      "Accuarcy: 99.95888083924207\n",
      "Precision: 99.9570 %\n",
      "Recall-score: 99.9589\n",
      "F1-score: 99.9577\n"
     ]
    }
   ],
   "source": [
    "report(predict,labels_test)"
   ]
  },
  {
   "cell_type": "code",
   "execution_count": 184,
   "id": "judicial-uncertainty",
   "metadata": {},
   "outputs": [
    {
     "name": "stdout",
     "output_type": "stream",
     "text": [
      "Model: \"sequential_16\"\n",
      "_________________________________________________________________\n",
      "Layer (type)                 Output Shape              Param #   \n",
      "=================================================================\n",
      "dense_47 (Dense)             (None, 256)               10240     \n",
      "_________________________________________________________________\n",
      "dropout_24 (Dropout)         (None, 256)               0         \n",
      "_________________________________________________________________\n",
      "dense_48 (Dense)             (None, 128)               32896     \n",
      "_________________________________________________________________\n",
      "dropout_25 (Dropout)         (None, 128)               0         \n",
      "_________________________________________________________________\n",
      "dense_49 (Dense)             (None, 20)                2580      \n",
      "=================================================================\n",
      "Total params: 45,716\n",
      "Trainable params: 45,716\n",
      "Non-trainable params: 0\n",
      "_________________________________________________________________\n"
     ]
    }
   ],
   "source": [
    "dnn2= Sequential()\n",
    "\n",
    "dnn2.add(Dense(256, activation='relu', input_shape=(features_train.shape[1],)))\n",
    "dnn2.add(Dropout(0.1))\n",
    "dnn2.add(Dense(128, activation='relu'))\n",
    "dnn2.add(Dropout(0.1))\n",
    "dnn2.add(Dense(20, activation = 'softmax'))\n",
    "\n",
    "dnn2.summary()"
   ]
  },
  {
   "cell_type": "code",
   "execution_count": 185,
   "id": "promising-simple",
   "metadata": {},
   "outputs": [],
   "source": [
    "dnn2.compile(loss = 'sparse_categorical_crossentropy', optimizer= 'adam', metrics = ['accuracy'])"
   ]
  },
  {
   "cell_type": "code",
   "execution_count": 186,
   "id": "mediterranean-impact",
   "metadata": {
    "scrolled": true
   },
   "outputs": [
    {
     "name": "stdout",
     "output_type": "stream",
     "text": [
      "Epoch 1/30\n",
      "18240/18240 [==============================] - 62s 3ms/step - loss: 0.6870 - accuracy: 0.9954 - val_loss: 0.5548 - val_accuracy: 0.9994\n",
      "Epoch 2/30\n",
      "18240/18240 [==============================] - 63s 3ms/step - loss: 0.3546 - accuracy: 0.9991 - val_loss: 0.7222 - val_accuracy: 0.9995\n",
      "Epoch 3/30\n",
      "18240/18240 [==============================] - 67s 4ms/step - loss: 0.3647 - accuracy: 0.9994 - val_loss: 0.7107 - val_accuracy: 0.9994\n",
      "Epoch 4/30\n",
      "18240/18240 [==============================] - 66s 4ms/step - loss: 0.0624 - accuracy: 0.9994 - val_loss: 1.2906 - val_accuracy: 0.9995\n",
      "Epoch 5/30\n",
      "18240/18240 [==============================] - 63s 3ms/step - loss: 0.2726 - accuracy: 0.9993 - val_loss: 0.8884 - val_accuracy: 0.9996\n",
      "Epoch 6/30\n",
      "18240/18240 [==============================] - 64s 4ms/step - loss: 0.0888 - accuracy: 0.9994 - val_loss: 2.0663 - val_accuracy: 0.9996\n",
      "Epoch 7/30\n",
      "18240/18240 [==============================] - 65s 4ms/step - loss: 0.1937 - accuracy: 0.9994 - val_loss: 1.2885 - val_accuracy: 0.9995\n",
      "Epoch 8/30\n",
      "18240/18240 [==============================] - 64s 4ms/step - loss: 0.0573 - accuracy: 0.9995 - val_loss: 0.2835 - val_accuracy: 0.9997\n",
      "Epoch 9/30\n",
      "18240/18240 [==============================] - 66s 4ms/step - loss: 0.0486 - accuracy: 0.9995 - val_loss: 0.0275 - val_accuracy: 0.9995\n",
      "Epoch 10/30\n",
      "18240/18240 [==============================] - 61s 3ms/step - loss: 0.0951 - accuracy: 0.9995 - val_loss: 5.3548 - val_accuracy: 0.9994\n",
      "Epoch 11/30\n",
      "18240/18240 [==============================] - 59s 3ms/step - loss: 0.5066 - accuracy: 0.9995 - val_loss: 2.3675 - val_accuracy: 0.9997\n",
      "Epoch 12/30\n",
      "18240/18240 [==============================] - 63s 3ms/step - loss: 0.4017 - accuracy: 0.9995 - val_loss: 1.3517 - val_accuracy: 0.9997\n",
      "Epoch 13/30\n",
      "18240/18240 [==============================] - 65s 4ms/step - loss: 0.2356 - accuracy: 0.9995 - val_loss: 2.1710 - val_accuracy: 0.9996\n",
      "Epoch 14/30\n",
      "18240/18240 [==============================] - 68s 4ms/step - loss: 0.7173 - accuracy: 0.9995 - val_loss: 0.9833 - val_accuracy: 0.9996\n",
      "Epoch 15/30\n",
      "18240/18240 [==============================] - 65s 4ms/step - loss: 0.1170 - accuracy: 0.9996 - val_loss: 2.9198 - val_accuracy: 0.9997\n",
      "Epoch 16/30\n",
      "18240/18240 [==============================] - 66s 4ms/step - loss: 0.3860 - accuracy: 0.9996 - val_loss: 0.9593 - val_accuracy: 0.9996\n",
      "Epoch 17/30\n",
      "18240/18240 [==============================] - 65s 4ms/step - loss: 0.2047 - accuracy: 0.9995 - val_loss: 1.6741 - val_accuracy: 0.9997\n",
      "Epoch 18/30\n",
      "18240/18240 [==============================] - 66s 4ms/step - loss: 0.1524 - accuracy: 0.9996 - val_loss: 3.3708 - val_accuracy: 0.9997\n",
      "Epoch 19/30\n",
      "18240/18240 [==============================] - 66s 4ms/step - loss: 1.0273 - accuracy: 0.9995 - val_loss: 1.3271 - val_accuracy: 0.9996\n"
     ]
    },
    {
     "data": {
      "text/plain": [
       "<tensorflow.python.keras.callbacks.History at 0x26150b28f88>"
      ]
     },
     "execution_count": 186,
     "metadata": {},
     "output_type": "execute_result"
    }
   ],
   "source": [
    "dnn2.fit(features_train,labels_train,epochs=30,batch_size=64,\n",
    "         validation_data=(features_test,labels_test),callbacks=[tensorboard_callback, eary_stop_callback])"
   ]
  },
  {
   "cell_type": "code",
   "execution_count": 187,
   "id": "heavy-canadian",
   "metadata": {
    "scrolled": true
   },
   "outputs": [
    {
     "data": {
      "image/png": "[encoded data removed]",
      "text/plain": [
       "<Figure size 432x288 with 1 Axes>"
      ]
     },
     "metadata": {
      "needs_background": "light"
     },
     "output_type": "display_data"
    },
    {
     "data": {
      "image/png": "[encoded data removed]",
      "text/plain": [
       "<Figure size 432x288 with 1 Axes>"
      ]
     },
     "metadata": {
      "needs_background": "light"
     },
     "output_type": "display_data"
    }
   ],
   "source": [
    "plotgraphs(dnn2)"
   ]
  },
  {
   "cell_type": "code",
   "execution_count": 188,
   "id": "female-inventory",
   "metadata": {},
   "outputs": [],
   "source": [
    "predict = np.argmax(dnn2.predict(features_test),axis=1)\n",
    "\n",
    "a = np.unique(predict)\n",
    "b = np.unique(labels_test)\n",
    "c = list(set(a) | set(b))"
   ]
  },
  {
   "cell_type": "code",
   "execution_count": 189,
   "id": "experimental-malpractice",
   "metadata": {
    "scrolled": true
   },
   "outputs": [
    {
     "name": "stdout",
     "output_type": "stream",
     "text": [
      "        ----------Classification Report Of Classes-------------\n",
      "              precision    recall  f1-score   support\n",
      "\n",
      "           0       1.00      0.97      0.99       109\n",
      "           1       0.00      0.00      0.00         2\n",
      "           3       1.00      0.50      0.67         6\n",
      "           4       0.99      0.90      0.95       627\n",
      "           5       0.00      0.00      0.00         2\n",
      "           8       1.00      1.00      1.00     53123\n",
      "           9       0.98      0.99      0.99       105\n",
      "          10       1.00      1.00      1.00    194326\n",
      "          12       1.00      1.00      1.00        14\n",
      "          13       1.00      0.90      0.95       557\n",
      "          14       0.00      0.00      0.00         1\n",
      "          15       0.99      0.98      0.99       777\n",
      "          16       1.00      1.00      1.00    139354\n",
      "          17       1.00      1.00      1.00        43\n",
      "          18       0.94      0.75      0.84        65\n",
      "          19       0.00      0.00      0.00         2\n",
      "\n",
      "    accuracy                           1.00    389113\n",
      "   macro avg       0.74      0.69      0.71    389113\n",
      "weighted avg       1.00      1.00      1.00    389113\n",
      "\n",
      "\n",
      "        ----------Validation Data------------------\n",
      "Accuarcy: 99.95476892316628\n",
      "Precision: 99.9527 %\n",
      "Recall-score: 99.9548\n",
      "F1-score: 99.9527\n"
     ]
    }
   ],
   "source": [
    "report(predict,labels_test)"
   ]
  },
  {
   "cell_type": "code",
   "execution_count": 190,
   "id": "announced-rebound",
   "metadata": {
    "scrolled": true
   },
   "outputs": [
    {
     "name": "stdout",
     "output_type": "stream",
     "text": [
      "Model: \"sequential_17\"\n",
      "_________________________________________________________________\n",
      "Layer (type)                 Output Shape              Param #   \n",
      "=================================================================\n",
      "dense_50 (Dense)             (None, 256)               10240     \n",
      "_________________________________________________________________\n",
      "dropout_26 (Dropout)         (None, 256)               0         \n",
      "_________________________________________________________________\n",
      "dense_51 (Dense)             (None, 128)               32896     \n",
      "_________________________________________________________________\n",
      "dropout_27 (Dropout)         (None, 128)               0         \n",
      "_________________________________________________________________\n",
      "dense_52 (Dense)             (None, 64)                8256      \n",
      "_________________________________________________________________\n",
      "dropout_28 (Dropout)         (None, 64)                0         \n",
      "_________________________________________________________________\n",
      "dense_53 (Dense)             (None, 20)                1300      \n",
      "=================================================================\n",
      "Total params: 52,692\n",
      "Trainable params: 52,692\n",
      "Non-trainable params: 0\n",
      "_________________________________________________________________\n"
     ]
    }
   ],
   "source": [
    "dnn3= Sequential()\n",
    "\n",
    "dnn3.add(Dense(256, activation='relu', input_shape=(features_train.shape[1],)))\n",
    "dnn3.add(Dropout(0.1))\n",
    "dnn3.add(Dense(128, activation='relu'))\n",
    "dnn3.add(Dropout(0.1))\n",
    "dnn3.add(Dense(64, activation='relu'))\n",
    "dnn3.add(Dropout(0.1))\n",
    "dnn3.add(Dense(20, activation = 'softmax'))\n",
    "\n",
    "dnn3.summary()"
   ]
  },
  {
   "cell_type": "code",
   "execution_count": 191,
   "id": "capital-function",
   "metadata": {},
   "outputs": [],
   "source": [
    "dnn3.compile(loss = 'sparse_categorical_crossentropy', optimizer= 'adam', metrics = ['accuracy'])"
   ]
  },
  {
   "cell_type": "code",
   "execution_count": 192,
   "id": "intellectual-stage",
   "metadata": {
    "scrolled": true
   },
   "outputs": [
    {
     "name": "stdout",
     "output_type": "stream",
     "text": [
      "Epoch 1/30\n",
      "9120/9120 [==============================] - 48s 5ms/step - loss: 0.2883 - accuracy: 0.9937 - val_loss: 0.2119 - val_accuracy: 0.9992\n",
      "Epoch 2/30\n",
      "9120/9120 [==============================] - 49s 5ms/step - loss: 0.0664 - accuracy: 0.9988 - val_loss: 0.0571 - val_accuracy: 0.9995\n",
      "Epoch 3/30\n",
      "9120/9120 [==============================] - 48s 5ms/step - loss: 0.0463 - accuracy: 0.9992 - val_loss: 0.0319 - val_accuracy: 0.9995\n",
      "Epoch 4/30\n",
      "9120/9120 [==============================] - 48s 5ms/step - loss: 0.0233 - accuracy: 0.9994 - val_loss: 0.0238 - val_accuracy: 0.9995\n",
      "Epoch 5/30\n",
      "9120/9120 [==============================] - 49s 5ms/step - loss: 0.0349 - accuracy: 0.9994 - val_loss: 0.0613 - val_accuracy: 0.9995\n",
      "Epoch 6/30\n",
      "9120/9120 [==============================] - 50s 5ms/step - loss: 0.0172 - accuracy: 0.9995 - val_loss: 0.0083 - val_accuracy: 0.9996\n",
      "Epoch 7/30\n",
      "9120/9120 [==============================] - 49s 5ms/step - loss: 0.0226 - accuracy: 0.9995 - val_loss: 0.0166 - val_accuracy: 0.9997\n",
      "Epoch 8/30\n",
      "9120/9120 [==============================] - 49s 5ms/step - loss: 0.0740 - accuracy: 0.9995 - val_loss: 0.0975 - val_accuracy: 0.9996\n",
      "Epoch 9/30\n",
      "9120/9120 [==============================] - 49s 5ms/step - loss: 0.0531 - accuracy: 0.9995 - val_loss: 0.1829 - val_accuracy: 0.9996\n",
      "Epoch 10/30\n",
      "9120/9120 [==============================] - 48s 5ms/step - loss: 0.0596 - accuracy: 0.9994 - val_loss: 0.0434 - val_accuracy: 0.9996\n",
      "Epoch 11/30\n",
      "9120/9120 [==============================] - 50s 5ms/step - loss: 0.0307 - accuracy: 0.9995 - val_loss: 0.0254 - val_accuracy: 0.9996\n",
      "Epoch 12/30\n",
      "9120/9120 [==============================] - 49s 5ms/step - loss: 0.0140 - accuracy: 0.9995 - val_loss: 0.0190 - val_accuracy: 0.9996\n",
      "Epoch 13/30\n",
      "9120/9120 [==============================] - 48s 5ms/step - loss: 0.0249 - accuracy: 0.9995 - val_loss: 0.1993 - val_accuracy: 0.9995\n",
      "Epoch 14/30\n",
      "9120/9120 [==============================] - 48s 5ms/step - loss: 0.0679 - accuracy: 0.9995 - val_loss: 0.1697 - val_accuracy: 0.9996\n",
      "Epoch 15/30\n",
      "9120/9120 [==============================] - 49s 5ms/step - loss: 0.0485 - accuracy: 0.9996 - val_loss: 0.0619 - val_accuracy: 0.9996\n",
      "Epoch 16/30\n",
      "9120/9120 [==============================] - 49s 5ms/step - loss: 0.0389 - accuracy: 0.9995 - val_loss: 0.0847 - val_accuracy: 0.9996\n",
      "Epoch 17/30\n",
      "9120/9120 [==============================] - 49s 5ms/step - loss: 0.0711 - accuracy: 0.9995 - val_loss: 0.0993 - val_accuracy: 0.9996\n",
      "Epoch 18/30\n",
      "9120/9120 [==============================] - 48s 5ms/step - loss: 0.0163 - accuracy: 0.9995 - val_loss: 0.3951 - val_accuracy: 0.9996\n",
      "Epoch 19/30\n",
      "9120/9120 [==============================] - 49s 5ms/step - loss: 0.1208 - accuracy: 0.9995 - val_loss: 0.5647 - val_accuracy: 0.9995\n",
      "Epoch 20/30\n",
      "9120/9120 [==============================] - 49s 5ms/step - loss: 0.0882 - accuracy: 0.9995 - val_loss: 0.5052 - val_accuracy: 0.9996\n",
      "Epoch 21/30\n",
      "9120/9120 [==============================] - 48s 5ms/step - loss: 0.0399 - accuracy: 0.9996 - val_loss: 0.5147 - val_accuracy: 0.9997\n",
      "Epoch 22/30\n",
      "9120/9120 [==============================] - 48s 5ms/step - loss: 0.1881 - accuracy: 0.9995 - val_loss: 0.6068 - val_accuracy: 0.9997\n"
     ]
    },
    {
     "data": {
      "text/plain": [
       "<tensorflow.python.keras.callbacks.History at 0x26281f90608>"
      ]
     },
     "execution_count": 192,
     "metadata": {},
     "output_type": "execute_result"
    }
   ],
   "source": [
    "dnn3.fit(features_train,labels_train,epochs=30,batch_size=128,\n",
    "         validation_data=(features_test,labels_test),callbacks=[tensorboard_callback, eary_stop_callback])"
   ]
  },
  {
   "cell_type": "code",
   "execution_count": 193,
   "id": "invisible-pleasure",
   "metadata": {},
   "outputs": [
    {
     "data": {
      "image/png": "[encoded data removed]",
      "text/plain": [
       "<Figure size 432x288 with 1 Axes>"
      ]
     },
     "metadata": {
      "needs_background": "light"
     },
     "output_type": "display_data"
    },
    {
     "data": {
      "image/png": "[encoded data removed]",
      "text/plain": [
       "<Figure size 432x288 with 1 Axes>"
      ]
     },
     "metadata": {
      "needs_background": "light"
     },
     "output_type": "display_data"
    }
   ],
   "source": [
    "plotgraphs(dnn3)"
   ]
  },
  {
   "cell_type": "code",
   "execution_count": 194,
   "id": "light-manor",
   "metadata": {},
   "outputs": [],
   "source": [
    "predict = np.argmax(dnn3.predict(features_test),axis=1)\n",
    "\n",
    "a = np.unique(predict)\n",
    "b = np.unique(labels_test)\n",
    "c = list(set(a) | set(b))"
   ]
  },
  {
   "cell_type": "code",
   "execution_count": 195,
   "id": "generous-values",
   "metadata": {},
   "outputs": [
    {
     "name": "stdout",
     "output_type": "stream",
     "text": [
      "        ----------Classification Report Of Classes-------------\n",
      "              precision    recall  f1-score   support\n",
      "\n",
      "           0       1.00      0.98      0.99       109\n",
      "           1       0.00      0.00      0.00         2\n",
      "           3       1.00      0.67      0.80         6\n",
      "           4       0.96      0.96      0.96       627\n",
      "           5       0.00      0.00      0.00         2\n",
      "           8       1.00      1.00      1.00     53123\n",
      "           9       0.95      0.99      0.97       105\n",
      "          10       1.00      1.00      1.00    194326\n",
      "          12       1.00      0.64      0.78        14\n",
      "          13       0.99      0.91      0.95       557\n",
      "          14       0.00      0.00      0.00         1\n",
      "          15       1.00      0.98      0.99       777\n",
      "          16       1.00      1.00      1.00    139354\n",
      "          17       1.00      1.00      1.00        43\n",
      "          18       0.96      0.75      0.84        65\n",
      "          19       0.00      0.00      0.00         2\n",
      "\n",
      "    accuracy                           1.00    389113\n",
      "   macro avg       0.74      0.68      0.71    389113\n",
      "weighted avg       1.00      1.00      1.00    389113\n",
      "\n",
      "\n",
      "        ----------Validation Data------------------\n",
      "Accuarcy: 99.96145078678944\n",
      "Precision: 99.9595 %\n",
      "Recall-score: 99.9615\n",
      "F1-score: 99.9598\n"
     ]
    }
   ],
   "source": [
    "report(predict,labels_test)"
   ]
  },
  {
   "cell_type": "markdown",
   "id": "acquired-mississippi",
   "metadata": {},
   "source": [
    "### CNN Models"
   ]
  },
  {
   "cell_type": "code",
   "execution_count": 210,
   "id": "handed-fight",
   "metadata": {
    "scrolled": true
   },
   "outputs": [
    {
     "data": {
      "text/plain": [
       "((1167336, 39, 1), (389113, 39, 1), (389113, 39, 1))"
      ]
     },
     "execution_count": 210,
     "metadata": {},
     "output_type": "execute_result"
    }
   ],
   "source": [
    "# reshape input to be [samples, time steps, features]\n",
    "y_train= to_categorical(labels_train)\n",
    "y_test= to_categorical(labels_test)\n",
    "y_val= to_categorical(labels_val)\n",
    "\n",
    "X_train = np.array(features_train).reshape(features_train.shape[0], features_train.shape[1], 1)\n",
    "X_test = np.array(features_test).reshape(features_test.shape[0], features_test.shape[1], 1)\n",
    "X_val = np.array(features_val).reshape(features_val.shape[0], features_val.shape[1], 1)\n",
    "X_train.shape , X_test.shape , X_val.shape"
   ]
  },
  {
   "cell_type": "code",
   "execution_count": 227,
   "id": "physical-adelaide",
   "metadata": {},
   "outputs": [],
   "source": [
    "y_train = np.asarray(labels_train).astype('float32').reshape((-1,1))\n",
    "y_test = np.asarray(labels_test).astype('float32').reshape((-1,1))\n",
    "y_val = np.asarray(labels_val).astype('float32').reshape((-1,1))"
   ]
  },
  {
   "cell_type": "code",
   "execution_count": 233,
   "id": "automatic-subcommittee",
   "metadata": {
    "scrolled": true
   },
   "outputs": [
    {
     "name": "stdout",
     "output_type": "stream",
     "text": [
      "Model: \"sequential\"\n",
      "_________________________________________________________________\n",
      "Layer (type)                 Output Shape              Param #   \n",
      "=================================================================\n",
      "conv1d (Conv1D)              (None, 37, 64)            256       \n",
      "_________________________________________________________________\n",
      "leaky_re_lu (LeakyReLU)      (None, 37, 64)            0         \n",
      "_________________________________________________________________\n",
      "max_pooling1d (MaxPooling1D) (None, 18, 64)            0         \n",
      "_________________________________________________________________\n",
      "dropout (Dropout)            (None, 18, 64)            0         \n",
      "_________________________________________________________________\n",
      "conv1d_1 (Conv1D)            (None, 18, 64)            4160      \n",
      "_________________________________________________________________\n",
      "leaky_re_lu_1 (LeakyReLU)    (None, 18, 64)            0         \n",
      "_________________________________________________________________\n",
      "max_pooling1d_1 (MaxPooling1 (None, 9, 64)             0         \n",
      "_________________________________________________________________\n",
      "dropout_1 (Dropout)          (None, 9, 64)             0         \n",
      "_________________________________________________________________\n",
      "conv1d_2 (Conv1D)            (None, 9, 64)             4160      \n",
      "_________________________________________________________________\n",
      "leaky_re_lu_2 (LeakyReLU)    (None, 9, 64)             0         \n",
      "_________________________________________________________________\n",
      "max_pooling1d_2 (MaxPooling1 (None, 4, 64)             0         \n",
      "_________________________________________________________________\n",
      "dropout_2 (Dropout)          (None, 4, 64)             0         \n",
      "_________________________________________________________________\n",
      "flatten (Flatten)            (None, 256)               0         \n",
      "_________________________________________________________________\n",
      "dense (Dense)                (None, 64)                16448     \n",
      "_________________________________________________________________\n",
      "leaky_re_lu_3 (LeakyReLU)    (None, 64)                0         \n",
      "_________________________________________________________________\n",
      "dense_1 (Dense)              (None, 32)                2080      \n",
      "_________________________________________________________________\n",
      "leaky_re_lu_4 (LeakyReLU)    (None, 32)                0         \n",
      "_________________________________________________________________\n",
      "dense_2 (Dense)              (None, 20)                660       \n",
      "=================================================================\n",
      "Total params: 27,764\n",
      "Trainable params: 27,764\n",
      "Non-trainable params: 0\n",
      "_________________________________________________________________\n"
     ]
    }
   ],
   "source": [
    "#hyperparameters\n",
    "keras.backend.clear_session()\n",
    "SEED = 1040941203\n",
    "hidden_initializer = random_uniform(seed=SEED)\n",
    "\n",
    "\n",
    "# create model\n",
    "cnn3 = Sequential()\n",
    "cnn3.add(Conv1D(64, 3, input_shape=(39, 1)))\n",
    "cnn3.add(LeakyReLU(alpha=0.1))\n",
    "cnn3.add(MaxPooling1D(pool_size=2))\n",
    "cnn3.add(Dropout(0.3))\n",
    "\n",
    "cnn3.add(Conv1D(64, 1))\n",
    "cnn3.add(LeakyReLU(alpha=0.1))\n",
    "cnn3.add(MaxPooling1D(pool_size=2))\n",
    "cnn3.add(Dropout(0.3))\n",
    "\n",
    "cnn3.add(Conv1D(64, 1))\n",
    "cnn3.add(LeakyReLU(alpha=0.1))\n",
    "cnn3.add(MaxPooling1D(pool_size=2))\n",
    "cnn3.add(Dropout(0.3))\n",
    "\n",
    "cnn3.add(Flatten())\n",
    "cnn3.add(Dense(64, input_dim=19, kernel_initializer=hidden_initializer))\n",
    "cnn3.add(LeakyReLU(alpha=0.1))\n",
    "cnn3.add(Dense(32))\n",
    "cnn3.add(LeakyReLU(alpha=0.1))\n",
    "cnn3.add(Dense(20, activation='softmax'))\n",
    "\n",
    "cnn3.summary()"
   ]
  },
  {
   "cell_type": "code",
   "execution_count": 236,
   "id": "reverse-climate",
   "metadata": {},
   "outputs": [],
   "source": [
    "cnn3.compile(loss = 'sparse_categorical_crossentropy', optimizer= 'adam', metrics = ['accuracy'])"
   ]
  },
  {
   "cell_type": "code",
   "execution_count": 237,
   "id": "modified-fisher",
   "metadata": {
    "scrolled": true
   },
   "outputs": [
    {
     "name": "stdout",
     "output_type": "stream",
     "text": [
      "Epoch 1/30\n",
      "2280/2280 [==============================] - 143s 62ms/step - loss: 0.2840 - accuracy: 0.9583 - val_loss: 0.1268 - val_accuracy: 0.9970\n",
      "Epoch 2/30\n",
      "2280/2280 [==============================] - 141s 62ms/step - loss: 0.0181 - accuracy: 0.9960 - val_loss: 0.0308 - val_accuracy: 0.9980\n",
      "Epoch 3/30\n",
      "2280/2280 [==============================] - 140s 62ms/step - loss: 0.0134 - accuracy: 0.9972 - val_loss: 0.0123 - val_accuracy: 0.9980\n",
      "Epoch 4/30\n",
      "2280/2280 [==============================] - 141s 62ms/step - loss: 0.0119 - accuracy: 0.9976 - val_loss: 0.0566 - val_accuracy: 0.9986\n",
      "Epoch 5/30\n",
      "2280/2280 [==============================] - 141s 62ms/step - loss: 0.0162 - accuracy: 0.9982 - val_loss: 0.0156 - val_accuracy: 0.9989\n",
      "Epoch 6/30\n",
      "2280/2280 [==============================] - 142s 62ms/step - loss: 0.0082 - accuracy: 0.9982 - val_loss: 0.0794 - val_accuracy: 0.9990\n",
      "Epoch 7/30\n",
      "2280/2280 [==============================] - 141s 62ms/step - loss: 0.0074 - accuracy: 0.9985 - val_loss: 0.0182 - val_accuracy: 0.9991\n",
      "Epoch 8/30\n",
      "2280/2280 [==============================] - 139s 61ms/step - loss: 0.0064 - accuracy: 0.9987 - val_loss: 0.0605 - val_accuracy: 0.9990\n",
      "Epoch 9/30\n",
      "2280/2280 [==============================] - 139s 61ms/step - loss: 0.0062 - accuracy: 0.9987 - val_loss: 0.0561 - val_accuracy: 0.9992\n",
      "Epoch 10/30\n",
      "2280/2280 [==============================] - 139s 61ms/step - loss: 0.0078 - accuracy: 0.9987 - val_loss: 0.0481 - val_accuracy: 0.9992\n",
      "Epoch 11/30\n",
      "2280/2280 [==============================] - 141s 62ms/step - loss: 0.0058 - accuracy: 0.9989 - val_loss: 0.1103 - val_accuracy: 0.9992\n",
      "Epoch 12/30\n",
      "2280/2280 [==============================] - 141s 62ms/step - loss: 0.0096 - accuracy: 0.9988 - val_loss: 0.1702 - val_accuracy: 0.9989\n",
      "Epoch 13/30\n",
      "2280/2280 [==============================] - 139s 61ms/step - loss: 0.0067 - accuracy: 0.9987 - val_loss: 0.1121 - val_accuracy: 0.9992\n",
      "Epoch 14/30\n",
      "2280/2280 [==============================] - 139s 61ms/step - loss: 0.0045 - accuracy: 0.9989 - val_loss: 0.1121 - val_accuracy: 0.9993\n",
      "Epoch 15/30\n",
      "2280/2280 [==============================] - 140s 61ms/step - loss: 0.0051 - accuracy: 0.9989 - val_loss: 0.0702 - val_accuracy: 0.9992\n",
      "Epoch 16/30\n",
      "2280/2280 [==============================] - 141s 62ms/step - loss: 0.0046 - accuracy: 0.9990 - val_loss: 0.0442 - val_accuracy: 0.9991\n",
      "Epoch 17/30\n",
      "2280/2280 [==============================] - 141s 62ms/step - loss: 0.0047 - accuracy: 0.9990 - val_loss: 0.0334 - val_accuracy: 0.9993\n",
      "Epoch 18/30\n",
      "2280/2280 [==============================] - 141s 62ms/step - loss: 0.0042 - accuracy: 0.9990 - val_loss: 0.0813 - val_accuracy: 0.9993\n",
      "Epoch 19/30\n",
      "2280/2280 [==============================] - 141s 62ms/step - loss: 0.0037 - accuracy: 0.9991 - val_loss: 0.1893 - val_accuracy: 0.9993\n",
      "Epoch 20/30\n",
      "2280/2280 [==============================] - 141s 62ms/step - loss: 0.0040 - accuracy: 0.9991 - val_loss: 0.1608 - val_accuracy: 0.9993\n",
      "Epoch 21/30\n",
      "2280/2280 [==============================] - 140s 62ms/step - loss: 0.0060 - accuracy: 0.9990 - val_loss: 0.0403 - val_accuracy: 0.9994\n",
      "Epoch 22/30\n",
      "2280/2280 [==============================] - 141s 62ms/step - loss: 0.0063 - accuracy: 0.9990 - val_loss: 0.0408 - val_accuracy: 0.9993\n",
      "Epoch 23/30\n",
      "2280/2280 [==============================] - 140s 61ms/step - loss: 0.0041 - accuracy: 0.9991 - val_loss: 0.0743 - val_accuracy: 0.9994\n",
      "Epoch 24/30\n",
      "2280/2280 [==============================] - 140s 62ms/step - loss: 0.0053 - accuracy: 0.9991 - val_loss: 0.0544 - val_accuracy: 0.9994\n",
      "Epoch 25/30\n",
      "2280/2280 [==============================] - 141s 62ms/step - loss: 0.0040 - accuracy: 0.9991 - val_loss: 0.0467 - val_accuracy: 0.9994\n",
      "Epoch 26/30\n",
      "2280/2280 [==============================] - 140s 62ms/step - loss: 0.0044 - accuracy: 0.9991 - val_loss: 0.0237 - val_accuracy: 0.9994\n",
      "Epoch 27/30\n",
      "2280/2280 [==============================] - 141s 62ms/step - loss: 0.0123 - accuracy: 0.9990 - val_loss: 0.0180 - val_accuracy: 0.9994\n",
      "Epoch 28/30\n",
      "2280/2280 [==============================] - 141s 62ms/step - loss: 0.0085 - accuracy: 0.9991 - val_loss: 0.1753 - val_accuracy: 0.9994\n",
      "Epoch 29/30\n",
      "2280/2280 [==============================] - 141s 62ms/step - loss: 0.0045 - accuracy: 0.9990 - val_loss: 0.0550 - val_accuracy: 0.9994\n"
     ]
    },
    {
     "data": {
      "text/plain": [
       "<tensorflow.python.keras.callbacks.History at 0x26151886fc8>"
      ]
     },
     "execution_count": 237,
     "metadata": {},
     "output_type": "execute_result"
    }
   ],
   "source": [
    "cnn3.fit(X_train, y_train, epochs=30, batch_size=512, \n",
    "         validation_data=(X_val,y_val),callbacks=[tensorboard_callback, eary_stop_callback])"
   ]
  },
  {
   "cell_type": "code",
   "execution_count": 238,
   "id": "removable-subcommittee",
   "metadata": {},
   "outputs": [
    {
     "data": {
      "image/png": "[encoded data removed]",
      "text/plain": [
       "<Figure size 432x288 with 1 Axes>"
      ]
     },
     "metadata": {
      "needs_background": "light"
     },
     "output_type": "display_data"
    },
    {
     "data": {
      "image/png": "[encoded data removed]",
      "text/plain": [
       "<Figure size 432x288 with 1 Axes>"
      ]
     },
     "metadata": {
      "needs_background": "light"
     },
     "output_type": "display_data"
    }
   ],
   "source": [
    "plotgraphs(cnn3)"
   ]
  },
  {
   "cell_type": "code",
   "execution_count": 239,
   "id": "accredited-browse",
   "metadata": {},
   "outputs": [],
   "source": [
    "predict = np.argmax(cnn3.predict(X_test),axis=1)\n",
    "\n",
    "a = np.unique(predict)\n",
    "b = np.unique(y_test)\n",
    "c = list(set(a) | set(b))"
   ]
  },
  {
   "cell_type": "code",
   "execution_count": 240,
   "id": "criminal-springfield",
   "metadata": {},
   "outputs": [
    {
     "name": "stdout",
     "output_type": "stream",
     "text": [
      "        ----------Classification Report Of Classes-------------\n",
      "              precision    recall  f1-score   support\n",
      "\n",
      "           0       0.93      0.99      0.96       109\n",
      "           1       0.00      0.00      0.00         2\n",
      "           2       0.00      0.00      0.00         0\n",
      "           3       1.00      0.83      0.91         6\n",
      "           4       0.91      0.88      0.89       627\n",
      "           5       0.00      0.00      0.00         2\n",
      "           7       0.00      0.00      0.00         0\n",
      "           8       1.00      1.00      1.00     53123\n",
      "           9       0.98      0.48      0.64       105\n",
      "          10       1.00      1.00      1.00    194326\n",
      "          12       1.00      1.00      1.00        14\n",
      "          13       0.99      0.97      0.98       557\n",
      "          14       0.00      0.00      0.00         1\n",
      "          15       1.00      0.96      0.98       777\n",
      "          16       1.00      1.00      1.00    139354\n",
      "          17       0.98      1.00      0.99        43\n",
      "          18       0.00      0.00      0.00        65\n",
      "          19       0.00      0.00      0.00         2\n",
      "\n",
      "    accuracy                           1.00    389113\n",
      "   macro avg       0.60      0.56      0.58    389113\n",
      "weighted avg       1.00      1.00      1.00    389113\n",
      "\n",
      "\n",
      "        ----------Validation Data------------------\n",
      "Accuarcy: 99.90593991976624\n",
      "Precision: 99.9063 %\n",
      "Recall-score: 99.9059\n",
      "F1-score: 99.9036\n"
     ]
    }
   ],
   "source": [
    "report(predict,labels_test)"
   ]
  },
  {
   "cell_type": "code",
   "execution_count": 241,
   "id": "impressive-belief",
   "metadata": {},
   "outputs": [
    {
     "name": "stdout",
     "output_type": "stream",
     "text": [
      "Model: \"sequential\"\n",
      "_________________________________________________________________\n",
      "Layer (type)                 Output Shape              Param #   \n",
      "=================================================================\n",
      "conv1d (Conv1D)              (None, 37, 64)            256       \n",
      "_________________________________________________________________\n",
      "leaky_re_lu (LeakyReLU)      (None, 37, 64)            0         \n",
      "_________________________________________________________________\n",
      "dropout (Dropout)            (None, 37, 64)            0         \n",
      "_________________________________________________________________\n",
      "conv1d_1 (Conv1D)            (None, 37, 64)            4160      \n",
      "_________________________________________________________________\n",
      "leaky_re_lu_1 (LeakyReLU)    (None, 37, 64)            0         \n",
      "_________________________________________________________________\n",
      "dropout_1 (Dropout)          (None, 37, 64)            0         \n",
      "_________________________________________________________________\n",
      "flatten (Flatten)            (None, 2368)              0         \n",
      "_________________________________________________________________\n",
      "dense (Dense)                (None, 64)                151616    \n",
      "_________________________________________________________________\n",
      "leaky_re_lu_2 (LeakyReLU)    (None, 64)                0         \n",
      "_________________________________________________________________\n",
      "dense_1 (Dense)              (None, 32)                2080      \n",
      "_________________________________________________________________\n",
      "leaky_re_lu_3 (LeakyReLU)    (None, 32)                0         \n",
      "_________________________________________________________________\n",
      "dense_2 (Dense)              (None, 20)                660       \n",
      "=================================================================\n",
      "Total params: 158,772\n",
      "Trainable params: 158,772\n",
      "Non-trainable params: 0\n",
      "_________________________________________________________________\n"
     ]
    }
   ],
   "source": [
    "#hyperparameters\n",
    "keras.backend.clear_session()\n",
    "SEED = 1040941203\n",
    "hidden_initializer = random_uniform(seed=SEED)\n",
    "\n",
    "\n",
    "# create model\n",
    "cnn2 = Sequential()\n",
    "cnn2.add(Conv1D(64, 3, input_shape=(39, 1)))\n",
    "cnn2.add(LeakyReLU(alpha=0.1))\n",
    "cnn2.add(Dropout(0.3))\n",
    "\n",
    "cnn2.add(Conv1D(64, 1))\n",
    "cnn2.add(LeakyReLU(alpha=0.1))\n",
    "cnn2.add(Dropout(0.3))\n",
    "\n",
    "cnn2.add(Flatten())\n",
    "cnn2.add(Dense(64, input_dim=20, kernel_initializer=hidden_initializer))\n",
    "cnn2.add(LeakyReLU(alpha=0.1))\n",
    "cnn2.add(Dense(32))\n",
    "cnn2.add(LeakyReLU(alpha=0.1))\n",
    "cnn2.add(Dense(20, activation='softmax'))\n",
    "\n",
    "cnn2.summary()"
   ]
  },
  {
   "cell_type": "code",
   "execution_count": 244,
   "id": "gentle-mineral",
   "metadata": {},
   "outputs": [],
   "source": [
    "cnn2.compile(loss = 'sparse_categorical_crossentropy', optimizer= 'adam', metrics = ['accuracy'])"
   ]
  },
  {
   "cell_type": "code",
   "execution_count": 245,
   "id": "acting-chile",
   "metadata": {
    "scrolled": true
   },
   "outputs": [
    {
     "name": "stdout",
     "output_type": "stream",
     "text": [
      "Epoch 1/30\n",
      "2280/2280 [==============================] - 165s 72ms/step - loss: 0.1751 - accuracy: 0.9886 - val_loss: 0.1531 - val_accuracy: 0.9991\n",
      "Epoch 2/30\n",
      "2280/2280 [==============================] - 170s 75ms/step - loss: 0.0109 - accuracy: 0.9985 - val_loss: 0.2713 - val_accuracy: 0.9989\n",
      "Epoch 3/30\n",
      "2280/2280 [==============================] - 180s 79ms/step - loss: 0.0074 - accuracy: 0.9988 - val_loss: 0.1028 - val_accuracy: 0.9994\n",
      "Epoch 4/30\n",
      "2280/2280 [==============================] - 177s 78ms/step - loss: 0.0100 - accuracy: 0.9989 - val_loss: 0.0908 - val_accuracy: 0.9992\n",
      "Epoch 5/30\n",
      "2280/2280 [==============================] - 177s 78ms/step - loss: 0.0058 - accuracy: 0.9991 - val_loss: 0.0264 - val_accuracy: 0.9995\n",
      "Epoch 6/30\n",
      "2280/2280 [==============================] - 178s 78ms/step - loss: 0.0060 - accuracy: 0.9991 - val_loss: 0.1966 - val_accuracy: 0.9995\n",
      "Epoch 7/30\n",
      "2280/2280 [==============================] - 178s 78ms/step - loss: 0.0044 - accuracy: 0.9992 - val_loss: 0.0136 - val_accuracy: 0.9995\n",
      "Epoch 8/30\n",
      "2280/2280 [==============================] - 179s 78ms/step - loss: 0.0069 - accuracy: 0.9993 - val_loss: 0.0679 - val_accuracy: 0.9994\n",
      "Epoch 9/30\n",
      "2280/2280 [==============================] - 178s 78ms/step - loss: 0.0053 - accuracy: 0.9993 - val_loss: 0.1888 - val_accuracy: 0.9996\n",
      "Epoch 10/30\n",
      "2280/2280 [==============================] - 178s 78ms/step - loss: 0.0037 - accuracy: 0.9993 - val_loss: 0.0871 - val_accuracy: 0.9996\n",
      "Epoch 11/30\n",
      "2280/2280 [==============================] - 177s 77ms/step - loss: 0.0080 - accuracy: 0.9993 - val_loss: 0.0671 - val_accuracy: 0.9996\n",
      "Epoch 12/30\n",
      "2280/2280 [==============================] - 178s 78ms/step - loss: 0.0094 - accuracy: 0.9994 - val_loss: 0.0735 - val_accuracy: 0.9996\n",
      "Epoch 13/30\n",
      "2280/2280 [==============================] - 177s 78ms/step - loss: 0.0029 - accuracy: 0.9994 - val_loss: 0.0895 - val_accuracy: 0.9996\n",
      "Epoch 14/30\n",
      "2280/2280 [==============================] - 177s 78ms/step - loss: 0.0045 - accuracy: 0.9994 - val_loss: 0.1322 - val_accuracy: 0.9997\n",
      "Epoch 15/30\n",
      "2280/2280 [==============================] - 180s 79ms/step - loss: 0.0029 - accuracy: 0.9995 - val_loss: 0.2752 - val_accuracy: 0.9995\n",
      "Epoch 16/30\n",
      "2280/2280 [==============================] - 180s 79ms/step - loss: 0.0025 - accuracy: 0.9995 - val_loss: 0.0700 - val_accuracy: 0.9995\n",
      "Epoch 17/30\n",
      "2280/2280 [==============================] - 179s 79ms/step - loss: 0.0021 - accuracy: 0.9995 - val_loss: 0.0803 - val_accuracy: 0.9997\n",
      "Epoch 18/30\n",
      "2280/2280 [==============================] - 179s 79ms/step - loss: 0.0027 - accuracy: 0.9995 - val_loss: 0.0613 - val_accuracy: 0.9996\n",
      "Epoch 19/30\n",
      "2280/2280 [==============================] - 160s 70ms/step - loss: 0.0035 - accuracy: 0.9995 - val_loss: 0.1189 - val_accuracy: 0.9997\n",
      "Epoch 20/30\n",
      "2280/2280 [==============================] - 162s 71ms/step - loss: 0.0098 - accuracy: 0.9994 - val_loss: 0.0435 - val_accuracy: 0.9997\n",
      "Epoch 21/30\n",
      "2280/2280 [==============================] - 163s 71ms/step - loss: 0.0022 - accuracy: 0.9995 - val_loss: 0.0478 - val_accuracy: 0.9997\n",
      "Epoch 22/30\n",
      "2280/2280 [==============================] - 173s 76ms/step - loss: 0.0041 - accuracy: 0.9995 - val_loss: 0.1167 - val_accuracy: 0.9997\n",
      "Epoch 23/30\n",
      "2280/2280 [==============================] - 182s 80ms/step - loss: 0.0029 - accuracy: 0.9995 - val_loss: 0.0617 - val_accuracy: 0.9997\n",
      "Epoch 24/30\n",
      "2280/2280 [==============================] - 183s 80ms/step - loss: 0.0026 - accuracy: 0.9995 - val_loss: 0.0491 - val_accuracy: 0.9997\n",
      "Epoch 25/30\n",
      "2280/2280 [==============================] - 181s 80ms/step - loss: 0.0023 - accuracy: 0.9995 - val_loss: 0.0174 - val_accuracy: 0.9997\n",
      "Epoch 26/30\n",
      "2280/2280 [==============================] - 180s 79ms/step - loss: 0.0030 - accuracy: 0.9995 - val_loss: 0.0212 - val_accuracy: 0.9996\n",
      "Epoch 27/30\n",
      "2280/2280 [==============================] - 179s 78ms/step - loss: 0.0037 - accuracy: 0.9995 - val_loss: 0.0176 - val_accuracy: 0.9996\n"
     ]
    },
    {
     "data": {
      "text/plain": [
       "<tensorflow.python.keras.callbacks.History at 0x26151b39cc8>"
      ]
     },
     "execution_count": 245,
     "metadata": {},
     "output_type": "execute_result"
    }
   ],
   "source": [
    "cnn2.fit(X_train, y_train, epochs=30, batch_size=512, \n",
    "         validation_data=(X_val,y_val),callbacks=[tensorboard_callback, eary_stop_callback])"
   ]
  },
  {
   "cell_type": "code",
   "execution_count": 246,
   "id": "present-spirituality",
   "metadata": {},
   "outputs": [
    {
     "data": {
      "image/png": "[encoded data removed]",
      "text/plain": [
       "<Figure size 432x288 with 1 Axes>"
      ]
     },
     "metadata": {
      "needs_background": "light"
     },
     "output_type": "display_data"
    },
    {
     "data": {
      "image/png": "[encoded data removed]",
      "text/plain": [
       "<Figure size 432x288 with 1 Axes>"
      ]
     },
     "metadata": {
      "needs_background": "light"
     },
     "output_type": "display_data"
    }
   ],
   "source": [
    "plotgraphs(cnn2)"
   ]
  },
  {
   "cell_type": "code",
   "execution_count": 247,
   "id": "appreciated-galaxy",
   "metadata": {},
   "outputs": [],
   "source": [
    "predict = np.argmax(cnn2.predict(X_test),axis=1)\n",
    "\n",
    "a = np.unique(predict)\n",
    "b = np.unique(y_test)\n",
    "c = list(set(a) | set(b))"
   ]
  },
  {
   "cell_type": "code",
   "execution_count": 248,
   "id": "czech-alloy",
   "metadata": {},
   "outputs": [
    {
     "name": "stdout",
     "output_type": "stream",
     "text": [
      "        ----------Classification Report Of Classes-------------\n",
      "              precision    recall  f1-score   support\n",
      "\n",
      "           0       1.00      1.00      1.00       109\n",
      "           1       0.00      0.00      0.00         2\n",
      "           3       1.00      0.83      0.91         6\n",
      "           4       0.99      0.93      0.96       627\n",
      "           5       0.00      0.00      0.00         2\n",
      "           8       1.00      1.00      1.00     53123\n",
      "           9       0.96      0.90      0.93       105\n",
      "          10       1.00      1.00      1.00    194326\n",
      "          12       1.00      1.00      1.00        14\n",
      "          13       0.99      0.98      0.99       557\n",
      "          14       0.00      0.00      0.00         1\n",
      "          15       0.99      0.98      0.99       777\n",
      "          16       1.00      1.00      1.00    139354\n",
      "          17       0.98      1.00      0.99        43\n",
      "          18       0.90      0.54      0.67        65\n",
      "          19       0.00      0.00      0.00         2\n",
      "\n",
      "    accuracy                           1.00    389113\n",
      "   macro avg       0.74      0.70      0.71    389113\n",
      "weighted avg       1.00      1.00      1.00    389113\n",
      "\n",
      "\n",
      "        ----------Validation Data------------------\n",
      "Accuarcy: 99.96093679727997\n",
      "Precision: 99.9583 %\n",
      "Recall-score: 99.9609\n",
      "F1-score: 99.9586\n"
     ]
    }
   ],
   "source": [
    "report(predict,labels_test)"
   ]
  },
  {
   "cell_type": "code",
   "execution_count": 249,
   "id": "departmental-manor",
   "metadata": {},
   "outputs": [
    {
     "name": "stdout",
     "output_type": "stream",
     "text": [
      "Model: \"sequential\"\n",
      "_________________________________________________________________\n",
      "Layer (type)                 Output Shape              Param #   \n",
      "=================================================================\n",
      "conv1d (Conv1D)              (None, 37, 64)            256       \n",
      "_________________________________________________________________\n",
      "leaky_re_lu (LeakyReLU)      (None, 37, 64)            0         \n",
      "_________________________________________________________________\n",
      "dropout (Dropout)            (None, 37, 64)            0         \n",
      "_________________________________________________________________\n",
      "flatten (Flatten)            (None, 2368)              0         \n",
      "_________________________________________________________________\n",
      "dense (Dense)                (None, 64)                151616    \n",
      "_________________________________________________________________\n",
      "leaky_re_lu_1 (LeakyReLU)    (None, 64)                0         \n",
      "_________________________________________________________________\n",
      "dense_1 (Dense)              (None, 20)                1300      \n",
      "=================================================================\n",
      "Total params: 153,172\n",
      "Trainable params: 153,172\n",
      "Non-trainable params: 0\n",
      "_________________________________________________________________\n"
     ]
    }
   ],
   "source": [
    "#hyperparameters\n",
    "keras.backend.clear_session()\n",
    "SEED = 1040941203\n",
    "hidden_initializer = random_uniform(seed=SEED)\n",
    "\n",
    "\n",
    "# create model\n",
    "cnn1 = Sequential()\n",
    "cnn1.add(Conv1D(64, 3, input_shape=(39, 1)))\n",
    "cnn1.add(LeakyReLU(alpha=0.1))\n",
    "cnn1.add(Dropout(0.3))\n",
    "\n",
    "cnn1.add(Flatten())\n",
    "cnn1.add(Dense(64, input_dim=20, kernel_initializer=hidden_initializer))\n",
    "cnn1.add(LeakyReLU(alpha=0.1))\n",
    "\n",
    "cnn1.add(Dense(20, activation='softmax'))\n",
    "\n",
    "cnn1.summary()"
   ]
  },
  {
   "cell_type": "code",
   "execution_count": 250,
   "id": "completed-farmer",
   "metadata": {
    "scrolled": true
   },
   "outputs": [
    {
     "name": "stdout",
     "output_type": "stream",
     "text": [
      "Epoch 1/30\n",
      "4560/4560 [==============================] - 118s 26ms/step - loss: 0.1931 - accuracy: 0.9937 - val_loss: 1.3481 - val_accuracy: 0.9977\n",
      "Epoch 2/30\n",
      "4560/4560 [==============================] - 116s 26ms/step - loss: 0.0274 - accuracy: 0.9985 - val_loss: 1.1443 - val_accuracy: 0.9993\n",
      "Epoch 3/30\n",
      "4560/4560 [==============================] - 115s 25ms/step - loss: 0.0251 - accuracy: 0.9988 - val_loss: 0.2429 - val_accuracy: 0.9993\n",
      "Epoch 4/30\n",
      "4560/4560 [==============================] - 117s 26ms/step - loss: 0.0177 - accuracy: 0.9990 - val_loss: 0.2769 - val_accuracy: 0.9987\n",
      "Epoch 5/30\n",
      "4560/4560 [==============================] - 117s 26ms/step - loss: 0.0205 - accuracy: 0.9991 - val_loss: 0.4627 - val_accuracy: 0.9994\n",
      "Epoch 6/30\n",
      "4560/4560 [==============================] - 117s 26ms/step - loss: 0.0168 - accuracy: 0.9991 - val_loss: 0.6180 - val_accuracy: 0.9996\n",
      "Epoch 7/30\n",
      "4560/4560 [==============================] - 116s 25ms/step - loss: 0.0094 - accuracy: 0.9991 - val_loss: 1.0771 - val_accuracy: 0.9995\n",
      "Epoch 8/30\n",
      "4560/4560 [==============================] - 115s 25ms/step - loss: 0.0098 - accuracy: 0.9993 - val_loss: 1.0326 - val_accuracy: 0.9993\n",
      "Epoch 9/30\n",
      "4560/4560 [==============================] - 116s 25ms/step - loss: 0.0130 - accuracy: 0.9992 - val_loss: 0.4535 - val_accuracy: 0.9993\n",
      "Epoch 10/30\n",
      "4560/4560 [==============================] - 116s 25ms/step - loss: 0.0458 - accuracy: 0.9991 - val_loss: 0.2695 - val_accuracy: 0.9996\n",
      "Epoch 11/30\n",
      "4560/4560 [==============================] - 116s 25ms/step - loss: 0.0240 - accuracy: 0.9992 - val_loss: 1.0794 - val_accuracy: 0.9995\n",
      "Epoch 12/30\n",
      "4560/4560 [==============================] - 119s 26ms/step - loss: 0.0166 - accuracy: 0.9992 - val_loss: 0.9927 - val_accuracy: 0.9993\n",
      "Epoch 13/30\n",
      "4560/4560 [==============================] - 118s 26ms/step - loss: 0.0194 - accuracy: 0.9993 - val_loss: 1.2114 - val_accuracy: 0.9995\n",
      "Epoch 14/30\n",
      "4560/4560 [==============================] - 117s 26ms/step - loss: 0.0128 - accuracy: 0.9993 - val_loss: 0.7623 - val_accuracy: 0.9996\n",
      "Epoch 15/30\n",
      "4560/4560 [==============================] - 120s 26ms/step - loss: 0.0101 - accuracy: 0.9993 - val_loss: 0.7522 - val_accuracy: 0.9996\n",
      "Epoch 16/30\n",
      "4560/4560 [==============================] - 125s 27ms/step - loss: 0.0118 - accuracy: 0.9993 - val_loss: 1.1640 - val_accuracy: 0.9995\n",
      "Epoch 17/30\n",
      "4560/4560 [==============================] - 124s 27ms/step - loss: 0.0085 - accuracy: 0.9994 - val_loss: 0.8793 - val_accuracy: 0.9996\n",
      "Epoch 18/30\n",
      "4560/4560 [==============================] - 120s 26ms/step - loss: 0.0529 - accuracy: 0.9993 - val_loss: 0.6578 - val_accuracy: 0.9996\n",
      "Epoch 19/30\n",
      "4560/4560 [==============================] - 117s 26ms/step - loss: 0.0058 - accuracy: 0.9994 - val_loss: 1.1700 - val_accuracy: 0.9991\n",
      "Epoch 20/30\n",
      "4560/4560 [==============================] - 118s 26ms/step - loss: 0.0597 - accuracy: 0.9992 - val_loss: 1.1777 - val_accuracy: 0.9996\n",
      "Epoch 21/30\n",
      "4560/4560 [==============================] - 119s 26ms/step - loss: 0.0224 - accuracy: 0.9993 - val_loss: 3.1213 - val_accuracy: 0.9996\n",
      "Epoch 22/30\n",
      "4560/4560 [==============================] - 119s 26ms/step - loss: 0.0244 - accuracy: 0.9994 - val_loss: 1.8656 - val_accuracy: 0.9994\n",
      "Epoch 23/30\n",
      "4560/4560 [==============================] - 116s 25ms/step - loss: 0.0395 - accuracy: 0.9994 - val_loss: 1.5398 - val_accuracy: 0.9996\n",
      "Epoch 24/30\n",
      "4560/4560 [==============================] - 115s 25ms/step - loss: 0.0231 - accuracy: 0.9993 - val_loss: 1.4719 - val_accuracy: 0.9995\n",
      "Epoch 25/30\n",
      "4560/4560 [==============================] - 120s 26ms/step - loss: 0.0124 - accuracy: 0.9994 - val_loss: 1.5976 - val_accuracy: 0.9996\n",
      "Epoch 26/30\n",
      "4560/4560 [==============================] - 115s 25ms/step - loss: 0.0118 - accuracy: 0.9994 - val_loss: 1.1069 - val_accuracy: 0.9995\n"
     ]
    },
    {
     "data": {
      "text/plain": [
       "<tensorflow.python.keras.callbacks.History at 0x2615144fe08>"
      ]
     },
     "execution_count": 250,
     "metadata": {},
     "output_type": "execute_result"
    }
   ],
   "source": [
    "cnn1.compile(loss = 'sparse_categorical_crossentropy', optimizer= 'adam', metrics = ['accuracy'])\n",
    "cnn1.fit(X_train, y_train, epochs=30, batch_size=256, \n",
    "         validation_data=(X_val,y_val),callbacks=[tensorboard_callback, eary_stop_callback])"
   ]
  },
  {
   "cell_type": "code",
   "execution_count": 251,
   "id": "absent-participation",
   "metadata": {},
   "outputs": [
    {
     "data": {
      "image/png": "[encoded data removed]",
      "text/plain": [
       "<Figure size 432x288 with 1 Axes>"
      ]
     },
     "metadata": {
      "needs_background": "light"
     },
     "output_type": "display_data"
    },
    {
     "data": {
      "image/png": "[encoded data removed]",
      "text/plain": [
       "<Figure size 432x288 with 1 Axes>"
      ]
     },
     "metadata": {
      "needs_background": "light"
     },
     "output_type": "display_data"
    }
   ],
   "source": [
    "plotgraphs(cnn1)"
   ]
  },
  {
   "cell_type": "code",
   "execution_count": 252,
   "id": "desirable-mitchell",
   "metadata": {},
   "outputs": [],
   "source": [
    "predict = np.argmax(cnn1.predict(X_test),axis=1)\n",
    "\n",
    "a = np.unique(predict)\n",
    "b = np.unique(y_test)\n",
    "c = list(set(a) | set(b))"
   ]
  },
  {
   "cell_type": "code",
   "execution_count": 253,
   "id": "funky-undergraduate",
   "metadata": {},
   "outputs": [
    {
     "name": "stdout",
     "output_type": "stream",
     "text": [
      "        ----------Classification Report Of Classes-------------\n",
      "              precision    recall  f1-score   support\n",
      "\n",
      "           0       1.00      1.00      1.00       109\n",
      "           1       0.00      0.00      0.00         2\n",
      "           3       0.00      0.00      0.00         6\n",
      "           4       0.89      0.98      0.93       627\n",
      "           5       0.00      0.00      0.00         2\n",
      "           8       1.00      1.00      1.00     53123\n",
      "           9       1.00      0.48      0.65       105\n",
      "          10       1.00      1.00      1.00    194326\n",
      "          12       1.00      1.00      1.00        14\n",
      "          13       0.99      0.98      0.98       557\n",
      "          14       0.00      0.00      0.00         1\n",
      "          15       1.00      0.96      0.98       777\n",
      "          16       1.00      1.00      1.00    139354\n",
      "          17       1.00      1.00      1.00        43\n",
      "          18       0.73      0.17      0.28        65\n",
      "          19       0.00      0.00      0.00         2\n",
      "\n",
      "    accuracy                           1.00    389113\n",
      "   macro avg       0.66      0.60      0.61    389113\n",
      "weighted avg       1.00      1.00      1.00    389113\n",
      "\n",
      "\n",
      "        ----------Validation Data------------------\n",
      "Accuarcy: 99.94063421165575\n",
      "Precision: 99.9355 %\n",
      "Recall-score: 99.9406\n",
      "F1-score: 99.9322\n"
     ]
    }
   ],
   "source": [
    "report(predict,labels_test)"
   ]
  },
  {
   "cell_type": "markdown",
   "id": "colonial-edwards",
   "metadata": {},
   "source": [
    "### RNN Models"
   ]
  },
  {
   "cell_type": "code",
   "execution_count": 258,
   "id": "annoying-intranet",
   "metadata": {},
   "outputs": [],
   "source": [
    "# reshape input to be [samples, time steps, features] for RNN\n",
    "RNN_features_train = np.reshape(features_train, (features_train.shape[0],features_train.shape[1],1))\n",
    "RNN_features_test = np.reshape(features_test, (features_test.shape[0],features_test.shape[1],1))\n",
    "RNN_features_val = np.reshape(features_val, (features_val.shape[0],features_val.shape[1],1))"
   ]
  },
  {
   "cell_type": "code",
   "execution_count": 268,
   "id": "unique-cable",
   "metadata": {},
   "outputs": [
    {
     "name": "stdout",
     "output_type": "stream",
     "text": [
      "Model: \"sequential_6\"\n",
      "_________________________________________________________________\n",
      "Layer (type)                 Output Shape              Param #   \n",
      "=================================================================\n",
      "simple_rnn_5 (SimpleRNN)     (None, 39, 32)            1088      \n",
      "_________________________________________________________________\n",
      "dropout_6 (Dropout)          (None, 39, 32)            0         \n",
      "_________________________________________________________________\n",
      "simple_rnn_6 (SimpleRNN)     (None, 39, 32)            2080      \n",
      "_________________________________________________________________\n",
      "dropout_7 (Dropout)          (None, 39, 32)            0         \n",
      "_________________________________________________________________\n",
      "simple_rnn_7 (SimpleRNN)     (None, 39, 32)            2080      \n",
      "_________________________________________________________________\n",
      "dropout_8 (Dropout)          (None, 39, 32)            0         \n",
      "_________________________________________________________________\n",
      "flatten_6 (Flatten)          (None, 1248)              0         \n",
      "_________________________________________________________________\n",
      "dense_17 (Dense)             (None, 64)                79936     \n",
      "_________________________________________________________________\n",
      "leaky_re_lu_12 (LeakyReLU)   (None, 64)                0         \n",
      "_________________________________________________________________\n",
      "dense_18 (Dense)             (None, 32)                2080      \n",
      "_________________________________________________________________\n",
      "leaky_re_lu_13 (LeakyReLU)   (None, 32)                0         \n",
      "_________________________________________________________________\n",
      "dense_19 (Dense)             (None, 20)                660       \n",
      "=================================================================\n",
      "Total params: 87,924\n",
      "Trainable params: 87,924\n",
      "Non-trainable params: 0\n",
      "_________________________________________________________________\n"
     ]
    }
   ],
   "source": [
    "#hyperparameters\n",
    "\n",
    "# Initialising the RNN\n",
    "rnn3 = Sequential()\n",
    "\n",
    "# Adding the first RNN layer and some Dropout regularisation\n",
    "rnn3.add(SimpleRNN(units = 32,activation='relu', return_sequences = True,  input_shape = (39,1)))\n",
    "rnn3.add(Dropout(0.1))\n",
    "\n",
    "# Adding a second RNN layer and some Dropout regularisation\n",
    "rnn3.add(SimpleRNN(units = 32,activation='relu', return_sequences = True))\n",
    "rnn3.add(Dropout(0.1))\n",
    "\n",
    "# Adding a third RNN layer and some Dropout regularisation\n",
    "rnn3.add(SimpleRNN(units = 32,activation='relu', return_sequences = True))\n",
    "rnn3.add(Dropout(0.1))\n",
    "\n",
    "# Adding the output layer\n",
    "rnn3.add(Flatten())\n",
    "rnn3.add(Dense(64, input_dim=20, kernel_initializer=hidden_initializer))\n",
    "rnn3.add(LeakyReLU(alpha=0.1))\n",
    "rnn3.add(Dense(32))\n",
    "rnn3.add(LeakyReLU(alpha=0.1))\n",
    "rnn3.add(Dense(units = 20, activation='softmax'))\n",
    "\n",
    "rnn3.summary()"
   ]
  },
  {
   "cell_type": "code",
   "execution_count": 269,
   "id": "cardiac-commercial",
   "metadata": {
    "scrolled": true
   },
   "outputs": [
    {
     "name": "stdout",
     "output_type": "stream",
     "text": [
      "Epoch 1/30\n",
      "1168/1168 [==============================] - 283s 240ms/step - loss: 0.4392 - accuracy: 0.9353 - val_loss: 0.0731 - val_accuracy: 0.9980\n",
      "Epoch 2/30\n",
      "1168/1168 [==============================] - 274s 235ms/step - loss: 0.0120 - accuracy: 0.9984 - val_loss: 0.1171 - val_accuracy: 0.9992\n",
      "Epoch 3/30\n",
      "1168/1168 [==============================] - 269s 230ms/step - loss: 0.0054 - accuracy: 0.9989 - val_loss: 0.0555 - val_accuracy: 0.9994\n",
      "Epoch 4/30\n",
      "1168/1168 [==============================] - 270s 231ms/step - loss: 0.0049 - accuracy: 0.9990 - val_loss: 0.0202 - val_accuracy: 0.9994\n",
      "Epoch 5/30\n",
      "1168/1168 [==============================] - 271s 232ms/step - loss: 0.0034 - accuracy: 0.9991 - val_loss: 0.0226 - val_accuracy: 0.9994\n",
      "Epoch 6/30\n",
      "1168/1168 [==============================] - 276s 237ms/step - loss: 0.0028 - accuracy: 0.9993 - val_loss: 0.0025 - val_accuracy: 0.9996\n",
      "Epoch 7/30\n",
      "1168/1168 [==============================] - 271s 232ms/step - loss: 0.0028 - accuracy: 0.9994 - val_loss: 0.0095 - val_accuracy: 0.9996\n",
      "Epoch 8/30\n",
      "1168/1168 [==============================] - 272s 232ms/step - loss: 0.0020 - accuracy: 0.9994 - val_loss: 0.0149 - val_accuracy: 0.9996\n",
      "Epoch 9/30\n",
      "1168/1168 [==============================] - 273s 234ms/step - loss: 0.0015 - accuracy: 0.9996 - val_loss: 0.0232 - val_accuracy: 0.9997\n",
      "Epoch 10/30\n",
      "1168/1168 [==============================] - 272s 233ms/step - loss: 0.0019 - accuracy: 0.9995 - val_loss: 0.0116 - val_accuracy: 0.9997\n",
      "Epoch 11/30\n",
      "1168/1168 [==============================] - 271s 232ms/step - loss: 0.0018 - accuracy: 0.9995 - val_loss: 0.0056 - val_accuracy: 0.9997\n",
      "Epoch 12/30\n",
      "1168/1168 [==============================] - 272s 233ms/step - loss: 0.0016 - accuracy: 0.9996 - val_loss: 0.0108 - val_accuracy: 0.9997\n",
      "Epoch 13/30\n",
      "1168/1168 [==============================] - 272s 233ms/step - loss: 0.0015 - accuracy: 0.9996 - val_loss: 0.0181 - val_accuracy: 0.9997\n",
      "Epoch 14/30\n",
      "1168/1168 [==============================] - 272s 233ms/step - loss: 0.0011 - accuracy: 0.9996 - val_loss: 0.0065 - val_accuracy: 0.9997\n",
      "Epoch 15/30\n",
      "1168/1168 [==============================] - 272s 233ms/step - loss: 0.0013 - accuracy: 0.9996 - val_loss: 0.0049 - val_accuracy: 0.9998\n",
      "Epoch 16/30\n",
      "1168/1168 [==============================] - 274s 235ms/step - loss: 9.3175e-04 - accuracy: 0.9997 - val_loss: 0.0075 - val_accuracy: 0.9998\n",
      "Epoch 17/30\n",
      "1168/1168 [==============================] - 299s 256ms/step - loss: 9.2763e-04 - accuracy: 0.9997 - val_loss: 0.0059 - val_accuracy: 0.9998\n",
      "Epoch 18/30\n",
      "1168/1168 [==============================] - 329s 281ms/step - loss: 0.0012 - accuracy: 0.9997 - val_loss: 0.0113 - val_accuracy: 0.9997\n",
      "Epoch 19/30\n",
      "1168/1168 [==============================] - 313s 268ms/step - loss: 9.8490e-04 - accuracy: 0.9997 - val_loss: 0.0110 - val_accuracy: 0.9998\n",
      "Epoch 20/30\n",
      "1168/1168 [==============================] - 335s 287ms/step - loss: 0.0010 - accuracy: 0.9997 - val_loss: 0.0108 - val_accuracy: 0.9998\n",
      "Epoch 21/30\n",
      "1168/1168 [==============================] - 330s 282ms/step - loss: 7.6798e-04 - accuracy: 0.9998 - val_loss: 0.0017 - val_accuracy: 0.9997\n",
      "Epoch 22/30\n",
      "1168/1168 [==============================] - 337s 289ms/step - loss: 8.9322e-04 - accuracy: 0.9997 - val_loss: 0.0013 - val_accuracy: 0.9998\n",
      "Epoch 23/30\n",
      "1168/1168 [==============================] - 349s 299ms/step - loss: 7.7448e-04 - accuracy: 0.9998 - val_loss: 0.0052 - val_accuracy: 0.9998\n",
      "Epoch 24/30\n",
      "1168/1168 [==============================] - 341s 292ms/step - loss: 8.1596e-04 - accuracy: 0.9998 - val_loss: 0.0031 - val_accuracy: 0.9998\n",
      "Epoch 25/30\n",
      "1168/1168 [==============================] - 343s 293ms/step - loss: 8.4671e-04 - accuracy: 0.9998 - val_loss: 0.0093 - val_accuracy: 0.9998\n",
      "Epoch 26/30\n",
      "1168/1168 [==============================] - 342s 293ms/step - loss: 9.3548e-04 - accuracy: 0.9998 - val_loss: 0.0066 - val_accuracy: 0.9998\n",
      "Epoch 27/30\n",
      "1168/1168 [==============================] - 350s 300ms/step - loss: 6.2550e-04 - accuracy: 0.9998 - val_loss: 0.0211 - val_accuracy: 0.9998\n",
      "Epoch 28/30\n",
      "1168/1168 [==============================] - 338s 289ms/step - loss: 6.8485e-04 - accuracy: 0.9998 - val_loss: 0.0011 - val_accuracy: 0.9998\n",
      "Epoch 29/30\n",
      "1168/1168 [==============================] - 318s 272ms/step - loss: 6.9190e-04 - accuracy: 0.9998 - val_loss: 0.0034 - val_accuracy: 0.9998\n",
      "Epoch 30/30\n",
      "1168/1168 [==============================] - 316s 271ms/step - loss: 6.9986e-04 - accuracy: 0.9998 - val_loss: 0.0072 - val_accuracy: 0.9998\n"
     ]
    },
    {
     "data": {
      "text/plain": [
       "<tensorflow.python.keras.callbacks.History at 0x261eb846248>"
      ]
     },
     "execution_count": 269,
     "metadata": {},
     "output_type": "execute_result"
    }
   ],
   "source": [
    "rnn3.compile(loss = \"sparse_categorical_crossentropy\", optimizer='adam', metrics=['accuracy'])\n",
    "rnn3.fit(RNN_features_train, y_train, epochs=30, batch_size=1000,\n",
    "         validation_data=(RNN_features_val,y_val),callbacks=[tensorboard_callback, eary_stop_callback])"
   ]
  },
  {
   "cell_type": "code",
   "execution_count": 270,
   "id": "american-cooperative",
   "metadata": {},
   "outputs": [
    {
     "data": {
      "image/png": "[encoded data removed]",
      "text/plain": [
       "<Figure size 432x288 with 1 Axes>"
      ]
     },
     "metadata": {
      "needs_background": "light"
     },
     "output_type": "display_data"
    },
    {
     "data": {
      "image/png": "[encoded data removed]",
      "text/plain": [
       "<Figure size 432x288 with 1 Axes>"
      ]
     },
     "metadata": {
      "needs_background": "light"
     },
     "output_type": "display_data"
    }
   ],
   "source": [
    "plotgraphs(rnn3)"
   ]
  },
  {
   "cell_type": "code",
   "execution_count": 271,
   "id": "final-shirt",
   "metadata": {},
   "outputs": [],
   "source": [
    "predict = np.argmax(rnn3.predict(X_test),axis=1)\n",
    "\n",
    "a = np.unique(predict)\n",
    "b = np.unique(y_test)\n",
    "c = list(set(a) | set(b))"
   ]
  },
  {
   "cell_type": "code",
   "execution_count": 272,
   "id": "elect-handbook",
   "metadata": {
    "scrolled": true
   },
   "outputs": [
    {
     "name": "stdout",
     "output_type": "stream",
     "text": [
      "        ----------Classification Report Of Classes-------------\n",
      "              precision    recall  f1-score   support\n",
      "\n",
      "           0       1.00      1.00      1.00       109\n",
      "           1       1.00      1.00      1.00         2\n",
      "           3       1.00      0.83      0.91         6\n",
      "           4       0.97      0.98      0.98       627\n",
      "           5       0.00      0.00      0.00         2\n",
      "           8       1.00      1.00      1.00     53123\n",
      "           9       0.93      0.99      0.96       105\n",
      "          10       1.00      1.00      1.00    194326\n",
      "          12       0.93      1.00      0.97        14\n",
      "          13       0.99      0.99      0.99       557\n",
      "          14       0.00      0.00      0.00         1\n",
      "          15       1.00      0.99      0.99       777\n",
      "          16       1.00      1.00      1.00    139354\n",
      "          17       1.00      1.00      1.00        43\n",
      "          18       0.97      0.98      0.98        65\n",
      "          19       1.00      1.00      1.00         2\n",
      "\n",
      "    accuracy                           1.00    389113\n",
      "   macro avg       0.86      0.86      0.86    389113\n",
      "weighted avg       1.00      1.00      1.00    389113\n",
      "\n",
      "\n",
      "        ----------Validation Data------------------\n",
      "Accuarcy: 99.98432331996105\n",
      "Precision: 99.9838 %\n",
      "Recall-score: 99.9843\n",
      "F1-score: 99.9840\n"
     ]
    }
   ],
   "source": [
    "report(predict,labels_test)"
   ]
  },
  {
   "cell_type": "code",
   "execution_count": 273,
   "id": "legitimate-establishment",
   "metadata": {},
   "outputs": [
    {
     "name": "stdout",
     "output_type": "stream",
     "text": [
      "Model: \"sequential_7\"\n",
      "_________________________________________________________________\n",
      "Layer (type)                 Output Shape              Param #   \n",
      "=================================================================\n",
      "simple_rnn_8 (SimpleRNN)     (None, 39, 32)            1088      \n",
      "_________________________________________________________________\n",
      "dropout_9 (Dropout)          (None, 39, 32)            0         \n",
      "_________________________________________________________________\n",
      "simple_rnn_9 (SimpleRNN)     (None, 39, 32)            2080      \n",
      "_________________________________________________________________\n",
      "dropout_10 (Dropout)         (None, 39, 32)            0         \n",
      "_________________________________________________________________\n",
      "flatten_7 (Flatten)          (None, 1248)              0         \n",
      "_________________________________________________________________\n",
      "dense_20 (Dense)             (None, 64)                79936     \n",
      "_________________________________________________________________\n",
      "leaky_re_lu_14 (LeakyReLU)   (None, 64)                0         \n",
      "_________________________________________________________________\n",
      "dense_21 (Dense)             (None, 32)                2080      \n",
      "_________________________________________________________________\n",
      "leaky_re_lu_15 (LeakyReLU)   (None, 32)                0         \n",
      "_________________________________________________________________\n",
      "dense_22 (Dense)             (None, 20)                660       \n",
      "=================================================================\n",
      "Total params: 85,844\n",
      "Trainable params: 85,844\n",
      "Non-trainable params: 0\n",
      "_________________________________________________________________\n"
     ]
    }
   ],
   "source": [
    "#hyperparameters\n",
    "\n",
    "# Initialising the RNN\n",
    "rnn2 = Sequential()\n",
    "\n",
    "# Adding the first RNN layer and some Dropout regularisation\n",
    "rnn2.add(SimpleRNN(units = 32,activation='relu', return_sequences = True,  input_shape = (39,1)))\n",
    "rnn2.add(Dropout(0.3))\n",
    "\n",
    "# Adding the first RNN layer and some Dropout regularisation\n",
    "rnn2.add(SimpleRNN(units = 32,activation='relu', return_sequences = True,  ))\n",
    "rnn2.add(Dropout(0.3))\n",
    "\n",
    "# Adding the output layer\n",
    "rnn2.add(Flatten())\n",
    "rnn2.add(Dense(64, input_dim=20, kernel_initializer=hidden_initializer))\n",
    "rnn2.add(LeakyReLU(alpha=0.1))\n",
    "rnn2.add(Dense(32))\n",
    "rnn2.add(LeakyReLU(alpha=0.1))\n",
    "rnn2.add(Dense(units = 20, activation='softmax'))\n",
    "\n",
    "rnn2.summary()"
   ]
  },
  {
   "cell_type": "code",
   "execution_count": 274,
   "id": "dominican-knowing",
   "metadata": {
    "scrolled": true
   },
   "outputs": [
    {
     "name": "stdout",
     "output_type": "stream",
     "text": [
      "Epoch 1/30\n",
      "1168/1168 [==============================] - 223s 189ms/step - loss: 0.4040 - accuracy: 0.9719 - val_loss: 0.0917 - val_accuracy: 0.9988\n",
      "Epoch 2/30\n",
      "1168/1168 [==============================] - 218s 187ms/step - loss: 0.0152 - accuracy: 0.9983 - val_loss: 0.0398 - val_accuracy: 0.9992\n",
      "Epoch 3/30\n",
      "1168/1168 [==============================] - 228s 195ms/step - loss: 0.0076 - accuracy: 0.9989 - val_loss: 0.0632 - val_accuracy: 0.9994\n",
      "Epoch 4/30\n",
      "1168/1168 [==============================] - 213s 183ms/step - loss: 0.0062 - accuracy: 0.9989 - val_loss: 0.0301 - val_accuracy: 0.9993\n",
      "Epoch 5/30\n",
      "1168/1168 [==============================] - 214s 183ms/step - loss: 0.0054 - accuracy: 0.9991 - val_loss: 0.0087 - val_accuracy: 0.9992\n",
      "Epoch 6/30\n",
      "1168/1168 [==============================] - 214s 183ms/step - loss: 0.0037 - accuracy: 0.9992 - val_loss: 0.0060 - val_accuracy: 0.9995\n",
      "Epoch 7/30\n",
      "1168/1168 [==============================] - 212s 181ms/step - loss: 0.0034 - accuracy: 0.9992 - val_loss: 0.0190 - val_accuracy: 0.9995\n",
      "Epoch 8/30\n",
      "1168/1168 [==============================] - 211s 180ms/step - loss: 0.0034 - accuracy: 0.9992 - val_loss: 0.0043 - val_accuracy: 0.9996\n",
      "Epoch 9/30\n",
      "1168/1168 [==============================] - 210s 180ms/step - loss: 0.0027 - accuracy: 0.9993 - val_loss: 0.0021 - val_accuracy: 0.9996\n",
      "Epoch 10/30\n",
      "1168/1168 [==============================] - 204s 175ms/step - loss: 0.0027 - accuracy: 0.9993 - val_loss: 0.0023 - val_accuracy: 0.9995\n",
      "Epoch 11/30\n",
      "1168/1168 [==============================] - 199s 171ms/step - loss: 0.0025 - accuracy: 0.9993 - val_loss: 0.0036 - val_accuracy: 0.9996\n",
      "Epoch 12/30\n",
      "1168/1168 [==============================] - 209s 179ms/step - loss: 0.0020 - accuracy: 0.9995 - val_loss: 0.0016 - val_accuracy: 0.9996\n",
      "Epoch 13/30\n",
      "1168/1168 [==============================] - 215s 184ms/step - loss: 0.0016 - accuracy: 0.9995 - val_loss: 0.0020 - val_accuracy: 0.9997\n",
      "Epoch 14/30\n",
      "1168/1168 [==============================] - 213s 183ms/step - loss: 0.0017 - accuracy: 0.9995 - val_loss: 0.0014 - val_accuracy: 0.9997\n",
      "Epoch 15/30\n",
      "1168/1168 [==============================] - 215s 184ms/step - loss: 0.0016 - accuracy: 0.9996 - val_loss: 0.0014 - val_accuracy: 0.9997\n",
      "Epoch 16/30\n",
      "1168/1168 [==============================] - 203s 174ms/step - loss: 0.0016 - accuracy: 0.9995 - val_loss: 0.0070 - val_accuracy: 0.9997\n",
      "Epoch 17/30\n",
      "1168/1168 [==============================] - 215s 184ms/step - loss: 0.0021 - accuracy: 0.9995 - val_loss: 0.0011 - val_accuracy: 0.9998\n",
      "Epoch 18/30\n",
      "1168/1168 [==============================] - 214s 183ms/step - loss: 0.0013 - accuracy: 0.9997 - val_loss: 0.0011 - val_accuracy: 0.9998\n",
      "Epoch 19/30\n",
      "1168/1168 [==============================] - 209s 179ms/step - loss: 0.0011 - accuracy: 0.9997 - val_loss: 0.0011 - val_accuracy: 0.9998\n",
      "Epoch 20/30\n",
      "1168/1168 [==============================] - 213s 182ms/step - loss: 0.0012 - accuracy: 0.9997 - val_loss: 0.0034 - val_accuracy: 0.9998\n",
      "Epoch 21/30\n",
      "1168/1168 [==============================] - 213s 182ms/step - loss: 0.0011 - accuracy: 0.9997 - val_loss: 0.0029 - val_accuracy: 0.9998\n",
      "Epoch 22/30\n",
      "1168/1168 [==============================] - 200s 171ms/step - loss: 0.0013 - accuracy: 0.9997 - val_loss: 0.0012 - val_accuracy: 0.9998\n",
      "Epoch 23/30\n",
      "1168/1168 [==============================] - 202s 173ms/step - loss: 0.0011 - accuracy: 0.9997 - val_loss: 0.0034 - val_accuracy: 0.9998\n",
      "Epoch 24/30\n",
      "1168/1168 [==============================] - 203s 173ms/step - loss: 0.0010 - accuracy: 0.9997 - val_loss: 0.0063 - val_accuracy: 0.9998\n",
      "Epoch 25/30\n",
      "1168/1168 [==============================] - 199s 170ms/step - loss: 0.0012 - accuracy: 0.9997 - val_loss: 0.0032 - val_accuracy: 0.9997\n",
      "Epoch 26/30\n",
      "1168/1168 [==============================] - 193s 165ms/step - loss: 0.0010 - accuracy: 0.9997 - val_loss: 0.0011 - val_accuracy: 0.9998\n",
      "Epoch 27/30\n",
      "1168/1168 [==============================] - 200s 171ms/step - loss: 0.0013 - accuracy: 0.9997 - val_loss: 0.0056 - val_accuracy: 0.9998\n",
      "Epoch 28/30\n",
      "1168/1168 [==============================] - 197s 169ms/step - loss: 9.5853e-04 - accuracy: 0.9997 - val_loss: 0.0038 - val_accuracy: 0.9997\n",
      "Epoch 29/30\n",
      "1168/1168 [==============================] - 190s 163ms/step - loss: 0.0010 - accuracy: 0.9997 - val_loss: 0.0058 - val_accuracy: 0.9998\n",
      "Epoch 30/30\n",
      "1168/1168 [==============================] - 199s 171ms/step - loss: 0.0010 - accuracy: 0.9997 - val_loss: 0.0086 - val_accuracy: 0.9997\n"
     ]
    },
    {
     "data": {
      "text/plain": [
       "<tensorflow.python.keras.callbacks.History at 0x2625641e748>"
      ]
     },
     "execution_count": 274,
     "metadata": {},
     "output_type": "execute_result"
    }
   ],
   "source": [
    "rnn2.compile(loss = \"sparse_categorical_crossentropy\", optimizer='adam', metrics=['accuracy'])\n",
    "rnn2.fit(RNN_features_train, y_train, epochs=30, batch_size=1000,\n",
    "         validation_data=(RNN_features_val,y_val),callbacks=[tensorboard_callback, eary_stop_callback])"
   ]
  },
  {
   "cell_type": "code",
   "execution_count": 275,
   "id": "decimal-correspondence",
   "metadata": {},
   "outputs": [
    {
     "data": {
      "image/png": "[encoded data removed]",
      "text/plain": [
       "<Figure size 432x288 with 1 Axes>"
      ]
     },
     "metadata": {
      "needs_background": "light"
     },
     "output_type": "display_data"
    },
    {
     "data": {
      "image/png": "[encoded data removed]",
      "text/plain": [
       "<Figure size 432x288 with 1 Axes>"
      ]
     },
     "metadata": {
      "needs_background": "light"
     },
     "output_type": "display_data"
    }
   ],
   "source": [
    "plotgraphs(rnn2)"
   ]
  },
  {
   "cell_type": "code",
   "execution_count": 276,
   "id": "resident-shelter",
   "metadata": {},
   "outputs": [],
   "source": [
    "predict = np.argmax(rnn2.predict(X_test),axis=1)\n",
    "\n",
    "a = np.unique(predict)\n",
    "b = np.unique(y_test)\n",
    "c = list(set(a) | set(b))"
   ]
  },
  {
   "cell_type": "code",
   "execution_count": 277,
   "id": "blind-maximum",
   "metadata": {},
   "outputs": [
    {
     "name": "stdout",
     "output_type": "stream",
     "text": [
      "        ----------Classification Report Of Classes-------------\n",
      "              precision    recall  f1-score   support\n",
      "\n",
      "           0       1.00      0.99      1.00       109\n",
      "           1       1.00      1.00      1.00         2\n",
      "           3       1.00      0.83      0.91         6\n",
      "           4       0.99      0.96      0.97       627\n",
      "           5       0.00      0.00      0.00         2\n",
      "           8       1.00      1.00      1.00     53123\n",
      "           9       0.94      0.90      0.92       105\n",
      "          10       1.00      1.00      1.00    194326\n",
      "          12       1.00      1.00      1.00        14\n",
      "          13       1.00      0.99      0.99       557\n",
      "          14       0.00      0.00      0.00         1\n",
      "          15       1.00      0.98      0.99       777\n",
      "          16       1.00      1.00      1.00    139354\n",
      "          17       1.00      1.00      1.00        43\n",
      "          18       0.98      0.71      0.82        65\n",
      "          19       1.00      0.50      0.67         2\n",
      "\n",
      "    accuracy                           1.00    389113\n",
      "   macro avg       0.87      0.80      0.83    389113\n",
      "weighted avg       1.00      1.00      1.00    389113\n",
      "\n",
      "\n",
      "        ----------Validation Data------------------\n",
      "Accuarcy: 99.97558549829998\n",
      "Precision: 99.9746 %\n",
      "Recall-score: 99.9756\n",
      "F1-score: 99.9746\n"
     ]
    }
   ],
   "source": [
    "report(predict,labels_test)"
   ]
  },
  {
   "cell_type": "code",
   "execution_count": 263,
   "id": "radical-knitting",
   "metadata": {},
   "outputs": [
    {
     "name": "stdout",
     "output_type": "stream",
     "text": [
      "Model: \"sequential_5\"\n",
      "_________________________________________________________________\n",
      "Layer (type)                 Output Shape              Param #   \n",
      "=================================================================\n",
      "simple_rnn_4 (SimpleRNN)     (None, 39, 64)            4224      \n",
      "_________________________________________________________________\n",
      "dropout_5 (Dropout)          (None, 39, 64)            0         \n",
      "_________________________________________________________________\n",
      "flatten_5 (Flatten)          (None, 2496)              0         \n",
      "_________________________________________________________________\n",
      "dense_14 (Dense)             (None, 64)                159808    \n",
      "_________________________________________________________________\n",
      "leaky_re_lu_10 (LeakyReLU)   (None, 64)                0         \n",
      "_________________________________________________________________\n",
      "dense_15 (Dense)             (None, 32)                2080      \n",
      "_________________________________________________________________\n",
      "leaky_re_lu_11 (LeakyReLU)   (None, 32)                0         \n",
      "_________________________________________________________________\n",
      "dense_16 (Dense)             (None, 20)                660       \n",
      "=================================================================\n",
      "Total params: 166,772\n",
      "Trainable params: 166,772\n",
      "Non-trainable params: 0\n",
      "_________________________________________________________________\n"
     ]
    }
   ],
   "source": [
    "#hyperparameters\n",
    "\n",
    "# Initialising the RNN\n",
    "rnn1 = Sequential()\n",
    "\n",
    "# Adding the first RNN layer and some Dropout regularisation\n",
    "rnn1.add(SimpleRNN(units = 64,activation='relu', return_sequences = True,  input_shape = (39,1)))\n",
    "rnn1.add(Dropout(0.1))\n",
    "\n",
    "# Adding the output layer\n",
    "rnn1.add(Flatten())\n",
    "rnn1.add(Dense(64, input_dim=20, kernel_initializer=hidden_initializer))\n",
    "rnn1.add(LeakyReLU(alpha=0.1))\n",
    "rnn1.add(Dense(32))\n",
    "rnn1.add(LeakyReLU(alpha=0.1))\n",
    "rnn1.add(Dense(units = 20, activation='softmax'))\n",
    "\n",
    "rnn1.summary()"
   ]
  },
  {
   "cell_type": "code",
   "execution_count": 264,
   "id": "latter-wichita",
   "metadata": {
    "scrolled": true
   },
   "outputs": [
    {
     "name": "stdout",
     "output_type": "stream",
     "text": [
      "Epoch 1/30\n",
      "1168/1168 [==============================] - 147s 124ms/step - loss: 0.3711 - accuracy: 0.9829 - val_loss: 0.2357 - val_accuracy: 0.9990\n",
      "Epoch 2/30\n",
      "1168/1168 [==============================] - 144s 123ms/step - loss: 0.0135 - accuracy: 0.9987 - val_loss: 0.0457 - val_accuracy: 0.9995\n",
      "Epoch 3/30\n",
      "1168/1168 [==============================] - 142s 121ms/step - loss: 0.0286 - accuracy: 0.9991 - val_loss: 0.0902 - val_accuracy: 0.9992\n",
      "Epoch 4/30\n",
      "1168/1168 [==============================] - 142s 121ms/step - loss: 0.0035 - accuracy: 0.9994 - val_loss: 0.1028 - val_accuracy: 0.9994\n",
      "Epoch 5/30\n",
      "1168/1168 [==============================] - 141s 121ms/step - loss: 0.0066 - accuracy: 0.9993 - val_loss: 0.0140 - val_accuracy: 0.9996\n",
      "Epoch 6/30\n",
      "1168/1168 [==============================] - 143s 123ms/step - loss: 0.0034 - accuracy: 0.9994 - val_loss: 0.0320 - val_accuracy: 0.9995\n",
      "Epoch 7/30\n",
      "1168/1168 [==============================] - 142s 121ms/step - loss: 0.0105 - accuracy: 0.9992 - val_loss: 0.0174 - val_accuracy: 0.9994\n",
      "Epoch 8/30\n",
      "1168/1168 [==============================] - 140s 120ms/step - loss: 0.0030 - accuracy: 0.9995 - val_loss: 0.0158 - val_accuracy: 0.9997\n",
      "Epoch 9/30\n",
      "1168/1168 [==============================] - 141s 121ms/step - loss: 0.0026 - accuracy: 0.9995 - val_loss: 0.0186 - val_accuracy: 0.9996\n",
      "Epoch 10/30\n",
      "1168/1168 [==============================] - 140s 120ms/step - loss: 0.0024 - accuracy: 0.9996 - val_loss: 0.0096 - val_accuracy: 0.9997\n",
      "Epoch 11/30\n",
      "1168/1168 [==============================] - 142s 122ms/step - loss: 0.0017 - accuracy: 0.9996 - val_loss: 0.0093 - val_accuracy: 0.9995\n",
      "Epoch 12/30\n",
      "1168/1168 [==============================] - 144s 123ms/step - loss: 0.0022 - accuracy: 0.9996 - val_loss: 0.0040 - val_accuracy: 0.9997\n",
      "Epoch 13/30\n",
      "1168/1168 [==============================] - 142s 122ms/step - loss: 0.0019 - accuracy: 0.9996 - val_loss: 0.0030 - val_accuracy: 0.9998\n",
      "Epoch 14/30\n",
      "1168/1168 [==============================] - 141s 121ms/step - loss: 0.0011 - accuracy: 0.9997 - val_loss: 0.0042 - val_accuracy: 0.9998\n",
      "Epoch 15/30\n",
      "1168/1168 [==============================] - 142s 121ms/step - loss: 0.0014 - accuracy: 0.9997 - val_loss: 0.0130 - val_accuracy: 0.9998\n",
      "Epoch 16/30\n",
      "1168/1168 [==============================] - 141s 121ms/step - loss: 0.0016 - accuracy: 0.9997 - val_loss: 0.0264 - val_accuracy: 0.9998\n",
      "Epoch 17/30\n",
      "1168/1168 [==============================] - 141s 120ms/step - loss: 0.0012 - accuracy: 0.9997 - val_loss: 0.0028 - val_accuracy: 0.9996\n",
      "Epoch 18/30\n",
      "1168/1168 [==============================] - 141s 121ms/step - loss: 0.0012 - accuracy: 0.9997 - val_loss: 0.0080 - val_accuracy: 0.9998\n",
      "Epoch 19/30\n",
      "1168/1168 [==============================] - 141s 120ms/step - loss: 0.0010 - accuracy: 0.9998 - val_loss: 0.0062 - val_accuracy: 0.9998\n",
      "Epoch 20/30\n",
      "1168/1168 [==============================] - 146s 125ms/step - loss: 7.9372e-04 - accuracy: 0.9998 - val_loss: 0.0058 - val_accuracy: 0.9998\n",
      "Epoch 21/30\n",
      "1168/1168 [==============================] - 141s 121ms/step - loss: 9.7727e-04 - accuracy: 0.9997 - val_loss: 0.0057 - val_accuracy: 0.9997\n",
      "Epoch 22/30\n",
      "1168/1168 [==============================] - 143s 123ms/step - loss: 7.9053e-04 - accuracy: 0.9998 - val_loss: 0.0040 - val_accuracy: 0.9998\n",
      "Epoch 23/30\n",
      "1168/1168 [==============================] - 140s 120ms/step - loss: 0.0011 - accuracy: 0.9997 - val_loss: 0.0145 - val_accuracy: 0.9998\n",
      "Epoch 24/30\n",
      "1168/1168 [==============================] - 141s 121ms/step - loss: 9.6127e-04 - accuracy: 0.9997 - val_loss: 0.0095 - val_accuracy: 0.9998\n",
      "Epoch 25/30\n",
      "1168/1168 [==============================] - 141s 121ms/step - loss: 7.3145e-04 - accuracy: 0.9998 - val_loss: 0.0179 - val_accuracy: 0.9995\n",
      "Epoch 26/30\n",
      "1168/1168 [==============================] - 141s 121ms/step - loss: 0.0011 - accuracy: 0.9997 - val_loss: 0.0146 - val_accuracy: 0.9998\n",
      "Epoch 27/30\n",
      "1168/1168 [==============================] - 139s 119ms/step - loss: 8.8329e-04 - accuracy: 0.9998 - val_loss: 0.0084 - val_accuracy: 0.9997\n",
      "Epoch 28/30\n",
      "1168/1168 [==============================] - 141s 121ms/step - loss: 6.9505e-04 - accuracy: 0.9998 - val_loss: 0.0038 - val_accuracy: 0.9998\n",
      "Epoch 29/30\n",
      "1168/1168 [==============================] - 141s 120ms/step - loss: 6.5078e-04 - accuracy: 0.9998 - val_loss: 0.0089 - val_accuracy: 0.9998\n",
      "Epoch 30/30\n",
      "1168/1168 [==============================] - 139s 119ms/step - loss: 7.8736e-04 - accuracy: 0.9998 - val_loss: 0.0076 - val_accuracy: 0.9998\n"
     ]
    },
    {
     "data": {
      "text/plain": [
       "<tensorflow.python.keras.callbacks.History at 0x26257c9cec8>"
      ]
     },
     "execution_count": 264,
     "metadata": {},
     "output_type": "execute_result"
    }
   ],
   "source": [
    "rnn1.compile(loss = \"sparse_categorical_crossentropy\", optimizer='adam', metrics=['accuracy'])\n",
    "rnn1.fit(RNN_features_train, y_train, epochs=30, batch_size=1000,\n",
    "         validation_data=(RNN_features_val,y_val),callbacks=[tensorboard_callback, eary_stop_callback])"
   ]
  },
  {
   "cell_type": "code",
   "execution_count": 265,
   "id": "latest-attempt",
   "metadata": {},
   "outputs": [
    {
     "data": {
      "image/png": "[encoded data removed]",
      "text/plain": [
       "<Figure size 432x288 with 1 Axes>"
      ]
     },
     "metadata": {
      "needs_background": "light"
     },
     "output_type": "display_data"
    },
    {
     "data": {
      "image/png": "[encoded data removed]",
      "text/plain": [
       "<Figure size 432x288 with 1 Axes>"
      ]
     },
     "metadata": {
      "needs_background": "light"
     },
     "output_type": "display_data"
    }
   ],
   "source": [
    "plotgraphs(rnn1)"
   ]
  },
  {
   "cell_type": "code",
   "execution_count": 266,
   "id": "norwegian-monroe",
   "metadata": {},
   "outputs": [],
   "source": [
    "predict = np.argmax(rnn1.predict(X_test),axis=1)\n",
    "\n",
    "a = np.unique(predict)\n",
    "b = np.unique(y_test)\n",
    "c = list(set(a) | set(b))"
   ]
  },
  {
   "cell_type": "code",
   "execution_count": 267,
   "id": "strategic-resort",
   "metadata": {},
   "outputs": [
    {
     "name": "stdout",
     "output_type": "stream",
     "text": [
      "        ----------Classification Report Of Classes-------------\n",
      "              precision    recall  f1-score   support\n",
      "\n",
      "           0       0.99      1.00      1.00       109\n",
      "           1       1.00      1.00      1.00         2\n",
      "           3       1.00      0.83      0.91         6\n",
      "           4       1.00      0.98      0.99       627\n",
      "           5       0.00      0.00      0.00         2\n",
      "           8       1.00      1.00      1.00     53123\n",
      "           9       0.98      0.96      0.97       105\n",
      "          10       1.00      1.00      1.00    194326\n",
      "          12       0.93      1.00      0.97        14\n",
      "          13       1.00      0.98      0.99       557\n",
      "          14       0.00      0.00      0.00         1\n",
      "          15       1.00      0.98      0.99       777\n",
      "          16       1.00      1.00      1.00    139354\n",
      "          17       1.00      1.00      1.00        43\n",
      "          18       0.98      0.86      0.92        65\n",
      "          19       0.00      0.00      0.00         2\n",
      "\n",
      "    accuracy                           1.00    389113\n",
      "   macro avg       0.80      0.79      0.80    389113\n",
      "weighted avg       1.00      1.00      1.00    389113\n",
      "\n",
      "\n",
      "        ----------Validation Data------------------\n",
      "Accuarcy: 99.98123938290419\n",
      "Precision: 99.9799 %\n",
      "Recall-score: 99.9812\n",
      "F1-score: 99.9805\n"
     ]
    }
   ],
   "source": [
    "report(predict,labels_test)"
   ]
  },
  {
   "cell_type": "code",
   "execution_count": null,
   "id": "productive-orbit",
   "metadata": {},
   "outputs": [],
   "source": []
  }
 ],
 "metadata": {
  "kernelspec": {
   "display_name": "Python 3",
   "language": "python",
   "name": "python3"
  },
  "language_info": {
   "codemirror_mode": {
    "name": "ipython",
    "version": 3
   },
   "file_extension": ".py",
   "mimetype": "text/x-python",
   "name": "python",
   "nbconvert_exporter": "python",
   "pygments_lexer": "ipython3",
   "version": "3.7.4"
  }
 },
 "nbformat": 4,
 "nbformat_minor": 5
}
