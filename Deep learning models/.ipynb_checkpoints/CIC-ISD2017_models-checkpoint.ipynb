{
 "cells": [
  {
   "cell_type": "code",
   "execution_count": 1,
   "id": "flexible-doctrine",
   "metadata": {},
   "outputs": [],
   "source": [
    "import numpy as np # linear algebra\n",
    "import pandas as pd # data processing, CSV file I/O (e.g. pd.read_csv)\n",
    "import seaborn as sns\n",
    "import matplotlib.pyplot as plt\n",
    "import glob\n",
    "\n",
    "from sklearn.metrics import confusion_matrix\n",
    "import itertools\n",
    "\n",
    "from sklearn.metrics import make_scorer, accuracy_score, precision_score, recall_score, f1_score, confusion_matrix, classification_report\n",
    "\n",
    "import tensorflow as tf\n",
    "from tensorflow import keras\n",
    "from keras.models import Sequential\n",
    "from keras.layers import Dense, Flatten, Conv1D, MaxPool1D\n",
    "from keras.initializers import random_uniform\n",
    "from keras.layers.advanced_activations import LeakyReLU\n",
    "from keras.callbacks import EarlyStopping\n",
    "\n",
    "from sklearn.model_selection import train_test_split\n",
    "from sklearn.preprocessing import StandardScaler as SS\n",
    "\n",
    "from sklearn.model_selection import train_test_split\n",
    "from keras.models import Sequential\n",
    "from keras.preprocessing.text import Tokenizer\n",
    "from matplotlib import pyplot as plt\n",
    "from keras.preprocessing.sequence import pad_sequences\n",
    "from keras.layers import Embedding,Dense,LSTM,Dropout,Flatten,BatchNormalization,Conv1D,GlobalMaxPooling1D,MaxPooling1D\n",
    "from keras.optimizers import  SGD\n",
    "import matplotlib.pyplot as plt\n",
    "from keras.regularizers import l2\n",
    "from keras.optimizers import Adam\n",
    "from keras import regularizers\n",
    "from keras.callbacks import EarlyStopping\n",
    "from sklearn.preprocessing import OneHotEncoder\n",
    "from keras.preprocessing import sequence\n",
    "from keras.layers import SimpleRNN\n",
    "#from hyperas.distributions import uniform\n",
    "\n",
    "from keras.utils.np_utils import to_categorical\n",
    "from keras import regularizers\n",
    "import pandas as pd\n",
    "import string\n",
    "import numpy as np\n",
    "import matplotlib.pyplot as plt\n",
    "\n",
    "# import warnings\n",
    "import warnings\n",
    "# filter warnings\n",
    "warnings.filterwarnings('ignore')"
   ]
  },
  {
   "cell_type": "code",
   "execution_count": 2,
   "id": "pointed-reality",
   "metadata": {},
   "outputs": [],
   "source": [
    "dataset = pd.read_csv(r'...')  # use your path"
   ]
  },
  {
   "cell_type": "code",
   "execution_count": 3,
   "id": "adverse-spread",
   "metadata": {},
   "outputs": [
    {
     "data": {
      "text/html": [
       "<div>\n",
       "<style scoped>\n",
       "    .dataframe tbody tr th:only-of-type {\n",
       "        vertical-align: middle;\n",
       "    }\n",
       "\n",
       "    .dataframe tbody tr th {\n",
       "        vertical-align: top;\n",
       "    }\n",
       "\n",
       "    .dataframe thead th {\n",
       "        text-align: right;\n",
       "    }\n",
       "</style>\n",
       "<table border=\"1\" class=\"dataframe\">\n",
       "  <thead>\n",
       "    <tr style=\"text-align: right;\">\n",
       "      <th></th>\n",
       "      <th>DestinationPort</th>\n",
       "      <th>FlowDuration</th>\n",
       "      <th>TotalFwdPackets</th>\n",
       "      <th>TotalBackwardPackets</th>\n",
       "      <th>TotalLengthofFwdPackets</th>\n",
       "      <th>TotalLengthofBwdPackets</th>\n",
       "      <th>FwdPacketLengthMax</th>\n",
       "      <th>FwdPacketLengthMin</th>\n",
       "      <th>FwdPacketLengthMean</th>\n",
       "      <th>FwdPacketLengthStd</th>\n",
       "      <th>...</th>\n",
       "      <th>min_seg_size_forward</th>\n",
       "      <th>ActiveMean</th>\n",
       "      <th>ActiveStd</th>\n",
       "      <th>ActiveMax</th>\n",
       "      <th>ActiveMin</th>\n",
       "      <th>IdleMean</th>\n",
       "      <th>IdleStd</th>\n",
       "      <th>IdleMax</th>\n",
       "      <th>IdleMin</th>\n",
       "      <th>Label</th>\n",
       "    </tr>\n",
       "  </thead>\n",
       "  <tbody>\n",
       "    <tr>\n",
       "      <th>0</th>\n",
       "      <td>80.0</td>\n",
       "      <td>1293792.0</td>\n",
       "      <td>3.0</td>\n",
       "      <td>7.0</td>\n",
       "      <td>26.0</td>\n",
       "      <td>11607.0</td>\n",
       "      <td>20.0</td>\n",
       "      <td>0.0</td>\n",
       "      <td>8.666667</td>\n",
       "      <td>10.263203</td>\n",
       "      <td>...</td>\n",
       "      <td>20.0</td>\n",
       "      <td>0.0</td>\n",
       "      <td>0.0</td>\n",
       "      <td>0.0</td>\n",
       "      <td>0.0</td>\n",
       "      <td>0.0</td>\n",
       "      <td>0.0</td>\n",
       "      <td>0.0</td>\n",
       "      <td>0.0</td>\n",
       "      <td>DDoS</td>\n",
       "    </tr>\n",
       "    <tr>\n",
       "      <th>1</th>\n",
       "      <td>80.0</td>\n",
       "      <td>4421382.0</td>\n",
       "      <td>4.0</td>\n",
       "      <td>0.0</td>\n",
       "      <td>24.0</td>\n",
       "      <td>0.0</td>\n",
       "      <td>6.0</td>\n",
       "      <td>6.0</td>\n",
       "      <td>6.000000</td>\n",
       "      <td>0.000000</td>\n",
       "      <td>...</td>\n",
       "      <td>20.0</td>\n",
       "      <td>0.0</td>\n",
       "      <td>0.0</td>\n",
       "      <td>0.0</td>\n",
       "      <td>0.0</td>\n",
       "      <td>0.0</td>\n",
       "      <td>0.0</td>\n",
       "      <td>0.0</td>\n",
       "      <td>0.0</td>\n",
       "      <td>DDoS</td>\n",
       "    </tr>\n",
       "    <tr>\n",
       "      <th>2</th>\n",
       "      <td>80.0</td>\n",
       "      <td>1083538.0</td>\n",
       "      <td>3.0</td>\n",
       "      <td>6.0</td>\n",
       "      <td>26.0</td>\n",
       "      <td>11601.0</td>\n",
       "      <td>20.0</td>\n",
       "      <td>0.0</td>\n",
       "      <td>8.666667</td>\n",
       "      <td>10.263203</td>\n",
       "      <td>...</td>\n",
       "      <td>20.0</td>\n",
       "      <td>0.0</td>\n",
       "      <td>0.0</td>\n",
       "      <td>0.0</td>\n",
       "      <td>0.0</td>\n",
       "      <td>0.0</td>\n",
       "      <td>0.0</td>\n",
       "      <td>0.0</td>\n",
       "      <td>0.0</td>\n",
       "      <td>DDoS</td>\n",
       "    </tr>\n",
       "    <tr>\n",
       "      <th>3</th>\n",
       "      <td>80.0</td>\n",
       "      <td>80034360.0</td>\n",
       "      <td>8.0</td>\n",
       "      <td>4.0</td>\n",
       "      <td>56.0</td>\n",
       "      <td>11601.0</td>\n",
       "      <td>20.0</td>\n",
       "      <td>0.0</td>\n",
       "      <td>7.000000</td>\n",
       "      <td>5.656854</td>\n",
       "      <td>...</td>\n",
       "      <td>20.0</td>\n",
       "      <td>939.0</td>\n",
       "      <td>0.0</td>\n",
       "      <td>939.0</td>\n",
       "      <td>939.0</td>\n",
       "      <td>39300000.0</td>\n",
       "      <td>44200000.0</td>\n",
       "      <td>70600000.0</td>\n",
       "      <td>8072664.0</td>\n",
       "      <td>DDoS</td>\n",
       "    </tr>\n",
       "    <tr>\n",
       "      <th>4</th>\n",
       "      <td>80.0</td>\n",
       "      <td>642654.0</td>\n",
       "      <td>3.0</td>\n",
       "      <td>6.0</td>\n",
       "      <td>26.0</td>\n",
       "      <td>11607.0</td>\n",
       "      <td>20.0</td>\n",
       "      <td>0.0</td>\n",
       "      <td>8.666667</td>\n",
       "      <td>10.263203</td>\n",
       "      <td>...</td>\n",
       "      <td>20.0</td>\n",
       "      <td>0.0</td>\n",
       "      <td>0.0</td>\n",
       "      <td>0.0</td>\n",
       "      <td>0.0</td>\n",
       "      <td>0.0</td>\n",
       "      <td>0.0</td>\n",
       "      <td>0.0</td>\n",
       "      <td>0.0</td>\n",
       "      <td>DDoS</td>\n",
       "    </tr>\n",
       "  </tbody>\n",
       "</table>\n",
       "<p>5 rows × 79 columns</p>\n",
       "</div>"
      ],
      "text/plain": [
       "   DestinationPort  FlowDuration  TotalFwdPackets  TotalBackwardPackets  \\\n",
       "0             80.0     1293792.0              3.0                   7.0   \n",
       "1             80.0     4421382.0              4.0                   0.0   \n",
       "2             80.0     1083538.0              3.0                   6.0   \n",
       "3             80.0    80034360.0              8.0                   4.0   \n",
       "4             80.0      642654.0              3.0                   6.0   \n",
       "\n",
       "   TotalLengthofFwdPackets  TotalLengthofBwdPackets  FwdPacketLengthMax  \\\n",
       "0                     26.0                  11607.0                20.0   \n",
       "1                     24.0                      0.0                 6.0   \n",
       "2                     26.0                  11601.0                20.0   \n",
       "3                     56.0                  11601.0                20.0   \n",
       "4                     26.0                  11607.0                20.0   \n",
       "\n",
       "   FwdPacketLengthMin  FwdPacketLengthMean  FwdPacketLengthStd  ...  \\\n",
       "0                 0.0             8.666667           10.263203  ...   \n",
       "1                 6.0             6.000000            0.000000  ...   \n",
       "2                 0.0             8.666667           10.263203  ...   \n",
       "3                 0.0             7.000000            5.656854  ...   \n",
       "4                 0.0             8.666667           10.263203  ...   \n",
       "\n",
       "   min_seg_size_forward  ActiveMean  ActiveStd  ActiveMax  ActiveMin  \\\n",
       "0                  20.0         0.0        0.0        0.0        0.0   \n",
       "1                  20.0         0.0        0.0        0.0        0.0   \n",
       "2                  20.0         0.0        0.0        0.0        0.0   \n",
       "3                  20.0       939.0        0.0      939.0      939.0   \n",
       "4                  20.0         0.0        0.0        0.0        0.0   \n",
       "\n",
       "     IdleMean     IdleStd     IdleMax    IdleMin  Label  \n",
       "0         0.0         0.0         0.0        0.0   DDoS  \n",
       "1         0.0         0.0         0.0        0.0   DDoS  \n",
       "2         0.0         0.0         0.0        0.0   DDoS  \n",
       "3  39300000.0  44200000.0  70600000.0  8072664.0   DDoS  \n",
       "4         0.0         0.0         0.0        0.0   DDoS  \n",
       "\n",
       "[5 rows x 79 columns]"
      ]
     },
     "execution_count": 3,
     "metadata": {},
     "output_type": "execute_result"
    }
   ],
   "source": [
    "dataset.head()"
   ]
  },
  {
   "cell_type": "code",
   "execution_count": 4,
   "id": "informational-float",
   "metadata": {},
   "outputs": [],
   "source": [
    "# Splitting dataset into features and labels.\n",
    "labels = dataset['Label']\n",
    "features = dataset.loc[:, dataset.columns != 'Label'].astype('float64')"
   ]
  },
  {
   "cell_type": "code",
   "execution_count": 5,
   "id": "unavailable-processing",
   "metadata": {},
   "outputs": [],
   "source": [
    "# For scaling the data, we use RobustScaler class from sklearn.\n",
    "\n",
    "from sklearn.preprocessing import MinMaxScaler, StandardScaler, RobustScaler"
   ]
  },
  {
   "cell_type": "code",
   "execution_count": 6,
   "id": "czech-irrigation",
   "metadata": {},
   "outputs": [],
   "source": [
    "scaler = RobustScaler()\n",
    "scaler.fit(features)\n",
    "\n",
    "features = scaler.transform(features)"
   ]
  },
  {
   "cell_type": "code",
   "execution_count": 7,
   "id": "victorian-enlargement",
   "metadata": {},
   "outputs": [],
   "source": [
    "from sklearn.preprocessing import LabelEncoder"
   ]
  },
  {
   "cell_type": "code",
   "execution_count": 8,
   "id": "worthy-domestic",
   "metadata": {},
   "outputs": [],
   "source": [
    "LE = LabelEncoder()\n",
    "\n",
    "LE.fit(labels)\n",
    "labels = LE.transform(labels)"
   ]
  },
  {
   "cell_type": "code",
   "execution_count": 9,
   "id": "respected-effectiveness",
   "metadata": {},
   "outputs": [
    {
     "data": {
      "text/plain": [
       "array([ 0,  1,  2,  3,  4,  5,  6,  7,  8,  9, 10, 11, 12, 13, 14])"
      ]
     },
     "execution_count": 9,
     "metadata": {},
     "output_type": "execute_result"
    }
   ],
   "source": [
    "# Labels have been replaced with integers.\n",
    "\n",
    "np.unique(labels)"
   ]
  },
  {
   "cell_type": "code",
   "execution_count": 10,
   "id": "restricted-couple",
   "metadata": {},
   "outputs": [
    {
     "data": {
      "text/plain": [
       "array(['DDoS', 'PortScan', 'Bot', 'Infiltration',\n",
       "       'Web_Attack_Brute_Force', 'Web_Attack_XSS',\n",
       "       'Web_Attack_Sql_Injection', 'FTPPatator', 'SSHPatator',\n",
       "       'DoS_slowloris', 'DoS_Slowhttptest', 'DoS_Hulk', 'DoS_GoldenEye',\n",
       "       'Heartbleed', 'BENIGN'], dtype=object)"
      ]
     },
     "execution_count": 10,
     "metadata": {},
     "output_type": "execute_result"
    }
   ],
   "source": [
    "# Checking that encoding reversal works.\n",
    "\n",
    "d = LE.inverse_transform(labels)\n",
    "d = pd.Series(d)\n",
    "d.unique()\n"
   ]
  },
  {
   "cell_type": "markdown",
   "id": "miniature-habitat",
   "metadata": {},
   "source": [
    "### Splitting the data"
   ]
  },
  {
   "cell_type": "code",
   "execution_count": 11,
   "id": "defensive-subscriber",
   "metadata": {},
   "outputs": [],
   "source": [
    "from sklearn.model_selection import train_test_split"
   ]
  },
  {
   "cell_type": "code",
   "execution_count": 12,
   "id": "exact-hawaii",
   "metadata": {},
   "outputs": [],
   "source": [
    "# The next step is to split training and testing data. For this we will use sklearn function train_test_split().\n",
    "\n",
    "features_train, features_test, labels_train, labels_test = train_test_split(features, labels, test_size= 0.2,random_state=1)"
   ]
  },
  {
   "cell_type": "code",
   "execution_count": 13,
   "id": "regional-secretary",
   "metadata": {},
   "outputs": [
    {
     "data": {
      "text/plain": [
       "((624355, 78), (624355,), (156089, 78), (156089,))"
      ]
     },
     "execution_count": 13,
     "metadata": {},
     "output_type": "execute_result"
    }
   ],
   "source": [
    "features_train.shape, labels_train.shape ,features_test.shape , labels_test.shape"
   ]
  },
  {
   "cell_type": "code",
   "execution_count": 14,
   "id": "objective-offer",
   "metadata": {},
   "outputs": [
    {
     "data": {
      "text/plain": [
       "((468266, 78), (468266,), (156089, 78), (156089,), (156089, 78), (156089,))"
      ]
     },
     "execution_count": 14,
     "metadata": {},
     "output_type": "execute_result"
    }
   ],
   "source": [
    "features_train,  features_val, labels_train, labels_val = train_test_split(features_train, labels_train, test_size=0.25, random_state=1)\n",
    "features_train.shape, labels_train.shape ,features_test.shape , labels_test.shape, features_val.shape ,labels_val.shape"
   ]
  },
  {
   "cell_type": "code",
   "execution_count": 15,
   "id": "damaged-massachusetts",
   "metadata": {},
   "outputs": [],
   "source": [
    "import datetime\n",
    "import os\n",
    "log_dir = os.path.join(\"train_logs\",datetime.datetime.now().strftime(\"%Y%m%d-%H%M%S\"),)\n",
    "\n",
    "tensorboard_callback = tf.keras.callbacks.TensorBoard(log_dir=log_dir, histogram_freq=1)\n",
    "\n",
    "# TF callback that stops training when best value of validationi loss function is reached\n",
    "eary_stop_callback = tf.keras.callbacks.EarlyStopping(monitor='loss', patience=10, restore_best_weights=True)"
   ]
  },
  {
   "cell_type": "code",
   "execution_count": 16,
   "id": "silent-detective",
   "metadata": {},
   "outputs": [],
   "source": [
    "# this function has evaluation metrics\n",
    "def report(prediction, y_true):\n",
    "    print('        ----------Classification Report Of Classes-------------')\n",
    "    print(classification_report(y_true,prediction))\n",
    "    print('\\n        ----------Validation Data------------------')\n",
    "    print('Accuarcy:',accuracy_score(y_true, prediction)* 100)\n",
    "    print('Precision: {:,.4f} %'.format(precision_score(y_true, prediction, average='weighted') * 100))\n",
    "    print('Recall-score: {:,.4f}'.format(recall_score(y_true, prediction, average='weighted') * 100))\n",
    "    print('F1-score: {:,.4f}'.format(f1_score(y_true, prediction, average='weighted') * 100))"
   ]
  },
  {
   "cell_type": "code",
   "execution_count": 17,
   "id": "active-advice",
   "metadata": {},
   "outputs": [],
   "source": [
    "# plotting loss graphs w.r.t each epoch\n",
    "def plotgraphs(model):\n",
    "    f, ax = plt.subplots()\n",
    "    ax.plot([None] + model.history.history[\"accuracy\"], 'o-')\n",
    "    ax.plot([None] + model.history.history[\"val_accuracy\"], 'x-')\n",
    "\n",
    "    ax.legend(['Train_Accuracy', 'Val_Accuracy'], loc = 0)\n",
    "    ax.set_title('Training/Val Accuracy Per Epoch')\n",
    "    ax.set_xlabel('epoch')\n",
    "    ax.set_ylabel('acc')\n",
    "    plt.show()\n",
    "\n",
    "    f, ax = plt.subplots()\n",
    "    ax.plot([None] + model.history.history[\"loss\"], 'o-')\n",
    "    ax.plot([None] + model.history.history[\"val_loss\"], 'x-')\n",
    "\n",
    "    ax.legend(['Train_Loss', 'Val_Loss'], loc = 0)\n",
    "    ax.set_title('Training/Val Losses Per Epoch')\n",
    "    ax.set_xlabel('epoch')\n",
    "    ax.set_ylabel('loss')\n",
    "    plt.show()"
   ]
  },
  {
   "cell_type": "markdown",
   "id": "atomic-envelope",
   "metadata": {},
   "source": [
    "### DNN Models"
   ]
  },
  {
   "cell_type": "code",
   "execution_count": 18,
   "id": "helpful-franklin",
   "metadata": {},
   "outputs": [
    {
     "name": "stdout",
     "output_type": "stream",
     "text": [
      "Model: \"sequential\"\n",
      "_________________________________________________________________\n",
      "Layer (type)                 Output Shape              Param #   \n",
      "=================================================================\n",
      "dense (Dense)                (None, 256)               20224     \n",
      "_________________________________________________________________\n",
      "dropout (Dropout)            (None, 256)               0         \n",
      "_________________________________________________________________\n",
      "dense_1 (Dense)              (None, 15)                3855      \n",
      "=================================================================\n",
      "Total params: 24,079\n",
      "Trainable params: 24,079\n",
      "Non-trainable params: 0\n",
      "_________________________________________________________________\n"
     ]
    }
   ],
   "source": [
    "dnn1= Sequential()\n",
    "\n",
    "dnn1.add(Dense(256, activation='relu', input_shape=(features_train.shape[1],)))\n",
    "dnn1.add(Dropout(0.1))\n",
    "dnn1.add(Dense(15, activation='softmax'))\n",
    "\n",
    "dnn1.summary()"
   ]
  },
  {
   "cell_type": "code",
   "execution_count": 19,
   "id": "friendly-devices",
   "metadata": {
    "scrolled": true
   },
   "outputs": [
    {
     "name": "stdout",
     "output_type": "stream",
     "text": [
      "Epoch 1/30\n",
      "7317/7317 [==============================] - 18s 2ms/step - loss: 13787.0474 - accuracy: 0.8726 - val_loss: 2001.7906 - val_accuracy: 0.9395\n",
      "Epoch 2/30\n",
      "7317/7317 [==============================] - 16s 2ms/step - loss: 167.1871 - accuracy: 0.9304 - val_loss: 9.8857 - val_accuracy: 0.9418\n",
      "Epoch 3/30\n",
      "7317/7317 [==============================] - 16s 2ms/step - loss: 5.3202 - accuracy: 0.9418 - val_loss: 1.5081 - val_accuracy: 0.9512\n",
      "Epoch 4/30\n",
      "7317/7317 [==============================] - 16s 2ms/step - loss: 2.3124 - accuracy: 0.9501 - val_loss: 4.2034 - val_accuracy: 0.9579\n",
      "Epoch 5/30\n",
      "7317/7317 [==============================] - 16s 2ms/step - loss: 0.7140 - accuracy: 0.9541 - val_loss: 1.1144 - val_accuracy: 0.9585\n",
      "Epoch 6/30\n",
      "7317/7317 [==============================] - 15s 2ms/step - loss: 1.2623 - accuracy: 0.9559 - val_loss: 2.0220 - val_accuracy: 0.9589\n",
      "Epoch 7/30\n",
      "7317/7317 [==============================] - 16s 2ms/step - loss: 0.9158 - accuracy: 0.9564 - val_loss: 1.1188 - val_accuracy: 0.9582\n",
      "Epoch 8/30\n",
      "7317/7317 [==============================] - 16s 2ms/step - loss: 0.5656 - accuracy: 0.9573 - val_loss: 1.8046 - val_accuracy: 0.9571\n",
      "Epoch 9/30\n",
      "7317/7317 [==============================] - 16s 2ms/step - loss: 0.5752 - accuracy: 0.9580 - val_loss: 0.7654 - val_accuracy: 0.9597\n",
      "Epoch 10/30\n",
      "7317/7317 [==============================] - 16s 2ms/step - loss: 0.7232 - accuracy: 0.9581 - val_loss: 0.7229 - val_accuracy: 0.9607\n",
      "Epoch 11/30\n",
      "7317/7317 [==============================] - 16s 2ms/step - loss: 0.5243 - accuracy: 0.9585 - val_loss: 0.8231 - val_accuracy: 0.9597\n",
      "Epoch 12/30\n",
      "7317/7317 [==============================] - 16s 2ms/step - loss: 0.9260 - accuracy: 0.9582 - val_loss: 2.5524 - val_accuracy: 0.9575\n",
      "Epoch 13/30\n",
      "7317/7317 [==============================] - 16s 2ms/step - loss: 0.6167 - accuracy: 0.9582 - val_loss: 0.9534 - val_accuracy: 0.9600\n",
      "Epoch 14/30\n",
      "7317/7317 [==============================] - 16s 2ms/step - loss: 0.4410 - accuracy: 0.9582 - val_loss: 1.0714 - val_accuracy: 0.9571\n",
      "Epoch 15/30\n",
      "7317/7317 [==============================] - 16s 2ms/step - loss: 0.5217 - accuracy: 0.9583 - val_loss: 1.0266 - val_accuracy: 0.9580\n",
      "Epoch 16/30\n",
      "7317/7317 [==============================] - 16s 2ms/step - loss: 0.5067 - accuracy: 0.9585 - val_loss: 1.2232 - val_accuracy: 0.9593\n",
      "Epoch 17/30\n",
      "7317/7317 [==============================] - 16s 2ms/step - loss: 0.7314 - accuracy: 0.9582 - val_loss: 1.3458 - val_accuracy: 0.9575\n",
      "Epoch 18/30\n",
      "7317/7317 [==============================] - 16s 2ms/step - loss: 0.4384 - accuracy: 0.9593 - val_loss: 0.6519 - val_accuracy: 0.9584\n",
      "Epoch 19/30\n",
      "7317/7317 [==============================] - 16s 2ms/step - loss: 0.7259 - accuracy: 0.9575 - val_loss: 1.4245 - val_accuracy: 0.9595\n",
      "Epoch 20/30\n",
      "7317/7317 [==============================] - 16s 2ms/step - loss: 1.0428 - accuracy: 0.9588 - val_loss: 1.3341 - val_accuracy: 0.9597\n",
      "Epoch 21/30\n",
      "7317/7317 [==============================] - 15s 2ms/step - loss: 1.0334 - accuracy: 0.9590 - val_loss: 0.9988 - val_accuracy: 0.9603\n",
      "Epoch 22/30\n",
      "7317/7317 [==============================] - 15s 2ms/step - loss: 0.9346 - accuracy: 0.9585 - val_loss: 1.6892 - val_accuracy: 0.9586\n",
      "Epoch 23/30\n",
      "7317/7317 [==============================] - 16s 2ms/step - loss: 0.8909 - accuracy: 0.9590 - val_loss: 1.7647 - val_accuracy: 0.9603\n",
      "Epoch 24/30\n",
      "7317/7317 [==============================] - 16s 2ms/step - loss: 0.9072 - accuracy: 0.9590 - val_loss: 1.2756 - val_accuracy: 0.9599\n",
      "Epoch 25/30\n",
      "7317/7317 [==============================] - 16s 2ms/step - loss: 0.5071 - accuracy: 0.9586 - val_loss: 0.9596 - val_accuracy: 0.9592\n",
      "Epoch 26/30\n",
      "7317/7317 [==============================] - 16s 2ms/step - loss: 0.4570 - accuracy: 0.9590 - val_loss: 0.8488 - val_accuracy: 0.9602\n",
      "Epoch 27/30\n",
      "7317/7317 [==============================] - 16s 2ms/step - loss: 0.6799 - accuracy: 0.9592 - val_loss: 1.6028 - val_accuracy: 0.9594\n",
      "Epoch 28/30\n",
      "7317/7317 [==============================] - 16s 2ms/step - loss: 1.2681 - accuracy: 0.9585 - val_loss: 1.7575 - val_accuracy: 0.9594\n",
      "Epoch 29/30\n",
      "7317/7317 [==============================] - 16s 2ms/step - loss: 2.0690 - accuracy: 0.9594 - val_loss: 2.5882 - val_accuracy: 0.9599\n"
     ]
    },
    {
     "data": {
      "text/plain": [
       "<tensorflow.python.keras.callbacks.History at 0x1ddf8a37e88>"
      ]
     },
     "execution_count": 19,
     "metadata": {},
     "output_type": "execute_result"
    }
   ],
   "source": [
    "dnn1.compile(loss = 'sparse_categorical_crossentropy', optimizer= 'adam', metrics = ['accuracy'])\n",
    "dnn1.fit(features_train,labels_train,epochs=30,batch_size=64,\n",
    "         validation_data=(features_val,labels_val),callbacks=[tensorboard_callback, eary_stop_callback])"
   ]
  },
  {
   "cell_type": "code",
   "execution_count": 20,
   "id": "ongoing-helena",
   "metadata": {},
   "outputs": [
    {
     "data": {
      "image/png": "[encoded data removed]",
      "text/plain": [
       "<Figure size 432x288 with 1 Axes>"
      ]
     },
     "metadata": {
      "needs_background": "light"
     },
     "output_type": "display_data"
    },
    {
     "data": {
      "image/png": "[encoded data removed]",
      "text/plain": [
       "<Figure size 432x288 with 1 Axes>"
      ]
     },
     "metadata": {
      "needs_background": "light"
     },
     "output_type": "display_data"
    }
   ],
   "source": [
    "plotgraphs(dnn1)"
   ]
  },
  {
   "cell_type": "code",
   "execution_count": 21,
   "id": "secure-seeking",
   "metadata": {},
   "outputs": [],
   "source": [
    "predict = np.argmax(dnn1.predict(features_test),axis=1)\n",
    "\n",
    "a = np.unique(predict)\n",
    "b = np.unique(labels_test)\n",
    "c = list(set(a) | set(b))"
   ]
  },
  {
   "cell_type": "code",
   "execution_count": 22,
   "id": "mental-electricity",
   "metadata": {},
   "outputs": [
    {
     "name": "stdout",
     "output_type": "stream",
     "text": [
      "        ----------Classification Report Of Classes-------------\n",
      "              precision    recall  f1-score   support\n",
      "\n",
      "           0       0.93      1.00      0.96     78177\n",
      "           1       0.90      0.38      0.54       411\n",
      "           2       1.00      0.90      0.95     25385\n",
      "           3       0.98      0.66      0.78      2030\n",
      "           4       1.00      0.98      0.99     34481\n",
      "           5       0.98      0.25      0.39      1020\n",
      "           6       0.76      0.10      0.17      1082\n",
      "           7       1.00      1.00      1.00      1095\n",
      "           8       1.00      1.00      1.00         1\n",
      "           9       0.00      0.00      0.00         9\n",
      "          10       0.99      0.99      0.99     11411\n",
      "          11       0.95      0.99      0.97       588\n",
      "          12       0.66      0.86      0.75       264\n",
      "          13       0.50      0.20      0.29         5\n",
      "          14       0.46      0.12      0.19       130\n",
      "\n",
      "    accuracy                           0.96    156089\n",
      "   macro avg       0.81      0.63      0.66    156089\n",
      "weighted avg       0.96      0.96      0.95    156089\n",
      "\n",
      "\n",
      "        ----------Validation Data------------------\n",
      "Accuarcy: 95.89913446815599\n",
      "Precision: 95.9557 %\n",
      "Recall-score: 95.8991\n",
      "F1-score: 95.4269\n"
     ]
    }
   ],
   "source": [
    "report(predict,labels_test)"
   ]
  },
  {
   "cell_type": "code",
   "execution_count": 25,
   "id": "prompt-maintenance",
   "metadata": {},
   "outputs": [
    {
     "name": "stdout",
     "output_type": "stream",
     "text": [
      "Model: \"sequential_2\"\n",
      "_________________________________________________________________\n",
      "Layer (type)                 Output Shape              Param #   \n",
      "=================================================================\n",
      "dense_5 (Dense)              (None, 256)               20224     \n",
      "_________________________________________________________________\n",
      "dropout_3 (Dropout)          (None, 256)               0         \n",
      "_________________________________________________________________\n",
      "dense_6 (Dense)              (None, 128)               32896     \n",
      "_________________________________________________________________\n",
      "dropout_4 (Dropout)          (None, 128)               0         \n",
      "_________________________________________________________________\n",
      "dense_7 (Dense)              (None, 15)                1935      \n",
      "=================================================================\n",
      "Total params: 55,055\n",
      "Trainable params: 55,055\n",
      "Non-trainable params: 0\n",
      "_________________________________________________________________\n"
     ]
    }
   ],
   "source": [
    "dnn2= Sequential()\n",
    "\n",
    "dnn2.add(Dense(256, activation='relu', input_shape=(features_train.shape[1],)))\n",
    "dnn2.add(Dropout(0.1))\n",
    "dnn2.add(Dense(128, activation='relu'))\n",
    "dnn2.add(Dropout(0.1))\n",
    "dnn2.add(Dense(15, activation = 'softmax'))\n",
    "\n",
    "dnn2.summary()"
   ]
  },
  {
   "cell_type": "code",
   "execution_count": 26,
   "id": "maritime-packet",
   "metadata": {
    "scrolled": true
   },
   "outputs": [
    {
     "name": "stdout",
     "output_type": "stream",
     "text": [
      "Epoch 1/30\n",
      "7317/7317 [==============================] - 22s 3ms/step - loss: 5170.0203 - accuracy: 0.8591 - val_loss: 1.4653 - val_accuracy: 0.9245\n",
      "Epoch 2/30\n",
      "7317/7317 [==============================] - 21s 3ms/step - loss: 0.7712 - accuracy: 0.9202 - val_loss: 0.2584 - val_accuracy: 0.9239\n",
      "Epoch 3/30\n",
      "7317/7317 [==============================] - 20s 3ms/step - loss: 0.9670 - accuracy: 0.9262 - val_loss: 286.9153 - val_accuracy: 0.9345\n",
      "Epoch 4/30\n",
      "7317/7317 [==============================] - 21s 3ms/step - loss: 0.5930 - accuracy: 0.9330 - val_loss: 414.3526 - val_accuracy: 0.9372\n",
      "Epoch 5/30\n",
      "7317/7317 [==============================] - 21s 3ms/step - loss: 0.5177 - accuracy: 0.9363 - val_loss: 226.1810 - val_accuracy: 0.9333\n",
      "Epoch 6/30\n",
      "7317/7317 [==============================] - 22s 3ms/step - loss: 2.7388 - accuracy: 0.9360 - val_loss: 0.2549 - val_accuracy: 0.9375\n",
      "Epoch 7/30\n",
      "7317/7317 [==============================] - 21s 3ms/step - loss: 1.0212 - accuracy: 0.9366 - val_loss: 0.3364 - val_accuracy: 0.9352\n",
      "Epoch 8/30\n",
      "7317/7317 [==============================] - 22s 3ms/step - loss: 6.0892 - accuracy: 0.9367 - val_loss: 0.3182 - val_accuracy: 0.9375\n",
      "Epoch 9/30\n",
      "7317/7317 [==============================] - 20s 3ms/step - loss: 5.3078 - accuracy: 0.9377 - val_loss: 0.4667 - val_accuracy: 0.9380\n",
      "Epoch 10/30\n",
      "7317/7317 [==============================] - 20s 3ms/step - loss: 0.8344 - accuracy: 0.9379 - val_loss: 0.3045 - val_accuracy: 0.9383\n",
      "Epoch 11/30\n",
      "7317/7317 [==============================] - 20s 3ms/step - loss: 2.6898 - accuracy: 0.9379 - val_loss: 0.3809 - val_accuracy: 0.9382\n",
      "Epoch 12/30\n",
      "7317/7317 [==============================] - 20s 3ms/step - loss: 2.2823 - accuracy: 0.9371 - val_loss: 0.3305 - val_accuracy: 0.9371\n",
      "Epoch 13/30\n",
      "7317/7317 [==============================] - 20s 3ms/step - loss: 0.5366 - accuracy: 0.9378 - val_loss: 0.2242 - val_accuracy: 0.9371\n"
     ]
    },
    {
     "data": {
      "text/plain": [
       "<tensorflow.python.keras.callbacks.History at 0x1ddf9aa9cc8>"
      ]
     },
     "execution_count": 26,
     "metadata": {},
     "output_type": "execute_result"
    }
   ],
   "source": [
    "dnn2.compile(loss = 'sparse_categorical_crossentropy', optimizer= 'adam', metrics = ['accuracy'])\n",
    "dnn2.fit(features_train,labels_train,epochs=30,batch_size=64,\n",
    "         validation_data=(features_val,labels_val),callbacks=[tensorboard_callback, eary_stop_callback])"
   ]
  },
  {
   "cell_type": "code",
   "execution_count": 27,
   "id": "guided-orbit",
   "metadata": {},
   "outputs": [
    {
     "data": {
      "image/png": "[encoded data removed]",
      "text/plain": [
       "<Figure size 432x288 with 1 Axes>"
      ]
     },
     "metadata": {
      "needs_background": "light"
     },
     "output_type": "display_data"
    },
    {
     "data": {
      "image/png": "[encoded data removed]",
      "text/plain": [
       "<Figure size 432x288 with 1 Axes>"
      ]
     },
     "metadata": {
      "needs_background": "light"
     },
     "output_type": "display_data"
    }
   ],
   "source": [
    "plotgraphs(dnn2)"
   ]
  },
  {
   "cell_type": "code",
   "execution_count": 28,
   "id": "fitting-greek",
   "metadata": {},
   "outputs": [],
   "source": [
    "predict = np.argmax(dnn2.predict(features_test),axis=1)\n",
    "\n",
    "a = np.unique(predict)\n",
    "b = np.unique(labels_test)\n",
    "c = list(set(a) | set(b))"
   ]
  },
  {
   "cell_type": "code",
   "execution_count": 29,
   "id": "naughty-magazine",
   "metadata": {},
   "outputs": [
    {
     "name": "stdout",
     "output_type": "stream",
     "text": [
      "        ----------Classification Report Of Classes-------------\n",
      "              precision    recall  f1-score   support\n",
      "\n",
      "           0       0.89      0.99      0.94     78177\n",
      "           1       0.99      0.37      0.54       411\n",
      "           2       1.00      0.82      0.90     25385\n",
      "           3       0.99      0.59      0.74      2030\n",
      "           4       1.00      0.94      0.97     34481\n",
      "           5       0.91      0.23      0.37      1020\n",
      "           6       0.93      0.05      0.09      1082\n",
      "           7       0.98      0.99      0.99      1095\n",
      "           8       0.00      0.00      0.00         1\n",
      "           9       0.00      0.00      0.00         9\n",
      "          10       0.95      0.99      0.97     11411\n",
      "          11       1.00      0.95      0.97       588\n",
      "          12       0.63      0.82      0.71       264\n",
      "          13       0.00      0.00      0.00         5\n",
      "          14       0.00      0.00      0.00       130\n",
      "\n",
      "    accuracy                           0.93    156089\n",
      "   macro avg       0.69      0.52      0.55    156089\n",
      "weighted avg       0.94      0.93      0.93    156089\n",
      "\n",
      "\n",
      "        ----------Validation Data------------------\n",
      "Accuarcy: 93.3076642172094\n",
      "Precision: 93.7944 %\n",
      "Recall-score: 93.3077\n",
      "F1-score: 92.7291\n"
     ]
    }
   ],
   "source": [
    "report(predict,labels_test)"
   ]
  },
  {
   "cell_type": "code",
   "execution_count": 30,
   "id": "incomplete-strength",
   "metadata": {},
   "outputs": [
    {
     "name": "stdout",
     "output_type": "stream",
     "text": [
      "Model: \"sequential_3\"\n",
      "_________________________________________________________________\n",
      "Layer (type)                 Output Shape              Param #   \n",
      "=================================================================\n",
      "dense_8 (Dense)              (None, 256)               20224     \n",
      "_________________________________________________________________\n",
      "dropout_5 (Dropout)          (None, 256)               0         \n",
      "_________________________________________________________________\n",
      "dense_9 (Dense)              (None, 128)               32896     \n",
      "_________________________________________________________________\n",
      "dropout_6 (Dropout)          (None, 128)               0         \n",
      "_________________________________________________________________\n",
      "dense_10 (Dense)             (None, 64)                8256      \n",
      "_________________________________________________________________\n",
      "dropout_7 (Dropout)          (None, 64)                0         \n",
      "_________________________________________________________________\n",
      "dense_11 (Dense)             (None, 15)                975       \n",
      "=================================================================\n",
      "Total params: 62,351\n",
      "Trainable params: 62,351\n",
      "Non-trainable params: 0\n",
      "_________________________________________________________________\n"
     ]
    }
   ],
   "source": [
    "dnn3= Sequential()\n",
    "\n",
    "dnn3.add(Dense(256, activation='relu', input_shape=(features_train.shape[1],)))\n",
    "dnn3.add(Dropout(0.1))\n",
    "dnn3.add(Dense(128, activation='relu'))\n",
    "dnn3.add(Dropout(0.1))\n",
    "dnn3.add(Dense(64, activation='relu'))\n",
    "dnn3.add(Dropout(0.1))\n",
    "dnn3.add(Dense(15, activation = 'softmax'))\n",
    "\n",
    "dnn3.summary()"
   ]
  },
  {
   "cell_type": "code",
   "execution_count": 31,
   "id": "alleged-process",
   "metadata": {
    "scrolled": true
   },
   "outputs": [
    {
     "name": "stdout",
     "output_type": "stream",
     "text": [
      "Epoch 1/30\n",
      "3659/3659 [==============================] - 15s 4ms/step - loss: 3453.8679 - accuracy: 0.8145 - val_loss: 0.3907 - val_accuracy: 0.9099\n",
      "Epoch 2/30\n",
      "3659/3659 [==============================] - 13s 4ms/step - loss: 7.5600 - accuracy: 0.9097 - val_loss: 0.3289 - val_accuracy: 0.9260\n",
      "Epoch 3/30\n",
      "3659/3659 [==============================] - 14s 4ms/step - loss: 1.0997 - accuracy: 0.9229 - val_loss: 0.2476 - val_accuracy: 0.9296\n",
      "Epoch 4/30\n",
      "3659/3659 [==============================] - 14s 4ms/step - loss: 0.6049 - accuracy: 0.9294 - val_loss: 0.2390 - val_accuracy: 0.9358\n",
      "Epoch 5/30\n",
      "3659/3659 [==============================] - 14s 4ms/step - loss: 0.5111 - accuracy: 0.9352 - val_loss: 0.2303 - val_accuracy: 0.9355\n",
      "Epoch 6/30\n",
      "3659/3659 [==============================] - 14s 4ms/step - loss: 2.1860 - accuracy: 0.9358 - val_loss: 0.6732 - val_accuracy: 0.9384\n",
      "Epoch 7/30\n",
      "3659/3659 [==============================] - 14s 4ms/step - loss: 0.5712 - accuracy: 0.9374 - val_loss: 0.9892 - val_accuracy: 0.9379\n",
      "Epoch 8/30\n",
      "3659/3659 [==============================] - 14s 4ms/step - loss: 0.4530 - accuracy: 0.9365 - val_loss: 0.2437 - val_accuracy: 0.9373\n",
      "Epoch 9/30\n",
      "3659/3659 [==============================] - 15s 4ms/step - loss: 1.6246 - accuracy: 0.9368 - val_loss: 0.5960 - val_accuracy: 0.9376\n",
      "Epoch 10/30\n",
      "3659/3659 [==============================] - 14s 4ms/step - loss: 20.1581 - accuracy: 0.9378 - val_loss: 0.3886 - val_accuracy: 0.9381\n",
      "Epoch 11/30\n",
      "3659/3659 [==============================] - 14s 4ms/step - loss: 0.7494 - accuracy: 0.9374 - val_loss: 0.2494 - val_accuracy: 0.9379\n",
      "Epoch 12/30\n",
      "3659/3659 [==============================] - 14s 4ms/step - loss: 0.4329 - accuracy: 0.9383 - val_loss: 0.2463 - val_accuracy: 0.9379\n",
      "Epoch 13/30\n",
      "3659/3659 [==============================] - 14s 4ms/step - loss: 1.1288 - accuracy: 0.9381 - val_loss: 0.2034 - val_accuracy: 0.9392\n",
      "Epoch 14/30\n",
      "3659/3659 [==============================] - 14s 4ms/step - loss: 11.1521 - accuracy: 0.9389 - val_loss: 0.2743 - val_accuracy: 0.9388\n",
      "Epoch 15/30\n",
      "3659/3659 [==============================] - 14s 4ms/step - loss: 6.1169 - accuracy: 0.9390 - val_loss: 0.2176 - val_accuracy: 0.9381\n",
      "Epoch 16/30\n",
      "3659/3659 [==============================] - 14s 4ms/step - loss: 1.9047 - accuracy: 0.9397 - val_loss: 0.2150 - val_accuracy: 0.9408\n",
      "Epoch 17/30\n",
      "3659/3659 [==============================] - 14s 4ms/step - loss: 0.4617 - accuracy: 0.9400 - val_loss: 0.2047 - val_accuracy: 0.9396\n",
      "Epoch 18/30\n",
      "3659/3659 [==============================] - 14s 4ms/step - loss: 33.7117 - accuracy: 0.9404 - val_loss: 0.2168 - val_accuracy: 0.9394\n",
      "Epoch 19/30\n",
      "3659/3659 [==============================] - 13s 4ms/step - loss: 1.0915 - accuracy: 0.9403 - val_loss: 0.3031 - val_accuracy: 0.9374\n",
      "Epoch 20/30\n",
      "3659/3659 [==============================] - 14s 4ms/step - loss: 0.4850 - accuracy: 0.9396 - val_loss: 0.1988 - val_accuracy: 0.9398\n",
      "Epoch 21/30\n",
      "3659/3659 [==============================] - 14s 4ms/step - loss: 3.6510 - accuracy: 0.9403 - val_loss: 0.3048 - val_accuracy: 0.9423\n",
      "Epoch 22/30\n",
      "3659/3659 [==============================] - 14s 4ms/step - loss: 21.9388 - accuracy: 0.9406 - val_loss: 0.4889 - val_accuracy: 0.9386\n"
     ]
    },
    {
     "data": {
      "text/plain": [
       "<tensorflow.python.keras.callbacks.History at 0x1ddf9bbb788>"
      ]
     },
     "execution_count": 31,
     "metadata": {},
     "output_type": "execute_result"
    }
   ],
   "source": [
    "dnn3.compile(loss = 'sparse_categorical_crossentropy', optimizer= 'adam', metrics = ['accuracy'])\n",
    "dnn3.fit(features_train,labels_train,epochs=30,batch_size=128,\n",
    "         validation_data=(features_val,labels_val),callbacks=[tensorboard_callback, eary_stop_callback])"
   ]
  },
  {
   "cell_type": "code",
   "execution_count": 32,
   "id": "natural-assistant",
   "metadata": {},
   "outputs": [
    {
     "data": {
      "image/png": "[encoded data removed]",
      "text/plain": [
       "<Figure size 432x288 with 1 Axes>"
      ]
     },
     "metadata": {
      "needs_background": "light"
     },
     "output_type": "display_data"
    },
    {
     "data": {
      "image/png": "[encoded data removed]",
      "text/plain": [
       "<Figure size 432x288 with 1 Axes>"
      ]
     },
     "metadata": {
      "needs_background": "light"
     },
     "output_type": "display_data"
    }
   ],
   "source": [
    "plotgraphs(dnn3)"
   ]
  },
  {
   "cell_type": "code",
   "execution_count": 33,
   "id": "residential-thing",
   "metadata": {},
   "outputs": [
    {
     "name": "stdout",
     "output_type": "stream",
     "text": [
      "        ----------Classification Report Of Classes-------------\n",
      "              precision    recall  f1-score   support\n",
      "\n",
      "           0       0.89      1.00      0.94     78177\n",
      "           1       0.99      0.37      0.54       411\n",
      "           2       1.00      0.82      0.90     25385\n",
      "           3       0.99      0.59      0.74      2030\n",
      "           4       1.00      0.94      0.97     34481\n",
      "           5       0.89      0.23      0.37      1020\n",
      "           6       0.94      0.07      0.13      1082\n",
      "           7       1.00      0.99      1.00      1095\n",
      "           8       0.00      0.00      0.00         1\n",
      "           9       0.00      0.00      0.00         9\n",
      "          10       1.00      0.99      0.99     11411\n",
      "          11       0.95      0.99      0.97       588\n",
      "          12       0.65      0.87      0.75       264\n",
      "          13       0.00      0.00      0.00         5\n",
      "          14       0.00      0.00      0.00       130\n",
      "\n",
      "    accuracy                           0.94    156089\n",
      "   macro avg       0.69      0.52      0.55    156089\n",
      "weighted avg       0.94      0.94      0.93    156089\n",
      "\n",
      "\n",
      "        ----------Validation Data------------------\n",
      "Accuarcy: 93.71704604424399\n",
      "Precision: 94.1924 %\n",
      "Recall-score: 93.7170\n",
      "F1-score: 93.1555\n"
     ]
    }
   ],
   "source": [
    "predict = np.argmax(dnn3.predict(features_test),axis=1)\n",
    "\n",
    "a = np.unique(predict)\n",
    "b = np.unique(labels_test)\n",
    "c = list(set(a) | set(b))\n",
    "report(predict,labels_test)"
   ]
  },
  {
   "cell_type": "markdown",
   "id": "understood-invention",
   "metadata": {},
   "source": [
    "### CNN Models"
   ]
  },
  {
   "cell_type": "code",
   "execution_count": 34,
   "id": "mental-amendment",
   "metadata": {},
   "outputs": [
    {
     "data": {
      "text/plain": [
       "((468266, 78, 1), (156089, 78, 1), (156089, 78, 1))"
      ]
     },
     "execution_count": 34,
     "metadata": {},
     "output_type": "execute_result"
    }
   ],
   "source": [
    "# reshape input to be [samples, time steps, features]\n",
    "y_train= to_categorical(labels_train)\n",
    "y_test= to_categorical(labels_test)\n",
    "y_val= to_categorical(labels_val)\n",
    "\n",
    "X_train = np.array(features_train).reshape(features_train.shape[0], features_train.shape[1], 1)\n",
    "X_test = np.array(features_test).reshape(features_test.shape[0], features_test.shape[1], 1)\n",
    "X_val = np.array(features_val).reshape(features_val.shape[0], features_val.shape[1], 1)\n",
    "X_train.shape , X_test.shape , X_val.shape"
   ]
  },
  {
   "cell_type": "code",
   "execution_count": 35,
   "id": "freelance-conversion",
   "metadata": {
    "scrolled": true
   },
   "outputs": [
    {
     "name": "stdout",
     "output_type": "stream",
     "text": [
      "Model: \"sequential\"\n",
      "_________________________________________________________________\n",
      "Layer (type)                 Output Shape              Param #   \n",
      "=================================================================\n",
      "conv1d (Conv1D)              (None, 76, 64)            256       \n",
      "_________________________________________________________________\n",
      "leaky_re_lu (LeakyReLU)      (None, 76, 64)            0         \n",
      "_________________________________________________________________\n",
      "max_pooling1d (MaxPooling1D) (None, 38, 64)            0         \n",
      "_________________________________________________________________\n",
      "dropout (Dropout)            (None, 38, 64)            0         \n",
      "_________________________________________________________________\n",
      "conv1d_1 (Conv1D)            (None, 38, 64)            4160      \n",
      "_________________________________________________________________\n",
      "leaky_re_lu_1 (LeakyReLU)    (None, 38, 64)            0         \n",
      "_________________________________________________________________\n",
      "max_pooling1d_1 (MaxPooling1 (None, 19, 64)            0         \n",
      "_________________________________________________________________\n",
      "dropout_1 (Dropout)          (None, 19, 64)            0         \n",
      "_________________________________________________________________\n",
      "conv1d_2 (Conv1D)            (None, 19, 64)            4160      \n",
      "_________________________________________________________________\n",
      "leaky_re_lu_2 (LeakyReLU)    (None, 19, 64)            0         \n",
      "_________________________________________________________________\n",
      "max_pooling1d_2 (MaxPooling1 (None, 9, 64)             0         \n",
      "_________________________________________________________________\n",
      "dropout_2 (Dropout)          (None, 9, 64)             0         \n",
      "_________________________________________________________________\n",
      "flatten (Flatten)            (None, 576)               0         \n",
      "_________________________________________________________________\n",
      "dense (Dense)                (None, 64)                36928     \n",
      "_________________________________________________________________\n",
      "leaky_re_lu_3 (LeakyReLU)    (None, 64)                0         \n",
      "_________________________________________________________________\n",
      "dense_1 (Dense)              (None, 32)                2080      \n",
      "_________________________________________________________________\n",
      "leaky_re_lu_4 (LeakyReLU)    (None, 32)                0         \n",
      "_________________________________________________________________\n",
      "dense_2 (Dense)              (None, 15)                495       \n",
      "=================================================================\n",
      "Total params: 48,079\n",
      "Trainable params: 48,079\n",
      "Non-trainable params: 0\n",
      "_________________________________________________________________\n"
     ]
    }
   ],
   "source": [
    "#hyperparameters\n",
    "keras.backend.clear_session()\n",
    "SEED = 1040941203\n",
    "hidden_initializer = random_uniform(seed=SEED)\n",
    "\n",
    "\n",
    "# create model\n",
    "cnn3 = Sequential()\n",
    "cnn3.add(Conv1D(64, 3, input_shape=(78, 1)))\n",
    "cnn3.add(LeakyReLU(alpha=0.1))\n",
    "cnn3.add(MaxPooling1D(pool_size=2))\n",
    "cnn3.add(Dropout(0.3))\n",
    "\n",
    "cnn3.add(Conv1D(64, 1))\n",
    "cnn3.add(LeakyReLU(alpha=0.1))\n",
    "cnn3.add(MaxPooling1D(pool_size=2))\n",
    "cnn3.add(Dropout(0.3))\n",
    "\n",
    "cnn3.add(Conv1D(64, 1))\n",
    "cnn3.add(LeakyReLU(alpha=0.1))\n",
    "cnn3.add(MaxPooling1D(pool_size=2))\n",
    "cnn3.add(Dropout(0.3))\n",
    "\n",
    "cnn3.add(Flatten())\n",
    "cnn3.add(Dense(64, input_dim=15, kernel_initializer=hidden_initializer))\n",
    "cnn3.add(LeakyReLU(alpha=0.1))\n",
    "cnn3.add(Dense(32))\n",
    "cnn3.add(LeakyReLU(alpha=0.1))\n",
    "cnn3.add(Dense(15, activation='softmax'))\n",
    "\n",
    "cnn3.summary()"
   ]
  },
  {
   "cell_type": "code",
   "execution_count": 36,
   "id": "olympic-climate",
   "metadata": {
    "scrolled": true
   },
   "outputs": [
    {
     "name": "stdout",
     "output_type": "stream",
     "text": [
      "Epoch 1/30\n",
      "915/915 [==============================] - 91s 98ms/step - loss: 80.3540 - accuracy: 0.6497 - val_loss: 37.8517 - val_accuracy: 0.8484\n",
      "Epoch 2/30\n",
      "915/915 [==============================] - 89s 97ms/step - loss: 2.6040 - accuracy: 0.8390 - val_loss: 87.0629 - val_accuracy: 0.8667\n",
      "Epoch 3/30\n",
      "915/915 [==============================] - 88s 96ms/step - loss: 1.9756 - accuracy: 0.8618 - val_loss: 0.8511 - val_accuracy: 0.8585\n",
      "Epoch 4/30\n",
      "915/915 [==============================] - 89s 97ms/step - loss: 0.9643 - accuracy: 0.8613 - val_loss: 0.4021 - val_accuracy: 0.8828\n",
      "Epoch 5/30\n",
      "915/915 [==============================] - 89s 97ms/step - loss: 0.6032 - accuracy: 0.8762 - val_loss: 0.3853 - val_accuracy: 0.8735\n",
      "Epoch 6/30\n",
      "915/915 [==============================] - 88s 96ms/step - loss: 0.4694 - accuracy: 0.8923 - val_loss: 26.4944 - val_accuracy: 0.9084\n",
      "Epoch 7/30\n",
      "915/915 [==============================] - 89s 97ms/step - loss: 0.3897 - accuracy: 0.9035 - val_loss: 6.4339 - val_accuracy: 0.9206\n",
      "Epoch 8/30\n",
      "915/915 [==============================] - 89s 97ms/step - loss: 0.3793 - accuracy: 0.9174 - val_loss: 0.4704 - val_accuracy: 0.9088\n",
      "Epoch 9/30\n",
      "915/915 [==============================] - 87s 95ms/step - loss: 0.4554 - accuracy: 0.9089 - val_loss: 0.2428 - val_accuracy: 0.9307\n",
      "Epoch 10/30\n",
      "915/915 [==============================] - 93s 101ms/step - loss: 0.2928 - accuracy: 0.9273 - val_loss: 0.2391 - val_accuracy: 0.9247\n",
      "Epoch 11/30\n",
      "915/915 [==============================] - 90s 99ms/step - loss: 0.2426 - accuracy: 0.9352 - val_loss: 0.1859 - val_accuracy: 0.9447\n",
      "Epoch 12/30\n",
      "915/915 [==============================] - 89s 98ms/step - loss: 0.2203 - accuracy: 0.9434 - val_loss: 0.1706 - val_accuracy: 0.9483\n",
      "Epoch 13/30\n",
      "915/915 [==============================] - 80s 88ms/step - loss: 0.1901 - accuracy: 0.9512 - val_loss: 0.1357 - val_accuracy: 0.9560\n",
      "Epoch 14/30\n",
      "915/915 [==============================] - 76s 84ms/step - loss: 0.1637 - accuracy: 0.9560 - val_loss: 0.1139 - val_accuracy: 0.9608\n",
      "Epoch 15/30\n",
      "915/915 [==============================] - 73s 80ms/step - loss: 0.1446 - accuracy: 0.9624 - val_loss: 0.0986 - val_accuracy: 0.9687\n",
      "Epoch 16/30\n",
      "915/915 [==============================] - 73s 79ms/step - loss: 0.1273 - accuracy: 0.9671 - val_loss: 0.0769 - val_accuracy: 0.9804\n",
      "Epoch 17/30\n",
      "915/915 [==============================] - 72s 79ms/step - loss: 0.1069 - accuracy: 0.9710 - val_loss: 0.0790 - val_accuracy: 0.9789\n",
      "Epoch 18/30\n",
      "915/915 [==============================] - 72s 79ms/step - loss: 0.1157 - accuracy: 0.9712 - val_loss: 0.0699 - val_accuracy: 0.9807\n",
      "Epoch 19/30\n",
      "915/915 [==============================] - 72s 79ms/step - loss: 0.1020 - accuracy: 0.9736 - val_loss: 0.0706 - val_accuracy: 0.9794\n",
      "Epoch 20/30\n",
      "915/915 [==============================] - 73s 79ms/step - loss: 0.0875 - accuracy: 0.9753 - val_loss: 0.0890 - val_accuracy: 0.9780\n",
      "Epoch 21/30\n",
      "915/915 [==============================] - 73s 80ms/step - loss: 0.0937 - accuracy: 0.9756 - val_loss: 0.0592 - val_accuracy: 0.9827\n",
      "Epoch 22/30\n",
      "915/915 [==============================] - 73s 80ms/step - loss: 0.0875 - accuracy: 0.9770 - val_loss: 0.0669 - val_accuracy: 0.9823\n",
      "Epoch 23/30\n",
      "915/915 [==============================] - 73s 79ms/step - loss: 5.6947 - accuracy: 0.9716 - val_loss: 0.0656 - val_accuracy: 0.9814\n",
      "Epoch 24/30\n",
      "915/915 [==============================] - 72s 79ms/step - loss: 0.0971 - accuracy: 0.9737 - val_loss: 0.0568 - val_accuracy: 0.9816\n",
      "Epoch 25/30\n",
      "915/915 [==============================] - 73s 79ms/step - loss: 0.0857 - accuracy: 0.9764 - val_loss: 0.0549 - val_accuracy: 0.9834\n",
      "Epoch 26/30\n",
      "915/915 [==============================] - 73s 79ms/step - loss: 0.0747 - accuracy: 0.9778 - val_loss: 0.0542 - val_accuracy: 0.9835\n",
      "Epoch 27/30\n",
      "915/915 [==============================] - 73s 80ms/step - loss: 0.0904 - accuracy: 0.9786 - val_loss: 0.0578 - val_accuracy: 0.9819\n",
      "Epoch 28/30\n",
      "915/915 [==============================] - 75s 82ms/step - loss: 0.0769 - accuracy: 0.9790 - val_loss: 0.0513 - val_accuracy: 0.9862\n",
      "Epoch 29/30\n",
      "915/915 [==============================] - 74s 81ms/step - loss: 0.0677 - accuracy: 0.9803 - val_loss: 0.0463 - val_accuracy: 0.9853\n",
      "Epoch 30/30\n",
      "915/915 [==============================] - 73s 80ms/step - loss: 0.0658 - accuracy: 0.9814 - val_loss: 0.0467 - val_accuracy: 0.9847\n"
     ]
    },
    {
     "data": {
      "text/plain": [
       "<tensorflow.python.keras.callbacks.History at 0x1ddf9c8f488>"
      ]
     },
     "execution_count": 36,
     "metadata": {},
     "output_type": "execute_result"
    }
   ],
   "source": [
    "cnn3.compile(loss = 'categorical_crossentropy', optimizer= 'adam', metrics = ['accuracy'])\n",
    "cnn3.fit(X_train, y_train, epochs=30, batch_size=512, \n",
    "         validation_data=(X_val,y_val),callbacks=[tensorboard_callback, eary_stop_callback])"
   ]
  },
  {
   "cell_type": "code",
   "execution_count": 37,
   "id": "afraid-parking",
   "metadata": {},
   "outputs": [
    {
     "data": {
      "image/png": "[encoded data removed]",
      "text/plain": [
       "<Figure size 432x288 with 1 Axes>"
      ]
     },
     "metadata": {
      "needs_background": "light"
     },
     "output_type": "display_data"
    },
    {
     "data": {
      "image/png": "[encoded data removed]",
      "text/plain": [
       "<Figure size 432x288 with 1 Axes>"
      ]
     },
     "metadata": {
      "needs_background": "light"
     },
     "output_type": "display_data"
    }
   ],
   "source": [
    "plotgraphs(cnn3)"
   ]
  },
  {
   "cell_type": "code",
   "execution_count": 38,
   "id": "disabled-fever",
   "metadata": {},
   "outputs": [],
   "source": [
    "predict = np.argmax(cnn3.predict(X_test),axis=1)\n",
    "\n",
    "a = np.unique(predict)\n",
    "b = np.unique(y_test)\n",
    "c = list(set(a) | set(b))"
   ]
  },
  {
   "cell_type": "code",
   "execution_count": 39,
   "id": "enormous-soccer",
   "metadata": {},
   "outputs": [
    {
     "name": "stdout",
     "output_type": "stream",
     "text": [
      "        ----------Classification Report Of Classes-------------\n",
      "              precision    recall  f1-score   support\n",
      "\n",
      "           0       0.99      0.99      0.99     78177\n",
      "           1       0.78      0.65      0.71       411\n",
      "           2       1.00      1.00      1.00     25385\n",
      "           3       0.87      0.93      0.90      2030\n",
      "           4       0.98      1.00      0.99     34481\n",
      "           5       0.81      0.80      0.80      1020\n",
      "           6       0.87      0.54      0.67      1082\n",
      "           7       0.97      0.99      0.98      1095\n",
      "           8       0.00      0.00      0.00         1\n",
      "           9       1.00      0.22      0.36         9\n",
      "          10       0.99      1.00      0.99     11411\n",
      "          11       0.98      0.95      0.97       588\n",
      "          12       0.63      0.85      0.73       264\n",
      "          13       0.00      0.00      0.00         5\n",
      "          14       0.00      0.00      0.00       130\n",
      "\n",
      "    accuracy                           0.98    156089\n",
      "   macro avg       0.73      0.66      0.67    156089\n",
      "weighted avg       0.98      0.98      0.98    156089\n",
      "\n",
      "\n",
      "        ----------Validation Data------------------\n",
      "Accuarcy: 98.43999256834242\n",
      "Precision: 98.3506 %\n",
      "Recall-score: 98.4400\n",
      "F1-score: 98.3589\n"
     ]
    }
   ],
   "source": [
    "report(predict,labels_test)"
   ]
  },
  {
   "cell_type": "code",
   "execution_count": 40,
   "id": "ecological-puppy",
   "metadata": {},
   "outputs": [
    {
     "name": "stdout",
     "output_type": "stream",
     "text": [
      "Model: \"sequential\"\n",
      "_________________________________________________________________\n",
      "Layer (type)                 Output Shape              Param #   \n",
      "=================================================================\n",
      "conv1d (Conv1D)              (None, 76, 64)            256       \n",
      "_________________________________________________________________\n",
      "leaky_re_lu (LeakyReLU)      (None, 76, 64)            0         \n",
      "_________________________________________________________________\n",
      "max_pooling1d (MaxPooling1D) (None, 38, 64)            0         \n",
      "_________________________________________________________________\n",
      "dropout (Dropout)            (None, 38, 64)            0         \n",
      "_________________________________________________________________\n",
      "conv1d_1 (Conv1D)            (None, 38, 64)            4160      \n",
      "_________________________________________________________________\n",
      "leaky_re_lu_1 (LeakyReLU)    (None, 38, 64)            0         \n",
      "_________________________________________________________________\n",
      "max_pooling1d_1 (MaxPooling1 (None, 19, 64)            0         \n",
      "_________________________________________________________________\n",
      "dropout_1 (Dropout)          (None, 19, 64)            0         \n",
      "_________________________________________________________________\n",
      "flatten (Flatten)            (None, 1216)              0         \n",
      "_________________________________________________________________\n",
      "dense (Dense)                (None, 64)                77888     \n",
      "_________________________________________________________________\n",
      "leaky_re_lu_2 (LeakyReLU)    (None, 64)                0         \n",
      "_________________________________________________________________\n",
      "dense_1 (Dense)              (None, 32)                2080      \n",
      "_________________________________________________________________\n",
      "leaky_re_lu_3 (LeakyReLU)    (None, 32)                0         \n",
      "_________________________________________________________________\n",
      "dense_2 (Dense)              (None, 15)                495       \n",
      "=================================================================\n",
      "Total params: 84,879\n",
      "Trainable params: 84,879\n",
      "Non-trainable params: 0\n",
      "_________________________________________________________________\n"
     ]
    }
   ],
   "source": [
    "#hyperparameters\n",
    "keras.backend.clear_session()\n",
    "SEED = 1040941203\n",
    "hidden_initializer = random_uniform(seed=SEED)\n",
    "\n",
    "\n",
    "# create model\n",
    "cnn2 = Sequential()\n",
    "cnn2.add(Conv1D(64, 3, input_shape=(78, 1)))\n",
    "cnn2.add(LeakyReLU(alpha=0.1))\n",
    "cnn2.add(MaxPooling1D(pool_size=2))\n",
    "cnn2.add(Dropout(0.3))\n",
    "\n",
    "cnn2.add(Conv1D(64, 1))\n",
    "cnn2.add(LeakyReLU(alpha=0.1))\n",
    "cnn2.add(MaxPooling1D(pool_size=2))\n",
    "cnn2.add(Dropout(0.3))\n",
    "\n",
    "cnn2.add(Flatten())\n",
    "cnn2.add(Dense(64, input_dim=15, kernel_initializer=hidden_initializer))\n",
    "cnn2.add(LeakyReLU(alpha=0.1))\n",
    "cnn2.add(Dense(32))\n",
    "cnn2.add(LeakyReLU(alpha=0.1))\n",
    "cnn2.add(Dense(15, activation='softmax'))\n",
    "\n",
    "cnn2.summary()"
   ]
  },
  {
   "cell_type": "code",
   "execution_count": 41,
   "id": "recreational-version",
   "metadata": {
    "scrolled": true
   },
   "outputs": [
    {
     "name": "stdout",
     "output_type": "stream",
     "text": [
      "Epoch 1/30\n",
      "1830/1830 [==============================] - 76s 41ms/step - loss: 1265.7659 - accuracy: 0.7446 - val_loss: 51.0810 - val_accuracy: 0.8644\n",
      "Epoch 2/30\n",
      "1830/1830 [==============================] - 81s 44ms/step - loss: 26.8213 - accuracy: 0.8632 - val_loss: 4.5966 - val_accuracy: 0.8981\n",
      "Epoch 3/30\n",
      "1830/1830 [==============================] - 88s 48ms/step - loss: 6.2926 - accuracy: 0.8821 - val_loss: 1.0679 - val_accuracy: 0.9085\n",
      "Epoch 4/30\n",
      "1830/1830 [==============================] - 87s 48ms/step - loss: 1.6942 - accuracy: 0.8958 - val_loss: 0.3065 - val_accuracy: 0.9168\n",
      "Epoch 5/30\n",
      "1830/1830 [==============================] - 87s 47ms/step - loss: 1.2767 - accuracy: 0.9083 - val_loss: 0.2604 - val_accuracy: 0.9322\n",
      "Epoch 6/30\n",
      "1830/1830 [==============================] - 87s 47ms/step - loss: 0.5140 - accuracy: 0.9248 - val_loss: 0.1692 - val_accuracy: 0.9507\n",
      "Epoch 7/30\n",
      "1830/1830 [==============================] - 90s 49ms/step - loss: 0.2214 - accuracy: 0.9434 - val_loss: 63.0956 - val_accuracy: 0.9660\n",
      "Epoch 8/30\n",
      "1830/1830 [==============================] - 88s 48ms/step - loss: 0.1926 - accuracy: 0.9573 - val_loss: 36.1184 - val_accuracy: 0.9750\n",
      "Epoch 9/30\n",
      "1830/1830 [==============================] - 86s 47ms/step - loss: 0.1336 - accuracy: 0.9664 - val_loss: 96.8552 - val_accuracy: 0.9792\n",
      "Epoch 10/30\n",
      "1830/1830 [==============================] - 87s 48ms/step - loss: 0.1151 - accuracy: 0.9730 - val_loss: 129.4046 - val_accuracy: 0.9789\n",
      "Epoch 11/30\n",
      "1830/1830 [==============================] - 87s 48ms/step - loss: 0.1501 - accuracy: 0.9749 - val_loss: 32.1790 - val_accuracy: 0.9860\n",
      "Epoch 12/30\n",
      "1830/1830 [==============================] - 90s 49ms/step - loss: 0.1100 - accuracy: 0.9811 - val_loss: 0.0487 - val_accuracy: 0.9877\n",
      "Epoch 13/30\n",
      "1830/1830 [==============================] - 87s 47ms/step - loss: 0.0603 - accuracy: 0.9844 - val_loss: 0.0456 - val_accuracy: 0.9886\n",
      "Epoch 14/30\n",
      "1830/1830 [==============================] - 88s 48ms/step - loss: 0.3892 - accuracy: 0.9828 - val_loss: 150.3865 - val_accuracy: 0.9882\n",
      "Epoch 15/30\n",
      "1830/1830 [==============================] - 87s 48ms/step - loss: 0.0573 - accuracy: 0.9860 - val_loss: 0.0385 - val_accuracy: 0.9900\n",
      "Epoch 16/30\n",
      "1830/1830 [==============================] - 86s 47ms/step - loss: 0.0509 - accuracy: 0.9871 - val_loss: 22.6256 - val_accuracy: 0.9874\n",
      "Epoch 17/30\n",
      "1830/1830 [==============================] - 88s 48ms/step - loss: 9.1380 - accuracy: 0.9803 - val_loss: 0.0551 - val_accuracy: 0.9846\n",
      "Epoch 18/30\n",
      "1830/1830 [==============================] - 89s 48ms/step - loss: 0.1109 - accuracy: 0.9811 - val_loss: 0.0459 - val_accuracy: 0.9858\n",
      "Epoch 19/30\n",
      "1830/1830 [==============================] - 87s 48ms/step - loss: 0.0612 - accuracy: 0.9853 - val_loss: 0.0340 - val_accuracy: 0.9901\n",
      "Epoch 20/30\n",
      "1830/1830 [==============================] - 87s 47ms/step - loss: 0.0450 - accuracy: 0.9880 - val_loss: 0.0342 - val_accuracy: 0.9902\n",
      "Epoch 21/30\n",
      "1830/1830 [==============================] - 87s 48ms/step - loss: 0.0626 - accuracy: 0.9883 - val_loss: 0.0336 - val_accuracy: 0.9909\n",
      "Epoch 22/30\n",
      "1830/1830 [==============================] - 87s 47ms/step - loss: 0.0472 - accuracy: 0.9884 - val_loss: 0.0378 - val_accuracy: 0.9909\n",
      "Epoch 23/30\n",
      "1830/1830 [==============================] - 84s 46ms/step - loss: 0.0415 - accuracy: 0.9886 - val_loss: 0.0306 - val_accuracy: 0.9912\n",
      "Epoch 24/30\n",
      "1830/1830 [==============================] - 85s 46ms/step - loss: 0.0400 - accuracy: 0.9891 - val_loss: 0.0316 - val_accuracy: 0.9911\n",
      "Epoch 25/30\n",
      "1830/1830 [==============================] - 84s 46ms/step - loss: 0.0631 - accuracy: 0.9889 - val_loss: 0.0537 - val_accuracy: 0.9886\n",
      "Epoch 26/30\n",
      "1830/1830 [==============================] - 85s 46ms/step - loss: 0.0922 - accuracy: 0.9879 - val_loss: 0.0421 - val_accuracy: 0.9867\n",
      "Epoch 27/30\n",
      "1830/1830 [==============================] - 85s 46ms/step - loss: 0.0419 - accuracy: 0.9886 - val_loss: 0.0320 - val_accuracy: 0.9914\n",
      "Epoch 28/30\n",
      "1830/1830 [==============================] - 85s 46ms/step - loss: 0.0495 - accuracy: 0.9893 - val_loss: 0.0323 - val_accuracy: 0.9919\n",
      "Epoch 29/30\n",
      "1830/1830 [==============================] - 86s 47ms/step - loss: 0.0572 - accuracy: 0.9887 - val_loss: 0.0290 - val_accuracy: 0.9923\n",
      "Epoch 30/30\n",
      "1830/1830 [==============================] - 85s 46ms/step - loss: 0.1809 - accuracy: 0.9900 - val_loss: 1.9716 - val_accuracy: 0.9694\n"
     ]
    },
    {
     "data": {
      "text/plain": [
       "<tensorflow.python.keras.callbacks.History at 0x1ddfa634488>"
      ]
     },
     "execution_count": 41,
     "metadata": {},
     "output_type": "execute_result"
    }
   ],
   "source": [
    "cnn2.compile(loss = 'categorical_crossentropy', optimizer= 'adam', metrics = ['accuracy'])\n",
    "cnn2.fit(X_train, y_train, epochs=30, batch_size=256, \n",
    "         validation_data=(X_val,y_val),callbacks=[tensorboard_callback, eary_stop_callback])"
   ]
  },
  {
   "cell_type": "code",
   "execution_count": 42,
   "id": "radical-simpson",
   "metadata": {},
   "outputs": [
    {
     "data": {
      "image/png": "[encoded data removed]",
      "text/plain": [
       "<Figure size 432x288 with 1 Axes>"
      ]
     },
     "metadata": {
      "needs_background": "light"
     },
     "output_type": "display_data"
    },
    {
     "data": {
      "image/png": "[encoded data removed]",
      "text/plain": [
       "<Figure size 432x288 with 1 Axes>"
      ]
     },
     "metadata": {
      "needs_background": "light"
     },
     "output_type": "display_data"
    }
   ],
   "source": [
    "plotgraphs(cnn2)"
   ]
  },
  {
   "cell_type": "code",
   "execution_count": 43,
   "id": "bulgarian-champion",
   "metadata": {},
   "outputs": [],
   "source": [
    "predict = np.argmax(cnn2.predict(X_test),axis=1)\n",
    "\n",
    "a = np.unique(predict)\n",
    "b = np.unique(y_test)\n",
    "c = list(set(a) | set(b))"
   ]
  },
  {
   "cell_type": "code",
   "execution_count": 44,
   "id": "animated-substitute",
   "metadata": {},
   "outputs": [
    {
     "name": "stdout",
     "output_type": "stream",
     "text": [
      "        ----------Classification Report Of Classes-------------\n",
      "              precision    recall  f1-score   support\n",
      "\n",
      "           0       0.97      0.98      0.98     78177\n",
      "           1       0.88      0.66      0.76       411\n",
      "           2       0.94      1.00      0.97     25385\n",
      "           3       0.90      0.91      0.90      2030\n",
      "           4       0.99      0.97      0.98     34481\n",
      "           5       0.90      0.28      0.42      1020\n",
      "           6       0.86      0.07      0.13      1082\n",
      "           7       1.00      0.99      0.99      1095\n",
      "           8       0.00      0.00      0.00         1\n",
      "           9       1.00      0.22      0.36         9\n",
      "          10       0.99      0.99      0.99     11411\n",
      "          11       0.90      0.95      0.92       588\n",
      "          12       1.00      0.05      0.09       264\n",
      "          13       0.00      0.00      0.00         5\n",
      "          14       0.20      0.04      0.06       130\n",
      "\n",
      "    accuracy                           0.97    156089\n",
      "   macro avg       0.77      0.54      0.57    156089\n",
      "weighted avg       0.97      0.97      0.96    156089\n",
      "\n",
      "\n",
      "        ----------Validation Data------------------\n",
      "Accuarcy: 96.93315992798979\n",
      "Precision: 96.8102 %\n",
      "Recall-score: 96.9332\n",
      "F1-score: 96.4291\n"
     ]
    }
   ],
   "source": [
    "report(predict,labels_test)"
   ]
  },
  {
   "cell_type": "code",
   "execution_count": 45,
   "id": "vertical-seller",
   "metadata": {},
   "outputs": [
    {
     "name": "stdout",
     "output_type": "stream",
     "text": [
      "Model: \"sequential\"\n",
      "_________________________________________________________________\n",
      "Layer (type)                 Output Shape              Param #   \n",
      "=================================================================\n",
      "conv1d (Conv1D)              (None, 76, 64)            256       \n",
      "_________________________________________________________________\n",
      "leaky_re_lu (LeakyReLU)      (None, 76, 64)            0         \n",
      "_________________________________________________________________\n",
      "max_pooling1d (MaxPooling1D) (None, 38, 64)            0         \n",
      "_________________________________________________________________\n",
      "dropout (Dropout)            (None, 38, 64)            0         \n",
      "_________________________________________________________________\n",
      "flatten (Flatten)            (None, 2432)              0         \n",
      "_________________________________________________________________\n",
      "dense (Dense)                (None, 64)                155712    \n",
      "_________________________________________________________________\n",
      "leaky_re_lu_1 (LeakyReLU)    (None, 64)                0         \n",
      "_________________________________________________________________\n",
      "dense_1 (Dense)              (None, 32)                2080      \n",
      "_________________________________________________________________\n",
      "leaky_re_lu_2 (LeakyReLU)    (None, 32)                0         \n",
      "_________________________________________________________________\n",
      "dense_2 (Dense)              (None, 15)                495       \n",
      "=================================================================\n",
      "Total params: 158,543\n",
      "Trainable params: 158,543\n",
      "Non-trainable params: 0\n",
      "_________________________________________________________________\n"
     ]
    }
   ],
   "source": [
    "#hyperparameters\n",
    "keras.backend.clear_session()\n",
    "SEED = 1040941203\n",
    "hidden_initializer = random_uniform(seed=SEED)\n",
    "\n",
    "\n",
    "# create model\n",
    "cnn1 = Sequential()\n",
    "cnn1.add(Conv1D(64, 3, input_shape=(78, 1)))\n",
    "cnn1.add(LeakyReLU(alpha=0.1))\n",
    "cnn1.add(MaxPooling1D(pool_size=2))\n",
    "cnn1.add(Dropout(0.3))\n",
    "\n",
    "\n",
    "cnn1.add(Flatten())\n",
    "cnn1.add(Dense(64, input_dim=15, kernel_initializer=hidden_initializer))\n",
    "cnn1.add(LeakyReLU(alpha=0.1))\n",
    "cnn1.add(Dense(32))\n",
    "cnn1.add(LeakyReLU(alpha=0.1))\n",
    "cnn1.add(Dense(15, activation='softmax'))\n",
    "\n",
    "cnn1.summary()"
   ]
  },
  {
   "cell_type": "code",
   "execution_count": 46,
   "id": "advisory-commercial",
   "metadata": {
    "scrolled": true
   },
   "outputs": [
    {
     "name": "stdout",
     "output_type": "stream",
     "text": [
      "Epoch 1/30\n",
      "3659/3659 [==============================] - 72s 19ms/step - loss: 1441.2139 - accuracy: 0.8646 - val_loss: 18.3884 - val_accuracy: 0.9374\n",
      "Epoch 2/30\n",
      "3659/3659 [==============================] - 70s 19ms/step - loss: 17.7586 - accuracy: 0.9324 - val_loss: 0.6795 - val_accuracy: 0.9406\n",
      "Epoch 3/30\n",
      "3659/3659 [==============================] - 71s 19ms/step - loss: 3.2670 - accuracy: 0.9428 - val_loss: 12.9801 - val_accuracy: 0.9551\n",
      "Epoch 4/30\n",
      "3659/3659 [==============================] - 70s 19ms/step - loss: 9.0305 - accuracy: 0.9452 - val_loss: 3.9958 - val_accuracy: 0.9626\n",
      "Epoch 5/30\n",
      "3659/3659 [==============================] - 71s 19ms/step - loss: 1.4846 - accuracy: 0.9518 - val_loss: 1.2180 - val_accuracy: 0.9654\n",
      "Epoch 6/30\n",
      "3659/3659 [==============================] - 71s 19ms/step - loss: 1.5631 - accuracy: 0.9543 - val_loss: 0.8288 - val_accuracy: 0.9624\n",
      "Epoch 7/30\n",
      "3659/3659 [==============================] - 72s 20ms/step - loss: 3.2886 - accuracy: 0.9525 - val_loss: 60.6852 - val_accuracy: 0.9599\n",
      "Epoch 8/30\n",
      "3659/3659 [==============================] - 71s 19ms/step - loss: 1.4307 - accuracy: 0.9570 - val_loss: 13.7039 - val_accuracy: 0.9750\n",
      "Epoch 9/30\n",
      "3659/3659 [==============================] - 74s 20ms/step - loss: 1.7774 - accuracy: 0.9552 - val_loss: 1.1357 - val_accuracy: 0.9633\n",
      "Epoch 10/30\n",
      "3659/3659 [==============================] - 76s 21ms/step - loss: 9.3985 - accuracy: 0.9539 - val_loss: 0.7999 - val_accuracy: 0.9536\n",
      "Epoch 11/30\n",
      "3659/3659 [==============================] - 73s 20ms/step - loss: 0.6284 - accuracy: 0.9608 - val_loss: 1.7386 - val_accuracy: 0.9639\n",
      "Epoch 12/30\n",
      "3659/3659 [==============================] - 73s 20ms/step - loss: 0.9630 - accuracy: 0.9605 - val_loss: 95.5836 - val_accuracy: 0.9585\n",
      "Epoch 13/30\n",
      "3659/3659 [==============================] - 63s 17ms/step - loss: 1.0594 - accuracy: 0.9567 - val_loss: 223.0676 - val_accuracy: 0.9568\n",
      "Epoch 14/30\n",
      "3659/3659 [==============================] - 63s 17ms/step - loss: 5.2492 - accuracy: 0.9526 - val_loss: 2.4546 - val_accuracy: 0.9573\n",
      "Epoch 15/30\n",
      "3659/3659 [==============================] - 69s 19ms/step - loss: 1.2492 - accuracy: 0.9533 - val_loss: 0.7686 - val_accuracy: 0.9728\n",
      "Epoch 16/30\n",
      "3659/3659 [==============================] - 72s 20ms/step - loss: 0.7559 - accuracy: 0.9606 - val_loss: 0.5484 - val_accuracy: 0.9554\n",
      "Epoch 17/30\n",
      "3659/3659 [==============================] - 73s 20ms/step - loss: 0.7892 - accuracy: 0.9610 - val_loss: 0.4190 - val_accuracy: 0.9713\n",
      "Epoch 18/30\n",
      "3659/3659 [==============================] - 72s 20ms/step - loss: 1.0372 - accuracy: 0.9560 - val_loss: 0.2958 - val_accuracy: 0.9709\n",
      "Epoch 19/30\n",
      "3659/3659 [==============================] - 73s 20ms/step - loss: 1.2516 - accuracy: 0.9567 - val_loss: 0.2300 - val_accuracy: 0.9579\n",
      "Epoch 20/30\n",
      "3659/3659 [==============================] - 72s 20ms/step - loss: 1.4381 - accuracy: 0.9564 - val_loss: 0.2986 - val_accuracy: 0.9728\n",
      "Epoch 21/30\n",
      "3659/3659 [==============================] - 71s 19ms/step - loss: 0.4862 - accuracy: 0.9600 - val_loss: 471.1593 - val_accuracy: 0.9269\n",
      "Epoch 22/30\n",
      "3659/3659 [==============================] - 74s 20ms/step - loss: 36.4606 - accuracy: 0.9499 - val_loss: 0.2305 - val_accuracy: 0.9684\n",
      "Epoch 23/30\n",
      "3659/3659 [==============================] - 73s 20ms/step - loss: 0.7832 - accuracy: 0.9622 - val_loss: 0.5403 - val_accuracy: 0.9745\n",
      "Epoch 24/30\n",
      "3659/3659 [==============================] - 72s 20ms/step - loss: 0.7757 - accuracy: 0.9617 - val_loss: 2.2960 - val_accuracy: 0.9681\n",
      "Epoch 25/30\n",
      "3659/3659 [==============================] - 73s 20ms/step - loss: 0.8677 - accuracy: 0.9605 - val_loss: 0.3923 - val_accuracy: 0.9664\n",
      "Epoch 26/30\n",
      "3659/3659 [==============================] - 72s 20ms/step - loss: 3.3285 - accuracy: 0.9587 - val_loss: 16.9142 - val_accuracy: 0.9749\n",
      "Epoch 27/30\n",
      "3659/3659 [==============================] - 71s 19ms/step - loss: 11.2146 - accuracy: 0.9587 - val_loss: 0.4605 - val_accuracy: 0.9679\n",
      "Epoch 28/30\n",
      "3659/3659 [==============================] - 73s 20ms/step - loss: 0.4590 - accuracy: 0.9609 - val_loss: 3.4911 - val_accuracy: 0.9515\n",
      "Epoch 29/30\n",
      "3659/3659 [==============================] - 73s 20ms/step - loss: 0.5727 - accuracy: 0.9607 - val_loss: 0.5274 - val_accuracy: 0.9584\n",
      "Epoch 30/30\n",
      "3659/3659 [==============================] - 74s 20ms/step - loss: 1.3096 - accuracy: 0.9588 - val_loss: 1.0033 - val_accuracy: 0.9679\n"
     ]
    },
    {
     "data": {
      "text/plain": [
       "<tensorflow.python.keras.callbacks.History at 0x1ddfa5920c8>"
      ]
     },
     "execution_count": 46,
     "metadata": {},
     "output_type": "execute_result"
    }
   ],
   "source": [
    "cnn1.compile(loss = 'categorical_crossentropy', optimizer= 'adam', metrics = ['accuracy'])\n",
    "cnn1.fit(X_train, y_train, epochs=30, batch_size=128, \n",
    "         validation_data=(X_val,y_val),callbacks=[tensorboard_callback, eary_stop_callback])"
   ]
  },
  {
   "cell_type": "code",
   "execution_count": 47,
   "id": "contrary-catch",
   "metadata": {},
   "outputs": [
    {
     "data": {
      "image/png": "[encoded data removed]",
      "text/plain": [
       "<Figure size 432x288 with 1 Axes>"
      ]
     },
     "metadata": {
      "needs_background": "light"
     },
     "output_type": "display_data"
    },
    {
     "data": {
      "image/png": "[encoded data removed]",
      "text/plain": [
       "<Figure size 432x288 with 1 Axes>"
      ]
     },
     "metadata": {
      "needs_background": "light"
     },
     "output_type": "display_data"
    }
   ],
   "source": [
    "plotgraphs(cnn1)"
   ]
  },
  {
   "cell_type": "code",
   "execution_count": 48,
   "id": "sharing-receptor",
   "metadata": {},
   "outputs": [],
   "source": [
    "predict = np.argmax(cnn1.predict(X_test),axis=1)\n",
    "\n",
    "a = np.unique(predict)\n",
    "b = np.unique(y_test)\n",
    "c = list(set(a) | set(b))"
   ]
  },
  {
   "cell_type": "code",
   "execution_count": 49,
   "id": "raised-potter",
   "metadata": {},
   "outputs": [
    {
     "name": "stdout",
     "output_type": "stream",
     "text": [
      "        ----------Classification Report Of Classes-------------\n",
      "              precision    recall  f1-score   support\n",
      "\n",
      "           0       0.98      0.98      0.98     78177\n",
      "           1       0.83      0.37      0.51       411\n",
      "           2       0.94      1.00      0.97     25385\n",
      "           3       0.77      0.82      0.80      2030\n",
      "           4       0.99      0.96      0.97     34481\n",
      "           5       0.79      0.76      0.77      1020\n",
      "           6       0.86      0.32      0.47      1082\n",
      "           7       0.98      0.99      0.99      1095\n",
      "           8       0.00      0.00      0.00         1\n",
      "           9       0.00      0.00      0.00         9\n",
      "          10       0.98      0.99      0.98     11411\n",
      "          11       0.99      0.95      0.97       588\n",
      "          12       0.61      0.85      0.71       264\n",
      "          13       0.00      0.00      0.00         5\n",
      "          14       0.00      0.00      0.00       130\n",
      "\n",
      "    accuracy                           0.97    156089\n",
      "   macro avg       0.65      0.60      0.61    156089\n",
      "weighted avg       0.97      0.97      0.97    156089\n",
      "\n",
      "\n",
      "        ----------Validation Data------------------\n",
      "Accuarcy: 96.72814868440442\n",
      "Precision: 96.6678 %\n",
      "Recall-score: 96.7281\n",
      "F1-score: 96.5661\n"
     ]
    }
   ],
   "source": [
    "report(predict,labels_test)"
   ]
  },
  {
   "cell_type": "markdown",
   "id": "vocational-weekend",
   "metadata": {},
   "source": [
    "### RNN Models"
   ]
  },
  {
   "cell_type": "code",
   "execution_count": 50,
   "id": "prescribed-aruba",
   "metadata": {},
   "outputs": [],
   "source": [
    "# reshape input to be [samples, time steps, features] for RNN\n",
    "RNN_features_train = np.reshape(features_train, (features_train.shape[0],features_train.shape[1],1))\n",
    "RNN_features_test = np.reshape(features_test, (features_test.shape[0],features_test.shape[1],1))\n",
    "RNN_features_val = np.reshape(features_val, (features_val.shape[0],features_val.shape[1],1))"
   ]
  },
  {
   "cell_type": "code",
   "execution_count": 51,
   "id": "regulated-lottery",
   "metadata": {},
   "outputs": [
    {
     "name": "stdout",
     "output_type": "stream",
     "text": [
      "Model: \"sequential\"\n",
      "_________________________________________________________________\n",
      "Layer (type)                 Output Shape              Param #   \n",
      "=================================================================\n",
      "simple_rnn (SimpleRNN)       (None, 78, 32)            1088      \n",
      "_________________________________________________________________\n",
      "dropout (Dropout)            (None, 78, 32)            0         \n",
      "_________________________________________________________________\n",
      "flatten (Flatten)            (None, 2496)              0         \n",
      "_________________________________________________________________\n",
      "dense (Dense)                (None, 32)                79904     \n",
      "_________________________________________________________________\n",
      "leaky_re_lu (LeakyReLU)      (None, 32)                0         \n",
      "_________________________________________________________________\n",
      "dense_1 (Dense)              (None, 16)                528       \n",
      "_________________________________________________________________\n",
      "leaky_re_lu_1 (LeakyReLU)    (None, 16)                0         \n",
      "_________________________________________________________________\n",
      "dense_2 (Dense)              (None, 15)                255       \n",
      "=================================================================\n",
      "Total params: 81,775\n",
      "Trainable params: 81,775\n",
      "Non-trainable params: 0\n",
      "_________________________________________________________________\n"
     ]
    }
   ],
   "source": [
    "#hyperparameters\n",
    "keras.backend.clear_session()\n",
    "SEED = 1040941203\n",
    "hidden_initializer = random_uniform(seed=SEED)\n",
    "# Initialising the RNN\n",
    "rnn1 = Sequential()\n",
    "\n",
    "# Adding the first RNN layer and some Dropout regularisation\n",
    "rnn1.add(SimpleRNN(units = 32,activation='relu', return_sequences = True,  input_shape = (78,1)))\n",
    "rnn1.add(Dropout(0.1))\n",
    "\n",
    "# Adding the output layer\n",
    "rnn1.add(Flatten())\n",
    "rnn1.add(Dense(32, input_dim=25, kernel_initializer=hidden_initializer))\n",
    "rnn1.add(LeakyReLU(alpha=0.1))\n",
    "rnn1.add(Dense(16))\n",
    "rnn1.add(LeakyReLU(alpha=0.1))\n",
    "rnn1.add(Dense(units = 15, activation='softmax'))\n",
    "\n",
    "rnn1.summary()"
   ]
  },
  {
   "cell_type": "code",
   "execution_count": 54,
   "id": "respective-database",
   "metadata": {
    "scrolled": true
   },
   "outputs": [
    {
     "name": "stdout",
     "output_type": "stream",
     "text": [
      "Epoch 1/30\n",
      "1830/1830 [==============================] - 73s 39ms/step - loss: 2.5822 - accuracy: 0.9478 - val_loss: 0.0956 - val_accuracy: 0.9802\n",
      "Epoch 2/30\n",
      "1830/1830 [==============================] - 71s 39ms/step - loss: 0.1023 - accuracy: 0.9755 - val_loss: 0.0380 - val_accuracy: 0.9916\n",
      "Epoch 3/30\n",
      "1830/1830 [==============================] - 71s 39ms/step - loss: 0.0408 - accuracy: 0.9903 - val_loss: 0.0247 - val_accuracy: 0.9942\n",
      "Epoch 4/30\n",
      "1830/1830 [==============================] - 70s 38ms/step - loss: 0.0259 - accuracy: 0.9932 - val_loss: 0.0197 - val_accuracy: 0.9948\n",
      "Epoch 5/30\n",
      "1830/1830 [==============================] - 70s 38ms/step - loss: 0.0213 - accuracy: 0.9942 - val_loss: 0.0162 - val_accuracy: 0.9957\n",
      "Epoch 6/30\n",
      "1830/1830 [==============================] - 71s 39ms/step - loss: 0.0190 - accuracy: 0.9946 - val_loss: 0.0143 - val_accuracy: 0.9958\n",
      "Epoch 7/30\n",
      "1830/1830 [==============================] - 71s 39ms/step - loss: 0.0169 - accuracy: 0.9951 - val_loss: 0.0132 - val_accuracy: 0.9961\n",
      "Epoch 8/30\n",
      "1830/1830 [==============================] - 71s 39ms/step - loss: 0.0158 - accuracy: 0.9952 - val_loss: 0.0144 - val_accuracy: 0.9960\n",
      "Epoch 9/30\n",
      "1830/1830 [==============================] - 71s 39ms/step - loss: 0.0451 - accuracy: 0.9953 - val_loss: 0.0126 - val_accuracy: 0.9964\n",
      "Epoch 10/30\n",
      "1830/1830 [==============================] - 71s 39ms/step - loss: 0.0140 - accuracy: 0.9959 - val_loss: 0.0136 - val_accuracy: 0.9961\n",
      "Epoch 11/30\n",
      "1830/1830 [==============================] - 71s 39ms/step - loss: 0.0141 - accuracy: 0.9959 - val_loss: 0.0122 - val_accuracy: 0.9965\n",
      "Epoch 12/30\n",
      "1830/1830 [==============================] - 71s 39ms/step - loss: 0.0142 - accuracy: 0.9957 - val_loss: 0.0124 - val_accuracy: 0.9964\n",
      "Epoch 13/30\n",
      "1830/1830 [==============================] - 71s 39ms/step - loss: 0.0134 - accuracy: 0.9961 - val_loss: 0.0118 - val_accuracy: 0.9966\n",
      "Epoch 14/30\n",
      "1830/1830 [==============================] - 70s 38ms/step - loss: 0.0137 - accuracy: 0.9959 - val_loss: 0.0123 - val_accuracy: 0.9964\n",
      "Epoch 15/30\n",
      "1830/1830 [==============================] - 71s 39ms/step - loss: 0.0776 - accuracy: 0.9959 - val_loss: 0.0118 - val_accuracy: 0.9962\n",
      "Epoch 16/30\n",
      "1830/1830 [==============================] - 73s 40ms/step - loss: 0.0121 - accuracy: 0.9963 - val_loss: 0.0117 - val_accuracy: 0.9964\n",
      "Epoch 17/30\n",
      "1830/1830 [==============================] - 72s 39ms/step - loss: 0.0121 - accuracy: 0.9963 - val_loss: 9.2725 - val_accuracy: 0.9963\n",
      "Epoch 18/30\n",
      "1830/1830 [==============================] - 71s 39ms/step - loss: 2.5771 - accuracy: 0.9952 - val_loss: 0.0126 - val_accuracy: 0.9954\n",
      "Epoch 19/30\n",
      "1830/1830 [==============================] - 69s 38ms/step - loss: 0.0129 - accuracy: 0.9961 - val_loss: 0.0116 - val_accuracy: 0.9966\n",
      "Epoch 20/30\n",
      "1830/1830 [==============================] - 68s 37ms/step - loss: 0.0121 - accuracy: 0.9963 - val_loss: 0.0109 - val_accuracy: 0.9967\n",
      "Epoch 21/30\n",
      "1830/1830 [==============================] - 68s 37ms/step - loss: 0.0117 - accuracy: 0.9964 - val_loss: 0.0110 - val_accuracy: 0.9967\n",
      "Epoch 22/30\n",
      "1830/1830 [==============================] - 70s 38ms/step - loss: 0.0116 - accuracy: 0.9963 - val_loss: 0.0111 - val_accuracy: 0.9966\n",
      "Epoch 23/30\n",
      "1830/1830 [==============================] - 69s 38ms/step - loss: 0.0111 - accuracy: 0.9965 - val_loss: 0.0115 - val_accuracy: 0.9965\n",
      "Epoch 24/30\n",
      "1830/1830 [==============================] - 68s 37ms/step - loss: 0.0113 - accuracy: 0.9965 - val_loss: 0.0105 - val_accuracy: 0.9967\n",
      "Epoch 25/30\n",
      "1830/1830 [==============================] - 67s 37ms/step - loss: 0.0112 - accuracy: 0.9964 - val_loss: 0.0106 - val_accuracy: 0.9966\n",
      "Epoch 26/30\n",
      "1830/1830 [==============================] - 66s 36ms/step - loss: 0.0110 - accuracy: 0.9966 - val_loss: 0.0136 - val_accuracy: 0.9963\n",
      "Epoch 27/30\n",
      "1830/1830 [==============================] - 68s 37ms/step - loss: 0.0119 - accuracy: 0.9965 - val_loss: 0.0117 - val_accuracy: 0.9965\n",
      "Epoch 28/30\n",
      "1830/1830 [==============================] - 68s 37ms/step - loss: 0.0164 - accuracy: 0.9967 - val_loss: 0.0110 - val_accuracy: 0.9967\n",
      "Epoch 29/30\n",
      "1830/1830 [==============================] - 68s 37ms/step - loss: 0.0115 - accuracy: 0.9964 - val_loss: 0.0115 - val_accuracy: 0.9966\n",
      "Epoch 30/30\n",
      "1830/1830 [==============================] - 70s 38ms/step - loss: 0.0105 - accuracy: 0.9966 - val_loss: 0.0104 - val_accuracy: 0.9966\n"
     ]
    },
    {
     "data": {
      "text/plain": [
       "<tensorflow.python.keras.callbacks.History at 0x1ddf90e1148>"
      ]
     },
     "execution_count": 54,
     "metadata": {},
     "output_type": "execute_result"
    }
   ],
   "source": [
    "rnn1.compile(loss = \"categorical_crossentropy\", optimizer='adam', metrics=['accuracy'])\n",
    "rnn1.fit(RNN_features_train, y_train, epochs=30, batch_size=256, \n",
    "         validation_data=(RNN_features_val,y_val),callbacks=[tensorboard_callback, eary_stop_callback])"
   ]
  },
  {
   "cell_type": "code",
   "execution_count": 55,
   "id": "understood-village",
   "metadata": {},
   "outputs": [
    {
     "data": {
      "image/png": "[encoded data removed]",
      "text/plain": [
       "<Figure size 432x288 with 1 Axes>"
      ]
     },
     "metadata": {
      "needs_background": "light"
     },
     "output_type": "display_data"
    },
    {
     "data": {
      "image/png": "[encoded data removed]",
      "text/plain": [
       "<Figure size 432x288 with 1 Axes>"
      ]
     },
     "metadata": {
      "needs_background": "light"
     },
     "output_type": "display_data"
    }
   ],
   "source": [
    "plotgraphs(rnn1)"
   ]
  },
  {
   "cell_type": "code",
   "execution_count": 56,
   "id": "banned-funds",
   "metadata": {},
   "outputs": [],
   "source": [
    "predict = np.argmax(rnn1.predict(X_test),axis=1)\n",
    "\n",
    "a = np.unique(predict)\n",
    "b = np.unique(y_test)\n",
    "c = list(set(a) | set(b))"
   ]
  },
  {
   "cell_type": "code",
   "execution_count": 57,
   "id": "selected-academy",
   "metadata": {},
   "outputs": [
    {
     "name": "stdout",
     "output_type": "stream",
     "text": [
      "        ----------Classification Report Of Classes-------------\n",
      "              precision    recall  f1-score   support\n",
      "\n",
      "           0       1.00      1.00      1.00     78177\n",
      "           1       0.92      0.66      0.77       411\n",
      "           2       1.00      1.00      1.00     25385\n",
      "           3       0.98      1.00      0.99      2030\n",
      "           4       1.00      1.00      1.00     34481\n",
      "           5       0.99      0.99      0.99      1020\n",
      "           6       0.99      1.00      0.99      1082\n",
      "           7       1.00      1.00      1.00      1095\n",
      "           8       1.00      1.00      1.00         1\n",
      "           9       1.00      0.33      0.50         9\n",
      "          10       1.00      1.00      1.00     11411\n",
      "          11       0.99      1.00      0.99       588\n",
      "          12       0.67      0.98      0.80       264\n",
      "          13       1.00      0.20      0.33         5\n",
      "          14       0.60      0.05      0.09       130\n",
      "\n",
      "    accuracy                           1.00    156089\n",
      "   macro avg       0.94      0.81      0.83    156089\n",
      "weighted avg       1.00      1.00      1.00    156089\n",
      "\n",
      "\n",
      "        ----------Validation Data------------------\n",
      "Accuarcy: 99.67006002985477\n",
      "Precision: 99.6603 %\n",
      "Recall-score: 99.6701\n",
      "F1-score: 99.6329\n"
     ]
    }
   ],
   "source": [
    "report(predict,labels_test)"
   ]
  },
  {
   "cell_type": "code",
   "execution_count": 58,
   "id": "higher-zimbabwe",
   "metadata": {},
   "outputs": [
    {
     "name": "stdout",
     "output_type": "stream",
     "text": [
      "Model: \"sequential\"\n",
      "_________________________________________________________________\n",
      "Layer (type)                 Output Shape              Param #   \n",
      "=================================================================\n",
      "simple_rnn (SimpleRNN)       (None, 78, 32)            1088      \n",
      "_________________________________________________________________\n",
      "dropout (Dropout)            (None, 78, 32)            0         \n",
      "_________________________________________________________________\n",
      "simple_rnn_1 (SimpleRNN)     (None, 78, 32)            2080      \n",
      "_________________________________________________________________\n",
      "dropout_1 (Dropout)          (None, 78, 32)            0         \n",
      "_________________________________________________________________\n",
      "flatten (Flatten)            (None, 2496)              0         \n",
      "_________________________________________________________________\n",
      "dense (Dense)                (None, 32)                79904     \n",
      "_________________________________________________________________\n",
      "leaky_re_lu (LeakyReLU)      (None, 32)                0         \n",
      "_________________________________________________________________\n",
      "dense_1 (Dense)              (None, 16)                528       \n",
      "_________________________________________________________________\n",
      "leaky_re_lu_1 (LeakyReLU)    (None, 16)                0         \n",
      "_________________________________________________________________\n",
      "dense_2 (Dense)              (None, 15)                255       \n",
      "=================================================================\n",
      "Total params: 83,855\n",
      "Trainable params: 83,855\n",
      "Non-trainable params: 0\n",
      "_________________________________________________________________\n"
     ]
    }
   ],
   "source": [
    "#hyperparameters\n",
    "keras.backend.clear_session()\n",
    "SEED = 1040941203\n",
    "hidden_initializer = random_uniform(seed=SEED)\n",
    "# Initialising the RNN\n",
    "rnn2 = Sequential()\n",
    "\n",
    "# Adding the first RNN layer and some Dropout regularisation\n",
    "rnn2.add(SimpleRNN(units = 32,activation='relu', return_sequences = True,  input_shape = (78,1)))\n",
    "rnn2.add(Dropout(0.1))\n",
    "\n",
    "# Adding a second RNN layer and some Dropout regularisation\n",
    "rnn2.add(SimpleRNN(units = 32,activation='relu', return_sequences = True))\n",
    "rnn2.add(Dropout(0.1))\n",
    "\n",
    "# Adding the output layer\n",
    "rnn2.add(Flatten())\n",
    "rnn2.add(Dense(32, input_dim=25, kernel_initializer=hidden_initializer))\n",
    "rnn2.add(LeakyReLU(alpha=0.1))\n",
    "rnn2.add(Dense(16))\n",
    "rnn2.add(LeakyReLU(alpha=0.1))\n",
    "rnn2.add(Dense(units = 15, activation='softmax'))\n",
    "\n",
    "rnn2.summary()"
   ]
  },
  {
   "cell_type": "code",
   "execution_count": 59,
   "id": "completed-pizza",
   "metadata": {
    "scrolled": true
   },
   "outputs": [
    {
     "name": "stdout",
     "output_type": "stream",
     "text": [
      "Epoch 1/30\n",
      "915/915 [==============================] - 133s 143ms/step - loss: 1197.1245 - accuracy: 0.6827 - val_loss: 14.4832 - val_accuracy: 0.9445\n",
      "Epoch 2/30\n",
      "915/915 [==============================] - 126s 137ms/step - loss: 22.3897 - accuracy: 0.9273 - val_loss: 5.1413 - val_accuracy: 0.9549\n",
      "Epoch 3/30\n",
      "915/915 [==============================] - 127s 139ms/step - loss: 8.9092 - accuracy: 0.9431 - val_loss: 1.7748 - val_accuracy: 0.9613\n",
      "Epoch 4/30\n",
      "915/915 [==============================] - 126s 138ms/step - loss: 3.0285 - accuracy: 0.9523 - val_loss: 1.0382 - val_accuracy: 0.9742\n",
      "Epoch 5/30\n",
      "915/915 [==============================] - 122s 134ms/step - loss: 1.7778 - accuracy: 0.9615 - val_loss: 0.1149 - val_accuracy: 0.9747\n",
      "Epoch 6/30\n",
      "915/915 [==============================] - 122s 133ms/step - loss: 0.9606 - accuracy: 0.9734 - val_loss: 0.0679 - val_accuracy: 0.9860\n",
      "Epoch 7/30\n",
      "915/915 [==============================] - 120s 131ms/step - loss: 0.4149 - accuracy: 0.9831 - val_loss: 0.0397 - val_accuracy: 0.9912\n",
      "Epoch 8/30\n",
      "915/915 [==============================] - 119s 130ms/step - loss: 0.2119 - accuracy: 0.9867 - val_loss: 0.0343 - val_accuracy: 0.9918\n",
      "Epoch 9/30\n",
      "915/915 [==============================] - 119s 130ms/step - loss: 0.1712 - accuracy: 0.9892 - val_loss: 0.0317 - val_accuracy: 0.9927\n",
      "Epoch 10/30\n",
      "915/915 [==============================] - 121s 132ms/step - loss: 0.1036 - accuracy: 0.9907 - val_loss: 0.0343 - val_accuracy: 0.9915\n",
      "Epoch 11/30\n",
      "915/915 [==============================] - 122s 133ms/step - loss: 0.0696 - accuracy: 0.9913 - val_loss: 0.0242 - val_accuracy: 0.9941\n",
      "Epoch 12/30\n",
      "915/915 [==============================] - 118s 129ms/step - loss: 0.0730 - accuracy: 0.9923 - val_loss: 0.0234 - val_accuracy: 0.9947\n",
      "Epoch 13/30\n",
      "915/915 [==============================] - 117s 128ms/step - loss: 0.0642 - accuracy: 0.9929 - val_loss: 0.0249 - val_accuracy: 0.9936\n",
      "Epoch 14/30\n",
      "915/915 [==============================] - 121s 132ms/step - loss: 0.0346 - accuracy: 0.9937 - val_loss: 0.0184 - val_accuracy: 0.9950\n",
      "Epoch 15/30\n",
      "915/915 [==============================] - 121s 132ms/step - loss: 0.0484 - accuracy: 0.9938 - val_loss: 0.0179 - val_accuracy: 0.9949\n",
      "Epoch 16/30\n",
      "915/915 [==============================] - 120s 131ms/step - loss: 0.0241 - accuracy: 0.9942 - val_loss: 0.0171 - val_accuracy: 0.9951\n",
      "Epoch 17/30\n",
      "915/915 [==============================] - 118s 129ms/step - loss: 0.0225 - accuracy: 0.9943 - val_loss: 0.0168 - val_accuracy: 0.9956\n",
      "Epoch 18/30\n",
      "915/915 [==============================] - 122s 133ms/step - loss: 0.0194 - accuracy: 0.9947 - val_loss: 0.0187 - val_accuracy: 0.9952\n",
      "Epoch 19/30\n",
      "915/915 [==============================] - 120s 131ms/step - loss: 0.0510 - accuracy: 0.9944 - val_loss: 0.0175 - val_accuracy: 0.9956\n",
      "Epoch 20/30\n",
      "915/915 [==============================] - 121s 132ms/step - loss: 0.0182 - accuracy: 0.9951 - val_loss: 0.0150 - val_accuracy: 0.9960\n",
      "Epoch 21/30\n",
      "915/915 [==============================] - 119s 130ms/step - loss: 0.0174 - accuracy: 0.9953 - val_loss: 0.0150 - val_accuracy: 0.9960\n",
      "Epoch 22/30\n",
      "915/915 [==============================] - 118s 129ms/step - loss: 0.0311 - accuracy: 0.9952 - val_loss: 0.0135 - val_accuracy: 0.9958\n",
      "Epoch 23/30\n",
      "915/915 [==============================] - 118s 129ms/step - loss: 0.0254 - accuracy: 0.9954 - val_loss: 2.8224 - val_accuracy: 0.9957\n",
      "Epoch 24/30\n",
      "915/915 [==============================] - 121s 132ms/step - loss: 0.0614 - accuracy: 0.9947 - val_loss: 0.0156 - val_accuracy: 0.9950\n",
      "Epoch 25/30\n",
      "915/915 [==============================] - 121s 133ms/step - loss: 0.0183 - accuracy: 0.9950 - val_loss: 0.0134 - val_accuracy: 0.9962\n",
      "Epoch 26/30\n",
      "915/915 [==============================] - 120s 131ms/step - loss: 0.1571 - accuracy: 0.9958 - val_loss: 0.0138 - val_accuracy: 0.9956\n",
      "Epoch 27/30\n",
      "915/915 [==============================] - 122s 133ms/step - loss: 0.0145 - accuracy: 0.9957 - val_loss: 0.0126 - val_accuracy: 0.9964\n",
      "Epoch 28/30\n",
      "915/915 [==============================] - 123s 134ms/step - loss: 0.0141 - accuracy: 0.9958 - val_loss: 0.0144 - val_accuracy: 0.9961\n",
      "Epoch 29/30\n",
      "915/915 [==============================] - 121s 133ms/step - loss: 0.0150 - accuracy: 0.9960 - val_loss: 0.0117 - val_accuracy: 0.9965\n",
      "Epoch 30/30\n",
      "915/915 [==============================] - 123s 134ms/step - loss: 0.0150 - accuracy: 0.9962 - val_loss: 0.0122 - val_accuracy: 0.9964\n"
     ]
    },
    {
     "data": {
      "text/plain": [
       "<tensorflow.python.keras.callbacks.History at 0x1ddf97d0ec8>"
      ]
     },
     "execution_count": 59,
     "metadata": {},
     "output_type": "execute_result"
    }
   ],
   "source": [
    "rnn2.compile(loss = \"categorical_crossentropy\", optimizer='adam', metrics=['accuracy'])\n",
    "rnn2.fit(RNN_features_train, y_train, epochs=30, batch_size=512, \n",
    "         validation_data=(RNN_features_val,y_val),callbacks=[tensorboard_callback, eary_stop_callback])"
   ]
  },
  {
   "cell_type": "code",
   "execution_count": 60,
   "id": "attended-butter",
   "metadata": {},
   "outputs": [
    {
     "data": {
      "image/png": "[encoded data removed]",
      "text/plain": [
       "<Figure size 432x288 with 1 Axes>"
      ]
     },
     "metadata": {
      "needs_background": "light"
     },
     "output_type": "display_data"
    },
    {
     "data": {
      "image/png": "[encoded data removed]",
      "text/plain": [
       "<Figure size 432x288 with 1 Axes>"
      ]
     },
     "metadata": {
      "needs_background": "light"
     },
     "output_type": "display_data"
    }
   ],
   "source": [
    "plotgraphs(rnn2)"
   ]
  },
  {
   "cell_type": "code",
   "execution_count": 61,
   "id": "clear-joining",
   "metadata": {},
   "outputs": [],
   "source": [
    "predict = np.argmax(rnn2.predict(X_test),axis=1)\n",
    "\n",
    "a = np.unique(predict)\n",
    "b = np.unique(y_test)\n",
    "c = list(set(a) | set(b))"
   ]
  },
  {
   "cell_type": "code",
   "execution_count": 62,
   "id": "awful-latitude",
   "metadata": {},
   "outputs": [
    {
     "name": "stdout",
     "output_type": "stream",
     "text": [
      "        ----------Classification Report Of Classes-------------\n",
      "              precision    recall  f1-score   support\n",
      "\n",
      "           0       1.00      1.00      1.00     78177\n",
      "           1       0.77      0.74      0.76       411\n",
      "           2       1.00      1.00      1.00     25385\n",
      "           3       0.99      0.99      0.99      2030\n",
      "           4       1.00      1.00      1.00     34481\n",
      "           5       0.99      0.99      0.99      1020\n",
      "           6       0.99      1.00      0.99      1082\n",
      "           7       1.00      1.00      1.00      1095\n",
      "           8       1.00      1.00      1.00         1\n",
      "           9       0.43      0.33      0.38         9\n",
      "          10       1.00      1.00      1.00     11411\n",
      "          11       0.99      0.98      0.98       588\n",
      "          12       0.64      0.99      0.78       264\n",
      "          13       0.00      0.00      0.00         5\n",
      "          14       0.00      0.00      0.00       130\n",
      "\n",
      "    accuracy                           1.00    156089\n",
      "   macro avg       0.79      0.80      0.79    156089\n",
      "weighted avg       1.00      1.00      1.00    156089\n",
      "\n",
      "\n",
      "        ----------Validation Data------------------\n",
      "Accuarcy: 99.63866768318074\n",
      "Precision: 99.5815 %\n",
      "Recall-score: 99.6387\n",
      "F1-score: 99.6037\n"
     ]
    }
   ],
   "source": [
    "report(predict,labels_test)"
   ]
  },
  {
   "cell_type": "code",
   "execution_count": 63,
   "id": "alert-retirement",
   "metadata": {},
   "outputs": [
    {
     "name": "stdout",
     "output_type": "stream",
     "text": [
      "Model: \"sequential\"\n",
      "_________________________________________________________________\n",
      "Layer (type)                 Output Shape              Param #   \n",
      "=================================================================\n",
      "simple_rnn (SimpleRNN)       (None, 78, 32)            1088      \n",
      "_________________________________________________________________\n",
      "dropout (Dropout)            (None, 78, 32)            0         \n",
      "_________________________________________________________________\n",
      "simple_rnn_1 (SimpleRNN)     (None, 78, 32)            2080      \n",
      "_________________________________________________________________\n",
      "dropout_1 (Dropout)          (None, 78, 32)            0         \n",
      "_________________________________________________________________\n",
      "simple_rnn_2 (SimpleRNN)     (None, 78, 32)            2080      \n",
      "_________________________________________________________________\n",
      "dropout_2 (Dropout)          (None, 78, 32)            0         \n",
      "_________________________________________________________________\n",
      "flatten (Flatten)            (None, 2496)              0         \n",
      "_________________________________________________________________\n",
      "dense (Dense)                (None, 32)                79904     \n",
      "_________________________________________________________________\n",
      "leaky_re_lu (LeakyReLU)      (None, 32)                0         \n",
      "_________________________________________________________________\n",
      "dense_1 (Dense)              (None, 16)                528       \n",
      "_________________________________________________________________\n",
      "leaky_re_lu_1 (LeakyReLU)    (None, 16)                0         \n",
      "_________________________________________________________________\n",
      "dense_2 (Dense)              (None, 15)                255       \n",
      "=================================================================\n",
      "Total params: 85,935\n",
      "Trainable params: 85,935\n",
      "Non-trainable params: 0\n",
      "_________________________________________________________________\n"
     ]
    }
   ],
   "source": [
    "#hyperparameters\n",
    "keras.backend.clear_session()\n",
    "SEED = 1040941203\n",
    "hidden_initializer = random_uniform(seed=SEED)\n",
    "# Initialising the RNN\n",
    "rnn3 = Sequential()\n",
    "\n",
    "# Adding the first RNN layer and some Dropout regularisation\n",
    "rnn3.add(SimpleRNN(units = 32,activation='relu', return_sequences = True,  input_shape = (78,1)))\n",
    "rnn3.add(Dropout(0.1))\n",
    "\n",
    "# Adding a second RNN layer and some Dropout regularisation\n",
    "rnn3.add(SimpleRNN(units = 32,activation='relu', return_sequences = True))\n",
    "rnn3.add(Dropout(0.1))\n",
    "\n",
    "# Adding a third RNN layer and some Dropout regularisation\n",
    "rnn3.add(SimpleRNN(units = 32,activation='relu', return_sequences = True))\n",
    "rnn3.add(Dropout(0.1))\n",
    "\n",
    "# Adding the output layer\n",
    "rnn3.add(Flatten())\n",
    "rnn3.add(Dense(32, input_dim=25, kernel_initializer=hidden_initializer))\n",
    "rnn3.add(LeakyReLU(alpha=0.1))\n",
    "rnn3.add(Dense(16))\n",
    "rnn3.add(LeakyReLU(alpha=0.1))\n",
    "rnn3.add(Dense(units = 15, activation='softmax'))\n",
    "\n",
    "rnn3.summary()"
   ]
  },
  {
   "cell_type": "code",
   "execution_count": 64,
   "id": "perceived-watershed",
   "metadata": {},
   "outputs": [
    {
     "name": "stdout",
     "output_type": "stream",
     "text": [
      "Epoch 1/30\n",
      "915/915 [==============================] - 206s 222ms/step - loss: 2461.7275 - accuracy: 0.5851 - val_loss: 16.6945 - val_accuracy: 0.8899\n",
      "Epoch 2/30\n",
      "915/915 [==============================] - 204s 223ms/step - loss: 45.1784 - accuracy: 0.8841 - val_loss: 11.7176 - val_accuracy: 0.9304\n",
      "Epoch 3/30\n",
      "915/915 [==============================] - 204s 223ms/step - loss: 17.1454 - accuracy: 0.9177 - val_loss: 3.0406 - val_accuracy: 0.9549\n",
      "Epoch 4/30\n",
      "915/915 [==============================] - 204s 223ms/step - loss: 9.2837 - accuracy: 0.9358 - val_loss: 2.5249 - val_accuracy: 0.9656\n",
      "Epoch 5/30\n",
      "915/915 [==============================] - 203s 222ms/step - loss: 5.0849 - accuracy: 0.9438 - val_loss: 1.8973 - val_accuracy: 0.9557\n",
      "Epoch 6/30\n",
      "915/915 [==============================] - 204s 223ms/step - loss: 2.3769 - accuracy: 0.9477 - val_loss: 0.4440 - val_accuracy: 0.9637\n",
      "Epoch 7/30\n",
      "915/915 [==============================] - 208s 228ms/step - loss: 1.4925 - accuracy: 0.9447 - val_loss: 0.5273 - val_accuracy: 0.9685\n",
      "Epoch 8/30\n",
      "915/915 [==============================] - 208s 228ms/step - loss: 0.8951 - accuracy: 0.9560 - val_loss: 0.3761 - val_accuracy: 0.9587\n",
      "Epoch 9/30\n",
      "915/915 [==============================] - 205s 224ms/step - loss: 0.4842 - accuracy: 0.9642 - val_loss: 0.0673 - val_accuracy: 0.9837\n",
      "Epoch 10/30\n",
      "915/915 [==============================] - 204s 223ms/step - loss: 0.1340 - accuracy: 0.9775 - val_loss: 0.0498 - val_accuracy: 0.9895\n",
      "Epoch 11/30\n",
      "915/915 [==============================] - 204s 223ms/step - loss: 0.1133 - accuracy: 0.9837 - val_loss: 1.2043 - val_accuracy: 0.9855\n",
      "Epoch 12/30\n",
      "915/915 [==============================] - 207s 226ms/step - loss: 0.1166 - accuracy: 0.9812 - val_loss: 0.0605 - val_accuracy: 0.9850\n",
      "Epoch 13/30\n",
      "915/915 [==============================] - 204s 223ms/step - loss: 0.0848 - accuracy: 0.9830 - val_loss: 0.0311 - val_accuracy: 0.9928\n",
      "Epoch 14/30\n",
      "915/915 [==============================] - 208s 227ms/step - loss: 0.0911 - accuracy: 0.9885 - val_loss: 0.0280 - val_accuracy: 0.9930\n",
      "Epoch 15/30\n",
      "915/915 [==============================] - 218s 238ms/step - loss: 0.0633 - accuracy: 0.9908 - val_loss: 0.0256 - val_accuracy: 0.9936\n",
      "Epoch 16/30\n",
      "915/915 [==============================] - 224s 245ms/step - loss: 0.0394 - accuracy: 0.9918 - val_loss: 0.0207 - val_accuracy: 0.9947\n",
      "Epoch 17/30\n",
      "915/915 [==============================] - 225s 246ms/step - loss: 0.0332 - accuracy: 0.9926 - val_loss: 0.0195 - val_accuracy: 0.9951\n",
      "Epoch 18/30\n",
      "915/915 [==============================] - 227s 248ms/step - loss: 0.0252 - accuracy: 0.9935 - val_loss: 0.0262 - val_accuracy: 0.9929\n",
      "Epoch 19/30\n",
      "915/915 [==============================] - 220s 240ms/step - loss: 0.0270 - accuracy: 0.9930 - val_loss: 0.0181 - val_accuracy: 0.9953\n",
      "Epoch 20/30\n",
      "915/915 [==============================] - 222s 243ms/step - loss: 0.0276 - accuracy: 0.9939 - val_loss: 0.0168 - val_accuracy: 0.9953\n",
      "Epoch 21/30\n",
      "915/915 [==============================] - 224s 245ms/step - loss: 0.0242 - accuracy: 0.9938 - val_loss: 0.0156 - val_accuracy: 0.9957\n",
      "Epoch 22/30\n",
      "915/915 [==============================] - 220s 240ms/step - loss: 0.0204 - accuracy: 0.9945 - val_loss: 0.0204 - val_accuracy: 0.9947\n",
      "Epoch 23/30\n",
      "915/915 [==============================] - 219s 239ms/step - loss: 0.0413 - accuracy: 0.9937 - val_loss: 0.0186 - val_accuracy: 0.9948\n",
      "Epoch 24/30\n",
      "915/915 [==============================] - 223s 244ms/step - loss: 0.0278 - accuracy: 0.9945 - val_loss: 0.0154 - val_accuracy: 0.9959\n",
      "Epoch 25/30\n",
      "915/915 [==============================] - 226s 247ms/step - loss: 0.0177 - accuracy: 0.9951 - val_loss: 0.0145 - val_accuracy: 0.9961\n",
      "Epoch 26/30\n",
      "915/915 [==============================] - 234s 256ms/step - loss: 0.0210 - accuracy: 0.9950 - val_loss: 0.0140 - val_accuracy: 0.9960\n",
      "Epoch 27/30\n",
      "915/915 [==============================] - 231s 252ms/step - loss: 0.0168 - accuracy: 0.9954 - val_loss: 0.0135 - val_accuracy: 0.9962\n",
      "Epoch 28/30\n",
      "915/915 [==============================] - 242s 265ms/step - loss: 0.0165 - accuracy: 0.9954 - val_loss: 0.0139 - val_accuracy: 0.9958\n",
      "Epoch 29/30\n",
      "915/915 [==============================] - 235s 257ms/step - loss: 0.0156 - accuracy: 0.9957 - val_loss: 0.0137 - val_accuracy: 0.9959\n",
      "Epoch 30/30\n",
      "915/915 [==============================] - 232s 254ms/step - loss: 0.0149 - accuracy: 0.9957 - val_loss: 0.0127 - val_accuracy: 0.9965\n"
     ]
    },
    {
     "data": {
      "text/plain": [
       "<tensorflow.python.keras.callbacks.History at 0x1ddf96a6dc8>"
      ]
     },
     "execution_count": 64,
     "metadata": {},
     "output_type": "execute_result"
    }
   ],
   "source": [
    "rnn3.compile(loss = \"categorical_crossentropy\", optimizer='adam', metrics=['accuracy'])\n",
    "rnn3.fit(RNN_features_train, y_train, epochs=30, batch_size=512, \n",
    "         validation_data=(RNN_features_val,y_val),callbacks=[tensorboard_callback, eary_stop_callback])"
   ]
  },
  {
   "cell_type": "code",
   "execution_count": 65,
   "id": "occupied-thanksgiving",
   "metadata": {},
   "outputs": [
    {
     "data": {
      "image/png": "[encoded data removed]",
      "text/plain": [
       "<Figure size 432x288 with 1 Axes>"
      ]
     },
     "metadata": {
      "needs_background": "light"
     },
     "output_type": "display_data"
    },
    {
     "data": {
      "image/png": "[encoded data removed]",
      "text/plain": [
       "<Figure size 432x288 with 1 Axes>"
      ]
     },
     "metadata": {
      "needs_background": "light"
     },
     "output_type": "display_data"
    }
   ],
   "source": [
    "plotgraphs(rnn3)"
   ]
  },
  {
   "cell_type": "code",
   "execution_count": 66,
   "id": "demonstrated-wilderness",
   "metadata": {},
   "outputs": [],
   "source": [
    "predict = np.argmax(rnn3.predict(X_test),axis=1)\n",
    "\n",
    "a = np.unique(predict)\n",
    "b = np.unique(y_test)\n",
    "c = list(set(a) | set(b))"
   ]
  },
  {
   "cell_type": "code",
   "execution_count": 67,
   "id": "apparent-wyoming",
   "metadata": {},
   "outputs": [
    {
     "name": "stdout",
     "output_type": "stream",
     "text": [
      "        ----------Classification Report Of Classes-------------\n",
      "              precision    recall  f1-score   support\n",
      "\n",
      "           0       1.00      1.00      1.00     78177\n",
      "           1       0.91      0.66      0.76       411\n",
      "           2       1.00      1.00      1.00     25385\n",
      "           3       1.00      0.98      0.99      2030\n",
      "           4       1.00      1.00      1.00     34481\n",
      "           5       0.99      0.99      0.99      1020\n",
      "           6       0.99      0.99      0.99      1082\n",
      "           7       1.00      1.00      1.00      1095\n",
      "           8       0.00      0.00      0.00         1\n",
      "           9       0.00      0.00      0.00         9\n",
      "          10       1.00      1.00      1.00     11411\n",
      "          11       0.99      0.95      0.97       588\n",
      "          12       0.64      0.98      0.77       264\n",
      "          13       0.00      0.00      0.00         5\n",
      "          14       1.00      0.04      0.07       130\n",
      "\n",
      "    accuracy                           1.00    156089\n",
      "   macro avg       0.77      0.71      0.70    156089\n",
      "weighted avg       1.00      1.00      1.00    156089\n",
      "\n",
      "\n",
      "        ----------Validation Data------------------\n",
      "Accuarcy: 99.64379296427039\n",
      "Precision: 99.6594 %\n",
      "Recall-score: 99.6438\n",
      "F1-score: 99.6032\n"
     ]
    }
   ],
   "source": [
    "report(predict,labels_test)"
   ]
  },
  {
   "cell_type": "code",
   "execution_count": null,
   "id": "crazy-basics",
   "metadata": {},
   "outputs": [],
   "source": []
  }
 ],
 "metadata": {
  "kernelspec": {
   "display_name": "Python 3",
   "language": "python",
   "name": "python3"
  },
  "language_info": {
   "codemirror_mode": {
    "name": "ipython",
    "version": 3
   },
   "file_extension": ".py",
   "mimetype": "text/x-python",
   "name": "python",
   "nbconvert_exporter": "python",
   "pygments_lexer": "ipython3",
   "version": "3.7.4"
  }
 },
 "nbformat": 4,
 "nbformat_minor": 5
}
