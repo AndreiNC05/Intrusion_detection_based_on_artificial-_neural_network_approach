{
 "cells": [
  {
   "cell_type": "code",
   "execution_count": 2,
   "id": "entitled-aviation",
   "metadata": {},
   "outputs": [],
   "source": [
    "import numpy as np # linear algebra\n",
    "import pandas as pd # data processing, CSV file I/O (e.g. pd.read_csv)\n",
    "import seaborn as sns\n",
    "import matplotlib.pyplot as plt\n",
    "from imblearn.over_sampling import SMOTE\n",
    "\n",
    "from sklearn.metrics import confusion_matrix\n",
    "import itertools\n",
    "\n",
    "from sklearn.metrics import make_scorer, accuracy_score, precision_score, recall_score, f1_score, confusion_matrix, classification_report\n",
    "\n",
    "import tensorflow as tf\n",
    "from tensorflow import keras\n",
    "from keras.models import Sequential\n",
    "from keras.layers import Dense, Flatten, Conv1D, MaxPool1D\n",
    "from keras.initializers import random_uniform\n",
    "from keras.layers.advanced_activations import LeakyReLU\n",
    "from keras.callbacks import EarlyStopping\n",
    "\n",
    "from sklearn.model_selection import train_test_split\n",
    "from sklearn.preprocessing import StandardScaler as SS\n",
    "\n",
    "from sklearn.model_selection import train_test_split\n",
    "from keras.models import Sequential\n",
    "from keras.preprocessing.text import Tokenizer\n",
    "from matplotlib import pyplot as plt\n",
    "from keras.preprocessing.sequence import pad_sequences\n",
    "from keras.layers import Embedding,Dense,LSTM,Dropout,Flatten,BatchNormalization,Conv1D,GlobalMaxPooling1D,MaxPooling1D\n",
    "from keras.optimizers import  SGD\n",
    "import matplotlib.pyplot as plt\n",
    "from keras.regularizers import l2\n",
    "from keras.optimizers import Adam\n",
    "from keras import regularizers\n",
    "from keras.callbacks import EarlyStopping\n",
    "from sklearn.preprocessing import OneHotEncoder\n",
    "from keras.preprocessing import sequence\n",
    "from keras.layers import SimpleRNN\n",
    "#from hyperas.distributions import uniform\n",
    "\n",
    "from keras.utils.np_utils import to_categorical\n",
    "from keras import regularizers\n",
    "import pandas as pd\n",
    "import string\n",
    "import numpy as np\n",
    "import matplotlib.pyplot as plt\n",
    "\n",
    "# import warnings\n",
    "import warnings\n",
    "# filter warnings\n",
    "warnings.filterwarnings('ignore')"
   ]
  },
  {
   "cell_type": "code",
   "execution_count": 2,
   "id": "forbidden-armstrong",
   "metadata": {},
   "outputs": [],
   "source": [
    "# Saving all .csv files in folder to list.\n",
    "path = r'...'  # use your path\n",
    "files = [file for file in glob.glob(path + \"**/*.csv\", recursive=True)]"
   ]
  },
  {
   "cell_type": "code",
   "execution_count": 3,
   "id": "abandoned-zoning",
   "metadata": {},
   "outputs": [
    {
     "name": "stdout",
     "output_type": "stream",
     "text": [
      "/Users/ANDC/Desktop/Python\\IDS2018\\Friday-02-03-2018_TrafficForML_CICFlowMeter.csv\n",
      "/Users/ANDC/Desktop/Python\\IDS2018\\Friday-16-02-2018_TrafficForML_CICFlowMeter.csv\n",
      "/Users/ANDC/Desktop/Python\\IDS2018\\Friday-23-02-2018_TrafficForML_CICFlowMeter.csv\n",
      "/Users/ANDC/Desktop/Python\\IDS2018\\Thursday-01-03-2018_TrafficForML_CICFlowMeter.csv\n",
      "/Users/ANDC/Desktop/Python\\IDS2018\\Thursday-15-02-2018_TrafficForML_CICFlowMeter.csv\n",
      "/Users/ANDC/Desktop/Python\\IDS2018\\Thursday-22-02-2018_TrafficForML_CICFlowMeter.csv\n",
      "/Users/ANDC/Desktop/Python\\IDS2018\\Wednesday-14-02-2018_TrafficForML_CICFlowMeter.csv\n",
      "/Users/ANDC/Desktop/Python\\IDS2018\\Wednesday-21-02-2018_TrafficForML_CICFlowMeter.csv\n",
      "/Users/ANDC/Desktop/Python\\IDS2018\\Wednesday-28-02-2018_TrafficForML_CICFlowMeter.csv\n"
     ]
    },
    {
     "data": {
      "text/plain": [
       "[None, None, None, None, None, None, None, None, None]"
      ]
     },
     "execution_count": 3,
     "metadata": {},
     "output_type": "execute_result"
    }
   ],
   "source": [
    "[print(f) for f in files]"
   ]
  },
  {
   "cell_type": "code",
   "execution_count": 4,
   "id": "lonely-election",
   "metadata": {},
   "outputs": [
    {
     "name": "stderr",
     "output_type": "stream",
     "text": [
      "c:\\users\\andc\\appdata\\local\\programs\\python\\python37\\lib\\site-packages\\IPython\\core\\interactiveshell.py:3357: DtypeWarning: Columns (0,1,3,4,5,6,7,8,9,10,11,12,13,14,15,16,17,18,19,20,21,22,23,24,25,26,27,28,29,30,31,32,33,34,35,36,37,38,39,40,41,42,43,44,45,46,47,48,49,50,51,52,53,54,55,56,57,58,59,60,61,62,63,64,65,66,67,68,69,70,71,72,73,74,75,76,77,78) have mixed types.Specify dtype option on import or set low_memory=False.\n",
      "  if (await self.run_code(code, result,  async_=asy)):\n"
     ]
    }
   ],
   "source": [
    "# Reading all the csv files into dataframes and putting thoose DFs to one list.\n",
    "\n",
    "dataset = [pd.read_csv(f) for f in files]"
   ]
  },
  {
   "cell_type": "code",
   "execution_count": 5,
   "id": "homeless-aquatic",
   "metadata": {},
   "outputs": [
    {
     "name": "stdout",
     "output_type": "stream",
     "text": [
      "(1048575, 80)\n",
      "(1048575, 80)\n",
      "(1048575, 80)\n",
      "(331125, 80)\n",
      "(1048575, 80)\n",
      "(1048575, 80)\n",
      "(1048575, 80)\n",
      "(1048575, 80)\n",
      "(613104, 80)\n"
     ]
    }
   ],
   "source": [
    "# Here we can see the number of rows and columns for each table.\n",
    "\n",
    "for d in dataset:\n",
    "    print(d.shape)"
   ]
  },
  {
   "cell_type": "code",
   "execution_count": 6,
   "id": "conscious-uniform",
   "metadata": {},
   "outputs": [
    {
     "data": {
      "text/plain": [
       "array([ True,  True,  True,  True,  True,  True,  True,  True,  True,\n",
       "        True,  True,  True,  True,  True,  True,  True,  True,  True,\n",
       "        True,  True,  True,  True,  True,  True,  True,  True,  True,\n",
       "        True,  True,  True,  True,  True,  True,  True,  True,  True,\n",
       "        True,  True,  True,  True,  True,  True,  True,  True,  True,\n",
       "        True,  True,  True,  True,  True,  True,  True,  True,  True,\n",
       "        True,  True,  True,  True,  True,  True,  True,  True,  True,\n",
       "        True,  True,  True,  True,  True,  True,  True,  True,  True,\n",
       "        True,  True,  True,  True,  True,  True,  True,  True])"
      ]
     },
     "execution_count": 6,
     "metadata": {},
     "output_type": "execute_result"
    }
   ],
   "source": [
    "# We already established that all tables have the same number of columns, but are they the same columns?\n",
    "# This next piece of code loops over all given tables and compares each of them to all others.\n",
    "\n",
    "for i in range(0,len(dataset)):\n",
    "    if i != len(dataset)-1:\n",
    "        same_columns = dataset[i].columns == dataset[i+1].columns\n",
    "        \n",
    "        if False in same_columns:\n",
    "            print(i)\n",
    "            break\n",
    "\n",
    "same_columns"
   ]
  },
  {
   "cell_type": "code",
   "execution_count": 7,
   "id": "unavailable-snowboard",
   "metadata": {},
   "outputs": [],
   "source": [
    "# Combining all tables into one dataset. This is possilbe since all tables have the same columns,\n",
    "# as we checked in the cell above.\n",
    "\n",
    "dataset = pd.concat([d for d in dataset]).drop_duplicates(keep=False)\n",
    "dataset.reset_index(drop=True, inplace = True)"
   ]
  },
  {
   "cell_type": "code",
   "execution_count": 8,
   "id": "moving-zimbabwe",
   "metadata": {},
   "outputs": [
    {
     "data": {
      "text/plain": [
       "(7768601, 80)"
      ]
     },
     "execution_count": 8,
     "metadata": {},
     "output_type": "execute_result"
    }
   ],
   "source": [
    "# By checking the shape of dataset we can confirm that concatenation has been successfull.\n",
    "\n",
    "dataset.shape"
   ]
  },
  {
   "cell_type": "markdown",
   "id": "acoustic-action",
   "metadata": {},
   "source": [
    "### Preliminary data analysis"
   ]
  },
  {
   "cell_type": "code",
   "execution_count": 9,
   "id": "complicated-admission",
   "metadata": {
    "scrolled": true
   },
   "outputs": [
    {
     "name": "stdout",
     "output_type": "stream",
     "text": [
      "<class 'pandas.core.frame.DataFrame'>\n",
      "RangeIndex: 7768601 entries, 0 to 7768600\n",
      "Data columns (total 80 columns):\n",
      " #   Column             Dtype \n",
      "---  ------             ----- \n",
      " 0   Dst Port           object\n",
      " 1   Protocol           object\n",
      " 2   Timestamp          object\n",
      " 3   Flow Duration      object\n",
      " 4   Tot Fwd Pkts       object\n",
      " 5   Tot Bwd Pkts       object\n",
      " 6   TotLen Fwd Pkts    object\n",
      " 7   TotLen Bwd Pkts    object\n",
      " 8   Fwd Pkt Len Max    object\n",
      " 9   Fwd Pkt Len Min    object\n",
      " 10  Fwd Pkt Len Mean   object\n",
      " 11  Fwd Pkt Len Std    object\n",
      " 12  Bwd Pkt Len Max    object\n",
      " 13  Bwd Pkt Len Min    object\n",
      " 14  Bwd Pkt Len Mean   object\n",
      " 15  Bwd Pkt Len Std    object\n",
      " 16  Flow Byts/s        object\n",
      " 17  Flow Pkts/s        object\n",
      " 18  Flow IAT Mean      object\n",
      " 19  Flow IAT Std       object\n",
      " 20  Flow IAT Max       object\n",
      " 21  Flow IAT Min       object\n",
      " 22  Fwd IAT Tot        object\n",
      " 23  Fwd IAT Mean       object\n",
      " 24  Fwd IAT Std        object\n",
      " 25  Fwd IAT Max        object\n",
      " 26  Fwd IAT Min        object\n",
      " 27  Bwd IAT Tot        object\n",
      " 28  Bwd IAT Mean       object\n",
      " 29  Bwd IAT Std        object\n",
      " 30  Bwd IAT Max        object\n",
      " 31  Bwd IAT Min        object\n",
      " 32  Fwd PSH Flags      object\n",
      " 33  Bwd PSH Flags      object\n",
      " 34  Fwd URG Flags      object\n",
      " 35  Bwd URG Flags      object\n",
      " 36  Fwd Header Len     object\n",
      " 37  Bwd Header Len     object\n",
      " 38  Fwd Pkts/s         object\n",
      " 39  Bwd Pkts/s         object\n",
      " 40  Pkt Len Min        object\n",
      " 41  Pkt Len Max        object\n",
      " 42  Pkt Len Mean       object\n",
      " 43  Pkt Len Std        object\n",
      " 44  Pkt Len Var        object\n",
      " 45  FIN Flag Cnt       object\n",
      " 46  SYN Flag Cnt       object\n",
      " 47  RST Flag Cnt       object\n",
      " 48  PSH Flag Cnt       object\n",
      " 49  ACK Flag Cnt       object\n",
      " 50  URG Flag Cnt       object\n",
      " 51  CWE Flag Count     object\n",
      " 52  ECE Flag Cnt       object\n",
      " 53  Down/Up Ratio      object\n",
      " 54  Pkt Size Avg       object\n",
      " 55  Fwd Seg Size Avg   object\n",
      " 56  Bwd Seg Size Avg   object\n",
      " 57  Fwd Byts/b Avg     object\n",
      " 58  Fwd Pkts/b Avg     object\n",
      " 59  Fwd Blk Rate Avg   object\n",
      " 60  Bwd Byts/b Avg     object\n",
      " 61  Bwd Pkts/b Avg     object\n",
      " 62  Bwd Blk Rate Avg   object\n",
      " 63  Subflow Fwd Pkts   object\n",
      " 64  Subflow Fwd Byts   object\n",
      " 65  Subflow Bwd Pkts   object\n",
      " 66  Subflow Bwd Byts   object\n",
      " 67  Init Fwd Win Byts  object\n",
      " 68  Init Bwd Win Byts  object\n",
      " 69  Fwd Act Data Pkts  object\n",
      " 70  Fwd Seg Size Min   object\n",
      " 71  Active Mean        object\n",
      " 72  Active Std         object\n",
      " 73  Active Max         object\n",
      " 74  Active Min         object\n",
      " 75  Idle Mean          object\n",
      " 76  Idle Std           object\n",
      " 77  Idle Max           object\n",
      " 78  Idle Min           object\n",
      " 79  Label              object\n",
      "dtypes: object(80)\n",
      "memory usage: 4.6+ GB\n"
     ]
    }
   ],
   "source": [
    "dataset.info()"
   ]
  },
  {
   "cell_type": "code",
   "execution_count": 10,
   "id": "spatial-cocktail",
   "metadata": {},
   "outputs": [
    {
     "data": {
      "text/html": [
       "<div>\n",
       "<style scoped>\n",
       "    .dataframe tbody tr th:only-of-type {\n",
       "        vertical-align: middle;\n",
       "    }\n",
       "\n",
       "    .dataframe tbody tr th {\n",
       "        vertical-align: top;\n",
       "    }\n",
       "\n",
       "    .dataframe thead th {\n",
       "        text-align: right;\n",
       "    }\n",
       "</style>\n",
       "<table border=\"1\" class=\"dataframe\">\n",
       "  <thead>\n",
       "    <tr style=\"text-align: right;\">\n",
       "      <th></th>\n",
       "      <th>Dst Port</th>\n",
       "      <th>Protocol</th>\n",
       "      <th>Timestamp</th>\n",
       "      <th>Flow Duration</th>\n",
       "      <th>Tot Fwd Pkts</th>\n",
       "      <th>Tot Bwd Pkts</th>\n",
       "      <th>TotLen Fwd Pkts</th>\n",
       "      <th>TotLen Bwd Pkts</th>\n",
       "      <th>Fwd Pkt Len Max</th>\n",
       "      <th>Fwd Pkt Len Min</th>\n",
       "      <th>...</th>\n",
       "      <th>Fwd Seg Size Min</th>\n",
       "      <th>Active Mean</th>\n",
       "      <th>Active Std</th>\n",
       "      <th>Active Max</th>\n",
       "      <th>Active Min</th>\n",
       "      <th>Idle Mean</th>\n",
       "      <th>Idle Std</th>\n",
       "      <th>Idle Max</th>\n",
       "      <th>Idle Min</th>\n",
       "      <th>Label</th>\n",
       "    </tr>\n",
       "  </thead>\n",
       "  <tbody>\n",
       "    <tr>\n",
       "      <th>count</th>\n",
       "      <td>7768601</td>\n",
       "      <td>7768601</td>\n",
       "      <td>7768601</td>\n",
       "      <td>7768601</td>\n",
       "      <td>7768601</td>\n",
       "      <td>7768601</td>\n",
       "      <td>7768601</td>\n",
       "      <td>7768601.0</td>\n",
       "      <td>7768601</td>\n",
       "      <td>7768601</td>\n",
       "      <td>...</td>\n",
       "      <td>7768601</td>\n",
       "      <td>7768601.0</td>\n",
       "      <td>7768601.0</td>\n",
       "      <td>7768601.0</td>\n",
       "      <td>7768601.0</td>\n",
       "      <td>7768601.0</td>\n",
       "      <td>7768601.0</td>\n",
       "      <td>7768601.0</td>\n",
       "      <td>7768601.0</td>\n",
       "      <td>7768601</td>\n",
       "    </tr>\n",
       "    <tr>\n",
       "      <th>unique</th>\n",
       "      <td>76049</td>\n",
       "      <td>6</td>\n",
       "      <td>232604</td>\n",
       "      <td>2593598</td>\n",
       "      <td>3979</td>\n",
       "      <td>3124</td>\n",
       "      <td>19310</td>\n",
       "      <td>67647.0</td>\n",
       "      <td>2817</td>\n",
       "      <td>496</td>\n",
       "      <td>...</td>\n",
       "      <td>20</td>\n",
       "      <td>543699.0</td>\n",
       "      <td>445204.0</td>\n",
       "      <td>463647.0</td>\n",
       "      <td>225302.0</td>\n",
       "      <td>715884.0</td>\n",
       "      <td>467337.0</td>\n",
       "      <td>528588.0</td>\n",
       "      <td>605943.0</td>\n",
       "      <td>14</td>\n",
       "    </tr>\n",
       "    <tr>\n",
       "      <th>top</th>\n",
       "      <td>80</td>\n",
       "      <td>6</td>\n",
       "      <td>16/02/2018 01:45:31</td>\n",
       "      <td>1</td>\n",
       "      <td>2</td>\n",
       "      <td>0</td>\n",
       "      <td>0</td>\n",
       "      <td>0.0</td>\n",
       "      <td>0</td>\n",
       "      <td>0</td>\n",
       "      <td>...</td>\n",
       "      <td>20</td>\n",
       "      <td>0.0</td>\n",
       "      <td>0.0</td>\n",
       "      <td>0.0</td>\n",
       "      <td>0.0</td>\n",
       "      <td>0.0</td>\n",
       "      <td>0.0</td>\n",
       "      <td>0.0</td>\n",
       "      <td>0.0</td>\n",
       "      <td>Benign</td>\n",
       "    </tr>\n",
       "    <tr>\n",
       "      <th>freq</th>\n",
       "      <td>1912204</td>\n",
       "      <td>5778959</td>\n",
       "      <td>7095</td>\n",
       "      <td>49634</td>\n",
       "      <td>2275093</td>\n",
       "      <td>2240254</td>\n",
       "      <td>2452767</td>\n",
       "      <td>2834924.0</td>\n",
       "      <td>2452767</td>\n",
       "      <td>5844698</td>\n",
       "      <td>...</td>\n",
       "      <td>4654885</td>\n",
       "      <td>6874551.0</td>\n",
       "      <td>7046242.0</td>\n",
       "      <td>6874551.0</td>\n",
       "      <td>6874551.0</td>\n",
       "      <td>6561192.0</td>\n",
       "      <td>6978370.0</td>\n",
       "      <td>6561192.0</td>\n",
       "      <td>6561192.0</td>\n",
       "      <td>6081065</td>\n",
       "    </tr>\n",
       "  </tbody>\n",
       "</table>\n",
       "<p>4 rows × 80 columns</p>\n",
       "</div>"
      ],
      "text/plain": [
       "        Dst Port  Protocol            Timestamp  Flow Duration  Tot Fwd Pkts  \\\n",
       "count    7768601   7768601              7768601        7768601       7768601   \n",
       "unique     76049         6               232604        2593598          3979   \n",
       "top           80         6  16/02/2018 01:45:31              1             2   \n",
       "freq     1912204   5778959                 7095          49634       2275093   \n",
       "\n",
       "        Tot Bwd Pkts  TotLen Fwd Pkts  TotLen Bwd Pkts  Fwd Pkt Len Max  \\\n",
       "count        7768601          7768601        7768601.0          7768601   \n",
       "unique          3124            19310          67647.0             2817   \n",
       "top                0                0              0.0                0   \n",
       "freq         2240254          2452767        2834924.0          2452767   \n",
       "\n",
       "        Fwd Pkt Len Min  ...  Fwd Seg Size Min  Active Mean  Active Std  \\\n",
       "count           7768601  ...           7768601    7768601.0   7768601.0   \n",
       "unique              496  ...                20     543699.0    445204.0   \n",
       "top                   0  ...                20          0.0         0.0   \n",
       "freq            5844698  ...           4654885    6874551.0   7046242.0   \n",
       "\n",
       "        Active Max  Active Min  Idle Mean   Idle Std   Idle Max   Idle Min  \\\n",
       "count    7768601.0   7768601.0  7768601.0  7768601.0  7768601.0  7768601.0   \n",
       "unique    463647.0    225302.0   715884.0   467337.0   528588.0   605943.0   \n",
       "top            0.0         0.0        0.0        0.0        0.0        0.0   \n",
       "freq     6874551.0   6874551.0  6561192.0  6978370.0  6561192.0  6561192.0   \n",
       "\n",
       "          Label  \n",
       "count   7768601  \n",
       "unique       14  \n",
       "top      Benign  \n",
       "freq    6081065  \n",
       "\n",
       "[4 rows x 80 columns]"
      ]
     },
     "execution_count": 10,
     "metadata": {},
     "output_type": "execute_result"
    }
   ],
   "source": [
    "dataset.describe()"
   ]
  },
  {
   "cell_type": "code",
   "execution_count": 11,
   "id": "ready-singles",
   "metadata": {},
   "outputs": [
    {
     "data": {
      "text/html": [
       "<div>\n",
       "<style scoped>\n",
       "    .dataframe tbody tr th:only-of-type {\n",
       "        vertical-align: middle;\n",
       "    }\n",
       "\n",
       "    .dataframe tbody tr th {\n",
       "        vertical-align: top;\n",
       "    }\n",
       "\n",
       "    .dataframe thead th {\n",
       "        text-align: right;\n",
       "    }\n",
       "</style>\n",
       "<table border=\"1\" class=\"dataframe\">\n",
       "  <thead>\n",
       "    <tr style=\"text-align: right;\">\n",
       "      <th></th>\n",
       "      <th>Dst Port</th>\n",
       "      <th>Protocol</th>\n",
       "      <th>Timestamp</th>\n",
       "      <th>Flow Duration</th>\n",
       "      <th>Tot Fwd Pkts</th>\n",
       "      <th>Tot Bwd Pkts</th>\n",
       "      <th>TotLen Fwd Pkts</th>\n",
       "      <th>TotLen Bwd Pkts</th>\n",
       "      <th>Fwd Pkt Len Max</th>\n",
       "      <th>Fwd Pkt Len Min</th>\n",
       "      <th>...</th>\n",
       "      <th>Fwd Seg Size Min</th>\n",
       "      <th>Active Mean</th>\n",
       "      <th>Active Std</th>\n",
       "      <th>Active Max</th>\n",
       "      <th>Active Min</th>\n",
       "      <th>Idle Mean</th>\n",
       "      <th>Idle Std</th>\n",
       "      <th>Idle Max</th>\n",
       "      <th>Idle Min</th>\n",
       "      <th>Label</th>\n",
       "    </tr>\n",
       "  </thead>\n",
       "  <tbody>\n",
       "    <tr>\n",
       "      <th>0</th>\n",
       "      <td>443</td>\n",
       "      <td>6</td>\n",
       "      <td>02/03/2018 08:47:38</td>\n",
       "      <td>141385</td>\n",
       "      <td>9</td>\n",
       "      <td>7</td>\n",
       "      <td>553</td>\n",
       "      <td>3773.0</td>\n",
       "      <td>202</td>\n",
       "      <td>0</td>\n",
       "      <td>...</td>\n",
       "      <td>20</td>\n",
       "      <td>0.0</td>\n",
       "      <td>0.0</td>\n",
       "      <td>0.0</td>\n",
       "      <td>0.0</td>\n",
       "      <td>0.0</td>\n",
       "      <td>0.0</td>\n",
       "      <td>0.0</td>\n",
       "      <td>0.0</td>\n",
       "      <td>Benign</td>\n",
       "    </tr>\n",
       "    <tr>\n",
       "      <th>1</th>\n",
       "      <td>49684</td>\n",
       "      <td>6</td>\n",
       "      <td>02/03/2018 08:47:38</td>\n",
       "      <td>281</td>\n",
       "      <td>2</td>\n",
       "      <td>1</td>\n",
       "      <td>38</td>\n",
       "      <td>0.0</td>\n",
       "      <td>38</td>\n",
       "      <td>0</td>\n",
       "      <td>...</td>\n",
       "      <td>20</td>\n",
       "      <td>0.0</td>\n",
       "      <td>0.0</td>\n",
       "      <td>0.0</td>\n",
       "      <td>0.0</td>\n",
       "      <td>0.0</td>\n",
       "      <td>0.0</td>\n",
       "      <td>0.0</td>\n",
       "      <td>0.0</td>\n",
       "      <td>Benign</td>\n",
       "    </tr>\n",
       "    <tr>\n",
       "      <th>2</th>\n",
       "      <td>443</td>\n",
       "      <td>6</td>\n",
       "      <td>02/03/2018 08:47:40</td>\n",
       "      <td>279824</td>\n",
       "      <td>11</td>\n",
       "      <td>15</td>\n",
       "      <td>1086</td>\n",
       "      <td>10527.0</td>\n",
       "      <td>385</td>\n",
       "      <td>0</td>\n",
       "      <td>...</td>\n",
       "      <td>20</td>\n",
       "      <td>0.0</td>\n",
       "      <td>0.0</td>\n",
       "      <td>0.0</td>\n",
       "      <td>0.0</td>\n",
       "      <td>0.0</td>\n",
       "      <td>0.0</td>\n",
       "      <td>0.0</td>\n",
       "      <td>0.0</td>\n",
       "      <td>Benign</td>\n",
       "    </tr>\n",
       "    <tr>\n",
       "      <th>3</th>\n",
       "      <td>443</td>\n",
       "      <td>6</td>\n",
       "      <td>02/03/2018 08:47:40</td>\n",
       "      <td>132</td>\n",
       "      <td>2</td>\n",
       "      <td>0</td>\n",
       "      <td>0</td>\n",
       "      <td>0.0</td>\n",
       "      <td>0</td>\n",
       "      <td>0</td>\n",
       "      <td>...</td>\n",
       "      <td>20</td>\n",
       "      <td>0.0</td>\n",
       "      <td>0.0</td>\n",
       "      <td>0.0</td>\n",
       "      <td>0.0</td>\n",
       "      <td>0.0</td>\n",
       "      <td>0.0</td>\n",
       "      <td>0.0</td>\n",
       "      <td>0.0</td>\n",
       "      <td>Benign</td>\n",
       "    </tr>\n",
       "    <tr>\n",
       "      <th>4</th>\n",
       "      <td>443</td>\n",
       "      <td>6</td>\n",
       "      <td>02/03/2018 08:47:41</td>\n",
       "      <td>274016</td>\n",
       "      <td>9</td>\n",
       "      <td>13</td>\n",
       "      <td>1285</td>\n",
       "      <td>6141.0</td>\n",
       "      <td>517</td>\n",
       "      <td>0</td>\n",
       "      <td>...</td>\n",
       "      <td>20</td>\n",
       "      <td>0.0</td>\n",
       "      <td>0.0</td>\n",
       "      <td>0.0</td>\n",
       "      <td>0.0</td>\n",
       "      <td>0.0</td>\n",
       "      <td>0.0</td>\n",
       "      <td>0.0</td>\n",
       "      <td>0.0</td>\n",
       "      <td>Benign</td>\n",
       "    </tr>\n",
       "  </tbody>\n",
       "</table>\n",
       "<p>5 rows × 80 columns</p>\n",
       "</div>"
      ],
      "text/plain": [
       "  Dst Port Protocol            Timestamp Flow Duration Tot Fwd Pkts  \\\n",
       "0      443        6  02/03/2018 08:47:38        141385            9   \n",
       "1    49684        6  02/03/2018 08:47:38           281            2   \n",
       "2      443        6  02/03/2018 08:47:40        279824           11   \n",
       "3      443        6  02/03/2018 08:47:40           132            2   \n",
       "4      443        6  02/03/2018 08:47:41        274016            9   \n",
       "\n",
       "  Tot Bwd Pkts TotLen Fwd Pkts TotLen Bwd Pkts Fwd Pkt Len Max  \\\n",
       "0            7             553          3773.0             202   \n",
       "1            1              38             0.0              38   \n",
       "2           15            1086         10527.0             385   \n",
       "3            0               0             0.0               0   \n",
       "4           13            1285          6141.0             517   \n",
       "\n",
       "  Fwd Pkt Len Min  ... Fwd Seg Size Min Active Mean Active Std Active Max  \\\n",
       "0               0  ...               20         0.0        0.0        0.0   \n",
       "1               0  ...               20         0.0        0.0        0.0   \n",
       "2               0  ...               20         0.0        0.0        0.0   \n",
       "3               0  ...               20         0.0        0.0        0.0   \n",
       "4               0  ...               20         0.0        0.0        0.0   \n",
       "\n",
       "  Active Min Idle Mean Idle Std Idle Max Idle Min   Label  \n",
       "0        0.0       0.0      0.0      0.0      0.0  Benign  \n",
       "1        0.0       0.0      0.0      0.0      0.0  Benign  \n",
       "2        0.0       0.0      0.0      0.0      0.0  Benign  \n",
       "3        0.0       0.0      0.0      0.0      0.0  Benign  \n",
       "4        0.0       0.0      0.0      0.0      0.0  Benign  \n",
       "\n",
       "[5 rows x 80 columns]"
      ]
     },
     "execution_count": 11,
     "metadata": {},
     "output_type": "execute_result"
    }
   ],
   "source": [
    "dataset.head()"
   ]
  },
  {
   "cell_type": "code",
   "execution_count": 13,
   "id": "understanding-holder",
   "metadata": {},
   "outputs": [
    {
     "data": {
      "text/html": [
       "<div>\n",
       "<style scoped>\n",
       "    .dataframe tbody tr th:only-of-type {\n",
       "        vertical-align: middle;\n",
       "    }\n",
       "\n",
       "    .dataframe tbody tr th {\n",
       "        vertical-align: top;\n",
       "    }\n",
       "\n",
       "    .dataframe thead th {\n",
       "        text-align: right;\n",
       "    }\n",
       "</style>\n",
       "<table border=\"1\" class=\"dataframe\">\n",
       "  <thead>\n",
       "    <tr style=\"text-align: right;\">\n",
       "      <th></th>\n",
       "      <th>Dst Port</th>\n",
       "      <th>Protocol</th>\n",
       "      <th>Flow Duration</th>\n",
       "      <th>Tot Fwd Pkts</th>\n",
       "      <th>Tot Bwd Pkts</th>\n",
       "      <th>TotLen Fwd Pkts</th>\n",
       "      <th>TotLen Bwd Pkts</th>\n",
       "      <th>Fwd Pkt Len Max</th>\n",
       "      <th>Fwd Pkt Len Min</th>\n",
       "      <th>Fwd Pkt Len Mean</th>\n",
       "      <th>...</th>\n",
       "      <th>Fwd Seg Size Min</th>\n",
       "      <th>Active Mean</th>\n",
       "      <th>Active Std</th>\n",
       "      <th>Active Max</th>\n",
       "      <th>Active Min</th>\n",
       "      <th>Idle Mean</th>\n",
       "      <th>Idle Std</th>\n",
       "      <th>Idle Max</th>\n",
       "      <th>Idle Min</th>\n",
       "      <th>Label</th>\n",
       "    </tr>\n",
       "  </thead>\n",
       "  <tbody>\n",
       "    <tr>\n",
       "      <th>0</th>\n",
       "      <td>443</td>\n",
       "      <td>6</td>\n",
       "      <td>141385</td>\n",
       "      <td>9</td>\n",
       "      <td>7</td>\n",
       "      <td>553</td>\n",
       "      <td>3773.0</td>\n",
       "      <td>202</td>\n",
       "      <td>0</td>\n",
       "      <td>61.444444</td>\n",
       "      <td>...</td>\n",
       "      <td>20</td>\n",
       "      <td>0.0</td>\n",
       "      <td>0.0</td>\n",
       "      <td>0.0</td>\n",
       "      <td>0.0</td>\n",
       "      <td>0.0</td>\n",
       "      <td>0.0</td>\n",
       "      <td>0.0</td>\n",
       "      <td>0.0</td>\n",
       "      <td>Benign</td>\n",
       "    </tr>\n",
       "    <tr>\n",
       "      <th>1</th>\n",
       "      <td>49684</td>\n",
       "      <td>6</td>\n",
       "      <td>281</td>\n",
       "      <td>2</td>\n",
       "      <td>1</td>\n",
       "      <td>38</td>\n",
       "      <td>0.0</td>\n",
       "      <td>38</td>\n",
       "      <td>0</td>\n",
       "      <td>19.0</td>\n",
       "      <td>...</td>\n",
       "      <td>20</td>\n",
       "      <td>0.0</td>\n",
       "      <td>0.0</td>\n",
       "      <td>0.0</td>\n",
       "      <td>0.0</td>\n",
       "      <td>0.0</td>\n",
       "      <td>0.0</td>\n",
       "      <td>0.0</td>\n",
       "      <td>0.0</td>\n",
       "      <td>Benign</td>\n",
       "    </tr>\n",
       "    <tr>\n",
       "      <th>2</th>\n",
       "      <td>443</td>\n",
       "      <td>6</td>\n",
       "      <td>279824</td>\n",
       "      <td>11</td>\n",
       "      <td>15</td>\n",
       "      <td>1086</td>\n",
       "      <td>10527.0</td>\n",
       "      <td>385</td>\n",
       "      <td>0</td>\n",
       "      <td>98.727273</td>\n",
       "      <td>...</td>\n",
       "      <td>20</td>\n",
       "      <td>0.0</td>\n",
       "      <td>0.0</td>\n",
       "      <td>0.0</td>\n",
       "      <td>0.0</td>\n",
       "      <td>0.0</td>\n",
       "      <td>0.0</td>\n",
       "      <td>0.0</td>\n",
       "      <td>0.0</td>\n",
       "      <td>Benign</td>\n",
       "    </tr>\n",
       "    <tr>\n",
       "      <th>3</th>\n",
       "      <td>443</td>\n",
       "      <td>6</td>\n",
       "      <td>132</td>\n",
       "      <td>2</td>\n",
       "      <td>0</td>\n",
       "      <td>0</td>\n",
       "      <td>0.0</td>\n",
       "      <td>0</td>\n",
       "      <td>0</td>\n",
       "      <td>0.0</td>\n",
       "      <td>...</td>\n",
       "      <td>20</td>\n",
       "      <td>0.0</td>\n",
       "      <td>0.0</td>\n",
       "      <td>0.0</td>\n",
       "      <td>0.0</td>\n",
       "      <td>0.0</td>\n",
       "      <td>0.0</td>\n",
       "      <td>0.0</td>\n",
       "      <td>0.0</td>\n",
       "      <td>Benign</td>\n",
       "    </tr>\n",
       "    <tr>\n",
       "      <th>4</th>\n",
       "      <td>443</td>\n",
       "      <td>6</td>\n",
       "      <td>274016</td>\n",
       "      <td>9</td>\n",
       "      <td>13</td>\n",
       "      <td>1285</td>\n",
       "      <td>6141.0</td>\n",
       "      <td>517</td>\n",
       "      <td>0</td>\n",
       "      <td>142.777778</td>\n",
       "      <td>...</td>\n",
       "      <td>20</td>\n",
       "      <td>0.0</td>\n",
       "      <td>0.0</td>\n",
       "      <td>0.0</td>\n",
       "      <td>0.0</td>\n",
       "      <td>0.0</td>\n",
       "      <td>0.0</td>\n",
       "      <td>0.0</td>\n",
       "      <td>0.0</td>\n",
       "      <td>Benign</td>\n",
       "    </tr>\n",
       "  </tbody>\n",
       "</table>\n",
       "<p>5 rows × 79 columns</p>\n",
       "</div>"
      ],
      "text/plain": [
       "  Dst Port Protocol Flow Duration Tot Fwd Pkts Tot Bwd Pkts TotLen Fwd Pkts  \\\n",
       "0      443        6        141385            9            7             553   \n",
       "1    49684        6           281            2            1              38   \n",
       "2      443        6        279824           11           15            1086   \n",
       "3      443        6           132            2            0               0   \n",
       "4      443        6        274016            9           13            1285   \n",
       "\n",
       "  TotLen Bwd Pkts Fwd Pkt Len Max Fwd Pkt Len Min Fwd Pkt Len Mean  ...  \\\n",
       "0          3773.0             202               0        61.444444  ...   \n",
       "1             0.0              38               0             19.0  ...   \n",
       "2         10527.0             385               0        98.727273  ...   \n",
       "3             0.0               0               0              0.0  ...   \n",
       "4          6141.0             517               0       142.777778  ...   \n",
       "\n",
       "  Fwd Seg Size Min Active Mean Active Std Active Max Active Min Idle Mean  \\\n",
       "0               20         0.0        0.0        0.0        0.0       0.0   \n",
       "1               20         0.0        0.0        0.0        0.0       0.0   \n",
       "2               20         0.0        0.0        0.0        0.0       0.0   \n",
       "3               20         0.0        0.0        0.0        0.0       0.0   \n",
       "4               20         0.0        0.0        0.0        0.0       0.0   \n",
       "\n",
       "  Idle Std Idle Max Idle Min   Label  \n",
       "0      0.0      0.0      0.0  Benign  \n",
       "1      0.0      0.0      0.0  Benign  \n",
       "2      0.0      0.0      0.0  Benign  \n",
       "3      0.0      0.0      0.0  Benign  \n",
       "4      0.0      0.0      0.0  Benign  \n",
       "\n",
       "[5 rows x 79 columns]"
      ]
     },
     "execution_count": 13,
     "metadata": {},
     "output_type": "execute_result"
    }
   ],
   "source": [
    "dataset = dataset.drop(['Timestamp'], axis=1)\n",
    "data_df['Label'].value_counts()"
   ]
  },
  {
   "cell_type": "code",
   "execution_count": 14,
   "id": "together-frequency",
   "metadata": {},
   "outputs": [
    {
     "data": {
      "text/plain": [
       "Benign                      6081065\n",
       "DDOS attack-HOIC             651746\n",
       "DoS attacks-Hulk             412124\n",
       "Bot                          278584\n",
       "Infilteration                161864\n",
       "SSH-Bruteforce               102782\n",
       "DoS attacks-GoldenEye         41404\n",
       "FTP-BruteForce                19740\n",
       "DoS attacks-Slowloris         10010\n",
       "DoS attacks-SlowHTTPTest       6624\n",
       "DDOS attack-LOIC-UDP           1730\n",
       "Brute Force -Web                611\n",
       "Brute Force -XSS                230\n",
       "SQL Injection                    87\n",
       "Name: Label, dtype: int64"
      ]
     },
     "execution_count": 14,
     "metadata": {},
     "output_type": "execute_result"
    }
   ],
   "source": [
    "dataset['Label'].value_counts()"
   ]
  },
  {
   "cell_type": "code",
   "execution_count": 16,
   "id": "greenhouse-announcement",
   "metadata": {},
   "outputs": [],
   "source": [
    "dataset = dataset.drop(['Protocol'], axis=1)"
   ]
  },
  {
   "cell_type": "code",
   "execution_count": 17,
   "id": "joined-brisbane",
   "metadata": {},
   "outputs": [
    {
     "name": "stdout",
     "output_type": "stream",
     "text": [
      "['Benign' 'Bot' 'DoS attacks-SlowHTTPTest' 'DoS attacks-Hulk'\n",
      " 'Brute Force -Web' 'Brute Force -XSS' 'SQL Injection' 'Infilteration'\n",
      " 'DoS attacks-GoldenEye' 'DoS attacks-Slowloris' 'FTP-BruteForce'\n",
      " 'SSH-Bruteforce' 'DDOS attack-LOIC-UDP' 'DDOS attack-HOIC']\n"
     ]
    },
    {
     "data": {
      "text/plain": [
       "14"
      ]
     },
     "execution_count": 17,
     "metadata": {},
     "output_type": "execute_result"
    }
   ],
   "source": [
    "# Dataset conatains 15 labels.\n",
    "#print(dataset[' Label'].unique())\n",
    "#len(dataset[' Label'].unique())\n",
    "\n",
    "print(dataset['Label'].unique())\n",
    "len(dataset['Label'].unique())"
   ]
  },
  {
   "cell_type": "code",
   "execution_count": 19,
   "id": "supposed-breast",
   "metadata": {},
   "outputs": [],
   "source": [
    "# Saving cleaned dataset.\n",
    "\n",
    "#dataset.to_csv(\"Dataset_clean.csv\", index=False)"
   ]
  },
  {
   "cell_type": "markdown",
   "id": "geographic-albania",
   "metadata": {},
   "source": [
    "### Distribution of attacks"
   ]
  },
  {
   "cell_type": "code",
   "execution_count": 2,
   "id": "disabled-tension",
   "metadata": {},
   "outputs": [],
   "source": [
    "import seaborn as sns\n",
    "import matplotlib.pyplot as plt"
   ]
  },
  {
   "cell_type": "code",
   "execution_count": 22,
   "id": "straight-identity",
   "metadata": {},
   "outputs": [],
   "source": [
    "data = dataset['Label'].where(dataset['Label'] != \"BENIGN\")"
   ]
  },
  {
   "cell_type": "code",
   "execution_count": 24,
   "id": "extensive-portland",
   "metadata": {},
   "outputs": [
    {
     "name": "stderr",
     "output_type": "stream",
     "text": [
      "c:\\users\\andc\\appdata\\local\\programs\\python\\python37\\lib\\site-packages\\seaborn\\_decorators.py:43: FutureWarning: Pass the following variable as a keyword arg: x. From version 0.12, the only valid positional argument will be `data`, and passing other arguments without an explicit keyword will result in an error or misinterpretation.\n",
      "  FutureWarning\n"
     ]
    },
    {
     "data": {
      "text/plain": [
       "(array([ 0,  1,  2,  3,  4,  5,  6,  7,  8,  9, 10, 11, 12, 13]),\n",
       " [Text(0, 0, 'Benign'),\n",
       "  Text(1, 0, 'Bot'),\n",
       "  Text(2, 0, 'DoS attacks-SlowHTTPTest'),\n",
       "  Text(3, 0, 'DoS attacks-Hulk'),\n",
       "  Text(4, 0, 'Brute Force -Web'),\n",
       "  Text(5, 0, 'Brute Force -XSS'),\n",
       "  Text(6, 0, 'SQL Injection'),\n",
       "  Text(7, 0, 'Infilteration'),\n",
       "  Text(8, 0, 'DoS attacks-GoldenEye'),\n",
       "  Text(9, 0, 'DoS attacks-Slowloris'),\n",
       "  Text(10, 0, 'FTP-BruteForce'),\n",
       "  Text(11, 0, 'SSH-Bruteforce'),\n",
       "  Text(12, 0, 'DDOS attack-LOIC-UDP'),\n",
       "  Text(13, 0, 'DDOS attack-HOIC')])"
      ]
     },
     "execution_count": 24,
     "metadata": {},
     "output_type": "execute_result"
    },
    {
     "data": {
      "image/png": "[encoded data removed]",
      "text/plain": [
       "<Figure size 1008x432 with 1 Axes>"
      ]
     },
     "metadata": {
      "needs_background": "light"
     },
     "output_type": "display_data"
    }
   ],
   "source": [
    "plt.figure(figsize=(14,6))\n",
    "chart = sns.countplot(data, palette=\"Set1\")\n",
    "plt.xticks(rotation=45, horizontalalignment=\"right\")"
   ]
  },
  {
   "cell_type": "code",
   "execution_count": 25,
   "id": "ready-wesley",
   "metadata": {},
   "outputs": [],
   "source": [
    "# Saving all .csv files in folder to list.\n",
    "path = r'/Users/ANDC/Desktop/Python'\n",
    "files = [file for file in glob.glob(path + \"**/*.csv\", recursive=True)]"
   ]
  },
  {
   "cell_type": "code",
   "execution_count": 26,
   "id": "municipal-former",
   "metadata": {},
   "outputs": [
    {
     "name": "stdout",
     "output_type": "stream",
     "text": [
      "/Users/ANDC/Desktop\\Python\\Dataset_clean.csv\n",
      "/Users/ANDC/Desktop\\Python\\Thuesday-20-02-2018_TrafficForML_CICFlowMeter.csv\n"
     ]
    },
    {
     "data": {
      "text/plain": [
       "[None, None]"
      ]
     },
     "execution_count": 26,
     "metadata": {},
     "output_type": "execute_result"
    }
   ],
   "source": [
    "[print(f) for f in files]"
   ]
  },
  {
   "cell_type": "code",
   "execution_count": 27,
   "id": "comfortable-webmaster",
   "metadata": {},
   "outputs": [],
   "source": [
    "# Reading all the csv files into dataframes and putting thoose DFs to one list.\n",
    "\n",
    "dataset = [pd.read_csv(f) for f in files]"
   ]
  },
  {
   "cell_type": "code",
   "execution_count": 28,
   "id": "close-sydney",
   "metadata": {},
   "outputs": [
    {
     "name": "stdout",
     "output_type": "stream",
     "text": [
      "(7768601, 78)\n",
      "(7948748, 84)\n"
     ]
    }
   ],
   "source": [
    "# Here we can see the number of rows and columns for each table.\n",
    "\n",
    "for d in dataset:\n",
    "    print(d.shape)"
   ]
  },
  {
   "cell_type": "code",
   "execution_count": 29,
   "id": "sticky-creek",
   "metadata": {},
   "outputs": [
    {
     "data": {
      "text/plain": [
       "Index(['Dst Port', 'Flow Duration', 'Tot Fwd Pkts', 'Tot Bwd Pkts',\n",
       "       'TotLen Fwd Pkts', 'TotLen Bwd Pkts', 'Fwd Pkt Len Max',\n",
       "       'Fwd Pkt Len Min', 'Fwd Pkt Len Mean', 'Fwd Pkt Len Std',\n",
       "       'Bwd Pkt Len Max', 'Bwd Pkt Len Min', 'Bwd Pkt Len Mean',\n",
       "       'Bwd Pkt Len Std', 'Flow Byts/s', 'Flow Pkts/s', 'Flow IAT Mean',\n",
       "       'Flow IAT Std', 'Flow IAT Max', 'Flow IAT Min', 'Fwd IAT Tot',\n",
       "       'Fwd IAT Mean', 'Fwd IAT Std', 'Fwd IAT Max', 'Fwd IAT Min',\n",
       "       'Bwd IAT Tot', 'Bwd IAT Mean', 'Bwd IAT Std', 'Bwd IAT Max',\n",
       "       'Bwd IAT Min', 'Fwd PSH Flags', 'Bwd PSH Flags', 'Fwd URG Flags',\n",
       "       'Bwd URG Flags', 'Fwd Header Len', 'Bwd Header Len', 'Fwd Pkts/s',\n",
       "       'Bwd Pkts/s', 'Pkt Len Min', 'Pkt Len Max', 'Pkt Len Mean',\n",
       "       'Pkt Len Std', 'Pkt Len Var', 'FIN Flag Cnt', 'SYN Flag Cnt',\n",
       "       'RST Flag Cnt', 'PSH Flag Cnt', 'ACK Flag Cnt', 'URG Flag Cnt',\n",
       "       'CWE Flag Count', 'ECE Flag Cnt', 'Down/Up Ratio', 'Pkt Size Avg',\n",
       "       'Fwd Seg Size Avg', 'Bwd Seg Size Avg', 'Fwd Byts/b Avg',\n",
       "       'Fwd Pkts/b Avg', 'Fwd Blk Rate Avg', 'Bwd Byts/b Avg',\n",
       "       'Bwd Pkts/b Avg', 'Bwd Blk Rate Avg', 'Subflow Fwd Pkts',\n",
       "       'Subflow Fwd Byts', 'Subflow Bwd Pkts', 'Subflow Bwd Byts',\n",
       "       'Init Fwd Win Byts', 'Init Bwd Win Byts', 'Fwd Act Data Pkts',\n",
       "       'Fwd Seg Size Min', 'Active Mean', 'Active Std', 'Active Max',\n",
       "       'Active Min', 'Idle Mean', 'Idle Std', 'Idle Max', 'Idle Min', 'Label',\n",
       "       'Flow ID', 'Src IP', 'Src Port', 'Dst IP', 'Protocol', 'Timestamp'],\n",
       "      dtype='object')"
      ]
     },
     "execution_count": 29,
     "metadata": {},
     "output_type": "execute_result"
    }
   ],
   "source": [
    "# Concatenate all data into one DataFrame\n",
    "dataset = pd.concat(dataset)\n",
    "dataset.columns"
   ]
  },
  {
   "cell_type": "code",
   "execution_count": 31,
   "id": "narrative-activity",
   "metadata": {},
   "outputs": [],
   "source": [
    "dataset = dataset.drop(['Timestamp', 'Flow ID'], axis=1)"
   ]
  },
  {
   "cell_type": "code",
   "execution_count": 32,
   "id": "auburn-amendment",
   "metadata": {},
   "outputs": [],
   "source": [
    "dataset = dataset.drop(['Src IP', 'Dst IP'], axis=1)"
   ]
  },
  {
   "cell_type": "code",
   "execution_count": 33,
   "id": "functional-shower",
   "metadata": {},
   "outputs": [],
   "source": [
    "dataset = dataset.drop(['Protocol', 'Src Port'], axis=1)"
   ]
  },
  {
   "cell_type": "code",
   "execution_count": 34,
   "id": "surgical-texture",
   "metadata": {},
   "outputs": [
    {
     "data": {
      "text/plain": [
       "Index(['Dst Port', 'Flow Duration', 'Tot Fwd Pkts', 'Tot Bwd Pkts',\n",
       "       'TotLen Fwd Pkts', 'TotLen Bwd Pkts', 'Fwd Pkt Len Max',\n",
       "       'Fwd Pkt Len Min', 'Fwd Pkt Len Mean', 'Fwd Pkt Len Std',\n",
       "       'Bwd Pkt Len Max', 'Bwd Pkt Len Min', 'Bwd Pkt Len Mean',\n",
       "       'Bwd Pkt Len Std', 'Flow Byts/s', 'Flow Pkts/s', 'Flow IAT Mean',\n",
       "       'Flow IAT Std', 'Flow IAT Max', 'Flow IAT Min', 'Fwd IAT Tot',\n",
       "       'Fwd IAT Mean', 'Fwd IAT Std', 'Fwd IAT Max', 'Fwd IAT Min',\n",
       "       'Bwd IAT Tot', 'Bwd IAT Mean', 'Bwd IAT Std', 'Bwd IAT Max',\n",
       "       'Bwd IAT Min', 'Fwd PSH Flags', 'Bwd PSH Flags', 'Fwd URG Flags',\n",
       "       'Bwd URG Flags', 'Fwd Header Len', 'Bwd Header Len', 'Fwd Pkts/s',\n",
       "       'Bwd Pkts/s', 'Pkt Len Min', 'Pkt Len Max', 'Pkt Len Mean',\n",
       "       'Pkt Len Std', 'Pkt Len Var', 'FIN Flag Cnt', 'SYN Flag Cnt',\n",
       "       'RST Flag Cnt', 'PSH Flag Cnt', 'ACK Flag Cnt', 'URG Flag Cnt',\n",
       "       'CWE Flag Count', 'ECE Flag Cnt', 'Down/Up Ratio', 'Pkt Size Avg',\n",
       "       'Fwd Seg Size Avg', 'Bwd Seg Size Avg', 'Fwd Byts/b Avg',\n",
       "       'Fwd Pkts/b Avg', 'Fwd Blk Rate Avg', 'Bwd Byts/b Avg',\n",
       "       'Bwd Pkts/b Avg', 'Bwd Blk Rate Avg', 'Subflow Fwd Pkts',\n",
       "       'Subflow Fwd Byts', 'Subflow Bwd Pkts', 'Subflow Bwd Byts',\n",
       "       'Init Fwd Win Byts', 'Init Bwd Win Byts', 'Fwd Act Data Pkts',\n",
       "       'Fwd Seg Size Min', 'Active Mean', 'Active Std', 'Active Max',\n",
       "       'Active Min', 'Idle Mean', 'Idle Std', 'Idle Max', 'Idle Min', 'Label'],\n",
       "      dtype='object')"
      ]
     },
     "execution_count": 34,
     "metadata": {},
     "output_type": "execute_result"
    }
   ],
   "source": [
    "dataset.columns"
   ]
  },
  {
   "cell_type": "code",
   "execution_count": 36,
   "id": "suburban-classics",
   "metadata": {},
   "outputs": [
    {
     "data": {
      "text/plain": [
       "Benign                      13453622\n",
       "DDOS attack-HOIC              651746\n",
       "DDoS attacks-LOIC-HTTP        576191\n",
       "DoS attacks-Hulk              412124\n",
       "Bot                           278584\n",
       "Infilteration                 161864\n",
       "SSH-Bruteforce                102782\n",
       "DoS attacks-GoldenEye          41404\n",
       "FTP-BruteForce                 19740\n",
       "DoS attacks-Slowloris          10010\n",
       "DoS attacks-SlowHTTPTest        6624\n",
       "DDOS attack-LOIC-UDP            1730\n",
       "Brute Force -Web                 611\n",
       "Brute Force -XSS                 230\n",
       "SQL Injection                     87\n",
       "Name: Label, dtype: int64"
      ]
     },
     "execution_count": 36,
     "metadata": {},
     "output_type": "execute_result"
    }
   ],
   "source": [
    "dataset['Label'].value_counts()"
   ]
  },
  {
   "cell_type": "code",
   "execution_count": 39,
   "id": "underlying-brick",
   "metadata": {},
   "outputs": [
    {
     "data": {
      "text/plain": [
       "(15717349, 78)"
      ]
     },
     "execution_count": 39,
     "metadata": {},
     "output_type": "execute_result"
    }
   ],
   "source": [
    "dataset.shape"
   ]
  },
  {
   "cell_type": "code",
   "execution_count": 40,
   "id": "hindu-tattoo",
   "metadata": {},
   "outputs": [
    {
     "data": {
      "text/html": [
       "<div>\n",
       "<style scoped>\n",
       "    .dataframe tbody tr th:only-of-type {\n",
       "        vertical-align: middle;\n",
       "    }\n",
       "\n",
       "    .dataframe tbody tr th {\n",
       "        vertical-align: top;\n",
       "    }\n",
       "\n",
       "    .dataframe thead th {\n",
       "        text-align: right;\n",
       "    }\n",
       "</style>\n",
       "<table border=\"1\" class=\"dataframe\">\n",
       "  <thead>\n",
       "    <tr style=\"text-align: right;\">\n",
       "      <th></th>\n",
       "      <th>Dst Port</th>\n",
       "      <th>Flow Duration</th>\n",
       "      <th>Tot Fwd Pkts</th>\n",
       "      <th>Tot Bwd Pkts</th>\n",
       "      <th>TotLen Fwd Pkts</th>\n",
       "      <th>TotLen Bwd Pkts</th>\n",
       "      <th>Fwd Pkt Len Max</th>\n",
       "      <th>Fwd Pkt Len Min</th>\n",
       "      <th>Fwd Pkt Len Mean</th>\n",
       "      <th>Fwd Pkt Len Std</th>\n",
       "      <th>...</th>\n",
       "      <th>Fwd Seg Size Min</th>\n",
       "      <th>Active Mean</th>\n",
       "      <th>Active Std</th>\n",
       "      <th>Active Max</th>\n",
       "      <th>Active Min</th>\n",
       "      <th>Idle Mean</th>\n",
       "      <th>Idle Std</th>\n",
       "      <th>Idle Max</th>\n",
       "      <th>Idle Min</th>\n",
       "      <th>Label</th>\n",
       "    </tr>\n",
       "  </thead>\n",
       "  <tbody>\n",
       "    <tr>\n",
       "      <th>0</th>\n",
       "      <td>443</td>\n",
       "      <td>141385</td>\n",
       "      <td>9</td>\n",
       "      <td>7</td>\n",
       "      <td>553.0</td>\n",
       "      <td>3773.0</td>\n",
       "      <td>202.0</td>\n",
       "      <td>0.0</td>\n",
       "      <td>61.444444</td>\n",
       "      <td>87.534438</td>\n",
       "      <td>...</td>\n",
       "      <td>20</td>\n",
       "      <td>0.0</td>\n",
       "      <td>0.0</td>\n",
       "      <td>0.0</td>\n",
       "      <td>0.0</td>\n",
       "      <td>0.0</td>\n",
       "      <td>0.0</td>\n",
       "      <td>0.0</td>\n",
       "      <td>0.0</td>\n",
       "      <td>Benign</td>\n",
       "    </tr>\n",
       "    <tr>\n",
       "      <th>1</th>\n",
       "      <td>49684</td>\n",
       "      <td>281</td>\n",
       "      <td>2</td>\n",
       "      <td>1</td>\n",
       "      <td>38.0</td>\n",
       "      <td>0.0</td>\n",
       "      <td>38.0</td>\n",
       "      <td>0.0</td>\n",
       "      <td>19.000000</td>\n",
       "      <td>26.870058</td>\n",
       "      <td>...</td>\n",
       "      <td>20</td>\n",
       "      <td>0.0</td>\n",
       "      <td>0.0</td>\n",
       "      <td>0.0</td>\n",
       "      <td>0.0</td>\n",
       "      <td>0.0</td>\n",
       "      <td>0.0</td>\n",
       "      <td>0.0</td>\n",
       "      <td>0.0</td>\n",
       "      <td>Benign</td>\n",
       "    </tr>\n",
       "    <tr>\n",
       "      <th>2</th>\n",
       "      <td>443</td>\n",
       "      <td>279824</td>\n",
       "      <td>11</td>\n",
       "      <td>15</td>\n",
       "      <td>1086.0</td>\n",
       "      <td>10527.0</td>\n",
       "      <td>385.0</td>\n",
       "      <td>0.0</td>\n",
       "      <td>98.727273</td>\n",
       "      <td>129.392497</td>\n",
       "      <td>...</td>\n",
       "      <td>20</td>\n",
       "      <td>0.0</td>\n",
       "      <td>0.0</td>\n",
       "      <td>0.0</td>\n",
       "      <td>0.0</td>\n",
       "      <td>0.0</td>\n",
       "      <td>0.0</td>\n",
       "      <td>0.0</td>\n",
       "      <td>0.0</td>\n",
       "      <td>Benign</td>\n",
       "    </tr>\n",
       "    <tr>\n",
       "      <th>3</th>\n",
       "      <td>443</td>\n",
       "      <td>132</td>\n",
       "      <td>2</td>\n",
       "      <td>0</td>\n",
       "      <td>0.0</td>\n",
       "      <td>0.0</td>\n",
       "      <td>0.0</td>\n",
       "      <td>0.0</td>\n",
       "      <td>0.000000</td>\n",
       "      <td>0.000000</td>\n",
       "      <td>...</td>\n",
       "      <td>20</td>\n",
       "      <td>0.0</td>\n",
       "      <td>0.0</td>\n",
       "      <td>0.0</td>\n",
       "      <td>0.0</td>\n",
       "      <td>0.0</td>\n",
       "      <td>0.0</td>\n",
       "      <td>0.0</td>\n",
       "      <td>0.0</td>\n",
       "      <td>Benign</td>\n",
       "    </tr>\n",
       "    <tr>\n",
       "      <th>4</th>\n",
       "      <td>443</td>\n",
       "      <td>274016</td>\n",
       "      <td>9</td>\n",
       "      <td>13</td>\n",
       "      <td>1285.0</td>\n",
       "      <td>6141.0</td>\n",
       "      <td>517.0</td>\n",
       "      <td>0.0</td>\n",
       "      <td>142.777778</td>\n",
       "      <td>183.887722</td>\n",
       "      <td>...</td>\n",
       "      <td>20</td>\n",
       "      <td>0.0</td>\n",
       "      <td>0.0</td>\n",
       "      <td>0.0</td>\n",
       "      <td>0.0</td>\n",
       "      <td>0.0</td>\n",
       "      <td>0.0</td>\n",
       "      <td>0.0</td>\n",
       "      <td>0.0</td>\n",
       "      <td>Benign</td>\n",
       "    </tr>\n",
       "  </tbody>\n",
       "</table>\n",
       "<p>5 rows × 78 columns</p>\n",
       "</div>"
      ],
      "text/plain": [
       "   Dst Port  Flow Duration  Tot Fwd Pkts  Tot Bwd Pkts  TotLen Fwd Pkts  \\\n",
       "0       443         141385             9             7            553.0   \n",
       "1     49684            281             2             1             38.0   \n",
       "2       443         279824            11            15           1086.0   \n",
       "3       443            132             2             0              0.0   \n",
       "4       443         274016             9            13           1285.0   \n",
       "\n",
       "   TotLen Bwd Pkts  Fwd Pkt Len Max  Fwd Pkt Len Min  Fwd Pkt Len Mean  \\\n",
       "0           3773.0            202.0              0.0         61.444444   \n",
       "1              0.0             38.0              0.0         19.000000   \n",
       "2          10527.0            385.0              0.0         98.727273   \n",
       "3              0.0              0.0              0.0          0.000000   \n",
       "4           6141.0            517.0              0.0        142.777778   \n",
       "\n",
       "   Fwd Pkt Len Std  ...  Fwd Seg Size Min  Active Mean  Active Std  \\\n",
       "0        87.534438  ...                20          0.0         0.0   \n",
       "1        26.870058  ...                20          0.0         0.0   \n",
       "2       129.392497  ...                20          0.0         0.0   \n",
       "3         0.000000  ...                20          0.0         0.0   \n",
       "4       183.887722  ...                20          0.0         0.0   \n",
       "\n",
       "   Active Max  Active Min  Idle Mean  Idle Std  Idle Max  Idle Min   Label  \n",
       "0         0.0         0.0        0.0       0.0       0.0       0.0  Benign  \n",
       "1         0.0         0.0        0.0       0.0       0.0       0.0  Benign  \n",
       "2         0.0         0.0        0.0       0.0       0.0       0.0  Benign  \n",
       "3         0.0         0.0        0.0       0.0       0.0       0.0  Benign  \n",
       "4         0.0         0.0        0.0       0.0       0.0       0.0  Benign  \n",
       "\n",
       "[5 rows x 78 columns]"
      ]
     },
     "execution_count": 40,
     "metadata": {},
     "output_type": "execute_result"
    }
   ],
   "source": [
    "dataset.head()"
   ]
  },
  {
   "cell_type": "code",
   "execution_count": 41,
   "id": "forced-break",
   "metadata": {},
   "outputs": [
    {
     "name": "stdout",
     "output_type": "stream",
     "text": [
      "['Benign' 'Bot' 'DoS attacks-SlowHTTPTest' 'DoS attacks-Hulk'\n",
      " 'Brute Force -Web' 'Brute Force -XSS' 'SQL Injection' 'Infilteration'\n",
      " 'DoS attacks-GoldenEye' 'DoS attacks-Slowloris' 'FTP-BruteForce'\n",
      " 'SSH-Bruteforce' 'DDOS attack-LOIC-UDP' 'DDOS attack-HOIC'\n",
      " 'DDoS attacks-LOIC-HTTP']\n"
     ]
    },
    {
     "data": {
      "text/plain": [
       "15"
      ]
     },
     "execution_count": 41,
     "metadata": {},
     "output_type": "execute_result"
    }
   ],
   "source": [
    "print(dataset['Label'].unique())\n",
    "len(dataset['Label'].unique())"
   ]
  },
  {
   "cell_type": "code",
   "execution_count": 42,
   "id": "significant-parking",
   "metadata": {},
   "outputs": [],
   "source": [
    "data = dataset['Label'].where(dataset['Label'] != \"BENIGN\")"
   ]
  },
  {
   "cell_type": "code",
   "execution_count": 43,
   "id": "least-explorer",
   "metadata": {},
   "outputs": [
    {
     "name": "stderr",
     "output_type": "stream",
     "text": [
      "c:\\users\\andc\\appdata\\local\\programs\\python\\python37\\lib\\site-packages\\seaborn\\_decorators.py:43: FutureWarning: Pass the following variable as a keyword arg: x. From version 0.12, the only valid positional argument will be `data`, and passing other arguments without an explicit keyword will result in an error or misinterpretation.\n",
      "  FutureWarning\n"
     ]
    },
    {
     "data": {
      "text/plain": [
       "(array([ 0,  1,  2,  3,  4,  5,  6,  7,  8,  9, 10, 11, 12, 13, 14]),\n",
       " [Text(0, 0, 'Benign'),\n",
       "  Text(1, 0, 'Bot'),\n",
       "  Text(2, 0, 'DoS attacks-SlowHTTPTest'),\n",
       "  Text(3, 0, 'DoS attacks-Hulk'),\n",
       "  Text(4, 0, 'Brute Force -Web'),\n",
       "  Text(5, 0, 'Brute Force -XSS'),\n",
       "  Text(6, 0, 'SQL Injection'),\n",
       "  Text(7, 0, 'Infilteration'),\n",
       "  Text(8, 0, 'DoS attacks-GoldenEye'),\n",
       "  Text(9, 0, 'DoS attacks-Slowloris'),\n",
       "  Text(10, 0, 'FTP-BruteForce'),\n",
       "  Text(11, 0, 'SSH-Bruteforce'),\n",
       "  Text(12, 0, 'DDOS attack-LOIC-UDP'),\n",
       "  Text(13, 0, 'DDOS attack-HOIC'),\n",
       "  Text(14, 0, 'DDoS attacks-LOIC-HTTP')])"
      ]
     },
     "execution_count": 43,
     "metadata": {},
     "output_type": "execute_result"
    },
    {
     "data": {
      "image/png": "[encoded data removed]",
      "text/plain": [
       "<Figure size 1080x432 with 1 Axes>"
      ]
     },
     "metadata": {
      "needs_background": "light"
     },
     "output_type": "display_data"
    }
   ],
   "source": [
    "plt.figure(figsize=(15,6))\n",
    "chart = sns.countplot(data, palette=\"Set1\")\n",
    "plt.xticks(rotation=45, horizontalalignment=\"right\")"
   ]
  },
  {
   "cell_type": "markdown",
   "id": "unable-assets",
   "metadata": {},
   "source": [
    "### Data Cleaning"
   ]
  },
  {
   "cell_type": "code",
   "execution_count": 44,
   "id": "extraordinary-render",
   "metadata": {},
   "outputs": [],
   "source": [
    "# Saving cleaned dataset.\n",
    "\n",
    "dataset.to_csv(\"Dataset_clean_full_raw.csv\", index=False)"
   ]
  },
  {
   "cell_type": "code",
   "execution_count": 3,
   "id": "flush-folder",
   "metadata": {},
   "outputs": [],
   "source": [
    "dataset = pd.read_csv(\"Dataset_clean_full_raw.csv\")"
   ]
  },
  {
   "cell_type": "code",
   "execution_count": 4,
   "id": "direct-rates",
   "metadata": {
    "scrolled": true
   },
   "outputs": [
    {
     "name": "stdout",
     "output_type": "stream",
     "text": [
      "<class 'pandas.core.frame.DataFrame'>\n",
      "RangeIndex: 15717349 entries, 0 to 15717348\n",
      "Data columns (total 78 columns):\n",
      " #   Column             Dtype  \n",
      "---  ------             -----  \n",
      " 0   Dst Port           int64  \n",
      " 1   Flow Duration      int64  \n",
      " 2   Tot Fwd Pkts       int64  \n",
      " 3   Tot Bwd Pkts       int64  \n",
      " 4   TotLen Fwd Pkts    float64\n",
      " 5   TotLen Bwd Pkts    float64\n",
      " 6   Fwd Pkt Len Max    float64\n",
      " 7   Fwd Pkt Len Min    float64\n",
      " 8   Fwd Pkt Len Mean   float64\n",
      " 9   Fwd Pkt Len Std    float64\n",
      " 10  Bwd Pkt Len Max    float64\n",
      " 11  Bwd Pkt Len Min    float64\n",
      " 12  Bwd Pkt Len Mean   float64\n",
      " 13  Bwd Pkt Len Std    float64\n",
      " 14  Flow Byts/s        float64\n",
      " 15  Flow Pkts/s        float64\n",
      " 16  Flow IAT Mean      float64\n",
      " 17  Flow IAT Std       float64\n",
      " 18  Flow IAT Max       float64\n",
      " 19  Flow IAT Min       float64\n",
      " 20  Fwd IAT Tot        float64\n",
      " 21  Fwd IAT Mean       float64\n",
      " 22  Fwd IAT Std        float64\n",
      " 23  Fwd IAT Max        float64\n",
      " 24  Fwd IAT Min        float64\n",
      " 25  Bwd IAT Tot        float64\n",
      " 26  Bwd IAT Mean       float64\n",
      " 27  Bwd IAT Std        float64\n",
      " 28  Bwd IAT Max        float64\n",
      " 29  Bwd IAT Min        float64\n",
      " 30  Fwd PSH Flags      int64  \n",
      " 31  Bwd PSH Flags      int64  \n",
      " 32  Fwd URG Flags      int64  \n",
      " 33  Bwd URG Flags      int64  \n",
      " 34  Fwd Header Len     int64  \n",
      " 35  Bwd Header Len     int64  \n",
      " 36  Fwd Pkts/s         float64\n",
      " 37  Bwd Pkts/s         float64\n",
      " 38  Pkt Len Min        float64\n",
      " 39  Pkt Len Max        float64\n",
      " 40  Pkt Len Mean       float64\n",
      " 41  Pkt Len Std        float64\n",
      " 42  Pkt Len Var        float64\n",
      " 43  FIN Flag Cnt       int64  \n",
      " 44  SYN Flag Cnt       int64  \n",
      " 45  RST Flag Cnt       int64  \n",
      " 46  PSH Flag Cnt       int64  \n",
      " 47  ACK Flag Cnt       int64  \n",
      " 48  URG Flag Cnt       int64  \n",
      " 49  CWE Flag Count     int64  \n",
      " 50  ECE Flag Cnt       int64  \n",
      " 51  Down/Up Ratio      float64\n",
      " 52  Pkt Size Avg       float64\n",
      " 53  Fwd Seg Size Avg   float64\n",
      " 54  Bwd Seg Size Avg   float64\n",
      " 55  Fwd Byts/b Avg     int64  \n",
      " 56  Fwd Pkts/b Avg     int64  \n",
      " 57  Fwd Blk Rate Avg   int64  \n",
      " 58  Bwd Byts/b Avg     int64  \n",
      " 59  Bwd Pkts/b Avg     int64  \n",
      " 60  Bwd Blk Rate Avg   int64  \n",
      " 61  Subflow Fwd Pkts   int64  \n",
      " 62  Subflow Fwd Byts   int64  \n",
      " 63  Subflow Bwd Pkts   int64  \n",
      " 64  Subflow Bwd Byts   int64  \n",
      " 65  Init Fwd Win Byts  int64  \n",
      " 66  Init Bwd Win Byts  int64  \n",
      " 67  Fwd Act Data Pkts  int64  \n",
      " 68  Fwd Seg Size Min   int64  \n",
      " 69  Active Mean        float64\n",
      " 70  Active Std         float64\n",
      " 71  Active Max         float64\n",
      " 72  Active Min         float64\n",
      " 73  Idle Mean          float64\n",
      " 74  Idle Std           float64\n",
      " 75  Idle Max           float64\n",
      " 76  Idle Min           float64\n",
      " 77  Label              object \n",
      "dtypes: float64(45), int64(32), object(1)\n",
      "memory usage: 9.1+ GB\n"
     ]
    }
   ],
   "source": [
    "dataset.info()"
   ]
  },
  {
   "cell_type": "code",
   "execution_count": 5,
   "id": "spatial-drunk",
   "metadata": {},
   "outputs": [
    {
     "data": {
      "text/html": [
       "<div>\n",
       "<style scoped>\n",
       "    .dataframe tbody tr th:only-of-type {\n",
       "        vertical-align: middle;\n",
       "    }\n",
       "\n",
       "    .dataframe tbody tr th {\n",
       "        vertical-align: top;\n",
       "    }\n",
       "\n",
       "    .dataframe thead th {\n",
       "        text-align: right;\n",
       "    }\n",
       "</style>\n",
       "<table border=\"1\" class=\"dataframe\">\n",
       "  <thead>\n",
       "    <tr style=\"text-align: right;\">\n",
       "      <th></th>\n",
       "      <th>Dst Port</th>\n",
       "      <th>Flow Duration</th>\n",
       "      <th>Tot Fwd Pkts</th>\n",
       "      <th>Tot Bwd Pkts</th>\n",
       "      <th>TotLen Fwd Pkts</th>\n",
       "      <th>TotLen Bwd Pkts</th>\n",
       "      <th>Fwd Pkt Len Max</th>\n",
       "      <th>Fwd Pkt Len Min</th>\n",
       "      <th>Fwd Pkt Len Mean</th>\n",
       "      <th>Fwd Pkt Len Std</th>\n",
       "      <th>...</th>\n",
       "      <th>Fwd Seg Size Min</th>\n",
       "      <th>Active Mean</th>\n",
       "      <th>Active Std</th>\n",
       "      <th>Active Max</th>\n",
       "      <th>Active Min</th>\n",
       "      <th>Idle Mean</th>\n",
       "      <th>Idle Std</th>\n",
       "      <th>Idle Max</th>\n",
       "      <th>Idle Min</th>\n",
       "      <th>Label</th>\n",
       "    </tr>\n",
       "  </thead>\n",
       "  <tbody>\n",
       "    <tr>\n",
       "      <th>0</th>\n",
       "      <td>443</td>\n",
       "      <td>141385</td>\n",
       "      <td>9</td>\n",
       "      <td>7</td>\n",
       "      <td>553.0</td>\n",
       "      <td>3773.0</td>\n",
       "      <td>202.0</td>\n",
       "      <td>0.0</td>\n",
       "      <td>61.444444</td>\n",
       "      <td>87.534438</td>\n",
       "      <td>...</td>\n",
       "      <td>20</td>\n",
       "      <td>0.0</td>\n",
       "      <td>0.0</td>\n",
       "      <td>0.0</td>\n",
       "      <td>0.0</td>\n",
       "      <td>0.0</td>\n",
       "      <td>0.0</td>\n",
       "      <td>0.0</td>\n",
       "      <td>0.0</td>\n",
       "      <td>Benign</td>\n",
       "    </tr>\n",
       "    <tr>\n",
       "      <th>1</th>\n",
       "      <td>49684</td>\n",
       "      <td>281</td>\n",
       "      <td>2</td>\n",
       "      <td>1</td>\n",
       "      <td>38.0</td>\n",
       "      <td>0.0</td>\n",
       "      <td>38.0</td>\n",
       "      <td>0.0</td>\n",
       "      <td>19.000000</td>\n",
       "      <td>26.870058</td>\n",
       "      <td>...</td>\n",
       "      <td>20</td>\n",
       "      <td>0.0</td>\n",
       "      <td>0.0</td>\n",
       "      <td>0.0</td>\n",
       "      <td>0.0</td>\n",
       "      <td>0.0</td>\n",
       "      <td>0.0</td>\n",
       "      <td>0.0</td>\n",
       "      <td>0.0</td>\n",
       "      <td>Benign</td>\n",
       "    </tr>\n",
       "    <tr>\n",
       "      <th>2</th>\n",
       "      <td>443</td>\n",
       "      <td>279824</td>\n",
       "      <td>11</td>\n",
       "      <td>15</td>\n",
       "      <td>1086.0</td>\n",
       "      <td>10527.0</td>\n",
       "      <td>385.0</td>\n",
       "      <td>0.0</td>\n",
       "      <td>98.727273</td>\n",
       "      <td>129.392497</td>\n",
       "      <td>...</td>\n",
       "      <td>20</td>\n",
       "      <td>0.0</td>\n",
       "      <td>0.0</td>\n",
       "      <td>0.0</td>\n",
       "      <td>0.0</td>\n",
       "      <td>0.0</td>\n",
       "      <td>0.0</td>\n",
       "      <td>0.0</td>\n",
       "      <td>0.0</td>\n",
       "      <td>Benign</td>\n",
       "    </tr>\n",
       "    <tr>\n",
       "      <th>3</th>\n",
       "      <td>443</td>\n",
       "      <td>132</td>\n",
       "      <td>2</td>\n",
       "      <td>0</td>\n",
       "      <td>0.0</td>\n",
       "      <td>0.0</td>\n",
       "      <td>0.0</td>\n",
       "      <td>0.0</td>\n",
       "      <td>0.000000</td>\n",
       "      <td>0.000000</td>\n",
       "      <td>...</td>\n",
       "      <td>20</td>\n",
       "      <td>0.0</td>\n",
       "      <td>0.0</td>\n",
       "      <td>0.0</td>\n",
       "      <td>0.0</td>\n",
       "      <td>0.0</td>\n",
       "      <td>0.0</td>\n",
       "      <td>0.0</td>\n",
       "      <td>0.0</td>\n",
       "      <td>Benign</td>\n",
       "    </tr>\n",
       "    <tr>\n",
       "      <th>4</th>\n",
       "      <td>443</td>\n",
       "      <td>274016</td>\n",
       "      <td>9</td>\n",
       "      <td>13</td>\n",
       "      <td>1285.0</td>\n",
       "      <td>6141.0</td>\n",
       "      <td>517.0</td>\n",
       "      <td>0.0</td>\n",
       "      <td>142.777778</td>\n",
       "      <td>183.887722</td>\n",
       "      <td>...</td>\n",
       "      <td>20</td>\n",
       "      <td>0.0</td>\n",
       "      <td>0.0</td>\n",
       "      <td>0.0</td>\n",
       "      <td>0.0</td>\n",
       "      <td>0.0</td>\n",
       "      <td>0.0</td>\n",
       "      <td>0.0</td>\n",
       "      <td>0.0</td>\n",
       "      <td>Benign</td>\n",
       "    </tr>\n",
       "  </tbody>\n",
       "</table>\n",
       "<p>5 rows × 78 columns</p>\n",
       "</div>"
      ],
      "text/plain": [
       "   Dst Port  Flow Duration  Tot Fwd Pkts  Tot Bwd Pkts  TotLen Fwd Pkts  \\\n",
       "0       443         141385             9             7            553.0   \n",
       "1     49684            281             2             1             38.0   \n",
       "2       443         279824            11            15           1086.0   \n",
       "3       443            132             2             0              0.0   \n",
       "4       443         274016             9            13           1285.0   \n",
       "\n",
       "   TotLen Bwd Pkts  Fwd Pkt Len Max  Fwd Pkt Len Min  Fwd Pkt Len Mean  \\\n",
       "0           3773.0            202.0              0.0         61.444444   \n",
       "1              0.0             38.0              0.0         19.000000   \n",
       "2          10527.0            385.0              0.0         98.727273   \n",
       "3              0.0              0.0              0.0          0.000000   \n",
       "4           6141.0            517.0              0.0        142.777778   \n",
       "\n",
       "   Fwd Pkt Len Std  ...  Fwd Seg Size Min  Active Mean  Active Std  \\\n",
       "0        87.534438  ...                20          0.0         0.0   \n",
       "1        26.870058  ...                20          0.0         0.0   \n",
       "2       129.392497  ...                20          0.0         0.0   \n",
       "3         0.000000  ...                20          0.0         0.0   \n",
       "4       183.887722  ...                20          0.0         0.0   \n",
       "\n",
       "   Active Max  Active Min  Idle Mean  Idle Std  Idle Max  Idle Min   Label  \n",
       "0         0.0         0.0        0.0       0.0       0.0       0.0  Benign  \n",
       "1         0.0         0.0        0.0       0.0       0.0       0.0  Benign  \n",
       "2         0.0         0.0        0.0       0.0       0.0       0.0  Benign  \n",
       "3         0.0         0.0        0.0       0.0       0.0       0.0  Benign  \n",
       "4         0.0         0.0        0.0       0.0       0.0       0.0  Benign  \n",
       "\n",
       "[5 rows x 78 columns]"
      ]
     },
     "execution_count": 5,
     "metadata": {},
     "output_type": "execute_result"
    }
   ],
   "source": [
    "dataset.head()"
   ]
  },
  {
   "cell_type": "code",
   "execution_count": 6,
   "id": "minimal-discussion",
   "metadata": {},
   "outputs": [],
   "source": [
    "# Renaming columns\n"
   ]
  },
  {
   "cell_type": "code",
   "execution_count": 7,
   "id": "qualified-seventh",
   "metadata": {},
   "outputs": [
    {
     "data": {
      "text/html": [
       "<div>\n",
       "<style scoped>\n",
       "    .dataframe tbody tr th:only-of-type {\n",
       "        vertical-align: middle;\n",
       "    }\n",
       "\n",
       "    .dataframe tbody tr th {\n",
       "        vertical-align: top;\n",
       "    }\n",
       "\n",
       "    .dataframe thead th {\n",
       "        text-align: right;\n",
       "    }\n",
       "</style>\n",
       "<table border=\"1\" class=\"dataframe\">\n",
       "  <thead>\n",
       "    <tr style=\"text-align: right;\">\n",
       "      <th></th>\n",
       "      <th>DstPort</th>\n",
       "      <th>FlowDuration</th>\n",
       "      <th>TotFwdPkts</th>\n",
       "      <th>TotBwdPkts</th>\n",
       "      <th>TotLenFwdPkts</th>\n",
       "      <th>TotLenBwdPkts</th>\n",
       "      <th>FwdPktLenMax</th>\n",
       "      <th>FwdPktLenMin</th>\n",
       "      <th>FwdPktLenMean</th>\n",
       "      <th>FwdPktLenStd</th>\n",
       "      <th>...</th>\n",
       "      <th>FwdSegSizeMin</th>\n",
       "      <th>ActiveMean</th>\n",
       "      <th>ActiveStd</th>\n",
       "      <th>ActiveMax</th>\n",
       "      <th>ActiveMin</th>\n",
       "      <th>IdleMean</th>\n",
       "      <th>IdleStd</th>\n",
       "      <th>IdleMax</th>\n",
       "      <th>IdleMin</th>\n",
       "      <th>Label</th>\n",
       "    </tr>\n",
       "  </thead>\n",
       "  <tbody>\n",
       "    <tr>\n",
       "      <th>0</th>\n",
       "      <td>443</td>\n",
       "      <td>141385</td>\n",
       "      <td>9</td>\n",
       "      <td>7</td>\n",
       "      <td>553.0</td>\n",
       "      <td>3773.0</td>\n",
       "      <td>202.0</td>\n",
       "      <td>0.0</td>\n",
       "      <td>61.444444</td>\n",
       "      <td>87.534438</td>\n",
       "      <td>...</td>\n",
       "      <td>20</td>\n",
       "      <td>0.0</td>\n",
       "      <td>0.0</td>\n",
       "      <td>0.0</td>\n",
       "      <td>0.0</td>\n",
       "      <td>0.0</td>\n",
       "      <td>0.0</td>\n",
       "      <td>0.0</td>\n",
       "      <td>0.0</td>\n",
       "      <td>Benign</td>\n",
       "    </tr>\n",
       "    <tr>\n",
       "      <th>1</th>\n",
       "      <td>49684</td>\n",
       "      <td>281</td>\n",
       "      <td>2</td>\n",
       "      <td>1</td>\n",
       "      <td>38.0</td>\n",
       "      <td>0.0</td>\n",
       "      <td>38.0</td>\n",
       "      <td>0.0</td>\n",
       "      <td>19.000000</td>\n",
       "      <td>26.870058</td>\n",
       "      <td>...</td>\n",
       "      <td>20</td>\n",
       "      <td>0.0</td>\n",
       "      <td>0.0</td>\n",
       "      <td>0.0</td>\n",
       "      <td>0.0</td>\n",
       "      <td>0.0</td>\n",
       "      <td>0.0</td>\n",
       "      <td>0.0</td>\n",
       "      <td>0.0</td>\n",
       "      <td>Benign</td>\n",
       "    </tr>\n",
       "    <tr>\n",
       "      <th>2</th>\n",
       "      <td>443</td>\n",
       "      <td>279824</td>\n",
       "      <td>11</td>\n",
       "      <td>15</td>\n",
       "      <td>1086.0</td>\n",
       "      <td>10527.0</td>\n",
       "      <td>385.0</td>\n",
       "      <td>0.0</td>\n",
       "      <td>98.727273</td>\n",
       "      <td>129.392497</td>\n",
       "      <td>...</td>\n",
       "      <td>20</td>\n",
       "      <td>0.0</td>\n",
       "      <td>0.0</td>\n",
       "      <td>0.0</td>\n",
       "      <td>0.0</td>\n",
       "      <td>0.0</td>\n",
       "      <td>0.0</td>\n",
       "      <td>0.0</td>\n",
       "      <td>0.0</td>\n",
       "      <td>Benign</td>\n",
       "    </tr>\n",
       "    <tr>\n",
       "      <th>3</th>\n",
       "      <td>443</td>\n",
       "      <td>132</td>\n",
       "      <td>2</td>\n",
       "      <td>0</td>\n",
       "      <td>0.0</td>\n",
       "      <td>0.0</td>\n",
       "      <td>0.0</td>\n",
       "      <td>0.0</td>\n",
       "      <td>0.000000</td>\n",
       "      <td>0.000000</td>\n",
       "      <td>...</td>\n",
       "      <td>20</td>\n",
       "      <td>0.0</td>\n",
       "      <td>0.0</td>\n",
       "      <td>0.0</td>\n",
       "      <td>0.0</td>\n",
       "      <td>0.0</td>\n",
       "      <td>0.0</td>\n",
       "      <td>0.0</td>\n",
       "      <td>0.0</td>\n",
       "      <td>Benign</td>\n",
       "    </tr>\n",
       "    <tr>\n",
       "      <th>4</th>\n",
       "      <td>443</td>\n",
       "      <td>274016</td>\n",
       "      <td>9</td>\n",
       "      <td>13</td>\n",
       "      <td>1285.0</td>\n",
       "      <td>6141.0</td>\n",
       "      <td>517.0</td>\n",
       "      <td>0.0</td>\n",
       "      <td>142.777778</td>\n",
       "      <td>183.887722</td>\n",
       "      <td>...</td>\n",
       "      <td>20</td>\n",
       "      <td>0.0</td>\n",
       "      <td>0.0</td>\n",
       "      <td>0.0</td>\n",
       "      <td>0.0</td>\n",
       "      <td>0.0</td>\n",
       "      <td>0.0</td>\n",
       "      <td>0.0</td>\n",
       "      <td>0.0</td>\n",
       "      <td>Benign</td>\n",
       "    </tr>\n",
       "  </tbody>\n",
       "</table>\n",
       "<p>5 rows × 78 columns</p>\n",
       "</div>"
      ],
      "text/plain": [
       "   DstPort  FlowDuration  TotFwdPkts  TotBwdPkts  TotLenFwdPkts  \\\n",
       "0      443        141385           9           7          553.0   \n",
       "1    49684           281           2           1           38.0   \n",
       "2      443        279824          11          15         1086.0   \n",
       "3      443           132           2           0            0.0   \n",
       "4      443        274016           9          13         1285.0   \n",
       "\n",
       "   TotLenBwdPkts  FwdPktLenMax  FwdPktLenMin  FwdPktLenMean  FwdPktLenStd  \\\n",
       "0         3773.0         202.0           0.0      61.444444     87.534438   \n",
       "1            0.0          38.0           0.0      19.000000     26.870058   \n",
       "2        10527.0         385.0           0.0      98.727273    129.392497   \n",
       "3            0.0           0.0           0.0       0.000000      0.000000   \n",
       "4         6141.0         517.0           0.0     142.777778    183.887722   \n",
       "\n",
       "   ...  FwdSegSizeMin  ActiveMean  ActiveStd  ActiveMax  ActiveMin  IdleMean  \\\n",
       "0  ...             20         0.0        0.0        0.0        0.0       0.0   \n",
       "1  ...             20         0.0        0.0        0.0        0.0       0.0   \n",
       "2  ...             20         0.0        0.0        0.0        0.0       0.0   \n",
       "3  ...             20         0.0        0.0        0.0        0.0       0.0   \n",
       "4  ...             20         0.0        0.0        0.0        0.0       0.0   \n",
       "\n",
       "   IdleStd  IdleMax  IdleMin   Label  \n",
       "0      0.0      0.0      0.0  Benign  \n",
       "1      0.0      0.0      0.0  Benign  \n",
       "2      0.0      0.0      0.0  Benign  \n",
       "3      0.0      0.0      0.0  Benign  \n",
       "4      0.0      0.0      0.0  Benign  \n",
       "\n",
       "[5 rows x 78 columns]"
      ]
     },
     "execution_count": 7,
     "metadata": {},
     "output_type": "execute_result"
    }
   ],
   "source": [
    "# Removing whitespaces in column names.\n",
    "\n",
    "col_names = [col.replace(' ', '') for col in dataset.columns]\n",
    "dataset.columns = col_names\n",
    "dataset.head()"
   ]
  },
  {
   "cell_type": "code",
   "execution_count": 8,
   "id": "stopped-nicaragua",
   "metadata": {},
   "outputs": [
    {
     "data": {
      "text/plain": [
       "array(['Benign', 'Bot', 'DoS attacks-SlowHTTPTest', 'DoS attacks-Hulk',\n",
       "       'Brute Force -Web', 'Brute Force -XSS', 'SQL Injection',\n",
       "       'Infilteration', 'DoS attacks-GoldenEye', 'DoS attacks-Slowloris',\n",
       "       'FTP-BruteForce', 'SSH-Bruteforce', 'DDOS attack-LOIC-UDP',\n",
       "       'DDOS attack-HOIC', 'DDoS attacks-LOIC-HTTP'], dtype=object)"
      ]
     },
     "execution_count": 8,
     "metadata": {},
     "output_type": "execute_result"
    }
   ],
   "source": [
    "\n",
    "# Here we can see that 'Label' column contains some wierd characters. \n",
    "\n",
    "dataset[\"Label\"].unique()"
   ]
  },
  {
   "cell_type": "code",
   "execution_count": 9,
   "id": "continuing-consistency",
   "metadata": {},
   "outputs": [
    {
     "data": {
      "text/plain": [
       "(['Benign',\n",
       "  'Bot',\n",
       "  'DoS_attacksSlowHTTPTest',\n",
       "  'DoS_attacksHulk',\n",
       "  'Brute_Force_Web',\n",
       "  'Brute_Force_XSS',\n",
       "  'SQL_Injection',\n",
       "  'Infilteration',\n",
       "  'DoS_attacksGoldenEye',\n",
       "  'DoS_attacksSlowloris',\n",
       "  'FTPBruteForce',\n",
       "  'SSHBruteforce',\n",
       "  'DDOS_attackLOICUDP',\n",
       "  'DDOS_attackHOIC',\n",
       "  'DDoS_attacksLOICHTTP'],\n",
       " 15)"
      ]
     },
     "execution_count": 9,
     "metadata": {},
     "output_type": "execute_result"
    }
   ],
   "source": [
    "# This next snippet uses regular expressions to replace wierd characters with dunders.\n",
    "\n",
    "label_names = dataset['Label'].unique()\n",
    "\n",
    "\n",
    "import re\n",
    "\n",
    "label_names = [re.sub(\"[^a-zA-Z ]+\", \"\", l) for l in label_names]\n",
    "label_names = [re.sub(\"[\\s\\s]\", '_', l) for l in label_names]\n",
    "label_names = [lab.replace(\"__\", \"_\") for lab in label_names]\n",
    "\n",
    "label_names, len(label_names)"
   ]
  },
  {
   "cell_type": "code",
   "execution_count": 10,
   "id": "relative-chest",
   "metadata": {},
   "outputs": [
    {
     "data": {
      "text/plain": [
       "array(['Benign', 'Bot', 'DoS_attacksSlowHTTPTest', 'DoS_attacksHulk',\n",
       "       'Brute_Force_Web', 'Brute_Force_XSS', 'SQL_Injection',\n",
       "       'Infilteration', 'DoS_attacksGoldenEye', 'DoS_attacksSlowloris',\n",
       "       'FTPBruteForce', 'SSHBruteforce', 'DDOS_attackLOICUDP',\n",
       "       'DDOS_attackHOIC', 'DDoS_attacksLOICHTTP'], dtype=object)"
      ]
     },
     "execution_count": 10,
     "metadata": {},
     "output_type": "execute_result"
    }
   ],
   "source": [
    "# Replacing 'Label' column values with new readable values.\n",
    "\n",
    "labels = dataset['Label'].unique()\n",
    "\n",
    "for i in range(0,len(label_names)):\n",
    "    dataset['Label'] = dataset['Label'].replace({labels[i] : label_names[i]})\n",
    "    \n",
    "dataset['Label'].unique()"
   ]
  },
  {
   "cell_type": "code",
   "execution_count": 11,
   "id": "upper-parish",
   "metadata": {},
   "outputs": [
    {
     "data": {
      "text/plain": [
       "15"
      ]
     },
     "execution_count": 11,
     "metadata": {},
     "output_type": "execute_result"
    }
   ],
   "source": [
    "len(dataset['Label'].unique())"
   ]
  },
  {
   "cell_type": "code",
   "execution_count": 12,
   "id": "blank-calvin",
   "metadata": {},
   "outputs": [],
   "source": [
    "\n",
    "# Removing NULL values"
   ]
  },
  {
   "cell_type": "code",
   "execution_count": 13,
   "id": "informed-management",
   "metadata": {},
   "outputs": [
    {
     "data": {
      "text/html": [
       "<div>\n",
       "<style scoped>\n",
       "    .dataframe tbody tr th:only-of-type {\n",
       "        vertical-align: middle;\n",
       "    }\n",
       "\n",
       "    .dataframe tbody tr th {\n",
       "        vertical-align: top;\n",
       "    }\n",
       "\n",
       "    .dataframe thead th {\n",
       "        text-align: right;\n",
       "    }\n",
       "</style>\n",
       "<table border=\"1\" class=\"dataframe\">\n",
       "  <thead>\n",
       "    <tr style=\"text-align: right;\">\n",
       "      <th></th>\n",
       "      <th>DstPort</th>\n",
       "      <th>FlowDuration</th>\n",
       "      <th>TotFwdPkts</th>\n",
       "      <th>TotBwdPkts</th>\n",
       "      <th>TotLenFwdPkts</th>\n",
       "      <th>TotLenBwdPkts</th>\n",
       "      <th>FwdPktLenMax</th>\n",
       "      <th>FwdPktLenMin</th>\n",
       "      <th>FwdPktLenMean</th>\n",
       "      <th>FwdPktLenStd</th>\n",
       "      <th>...</th>\n",
       "      <th>FwdSegSizeMin</th>\n",
       "      <th>ActiveMean</th>\n",
       "      <th>ActiveStd</th>\n",
       "      <th>ActiveMax</th>\n",
       "      <th>ActiveMin</th>\n",
       "      <th>IdleMean</th>\n",
       "      <th>IdleStd</th>\n",
       "      <th>IdleMax</th>\n",
       "      <th>IdleMin</th>\n",
       "      <th>Label</th>\n",
       "    </tr>\n",
       "  </thead>\n",
       "  <tbody>\n",
       "    <tr>\n",
       "      <th>0</th>\n",
       "      <td>443</td>\n",
       "      <td>141385</td>\n",
       "      <td>9</td>\n",
       "      <td>7</td>\n",
       "      <td>553.0</td>\n",
       "      <td>3773.0</td>\n",
       "      <td>202.0</td>\n",
       "      <td>0.0</td>\n",
       "      <td>61.444444</td>\n",
       "      <td>87.534438</td>\n",
       "      <td>...</td>\n",
       "      <td>20</td>\n",
       "      <td>0.0</td>\n",
       "      <td>0.0</td>\n",
       "      <td>0.0</td>\n",
       "      <td>0.0</td>\n",
       "      <td>0.0</td>\n",
       "      <td>0.0</td>\n",
       "      <td>0.0</td>\n",
       "      <td>0.0</td>\n",
       "      <td>Benign</td>\n",
       "    </tr>\n",
       "    <tr>\n",
       "      <th>1</th>\n",
       "      <td>49684</td>\n",
       "      <td>281</td>\n",
       "      <td>2</td>\n",
       "      <td>1</td>\n",
       "      <td>38.0</td>\n",
       "      <td>0.0</td>\n",
       "      <td>38.0</td>\n",
       "      <td>0.0</td>\n",
       "      <td>19.000000</td>\n",
       "      <td>26.870058</td>\n",
       "      <td>...</td>\n",
       "      <td>20</td>\n",
       "      <td>0.0</td>\n",
       "      <td>0.0</td>\n",
       "      <td>0.0</td>\n",
       "      <td>0.0</td>\n",
       "      <td>0.0</td>\n",
       "      <td>0.0</td>\n",
       "      <td>0.0</td>\n",
       "      <td>0.0</td>\n",
       "      <td>Benign</td>\n",
       "    </tr>\n",
       "    <tr>\n",
       "      <th>2</th>\n",
       "      <td>443</td>\n",
       "      <td>279824</td>\n",
       "      <td>11</td>\n",
       "      <td>15</td>\n",
       "      <td>1086.0</td>\n",
       "      <td>10527.0</td>\n",
       "      <td>385.0</td>\n",
       "      <td>0.0</td>\n",
       "      <td>98.727273</td>\n",
       "      <td>129.392497</td>\n",
       "      <td>...</td>\n",
       "      <td>20</td>\n",
       "      <td>0.0</td>\n",
       "      <td>0.0</td>\n",
       "      <td>0.0</td>\n",
       "      <td>0.0</td>\n",
       "      <td>0.0</td>\n",
       "      <td>0.0</td>\n",
       "      <td>0.0</td>\n",
       "      <td>0.0</td>\n",
       "      <td>Benign</td>\n",
       "    </tr>\n",
       "    <tr>\n",
       "      <th>3</th>\n",
       "      <td>443</td>\n",
       "      <td>132</td>\n",
       "      <td>2</td>\n",
       "      <td>0</td>\n",
       "      <td>0.0</td>\n",
       "      <td>0.0</td>\n",
       "      <td>0.0</td>\n",
       "      <td>0.0</td>\n",
       "      <td>0.000000</td>\n",
       "      <td>0.000000</td>\n",
       "      <td>...</td>\n",
       "      <td>20</td>\n",
       "      <td>0.0</td>\n",
       "      <td>0.0</td>\n",
       "      <td>0.0</td>\n",
       "      <td>0.0</td>\n",
       "      <td>0.0</td>\n",
       "      <td>0.0</td>\n",
       "      <td>0.0</td>\n",
       "      <td>0.0</td>\n",
       "      <td>Benign</td>\n",
       "    </tr>\n",
       "    <tr>\n",
       "      <th>4</th>\n",
       "      <td>443</td>\n",
       "      <td>274016</td>\n",
       "      <td>9</td>\n",
       "      <td>13</td>\n",
       "      <td>1285.0</td>\n",
       "      <td>6141.0</td>\n",
       "      <td>517.0</td>\n",
       "      <td>0.0</td>\n",
       "      <td>142.777778</td>\n",
       "      <td>183.887722</td>\n",
       "      <td>...</td>\n",
       "      <td>20</td>\n",
       "      <td>0.0</td>\n",
       "      <td>0.0</td>\n",
       "      <td>0.0</td>\n",
       "      <td>0.0</td>\n",
       "      <td>0.0</td>\n",
       "      <td>0.0</td>\n",
       "      <td>0.0</td>\n",
       "      <td>0.0</td>\n",
       "      <td>Benign</td>\n",
       "    </tr>\n",
       "  </tbody>\n",
       "</table>\n",
       "<p>5 rows × 78 columns</p>\n",
       "</div>"
      ],
      "text/plain": [
       "   DstPort  FlowDuration  TotFwdPkts  TotBwdPkts  TotLenFwdPkts  \\\n",
       "0      443        141385           9           7          553.0   \n",
       "1    49684           281           2           1           38.0   \n",
       "2      443        279824          11          15         1086.0   \n",
       "3      443           132           2           0            0.0   \n",
       "4      443        274016           9          13         1285.0   \n",
       "\n",
       "   TotLenBwdPkts  FwdPktLenMax  FwdPktLenMin  FwdPktLenMean  FwdPktLenStd  \\\n",
       "0         3773.0         202.0           0.0      61.444444     87.534438   \n",
       "1            0.0          38.0           0.0      19.000000     26.870058   \n",
       "2        10527.0         385.0           0.0      98.727273    129.392497   \n",
       "3            0.0           0.0           0.0       0.000000      0.000000   \n",
       "4         6141.0         517.0           0.0     142.777778    183.887722   \n",
       "\n",
       "   ...  FwdSegSizeMin  ActiveMean  ActiveStd  ActiveMax  ActiveMin  IdleMean  \\\n",
       "0  ...             20         0.0        0.0        0.0        0.0       0.0   \n",
       "1  ...             20         0.0        0.0        0.0        0.0       0.0   \n",
       "2  ...             20         0.0        0.0        0.0        0.0       0.0   \n",
       "3  ...             20         0.0        0.0        0.0        0.0       0.0   \n",
       "4  ...             20         0.0        0.0        0.0        0.0       0.0   \n",
       "\n",
       "   IdleStd  IdleMax  IdleMin   Label  \n",
       "0      0.0      0.0      0.0  Benign  \n",
       "1      0.0      0.0      0.0  Benign  \n",
       "2      0.0      0.0      0.0  Benign  \n",
       "3      0.0      0.0      0.0  Benign  \n",
       "4      0.0      0.0      0.0  Benign  \n",
       "\n",
       "[5 rows x 78 columns]"
      ]
     },
     "execution_count": 13,
     "metadata": {},
     "output_type": "execute_result"
    }
   ],
   "source": [
    "dataset.head()"
   ]
  },
  {
   "cell_type": "code",
   "execution_count": 14,
   "id": "local-catalyst",
   "metadata": {},
   "outputs": [
    {
     "data": {
      "text/plain": [
       "True"
      ]
     },
     "execution_count": 14,
     "metadata": {},
     "output_type": "execute_result"
    }
   ],
   "source": [
    "# Checking if there are any NULL values in the dataset.\n",
    "\n",
    "dataset.isnull().values.any()"
   ]
  },
  {
   "cell_type": "code",
   "execution_count": 15,
   "id": "nominated-mediterranean",
   "metadata": {},
   "outputs": [
    {
     "data": {
      "text/plain": [
       "['FlowByts/s']"
      ]
     },
     "execution_count": 15,
     "metadata": {},
     "output_type": "execute_result"
    }
   ],
   "source": [
    "# Checking which column/s contain NULL values.\n",
    "\n",
    "[col for col in dataset if dataset[col].isnull().values.any()]"
   ]
  },
  {
   "cell_type": "code",
   "execution_count": 16,
   "id": "upset-grammar",
   "metadata": {},
   "outputs": [
    {
     "data": {
      "text/plain": [
       "57248"
      ]
     },
     "execution_count": 16,
     "metadata": {},
     "output_type": "execute_result"
    }
   ],
   "source": [
    "# Checking how many NULL values it this column contains.\n",
    "\n",
    "dataset['FlowByts/s'].isnull().sum()"
   ]
  },
  {
   "cell_type": "code",
   "execution_count": 17,
   "id": "drawn-culture",
   "metadata": {},
   "outputs": [
    {
     "data": {
      "text/plain": [
       "0.36423445200586946"
      ]
     },
     "execution_count": 17,
     "metadata": {},
     "output_type": "execute_result"
    }
   ],
   "source": [
    "# Considering that only 334 rows contain NULL vlaues in the entire dataset, which makes about 0.01%, we\n",
    "# can safely remove all NULL rows without spoiling the data.\n",
    "\n",
    "57248/dataset.shape[0]*100"
   ]
  },
  {
   "cell_type": "code",
   "execution_count": 18,
   "id": "applicable-kingdom",
   "metadata": {},
   "outputs": [
    {
     "data": {
      "text/plain": [
       "57248"
      ]
     },
     "execution_count": 18,
     "metadata": {},
     "output_type": "execute_result"
    }
   ],
   "source": [
    "# Removing rows that contain NULL values and checking if number of removed rows is equal to the number of null values.\n",
    "\n",
    "before = dataset.shape\n",
    "\n",
    "dataset.dropna(inplace=True)\n",
    "\n",
    "after = dataset.shape\n",
    "\n",
    "before[0] - after[0]"
   ]
  },
  {
   "cell_type": "code",
   "execution_count": 19,
   "id": "dietary-practitioner",
   "metadata": {},
   "outputs": [
    {
     "data": {
      "text/plain": [
       "False"
      ]
     },
     "execution_count": 19,
     "metadata": {},
     "output_type": "execute_result"
    }
   ],
   "source": [
    "dataset.isnull().any().any()"
   ]
  },
  {
   "cell_type": "code",
   "execution_count": 20,
   "id": "advisory-welsh",
   "metadata": {},
   "outputs": [],
   "source": [
    "#Removing non-finite values"
   ]
  },
  {
   "cell_type": "code",
   "execution_count": 15,
   "id": "passive-slave",
   "metadata": {},
   "outputs": [],
   "source": [
    "import numpy as np"
   ]
  },
  {
   "cell_type": "code",
   "execution_count": 22,
   "id": "professional-queen",
   "metadata": {},
   "outputs": [],
   "source": [
    "labl = dataset['Label']\n",
    "dataset = dataset.loc[:, dataset.columns != 'Label'].astype('float64')"
   ]
  },
  {
   "cell_type": "code",
   "execution_count": 23,
   "id": "broadband-camcorder",
   "metadata": {},
   "outputs": [
    {
     "data": {
      "text/plain": [
       "False"
      ]
     },
     "execution_count": 23,
     "metadata": {},
     "output_type": "execute_result"
    }
   ],
   "source": [
    "# Checking if all values are finite.\n",
    "\n",
    "np.all(np.isfinite(dataset))"
   ]
  },
  {
   "cell_type": "code",
   "execution_count": 24,
   "id": "optional-butler",
   "metadata": {},
   "outputs": [
    {
     "data": {
      "text/plain": [
       "['FlowByts/s', 'FlowPkts/s']"
      ]
     },
     "execution_count": 24,
     "metadata": {},
     "output_type": "execute_result"
    }
   ],
   "source": [
    "# Checking what column/s contain non-finite values.\n",
    "\n",
    "nonfinite = [col for col in dataset if not np.all(np.isfinite(dataset[col]))]\n",
    "\n",
    "nonfinite"
   ]
  },
  {
   "cell_type": "code",
   "execution_count": 25,
   "id": "nonprofit-fossil",
   "metadata": {},
   "outputs": [
    {
     "data": {
      "text/plain": [
       "35978"
      ]
     },
     "execution_count": 25,
     "metadata": {},
     "output_type": "execute_result"
    }
   ],
   "source": [
    "# Checking how many non-finite values each column contains.\n",
    "\n",
    "finite = np.isfinite(dataset['FlowByts/s']).sum()\n",
    "\n",
    "dataset.shape[0] - finite"
   ]
  },
  {
   "cell_type": "code",
   "execution_count": 26,
   "id": "furnished-preparation",
   "metadata": {},
   "outputs": [
    {
     "data": {
      "text/plain": [
       "35978"
      ]
     },
     "execution_count": 26,
     "metadata": {},
     "output_type": "execute_result"
    }
   ],
   "source": [
    "# Checking how many non-finite values each column contains.\n",
    "\n",
    "finite = np.isfinite(dataset['FlowPkts/s']).sum()\n",
    "\n",
    "dataset.shape[0] - finite"
   ]
  },
  {
   "cell_type": "code",
   "execution_count": 27,
   "id": "dependent-trick",
   "metadata": {},
   "outputs": [],
   "source": [
    "# Same as before, since there is a small number of non-finite values we can safely remove them from the dataset\n",
    "# without spoiling the dataset.\n",
    "\n",
    "# Replacing infinite values with NaN values.\n",
    "dataset = dataset.replace([np.inf, -np.inf], np.nan)"
   ]
  },
  {
   "cell_type": "code",
   "execution_count": 28,
   "id": "weird-counter",
   "metadata": {},
   "outputs": [
    {
     "data": {
      "text/plain": [
       "True"
      ]
     },
     "execution_count": 28,
     "metadata": {},
     "output_type": "execute_result"
    }
   ],
   "source": [
    "# We can see that now we have Nan values again.\n",
    "\n",
    "np.any(np.isnan(dataset))"
   ]
  },
  {
   "cell_type": "code",
   "execution_count": 29,
   "id": "interstate-alaska",
   "metadata": {},
   "outputs": [],
   "source": [
    "# Bringing the Labels back into the dataset before deliting Nan rows.\n",
    "\n",
    "dataset = dataset.merge(labl, how='outer', left_index=True, right_index=True)"
   ]
  },
  {
   "cell_type": "code",
   "execution_count": 30,
   "id": "superior-beast",
   "metadata": {},
   "outputs": [],
   "source": [
    "# Removing new NaN values.\n",
    "\n",
    "dataset.dropna(inplace=True)"
   ]
  },
  {
   "cell_type": "code",
   "execution_count": 32,
   "id": "particular-september",
   "metadata": {},
   "outputs": [
    {
     "data": {
      "text/plain": [
       "(15624123, 78)"
      ]
     },
     "execution_count": 32,
     "metadata": {},
     "output_type": "execute_result"
    }
   ],
   "source": [
    "dataset.shape"
   ]
  },
  {
   "cell_type": "code",
   "execution_count": 23,
   "id": "pursuant-wireless",
   "metadata": {
    "scrolled": true
   },
   "outputs": [
    {
     "data": {
      "text/html": [
       "<div>\n",
       "<style scoped>\n",
       "    .dataframe tbody tr th:only-of-type {\n",
       "        vertical-align: middle;\n",
       "    }\n",
       "\n",
       "    .dataframe tbody tr th {\n",
       "        vertical-align: top;\n",
       "    }\n",
       "\n",
       "    .dataframe thead th {\n",
       "        text-align: right;\n",
       "    }\n",
       "</style>\n",
       "<table border=\"1\" class=\"dataframe\">\n",
       "  <thead>\n",
       "    <tr style=\"text-align: right;\">\n",
       "      <th></th>\n",
       "      <th>DstPort</th>\n",
       "      <th>FlowDuration</th>\n",
       "      <th>TotFwdPkts</th>\n",
       "      <th>TotBwdPkts</th>\n",
       "      <th>TotLenFwdPkts</th>\n",
       "      <th>TotLenBwdPkts</th>\n",
       "      <th>FwdPktLenMax</th>\n",
       "      <th>FwdPktLenMin</th>\n",
       "      <th>FwdPktLenMean</th>\n",
       "      <th>FwdPktLenStd</th>\n",
       "      <th>...</th>\n",
       "      <th>FwdSegSizeMin</th>\n",
       "      <th>ActiveMean</th>\n",
       "      <th>ActiveStd</th>\n",
       "      <th>ActiveMax</th>\n",
       "      <th>ActiveMin</th>\n",
       "      <th>IdleMean</th>\n",
       "      <th>IdleStd</th>\n",
       "      <th>IdleMax</th>\n",
       "      <th>IdleMin</th>\n",
       "      <th>Label</th>\n",
       "    </tr>\n",
       "  </thead>\n",
       "  <tbody>\n",
       "    <tr>\n",
       "      <th>0</th>\n",
       "      <td>443.0</td>\n",
       "      <td>141385.0</td>\n",
       "      <td>9.0</td>\n",
       "      <td>7.0</td>\n",
       "      <td>553.0</td>\n",
       "      <td>3773.0</td>\n",
       "      <td>202.0</td>\n",
       "      <td>0.0</td>\n",
       "      <td>61.444444</td>\n",
       "      <td>87.534438</td>\n",
       "      <td>...</td>\n",
       "      <td>20.0</td>\n",
       "      <td>0.0</td>\n",
       "      <td>0.0</td>\n",
       "      <td>0.0</td>\n",
       "      <td>0.0</td>\n",
       "      <td>0.0</td>\n",
       "      <td>0.0</td>\n",
       "      <td>0.0</td>\n",
       "      <td>0.0</td>\n",
       "      <td>Benign</td>\n",
       "    </tr>\n",
       "    <tr>\n",
       "      <th>1</th>\n",
       "      <td>49684.0</td>\n",
       "      <td>281.0</td>\n",
       "      <td>2.0</td>\n",
       "      <td>1.0</td>\n",
       "      <td>38.0</td>\n",
       "      <td>0.0</td>\n",
       "      <td>38.0</td>\n",
       "      <td>0.0</td>\n",
       "      <td>19.000000</td>\n",
       "      <td>26.870058</td>\n",
       "      <td>...</td>\n",
       "      <td>20.0</td>\n",
       "      <td>0.0</td>\n",
       "      <td>0.0</td>\n",
       "      <td>0.0</td>\n",
       "      <td>0.0</td>\n",
       "      <td>0.0</td>\n",
       "      <td>0.0</td>\n",
       "      <td>0.0</td>\n",
       "      <td>0.0</td>\n",
       "      <td>Benign</td>\n",
       "    </tr>\n",
       "    <tr>\n",
       "      <th>2</th>\n",
       "      <td>443.0</td>\n",
       "      <td>279824.0</td>\n",
       "      <td>11.0</td>\n",
       "      <td>15.0</td>\n",
       "      <td>1086.0</td>\n",
       "      <td>10527.0</td>\n",
       "      <td>385.0</td>\n",
       "      <td>0.0</td>\n",
       "      <td>98.727273</td>\n",
       "      <td>129.392497</td>\n",
       "      <td>...</td>\n",
       "      <td>20.0</td>\n",
       "      <td>0.0</td>\n",
       "      <td>0.0</td>\n",
       "      <td>0.0</td>\n",
       "      <td>0.0</td>\n",
       "      <td>0.0</td>\n",
       "      <td>0.0</td>\n",
       "      <td>0.0</td>\n",
       "      <td>0.0</td>\n",
       "      <td>Benign</td>\n",
       "    </tr>\n",
       "    <tr>\n",
       "      <th>3</th>\n",
       "      <td>443.0</td>\n",
       "      <td>132.0</td>\n",
       "      <td>2.0</td>\n",
       "      <td>0.0</td>\n",
       "      <td>0.0</td>\n",
       "      <td>0.0</td>\n",
       "      <td>0.0</td>\n",
       "      <td>0.0</td>\n",
       "      <td>0.000000</td>\n",
       "      <td>0.000000</td>\n",
       "      <td>...</td>\n",
       "      <td>20.0</td>\n",
       "      <td>0.0</td>\n",
       "      <td>0.0</td>\n",
       "      <td>0.0</td>\n",
       "      <td>0.0</td>\n",
       "      <td>0.0</td>\n",
       "      <td>0.0</td>\n",
       "      <td>0.0</td>\n",
       "      <td>0.0</td>\n",
       "      <td>Benign</td>\n",
       "    </tr>\n",
       "    <tr>\n",
       "      <th>4</th>\n",
       "      <td>443.0</td>\n",
       "      <td>274016.0</td>\n",
       "      <td>9.0</td>\n",
       "      <td>13.0</td>\n",
       "      <td>1285.0</td>\n",
       "      <td>6141.0</td>\n",
       "      <td>517.0</td>\n",
       "      <td>0.0</td>\n",
       "      <td>142.777778</td>\n",
       "      <td>183.887722</td>\n",
       "      <td>...</td>\n",
       "      <td>20.0</td>\n",
       "      <td>0.0</td>\n",
       "      <td>0.0</td>\n",
       "      <td>0.0</td>\n",
       "      <td>0.0</td>\n",
       "      <td>0.0</td>\n",
       "      <td>0.0</td>\n",
       "      <td>0.0</td>\n",
       "      <td>0.0</td>\n",
       "      <td>Benign</td>\n",
       "    </tr>\n",
       "  </tbody>\n",
       "</table>\n",
       "<p>5 rows × 78 columns</p>\n",
       "</div>"
      ],
      "text/plain": [
       "   DstPort  FlowDuration  TotFwdPkts  TotBwdPkts  TotLenFwdPkts  \\\n",
       "0    443.0      141385.0         9.0         7.0          553.0   \n",
       "1  49684.0         281.0         2.0         1.0           38.0   \n",
       "2    443.0      279824.0        11.0        15.0         1086.0   \n",
       "3    443.0         132.0         2.0         0.0            0.0   \n",
       "4    443.0      274016.0         9.0        13.0         1285.0   \n",
       "\n",
       "   TotLenBwdPkts  FwdPktLenMax  FwdPktLenMin  FwdPktLenMean  FwdPktLenStd  \\\n",
       "0         3773.0         202.0           0.0      61.444444     87.534438   \n",
       "1            0.0          38.0           0.0      19.000000     26.870058   \n",
       "2        10527.0         385.0           0.0      98.727273    129.392497   \n",
       "3            0.0           0.0           0.0       0.000000      0.000000   \n",
       "4         6141.0         517.0           0.0     142.777778    183.887722   \n",
       "\n",
       "   ...  FwdSegSizeMin  ActiveMean  ActiveStd  ActiveMax  ActiveMin  IdleMean  \\\n",
       "0  ...           20.0         0.0        0.0        0.0        0.0       0.0   \n",
       "1  ...           20.0         0.0        0.0        0.0        0.0       0.0   \n",
       "2  ...           20.0         0.0        0.0        0.0        0.0       0.0   \n",
       "3  ...           20.0         0.0        0.0        0.0        0.0       0.0   \n",
       "4  ...           20.0         0.0        0.0        0.0        0.0       0.0   \n",
       "\n",
       "   IdleStd  IdleMax  IdleMin   Label  \n",
       "0      0.0      0.0      0.0  Benign  \n",
       "1      0.0      0.0      0.0  Benign  \n",
       "2      0.0      0.0      0.0  Benign  \n",
       "3      0.0      0.0      0.0  Benign  \n",
       "4      0.0      0.0      0.0  Benign  \n",
       "\n",
       "[5 rows x 78 columns]"
      ]
     },
     "execution_count": 23,
     "metadata": {},
     "output_type": "execute_result"
    }
   ],
   "source": [
    "dataset.head()"
   ]
  },
  {
   "cell_type": "code",
   "execution_count": 89,
   "id": "noble-helping",
   "metadata": {},
   "outputs": [],
   "source": [
    "# Saving cleaned dataset.\n",
    "\n",
    "#dataset.to_csv(\"Dataset_clean_and_ready.csv\", index=False)"
   ]
  },
  {
   "cell_type": "markdown",
   "id": "insured-river",
   "metadata": {},
   "source": [
    "# Data Balancing"
   ]
  },
  {
   "cell_type": "code",
   "execution_count": 4,
   "id": "lesser-tonight",
   "metadata": {
    "scrolled": true
   },
   "outputs": [
    {
     "data": {
      "text/html": [
       "<div>\n",
       "<style scoped>\n",
       "    .dataframe tbody tr th:only-of-type {\n",
       "        vertical-align: middle;\n",
       "    }\n",
       "\n",
       "    .dataframe tbody tr th {\n",
       "        vertical-align: top;\n",
       "    }\n",
       "\n",
       "    .dataframe thead th {\n",
       "        text-align: right;\n",
       "    }\n",
       "</style>\n",
       "<table border=\"1\" class=\"dataframe\">\n",
       "  <thead>\n",
       "    <tr style=\"text-align: right;\">\n",
       "      <th></th>\n",
       "      <th>DstPort</th>\n",
       "      <th>FlowDuration</th>\n",
       "      <th>TotFwdPkts</th>\n",
       "      <th>TotBwdPkts</th>\n",
       "      <th>TotLenFwdPkts</th>\n",
       "      <th>TotLenBwdPkts</th>\n",
       "      <th>FwdPktLenMax</th>\n",
       "      <th>FwdPktLenMin</th>\n",
       "      <th>FwdPktLenMean</th>\n",
       "      <th>FwdPktLenStd</th>\n",
       "      <th>...</th>\n",
       "      <th>FwdSegSizeMin</th>\n",
       "      <th>ActiveMean</th>\n",
       "      <th>ActiveStd</th>\n",
       "      <th>ActiveMax</th>\n",
       "      <th>ActiveMin</th>\n",
       "      <th>IdleMean</th>\n",
       "      <th>IdleStd</th>\n",
       "      <th>IdleMax</th>\n",
       "      <th>IdleMin</th>\n",
       "      <th>Label</th>\n",
       "    </tr>\n",
       "  </thead>\n",
       "  <tbody>\n",
       "    <tr>\n",
       "      <th>0</th>\n",
       "      <td>443.0</td>\n",
       "      <td>141385.0</td>\n",
       "      <td>9.0</td>\n",
       "      <td>7.0</td>\n",
       "      <td>553.0</td>\n",
       "      <td>3773.0</td>\n",
       "      <td>202.0</td>\n",
       "      <td>0.0</td>\n",
       "      <td>61.444444</td>\n",
       "      <td>87.534438</td>\n",
       "      <td>...</td>\n",
       "      <td>20.0</td>\n",
       "      <td>0.0</td>\n",
       "      <td>0.0</td>\n",
       "      <td>0.0</td>\n",
       "      <td>0.0</td>\n",
       "      <td>0.0</td>\n",
       "      <td>0.0</td>\n",
       "      <td>0.0</td>\n",
       "      <td>0.0</td>\n",
       "      <td>Benign</td>\n",
       "    </tr>\n",
       "    <tr>\n",
       "      <th>1</th>\n",
       "      <td>49684.0</td>\n",
       "      <td>281.0</td>\n",
       "      <td>2.0</td>\n",
       "      <td>1.0</td>\n",
       "      <td>38.0</td>\n",
       "      <td>0.0</td>\n",
       "      <td>38.0</td>\n",
       "      <td>0.0</td>\n",
       "      <td>19.000000</td>\n",
       "      <td>26.870058</td>\n",
       "      <td>...</td>\n",
       "      <td>20.0</td>\n",
       "      <td>0.0</td>\n",
       "      <td>0.0</td>\n",
       "      <td>0.0</td>\n",
       "      <td>0.0</td>\n",
       "      <td>0.0</td>\n",
       "      <td>0.0</td>\n",
       "      <td>0.0</td>\n",
       "      <td>0.0</td>\n",
       "      <td>Benign</td>\n",
       "    </tr>\n",
       "    <tr>\n",
       "      <th>2</th>\n",
       "      <td>443.0</td>\n",
       "      <td>279824.0</td>\n",
       "      <td>11.0</td>\n",
       "      <td>15.0</td>\n",
       "      <td>1086.0</td>\n",
       "      <td>10527.0</td>\n",
       "      <td>385.0</td>\n",
       "      <td>0.0</td>\n",
       "      <td>98.727273</td>\n",
       "      <td>129.392497</td>\n",
       "      <td>...</td>\n",
       "      <td>20.0</td>\n",
       "      <td>0.0</td>\n",
       "      <td>0.0</td>\n",
       "      <td>0.0</td>\n",
       "      <td>0.0</td>\n",
       "      <td>0.0</td>\n",
       "      <td>0.0</td>\n",
       "      <td>0.0</td>\n",
       "      <td>0.0</td>\n",
       "      <td>Benign</td>\n",
       "    </tr>\n",
       "    <tr>\n",
       "      <th>3</th>\n",
       "      <td>443.0</td>\n",
       "      <td>132.0</td>\n",
       "      <td>2.0</td>\n",
       "      <td>0.0</td>\n",
       "      <td>0.0</td>\n",
       "      <td>0.0</td>\n",
       "      <td>0.0</td>\n",
       "      <td>0.0</td>\n",
       "      <td>0.000000</td>\n",
       "      <td>0.000000</td>\n",
       "      <td>...</td>\n",
       "      <td>20.0</td>\n",
       "      <td>0.0</td>\n",
       "      <td>0.0</td>\n",
       "      <td>0.0</td>\n",
       "      <td>0.0</td>\n",
       "      <td>0.0</td>\n",
       "      <td>0.0</td>\n",
       "      <td>0.0</td>\n",
       "      <td>0.0</td>\n",
       "      <td>Benign</td>\n",
       "    </tr>\n",
       "    <tr>\n",
       "      <th>4</th>\n",
       "      <td>443.0</td>\n",
       "      <td>274016.0</td>\n",
       "      <td>9.0</td>\n",
       "      <td>13.0</td>\n",
       "      <td>1285.0</td>\n",
       "      <td>6141.0</td>\n",
       "      <td>517.0</td>\n",
       "      <td>0.0</td>\n",
       "      <td>142.777778</td>\n",
       "      <td>183.887722</td>\n",
       "      <td>...</td>\n",
       "      <td>20.0</td>\n",
       "      <td>0.0</td>\n",
       "      <td>0.0</td>\n",
       "      <td>0.0</td>\n",
       "      <td>0.0</td>\n",
       "      <td>0.0</td>\n",
       "      <td>0.0</td>\n",
       "      <td>0.0</td>\n",
       "      <td>0.0</td>\n",
       "      <td>Benign</td>\n",
       "    </tr>\n",
       "  </tbody>\n",
       "</table>\n",
       "<p>5 rows × 78 columns</p>\n",
       "</div>"
      ],
      "text/plain": [
       "   DstPort  FlowDuration  TotFwdPkts  TotBwdPkts  TotLenFwdPkts  \\\n",
       "0    443.0      141385.0         9.0         7.0          553.0   \n",
       "1  49684.0         281.0         2.0         1.0           38.0   \n",
       "2    443.0      279824.0        11.0        15.0         1086.0   \n",
       "3    443.0         132.0         2.0         0.0            0.0   \n",
       "4    443.0      274016.0         9.0        13.0         1285.0   \n",
       "\n",
       "   TotLenBwdPkts  FwdPktLenMax  FwdPktLenMin  FwdPktLenMean  FwdPktLenStd  \\\n",
       "0         3773.0         202.0           0.0      61.444444     87.534438   \n",
       "1            0.0          38.0           0.0      19.000000     26.870058   \n",
       "2        10527.0         385.0           0.0      98.727273    129.392497   \n",
       "3            0.0           0.0           0.0       0.000000      0.000000   \n",
       "4         6141.0         517.0           0.0     142.777778    183.887722   \n",
       "\n",
       "   ...  FwdSegSizeMin  ActiveMean  ActiveStd  ActiveMax  ActiveMin  IdleMean  \\\n",
       "0  ...           20.0         0.0        0.0        0.0        0.0       0.0   \n",
       "1  ...           20.0         0.0        0.0        0.0        0.0       0.0   \n",
       "2  ...           20.0         0.0        0.0        0.0        0.0       0.0   \n",
       "3  ...           20.0         0.0        0.0        0.0        0.0       0.0   \n",
       "4  ...           20.0         0.0        0.0        0.0        0.0       0.0   \n",
       "\n",
       "   IdleStd  IdleMax  IdleMin   Label  \n",
       "0      0.0      0.0      0.0  Benign  \n",
       "1      0.0      0.0      0.0  Benign  \n",
       "2      0.0      0.0      0.0  Benign  \n",
       "3      0.0      0.0      0.0  Benign  \n",
       "4      0.0      0.0      0.0  Benign  \n",
       "\n",
       "[5 rows x 78 columns]"
      ]
     },
     "execution_count": 4,
     "metadata": {},
     "output_type": "execute_result"
    }
   ],
   "source": [
    "dataset.head()"
   ]
  },
  {
   "cell_type": "code",
   "execution_count": 28,
   "id": "growing-tokyo",
   "metadata": {},
   "outputs": [],
   "source": [
    "attacks = dataset[dataset['Label']!= \"Benign\"]"
   ]
  },
  {
   "cell_type": "code",
   "execution_count": 29,
   "id": "exact-samba",
   "metadata": {},
   "outputs": [],
   "source": [
    "benign = dataset[dataset['Label']== \"Benign\"]\n"
   ]
  },
  {
   "cell_type": "code",
   "execution_count": 30,
   "id": "unlike-activation",
   "metadata": {},
   "outputs": [
    {
     "data": {
      "text/plain": [
       "(2262429, 78)"
      ]
     },
     "execution_count": 30,
     "metadata": {},
     "output_type": "execute_result"
    }
   ],
   "source": [
    "attacks.shape"
   ]
  },
  {
   "cell_type": "code",
   "execution_count": 65,
   "id": "impaired-director",
   "metadata": {},
   "outputs": [
    {
     "data": {
      "text/plain": [
       "(13361694, 78)"
      ]
     },
     "execution_count": 65,
     "metadata": {},
     "output_type": "execute_result"
    }
   ],
   "source": [
    "benign.shape"
   ]
  },
  {
   "cell_type": "code",
   "execution_count": 26,
   "id": "existing-prize",
   "metadata": {},
   "outputs": [
    {
     "data": {
      "text/html": [
       "<div>\n",
       "<style scoped>\n",
       "    .dataframe tbody tr th:only-of-type {\n",
       "        vertical-align: middle;\n",
       "    }\n",
       "\n",
       "    .dataframe tbody tr th {\n",
       "        vertical-align: top;\n",
       "    }\n",
       "\n",
       "    .dataframe thead th {\n",
       "        text-align: right;\n",
       "    }\n",
       "</style>\n",
       "<table border=\"1\" class=\"dataframe\">\n",
       "  <thead>\n",
       "    <tr style=\"text-align: right;\">\n",
       "      <th></th>\n",
       "      <th>DstPort</th>\n",
       "      <th>FlowDuration</th>\n",
       "      <th>TotFwdPkts</th>\n",
       "      <th>TotBwdPkts</th>\n",
       "      <th>TotLenFwdPkts</th>\n",
       "      <th>TotLenBwdPkts</th>\n",
       "      <th>FwdPktLenMax</th>\n",
       "      <th>FwdPktLenMin</th>\n",
       "      <th>FwdPktLenMean</th>\n",
       "      <th>FwdPktLenStd</th>\n",
       "      <th>...</th>\n",
       "      <th>FwdSegSizeMin</th>\n",
       "      <th>ActiveMean</th>\n",
       "      <th>ActiveStd</th>\n",
       "      <th>ActiveMax</th>\n",
       "      <th>ActiveMin</th>\n",
       "      <th>IdleMean</th>\n",
       "      <th>IdleStd</th>\n",
       "      <th>IdleMax</th>\n",
       "      <th>IdleMin</th>\n",
       "      <th>Label</th>\n",
       "    </tr>\n",
       "  </thead>\n",
       "  <tbody>\n",
       "    <tr>\n",
       "      <th>0</th>\n",
       "      <td>443.0</td>\n",
       "      <td>141385.0</td>\n",
       "      <td>9.0</td>\n",
       "      <td>7.0</td>\n",
       "      <td>553.0</td>\n",
       "      <td>3773.0</td>\n",
       "      <td>202.0</td>\n",
       "      <td>0.0</td>\n",
       "      <td>61.444444</td>\n",
       "      <td>87.534438</td>\n",
       "      <td>...</td>\n",
       "      <td>20.0</td>\n",
       "      <td>0.0</td>\n",
       "      <td>0.0</td>\n",
       "      <td>0.0</td>\n",
       "      <td>0.0</td>\n",
       "      <td>0.0</td>\n",
       "      <td>0.0</td>\n",
       "      <td>0.0</td>\n",
       "      <td>0.0</td>\n",
       "      <td>Benign</td>\n",
       "    </tr>\n",
       "    <tr>\n",
       "      <th>1</th>\n",
       "      <td>49684.0</td>\n",
       "      <td>281.0</td>\n",
       "      <td>2.0</td>\n",
       "      <td>1.0</td>\n",
       "      <td>38.0</td>\n",
       "      <td>0.0</td>\n",
       "      <td>38.0</td>\n",
       "      <td>0.0</td>\n",
       "      <td>19.000000</td>\n",
       "      <td>26.870058</td>\n",
       "      <td>...</td>\n",
       "      <td>20.0</td>\n",
       "      <td>0.0</td>\n",
       "      <td>0.0</td>\n",
       "      <td>0.0</td>\n",
       "      <td>0.0</td>\n",
       "      <td>0.0</td>\n",
       "      <td>0.0</td>\n",
       "      <td>0.0</td>\n",
       "      <td>0.0</td>\n",
       "      <td>Benign</td>\n",
       "    </tr>\n",
       "    <tr>\n",
       "      <th>2</th>\n",
       "      <td>443.0</td>\n",
       "      <td>279824.0</td>\n",
       "      <td>11.0</td>\n",
       "      <td>15.0</td>\n",
       "      <td>1086.0</td>\n",
       "      <td>10527.0</td>\n",
       "      <td>385.0</td>\n",
       "      <td>0.0</td>\n",
       "      <td>98.727273</td>\n",
       "      <td>129.392497</td>\n",
       "      <td>...</td>\n",
       "      <td>20.0</td>\n",
       "      <td>0.0</td>\n",
       "      <td>0.0</td>\n",
       "      <td>0.0</td>\n",
       "      <td>0.0</td>\n",
       "      <td>0.0</td>\n",
       "      <td>0.0</td>\n",
       "      <td>0.0</td>\n",
       "      <td>0.0</td>\n",
       "      <td>Benign</td>\n",
       "    </tr>\n",
       "    <tr>\n",
       "      <th>3</th>\n",
       "      <td>443.0</td>\n",
       "      <td>132.0</td>\n",
       "      <td>2.0</td>\n",
       "      <td>0.0</td>\n",
       "      <td>0.0</td>\n",
       "      <td>0.0</td>\n",
       "      <td>0.0</td>\n",
       "      <td>0.0</td>\n",
       "      <td>0.000000</td>\n",
       "      <td>0.000000</td>\n",
       "      <td>...</td>\n",
       "      <td>20.0</td>\n",
       "      <td>0.0</td>\n",
       "      <td>0.0</td>\n",
       "      <td>0.0</td>\n",
       "      <td>0.0</td>\n",
       "      <td>0.0</td>\n",
       "      <td>0.0</td>\n",
       "      <td>0.0</td>\n",
       "      <td>0.0</td>\n",
       "      <td>Benign</td>\n",
       "    </tr>\n",
       "    <tr>\n",
       "      <th>4</th>\n",
       "      <td>443.0</td>\n",
       "      <td>274016.0</td>\n",
       "      <td>9.0</td>\n",
       "      <td>13.0</td>\n",
       "      <td>1285.0</td>\n",
       "      <td>6141.0</td>\n",
       "      <td>517.0</td>\n",
       "      <td>0.0</td>\n",
       "      <td>142.777778</td>\n",
       "      <td>183.887722</td>\n",
       "      <td>...</td>\n",
       "      <td>20.0</td>\n",
       "      <td>0.0</td>\n",
       "      <td>0.0</td>\n",
       "      <td>0.0</td>\n",
       "      <td>0.0</td>\n",
       "      <td>0.0</td>\n",
       "      <td>0.0</td>\n",
       "      <td>0.0</td>\n",
       "      <td>0.0</td>\n",
       "      <td>Benign</td>\n",
       "    </tr>\n",
       "  </tbody>\n",
       "</table>\n",
       "<p>5 rows × 78 columns</p>\n",
       "</div>"
      ],
      "text/plain": [
       "   DstPort  FlowDuration  TotFwdPkts  TotBwdPkts  TotLenFwdPkts  \\\n",
       "0    443.0      141385.0         9.0         7.0          553.0   \n",
       "1  49684.0         281.0         2.0         1.0           38.0   \n",
       "2    443.0      279824.0        11.0        15.0         1086.0   \n",
       "3    443.0         132.0         2.0         0.0            0.0   \n",
       "4    443.0      274016.0         9.0        13.0         1285.0   \n",
       "\n",
       "   TotLenBwdPkts  FwdPktLenMax  FwdPktLenMin  FwdPktLenMean  FwdPktLenStd  \\\n",
       "0         3773.0         202.0           0.0      61.444444     87.534438   \n",
       "1            0.0          38.0           0.0      19.000000     26.870058   \n",
       "2        10527.0         385.0           0.0      98.727273    129.392497   \n",
       "3            0.0           0.0           0.0       0.000000      0.000000   \n",
       "4         6141.0         517.0           0.0     142.777778    183.887722   \n",
       "\n",
       "   ...  FwdSegSizeMin  ActiveMean  ActiveStd  ActiveMax  ActiveMin  IdleMean  \\\n",
       "0  ...           20.0         0.0        0.0        0.0        0.0       0.0   \n",
       "1  ...           20.0         0.0        0.0        0.0        0.0       0.0   \n",
       "2  ...           20.0         0.0        0.0        0.0        0.0       0.0   \n",
       "3  ...           20.0         0.0        0.0        0.0        0.0       0.0   \n",
       "4  ...           20.0         0.0        0.0        0.0        0.0       0.0   \n",
       "\n",
       "   IdleStd  IdleMax  IdleMin   Label  \n",
       "0      0.0      0.0      0.0  Benign  \n",
       "1      0.0      0.0      0.0  Benign  \n",
       "2      0.0      0.0      0.0  Benign  \n",
       "3      0.0      0.0      0.0  Benign  \n",
       "4      0.0      0.0      0.0  Benign  \n",
       "\n",
       "[5 rows x 78 columns]"
      ]
     },
     "execution_count": 26,
     "metadata": {},
     "output_type": "execute_result"
    }
   ],
   "source": [
    "dataset.head()\n"
   ]
  },
  {
   "cell_type": "code",
   "execution_count": 5,
   "id": "noticed-ceremony",
   "metadata": {},
   "outputs": [],
   "source": [
    "attacks = dataset[dataset['Label']!= \"Benign\"]"
   ]
  },
  {
   "cell_type": "code",
   "execution_count": 6,
   "id": "superior-adult",
   "metadata": {},
   "outputs": [
    {
     "data": {
      "text/plain": [
       "(2262429, 78)"
      ]
     },
     "execution_count": 6,
     "metadata": {},
     "output_type": "execute_result"
    }
   ],
   "source": [
    "attacks.shape"
   ]
  },
  {
   "cell_type": "code",
   "execution_count": 7,
   "id": "equal-olympus",
   "metadata": {},
   "outputs": [],
   "source": [
    "benign = dataset[dataset['Label']== \"Benign\"]"
   ]
  },
  {
   "cell_type": "code",
   "execution_count": 8,
   "id": "veterinary-three",
   "metadata": {},
   "outputs": [
    {
     "data": {
      "text/plain": [
       "(13361694, 78)"
      ]
     },
     "execution_count": 8,
     "metadata": {},
     "output_type": "execute_result"
    }
   ],
   "source": [
    "benign.shape"
   ]
  },
  {
   "cell_type": "code",
   "execution_count": 10,
   "id": "sharp-retention",
   "metadata": {},
   "outputs": [],
   "source": [
    "from sklearn.utils import resample\n",
    "# Upsample minority class\n",
    "df_minority_upsampled = resample(benign, \n",
    "                                 replace=True,         # sample with replacement\n",
    "                                 n_samples=2262429,    # to match majority class\n",
    "                                 random_state=123)    # reproducible results\n",
    " "
   ]
  },
  {
   "cell_type": "code",
   "execution_count": 12,
   "id": "pleased-allergy",
   "metadata": {},
   "outputs": [
    {
     "data": {
      "text/plain": [
       "(2262429, 78)"
      ]
     },
     "execution_count": 12,
     "metadata": {},
     "output_type": "execute_result"
    }
   ],
   "source": [
    "df_minority_upsampled.shape"
   ]
  },
  {
   "cell_type": "code",
   "execution_count": 13,
   "id": "rubber-conflict",
   "metadata": {},
   "outputs": [
    {
     "data": {
      "text/plain": [
       "(15624123, 78)"
      ]
     },
     "execution_count": 13,
     "metadata": {},
     "output_type": "execute_result"
    }
   ],
   "source": [
    "dataset.shape"
   ]
  },
  {
   "cell_type": "code",
   "execution_count": 14,
   "id": "hybrid-murder",
   "metadata": {},
   "outputs": [],
   "source": [
    "# Combine minority class with downsampled majority class\n",
    "df_downsampled = pd.concat([df_minority_upsampled, attacks])"
   ]
  },
  {
   "cell_type": "code",
   "execution_count": 18,
   "id": "abstract-strain",
   "metadata": {},
   "outputs": [
    {
     "data": {
      "text/plain": [
       "Benign                     2262429\n",
       "DDOS_attackHOIC             651746\n",
       "DDoS_attacksLOICHTTP        576191\n",
       "DoS_attacksHulk             412124\n",
       "Bot                         278584\n",
       "Infilteration               160572\n",
       "SSHBruteforce               102782\n",
       "DoS_attacksGoldenEye         41404\n",
       "FTPBruteForce                19734\n",
       "DoS_attacksSlowloris         10010\n",
       "DoS_attacksSlowHTTPTest       6624\n",
       "DDOS_attackLOICUDP            1730\n",
       "Brute_Force_Web                611\n",
       "Brute_Force_XSS                230\n",
       "SQL_Injection                   87\n",
       "Name: Label, dtype: int64"
      ]
     },
     "execution_count": 18,
     "metadata": {},
     "output_type": "execute_result"
    }
   ],
   "source": [
    "df_downsampled['Label'].value_counts()"
   ]
  },
  {
   "cell_type": "code",
   "execution_count": 19,
   "id": "nuclear-windows",
   "metadata": {},
   "outputs": [
    {
     "data": {
      "text/plain": [
       "(4524858, 78)"
      ]
     },
     "execution_count": 19,
     "metadata": {},
     "output_type": "execute_result"
    }
   ],
   "source": [
    "df_downsampled.shape"
   ]
  },
  {
   "cell_type": "code",
   "execution_count": 21,
   "id": "lesbian-boards",
   "metadata": {},
   "outputs": [
    {
     "data": {
      "text/html": [
       "<div>\n",
       "<style scoped>\n",
       "    .dataframe tbody tr th:only-of-type {\n",
       "        vertical-align: middle;\n",
       "    }\n",
       "\n",
       "    .dataframe tbody tr th {\n",
       "        vertical-align: top;\n",
       "    }\n",
       "\n",
       "    .dataframe thead th {\n",
       "        text-align: right;\n",
       "    }\n",
       "</style>\n",
       "<table border=\"1\" class=\"dataframe\">\n",
       "  <thead>\n",
       "    <tr style=\"text-align: right;\">\n",
       "      <th></th>\n",
       "      <th>DstPort</th>\n",
       "      <th>FlowDuration</th>\n",
       "      <th>TotFwdPkts</th>\n",
       "      <th>TotBwdPkts</th>\n",
       "      <th>TotLenFwdPkts</th>\n",
       "      <th>TotLenBwdPkts</th>\n",
       "      <th>FwdPktLenMax</th>\n",
       "      <th>FwdPktLenMin</th>\n",
       "      <th>FwdPktLenMean</th>\n",
       "      <th>FwdPktLenStd</th>\n",
       "      <th>...</th>\n",
       "      <th>FwdSegSizeMin</th>\n",
       "      <th>ActiveMean</th>\n",
       "      <th>ActiveStd</th>\n",
       "      <th>ActiveMax</th>\n",
       "      <th>ActiveMin</th>\n",
       "      <th>IdleMean</th>\n",
       "      <th>IdleStd</th>\n",
       "      <th>IdleMax</th>\n",
       "      <th>IdleMin</th>\n",
       "      <th>Label</th>\n",
       "    </tr>\n",
       "  </thead>\n",
       "  <tbody>\n",
       "    <tr>\n",
       "      <th>5932482</th>\n",
       "      <td>53.0</td>\n",
       "      <td>1457.0</td>\n",
       "      <td>1.0</td>\n",
       "      <td>1.0</td>\n",
       "      <td>34.0</td>\n",
       "      <td>121.0</td>\n",
       "      <td>34.0</td>\n",
       "      <td>34.0</td>\n",
       "      <td>34.000000</td>\n",
       "      <td>0.000000</td>\n",
       "      <td>...</td>\n",
       "      <td>8.0</td>\n",
       "      <td>0.0</td>\n",
       "      <td>0.0</td>\n",
       "      <td>0.0</td>\n",
       "      <td>0.0</td>\n",
       "      <td>0.0</td>\n",
       "      <td>0.0</td>\n",
       "      <td>0.0</td>\n",
       "      <td>0.0</td>\n",
       "      <td>Benign</td>\n",
       "    </tr>\n",
       "    <tr>\n",
       "      <th>10928906</th>\n",
       "      <td>53.0</td>\n",
       "      <td>19128.0</td>\n",
       "      <td>1.0</td>\n",
       "      <td>1.0</td>\n",
       "      <td>52.0</td>\n",
       "      <td>112.0</td>\n",
       "      <td>52.0</td>\n",
       "      <td>52.0</td>\n",
       "      <td>52.000000</td>\n",
       "      <td>0.000000</td>\n",
       "      <td>...</td>\n",
       "      <td>8.0</td>\n",
       "      <td>0.0</td>\n",
       "      <td>0.0</td>\n",
       "      <td>0.0</td>\n",
       "      <td>0.0</td>\n",
       "      <td>0.0</td>\n",
       "      <td>0.0</td>\n",
       "      <td>0.0</td>\n",
       "      <td>0.0</td>\n",
       "      <td>Benign</td>\n",
       "    </tr>\n",
       "    <tr>\n",
       "      <th>5064366</th>\n",
       "      <td>53.0</td>\n",
       "      <td>713.0</td>\n",
       "      <td>1.0</td>\n",
       "      <td>1.0</td>\n",
       "      <td>32.0</td>\n",
       "      <td>60.0</td>\n",
       "      <td>32.0</td>\n",
       "      <td>32.0</td>\n",
       "      <td>32.000000</td>\n",
       "      <td>0.000000</td>\n",
       "      <td>...</td>\n",
       "      <td>8.0</td>\n",
       "      <td>0.0</td>\n",
       "      <td>0.0</td>\n",
       "      <td>0.0</td>\n",
       "      <td>0.0</td>\n",
       "      <td>0.0</td>\n",
       "      <td>0.0</td>\n",
       "      <td>0.0</td>\n",
       "      <td>0.0</td>\n",
       "      <td>Benign</td>\n",
       "    </tr>\n",
       "    <tr>\n",
       "      <th>13814495</th>\n",
       "      <td>3389.0</td>\n",
       "      <td>6949770.0</td>\n",
       "      <td>12.0</td>\n",
       "      <td>7.0</td>\n",
       "      <td>1052.0</td>\n",
       "      <td>1429.0</td>\n",
       "      <td>581.0</td>\n",
       "      <td>0.0</td>\n",
       "      <td>87.666667</td>\n",
       "      <td>169.503732</td>\n",
       "      <td>...</td>\n",
       "      <td>20.0</td>\n",
       "      <td>0.0</td>\n",
       "      <td>0.0</td>\n",
       "      <td>0.0</td>\n",
       "      <td>0.0</td>\n",
       "      <td>0.0</td>\n",
       "      <td>0.0</td>\n",
       "      <td>0.0</td>\n",
       "      <td>0.0</td>\n",
       "      <td>Benign</td>\n",
       "    </tr>\n",
       "    <tr>\n",
       "      <th>1938950</th>\n",
       "      <td>80.0</td>\n",
       "      <td>80.0</td>\n",
       "      <td>2.0</td>\n",
       "      <td>0.0</td>\n",
       "      <td>0.0</td>\n",
       "      <td>0.0</td>\n",
       "      <td>0.0</td>\n",
       "      <td>0.0</td>\n",
       "      <td>0.000000</td>\n",
       "      <td>0.000000</td>\n",
       "      <td>...</td>\n",
       "      <td>20.0</td>\n",
       "      <td>0.0</td>\n",
       "      <td>0.0</td>\n",
       "      <td>0.0</td>\n",
       "      <td>0.0</td>\n",
       "      <td>0.0</td>\n",
       "      <td>0.0</td>\n",
       "      <td>0.0</td>\n",
       "      <td>0.0</td>\n",
       "      <td>Benign</td>\n",
       "    </tr>\n",
       "  </tbody>\n",
       "</table>\n",
       "<p>5 rows × 78 columns</p>\n",
       "</div>"
      ],
      "text/plain": [
       "          DstPort  FlowDuration  TotFwdPkts  TotBwdPkts  TotLenFwdPkts  \\\n",
       "5932482      53.0        1457.0         1.0         1.0           34.0   \n",
       "10928906     53.0       19128.0         1.0         1.0           52.0   \n",
       "5064366      53.0         713.0         1.0         1.0           32.0   \n",
       "13814495   3389.0     6949770.0        12.0         7.0         1052.0   \n",
       "1938950      80.0          80.0         2.0         0.0            0.0   \n",
       "\n",
       "          TotLenBwdPkts  FwdPktLenMax  FwdPktLenMin  FwdPktLenMean  \\\n",
       "5932482           121.0          34.0          34.0      34.000000   \n",
       "10928906          112.0          52.0          52.0      52.000000   \n",
       "5064366            60.0          32.0          32.0      32.000000   \n",
       "13814495         1429.0         581.0           0.0      87.666667   \n",
       "1938950             0.0           0.0           0.0       0.000000   \n",
       "\n",
       "          FwdPktLenStd  ...  FwdSegSizeMin  ActiveMean  ActiveStd  ActiveMax  \\\n",
       "5932482       0.000000  ...            8.0         0.0        0.0        0.0   \n",
       "10928906      0.000000  ...            8.0         0.0        0.0        0.0   \n",
       "5064366       0.000000  ...            8.0         0.0        0.0        0.0   \n",
       "13814495    169.503732  ...           20.0         0.0        0.0        0.0   \n",
       "1938950       0.000000  ...           20.0         0.0        0.0        0.0   \n",
       "\n",
       "          ActiveMin  IdleMean  IdleStd  IdleMax  IdleMin   Label  \n",
       "5932482         0.0       0.0      0.0      0.0      0.0  Benign  \n",
       "10928906        0.0       0.0      0.0      0.0      0.0  Benign  \n",
       "5064366         0.0       0.0      0.0      0.0      0.0  Benign  \n",
       "13814495        0.0       0.0      0.0      0.0      0.0  Benign  \n",
       "1938950         0.0       0.0      0.0      0.0      0.0  Benign  \n",
       "\n",
       "[5 rows x 78 columns]"
      ]
     },
     "execution_count": 21,
     "metadata": {},
     "output_type": "execute_result"
    }
   ],
   "source": [
    "df_downsampled.head()"
   ]
  },
  {
   "cell_type": "code",
   "execution_count": 5,
   "id": "bacterial-canon",
   "metadata": {},
   "outputs": [],
   "source": [
    "import seaborn as sns\n",
    "import matplotlib.pyplot as plt"
   ]
  },
  {
   "cell_type": "code",
   "execution_count": 8,
   "id": "starting-details",
   "metadata": {},
   "outputs": [
    {
     "data": {
      "text/plain": [
       "Benign                     2262429\n",
       "DDOS_attackHOIC             651746\n",
       "DDoS_attacksLOICHTTP        576191\n",
       "DoS_attacksHulk             412124\n",
       "Bot                         278584\n",
       "Infilteration               160572\n",
       "SSHBruteforce               102782\n",
       "DoS_attacksGoldenEye         41404\n",
       "FTPBruteForce                19734\n",
       "DoS_attacksSlowloris         10010\n",
       "DoS_attacksSlowHTTPTest       6624\n",
       "DDOS_attackLOICUDP            1730\n",
       "Brute_Force_Web                611\n",
       "Brute_Force_XSS                230\n",
       "SQL_Injection                   87\n",
       "Name: Label, dtype: int64"
      ]
     },
     "execution_count": 8,
     "metadata": {},
     "output_type": "execute_result"
    }
   ],
   "source": [
    "dataset['Label'].value_counts()"
   ]
  },
  {
   "cell_type": "code",
   "execution_count": 7,
   "id": "constitutional-string",
   "metadata": {},
   "outputs": [
    {
     "data": {
      "text/plain": [
       "(array([ 0,  1,  2,  3,  4,  5,  6,  7,  8,  9, 10, 11, 12, 13, 14]),\n",
       " [Text(0, 0, 'Benign'),\n",
       "  Text(1, 0, 'Bot'),\n",
       "  Text(2, 0, 'DoS_attacksSlowHTTPTest'),\n",
       "  Text(3, 0, 'DoS_attacksHulk'),\n",
       "  Text(4, 0, 'Brute_Force_Web'),\n",
       "  Text(5, 0, 'Brute_Force_XSS'),\n",
       "  Text(6, 0, 'SQL_Injection'),\n",
       "  Text(7, 0, 'Infilteration'),\n",
       "  Text(8, 0, 'DoS_attacksGoldenEye'),\n",
       "  Text(9, 0, 'DoS_attacksSlowloris'),\n",
       "  Text(10, 0, 'FTPBruteForce'),\n",
       "  Text(11, 0, 'SSHBruteforce'),\n",
       "  Text(12, 0, 'DDOS_attackLOICUDP'),\n",
       "  Text(13, 0, 'DDOS_attackHOIC'),\n",
       "  Text(14, 0, 'DDoS_attacksLOICHTTP')])"
      ]
     },
     "execution_count": 7,
     "metadata": {},
     "output_type": "execute_result"
    },
    {
     "data": {
      "image/png": "[encoded data removed]",
      "text/plain": [
       "<Figure size 1080x432 with 1 Axes>"
      ]
     },
     "metadata": {
      "needs_background": "light"
     },
     "output_type": "display_data"
    }
   ],
   "source": [
    "data = dataset['Label']\n",
    "plt.figure(figsize=(15,6))\n",
    "chart = sns.countplot(data, palette=\"Set1\")\n",
    "plt.xticks(rotation=45, horizontalalignment=\"right\")"
   ]
  },
  {
   "cell_type": "code",
   "execution_count": 26,
   "id": "violent-peter",
   "metadata": {},
   "outputs": [],
   "source": [
    "# Saving cleaned dataset.\n",
    "\n",
    "#df_downsampled.to_csv(\"Dataset_clean_and_downsampled.csv\", index=False)"
   ]
  },
  {
   "cell_type": "code",
   "execution_count": 3,
   "id": "raising-baseline",
   "metadata": {},
   "outputs": [],
   "source": [
    "# Read dataset\n",
    "dataset = pd.read_csv(\"Dataset_clean_and_downsampled.csv\")"
   ]
  },
  {
   "cell_type": "code",
   "execution_count": 4,
   "id": "thorough-parts",
   "metadata": {},
   "outputs": [
    {
     "data": {
      "text/html": [
       "<div>\n",
       "<style scoped>\n",
       "    .dataframe tbody tr th:only-of-type {\n",
       "        vertical-align: middle;\n",
       "    }\n",
       "\n",
       "    .dataframe tbody tr th {\n",
       "        vertical-align: top;\n",
       "    }\n",
       "\n",
       "    .dataframe thead th {\n",
       "        text-align: right;\n",
       "    }\n",
       "</style>\n",
       "<table border=\"1\" class=\"dataframe\">\n",
       "  <thead>\n",
       "    <tr style=\"text-align: right;\">\n",
       "      <th></th>\n",
       "      <th>DstPort</th>\n",
       "      <th>FlowDuration</th>\n",
       "      <th>TotFwdPkts</th>\n",
       "      <th>TotBwdPkts</th>\n",
       "      <th>TotLenFwdPkts</th>\n",
       "      <th>TotLenBwdPkts</th>\n",
       "      <th>FwdPktLenMax</th>\n",
       "      <th>FwdPktLenMin</th>\n",
       "      <th>FwdPktLenMean</th>\n",
       "      <th>FwdPktLenStd</th>\n",
       "      <th>...</th>\n",
       "      <th>FwdSegSizeMin</th>\n",
       "      <th>ActiveMean</th>\n",
       "      <th>ActiveStd</th>\n",
       "      <th>ActiveMax</th>\n",
       "      <th>ActiveMin</th>\n",
       "      <th>IdleMean</th>\n",
       "      <th>IdleStd</th>\n",
       "      <th>IdleMax</th>\n",
       "      <th>IdleMin</th>\n",
       "      <th>Label</th>\n",
       "    </tr>\n",
       "  </thead>\n",
       "  <tbody>\n",
       "    <tr>\n",
       "      <th>0</th>\n",
       "      <td>53.0</td>\n",
       "      <td>1457.0</td>\n",
       "      <td>1.0</td>\n",
       "      <td>1.0</td>\n",
       "      <td>34.0</td>\n",
       "      <td>121.0</td>\n",
       "      <td>34.0</td>\n",
       "      <td>34.0</td>\n",
       "      <td>34.000000</td>\n",
       "      <td>0.000000</td>\n",
       "      <td>...</td>\n",
       "      <td>8.0</td>\n",
       "      <td>0.0</td>\n",
       "      <td>0.0</td>\n",
       "      <td>0.0</td>\n",
       "      <td>0.0</td>\n",
       "      <td>0.0</td>\n",
       "      <td>0.0</td>\n",
       "      <td>0.0</td>\n",
       "      <td>0.0</td>\n",
       "      <td>Benign</td>\n",
       "    </tr>\n",
       "    <tr>\n",
       "      <th>1</th>\n",
       "      <td>53.0</td>\n",
       "      <td>19128.0</td>\n",
       "      <td>1.0</td>\n",
       "      <td>1.0</td>\n",
       "      <td>52.0</td>\n",
       "      <td>112.0</td>\n",
       "      <td>52.0</td>\n",
       "      <td>52.0</td>\n",
       "      <td>52.000000</td>\n",
       "      <td>0.000000</td>\n",
       "      <td>...</td>\n",
       "      <td>8.0</td>\n",
       "      <td>0.0</td>\n",
       "      <td>0.0</td>\n",
       "      <td>0.0</td>\n",
       "      <td>0.0</td>\n",
       "      <td>0.0</td>\n",
       "      <td>0.0</td>\n",
       "      <td>0.0</td>\n",
       "      <td>0.0</td>\n",
       "      <td>Benign</td>\n",
       "    </tr>\n",
       "    <tr>\n",
       "      <th>2</th>\n",
       "      <td>53.0</td>\n",
       "      <td>713.0</td>\n",
       "      <td>1.0</td>\n",
       "      <td>1.0</td>\n",
       "      <td>32.0</td>\n",
       "      <td>60.0</td>\n",
       "      <td>32.0</td>\n",
       "      <td>32.0</td>\n",
       "      <td>32.000000</td>\n",
       "      <td>0.000000</td>\n",
       "      <td>...</td>\n",
       "      <td>8.0</td>\n",
       "      <td>0.0</td>\n",
       "      <td>0.0</td>\n",
       "      <td>0.0</td>\n",
       "      <td>0.0</td>\n",
       "      <td>0.0</td>\n",
       "      <td>0.0</td>\n",
       "      <td>0.0</td>\n",
       "      <td>0.0</td>\n",
       "      <td>Benign</td>\n",
       "    </tr>\n",
       "    <tr>\n",
       "      <th>3</th>\n",
       "      <td>3389.0</td>\n",
       "      <td>6949770.0</td>\n",
       "      <td>12.0</td>\n",
       "      <td>7.0</td>\n",
       "      <td>1052.0</td>\n",
       "      <td>1429.0</td>\n",
       "      <td>581.0</td>\n",
       "      <td>0.0</td>\n",
       "      <td>87.666667</td>\n",
       "      <td>169.503732</td>\n",
       "      <td>...</td>\n",
       "      <td>20.0</td>\n",
       "      <td>0.0</td>\n",
       "      <td>0.0</td>\n",
       "      <td>0.0</td>\n",
       "      <td>0.0</td>\n",
       "      <td>0.0</td>\n",
       "      <td>0.0</td>\n",
       "      <td>0.0</td>\n",
       "      <td>0.0</td>\n",
       "      <td>Benign</td>\n",
       "    </tr>\n",
       "    <tr>\n",
       "      <th>4</th>\n",
       "      <td>80.0</td>\n",
       "      <td>80.0</td>\n",
       "      <td>2.0</td>\n",
       "      <td>0.0</td>\n",
       "      <td>0.0</td>\n",
       "      <td>0.0</td>\n",
       "      <td>0.0</td>\n",
       "      <td>0.0</td>\n",
       "      <td>0.000000</td>\n",
       "      <td>0.000000</td>\n",
       "      <td>...</td>\n",
       "      <td>20.0</td>\n",
       "      <td>0.0</td>\n",
       "      <td>0.0</td>\n",
       "      <td>0.0</td>\n",
       "      <td>0.0</td>\n",
       "      <td>0.0</td>\n",
       "      <td>0.0</td>\n",
       "      <td>0.0</td>\n",
       "      <td>0.0</td>\n",
       "      <td>Benign</td>\n",
       "    </tr>\n",
       "  </tbody>\n",
       "</table>\n",
       "<p>5 rows × 78 columns</p>\n",
       "</div>"
      ],
      "text/plain": [
       "   DstPort  FlowDuration  TotFwdPkts  TotBwdPkts  TotLenFwdPkts  \\\n",
       "0     53.0        1457.0         1.0         1.0           34.0   \n",
       "1     53.0       19128.0         1.0         1.0           52.0   \n",
       "2     53.0         713.0         1.0         1.0           32.0   \n",
       "3   3389.0     6949770.0        12.0         7.0         1052.0   \n",
       "4     80.0          80.0         2.0         0.0            0.0   \n",
       "\n",
       "   TotLenBwdPkts  FwdPktLenMax  FwdPktLenMin  FwdPktLenMean  FwdPktLenStd  \\\n",
       "0          121.0          34.0          34.0      34.000000      0.000000   \n",
       "1          112.0          52.0          52.0      52.000000      0.000000   \n",
       "2           60.0          32.0          32.0      32.000000      0.000000   \n",
       "3         1429.0         581.0           0.0      87.666667    169.503732   \n",
       "4            0.0           0.0           0.0       0.000000      0.000000   \n",
       "\n",
       "   ...  FwdSegSizeMin  ActiveMean  ActiveStd  ActiveMax  ActiveMin  IdleMean  \\\n",
       "0  ...            8.0         0.0        0.0        0.0        0.0       0.0   \n",
       "1  ...            8.0         0.0        0.0        0.0        0.0       0.0   \n",
       "2  ...            8.0         0.0        0.0        0.0        0.0       0.0   \n",
       "3  ...           20.0         0.0        0.0        0.0        0.0       0.0   \n",
       "4  ...           20.0         0.0        0.0        0.0        0.0       0.0   \n",
       "\n",
       "   IdleStd  IdleMax  IdleMin   Label  \n",
       "0      0.0      0.0      0.0  Benign  \n",
       "1      0.0      0.0      0.0  Benign  \n",
       "2      0.0      0.0      0.0  Benign  \n",
       "3      0.0      0.0      0.0  Benign  \n",
       "4      0.0      0.0      0.0  Benign  \n",
       "\n",
       "[5 rows x 78 columns]"
      ]
     },
     "execution_count": 4,
     "metadata": {},
     "output_type": "execute_result"
    }
   ],
   "source": [
    "dataset.head()"
   ]
  },
  {
   "cell_type": "code",
   "execution_count": 9,
   "id": "blank-functionality",
   "metadata": {},
   "outputs": [
    {
     "data": {
      "text/plain": [
       "(4524858, 78)"
      ]
     },
     "execution_count": 9,
     "metadata": {},
     "output_type": "execute_result"
    }
   ],
   "source": [
    "dataset.shape"
   ]
  },
  {
   "cell_type": "code",
   "execution_count": 10,
   "id": "occasional-integer",
   "metadata": {},
   "outputs": [],
   "source": [
    "# Splitting dataset into features and labels.\n",
    "\n",
    "labels = dataset['Label']\n",
    "features = dataset.loc[:, dataset.columns != 'Label'].astype('float64')"
   ]
  },
  {
   "cell_type": "code",
   "execution_count": 11,
   "id": "preliminary-quebec",
   "metadata": {},
   "outputs": [
    {
     "data": {
      "text/html": [
       "<div>\n",
       "<style scoped>\n",
       "    .dataframe tbody tr th:only-of-type {\n",
       "        vertical-align: middle;\n",
       "    }\n",
       "\n",
       "    .dataframe tbody tr th {\n",
       "        vertical-align: top;\n",
       "    }\n",
       "\n",
       "    .dataframe thead th {\n",
       "        text-align: right;\n",
       "    }\n",
       "</style>\n",
       "<table border=\"1\" class=\"dataframe\">\n",
       "  <thead>\n",
       "    <tr style=\"text-align: right;\">\n",
       "      <th></th>\n",
       "      <th>DstPort</th>\n",
       "      <th>FlowDuration</th>\n",
       "      <th>TotFwdPkts</th>\n",
       "      <th>TotBwdPkts</th>\n",
       "      <th>TotLenFwdPkts</th>\n",
       "      <th>TotLenBwdPkts</th>\n",
       "      <th>FwdPktLenMax</th>\n",
       "      <th>FwdPktLenMin</th>\n",
       "      <th>FwdPktLenMean</th>\n",
       "      <th>FwdPktLenStd</th>\n",
       "      <th>...</th>\n",
       "      <th>FwdActDataPkts</th>\n",
       "      <th>FwdSegSizeMin</th>\n",
       "      <th>ActiveMean</th>\n",
       "      <th>ActiveStd</th>\n",
       "      <th>ActiveMax</th>\n",
       "      <th>ActiveMin</th>\n",
       "      <th>IdleMean</th>\n",
       "      <th>IdleStd</th>\n",
       "      <th>IdleMax</th>\n",
       "      <th>IdleMin</th>\n",
       "    </tr>\n",
       "  </thead>\n",
       "  <tbody>\n",
       "    <tr>\n",
       "      <th>0</th>\n",
       "      <td>53.0</td>\n",
       "      <td>1457.0</td>\n",
       "      <td>1.0</td>\n",
       "      <td>1.0</td>\n",
       "      <td>34.0</td>\n",
       "      <td>121.0</td>\n",
       "      <td>34.0</td>\n",
       "      <td>34.0</td>\n",
       "      <td>34.000000</td>\n",
       "      <td>0.000000</td>\n",
       "      <td>...</td>\n",
       "      <td>0.0</td>\n",
       "      <td>8.0</td>\n",
       "      <td>0.0</td>\n",
       "      <td>0.0</td>\n",
       "      <td>0.0</td>\n",
       "      <td>0.0</td>\n",
       "      <td>0.0</td>\n",
       "      <td>0.0</td>\n",
       "      <td>0.0</td>\n",
       "      <td>0.0</td>\n",
       "    </tr>\n",
       "    <tr>\n",
       "      <th>1</th>\n",
       "      <td>53.0</td>\n",
       "      <td>19128.0</td>\n",
       "      <td>1.0</td>\n",
       "      <td>1.0</td>\n",
       "      <td>52.0</td>\n",
       "      <td>112.0</td>\n",
       "      <td>52.0</td>\n",
       "      <td>52.0</td>\n",
       "      <td>52.000000</td>\n",
       "      <td>0.000000</td>\n",
       "      <td>...</td>\n",
       "      <td>0.0</td>\n",
       "      <td>8.0</td>\n",
       "      <td>0.0</td>\n",
       "      <td>0.0</td>\n",
       "      <td>0.0</td>\n",
       "      <td>0.0</td>\n",
       "      <td>0.0</td>\n",
       "      <td>0.0</td>\n",
       "      <td>0.0</td>\n",
       "      <td>0.0</td>\n",
       "    </tr>\n",
       "    <tr>\n",
       "      <th>2</th>\n",
       "      <td>53.0</td>\n",
       "      <td>713.0</td>\n",
       "      <td>1.0</td>\n",
       "      <td>1.0</td>\n",
       "      <td>32.0</td>\n",
       "      <td>60.0</td>\n",
       "      <td>32.0</td>\n",
       "      <td>32.0</td>\n",
       "      <td>32.000000</td>\n",
       "      <td>0.000000</td>\n",
       "      <td>...</td>\n",
       "      <td>0.0</td>\n",
       "      <td>8.0</td>\n",
       "      <td>0.0</td>\n",
       "      <td>0.0</td>\n",
       "      <td>0.0</td>\n",
       "      <td>0.0</td>\n",
       "      <td>0.0</td>\n",
       "      <td>0.0</td>\n",
       "      <td>0.0</td>\n",
       "      <td>0.0</td>\n",
       "    </tr>\n",
       "    <tr>\n",
       "      <th>3</th>\n",
       "      <td>3389.0</td>\n",
       "      <td>6949770.0</td>\n",
       "      <td>12.0</td>\n",
       "      <td>7.0</td>\n",
       "      <td>1052.0</td>\n",
       "      <td>1429.0</td>\n",
       "      <td>581.0</td>\n",
       "      <td>0.0</td>\n",
       "      <td>87.666667</td>\n",
       "      <td>169.503732</td>\n",
       "      <td>...</td>\n",
       "      <td>5.0</td>\n",
       "      <td>20.0</td>\n",
       "      <td>0.0</td>\n",
       "      <td>0.0</td>\n",
       "      <td>0.0</td>\n",
       "      <td>0.0</td>\n",
       "      <td>0.0</td>\n",
       "      <td>0.0</td>\n",
       "      <td>0.0</td>\n",
       "      <td>0.0</td>\n",
       "    </tr>\n",
       "    <tr>\n",
       "      <th>4</th>\n",
       "      <td>80.0</td>\n",
       "      <td>80.0</td>\n",
       "      <td>2.0</td>\n",
       "      <td>0.0</td>\n",
       "      <td>0.0</td>\n",
       "      <td>0.0</td>\n",
       "      <td>0.0</td>\n",
       "      <td>0.0</td>\n",
       "      <td>0.000000</td>\n",
       "      <td>0.000000</td>\n",
       "      <td>...</td>\n",
       "      <td>0.0</td>\n",
       "      <td>20.0</td>\n",
       "      <td>0.0</td>\n",
       "      <td>0.0</td>\n",
       "      <td>0.0</td>\n",
       "      <td>0.0</td>\n",
       "      <td>0.0</td>\n",
       "      <td>0.0</td>\n",
       "      <td>0.0</td>\n",
       "      <td>0.0</td>\n",
       "    </tr>\n",
       "  </tbody>\n",
       "</table>\n",
       "<p>5 rows × 77 columns</p>\n",
       "</div>"
      ],
      "text/plain": [
       "   DstPort  FlowDuration  TotFwdPkts  TotBwdPkts  TotLenFwdPkts  \\\n",
       "0     53.0        1457.0         1.0         1.0           34.0   \n",
       "1     53.0       19128.0         1.0         1.0           52.0   \n",
       "2     53.0         713.0         1.0         1.0           32.0   \n",
       "3   3389.0     6949770.0        12.0         7.0         1052.0   \n",
       "4     80.0          80.0         2.0         0.0            0.0   \n",
       "\n",
       "   TotLenBwdPkts  FwdPktLenMax  FwdPktLenMin  FwdPktLenMean  FwdPktLenStd  \\\n",
       "0          121.0          34.0          34.0      34.000000      0.000000   \n",
       "1          112.0          52.0          52.0      52.000000      0.000000   \n",
       "2           60.0          32.0          32.0      32.000000      0.000000   \n",
       "3         1429.0         581.0           0.0      87.666667    169.503732   \n",
       "4            0.0           0.0           0.0       0.000000      0.000000   \n",
       "\n",
       "   ...  FwdActDataPkts  FwdSegSizeMin  ActiveMean  ActiveStd  ActiveMax  \\\n",
       "0  ...             0.0            8.0         0.0        0.0        0.0   \n",
       "1  ...             0.0            8.0         0.0        0.0        0.0   \n",
       "2  ...             0.0            8.0         0.0        0.0        0.0   \n",
       "3  ...             5.0           20.0         0.0        0.0        0.0   \n",
       "4  ...             0.0           20.0         0.0        0.0        0.0   \n",
       "\n",
       "   ActiveMin  IdleMean  IdleStd  IdleMax  IdleMin  \n",
       "0        0.0       0.0      0.0      0.0      0.0  \n",
       "1        0.0       0.0      0.0      0.0      0.0  \n",
       "2        0.0       0.0      0.0      0.0      0.0  \n",
       "3        0.0       0.0      0.0      0.0      0.0  \n",
       "4        0.0       0.0      0.0      0.0      0.0  \n",
       "\n",
       "[5 rows x 77 columns]"
      ]
     },
     "execution_count": 11,
     "metadata": {},
     "output_type": "execute_result"
    }
   ],
   "source": [
    "features.head()"
   ]
  },
  {
   "cell_type": "markdown",
   "id": "academic-warrior",
   "metadata": {},
   "source": [
    "### Scaling the data"
   ]
  },
  {
   "cell_type": "code",
   "execution_count": 12,
   "id": "animated-village",
   "metadata": {},
   "outputs": [],
   "source": [
    "# For scaling the data, we use RobustScaler class from sklearn.\n",
    "\n",
    "from sklearn.preprocessing import MinMaxScaler, StandardScaler, RobustScaler"
   ]
  },
  {
   "cell_type": "code",
   "execution_count": 13,
   "id": "shaped-watts",
   "metadata": {},
   "outputs": [],
   "source": [
    "scaler = RobustScaler()\n",
    "scaler.fit(features)\n",
    "\n",
    "features = scaler.transform(features)"
   ]
  },
  {
   "cell_type": "code",
   "execution_count": 14,
   "id": "decreased-porter",
   "metadata": {},
   "outputs": [
    {
     "data": {
      "text/plain": [
       "array([-7.39726027e-02, -1.08594247e-02, -1.00000000e+00,  0.00000000e+00,\n",
       "        1.26582278e-02,  6.41711230e-02,  1.78571429e-02,  3.40000000e+01,\n",
       "        3.94444444e-01,  0.00000000e+00,  6.68859649e-02,  1.21000000e+02,\n",
       "        5.11503067e-01,  0.00000000e+00,  7.56335664e+00,  5.91192161e-01,\n",
       "       -4.78274641e-02,  0.00000000e+00, -1.46239257e-02,  2.69858319e-01,\n",
       "       -5.37465270e-03, -2.20503260e-02,  0.00000000e+00, -8.21529055e-03,\n",
       "       -2.38582962e-02,  0.00000000e+00,  0.00000000e+00,  0.00000000e+00,\n",
       "        0.00000000e+00,  0.00000000e+00,  0.00000000e+00,  0.00000000e+00,\n",
       "        0.00000000e+00,  0.00000000e+00, -1.62500000e+00,  0.00000000e+00,\n",
       "        4.21586612e-01,  5.33656891e+00,  3.40000000e+01,  6.41711230e-02,\n",
       "        1.43631436e-01,  1.11293466e-01,  2.67993098e-02,  0.00000000e+00,\n",
       "        0.00000000e+00,  0.00000000e+00,  0.00000000e+00,  0.00000000e+00,\n",
       "        0.00000000e+00,  0.00000000e+00,  0.00000000e+00,  1.00000000e+00,\n",
       "        2.41869919e-01,  3.94444444e-01,  5.11503067e-01,  0.00000000e+00,\n",
       "        0.00000000e+00,  0.00000000e+00,  0.00000000e+00,  0.00000000e+00,\n",
       "        0.00000000e+00, -1.00000000e+00,  1.26582278e-02,  0.00000000e+00,\n",
       "        6.41711230e-02, -2.81159784e-01,  0.00000000e+00,  0.00000000e+00,\n",
       "       -1.20000000e+01,  0.00000000e+00,  0.00000000e+00,  0.00000000e+00,\n",
       "        0.00000000e+00,  0.00000000e+00,  0.00000000e+00,  0.00000000e+00,\n",
       "        0.00000000e+00])"
      ]
     },
     "execution_count": 14,
     "metadata": {},
     "output_type": "execute_result"
    }
   ],
   "source": [
    "# Checking if scaling has been succesful.\n",
    "features[0]"
   ]
  },
  {
   "cell_type": "markdown",
   "id": "compatible-possibility",
   "metadata": {},
   "source": [
    "### Label encoding"
   ]
  },
  {
   "cell_type": "code",
   "execution_count": 16,
   "id": "collective-worst",
   "metadata": {},
   "outputs": [],
   "source": [
    "\n",
    "from sklearn.preprocessing import LabelEncoder"
   ]
  },
  {
   "cell_type": "code",
   "execution_count": 17,
   "id": "retired-february",
   "metadata": {},
   "outputs": [],
   "source": [
    "LE = LabelEncoder()\n",
    "\n",
    "LE.fit(labels)\n",
    "labels = LE.transform(labels)"
   ]
  },
  {
   "cell_type": "code",
   "execution_count": 18,
   "id": "exempt-hormone",
   "metadata": {},
   "outputs": [
    {
     "data": {
      "text/plain": [
       "array([ 0,  1,  2,  3,  4,  5,  6,  7,  8,  9, 10, 11, 12, 13, 14])"
      ]
     },
     "execution_count": 18,
     "metadata": {},
     "output_type": "execute_result"
    }
   ],
   "source": [
    "# Labels have been replaced with integers.\n",
    "\n",
    "np.unique(labels)"
   ]
  },
  {
   "cell_type": "markdown",
   "id": "serial-boulder",
   "metadata": {},
   "source": [
    "### Splitting the data"
   ]
  },
  {
   "cell_type": "code",
   "execution_count": 21,
   "id": "governmental-induction",
   "metadata": {},
   "outputs": [
    {
     "data": {
      "text/plain": [
       "((3619886, 77), (3619886,), (904972, 77), (904972,))"
      ]
     },
     "execution_count": 21,
     "metadata": {},
     "output_type": "execute_result"
    }
   ],
   "source": [
    "# The next step is to split training and testing data. For this we will use sklearn function train_test_split().\n",
    "\n",
    "features_train, features_test, labels_train, labels_test = train_test_split(features, labels, test_size= 0.2,random_state=1)\n",
    "\n",
    "\n",
    "features_train.shape, labels_train.shape ,features_test.shape , labels_test.shape"
   ]
  },
  {
   "cell_type": "code",
   "execution_count": 22,
   "id": "incredible-looking",
   "metadata": {},
   "outputs": [
    {
     "data": {
      "text/plain": [
       "((2714914, 77), (2714914,), (904972, 77), (904972,))"
      ]
     },
     "execution_count": 22,
     "metadata": {},
     "output_type": "execute_result"
    }
   ],
   "source": [
    " features_train,  features_val, labels_train, labels_val = train_test_split(features_train, labels_train, test_size=0.25, random_state=1)\n",
    "\n",
    "features_train.shape, labels_train.shape , features_val.shape ,labels_val.shape"
   ]
  },
  {
   "cell_type": "code",
   "execution_count": 35,
   "id": "unable-lucas",
   "metadata": {},
   "outputs": [
    {
     "data": {
      "text/plain": [
       "((3619886, 77), (904972, 77), (3619886,), (904972,))"
      ]
     },
     "execution_count": 35,
     "metadata": {},
     "output_type": "execute_result"
    }
   ],
   "source": [
    "from sklearn.model_selection import train_test_split, GridSearchCV\n",
    "import numpy as np\n",
    "np.random.seed(0)\n",
    "x_train,x_test,y_train,y_test = train_test_split(x,y,test_size=0.2,shuffle=True,random_state=1)\n",
    "x_train.shape ,x_test.shape , y_train.shape ,y_test.shape"
   ]
  },
  {
   "cell_type": "code",
   "execution_count": 73,
   "id": "prime-enclosure",
   "metadata": {},
   "outputs": [],
   "source": [
    "# reshape input to be [samples, time steps, features]\n",
    "X_train = np.reshape(x_train, (x_train.shape[0],x_train.shape[1],1))\n",
    "X_test = np.reshape(x_test, (x_test.shape[0],x_test.shape[1],1))"
   ]
  },
  {
   "cell_type": "code",
   "execution_count": null,
   "id": "aggressive-accordance",
   "metadata": {},
   "outputs": [],
   "source": [
    "y_train= to_categorical(y_train)\n",
    "y_test= to_categorical(y_test)"
   ]
  },
  {
   "cell_type": "code",
   "execution_count": 74,
   "id": "placed-columbia",
   "metadata": {},
   "outputs": [
    {
     "data": {
      "text/plain": [
       "(3619886, 77, 1)"
      ]
     },
     "execution_count": 74,
     "metadata": {},
     "output_type": "execute_result"
    }
   ],
   "source": [
    "X_train.shape"
   ]
  },
  {
   "cell_type": "code",
   "execution_count": 36,
   "id": "dressed-bicycle",
   "metadata": {},
   "outputs": [],
   "source": [
    "from sklearn.naive_bayes import GaussianNB\n",
    "from sklearn.neighbors import KNeighborsClassifier\n",
    "from sklearn.linear_model import LogisticRegression\n",
    "from sklearn.tree import DecisionTreeClassifier\n",
    "from sklearn.ensemble import RandomForestClassifier"
   ]
  },
  {
   "cell_type": "markdown",
   "id": "competitive-train",
   "metadata": {},
   "source": [
    "# DNN Models"
   ]
  },
  {
   "cell_type": "code",
   "execution_count": 25,
   "id": "potential-tender",
   "metadata": {},
   "outputs": [],
   "source": [
    "import datetime\n",
    "\n",
    "import os"
   ]
  },
  {
   "cell_type": "code",
   "execution_count": 26,
   "id": "working-length",
   "metadata": {},
   "outputs": [],
   "source": [
    "log_dir = os.path.join(\n",
    "    \"train_logs\",\n",
    "    datetime.datetime.now().strftime(\"%Y%m%d-%H%M%S\"),\n",
    ")\n",
    "\n",
    "# TF callback that sets up TensorBoard with training logs.\n",
    "tensorboard_callback = tf.keras.callbacks.TensorBoard(log_dir=log_dir, histogram_freq=1)\n",
    "\n",
    "# TF callback that stops training when best value of validationi loss function is reached. It also\n",
    "# restores weights from the best training iteration.\n",
    "eary_stop_callback = tf.keras.callbacks.EarlyStopping(monitor='loss', patience=10, restore_best_weights=True)"
   ]
  },
  {
   "cell_type": "code",
   "execution_count": 41,
   "id": "interior-tucson",
   "metadata": {},
   "outputs": [
    {
     "name": "stdout",
     "output_type": "stream",
     "text": [
      "Model: \"sequential_7\"\n",
      "_________________________________________________________________\n",
      "Layer (type)                 Output Shape              Param #   \n",
      "=================================================================\n",
      "dense_14 (Dense)             (None, 128)               9984      \n",
      "_________________________________________________________________\n",
      "dropout_7 (Dropout)          (None, 128)               0         \n",
      "_________________________________________________________________\n",
      "dense_15 (Dense)             (None, 15)                1935      \n",
      "=================================================================\n",
      "Total params: 11,919\n",
      "Trainable params: 11,919\n",
      "Non-trainable params: 0\n",
      "_________________________________________________________________\n"
     ]
    }
   ],
   "source": [
    "dnn1= Sequential()\n",
    "dnn1.add(Dense(128, activation='relu', input_shape=(features_train.shape[1],)))\n",
    "dnn1.add(Dropout(0.1))\n",
    "dnn1.add(Dense(15, activation='softmax'))\n",
    "dnn1.summary()\n",
    "dnn1.compile(loss = 'sparse_categorical_crossentropy', optimizer= 'adam', metrics = ['accuracy'])\n"
   ]
  },
  {
   "cell_type": "code",
   "execution_count": 42,
   "id": "pleasant-thanksgiving",
   "metadata": {
    "scrolled": true
   },
   "outputs": [
    {
     "name": "stdout",
     "output_type": "stream",
     "text": [
      "Epoch 1/50\n",
      "21211/21211 [==============================] - 48s 2ms/step - loss: 14260.8637 - accuracy: 0.8738 - val_loss: 0.7657 - val_accuracy: 0.9023\n",
      "Epoch 2/50\n",
      "21211/21211 [==============================] - 44s 2ms/step - loss: 135.6666 - accuracy: 0.8974 - val_loss: 0.2708 - val_accuracy: 0.9021\n",
      "Epoch 3/50\n",
      "21211/21211 [==============================] - 45s 2ms/step - loss: 0.2840 - accuracy: 0.9020 - val_loss: 0.2612 - val_accuracy: 0.9034\n",
      "Epoch 4/50\n",
      "21211/21211 [==============================] - 45s 2ms/step - loss: 0.2702 - accuracy: 0.9029 - val_loss: 0.9133 - val_accuracy: 0.9034\n",
      "Epoch 5/50\n",
      "21211/21211 [==============================] - 48s 2ms/step - loss: 0.2850 - accuracy: 0.9032 - val_loss: 0.2552 - val_accuracy: 0.9038\n",
      "Epoch 6/50\n",
      "21211/21211 [==============================] - 46s 2ms/step - loss: 0.2720 - accuracy: 0.9030 - val_loss: 2.6020 - val_accuracy: 0.9035\n",
      "Epoch 7/50\n",
      "21211/21211 [==============================] - 46s 2ms/step - loss: 0.2845 - accuracy: 0.9034 - val_loss: 0.2492 - val_accuracy: 0.9038\n",
      "Epoch 8/50\n",
      "21211/21211 [==============================] - 46s 2ms/step - loss: 0.2608 - accuracy: 0.9035 - val_loss: 0.2509 - val_accuracy: 0.9036\n",
      "Epoch 9/50\n",
      "21211/21211 [==============================] - 45s 2ms/step - loss: 0.2607 - accuracy: 0.9036 - val_loss: 0.2486 - val_accuracy: 0.9040\n",
      "Epoch 10/50\n",
      "21211/21211 [==============================] - 45s 2ms/step - loss: 0.2644 - accuracy: 0.9035 - val_loss: 0.2726 - val_accuracy: 0.9034\n",
      "Epoch 11/50\n",
      "21211/21211 [==============================] - 45s 2ms/step - loss: 0.2737 - accuracy: 0.9035 - val_loss: 0.2687 - val_accuracy: 0.9039\n",
      "Epoch 12/50\n",
      "21211/21211 [==============================] - 48s 2ms/step - loss: 0.2723 - accuracy: 0.9034 - val_loss: 0.2490 - val_accuracy: 0.9037\n",
      "Epoch 13/50\n",
      "21211/21211 [==============================] - 47s 2ms/step - loss: 0.2800 - accuracy: 0.9035 - val_loss: 0.2526 - val_accuracy: 0.9038\n",
      "Epoch 14/50\n",
      "21211/21211 [==============================] - 47s 2ms/step - loss: 0.2616 - accuracy: 0.9034 - val_loss: 0.2970 - val_accuracy: 0.9034\n",
      "Epoch 15/50\n",
      "21211/21211 [==============================] - 47s 2ms/step - loss: 0.2628 - accuracy: 0.9036 - val_loss: 0.2624 - val_accuracy: 0.9036\n",
      "Epoch 16/50\n",
      "21211/21211 [==============================] - 47s 2ms/step - loss: 0.2853 - accuracy: 0.9036 - val_loss: 0.2521 - val_accuracy: 0.9029\n",
      "Epoch 17/50\n",
      "21211/21211 [==============================] - 48s 2ms/step - loss: 0.2601 - accuracy: 0.9034 - val_loss: 0.2588 - val_accuracy: 0.9026\n",
      "Epoch 18/50\n",
      "21211/21211 [==============================] - 47s 2ms/step - loss: 0.2757 - accuracy: 0.9033 - val_loss: 0.2506 - val_accuracy: 0.9028\n",
      "Epoch 19/50\n",
      "21211/21211 [==============================] - 46s 2ms/step - loss: 0.2758 - accuracy: 0.9035 - val_loss: 0.2500 - val_accuracy: 0.9039\n"
     ]
    },
    {
     "data": {
      "text/plain": [
       "<tensorflow.python.keras.callbacks.History at 0x29c037c5cc8>"
      ]
     },
     "execution_count": 42,
     "metadata": {},
     "output_type": "execute_result"
    }
   ],
   "source": [
    "\n",
    "dnn1.fit(features_train,labels_train,epochs=50,batch_size=128,validation_data=(features_val,labels_val),callbacks=[tensorboard_callback, eary_stop_callback])\n"
   ]
  },
  {
   "cell_type": "code",
   "execution_count": 43,
   "id": "finished-deficit",
   "metadata": {},
   "outputs": [
    {
     "data": {
      "image/png": "[encoded data removed]",
      "text/plain": [
       "<Figure size 432x288 with 1 Axes>"
      ]
     },
     "metadata": {
      "needs_background": "light"
     },
     "output_type": "display_data"
    },
    {
     "data": {
      "image/png": "[encoded data removed]",
      "text/plain": [
       "<Figure size 432x288 with 1 Axes>"
      ]
     },
     "metadata": {
      "needs_background": "light"
     },
     "output_type": "display_data"
    }
   ],
   "source": [
    "# plotting loss graphs w.r.t each epoch\n",
    "f, ax = plt.subplots()\n",
    "ax.plot([None] + dnn1.history.history[\"accuracy\"], 'o-')\n",
    "ax.plot([None] + dnn1.history.history[\"val_accuracy\"], 'x-')\n",
    "\n",
    "ax.legend(['Train_Accuracy', 'Val_Accuracy'], loc = 0)\n",
    "ax.set_title('Training/Val Accuracy Per Epoch')\n",
    "ax.set_xlabel('epoch')\n",
    "ax.set_ylabel('acc')\n",
    "plt.show()\n",
    "\n",
    "f, ax = plt.subplots()\n",
    "ax.plot([None] + dnn1.history.history[\"loss\"], 'o-')\n",
    "ax.plot([None] + dnn1.history.history[\"val_loss\"], 'x-')\n",
    "\n",
    "ax.legend(['Train_Loss', 'Val_Loss'], loc = 0)\n",
    "ax.set_title('Training/Val Losses Per Epoch')\n",
    "ax.set_xlabel('epoch')\n",
    "ax.set_ylabel('loss')\n",
    "plt.show()"
   ]
  },
  {
   "cell_type": "code",
   "execution_count": 44,
   "id": "quality-cookbook",
   "metadata": {},
   "outputs": [
    {
     "name": "stdout",
     "output_type": "stream",
     "text": [
      "28281/28281 - 22s - loss: 0.2509 - accuracy: 0.9041\n"
     ]
    },
    {
     "data": {
      "text/plain": [
       "[0.25090306997299194, 0.9040578007698059]"
      ]
     },
     "execution_count": 44,
     "metadata": {},
     "output_type": "execute_result"
    }
   ],
   "source": [
    "# Evaluating model accuracy.\n",
    "dnn1.evaluate(features_test, labels_test, verbose=2)"
   ]
  },
  {
   "cell_type": "code",
   "execution_count": 45,
   "id": "republican-audience",
   "metadata": {},
   "outputs": [],
   "source": [
    "# this function has evaluation metrics\n",
    "def report(prediction, y_true):\n",
    "    print('        ----------Classification Report Of Classes-------------')\n",
    "    print(classification_report(y_true,prediction))\n",
    "    print('\\n        ----------Validation Data------------------')\n",
    "    print('Accuarcy:',accuracy_score(y_true, prediction)* 100)\n",
    "    print('Precision: {:,.4f} %'.format(precision_score(y_true, prediction, average='weighted') * 100))\n",
    "    print('Recall-score: {:,.4f}'.format(recall_score(y_true, prediction, average='weighted') * 100))\n",
    "    print('F1-score: {:,.4f}'.format(f1_score(y_true, prediction, average='weighted') * 100))"
   ]
  },
  {
   "cell_type": "code",
   "execution_count": 46,
   "id": "bizarre-moses",
   "metadata": {},
   "outputs": [],
   "source": [
    "predict = np.argmax(dnn1.predict(features_test),axis=1)\n",
    "\n",
    "a = np.unique(predict)\n",
    "b = np.unique(labels_test)\n",
    "c = list(set(a) | set(b))"
   ]
  },
  {
   "cell_type": "code",
   "execution_count": 47,
   "id": "brief-domain",
   "metadata": {
    "scrolled": true
   },
   "outputs": [
    {
     "name": "stdout",
     "output_type": "stream",
     "text": [
      "        ----------Classification Report Of Classes-------------\n",
      "              precision    recall  f1-score   support\n",
      "\n",
      "           0       0.84      0.99      0.91    452600\n",
      "           1       1.00      1.00      1.00     55595\n",
      "           2       0.94      0.38      0.54       128\n",
      "           3       0.97      0.67      0.79        42\n",
      "           4       1.00      1.00      1.00    130014\n",
      "           5       0.00      0.00      0.00       328\n",
      "           6       1.00      0.56      0.72    115506\n",
      "           7       1.00      0.51      0.67      8302\n",
      "           8       1.00      0.99      1.00     82196\n",
      "           9       0.00      0.00      0.00      1415\n",
      "          10       0.96      0.28      0.43      1997\n",
      "          11       0.73      1.00      0.85      3920\n",
      "          12       0.76      0.19      0.31     32307\n",
      "          13       0.67      0.15      0.25        13\n",
      "          14       1.00      1.00      1.00     20609\n",
      "\n",
      "    accuracy                           0.90    904972\n",
      "   macro avg       0.79      0.58      0.63    904972\n",
      "weighted avg       0.91      0.90      0.89    904972\n",
      "\n",
      "\n",
      "        ----------Validation Data------------------\n",
      "Accuarcy: 90.40578051033623\n",
      "Precision: 90.9670 %\n",
      "Recall-score: 90.4058\n",
      "F1-score: 88.8832\n"
     ]
    }
   ],
   "source": [
    "report(predict,labels_test)"
   ]
  },
  {
   "cell_type": "code",
   "execution_count": 117,
   "id": "rural-surrey",
   "metadata": {},
   "outputs": [],
   "source": [
    "# Saving the model.\n",
    "\n",
    "dnn1.save('saved_models/DNN1_model_' + datetime.datetime.now().strftime(\"%Y%m%d-%H%M%S\") + '.h5')"
   ]
  },
  {
   "cell_type": "code",
   "execution_count": 105,
   "id": "lightweight-thermal",
   "metadata": {},
   "outputs": [
    {
     "name": "stdout",
     "output_type": "stream",
     "text": [
      "Model: \"sequential_7\"\n",
      "_________________________________________________________________\n",
      "Layer (type)                 Output Shape              Param #   \n",
      "=================================================================\n",
      "dense_14 (Dense)             (None, 128)               9984      \n",
      "_________________________________________________________________\n",
      "dropout_7 (Dropout)          (None, 128)               0         \n",
      "_________________________________________________________________\n",
      "dense_15 (Dense)             (None, 15)                1935      \n",
      "=================================================================\n",
      "Total params: 11,919\n",
      "Trainable params: 11,919\n",
      "Non-trainable params: 0\n",
      "_________________________________________________________________\n"
     ]
    }
   ],
   "source": [
    "dnn2= Sequential()\n",
    "dnn2.add(Dense(128, activation='relu', input_shape=(features_train.shape[1],)))\n",
    "dnn2.add(Dropout(0.1))\n",
    "dnn2.add(Dense(256, activation='relu'))\n",
    "dnn2.add(Dropout(0.1))\n",
    "dnn2.add(Dense(15, activation='softmax'))\n",
    "dnn1.summary()\n",
    "dnn2.compile(loss = 'sparse_categorical_crossentropy', optimizer= 'adam', metrics = ['accuracy'])"
   ]
  },
  {
   "cell_type": "code",
   "execution_count": 106,
   "id": "registered-residence",
   "metadata": {},
   "outputs": [
    {
     "name": "stdout",
     "output_type": "stream",
     "text": [
      "Epoch 1/50\n",
      "21211/21211 [==============================] - 81s 4ms/step - loss: 0.2943 - accuracy: 0.8863 - val_loss: 0.2505 - val_accuracy: 0.8960\n",
      "Epoch 2/50\n",
      "21211/21211 [==============================] - 77s 4ms/step - loss: 0.2564 - accuracy: 0.8963 - val_loss: 0.2488 - val_accuracy: 0.8958\n",
      "Epoch 3/50\n",
      "21211/21211 [==============================] - 80s 4ms/step - loss: 0.2564 - accuracy: 0.8976 - val_loss: 0.2489 - val_accuracy: 0.8960\n",
      "Epoch 4/50\n",
      "21211/21211 [==============================] - 80s 4ms/step - loss: 0.2574 - accuracy: 0.8956 - val_loss: 0.2524 - val_accuracy: 0.8975\n",
      "Epoch 5/50\n",
      "21211/21211 [==============================] - 79s 4ms/step - loss: 0.2556 - accuracy: 0.8969 - val_loss: 0.2517 - val_accuracy: 0.8910\n",
      "Epoch 6/50\n",
      "21211/21211 [==============================] - 81s 4ms/step - loss: 0.2548 - accuracy: 0.8988 - val_loss: 0.2540 - val_accuracy: 0.8859\n",
      "Epoch 7/50\n",
      "21211/21211 [==============================] - 80s 4ms/step - loss: 0.2583 - accuracy: 0.8973 - val_loss: 0.2508 - val_accuracy: 0.8972\n",
      "Epoch 8/50\n",
      "21211/21211 [==============================] - 79s 4ms/step - loss: 0.2551 - accuracy: 0.8977 - val_loss: 0.2511 - val_accuracy: 0.8954\n",
      "Epoch 9/50\n",
      "21211/21211 [==============================] - 79s 4ms/step - loss: 0.2561 - accuracy: 0.8970 - val_loss: 0.2382 - val_accuracy: 0.8962\n",
      "Epoch 10/50\n",
      "21211/21211 [==============================] - 80s 4ms/step - loss: 0.2526 - accuracy: 0.8982 - val_loss: 0.2434 - val_accuracy: 0.8968\n",
      "Epoch 11/50\n",
      "21211/21211 [==============================] - 82s 4ms/step - loss: 0.2521 - accuracy: 0.8984 - val_loss: 0.2437 - val_accuracy: 0.8983\n",
      "Epoch 12/50\n",
      "21211/21211 [==============================] - 85s 4ms/step - loss: 0.2524 - accuracy: 0.8997 - val_loss: 0.2535 - val_accuracy: 0.9014\n",
      "Epoch 13/50\n",
      "21211/21211 [==============================] - 86s 4ms/step - loss: 0.2574 - accuracy: 0.8958 - val_loss: 0.2440 - val_accuracy: 0.8963\n",
      "Epoch 14/50\n",
      "21211/21211 [==============================] - 87s 4ms/step - loss: 0.2549 - accuracy: 0.8973 - val_loss: 0.2525 - val_accuracy: 0.8902\n",
      "Epoch 15/50\n",
      "21211/21211 [==============================] - 81s 4ms/step - loss: 0.2541 - accuracy: 0.8976 - val_loss: 0.2506 - val_accuracy: 0.8964\n",
      "Epoch 16/50\n",
      "21211/21211 [==============================] - 79s 4ms/step - loss: 0.2551 - accuracy: 0.8970 - val_loss: 0.2445 - val_accuracy: 0.8989\n",
      "Epoch 17/50\n",
      "21211/21211 [==============================] - 75s 4ms/step - loss: 0.2547 - accuracy: 0.8964 - val_loss: 0.2569 - val_accuracy: 0.8970\n",
      "Epoch 18/50\n",
      "21211/21211 [==============================] - 75s 4ms/step - loss: 0.2553 - accuracy: 0.8969 - val_loss: 0.2534 - val_accuracy: 0.8951\n",
      "Epoch 19/50\n",
      "21211/21211 [==============================] - 75s 4ms/step - loss: 0.2580 - accuracy: 0.8968 - val_loss: 0.2443 - val_accuracy: 0.8970\n",
      "Epoch 20/50\n",
      "21211/21211 [==============================] - 76s 4ms/step - loss: 0.2540 - accuracy: 0.8975 - val_loss: 0.2510 - val_accuracy: 0.8986\n"
     ]
    },
    {
     "data": {
      "text/plain": [
       "<tensorflow.python.keras.callbacks.History at 0x29d57da2048>"
      ]
     },
     "execution_count": 106,
     "metadata": {},
     "output_type": "execute_result"
    }
   ],
   "source": [
    "dnn2.fit(features_train,labels_train,epochs=50,batch_size=128,validation_data=(features_val,labels_val),callbacks=[tensorboard_callback, eary_stop_callback])"
   ]
  },
  {
   "cell_type": "code",
   "execution_count": 108,
   "id": "legendary-canyon",
   "metadata": {},
   "outputs": [
    {
     "data": {
      "image/png": "[encoded data removed]",
      "text/plain": [
       "<Figure size 432x288 with 1 Axes>"
      ]
     },
     "metadata": {
      "needs_background": "light"
     },
     "output_type": "display_data"
    },
    {
     "data": {
      "image/png": "[encoded data removed]",
      "text/plain": [
       "<Figure size 432x288 with 1 Axes>"
      ]
     },
     "metadata": {
      "needs_background": "light"
     },
     "output_type": "display_data"
    }
   ],
   "source": [
    "# plotting loss graphs w.r.t each epoch\n",
    "f, ax = plt.subplots()\n",
    "ax.plot([None] + dnn2.history.history[\"accuracy\"], 'o-')\n",
    "ax.plot([None] + dnn2.history.history[\"val_accuracy\"], 'x-')\n",
    "\n",
    "ax.legend(['Train_Accuracy', 'Val_Accuracy'], loc = 0)\n",
    "ax.set_title('Training/Val Accuracy Per Epoch')\n",
    "ax.set_xlabel('epoch')\n",
    "ax.set_ylabel('acc')\n",
    "plt.show()\n",
    "\n",
    "f, ax = plt.subplots()\n",
    "ax.plot([None] + dnn2.history.history[\"loss\"], 'o-')\n",
    "ax.plot([None] + dnn2.history.history[\"val_loss\"], 'x-')\n",
    "\n",
    "ax.legend(['Train_Loss', 'Val_Loss'], loc = 0)\n",
    "ax.set_title('Training/Val Losses Per Epoch')\n",
    "ax.set_xlabel('epoch')\n",
    "ax.set_ylabel('loss')\n",
    "plt.show()"
   ]
  },
  {
   "cell_type": "code",
   "execution_count": 109,
   "id": "unnecessary-samuel",
   "metadata": {},
   "outputs": [
    {
     "name": "stdout",
     "output_type": "stream",
     "text": [
      "28281/28281 - 24s - loss: 0.2442 - accuracy: 0.8969\n"
     ]
    },
    {
     "data": {
      "text/plain": [
       "[0.24418418109416962, 0.8968708515167236]"
      ]
     },
     "execution_count": 109,
     "metadata": {},
     "output_type": "execute_result"
    }
   ],
   "source": [
    "# Evaluating model accuracy.\n",
    "dnn2.evaluate(features_test, labels_test, verbose=2)\n"
   ]
  },
  {
   "cell_type": "code",
   "execution_count": 110,
   "id": "interested-constitution",
   "metadata": {},
   "outputs": [],
   "source": [
    "predict = np.argmax(dnn2.predict(features_test),axis=1)\n",
    "\n",
    "a = np.unique(predict)\n",
    "b = np.unique(labels_test)\n",
    "c = list(set(a) | set(b))"
   ]
  },
  {
   "cell_type": "code",
   "execution_count": 111,
   "id": "expected-geography",
   "metadata": {
    "scrolled": true
   },
   "outputs": [
    {
     "name": "stdout",
     "output_type": "stream",
     "text": [
      "        ----------Classification Report Of Classes-------------\n",
      "              precision    recall  f1-score   support\n",
      "\n",
      "           0       0.83      0.99      0.91    452600\n",
      "           1       1.00      1.00      1.00     55595\n",
      "           2       0.33      0.01      0.02       128\n",
      "           3       0.52      0.69      0.59        42\n",
      "           4       1.00      1.00      1.00    130014\n",
      "           5       0.68      1.00      0.81       328\n",
      "           6       1.00      0.51      0.67    115506\n",
      "           7       0.98      0.51      0.67      8302\n",
      "           8       1.00      0.99      1.00     82196\n",
      "           9       0.00      0.00      0.00      1415\n",
      "          10       0.93      0.25      0.39      1997\n",
      "          11       0.73      1.00      0.84      3920\n",
      "          12       0.74      0.19      0.30     32307\n",
      "          13       0.00      0.00      0.00        13\n",
      "          14       1.00      1.00      1.00     20609\n",
      "\n",
      "    accuracy                           0.90    904972\n",
      "   macro avg       0.72      0.61      0.61    904972\n",
      "weighted avg       0.90      0.90      0.88    904972\n",
      "\n",
      "\n",
      "        ----------Validation Data------------------\n",
      "Accuarcy: 89.68708424128039\n",
      "Precision: 90.4469 %\n",
      "Recall-score: 89.6871\n",
      "F1-score: 87.9723\n"
     ]
    }
   ],
   "source": [
    "report(predict,labels_test)"
   ]
  },
  {
   "cell_type": "code",
   "execution_count": 116,
   "id": "expired-steal",
   "metadata": {},
   "outputs": [],
   "source": [
    "# Saving the model.\n",
    "\n",
    "dnn2.save('saved_models/DNN2_model_' + datetime.datetime.now().strftime(\"%Y%m%d-%H%M%S\") + '.h5')"
   ]
  },
  {
   "cell_type": "code",
   "execution_count": 55,
   "id": "requested-practitioner",
   "metadata": {},
   "outputs": [
    {
     "name": "stdout",
     "output_type": "stream",
     "text": [
      "Model: \"sequential_10\"\n",
      "_________________________________________________________________\n",
      "Layer (type)                 Output Shape              Param #   \n",
      "=================================================================\n",
      "dense_23 (Dense)             (None, 128)               9984      \n",
      "_________________________________________________________________\n",
      "dropout_13 (Dropout)         (None, 128)               0         \n",
      "_________________________________________________________________\n",
      "dense_24 (Dense)             (None, 256)               33024     \n",
      "_________________________________________________________________\n",
      "dropout_14 (Dropout)         (None, 256)               0         \n",
      "_________________________________________________________________\n",
      "dense_25 (Dense)             (None, 512)               131584    \n",
      "_________________________________________________________________\n",
      "dropout_15 (Dropout)         (None, 512)               0         \n",
      "_________________________________________________________________\n",
      "dense_26 (Dense)             (None, 23)                11799     \n",
      "=================================================================\n",
      "Total params: 186,391\n",
      "Trainable params: 186,391\n",
      "Non-trainable params: 0\n",
      "_________________________________________________________________\n"
     ]
    }
   ],
   "source": [
    "dnn3= Sequential()\n",
    "dnn3.add(Dense(128, activation='relu', input_shape=(features_train.shape[1],)))\n",
    "dnn3.add(Dropout(0.1))\n",
    "dnn3.add(Dense(256, activation='relu'))\n",
    "dnn3.add(Dropout(0.1))\n",
    "dnn3.add(Dense(512, activation='relu'))\n",
    "dnn3.add(Dropout(0.1))\n",
    "dnn3.add(Dense(15, activation = 'softmax'))\n",
    "dnn3.summary()\n",
    "\n",
    "dnn3.compile(loss = 'sparse_categorical_crossentropy', optimizer= 'adam', metrics = ['accuracy'])\n"
   ]
  },
  {
   "cell_type": "code",
   "execution_count": 56,
   "id": "attached-gambling",
   "metadata": {},
   "outputs": [
    {
     "name": "stdout",
     "output_type": "stream",
     "text": [
      "Epoch 1/50\n",
      "5303/5303 [==============================] - 79s 15ms/step - loss: 0.3456 - accuracy: 0.8729 - val_loss: 0.2466 - val_accuracy: 0.8942\n",
      "Epoch 2/50\n",
      "5303/5303 [==============================] - 79s 15ms/step - loss: 0.2489 - accuracy: 0.8976 - val_loss: 0.2421 - val_accuracy: 0.9109\n",
      "Epoch 3/50\n",
      "5303/5303 [==============================] - 77s 14ms/step - loss: 0.2424 - accuracy: 0.9024 - val_loss: 0.2345 - val_accuracy: 0.9040\n",
      "Epoch 4/50\n",
      "5303/5303 [==============================] - 75s 14ms/step - loss: 0.2396 - accuracy: 0.9034 - val_loss: 0.2382 - val_accuracy: 0.9034\n",
      "Epoch 5/50\n",
      "5303/5303 [==============================] - 75s 14ms/step - loss: 0.2366 - accuracy: 0.9039 - val_loss: 0.2353 - val_accuracy: 0.9053\n",
      "Epoch 6/50\n",
      "5303/5303 [==============================] - 76s 14ms/step - loss: 0.2378 - accuracy: 0.9039 - val_loss: 0.2350 - val_accuracy: 0.9043\n",
      "Epoch 7/50\n",
      "5303/5303 [==============================] - 78s 15ms/step - loss: 0.2378 - accuracy: 0.9038 - val_loss: 0.2345 - val_accuracy: 0.9044\n",
      "Epoch 8/50\n",
      "5303/5303 [==============================] - 74s 14ms/step - loss: 0.2368 - accuracy: 0.9042 - val_loss: 0.2305 - val_accuracy: 0.9262\n",
      "Epoch 9/50\n",
      "5303/5303 [==============================] - 74s 14ms/step - loss: 0.2362 - accuracy: 0.9040 - val_loss: 0.2323 - val_accuracy: 0.9044\n",
      "Epoch 10/50\n",
      "5303/5303 [==============================] - 75s 14ms/step - loss: 0.2355 - accuracy: 0.9044 - val_loss: 0.2320 - val_accuracy: 0.9043\n",
      "Epoch 11/50\n",
      "5303/5303 [==============================] - 74s 14ms/step - loss: 0.2351 - accuracy: 0.9046 - val_loss: 0.2326 - val_accuracy: 0.9053\n",
      "Epoch 12/50\n",
      "5303/5303 [==============================] - 75s 14ms/step - loss: 0.2329 - accuracy: 0.9056 - val_loss: 0.2260 - val_accuracy: 0.9230\n",
      "Epoch 13/50\n",
      "5303/5303 [==============================] - 77s 14ms/step - loss: 0.2320 - accuracy: 0.9056 - val_loss: 0.2303 - val_accuracy: 0.9046\n",
      "Epoch 14/50\n",
      "5303/5303 [==============================] - 80s 15ms/step - loss: 0.2328 - accuracy: 0.9050 - val_loss: 0.2299 - val_accuracy: 0.9046\n",
      "Epoch 15/50\n",
      "5303/5303 [==============================] - 77s 15ms/step - loss: 0.2322 - accuracy: 0.9058 - val_loss: 0.2311 - val_accuracy: 0.9045\n",
      "Epoch 16/50\n",
      "5303/5303 [==============================] - 79s 15ms/step - loss: 0.2325 - accuracy: 0.9059 - val_loss: 0.2206 - val_accuracy: 0.9054\n",
      "Epoch 17/50\n",
      "5303/5303 [==============================] - 77s 14ms/step - loss: 0.2318 - accuracy: 0.9060 - val_loss: 0.2313 - val_accuracy: 0.9049\n",
      "Epoch 18/50\n",
      "5303/5303 [==============================] - 79s 15ms/step - loss: 0.2330 - accuracy: 0.9052 - val_loss: 0.2281 - val_accuracy: 0.9061\n",
      "Epoch 19/50\n",
      "5303/5303 [==============================] - 76s 14ms/step - loss: 0.2311 - accuracy: 0.9060 - val_loss: 0.2248 - val_accuracy: 0.9050\n",
      "Epoch 20/50\n",
      "5303/5303 [==============================] - 73s 14ms/step - loss: 0.2329 - accuracy: 0.9052 - val_loss: 0.2298 - val_accuracy: 0.9047\n",
      "Epoch 21/50\n",
      "5303/5303 [==============================] - 76s 14ms/step - loss: 0.2320 - accuracy: 0.9060 - val_loss: 0.2300 - val_accuracy: 0.9047\n",
      "Epoch 22/50\n",
      "5303/5303 [==============================] - 74s 14ms/step - loss: 0.2304 - accuracy: 0.9070 - val_loss: 0.2261 - val_accuracy: 0.9051\n",
      "Epoch 23/50\n",
      "5303/5303 [==============================] - 75s 14ms/step - loss: 0.2297 - accuracy: 0.9065 - val_loss: 0.2257 - val_accuracy: 0.9114\n",
      "Epoch 24/50\n",
      "5303/5303 [==============================] - 77s 14ms/step - loss: 0.2287 - accuracy: 0.9074 - val_loss: 0.2260 - val_accuracy: 0.9043\n",
      "Epoch 25/50\n",
      "5303/5303 [==============================] - 75s 14ms/step - loss: 0.2284 - accuracy: 0.9077 - val_loss: 0.2240 - val_accuracy: 0.9055\n",
      "Epoch 26/50\n",
      "5303/5303 [==============================] - 74s 14ms/step - loss: 0.2302 - accuracy: 0.9067 - val_loss: 0.2281 - val_accuracy: 0.9047\n",
      "Epoch 27/50\n",
      "5303/5303 [==============================] - 73s 14ms/step - loss: 0.2289 - accuracy: 0.9079 - val_loss: 0.2270 - val_accuracy: 0.9055\n",
      "Epoch 28/50\n",
      "5303/5303 [==============================] - 71s 13ms/step - loss: 0.2286 - accuracy: 0.9087 - val_loss: 0.2228 - val_accuracy: 0.9362\n",
      "Epoch 29/50\n",
      "5303/5303 [==============================] - 74s 14ms/step - loss: 0.2279 - accuracy: 0.9099 - val_loss: 0.2223 - val_accuracy: 0.9048\n",
      "Epoch 30/50\n",
      "5303/5303 [==============================] - 73s 14ms/step - loss: 0.2268 - accuracy: 0.9106 - val_loss: 0.2115 - val_accuracy: 0.9284\n",
      "Epoch 31/50\n",
      "5303/5303 [==============================] - 73s 14ms/step - loss: 0.2255 - accuracy: 0.9111 - val_loss: 0.2155 - val_accuracy: 0.9332\n",
      "Epoch 32/50\n",
      "5303/5303 [==============================] - 71s 13ms/step - loss: 0.2270 - accuracy: 0.9107 - val_loss: 0.2232 - val_accuracy: 0.9219\n",
      "Epoch 33/50\n",
      "5303/5303 [==============================] - 74s 14ms/step - loss: 0.2282 - accuracy: 0.9095 - val_loss: 0.2251 - val_accuracy: 0.9205\n",
      "Epoch 34/50\n",
      "5303/5303 [==============================] - 71s 13ms/step - loss: 0.2288 - accuracy: 0.9089 - val_loss: 0.2278 - val_accuracy: 0.9024\n",
      "Epoch 35/50\n",
      "5303/5303 [==============================] - 71s 13ms/step - loss: 0.2274 - accuracy: 0.9090 - val_loss: 0.2032 - val_accuracy: 0.9431\n",
      "Epoch 36/50\n",
      "5303/5303 [==============================] - 72s 14ms/step - loss: 0.2268 - accuracy: 0.9106 - val_loss: 0.2293 - val_accuracy: 0.9053\n",
      "Epoch 37/50\n",
      "5303/5303 [==============================] - 70s 13ms/step - loss: 0.2278 - accuracy: 0.9097 - val_loss: 0.2024 - val_accuracy: 0.9410\n",
      "Epoch 38/50\n",
      "5303/5303 [==============================] - 71s 13ms/step - loss: 0.2283 - accuracy: 0.9092 - val_loss: 0.2296 - val_accuracy: 0.9047\n",
      "Epoch 39/50\n",
      "5303/5303 [==============================] - 72s 14ms/step - loss: 0.2286 - accuracy: 0.9094 - val_loss: 0.2280 - val_accuracy: 0.9047\n",
      "Epoch 40/50\n",
      "5303/5303 [==============================] - 71s 13ms/step - loss: 0.2295 - accuracy: 0.9079 - val_loss: 0.2139 - val_accuracy: 0.9055\n"
     ]
    },
    {
     "data": {
      "text/plain": [
       "<tensorflow.python.keras.callbacks.History at 0x29b22baa288>"
      ]
     },
     "execution_count": 56,
     "metadata": {},
     "output_type": "execute_result"
    }
   ],
   "source": [
    "dnn3.fit(features_train,labels_train,epochs=50,batch_size=256,validation_data=(features_test,labels_test),callbacks=[tensorboard_callback, eary_stop_callback])\n"
   ]
  },
  {
   "cell_type": "code",
   "execution_count": 57,
   "id": "informed-sleep",
   "metadata": {},
   "outputs": [
    {
     "data": {
      "image/png": "[encoded data removed]",
      "text/plain": [
       "<Figure size 432x288 with 1 Axes>"
      ]
     },
     "metadata": {
      "needs_background": "light"
     },
     "output_type": "display_data"
    },
    {
     "data": {
      "image/png": "[encoded data removed]",
      "text/plain": [
       "<Figure size 432x288 with 1 Axes>"
      ]
     },
     "metadata": {
      "needs_background": "light"
     },
     "output_type": "display_data"
    }
   ],
   "source": [
    "# plotting loss graphs w.r.t each epoch\n",
    "f, ax = plt.subplots()\n",
    "ax.plot([None] + dnn3.history.history[\"accuracy\"], 'o-')\n",
    "ax.plot([None] + dnn3.history.history[\"val_accuracy\"], 'x-')\n",
    "\n",
    "ax.legend(['Train_Accuracy', 'Val_Accuracy'], loc = 0)\n",
    "ax.set_title('Training/Val Accuracy Per Epoch')\n",
    "ax.set_xlabel('epoch')\n",
    "ax.set_ylabel('acc')\n",
    "plt.show()\n",
    "\n",
    "f, ax = plt.subplots()\n",
    "ax.plot([None] + dnn3.history.history[\"loss\"], 'o-')\n",
    "ax.plot([None] + dnn3.history.history[\"val_loss\"], 'x-')\n",
    "\n",
    "ax.legend(['Train_Loss', 'Val_Loss'], loc = 0)\n",
    "ax.set_title('Training/Val Losses Per Epoch')\n",
    "ax.set_xlabel('epoch')\n",
    "ax.set_ylabel('loss')\n",
    "plt.show()"
   ]
  },
  {
   "cell_type": "code",
   "execution_count": 58,
   "id": "afraid-surfing",
   "metadata": {},
   "outputs": [],
   "source": [
    "predict = np.argmax(dnn3.predict(features_test),axis=1)\n",
    "\n",
    "a = np.unique(predict)\n",
    "b = np.unique(labels_test)\n",
    "c = list(set(a) | set(b))"
   ]
  },
  {
   "cell_type": "code",
   "execution_count": 59,
   "id": "known-maple",
   "metadata": {
    "scrolled": true
   },
   "outputs": [
    {
     "name": "stdout",
     "output_type": "stream",
     "text": [
      "        ----------Classification Report Of Classes-------------\n",
      "              precision    recall  f1-score   support\n",
      "\n",
      "           0       0.94      0.93      0.94    452600\n",
      "           1       1.00      1.00      1.00     55595\n",
      "           2       0.98      0.38      0.54       128\n",
      "           3       0.97      0.69      0.81        42\n",
      "           4       1.00      1.00      1.00    130014\n",
      "           5       0.68      1.00      0.81       328\n",
      "           6       0.77      1.00      0.87    115506\n",
      "           7       1.00      0.51      0.67      8302\n",
      "           8       1.00      1.00      1.00     82196\n",
      "           9       0.00      0.00      0.00      1415\n",
      "          10       0.73      0.28      0.41      1997\n",
      "          11       0.74      1.00      0.85      3920\n",
      "          12       0.75      0.20      0.32     32307\n",
      "          13       1.00      0.08      0.14        13\n",
      "          14       1.00      1.00      1.00     20609\n",
      "\n",
      "    accuracy                           0.93    904972\n",
      "   macro avg       0.84      0.67      0.69    904972\n",
      "weighted avg       0.93      0.93      0.92    904972\n",
      "\n",
      "\n",
      "        ----------Validation Data------------------\n",
      "Accuarcy: 92.83834195975123\n",
      "Precision: 92.8970 %\n",
      "Recall-score: 92.8383\n",
      "F1-score: 92.0008\n"
     ]
    }
   ],
   "source": [
    "report(predict,labels_test)"
   ]
  },
  {
   "cell_type": "code",
   "execution_count": 115,
   "id": "light-kruger",
   "metadata": {},
   "outputs": [],
   "source": [
    "# Saving the model.\n",
    "\n",
    "dnn3.save('saved_models/DNN3_model_' + datetime.datetime.now().strftime(\"%Y%m%d-%H%M%S\") + '.h5')"
   ]
  },
  {
   "cell_type": "markdown",
   "id": "alien-drink",
   "metadata": {},
   "source": [
    "# CNN Models"
   ]
  },
  {
   "cell_type": "code",
   "execution_count": 65,
   "id": "offensive-yeast",
   "metadata": {},
   "outputs": [],
   "source": [
    "y_train= to_categorical(labels_train)\n",
    "y_test= to_categorical(labels_test)\n",
    "y_val= to_categorical(labels_val)\n"
   ]
  },
  {
   "cell_type": "code",
   "execution_count": 66,
   "id": "outer-zoning",
   "metadata": {},
   "outputs": [
    {
     "data": {
      "text/plain": [
       "((2714914, 77, 1), (904972, 77, 1), (904972, 77, 1))"
      ]
     },
     "execution_count": 66,
     "metadata": {},
     "output_type": "execute_result"
    }
   ],
   "source": [
    "# reshape input to be [samples, time steps, features]\n",
    "\n",
    "# reshape input to be [samples, time steps, features]\n",
    "X_train = np.reshape(features_train, (features_train.shape[0],features_train.shape[1],1))\n",
    "X_test = np.reshape(features_test, (features_test.shape[0],features_test.shape[1],1))\n",
    "X_val = np.reshape(features_val, (features_val.shape[0],features_val.shape[1],1))\n",
    "X_train.shape , X_test.shape ,X_val.shape"
   ]
  },
  {
   "cell_type": "code",
   "execution_count": 69,
   "id": "united-preserve",
   "metadata": {},
   "outputs": [
    {
     "name": "stdout",
     "output_type": "stream",
     "text": [
      "Model: \"sequential\"\n",
      "_________________________________________________________________\n",
      "Layer (type)                 Output Shape              Param #   \n",
      "=================================================================\n",
      "conv1d (Conv1D)              (None, 75, 64)            256       \n",
      "_________________________________________________________________\n",
      "leaky_re_lu (LeakyReLU)      (None, 75, 64)            0         \n",
      "_________________________________________________________________\n",
      "dropout (Dropout)            (None, 75, 64)            0         \n",
      "_________________________________________________________________\n",
      "flatten (Flatten)            (None, 4800)              0         \n",
      "_________________________________________________________________\n",
      "dense (Dense)                (None, 64)                307264    \n",
      "_________________________________________________________________\n",
      "leaky_re_lu_1 (LeakyReLU)    (None, 64)                0         \n",
      "_________________________________________________________________\n",
      "dense_1 (Dense)              (None, 15)                975       \n",
      "=================================================================\n",
      "Total params: 308,495\n",
      "Trainable params: 308,495\n",
      "Non-trainable params: 0\n",
      "_________________________________________________________________\n"
     ]
    }
   ],
   "source": [
    "#hyperparameters\n",
    "keras.backend.clear_session()\n",
    "SEED = 1040941203\n",
    "hidden_initializer = random_uniform(seed=SEED)\n",
    "\n",
    "# create model\n",
    "cnn1 = Sequential()\n",
    "cnn1.add(Conv1D(64, 3,input_shape=(77, 1) ))\n",
    "cnn1.add(LeakyReLU(alpha=0.1))\n",
    "cnn1.add(MaxPooling1D(pool_size=2))\n",
    "cnn1.add(Dropout(0.3))\n",
    "\n",
    "cnn1.add(Flatten())\n",
    "cnn1.add(Dense(64, input_dim=77, kernel_initializer=hidden_initializer))\n",
    "cnn1.add(LeakyReLU(alpha=0.1))\n",
    "cnn1.add(Dense(32))\n",
    "cnn1.add(LeakyReLU(alpha=0.1))\n",
    "\n",
    "cnn1.add(Dense(15, activation='sigmoid'))\n",
    "\n",
    "cnn1.summary()"
   ]
  },
  {
   "cell_type": "code",
   "execution_count": 70,
   "id": "banned-municipality",
   "metadata": {},
   "outputs": [
    {
     "name": "stdout",
     "output_type": "stream",
     "text": [
      "Epoch 1/50\n",
      "2652/2652 [==============================] - 255s 96ms/step - loss: 1655.8644 - accuracy: 0.7579 - val_loss: 99.3057 - val_accuracy: 0.9018\n",
      "Epoch 2/50\n",
      "2652/2652 [==============================] - 241s 91ms/step - loss: 72.3142 - accuracy: 0.7500 - val_loss: 10.1316 - val_accuracy: 0.8837\n",
      "Epoch 3/50\n",
      "2652/2652 [==============================] - 236s 89ms/step - loss: 7.6289 - accuracy: 0.7084 - val_loss: 2.4370 - val_accuracy: 0.9088\n",
      "Epoch 4/50\n",
      "2652/2652 [==============================] - 237s 89ms/step - loss: 3.1592 - accuracy: 0.6726 - val_loss: 14.6704 - val_accuracy: 0.6900\n",
      "Epoch 5/50\n",
      "2652/2652 [==============================] - 229s 86ms/step - loss: 3.0161 - accuracy: 0.6395 - val_loss: 0.7540 - val_accuracy: 0.7653\n",
      "Epoch 6/50\n",
      "2652/2652 [==============================] - 229s 86ms/step - loss: 15.7002 - accuracy: 0.6391 - val_loss: 7.6085 - val_accuracy: 0.8666\n",
      "Epoch 7/50\n",
      "2652/2652 [==============================] - 229s 86ms/step - loss: 15.9803 - accuracy: 0.7667 - val_loss: 6.2344 - val_accuracy: 0.8959\n",
      "Epoch 8/50\n",
      "2652/2652 [==============================] - 228s 86ms/step - loss: 5.4379 - accuracy: 0.7728 - val_loss: 2.3498 - val_accuracy: 0.8975\n",
      "Epoch 9/50\n",
      "2652/2652 [==============================] - 229s 86ms/step - loss: 13.1477 - accuracy: 0.7695 - val_loss: 3.9036 - val_accuracy: 0.7517\n",
      "Epoch 10/50\n",
      "2652/2652 [==============================] - 228s 86ms/step - loss: 5.5750 - accuracy: 0.7418 - val_loss: 17.9009 - val_accuracy: 0.7914\n",
      "Epoch 11/50\n",
      "2652/2652 [==============================] - 228s 86ms/step - loss: 11.5571 - accuracy: 0.7728 - val_loss: 18.9636 - val_accuracy: 0.8234\n",
      "Epoch 12/50\n",
      "2652/2652 [==============================] - 235s 89ms/step - loss: 8.7413 - accuracy: 0.7350 - val_loss: 1.2734 - val_accuracy: 0.7538\n",
      "Epoch 13/50\n",
      "2652/2652 [==============================] - 258s 97ms/step - loss: 1.5312 - accuracy: 0.7262 - val_loss: 1.2200 - val_accuracy: 0.8109\n",
      "Epoch 14/50\n",
      "2652/2652 [==============================] - 259s 98ms/step - loss: 25.7706 - accuracy: 0.7496 - val_loss: 19.8558 - val_accuracy: 0.8827645 - accuracy: 0.7\n",
      "Epoch 15/50\n",
      "2652/2652 [==============================] - 260s 98ms/step - loss: 13.1757 - accuracy: 0.8107 - val_loss: 2.6274 - val_accuracy: 0.8381\n",
      "Epoch 16/50\n",
      "2652/2652 [==============================] - 259s 98ms/step - loss: 2.9113 - accuracy: 0.7815 - val_loss: 124.5917 - val_accuracy: 0.8067\n",
      "Epoch 17/50\n",
      "2652/2652 [==============================] - 259s 98ms/step - loss: 90.5479 - accuracy: 0.7868 - val_loss: 4.8855 - val_accuracy: 0.8836\n",
      "Epoch 18/50\n",
      "2652/2652 [==============================] - 260s 98ms/step - loss: 23.6482 - accuracy: 0.7586 - val_loss: 5.9115 - val_accuracy: 0.7931\n",
      "Epoch 19/50\n",
      "2652/2652 [==============================] - 259s 98ms/step - loss: 4.0512 - accuracy: 0.7372 - val_loss: 0.9320 - val_accuracy: 0.8274\n",
      "Epoch 20/50\n",
      "2652/2652 [==============================] - 258s 97ms/step - loss: 19.2427 - accuracy: 0.7546 - val_loss: 6.9636 - val_accuracy: 0.8591\n",
      "Epoch 21/50\n",
      "2652/2652 [==============================] - 263s 99ms/step - loss: 8.2695 - accuracy: 0.8071 - val_loss: 2.9072 - val_accuracy: 0.8654\n",
      "Epoch 22/50\n",
      "2652/2652 [==============================] - 273s 103ms/step - loss: 5.5322 - accuracy: 0.7857 - val_loss: 8.0834 - val_accuracy: 0.8962\n",
      "Epoch 23/50\n",
      "2652/2652 [==============================] - 270s 102ms/step - loss: 16.8907 - accuracy: 0.7677 - val_loss: 6.3883 - val_accuracy: 0.8786\n"
     ]
    },
    {
     "data": {
      "text/plain": [
       "<tensorflow.python.keras.callbacks.History at 0x29d54518348>"
      ]
     },
     "execution_count": 70,
     "metadata": {},
     "output_type": "execute_result"
    }
   ],
   "source": [
    "cnn1.compile(loss = \"categorical_crossentropy\", optimizer='adam', metrics=['accuracy'])\n",
    "cnn1.fit(X_train, y_train, epochs=50, batch_size=1024, validation_data=(X_val,y_val),callbacks=[tensorboard_callback, eary_stop_callback])"
   ]
  },
  {
   "cell_type": "code",
   "execution_count": 71,
   "id": "departmental-style",
   "metadata": {},
   "outputs": [
    {
     "data": {
      "image/png": "[encoded data removed]",
      "text/plain": [
       "<Figure size 432x288 with 1 Axes>"
      ]
     },
     "metadata": {
      "needs_background": "light"
     },
     "output_type": "display_data"
    },
    {
     "data": {
      "image/png": "[encoded data removed]",
      "text/plain": [
       "<Figure size 432x288 with 1 Axes>"
      ]
     },
     "metadata": {
      "needs_background": "light"
     },
     "output_type": "display_data"
    }
   ],
   "source": [
    "# plotting loss graphs w.r.t each epoch\n",
    "f, ax = plt.subplots()\n",
    "ax.plot([None] + cnn1.history.history[\"accuracy\"], 'o-')\n",
    "ax.plot([None] + cnn1.history.history[\"val_accuracy\"], 'x-')\n",
    "\n",
    "ax.legend(['Train_Accuracy', 'Val_Accuracy'], loc = 0)\n",
    "ax.set_title('Training/Val Accuracy Per Epoch')\n",
    "ax.set_xlabel('epoch')\n",
    "ax.set_ylabel('acc')\n",
    "plt.show()\n",
    "\n",
    "f, ax = plt.subplots()\n",
    "ax.plot([None] + cnn1.history.history[\"loss\"], 'o-')\n",
    "ax.plot([None] + cnn1.history.history[\"val_loss\"], 'x-')\n",
    "\n",
    "ax.legend(['Train_Loss', 'Val_Loss'], loc = 0)\n",
    "ax.set_title('Training/Val Losses Per Epoch')\n",
    "ax.set_xlabel('epoch')\n",
    "ax.set_ylabel('loss')\n",
    "plt.show()"
   ]
  },
  {
   "cell_type": "code",
   "execution_count": 72,
   "id": "assisted-saint",
   "metadata": {},
   "outputs": [],
   "source": [
    "predict = np.argmax(cnn1.predict(X_test),axis=1)\n",
    "\n",
    "a = np.unique(predict)\n",
    "b = np.unique(y_test)\n",
    "c = list(set(a) | set(b))"
   ]
  },
  {
   "cell_type": "code",
   "execution_count": 73,
   "id": "vanilla-allen",
   "metadata": {},
   "outputs": [
    {
     "name": "stdout",
     "output_type": "stream",
     "text": [
      "        ----------Classification Report Of Classes-------------\n",
      "              precision    recall  f1-score   support\n",
      "\n",
      "           0       0.78      0.90      0.84    452600\n",
      "           1       0.00      0.00      0.00     55595\n",
      "           2       0.00      0.00      0.00       128\n",
      "           3       0.00      0.00      0.00        42\n",
      "           4       0.94      0.96      0.95    130014\n",
      "           5       0.00      0.00      0.00       328\n",
      "           6       0.71      0.92      0.80    115506\n",
      "           7       0.00      0.00      0.00      8302\n",
      "           8       1.00      0.93      0.96     82196\n",
      "           9       0.00      0.00      0.00      1415\n",
      "          10       1.00      0.49      0.65      1997\n",
      "          11       0.00      0.00      0.00      3920\n",
      "          12       0.66      0.06      0.11     32307\n",
      "          13       0.00      0.00      0.00        13\n",
      "          14       0.99      0.91      0.95     20609\n",
      "\n",
      "    accuracy                           0.82    904972\n",
      "   macro avg       0.41      0.35      0.35    904972\n",
      "weighted avg       0.76      0.82      0.77    904972\n",
      "\n",
      "\n",
      "        ----------Validation Data------------------\n",
      "Accuarcy: 81.67059312332316\n",
      "Precision: 75.6440 %\n",
      "Recall-score: 81.6706\n",
      "F1-score: 77.3512\n"
     ]
    }
   ],
   "source": [
    "report(predict,labels_test)"
   ]
  },
  {
   "cell_type": "code",
   "execution_count": 74,
   "id": "critical-bicycle",
   "metadata": {},
   "outputs": [
    {
     "name": "stdout",
     "output_type": "stream",
     "text": [
      "Model: \"sequential\"\n",
      "_________________________________________________________________\n",
      "Layer (type)                 Output Shape              Param #   \n",
      "=================================================================\n",
      "conv1d (Conv1D)              (None, 75, 64)            256       \n",
      "_________________________________________________________________\n",
      "leaky_re_lu (LeakyReLU)      (None, 75, 64)            0         \n",
      "_________________________________________________________________\n",
      "dropout (Dropout)            (None, 75, 64)            0         \n",
      "_________________________________________________________________\n",
      "conv1d_1 (Conv1D)            (None, 73, 32)            6176      \n",
      "_________________________________________________________________\n",
      "flatten (Flatten)            (None, 2336)              0         \n",
      "_________________________________________________________________\n",
      "dense (Dense)                (None, 64)                149568    \n",
      "_________________________________________________________________\n",
      "leaky_re_lu_1 (LeakyReLU)    (None, 64)                0         \n",
      "_________________________________________________________________\n",
      "dense_1 (Dense)              (None, 32)                2080      \n",
      "_________________________________________________________________\n",
      "leaky_re_lu_2 (LeakyReLU)    (None, 32)                0         \n",
      "_________________________________________________________________\n",
      "dense_2 (Dense)              (None, 15)                495       \n",
      "=================================================================\n",
      "Total params: 158,575\n",
      "Trainable params: 158,575\n",
      "Non-trainable params: 0\n",
      "_________________________________________________________________\n"
     ]
    }
   ],
   "source": [
    "#hyperparameters\n",
    "keras.backend.clear_session()\n",
    "SEED = 1040941203\n",
    "hidden_initializer = random_uniform(seed=SEED)\n",
    "\n",
    "\n",
    "# create model\n",
    "cnn2 = Sequential()\n",
    "cnn2.add(Conv1D(64, 3, input_shape=(77, 1)))\n",
    "cnn2.add(LeakyReLU(alpha=0.1))\n",
    "cnn2.add(Dropout(0.3))\n",
    "\n",
    "cnn2.add(Conv1D(32, 1))\n",
    "cnn2.add(LeakyReLU(alpha=0.1))\n",
    "cnn2.add(MaxPooling1D(pool_size=2))\n",
    "cnn2.add(Dropout(0.3))\n",
    "\n",
    "cnn2.add(Flatten())\n",
    "cnn2.add(Dense(64, input_dim=25, kernel_initializer=hidden_initializer))\n",
    "cnn2.add(LeakyReLU(alpha=0.1))\n",
    "cnn2.add(Dense(32))\n",
    "cnn2.add(LeakyReLU(alpha=0.1))\n",
    "cnn2.add(Dense(15, activation='sigmoid'))\n",
    "\n",
    "cnn2.summary()"
   ]
  },
  {
   "cell_type": "code",
   "execution_count": 75,
   "id": "alpha-perception",
   "metadata": {
    "scrolled": true
   },
   "outputs": [
    {
     "name": "stdout",
     "output_type": "stream",
     "text": [
      "Epoch 1/50\n",
      "2652/2652 [==============================] - 367s 138ms/step - loss: 461.3857 - accuracy: 0.6549 - val_loss: 7.1596 - val_accuracy: 0.8353\n",
      "Epoch 2/50\n",
      "2652/2652 [==============================] - 349s 132ms/step - loss: 64.4727 - accuracy: 0.7753 - val_loss: 5.2617 - val_accuracy: 0.8688\n",
      "Epoch 3/50\n",
      "2652/2652 [==============================] - 345s 130ms/step - loss: 2.7259 - accuracy: 0.8220 - val_loss: 2.7876 - val_accuracy: 0.8119\n",
      "Epoch 4/50\n",
      "2652/2652 [==============================] - 344s 130ms/step - loss: 1.6296 - accuracy: 0.7579 - val_loss: 0.2993 - val_accuracy: 0.8960\n",
      "Epoch 5/50\n",
      "2652/2652 [==============================] - 344s 130ms/step - loss: 0.3086 - accuracy: 0.7521 - val_loss: 0.2234 - val_accuracy: 0.7943\n",
      "Epoch 6/50\n",
      "2652/2652 [==============================] - 345s 130ms/step - loss: 0.3915 - accuracy: 0.7571 - val_loss: 0.3839 - val_accuracy: 0.8715\n",
      "Epoch 7/50\n",
      "2652/2652 [==============================] - 346s 131ms/step - loss: 0.4121 - accuracy: 0.8223 - val_loss: 5.2825 - val_accuracy: 0.8452\n",
      "Epoch 8/50\n",
      "2652/2652 [==============================] - 348s 131ms/step - loss: 6.4373 - accuracy: 0.8475 - val_loss: 0.2640 - val_accuracy: 0.8633\n",
      "Epoch 9/50\n",
      "2652/2652 [==============================] - 347s 131ms/step - loss: 0.3619 - accuracy: 0.8588 - val_loss: 0.1125 - val_accuracy: 0.8686\n",
      "Epoch 10/50\n",
      "2652/2652 [==============================] - 347s 131ms/step - loss: 0.1890 - accuracy: 0.8552 - val_loss: 0.0890 - val_accuracy: 0.8941\n",
      "Epoch 11/50\n",
      "2652/2652 [==============================] - 348s 131ms/step - loss: 0.9371 - accuracy: 0.8759 - val_loss: 0.4777 - val_accuracy: 0.8638\n",
      "Epoch 12/50\n",
      "2652/2652 [==============================] - 347s 131ms/step - loss: 0.7000 - accuracy: 0.8825 - val_loss: 0.1844 - val_accuracy: 0.9058\n",
      "Epoch 13/50\n",
      "2652/2652 [==============================] - 349s 132ms/step - loss: 0.4143 - accuracy: 0.8725 - val_loss: 0.2440 - val_accuracy: 0.8644\n",
      "Epoch 14/50\n",
      "2652/2652 [==============================] - 348s 131ms/step - loss: 0.1395 - accuracy: 0.8748 - val_loss: 0.1239 - val_accuracy: 0.8813\n",
      "Epoch 15/50\n",
      "2652/2652 [==============================] - 364s 137ms/step - loss: 0.6903 - accuracy: 0.8653 - val_loss: 0.0813 - val_accuracy: 0.9013\n",
      "Epoch 16/50\n",
      "2652/2652 [==============================] - 363s 137ms/step - loss: 0.1013 - accuracy: 0.8800 - val_loss: 0.2577 - val_accuracy: 0.8684\n",
      "Epoch 17/50\n",
      "2652/2652 [==============================] - 359s 135ms/step - loss: 0.7497 - accuracy: 0.8798 - val_loss: 0.2189 - val_accuracy: 0.8812\n",
      "Epoch 18/50\n",
      "2652/2652 [==============================] - 354s 133ms/step - loss: 0.2944 - accuracy: 0.8906 - val_loss: 0.0872 - val_accuracy: 0.9157\n",
      "Epoch 19/50\n",
      "2652/2652 [==============================] - 354s 133ms/step - loss: 0.1332 - accuracy: 0.9002 - val_loss: 0.0538 - val_accuracy: 0.9219\n",
      "Epoch 20/50\n",
      "2652/2652 [==============================] - 354s 133ms/step - loss: 0.3011 - accuracy: 0.8986 - val_loss: 0.1776 - val_accuracy: 0.9052\n",
      "Epoch 21/50\n",
      "2652/2652 [==============================] - 355s 134ms/step - loss: 0.1601 - accuracy: 0.8963 - val_loss: 0.0565 - val_accuracy: 0.9248\n",
      "Epoch 22/50\n",
      "2652/2652 [==============================] - 363s 137ms/step - loss: 0.2310 - accuracy: 0.9010 - val_loss: 0.0546 - val_accuracy: 0.9127\n",
      "Epoch 23/50\n",
      "2652/2652 [==============================] - 410s 154ms/step - loss: 0.3033 - accuracy: 0.9073 - val_loss: 0.2432 - val_accuracy: 0.8654\n",
      "Epoch 24/50\n",
      "2652/2652 [==============================] - 410s 155ms/step - loss: 2.4446 - accuracy: 0.8564 - val_loss: 0.4549 - val_accuracy: 0.8991\n",
      "Epoch 25/50\n",
      "2652/2652 [==============================] - 356s 134ms/step - loss: 0.5278 - accuracy: 0.8855 - val_loss: 0.4681 - val_accuracy: 0.8886\n",
      "Epoch 26/50\n",
      "2652/2652 [==============================] - 359s 135ms/step - loss: 2.5205 - accuracy: 0.8759 - val_loss: 0.4625 - val_accuracy: 0.8674\n",
      "Epoch 27/50\n",
      "2652/2652 [==============================] - 381s 144ms/step - loss: 0.4024 - accuracy: 0.8821 - val_loss: 0.1444 - val_accuracy: 0.8786\n",
      "Epoch 28/50\n",
      "2652/2652 [==============================] - 402s 152ms/step - loss: 1.0355 - accuracy: 0.8833 - val_loss: 0.5942 - val_accuracy: 0.8822\n",
      "Epoch 29/50\n",
      "2652/2652 [==============================] - 407s 153ms/step - loss: 1.1335 - accuracy: 0.8885 - val_loss: 0.2835 - val_accuracy: 0.8995\n"
     ]
    },
    {
     "data": {
      "text/plain": [
       "<tensorflow.python.keras.callbacks.History at 0x29b22af8a48>"
      ]
     },
     "execution_count": 75,
     "metadata": {},
     "output_type": "execute_result"
    }
   ],
   "source": [
    "cnn2.compile(loss = \"categorical_crossentropy\", optimizer='adam', metrics=['accuracy'])\n",
    "cnn2.fit(X_train, y_train, epochs=50, batch_size=1024, validation_data=(X_val,y_val),callbacks=[tensorboard_callback, eary_stop_callback])"
   ]
  },
  {
   "cell_type": "code",
   "execution_count": null,
   "id": "moving-canberra",
   "metadata": {},
   "outputs": [],
   "source": [
    "# plotting loss graphs w.r.t each epoch\n",
    "f, ax = plt.subplots()\n",
    "ax.plot([None] + cnn2.history.history[\"accuracy\"], 'o-')\n",
    "ax.plot([None] + cnn2.history.history[\"val_accuracy\"], 'x-')\n",
    "\n",
    "ax.legend(['Train_Accuracy', 'Val_Accuracy'], loc = 0)\n",
    "ax.set_title('Training/Val Accuracy Per Epoch')\n",
    "ax.set_xlabel('epoch')\n",
    "ax.set_ylabel('acc')\n",
    "plt.show()\n",
    "\n",
    "f, ax = plt.subplots()\n",
    "ax.plot([None] + cnn2.history.history[\"loss\"], 'o-')\n",
    "ax.plot([None] + cnn2.history.history[\"val_loss\"], 'x-')\n",
    "\n",
    "ax.legend(['Train_Loss', 'Val_Loss'], loc = 0)\n",
    "ax.set_title('Training/Val Losses Per Epoch')\n",
    "ax.set_xlabel('epoch')\n",
    "ax.set_ylabel('loss')\n",
    "plt.show()"
   ]
  },
  {
   "cell_type": "code",
   "execution_count": 77,
   "id": "hearing-dallas",
   "metadata": {},
   "outputs": [],
   "source": [
    "predict = np.argmax(cnn2.predict(X_test),axis=1)\n",
    "\n",
    "a = np.unique(predict)\n",
    "b = np.unique(y_test)\n",
    "c = list(set(a) | set(b))"
   ]
  },
  {
   "cell_type": "code",
   "execution_count": 78,
   "id": "stylish-johns",
   "metadata": {},
   "outputs": [
    {
     "name": "stdout",
     "output_type": "stream",
     "text": [
      "        ----------Classification Report Of Classes-------------\n",
      "              precision    recall  f1-score   support\n",
      "\n",
      "           0       0.92      0.95      0.93    452600\n",
      "           1       0.97      0.98      0.98     55595\n",
      "           2       0.00      0.00      0.00       128\n",
      "           3       0.00      0.00      0.00        42\n",
      "           4       0.98      1.00      0.99    130014\n",
      "           5       0.72      0.99      0.83       328\n",
      "           6       0.85      0.98      0.91    115506\n",
      "           7       0.00      0.00      0.00      8302\n",
      "           8       0.92      0.98      0.95     82196\n",
      "           9       0.00      0.00      0.00      1415\n",
      "          10       0.83      0.70      0.76      1997\n",
      "          11       0.59      0.91      0.72      3920\n",
      "          12       0.67      0.07      0.12     32307\n",
      "          13       0.00      0.00      0.00        13\n",
      "          14       0.98      0.96      0.97     20609\n",
      "\n",
      "    accuracy                           0.92    904972\n",
      "   macro avg       0.56      0.57      0.54    904972\n",
      "weighted avg       0.90      0.92      0.90    904972\n",
      "\n",
      "\n",
      "        ----------Validation Data------------------\n",
      "Accuarcy: 92.122187205792\n",
      "Precision: 90.4862 %\n",
      "Recall-score: 92.1222\n",
      "F1-score: 90.3389\n"
     ]
    }
   ],
   "source": [
    "report(predict,labels_test)"
   ]
  },
  {
   "cell_type": "code",
   "execution_count": 80,
   "id": "dirty-aaron",
   "metadata": {},
   "outputs": [
    {
     "name": "stdout",
     "output_type": "stream",
     "text": [
      "Model: \"sequential\"\n",
      "_________________________________________________________________\n",
      "Layer (type)                 Output Shape              Param #   \n",
      "=================================================================\n",
      "conv1d (Conv1D)              (None, 75, 64)            256       \n",
      "_________________________________________________________________\n",
      "leaky_re_lu (LeakyReLU)      (None, 75, 64)            0         \n",
      "_________________________________________________________________\n",
      "dropout (Dropout)            (None, 75, 64)            0         \n",
      "_________________________________________________________________\n",
      "conv1d_1 (Conv1D)            (None, 75, 32)            2080      \n",
      "_________________________________________________________________\n",
      "leaky_re_lu_1 (LeakyReLU)    (None, 75, 32)            0         \n",
      "_________________________________________________________________\n",
      "dropout_1 (Dropout)          (None, 75, 32)            0         \n",
      "_________________________________________________________________\n",
      "conv1d_2 (Conv1D)            (None, 75, 32)            1056      \n",
      "_________________________________________________________________\n",
      "leaky_re_lu_2 (LeakyReLU)    (None, 75, 32)            0         \n",
      "_________________________________________________________________\n",
      "dropout_2 (Dropout)          (None, 75, 32)            0         \n",
      "_________________________________________________________________\n",
      "flatten (Flatten)            (None, 2400)              0         \n",
      "_________________________________________________________________\n",
      "dense (Dense)                (None, 64)                153664    \n",
      "_________________________________________________________________\n",
      "leaky_re_lu_3 (LeakyReLU)    (None, 64)                0         \n",
      "_________________________________________________________________\n",
      "dense_1 (Dense)              (None, 32)                2080      \n",
      "_________________________________________________________________\n",
      "leaky_re_lu_4 (LeakyReLU)    (None, 32)                0         \n",
      "_________________________________________________________________\n",
      "dense_2 (Dense)              (None, 15)                495       \n",
      "=================================================================\n",
      "Total params: 159,631\n",
      "Trainable params: 159,631\n",
      "Non-trainable params: 0\n",
      "_________________________________________________________________\n"
     ]
    }
   ],
   "source": [
    "#hyperparameters\n",
    "keras.backend.clear_session()\n",
    "SEED = 1040941203\n",
    "hidden_initializer = random_uniform(seed=SEED)\n",
    "\n",
    "\n",
    "# create model\n",
    "cnn3 = Sequential()\n",
    "cnn3.add(Conv1D(64, 3, input_shape=(77, 1)))\n",
    "cnn3.add(LeakyReLU(alpha=0.1))\n",
    "cnn3.add(MaxPooling1D(pool_size=2))\n",
    "cnn3.add(Dropout(0.3))\n",
    "\n",
    "cnn3.add(Conv1D(32, 1))\n",
    "cnn3.add(LeakyReLU(alpha=0.1))\n",
    "cnn3.add(MaxPooling1D(pool_size=2))\n",
    "cnn3.add(Dropout(0.4))\n",
    "\n",
    "cnn3.add(Conv1D(32, 1))\n",
    "cnn3.add(LeakyReLU(alpha=0.1))\n",
    "cnn3.add(MaxPooling1D(pool_size=2))\n",
    "cnn3.add(Dropout(0.4))\n",
    "\n",
    "cnn3.add(Flatten())\n",
    "cnn3.add(Dense(64, input_dim=25, kernel_initializer=hidden_initializer))\n",
    "cnn3.add(LeakyReLU(alpha=0.1))\n",
    "cnn3.add(Dense(32))\n",
    "cnn3.add(LeakyReLU(alpha=0.1))\n",
    "cnn3.add(Dense(15, activation='sigmoid'))\n",
    "\n",
    "cnn3.summary()"
   ]
  },
  {
   "cell_type": "code",
   "execution_count": 81,
   "id": "plain-remove",
   "metadata": {
    "scrolled": true
   },
   "outputs": [
    {
     "name": "stdout",
     "output_type": "stream",
     "text": [
      "Epoch 1/50\n",
      "2652/2652 [==============================] - 571s 215ms/step - loss: 531.2428 - accuracy: 0.6540 - val_loss: 1.6387 - val_accuracy: 0.8715\n",
      "Epoch 2/50\n",
      "2652/2652 [==============================] - 530s 200ms/step - loss: 2.4606 - accuracy: 0.8527 - val_loss: 0.3573 - val_accuracy: 0.9072\n",
      "Epoch 3/50\n",
      "2652/2652 [==============================] - 534s 201ms/step - loss: 0.7354 - accuracy: 0.8825 - val_loss: 0.1238 - val_accuracy: 0.9130\n",
      "Epoch 4/50\n",
      "2652/2652 [==============================] - 523s 197ms/step - loss: 0.2351 - accuracy: 0.9015 - val_loss: 1.2846 - val_accuracy: 0.9126\n",
      "Epoch 5/50\n",
      "2652/2652 [==============================] - 525s 198ms/step - loss: 0.0938 - accuracy: 0.9138 - val_loss: 1.1484 - val_accuracy: 0.9370\n",
      "Epoch 6/50\n",
      "2652/2652 [==============================] - 516s 195ms/step - loss: 0.1182 - accuracy: 0.9223 - val_loss: 0.6268 - val_accuracy: 0.9267\n",
      "Epoch 7/50\n",
      "2652/2652 [==============================] - 515s 194ms/step - loss: 0.5200 - accuracy: 0.8981 - val_loss: 0.2345 - val_accuracy: 0.8874\n",
      "Epoch 8/50\n",
      "2652/2652 [==============================] - 519s 196ms/step - loss: 0.2144 - accuracy: 0.9004 - val_loss: 0.0720 - val_accuracy: 0.9294\n",
      "Epoch 9/50\n",
      "2652/2652 [==============================] - 516s 195ms/step - loss: 0.0931 - accuracy: 0.9168 - val_loss: 0.2649 - val_accuracy: 0.9410\n",
      "Epoch 10/50\n",
      "2652/2652 [==============================] - 540s 204ms/step - loss: 0.0574 - accuracy: 0.9264 - val_loss: 0.7795 - val_accuracy: 0.9386\n",
      "Epoch 11/50\n",
      "2652/2652 [==============================] - 569s 214ms/step - loss: 0.1870 - accuracy: 0.9276 - val_loss: 0.0838 - val_accuracy: 0.9298\n",
      "Epoch 12/50\n",
      "2652/2652 [==============================] - 516s 195ms/step - loss: 0.0970 - accuracy: 0.9188 - val_loss: 0.0356 - val_accuracy: 0.9445\n",
      "Epoch 13/50\n",
      "2652/2652 [==============================] - 507s 191ms/step - loss: 0.1073 - accuracy: 0.9274 - val_loss: 1.3070 - val_accuracy: 0.9086\n",
      "Epoch 14/50\n",
      "2652/2652 [==============================] - 522s 197ms/step - loss: 0.0659 - accuracy: 0.9240 - val_loss: 2.3003 - val_accuracy: 0.8880\n",
      "Epoch 15/50\n",
      "2652/2652 [==============================] - 517s 195ms/step - loss: 0.4149 - accuracy: 0.9133 - val_loss: 9.2622 - val_accuracy: 0.9454\n",
      "Epoch 16/50\n",
      "2652/2652 [==============================] - 502s 189ms/step - loss: 1.9407 - accuracy: 0.9141 - val_loss: 0.1030 - val_accuracy: 0.9336\n",
      "Epoch 17/50\n",
      "2652/2652 [==============================] - 506s 191ms/step - loss: 0.1104 - accuracy: 0.9254 - val_loss: 0.1063 - val_accuracy: 0.9443\n",
      "Epoch 18/50\n",
      "2652/2652 [==============================] - 505s 191ms/step - loss: 0.0793 - accuracy: 0.9293 - val_loss: 0.0434 - val_accuracy: 0.9404\n",
      "Epoch 19/50\n",
      "2652/2652 [==============================] - 536s 202ms/step - loss: 0.0459 - accuracy: 0.9357 - val_loss: 0.0359 - val_accuracy: 0.9312\n",
      "Epoch 20/50\n",
      "2652/2652 [==============================] - 523s 197ms/step - loss: 0.0765 - accuracy: 0.9386 - val_loss: 0.0596 - val_accuracy: 0.9462\n",
      "Epoch 21/50\n",
      "2652/2652 [==============================] - 529s 200ms/step - loss: 0.6154 - accuracy: 0.9085 - val_loss: 0.4863 - val_accuracy: 0.9379\n",
      "Epoch 22/50\n",
      "2652/2652 [==============================] - 538s 203ms/step - loss: 0.0909 - accuracy: 0.9290 - val_loss: 0.9740 - val_accuracy: 0.9454\n",
      "Epoch 23/50\n",
      "2652/2652 [==============================] - 521s 196ms/step - loss: 0.3430 - accuracy: 0.9240 - val_loss: 0.0939 - val_accuracy: 0.9492\n",
      "Epoch 24/50\n",
      "2652/2652 [==============================] - 535s 202ms/step - loss: 0.0401 - accuracy: 0.9372 - val_loss: 0.0288 - val_accuracy: 0.9497\n",
      "Epoch 25/50\n",
      "2652/2652 [==============================] - 532s 201ms/step - loss: 0.0330 - accuracy: 0.9404 - val_loss: 0.2013 - val_accuracy: 0.9521\n",
      "Epoch 26/50\n",
      "2652/2652 [==============================] - 525s 198ms/step - loss: 0.0349 - accuracy: 0.9419 - val_loss: 2.0705 - val_accuracy: 0.9108\n",
      "Epoch 27/50\n",
      "2652/2652 [==============================] - 526s 198ms/step - loss: 2.4665 - accuracy: 0.9087 - val_loss: 0.0755 - val_accuracy: 0.9270\n",
      "Epoch 28/50\n",
      "2652/2652 [==============================] - 541s 204ms/step - loss: 0.0897 - accuracy: 0.9229 - val_loss: 0.0530 - val_accuracy: 0.9473\n",
      "Epoch 29/50\n",
      "2652/2652 [==============================] - 532s 200ms/step - loss: 0.3144 - accuracy: 0.9226 - val_loss: 0.2041 - val_accuracy: 0.9441\n",
      "Epoch 30/50\n",
      "2652/2652 [==============================] - 528s 199ms/step - loss: 0.1210 - accuracy: 0.9270 - val_loss: 0.0493 - val_accuracy: 0.9381\n",
      "Epoch 31/50\n",
      "2652/2652 [==============================] - 526s 199ms/step - loss: 0.0726 - accuracy: 0.9324 - val_loss: 0.0632 - val_accuracy: 0.9291\n",
      "Epoch 32/50\n",
      "2652/2652 [==============================] - 523s 197ms/step - loss: 0.0630 - accuracy: 0.9328 - val_loss: 3.9205 - val_accuracy: 0.9216\n",
      "Epoch 33/50\n",
      "2652/2652 [==============================] - 525s 198ms/step - loss: 0.3405 - accuracy: 0.9280 - val_loss: 0.4797 - val_accuracy: 0.9160\n",
      "Epoch 34/50\n",
      "2652/2652 [==============================] - 529s 199ms/step - loss: 0.1323 - accuracy: 0.9227 - val_loss: 0.4269 - val_accuracy: 0.9401\n",
      "Epoch 35/50\n",
      "2652/2652 [==============================] - 601s 227ms/step - loss: 0.0662 - accuracy: 0.9316 - val_loss: 5.7185 - val_accuracy: 0.9452\n"
     ]
    },
    {
     "data": {
      "text/plain": [
       "<tensorflow.python.keras.callbacks.History at 0x29c037394c8>"
      ]
     },
     "execution_count": 81,
     "metadata": {},
     "output_type": "execute_result"
    }
   ],
   "source": [
    "cnn3.compile(loss = \"categorical_crossentropy\", optimizer='adam', metrics=['accuracy'])\n",
    "cnn3.fit(X_train, y_train, epochs=50, batch_size=1024, validation_data=(X_test,y_test),callbacks=[tensorboard_callback, eary_stop_callback])"
   ]
  },
  {
   "cell_type": "code",
   "execution_count": 82,
   "id": "directed-sight",
   "metadata": {},
   "outputs": [
    {
     "data": {
      "image/png": "[encoded data removed]",
      "text/plain": [
       "<Figure size 432x288 with 1 Axes>"
      ]
     },
     "metadata": {
      "needs_background": "light"
     },
     "output_type": "display_data"
    },
    {
     "data": {
      "image/png": "[encoded data removed]",
      "text/plain": [
       "<Figure size 432x288 with 1 Axes>"
      ]
     },
     "metadata": {
      "needs_background": "light"
     },
     "output_type": "display_data"
    }
   ],
   "source": [
    "# plotting loss graphs w.r.t each epoch\n",
    "f, ax = plt.subplots()\n",
    "ax.plot([None] + cnn3.history.history[\"accuracy\"], 'o-')\n",
    "ax.plot([None] + cnn3.history.history[\"val_accuracy\"], 'x-')\n",
    "\n",
    "ax.legend(['Train_Accuracy', 'Val_Accuracy'], loc = 0)\n",
    "ax.set_title('Training/Val Accuracy Per Epoch')\n",
    "ax.set_xlabel('epoch')\n",
    "ax.set_ylabel('acc')\n",
    "plt.show()\n",
    "\n",
    "f, ax = plt.subplots()\n",
    "ax.plot([None] + cnn3.history.history[\"loss\"], 'o-')\n",
    "ax.plot([None] + cnn3.history.history[\"val_loss\"], 'x-')\n",
    "\n",
    "ax.legend(['Train_Loss', 'Val_Loss'], loc = 0)\n",
    "ax.set_title('Training/Val Losses Per Epoch')\n",
    "ax.set_xlabel('epoch')\n",
    "ax.set_ylabel('loss')\n",
    "plt.show()"
   ]
  },
  {
   "cell_type": "code",
   "execution_count": 83,
   "id": "handmade-floating",
   "metadata": {},
   "outputs": [],
   "source": [
    "predict = np.argmax(cnn3.predict(X_test),axis=1)\n",
    "\n",
    "a = np.unique(predict)\n",
    "b = np.unique(y_test)\n",
    "c = list(set(a) | set(b))"
   ]
  },
  {
   "cell_type": "code",
   "execution_count": 84,
   "id": "dietary-photography",
   "metadata": {},
   "outputs": [
    {
     "name": "stdout",
     "output_type": "stream",
     "text": [
      "        ----------Classification Report Of Classes-------------\n",
      "              precision    recall  f1-score   support\n",
      "\n",
      "           0       0.93      0.98      0.96    452600\n",
      "           1       0.98      1.00      0.99     55595\n",
      "           2       0.00      0.00      0.00       128\n",
      "           3       0.00      0.00      0.00        42\n",
      "           4       1.00      1.00      1.00    130014\n",
      "           5       0.72      0.99      0.83       328\n",
      "           6       0.96      0.99      0.97    115506\n",
      "           7       0.86      0.43      0.58      8302\n",
      "           8       0.99      0.99      0.99     82196\n",
      "           9       0.00      0.00      0.00      1415\n",
      "          10       0.99      0.68      0.80      1997\n",
      "          11       0.73      1.00      0.85      3920\n",
      "          12       0.75      0.16      0.27     32307\n",
      "          13       0.00      0.00      0.00        13\n",
      "          14       0.99      1.00      0.99     20609\n",
      "\n",
      "    accuracy                           0.95    904972\n",
      "   macro avg       0.66      0.62      0.62    904972\n",
      "weighted avg       0.95      0.95      0.94    904972\n",
      "\n",
      "\n",
      "        ----------Validation Data------------------\n",
      "Accuarcy: 95.20526601928016\n",
      "Precision: 94.5229 %\n",
      "Recall-score: 95.2053\n",
      "F1-score: 94.0680\n"
     ]
    }
   ],
   "source": [
    "report(predict,labels_test)"
   ]
  },
  {
   "cell_type": "markdown",
   "id": "prime-forwarding",
   "metadata": {},
   "source": [
    "# RNN Models"
   ]
  },
  {
   "cell_type": "code",
   "execution_count": 85,
   "id": "reflected-express",
   "metadata": {},
   "outputs": [
    {
     "data": {
      "text/plain": [
       "((2714914, 77, 1), (904972, 77, 1), (904972, 77, 1))"
      ]
     },
     "execution_count": 85,
     "metadata": {},
     "output_type": "execute_result"
    }
   ],
   "source": [
    "X_train = np.array(features_train).reshape(features_train.shape[0], features_train.shape[1], 1)\n",
    "X_test = np.array(features_test).reshape(features_test.shape[0], features_test.shape[1], 1)\n",
    "X_val = np.array(features_val).reshape(features_val.shape[0], features_val.shape[1], 1)\n",
    "X_train.shape , X_test.shape , X_val.shape"
   ]
  },
  {
   "cell_type": "code",
   "execution_count": 86,
   "id": "backed-feature",
   "metadata": {},
   "outputs": [
    {
     "name": "stdout",
     "output_type": "stream",
     "text": [
      "Model: \"sequential_1\"\n",
      "_________________________________________________________________\n",
      "Layer (type)                 Output Shape              Param #   \n",
      "=================================================================\n",
      "simple_rnn (SimpleRNN)       (None, 77, 16)            288       \n",
      "_________________________________________________________________\n",
      "dropout_3 (Dropout)          (None, 77, 16)            0         \n",
      "_________________________________________________________________\n",
      "simple_rnn_1 (SimpleRNN)     (None, 77, 16)            528       \n",
      "_________________________________________________________________\n",
      "dropout_4 (Dropout)          (None, 77, 16)            0         \n",
      "_________________________________________________________________\n",
      "simple_rnn_2 (SimpleRNN)     (None, 77, 16)            528       \n",
      "_________________________________________________________________\n",
      "dropout_5 (Dropout)          (None, 77, 16)            0         \n",
      "_________________________________________________________________\n",
      "flatten_1 (Flatten)          (None, 1232)              0         \n",
      "_________________________________________________________________\n",
      "dense_3 (Dense)              (None, 32)                39456     \n",
      "_________________________________________________________________\n",
      "leaky_re_lu_5 (LeakyReLU)    (None, 32)                0         \n",
      "_________________________________________________________________\n",
      "dense_4 (Dense)              (None, 16)                528       \n",
      "_________________________________________________________________\n",
      "leaky_re_lu_6 (LeakyReLU)    (None, 16)                0         \n",
      "_________________________________________________________________\n",
      "dense_5 (Dense)              (None, 15)                255       \n",
      "=================================================================\n",
      "Total params: 41,583\n",
      "Trainable params: 41,583\n",
      "Non-trainable params: 0\n",
      "_________________________________________________________________\n"
     ]
    }
   ],
   "source": [
    "#hyperparameters\n",
    "\n",
    "# Initialising the RNN\n",
    "rnn3 = Sequential()\n",
    "\n",
    "# Adding the first RNN layer and some Dropout regularisation\n",
    "rnn3.add(SimpleRNN(units = 16,activation='relu', return_sequences = True,  input_shape = (77,1)))\n",
    "rnn3.add(Dropout(0.1))\n",
    "\n",
    "# Adding a second RNN layer and some Dropout regularisation\n",
    "rnn3.add(SimpleRNN(units = 16,activation='relu', return_sequences = True))\n",
    "rnn3.add(Dropout(0.1))\n",
    "\n",
    "# Adding a third RNN layer and some Dropout regularisation\n",
    "rnn3.add(SimpleRNN(units = 16,activation='relu', return_sequences = True))\n",
    "rnn3.add(Dropout(0.1))\n",
    "\n",
    "# Adding the output layer\n",
    "rnn3.add(Flatten())\n",
    "rnn3.add(Dense(32, input_dim=25, kernel_initializer=hidden_initializer))\n",
    "rnn3.add(LeakyReLU(alpha=0.1))\n",
    "rnn3.add(Dense(16))\n",
    "rnn3.add(LeakyReLU(alpha=0.1))\n",
    "rnn3.add(Dense(units = 15, activation='sigmoid'))\n",
    "\n",
    "rnn3.summary()"
   ]
  },
  {
   "cell_type": "code",
   "execution_count": 88,
   "id": "pleased-comedy",
   "metadata": {},
   "outputs": [
    {
     "name": "stdout",
     "output_type": "stream",
     "text": [
      "Epoch 1/50\n",
      "2652/2652 [==============================] - 679s 255ms/step - loss: 0.8991 - accuracy: 0.7383 - val_loss: 2.1860 - val_accuracy: 0.9322\n",
      "Epoch 2/50\n",
      "2652/2652 [==============================] - 672s 253ms/step - loss: 0.3486 - accuracy: 0.9153 - val_loss: 0.0780 - val_accuracy: 0.9063\n",
      "Epoch 3/50\n",
      "2652/2652 [==============================] - 656s 247ms/step - loss: 0.0702 - accuracy: 0.9235 - val_loss: 0.0282 - val_accuracy: 0.9448\n",
      "Epoch 4/50\n",
      "2652/2652 [==============================] - 648s 244ms/step - loss: 0.1533 - accuracy: 0.9317 - val_loss: 0.0788 - val_accuracy: 0.9344\n",
      "Epoch 5/50\n",
      "2652/2652 [==============================] - 647s 244ms/step - loss: 0.0717 - accuracy: 0.9396 - val_loss: 0.0308 - val_accuracy: 0.9546\n",
      "Epoch 6/50\n",
      "2652/2652 [==============================] - 645s 243ms/step - loss: 0.0744 - accuracy: 0.9466 - val_loss: 0.5822 - val_accuracy: 0.9570\n",
      "Epoch 7/50\n",
      "2652/2652 [==============================] - 647s 244ms/step - loss: 0.0314 - accuracy: 0.9542 - val_loss: 0.0387 - val_accuracy: 0.9567\n",
      "Epoch 8/50\n",
      "2652/2652 [==============================] - 637s 240ms/step - loss: 0.0338 - accuracy: 0.9537 - val_loss: 0.0282 - val_accuracy: 0.9618\n",
      "Epoch 9/50\n",
      "2652/2652 [==============================] - 652s 246ms/step - loss: 0.0553 - accuracy: 0.9578 - val_loss: 0.2588 - val_accuracy: 0.9628\n",
      "Epoch 10/50\n",
      "2652/2652 [==============================] - 651s 245ms/step - loss: 0.0249 - accuracy: 0.9609 - val_loss: 0.0205 - val_accuracy: 0.9649\n",
      "Epoch 11/50\n",
      "2652/2652 [==============================] - 648s 244ms/step - loss: 0.0195 - accuracy: 0.9638 - val_loss: 0.0165 - val_accuracy: 0.9648\n",
      "Epoch 12/50\n",
      "2652/2652 [==============================] - 652s 246ms/step - loss: 0.0176 - accuracy: 0.9647 - val_loss: 0.0158 - val_accuracy: 0.9658\n",
      "Epoch 13/50\n",
      "2652/2652 [==============================] - 661s 249ms/step - loss: 0.0165 - accuracy: 0.9654 - val_loss: 0.0188 - val_accuracy: 0.9660\n",
      "Epoch 14/50\n",
      "2652/2652 [==============================] - 661s 249ms/step - loss: 0.0195 - accuracy: 0.9654 - val_loss: 0.3319 - val_accuracy: 0.9660\n",
      "Epoch 15/50\n",
      "2652/2652 [==============================] - 660s 249ms/step - loss: 0.0185 - accuracy: 0.9657 - val_loss: 0.0156 - val_accuracy: 0.9661\n",
      "Epoch 16/50\n",
      "2652/2652 [==============================] - 650s 245ms/step - loss: 0.0158 - accuracy: 0.9662 - val_loss: 0.0152 - val_accuracy: 0.9665\n",
      "Epoch 17/50\n",
      "2652/2652 [==============================] - 630s 238ms/step - loss: 0.0156 - accuracy: 0.9664 - val_loss: 0.0152 - val_accuracy: 0.9665\n",
      "Epoch 18/50\n",
      "2652/2652 [==============================] - 634s 239ms/step - loss: 0.0154 - accuracy: 0.9664 - val_loss: 0.0383 - val_accuracy: 0.9666\n",
      "Epoch 19/50\n",
      "2652/2652 [==============================] - 646s 244ms/step - loss: 0.0153 - accuracy: 0.9667 - val_loss: 0.0337 - val_accuracy: 0.9667\n",
      "Epoch 20/50\n",
      "2652/2652 [==============================] - 632s 238ms/step - loss: 0.0161 - accuracy: 0.9667 - val_loss: 0.0248 - val_accuracy: 0.9668\n",
      "Epoch 21/50\n",
      "2652/2652 [==============================] - 626s 236ms/step - loss: 0.0156 - accuracy: 0.9668 - val_loss: 0.1111 - val_accuracy: 0.9668\n",
      "Epoch 22/50\n",
      "2652/2652 [==============================] - 624s 235ms/step - loss: 0.1325 - accuracy: 0.9667 - val_loss: 0.0149 - val_accuracy: 0.9666\n",
      "Epoch 23/50\n",
      "2652/2652 [==============================] - 647s 244ms/step - loss: 0.0152 - accuracy: 0.9670 - val_loss: 0.0151 - val_accuracy: 0.9667\n",
      "Epoch 24/50\n",
      "2652/2652 [==============================] - 649s 245ms/step - loss: 0.0152 - accuracy: 0.9672 - val_loss: 0.0149 - val_accuracy: 0.9669\n",
      "Epoch 25/50\n",
      "2652/2652 [==============================] - 651s 245ms/step - loss: 0.0159 - accuracy: 0.9671 - val_loss: 0.0147 - val_accuracy: 0.9669\n",
      "Epoch 26/50\n",
      "2652/2652 [==============================] - 646s 244ms/step - loss: 0.0149 - accuracy: 0.9672 - val_loss: 0.0148 - val_accuracy: 0.9671\n",
      "Epoch 27/50\n",
      "2652/2652 [==============================] - 642s 242ms/step - loss: 0.3421 - accuracy: 0.9661 - val_loss: 0.0389 - val_accuracy: 0.9666\n",
      "Epoch 28/50\n",
      "2652/2652 [==============================] - 670s 253ms/step - loss: 0.0670 - accuracy: 0.9666 - val_loss: 0.0151 - val_accuracy: 0.9666\n",
      "Epoch 29/50\n",
      "2652/2652 [==============================] - 663s 250ms/step - loss: 0.0413 - accuracy: 0.9662 - val_loss: 0.0151 - val_accuracy: 0.9665\n",
      "Epoch 30/50\n",
      "2652/2652 [==============================] - 662s 250ms/step - loss: 0.0154 - accuracy: 0.9666 - val_loss: 0.0150 - val_accuracy: 0.9666\n",
      "Epoch 31/50\n",
      "2652/2652 [==============================] - 706s 266ms/step - loss: 0.0153 - accuracy: 0.9669 - val_loss: 0.0155 - val_accuracy: 0.9659\n",
      "Epoch 32/50\n",
      "2652/2652 [==============================] - 677s 255ms/step - loss: 0.0157 - accuracy: 0.9659 - val_loss: 0.0154 - val_accuracy: 0.9661\n",
      "Epoch 33/50\n",
      "2652/2652 [==============================] - 624s 235ms/step - loss: 0.0153 - accuracy: 0.9666 - val_loss: 0.0152 - val_accuracy: 0.9663\n",
      "Epoch 34/50\n",
      "2652/2652 [==============================] - 625s 236ms/step - loss: 0.0153 - accuracy: 0.9665 - val_loss: 0.0151 - val_accuracy: 0.9665\n",
      "Epoch 35/50\n",
      "2652/2652 [==============================] - 615s 232ms/step - loss: 0.0152 - accuracy: 0.9666 - val_loss: 0.0151 - val_accuracy: 0.9665\n",
      "Epoch 36/50\n",
      "2652/2652 [==============================] - 616s 232ms/step - loss: 0.8547 - accuracy: 0.9666 - val_loss: 0.0151 - val_accuracy: 0.9665\n"
     ]
    },
    {
     "data": {
      "text/plain": [
       "<tensorflow.python.keras.callbacks.History at 0x29d56e7c948>"
      ]
     },
     "execution_count": 88,
     "metadata": {},
     "output_type": "execute_result"
    }
   ],
   "source": [
    "rnn3.compile(loss = \"binary_crossentropy\", optimizer='adam', metrics=['accuracy'])\n",
    "rnn3.fit(X_train, y_train, epochs=50, batch_size=1024, validation_data=(X_test,y_test),callbacks=[tensorboard_callback, eary_stop_callback])"
   ]
  },
  {
   "cell_type": "code",
   "execution_count": 89,
   "id": "critical-teach",
   "metadata": {},
   "outputs": [
    {
     "data": {
      "image/png": "[encoded data removed]",
      "text/plain": [
       "<Figure size 432x288 with 1 Axes>"
      ]
     },
     "metadata": {
      "needs_background": "light"
     },
     "output_type": "display_data"
    },
    {
     "data": {
      "image/png": "[encoded data removed]",
      "text/plain": [
       "<Figure size 432x288 with 1 Axes>"
      ]
     },
     "metadata": {
      "needs_background": "light"
     },
     "output_type": "display_data"
    }
   ],
   "source": [
    "# plotting loss graphs w.r.t each epoch\n",
    "f, ax = plt.subplots()\n",
    "ax.plot([None] + rnn3.history.history[\"accuracy\"], 'o-')\n",
    "ax.plot([None] + rnn3.history.history[\"val_accuracy\"], 'x-')\n",
    "\n",
    "ax.legend(['Train_Accuracy', 'Val_Accuracy'], loc = 0)\n",
    "ax.set_title('Training/Val Accuracy Per Epoch')\n",
    "ax.set_xlabel('epoch')\n",
    "ax.set_ylabel('acc')\n",
    "plt.show()\n",
    "\n",
    "f, ax = plt.subplots()\n",
    "ax.plot([None] + rnn3.history.history[\"loss\"], 'o-')\n",
    "ax.plot([None] + rnn3.history.history[\"val_loss\"], 'x-')\n",
    "\n",
    "ax.legend(['Train_Loss', 'Val_Loss'], loc = 0)\n",
    "ax.set_title('Training/Val Losses Per Epoch')\n",
    "ax.set_xlabel('epoch')\n",
    "ax.set_ylabel('loss')\n",
    "plt.show()"
   ]
  },
  {
   "cell_type": "code",
   "execution_count": 90,
   "id": "verbal-heating",
   "metadata": {},
   "outputs": [],
   "source": [
    "predict = np.argmax(rnn3.predict(X_test),axis=1)\n",
    "\n",
    "a = np.unique(predict)\n",
    "b = np.unique(y_test)\n",
    "c = list(set(a) | set(b))"
   ]
  },
  {
   "cell_type": "code",
   "execution_count": 91,
   "id": "literary-welcome",
   "metadata": {},
   "outputs": [
    {
     "name": "stdout",
     "output_type": "stream",
     "text": [
      "        ----------Classification Report Of Classes-------------\n",
      "              precision    recall  f1-score   support\n",
      "\n",
      "           0       0.95      0.99      0.97    452600\n",
      "           1       1.00      1.00      1.00     55595\n",
      "           2       0.74      0.39      0.51       128\n",
      "           3       1.00      0.38      0.55        42\n",
      "           4       1.00      1.00      1.00    130014\n",
      "           5       0.72      0.99      0.83       328\n",
      "           6       1.00      1.00      1.00    115506\n",
      "           7       1.00      1.00      1.00      8302\n",
      "           8       1.00      1.00      1.00     82196\n",
      "           9       0.97      0.04      0.08      1415\n",
      "          10       0.99      0.99      0.99      1997\n",
      "          11       0.74      1.00      0.85      3920\n",
      "          12       0.76      0.21      0.33     32307\n",
      "          13       0.00      0.00      0.00        13\n",
      "          14       1.00      1.00      1.00     20609\n",
      "\n",
      "    accuracy                           0.97    904972\n",
      "   macro avg       0.86      0.73      0.74    904972\n",
      "weighted avg       0.96      0.97      0.96    904972\n",
      "\n",
      "\n",
      "        ----------Validation Data------------------\n",
      "Accuarcy: 96.70531242955583\n",
      "Precision: 96.2703 %\n",
      "Recall-score: 96.7053\n",
      "F1-score: 95.8279\n"
     ]
    }
   ],
   "source": [
    "report(predict,labels_test)"
   ]
  },
  {
   "cell_type": "code",
   "execution_count": 92,
   "id": "strategic-circus",
   "metadata": {},
   "outputs": [
    {
     "name": "stdout",
     "output_type": "stream",
     "text": [
      "Model: \"sequential_2\"\n",
      "_________________________________________________________________\n",
      "Layer (type)                 Output Shape              Param #   \n",
      "=================================================================\n",
      "simple_rnn_3 (SimpleRNN)     (None, 77, 32)            1088      \n",
      "_________________________________________________________________\n",
      "dropout_6 (Dropout)          (None, 77, 32)            0         \n",
      "_________________________________________________________________\n",
      "simple_rnn_4 (SimpleRNN)     (None, 77, 32)            2080      \n",
      "_________________________________________________________________\n",
      "dropout_7 (Dropout)          (None, 77, 32)            0         \n",
      "_________________________________________________________________\n",
      "flatten_2 (Flatten)          (None, 2464)              0         \n",
      "_________________________________________________________________\n",
      "dense_6 (Dense)              (None, 32)                78880     \n",
      "_________________________________________________________________\n",
      "leaky_re_lu_7 (LeakyReLU)    (None, 32)                0         \n",
      "_________________________________________________________________\n",
      "dense_7 (Dense)              (None, 16)                528       \n",
      "_________________________________________________________________\n",
      "leaky_re_lu_8 (LeakyReLU)    (None, 16)                0         \n",
      "_________________________________________________________________\n",
      "dense_8 (Dense)              (None, 15)                255       \n",
      "=================================================================\n",
      "Total params: 82,831\n",
      "Trainable params: 82,831\n",
      "Non-trainable params: 0\n",
      "_________________________________________________________________\n"
     ]
    }
   ],
   "source": [
    "#hyperparameters\n",
    "\n",
    "# Initialising the RNN\n",
    "rnn2 = Sequential()\n",
    "\n",
    "# Adding the first RNN layer and some Dropout regularisation\n",
    "rnn2.add(SimpleRNN(units = 32,activation='relu', return_sequences = True,  input_shape = (77,1)))\n",
    "rnn2.add(Dropout(0.1))\n",
    "\n",
    "# Adding a second RNN layer and some Dropout regularisation\n",
    "rnn2.add(SimpleRNN(units = 32,activation='relu', return_sequences = True))\n",
    "rnn2.add(Dropout(0.1))\n",
    "\n",
    "# Adding the output layer\n",
    "rnn2.add(Flatten())\n",
    "rnn2.add(Dense(32, input_dim=25, kernel_initializer=hidden_initializer))\n",
    "rnn2.add(LeakyReLU(alpha=0.1))\n",
    "rnn2.add(Dense(16))\n",
    "rnn2.add(LeakyReLU(alpha=0.1))\n",
    "rnn2.add(Dense(units = 15, activation='sigmoid'))\n",
    "\n",
    "rnn2.summary()"
   ]
  },
  {
   "cell_type": "code",
   "execution_count": 95,
   "id": "reduced-summary",
   "metadata": {
    "scrolled": true
   },
   "outputs": [
    {
     "name": "stdout",
     "output_type": "stream",
     "text": [
      "Epoch 1/50\n",
      "2652/2652 [==============================] - 566s 212ms/step - loss: 104.5660 - accuracy: 0.7229 - val_loss: 1.0090 - val_accuracy: 0.9505\n",
      "Epoch 2/50\n",
      "2652/2652 [==============================] - 548s 207ms/step - loss: 1.1266 - accuracy: 0.9408 - val_loss: 0.2005 - val_accuracy: 0.9599\n",
      "Epoch 3/50\n",
      "2652/2652 [==============================] - 546s 206ms/step - loss: 0.4277 - accuracy: 0.9532 - val_loss: 0.1369 - val_accuracy: 0.9639\n",
      "Epoch 4/50\n",
      "2652/2652 [==============================] - 546s 206ms/step - loss: 0.1707 - accuracy: 0.9614 - val_loss: 0.1274 - val_accuracy: 0.9654\n",
      "Epoch 5/50\n",
      "2652/2652 [==============================] - 545s 205ms/step - loss: 4.7145 - accuracy: 0.9641 - val_loss: 0.7098 - val_accuracy: 0.9433\n",
      "Epoch 6/50\n",
      "2652/2652 [==============================] - 540s 204ms/step - loss: 0.6688 - accuracy: 0.9492 - val_loss: 0.1684 - val_accuracy: 0.9638\n",
      "Epoch 7/50\n",
      "2652/2652 [==============================] - 542s 204ms/step - loss: 0.2138 - accuracy: 0.9601 - val_loss: 0.1343 - val_accuracy: 0.9651\n",
      "Epoch 8/50\n",
      "2652/2652 [==============================] - 544s 205ms/step - loss: 0.2005 - accuracy: 0.9623 - val_loss: 0.1322 - val_accuracy: 0.9651\n",
      "Epoch 9/50\n",
      "2652/2652 [==============================] - 544s 205ms/step - loss: 0.1708 - accuracy: 0.9634 - val_loss: 0.1241 - val_accuracy: 0.9659\n",
      "Epoch 10/50\n",
      "2652/2652 [==============================] - 542s 204ms/step - loss: 0.1438 - accuracy: 0.9642 - val_loss: 0.1173 - val_accuracy: 0.9663\n",
      "Epoch 11/50\n",
      "2652/2652 [==============================] - 542s 204ms/step - loss: 0.1293 - accuracy: 0.9654 - val_loss: 0.1172 - val_accuracy: 0.9665\n",
      "Epoch 12/50\n",
      "2652/2652 [==============================] - 544s 205ms/step - loss: 0.1323 - accuracy: 0.9659 - val_loss: 0.1160 - val_accuracy: 0.9663\n",
      "Epoch 13/50\n",
      "2652/2652 [==============================] - 542s 204ms/step - loss: 0.1173 - accuracy: 0.9664 - val_loss: 0.1153 - val_accuracy: 0.9667\n",
      "Epoch 14/50\n",
      "2652/2652 [==============================] - 541s 204ms/step - loss: 0.1326 - accuracy: 0.9664 - val_loss: 0.1128 - val_accuracy: 0.9668\n",
      "Epoch 15/50\n",
      "2652/2652 [==============================] - 552s 208ms/step - loss: 0.1146 - accuracy: 0.9669 - val_loss: 0.1116 - val_accuracy: 0.9668\n",
      "Epoch 16/50\n",
      "2652/2652 [==============================] - 550s 207ms/step - loss: 91.6046 - accuracy: 0.9666 - val_loss: 0.1210 - val_accuracy: 0.9654\n",
      "Epoch 17/50\n",
      "2652/2652 [==============================] - 538s 203ms/step - loss: 0.1869 - accuracy: 0.9648 - val_loss: 0.1151 - val_accuracy: 0.9664\n",
      "Epoch 18/50\n",
      "2652/2652 [==============================] - 544s 205ms/step - loss: 0.1454 - accuracy: 0.9663 - val_loss: 0.1141 - val_accuracy: 0.9668\n",
      "Epoch 19/50\n",
      "2652/2652 [==============================] - 542s 205ms/step - loss: 0.1381 - accuracy: 0.9667 - val_loss: 0.1128 - val_accuracy: 0.9668\n",
      "Epoch 20/50\n",
      "2652/2652 [==============================] - 545s 206ms/step - loss: 0.1253 - accuracy: 0.9672 - val_loss: 0.1115 - val_accuracy: 0.9672\n",
      "Epoch 21/50\n",
      "2652/2652 [==============================] - 553s 209ms/step - loss: 0.1296 - accuracy: 0.9671 - val_loss: 0.1114 - val_accuracy: 0.9672\n",
      "Epoch 22/50\n",
      "2652/2652 [==============================] - 550s 208ms/step - loss: 0.1182 - accuracy: 0.9673 - val_loss: 0.1108 - val_accuracy: 0.9671\n",
      "Epoch 23/50\n",
      "2652/2652 [==============================] - 565s 213ms/step - loss: 0.1304 - accuracy: 0.9672 - val_loss: 0.1100 - val_accuracy: 0.9673\n",
      "Epoch 24/50\n",
      "2652/2652 [==============================] - 574s 216ms/step - loss: 89.7154 - accuracy: 0.9652 - val_loss: 0.1196 - val_accuracy: 0.9660\n",
      "Epoch 25/50\n",
      "2652/2652 [==============================] - 566s 214ms/step - loss: 0.1380 - accuracy: 0.9662 - val_loss: 0.1159 - val_accuracy: 0.9664\n"
     ]
    },
    {
     "data": {
      "text/plain": [
       "<tensorflow.python.keras.callbacks.History at 0x29d58bf4d08>"
      ]
     },
     "execution_count": 95,
     "metadata": {},
     "output_type": "execute_result"
    }
   ],
   "source": [
    "rnn2.compile(loss = \"categorical_crossentropy\", optimizer='adam', metrics=['accuracy'])\n",
    "rnn2.fit(X_train, y_train, epochs=50, batch_size=1024, validation_data=(X_test,y_test),callbacks=[tensorboard_callback, eary_stop_callback])"
   ]
  },
  {
   "cell_type": "code",
   "execution_count": 96,
   "id": "industrial-oxford",
   "metadata": {},
   "outputs": [
    {
     "data": {
      "image/png": "[encoded data removed]",
      "text/plain": [
       "<Figure size 432x288 with 1 Axes>"
      ]
     },
     "metadata": {
      "needs_background": "light"
     },
     "output_type": "display_data"
    },
    {
     "data": {
      "image/png": "[encoded data removed]",
      "text/plain": [
       "<Figure size 432x288 with 1 Axes>"
      ]
     },
     "metadata": {
      "needs_background": "light"
     },
     "output_type": "display_data"
    }
   ],
   "source": [
    "# plotting loss graphs w.r.t each epoch\n",
    "f, ax = plt.subplots()\n",
    "ax.plot([None] + rnn2.history.history[\"accuracy\"], 'o-')\n",
    "ax.plot([None] + rnn2.history.history[\"val_accuracy\"], 'x-')\n",
    "\n",
    "ax.legend(['Train_Accuracy', 'Val_Accuracy'], loc = 0)\n",
    "ax.set_title('Training/Val Accuracy Per Epoch')\n",
    "ax.set_xlabel('epoch')\n",
    "ax.set_ylabel('acc')\n",
    "plt.show()\n",
    "\n",
    "f, ax = plt.subplots()\n",
    "ax.plot([None] + rnn2.history.history[\"loss\"], 'o-')\n",
    "ax.plot([None] + rnn2.history.history[\"val_loss\"], 'x-')\n",
    "\n",
    "ax.legend(['Train_Loss', 'Val_Loss'], loc = 0)\n",
    "ax.set_title('Training/Val Losses Per Epoch')\n",
    "ax.set_xlabel('epoch')\n",
    "ax.set_ylabel('loss')\n",
    "plt.show()"
   ]
  },
  {
   "cell_type": "code",
   "execution_count": 97,
   "id": "crazy-suite",
   "metadata": {},
   "outputs": [],
   "source": [
    "predict = np.argmax(rnn2.predict(X_test),axis=1)\n",
    "\n",
    "a = np.unique(predict)\n",
    "b = np.unique(y_test)\n",
    "c = list(set(a) | set(b))"
   ]
  },
  {
   "cell_type": "code",
   "execution_count": 98,
   "id": "meaningful-passport",
   "metadata": {},
   "outputs": [
    {
     "name": "stdout",
     "output_type": "stream",
     "text": [
      "        ----------Classification Report Of Classes-------------\n",
      "              precision    recall  f1-score   support\n",
      "\n",
      "           0       0.89      0.99      0.94    452600\n",
      "           1       1.00      1.00      1.00     55595\n",
      "           2       1.00      0.20      0.34       128\n",
      "           3       0.00      0.38      0.00        42\n",
      "           4       1.00      1.00      1.00    130014\n",
      "           5       0.03      1.00      0.05       328\n",
      "           6       0.99      0.40      0.58    115506\n",
      "           7       1.00      1.00      1.00      8302\n",
      "           8       1.00      1.00      1.00     82196\n",
      "           9       0.37      0.00      0.01      1415\n",
      "          10       0.99      0.97      0.98      1997\n",
      "          11       0.73      1.00      0.84      3920\n",
      "          12       0.77      0.20      0.32     32307\n",
      "          13       0.00      0.00      0.00        13\n",
      "          14       1.00      1.00      1.00     20609\n",
      "\n",
      "    accuracy                           0.89    904972\n",
      "   macro avg       0.72      0.68      0.60    904972\n",
      "weighted avg       0.93      0.89      0.89    904972\n",
      "\n",
      "\n",
      "        ----------Validation Data------------------\n",
      "Accuarcy: 89.10651379269193\n",
      "Precision: 93.1605 %\n",
      "Recall-score: 89.1065\n",
      "F1-score: 88.7403\n"
     ]
    }
   ],
   "source": [
    "report(predict,labels_test)"
   ]
  },
  {
   "cell_type": "code",
   "execution_count": 99,
   "id": "historic-camping",
   "metadata": {},
   "outputs": [
    {
     "name": "stdout",
     "output_type": "stream",
     "text": [
      "Model: \"sequential\"\n",
      "_________________________________________________________________\n",
      "Layer (type)                 Output Shape              Param #   \n",
      "=================================================================\n",
      "simple_rnn (SimpleRNN)       (None, 77, 32)            1088      \n",
      "_________________________________________________________________\n",
      "dropout (Dropout)            (None, 77, 32)            0         \n",
      "_________________________________________________________________\n",
      "flatten (Flatten)            (None, 2464)              0         \n",
      "_________________________________________________________________\n",
      "dense (Dense)                (None, 32)                78880     \n",
      "_________________________________________________________________\n",
      "leaky_re_lu (LeakyReLU)      (None, 32)                0         \n",
      "_________________________________________________________________\n",
      "dense_1 (Dense)              (None, 16)                528       \n",
      "_________________________________________________________________\n",
      "leaky_re_lu_1 (LeakyReLU)    (None, 16)                0         \n",
      "_________________________________________________________________\n",
      "dense_2 (Dense)              (None, 15)                255       \n",
      "=================================================================\n",
      "Total params: 80,751\n",
      "Trainable params: 80,751\n",
      "Non-trainable params: 0\n",
      "_________________________________________________________________\n"
     ]
    }
   ],
   "source": [
    "#hyperparameters\n",
    "keras.backend.clear_session()\n",
    "SEED = 1040941203\n",
    "hidden_initializer = random_uniform(seed=SEED)\n",
    "# Initialising the RNN\n",
    "rnn1 = Sequential()\n",
    "\n",
    "# Adding the first RNN layer and some Dropout regularisation\n",
    "rnn1.add(SimpleRNN(units = 32,activation='relu', return_sequences = True,  input_shape = (77,1)))\n",
    "rnn1.add(Dropout(0.1))\n",
    "\n",
    "# Adding the output layer\n",
    "rnn1.add(Flatten())\n",
    "rnn1.add(Dense(32, input_dim=25, kernel_initializer=hidden_initializer))\n",
    "rnn1.add(LeakyReLU(alpha=0.1))\n",
    "rnn1.add(Dense(16))\n",
    "rnn1.add(LeakyReLU(alpha=0.1))\n",
    "rnn1.add(Dense(units = 15, activation='sigmoid'))\n",
    "\n",
    "rnn1.summary()"
   ]
  },
  {
   "cell_type": "code",
   "execution_count": 100,
   "id": "competitive-japanese",
   "metadata": {},
   "outputs": [
    {
     "name": "stdout",
     "output_type": "stream",
     "text": [
      "Epoch 1/50\n",
      "2652/2652 [==============================] - 288s 108ms/step - loss: 3101.8011 - accuracy: 0.7905 - val_loss: 61.1945 - val_accuracy: 0.8755\n",
      "Epoch 2/50\n",
      "2652/2652 [==============================] - 293s 110ms/step - loss: 98.9803 - accuracy: 0.8797 - val_loss: 57.2722 - val_accuracy: 0.8742\n",
      "Epoch 3/50\n",
      "2652/2652 [==============================] - 281s 106ms/step - loss: 43.9712 - accuracy: 0.8850 - val_loss: 25.1404 - val_accuracy: 0.9199\n",
      "Epoch 4/50\n",
      "2652/2652 [==============================] - 291s 110ms/step - loss: 8.5331 - accuracy: 0.9075 - val_loss: 39.8419 - val_accuracy: 0.7764\n",
      "Epoch 5/50\n",
      "2652/2652 [==============================] - 273s 103ms/step - loss: 14.5772 - accuracy: 0.8876 - val_loss: 0.2416 - val_accuracy: 0.9386\n",
      "Epoch 6/50\n",
      "2652/2652 [==============================] - 267s 101ms/step - loss: 0.2276 - accuracy: 0.9434 - val_loss: 0.1517 - val_accuracy: 0.9598\n",
      "Epoch 7/50\n",
      "2652/2652 [==============================] - 267s 101ms/step - loss: 0.1540 - accuracy: 0.9596 - val_loss: 0.1280 - val_accuracy: 0.9645\n",
      "Epoch 8/50\n",
      "2652/2652 [==============================] - 267s 101ms/step - loss: 3.1901 - accuracy: 0.9608 - val_loss: 0.1317 - val_accuracy: 0.9639\n",
      "Epoch 9/50\n",
      "2652/2652 [==============================] - 265s 100ms/step - loss: 0.1358 - accuracy: 0.9627 - val_loss: 0.1204 - val_accuracy: 0.9653\n",
      "Epoch 10/50\n",
      "2652/2652 [==============================] - 264s 100ms/step - loss: 0.1220 - accuracy: 0.9655 - val_loss: 0.1165 - val_accuracy: 0.9661\n",
      "Epoch 11/50\n",
      "2652/2652 [==============================] - 265s 100ms/step - loss: 0.1176 - accuracy: 0.9662 - val_loss: 0.1144 - val_accuracy: 0.9662\n",
      "Epoch 12/50\n",
      "2652/2652 [==============================] - 264s 100ms/step - loss: 0.1145 - accuracy: 0.9667 - val_loss: 0.1131 - val_accuracy: 0.9666\n",
      "Epoch 13/50\n",
      "2652/2652 [==============================] - 264s 100ms/step - loss: 0.1134 - accuracy: 0.9669 - val_loss: 0.1122 - val_accuracy: 0.9668\n",
      "Epoch 14/50\n",
      "2652/2652 [==============================] - 264s 100ms/step - loss: 0.1126 - accuracy: 0.9669 - val_loss: 0.1123 - val_accuracy: 0.9668\n",
      "Epoch 15/50\n",
      "2652/2652 [==============================] - 266s 100ms/step - loss: 0.1115 - accuracy: 0.9672 - val_loss: 0.1122 - val_accuracy: 0.9670\n",
      "Epoch 16/50\n",
      "2652/2652 [==============================] - 266s 100ms/step - loss: 39.1497 - accuracy: 0.9656 - val_loss: 0.1129 - val_accuracy: 0.9667\n",
      "Epoch 17/50\n",
      "2652/2652 [==============================] - 266s 100ms/step - loss: 0.1123 - accuracy: 0.9672 - val_loss: 0.1120 - val_accuracy: 0.9669\n",
      "Epoch 18/50\n",
      "2652/2652 [==============================] - 270s 102ms/step - loss: 0.1113 - accuracy: 0.9673 - val_loss: 0.1109 - val_accuracy: 0.9671\n",
      "Epoch 19/50\n",
      "2652/2652 [==============================] - 273s 103ms/step - loss: 0.1137 - accuracy: 0.9674 - val_loss: 0.1102 - val_accuracy: 0.9672\n",
      "Epoch 20/50\n",
      "2652/2652 [==============================] - 270s 102ms/step - loss: 0.1100 - accuracy: 0.9675 - val_loss: 0.1096 - val_accuracy: 0.9674\n",
      "Epoch 21/50\n",
      "2652/2652 [==============================] - 266s 100ms/step - loss: 0.1095 - accuracy: 0.9676 - val_loss: 0.1091 - val_accuracy: 0.9674\n",
      "Epoch 22/50\n",
      "2652/2652 [==============================] - 265s 100ms/step - loss: 0.1094 - accuracy: 0.9676 - val_loss: 0.1117 - val_accuracy: 0.9673\n",
      "Epoch 23/50\n",
      "2652/2652 [==============================] - 266s 100ms/step - loss: 1.7125 - accuracy: 0.9660 - val_loss: 0.1120 - val_accuracy: 0.9667\n",
      "Epoch 24/50\n",
      "2652/2652 [==============================] - 266s 100ms/step - loss: 0.1111 - accuracy: 0.9674 - val_loss: 0.1100 - val_accuracy: 0.9672\n",
      "Epoch 25/50\n",
      "2652/2652 [==============================] - 267s 101ms/step - loss: 0.1099 - accuracy: 0.9675 - val_loss: 0.1091 - val_accuracy: 0.9673\n",
      "Epoch 26/50\n",
      "2652/2652 [==============================] - 266s 100ms/step - loss: 0.1086 - accuracy: 0.9679 - val_loss: 0.1090 - val_accuracy: 0.9675\n",
      "Epoch 27/50\n",
      "2652/2652 [==============================] - 266s 100ms/step - loss: 0.1088 - accuracy: 0.9678 - val_loss: 0.1095 - val_accuracy: 0.9673\n",
      "Epoch 28/50\n",
      "2652/2652 [==============================] - 267s 101ms/step - loss: 0.1085 - accuracy: 0.9678 - val_loss: 0.1082 - val_accuracy: 0.9676\n",
      "Epoch 29/50\n",
      "2652/2652 [==============================] - 267s 101ms/step - loss: 0.1081 - accuracy: 0.9680 - val_loss: 0.1076 - val_accuracy: 0.9679\n",
      "Epoch 30/50\n",
      "2652/2652 [==============================] - 266s 100ms/step - loss: 0.1071 - accuracy: 0.9683 - val_loss: 0.1075 - val_accuracy: 0.9679\n",
      "Epoch 31/50\n",
      "2652/2652 [==============================] - 266s 100ms/step - loss: 0.1070 - accuracy: 0.9682 - val_loss: 0.1073 - val_accuracy: 0.9679\n",
      "Epoch 32/50\n",
      "2652/2652 [==============================] - 266s 100ms/step - loss: 0.1068 - accuracy: 0.9683 - val_loss: 0.1072 - val_accuracy: 0.9679\n",
      "Epoch 33/50\n",
      "2652/2652 [==============================] - 266s 100ms/step - loss: 0.1066 - accuracy: 0.9683 - val_loss: 0.1062 - val_accuracy: 0.9681\n",
      "Epoch 34/50\n",
      "2652/2652 [==============================] - 266s 100ms/step - loss: 0.1063 - accuracy: 0.9683 - val_loss: 0.1062 - val_accuracy: 0.9681\n",
      "Epoch 35/50\n",
      "2652/2652 [==============================] - 266s 100ms/step - loss: 0.1061 - accuracy: 0.9683 - val_loss: 0.1063 - val_accuracy: 0.9681\n",
      "Epoch 36/50\n",
      "2652/2652 [==============================] - 265s 100ms/step - loss: 0.1056 - accuracy: 0.9685 - val_loss: 0.1091 - val_accuracy: 0.9674\n",
      "Epoch 37/50\n",
      "2652/2652 [==============================] - 265s 100ms/step - loss: 0.1069 - accuracy: 0.9682 - val_loss: 0.1074 - val_accuracy: 0.9678\n",
      "Epoch 38/50\n",
      "2652/2652 [==============================] - 265s 100ms/step - loss: 0.1068 - accuracy: 0.9682 - val_loss: 0.1058 - val_accuracy: 0.9682\n",
      "Epoch 39/50\n",
      "2652/2652 [==============================] - 266s 100ms/step - loss: 0.1063 - accuracy: 0.9682 - val_loss: 0.1070 - val_accuracy: 0.9679\n",
      "Epoch 40/50\n",
      "2652/2652 [==============================] - 269s 102ms/step - loss: 0.1059 - accuracy: 0.9683 - val_loss: 0.1053 - val_accuracy: 0.9682\n",
      "Epoch 41/50\n",
      "2652/2652 [==============================] - 266s 100ms/step - loss: 0.1056 - accuracy: 0.9685 - val_loss: 0.1061 - val_accuracy: 0.9681\n",
      "Epoch 42/50\n",
      "2652/2652 [==============================] - 269s 101ms/step - loss: 10.0816 - accuracy: 0.9682 - val_loss: 0.1065 - val_accuracy: 0.9680\n",
      "Epoch 43/50\n",
      "2652/2652 [==============================] - 274s 103ms/step - loss: 0.1066 - accuracy: 0.9682 - val_loss: 0.1055 - val_accuracy: 0.9682\n",
      "Epoch 44/50\n",
      "2652/2652 [==============================] - 268s 101ms/step - loss: 0.1055 - accuracy: 0.9685 - val_loss: 0.1056 - val_accuracy: 0.9682\n",
      "Epoch 45/50\n",
      "2652/2652 [==============================] - 273s 103ms/step - loss: 0.1053 - accuracy: 0.9685 - val_loss: 0.1054 - val_accuracy: 0.9682\n",
      "Epoch 46/50\n",
      "2652/2652 [==============================] - 281s 106ms/step - loss: 0.1048 - accuracy: 0.9686 - val_loss: 0.1051 - val_accuracy: 0.9682\n",
      "Epoch 47/50\n",
      "2652/2652 [==============================] - 280s 106ms/step - loss: 0.1053 - accuracy: 0.9685 - val_loss: 0.1067 - val_accuracy: 0.9679\n",
      "Epoch 48/50\n",
      "2652/2652 [==============================] - 275s 104ms/step - loss: 0.1054 - accuracy: 0.9684 - val_loss: 0.1055 - val_accuracy: 0.9682\n",
      "Epoch 49/50\n",
      "2652/2652 [==============================] - 267s 101ms/step - loss: 0.1045 - accuracy: 0.9686 - val_loss: 0.1088 - val_accuracy: 0.9675\n",
      "Epoch 50/50\n",
      "2652/2652 [==============================] - 267s 100ms/step - loss: 0.1066 - accuracy: 0.9681 - val_loss: 0.1076 - val_accuracy: 0.9679\n"
     ]
    },
    {
     "data": {
      "text/plain": [
       "<tensorflow.python.keras.callbacks.History at 0x29d56e3e988>"
      ]
     },
     "execution_count": 100,
     "metadata": {},
     "output_type": "execute_result"
    }
   ],
   "source": [
    "rnn1.compile(loss = \"categorical_crossentropy\", optimizer='adam', metrics=['accuracy'])\n",
    "rnn1.fit(X_train, y_train, epochs=50, batch_size=1024, validation_data=(X_test,y_test),callbacks=[tensorboard_callback, eary_stop_callback])"
   ]
  },
  {
   "cell_type": "code",
   "execution_count": 102,
   "id": "backed-regular",
   "metadata": {},
   "outputs": [
    {
     "data": {
      "image/png": "[encoded data removed]",
      "text/plain": [
       "<Figure size 432x288 with 1 Axes>"
      ]
     },
     "metadata": {
      "needs_background": "light"
     },
     "output_type": "display_data"
    },
    {
     "data": {
      "image/png": "[encoded data removed]",
      "text/plain": [
       "<Figure size 432x288 with 1 Axes>"
      ]
     },
     "metadata": {
      "needs_background": "light"
     },
     "output_type": "display_data"
    }
   ],
   "source": [
    "# plotting loss graphs w.r.t each epoch\n",
    "f, ax = plt.subplots()\n",
    "ax.plot([None] + rnn1.history.history[\"accuracy\"], 'o-')\n",
    "ax.plot([None] + rnn1.history.history[\"val_accuracy\"], 'x-')\n",
    "\n",
    "ax.legend(['Train_Accuracy', 'Val_Accuracy'], loc = 0)\n",
    "ax.set_title('Training/Val Accuracy Per Epoch')\n",
    "ax.set_xlabel('epoch')\n",
    "ax.set_ylabel('acc')\n",
    "plt.show()\n",
    "\n",
    "f, ax = plt.subplots()\n",
    "ax.plot([None] + rnn1.history.history[\"loss\"], 'o-')\n",
    "ax.plot([None] + rnn1.history.history[\"val_loss\"], 'x-')\n",
    "\n",
    "ax.legend(['Train_Loss', 'Val_Loss'], loc = 0)\n",
    "ax.set_title('Training/Val Losses Per Epoch')\n",
    "ax.set_xlabel('epoch')\n",
    "ax.set_ylabel('loss')\n",
    "plt.show()"
   ]
  },
  {
   "cell_type": "code",
   "execution_count": 103,
   "id": "agricultural-index",
   "metadata": {},
   "outputs": [],
   "source": [
    "predict = np.argmax(rnn1.predict(X_test),axis=1)\n",
    "\n",
    "a = np.unique(predict)\n",
    "b = np.unique(y_test)\n",
    "c = list(set(a) | set(b))"
   ]
  },
  {
   "cell_type": "code",
   "execution_count": 104,
   "id": "broke-holly",
   "metadata": {},
   "outputs": [
    {
     "name": "stdout",
     "output_type": "stream",
     "text": [
      "        ----------Classification Report Of Classes-------------\n",
      "              precision    recall  f1-score   support\n",
      "\n",
      "           0       0.75      0.99      0.86    452600\n",
      "           1       0.73      0.51      0.60     55595\n",
      "           2       0.76      0.24      0.37       128\n",
      "           3       0.00      0.76      0.00        42\n",
      "           4       1.00      0.21      0.34    130014\n",
      "           5       0.70      0.99      0.82       328\n",
      "           6       0.99      0.50      0.66    115506\n",
      "           7       0.82      0.86      0.84      8302\n",
      "           8       1.00      0.96      0.98     82196\n",
      "           9       0.00      0.00      0.00      1415\n",
      "          10       0.99      1.00      0.99      1997\n",
      "          11       0.73      1.00      0.85      3920\n",
      "          12       0.77      0.23      0.35     32307\n",
      "          13       0.11      0.23      0.15        13\n",
      "          14       1.00      1.00      1.00     20609\n",
      "\n",
      "    accuracy                           0.75    904972\n",
      "   macro avg       0.69      0.63      0.59    904972\n",
      "weighted avg       0.85      0.75      0.74    904972\n",
      "\n",
      "\n",
      "        ----------Validation Data------------------\n",
      "Accuarcy: 75.38829930649788\n",
      "Precision: 84.5813 %\n",
      "Recall-score: 75.3883\n",
      "F1-score: 73.6589\n"
     ]
    }
   ],
   "source": [
    "report(predict,labels_test)"
   ]
  },
  {
   "cell_type": "markdown",
   "id": "chinese-exhaust",
   "metadata": {},
   "source": [
    "# Trying different configurations"
   ]
  },
  {
   "cell_type": "code",
   "execution_count": 119,
   "id": "blind-exposure",
   "metadata": {},
   "outputs": [
    {
     "name": "stdout",
     "output_type": "stream",
     "text": [
      "Model: \"sequential\"\n",
      "_________________________________________________________________\n",
      "Layer (type)                 Output Shape              Param #   \n",
      "=================================================================\n",
      "simple_rnn (SimpleRNN)       (None, 77, 64)            4224      \n",
      "_________________________________________________________________\n",
      "dropout (Dropout)            (None, 77, 64)            0         \n",
      "_________________________________________________________________\n",
      "flatten (Flatten)            (None, 4928)              0         \n",
      "_________________________________________________________________\n",
      "dense (Dense)                (None, 64)                315456    \n",
      "_________________________________________________________________\n",
      "leaky_re_lu (LeakyReLU)      (None, 64)                0         \n",
      "_________________________________________________________________\n",
      "dense_1 (Dense)              (None, 32)                2080      \n",
      "_________________________________________________________________\n",
      "leaky_re_lu_1 (LeakyReLU)    (None, 32)                0         \n",
      "_________________________________________________________________\n",
      "dense_2 (Dense)              (None, 15)                495       \n",
      "=================================================================\n",
      "Total params: 322,255\n",
      "Trainable params: 322,255\n",
      "Non-trainable params: 0\n",
      "_________________________________________________________________\n"
     ]
    }
   ],
   "source": [
    "#hyperparameters\n",
    "keras.backend.clear_session()\n",
    "SEED = 1040941203\n",
    "hidden_initializer = random_uniform(seed=SEED)\n",
    "# Initialising the RNN\n",
    "rnn1v2 = Sequential()\n",
    "\n",
    "# Adding the first RNN layer and some Dropout regularisation\n",
    "rnn1v2.add(SimpleRNN(units = 64,activation='relu', return_sequences = True,  input_shape = (77,1)))\n",
    "rnn1v2.add(Dropout(0.1))\n",
    "\n",
    "# Adding the output layer\n",
    "rnn1v2.add(Flatten())\n",
    "rnn1v2.add(Dense(64, input_dim=25, kernel_initializer=hidden_initializer))\n",
    "rnn1v2.add(LeakyReLU(alpha=0.1))\n",
    "rnn1v2.add(Dense(32))\n",
    "rnn1v2.add(LeakyReLU(alpha=0.1))\n",
    "rnn1v2.add(Dense(units = 15, activation='sigmoid'))\n",
    "\n",
    "rnn1v2.summary()"
   ]
  },
  {
   "cell_type": "code",
   "execution_count": 123,
   "id": "nutritional-telescope",
   "metadata": {
    "scrolled": true
   },
   "outputs": [
    {
     "name": "stdout",
     "output_type": "stream",
     "text": [
      "Epoch 1/30\n",
      "5303/5303 [==============================] - 641s 121ms/step - loss: 1382.7164 - accuracy: 0.8730 - val_loss: 57.5199 - val_accuracy: 0.8983\n",
      "Epoch 2/30\n",
      "5303/5303 [==============================] - 637s 120ms/step - loss: 88.9323 - accuracy: 0.9070 - val_loss: 32.9393 - val_accuracy: 0.8857\n",
      "Epoch 3/30\n",
      "5303/5303 [==============================] - 647s 122ms/step - loss: 28.8461 - accuracy: 0.9059 - val_loss: 13.4314 - val_accuracy: 0.8973\n",
      "Epoch 4/30\n",
      "5303/5303 [==============================] - 647s 122ms/step - loss: 5.4733 - accuracy: 0.9126 - val_loss: 0.2600 - val_accuracy: 0.9253\n",
      "Epoch 5/30\n",
      "5303/5303 [==============================] - 637s 120ms/step - loss: 0.8572 - accuracy: 0.9402 - val_loss: 0.1190 - val_accuracy: 0.9660\n",
      "Epoch 6/30\n",
      "5303/5303 [==============================] - 642s 121ms/step - loss: 0.2156 - accuracy: 0.9659 - val_loss: 0.1174 - val_accuracy: 0.9657\n",
      "Epoch 7/30\n",
      "5303/5303 [==============================] - 647s 122ms/step - loss: 0.2602 - accuracy: 0.9659 - val_loss: 0.1157 - val_accuracy: 0.9665\n",
      "Epoch 8/30\n",
      "5303/5303 [==============================] - 639s 121ms/step - loss: 7.8936 - accuracy: 0.9646 - val_loss: 0.1148 - val_accuracy: 0.9662\n",
      "Epoch 9/30\n",
      "5303/5303 [==============================] - 626s 118ms/step - loss: 0.1161 - accuracy: 0.9667 - val_loss: 0.1128 - val_accuracy: 0.9670\n",
      "Epoch 10/30\n",
      "5303/5303 [==============================] - 678s 128ms/step - loss: 0.1121 - accuracy: 0.9673 - val_loss: 0.1121 - val_accuracy: 0.9671\n",
      "Epoch 11/30\n",
      "5303/5303 [==============================] - 652s 123ms/step - loss: 0.3146 - accuracy: 0.9670 - val_loss: 0.1122 - val_accuracy: 0.9670\n",
      "Epoch 12/30\n",
      "5303/5303 [==============================] - 635s 120ms/step - loss: 0.2734 - accuracy: 0.9662 - val_loss: 0.1109 - val_accuracy: 0.9672\n",
      "Epoch 13/30\n",
      "5303/5303 [==============================] - 639s 121ms/step - loss: 0.1113 - accuracy: 0.9675 - val_loss: 0.1103 - val_accuracy: 0.9674\n",
      "Epoch 14/30\n",
      "5303/5303 [==============================] - 637s 120ms/step - loss: 0.1460 - accuracy: 0.9674 - val_loss: 0.1110 - val_accuracy: 0.9673\n",
      "Epoch 15/30\n",
      "5303/5303 [==============================] - 607s 114ms/step - loss: 0.1229 - accuracy: 0.9676 - val_loss: 0.1107 - val_accuracy: 0.9672\n",
      "Epoch 16/30\n",
      "5303/5303 [==============================] - 603s 114ms/step - loss: 0.1091 - accuracy: 0.9678 - val_loss: 0.1098 - val_accuracy: 0.9676\n",
      "Epoch 17/30\n",
      "5303/5303 [==============================] - 601s 113ms/step - loss: 0.7758 - accuracy: 0.9673 - val_loss: 0.1134 - val_accuracy: 0.9667\n",
      "Epoch 18/30\n",
      "5303/5303 [==============================] - 600s 113ms/step - loss: 0.1090 - accuracy: 0.9679 - val_loss: 0.1093 - val_accuracy: 0.9674\n",
      "Epoch 19/30\n",
      "5303/5303 [==============================] - 605s 114ms/step - loss: 0.1078 - accuracy: 0.9681 - val_loss: 0.1078 - val_accuracy: 0.9679\n",
      "Epoch 20/30\n",
      "5303/5303 [==============================] - 619s 117ms/step - loss: 0.1071 - accuracy: 0.9682 - val_loss: 0.1082 - val_accuracy: 0.9677\n",
      "Epoch 21/30\n",
      "5303/5303 [==============================] - 616s 116ms/step - loss: 0.1276 - accuracy: 0.9681 - val_loss: 0.1827 - val_accuracy: 0.9546\n",
      "Epoch 22/30\n",
      "5303/5303 [==============================] - 610s 115ms/step - loss: 0.9315 - accuracy: 0.9634 - val_loss: 0.1546 - val_accuracy: 0.9578\n",
      "Epoch 23/30\n",
      "5303/5303 [==============================] - 630s 119ms/step - loss: 0.2447 - accuracy: 0.9534 - val_loss: 0.1240 - val_accuracy: 0.9650\n",
      "Epoch 24/30\n",
      "5303/5303 [==============================] - 650s 122ms/step - loss: 0.2014 - accuracy: 0.9632 - val_loss: 0.4034 - val_accuracy: 0.9257\n",
      "Epoch 25/30\n",
      "5303/5303 [==============================] - 658s 124ms/step - loss: 1.3670 - accuracy: 0.8744 - val_loss: 402.8148 - val_accuracy: 0.6469\n",
      "Epoch 26/30\n",
      "5303/5303 [==============================] - 674s 127ms/step - loss: 15.1879 - accuracy: 0.9385 - val_loss: 0.1278 - val_accuracy: 0.9633\n",
      "Epoch 27/30\n",
      "5303/5303 [==============================] - 687s 130ms/step - loss: 0.1260 - accuracy: 0.9640 - val_loss: 0.1150 - val_accuracy: 0.9661\n",
      "Epoch 28/30\n",
      "5303/5303 [==============================] - 705s 133ms/step - loss: 0.1172 - accuracy: 0.9661 - val_loss: 2.2220 - val_accuracy: 0.9665\n",
      "Epoch 29/30\n",
      "5303/5303 [==============================] - 712s 134ms/step - loss: 0.1138 - accuracy: 0.9668 - val_loss: 0.1163 - val_accuracy: 0.9661\n"
     ]
    },
    {
     "data": {
      "text/plain": [
       "<tensorflow.python.keras.callbacks.History at 0x29d58572fc8>"
      ]
     },
     "execution_count": 123,
     "metadata": {},
     "output_type": "execute_result"
    }
   ],
   "source": [
    "rnn1v2.compile(loss = \"categorical_crossentropy\", optimizer='adam', metrics=['accuracy'])\n",
    "rnn1v2.fit(X_train, y_train, epochs=30, batch_size= 512, validation_data=(X_test,y_test),callbacks=[tensorboard_callback, eary_stop_callback])"
   ]
  },
  {
   "cell_type": "code",
   "execution_count": 124,
   "id": "spiritual-curtis",
   "metadata": {},
   "outputs": [
    {
     "data": {
      "image/png": "[encoded data removed]",
      "text/plain": [
       "<Figure size 432x288 with 1 Axes>"
      ]
     },
     "metadata": {
      "needs_background": "light"
     },
     "output_type": "display_data"
    },
    {
     "data": {
      "image/png": "[encoded data removed]",
      "text/plain": [
       "<Figure size 432x288 with 1 Axes>"
      ]
     },
     "metadata": {
      "needs_background": "light"
     },
     "output_type": "display_data"
    }
   ],
   "source": [
    "# plotting loss graphs w.r.t each epoch\n",
    "f, ax = plt.subplots()\n",
    "ax.plot([None] + rnn1v2.history.history[\"accuracy\"], 'o-')\n",
    "ax.plot([None] + rnn1v2.history.history[\"val_accuracy\"], 'x-')\n",
    "\n",
    "ax.legend(['Train_Accuracy', 'Val_Accuracy'], loc = 0)\n",
    "ax.set_title('Training/Val Accuracy Per Epoch')\n",
    "ax.set_xlabel('epoch')\n",
    "ax.set_ylabel('acc')\n",
    "plt.show()\n",
    "\n",
    "f, ax = plt.subplots()\n",
    "ax.plot([None] + rnn1v2.history.history[\"loss\"], 'o-')\n",
    "ax.plot([None] + rnn1v2.history.history[\"val_loss\"], 'x-')\n",
    "\n",
    "ax.legend(['Train_Loss', 'Val_Loss'], loc = 0)\n",
    "ax.set_title('Training/Val Losses Per Epoch')\n",
    "ax.set_xlabel('epoch')\n",
    "ax.set_ylabel('loss')\n",
    "plt.show()"
   ]
  },
  {
   "cell_type": "code",
   "execution_count": 128,
   "id": "adolescent-reading",
   "metadata": {},
   "outputs": [],
   "source": [
    "predict = np.argmax(rnn1v2.predict(X_test),axis=1)\n",
    "\n",
    "a = np.unique(predict)\n",
    "b = np.unique(y_test)\n",
    "c = list(set(a) | set(b))"
   ]
  },
  {
   "cell_type": "code",
   "execution_count": 129,
   "id": "wireless-seattle",
   "metadata": {},
   "outputs": [
    {
     "name": "stdout",
     "output_type": "stream",
     "text": [
      "        ----------Classification Report Of Classes-------------\n",
      "              precision    recall  f1-score   support\n",
      "\n",
      "           0       0.82      1.00      0.90    452600\n",
      "           1       1.00      0.98      0.99     55595\n",
      "           2       0.94      0.40      0.56       128\n",
      "           3       0.95      0.50      0.66        42\n",
      "           4       1.00      1.00      1.00    130014\n",
      "           5       0.18      1.00      0.31       328\n",
      "           6       1.00      0.50      0.67    115506\n",
      "           7       1.00      1.00      1.00      8302\n",
      "           8       1.00      0.96      0.98     82196\n",
      "           9       0.00      0.00      0.00      1415\n",
      "          10       1.00      0.98      0.99      1997\n",
      "          11       0.73      1.00      0.85      3920\n",
      "          12       0.72      0.08      0.14     32307\n",
      "          13       0.00      0.00      0.00        13\n",
      "          14       1.00      0.56      0.72     20609\n",
      "\n",
      "    accuracy                           0.89    904972\n",
      "   macro avg       0.76      0.66      0.65    904972\n",
      "weighted avg       0.90      0.89      0.87    904972\n",
      "\n",
      "\n",
      "        ----------Validation Data------------------\n",
      "Accuarcy: 88.53599890383349\n",
      "Precision: 89.6032 %\n",
      "Recall-score: 88.5360\n",
      "F1-score: 86.5132\n"
     ]
    }
   ],
   "source": [
    "report(predict,labels_test)"
   ]
  },
  {
   "cell_type": "code",
   "execution_count": 132,
   "id": "mature-watch",
   "metadata": {},
   "outputs": [
    {
     "name": "stdout",
     "output_type": "stream",
     "text": [
      "Model: \"sequential_3\"\n",
      "_________________________________________________________________\n",
      "Layer (type)                 Output Shape              Param #   \n",
      "=================================================================\n",
      "simple_rnn_5 (SimpleRNN)     (None, 77, 64)            4224      \n",
      "_________________________________________________________________\n",
      "dropout_5 (Dropout)          (None, 77, 64)            0         \n",
      "_________________________________________________________________\n",
      "simple_rnn_6 (SimpleRNN)     (None, 77, 64)            8256      \n",
      "_________________________________________________________________\n",
      "dropout_6 (Dropout)          (None, 77, 64)            0         \n",
      "_________________________________________________________________\n",
      "flatten_3 (Flatten)          (None, 4928)              0         \n",
      "_________________________________________________________________\n",
      "dense_9 (Dense)              (None, 64)                315456    \n",
      "_________________________________________________________________\n",
      "leaky_re_lu_6 (LeakyReLU)    (None, 64)                0         \n",
      "_________________________________________________________________\n",
      "dense_10 (Dense)             (None, 32)                2080      \n",
      "_________________________________________________________________\n",
      "leaky_re_lu_7 (LeakyReLU)    (None, 32)                0         \n",
      "_________________________________________________________________\n",
      "dense_11 (Dense)             (None, 15)                495       \n",
      "=================================================================\n",
      "Total params: 330,511\n",
      "Trainable params: 330,511\n",
      "Non-trainable params: 0\n",
      "_________________________________________________________________\n"
     ]
    }
   ],
   "source": [
    "#hyperparameters\n",
    "\n",
    "# Initialising the RNN\n",
    "rnn2v2 = Sequential()\n",
    "\n",
    "# Adding the first RNN layer and some Dropout regularisation\n",
    "rnn2v2.add(SimpleRNN(units = 64,activation='relu', return_sequences = True,  input_shape = (77,1)))\n",
    "rnn2v2.add(Dropout(0.1))\n",
    "\n",
    "# Adding a second RNN layer and some Dropout regularisation\n",
    "rnn2v2.add(SimpleRNN(units = 64,activation='relu', return_sequences = True))\n",
    "rnn2v2.add(Dropout(0.1))\n",
    "\n",
    "# Adding the output layer\n",
    "rnn2v2.add(Flatten())\n",
    "rnn2v2.add(Dense(64, input_dim=77, kernel_initializer=hidden_initializer))\n",
    "rnn2v2.add(LeakyReLU(alpha=0.1))\n",
    "rnn2v2.add(Dense(32))\n",
    "rnn2v2.add(LeakyReLU(alpha=0.1))\n",
    "rnn2v2.add(Dense(units = 15, activation='sigmoid'))\n",
    "\n",
    "rnn2v2.summary()"
   ]
  },
  {
   "cell_type": "code",
   "execution_count": 134,
   "id": "thick-asian",
   "metadata": {
    "scrolled": true
   },
   "outputs": [
    {
     "name": "stdout",
     "output_type": "stream",
     "text": [
      "Epoch 1/25\n",
      "2652/2652 [==============================] - 1134s 426ms/step - loss: 297.9792 - accuracy: 0.8697 - val_loss: 6.3392 - val_accuracy: 0.9565\n",
      "Epoch 2/25\n",
      "2652/2652 [==============================] - 1131s 427ms/step - loss: 1.5369 - accuracy: 0.9466 - val_loss: 0.1606 - val_accuracy: 0.9642\n",
      "Epoch 3/25\n",
      "2652/2652 [==============================] - 1224s 462ms/step - loss: 0.2466 - accuracy: 0.9617 - val_loss: 78.4513 - val_accuracy: 0.9653\n",
      "Epoch 4/25\n",
      "2652/2652 [==============================] - 1133s 427ms/step - loss: 0.1510 - accuracy: 0.9650 - val_loss: 103.6119 - val_accuracy: 0.9296\n",
      "Epoch 5/25\n",
      "2652/2652 [==============================] - 1103s 416ms/step - loss: 1.9043 - accuracy: 0.9633 - val_loss: 0.1247 - val_accuracy: 0.9648\n",
      "Epoch 6/25\n",
      "2652/2652 [==============================] - 1096s 413ms/step - loss: 0.2142 - accuracy: 0.9658 - val_loss: 0.1125 - val_accuracy: 0.9669\n",
      "Epoch 7/25\n",
      "2652/2652 [==============================] - 1099s 414ms/step - loss: 0.1187 - accuracy: 0.9673 - val_loss: 0.1108 - val_accuracy: 0.9671\n",
      "Epoch 8/25\n",
      "2652/2652 [==============================] - 1197s 451ms/step - loss: 0.1114 - accuracy: 0.9677 - val_loss: 0.1085 - val_accuracy: 0.9676\n",
      "Epoch 9/25\n",
      "2652/2652 [==============================] - 1243s 469ms/step - loss: 0.1291 - accuracy: 0.9675 - val_loss: 0.1082 - val_accuracy: 0.9676\n",
      "Epoch 10/25\n",
      "2652/2652 [==============================] - 1110s 418ms/step - loss: 0.1137 - accuracy: 0.9681 - val_loss: 0.1072 - val_accuracy: 0.9676\n",
      "Epoch 11/25\n",
      "2652/2652 [==============================] - 1133s 427ms/step - loss: 0.1111 - accuracy: 0.9682 - val_loss: 0.1069 - val_accuracy: 0.9679\n",
      "Epoch 12/25\n",
      "2652/2652 [==============================] - 1089s 411ms/step - loss: 0.1228 - accuracy: 0.9682 - val_loss: 0.1074 - val_accuracy: 0.9678\n",
      "Epoch 13/25\n",
      "2652/2652 [==============================] - 1114s 420ms/step - loss: 0.1172 - accuracy: 0.9682 - val_loss: 0.1067 - val_accuracy: 0.9679\n",
      "Epoch 14/25\n",
      "2652/2652 [==============================] - 1114s 420ms/step - loss: 0.1066 - accuracy: 0.9683 - val_loss: 0.1076 - val_accuracy: 0.9678\n",
      "Epoch 15/25\n",
      "2652/2652 [==============================] - 1117s 421ms/step - loss: 0.1172 - accuracy: 0.9682 - val_loss: 0.1065 - val_accuracy: 0.9677\n",
      "Epoch 16/25\n",
      "2652/2652 [==============================] - 1097s 414ms/step - loss: 0.1532 - accuracy: 0.9684 - val_loss: 0.1064 - val_accuracy: 0.9681\n",
      "Epoch 17/25\n",
      "2652/2652 [==============================] - 1153s 435ms/step - loss: 0.1076 - accuracy: 0.9686 - val_loss: 0.1038 - val_accuracy: 0.9685\n",
      "Epoch 18/25\n",
      "2652/2652 [==============================] - 1230s 464ms/step - loss: 0.1559 - accuracy: 0.9683 - val_loss: 0.1038 - val_accuracy: 0.9685\n",
      "Epoch 19/25\n",
      "2652/2652 [==============================] - 1172s 442ms/step - loss: 0.1194 - accuracy: 0.9688 - val_loss: 0.1031 - val_accuracy: 0.9686\n",
      "Epoch 20/25\n",
      "2652/2652 [==============================] - 1177s 444ms/step - loss: 0.1241 - accuracy: 0.9688 - val_loss: 0.1030 - val_accuracy: 0.9687\n",
      "Epoch 21/25\n",
      "2652/2652 [==============================] - 1168s 441ms/step - loss: 0.1224 - accuracy: 0.9689 - val_loss: 0.1037 - val_accuracy: 0.9685\n",
      "Epoch 22/25\n",
      "2652/2652 [==============================] - 1141s 430ms/step - loss: 11.4582 - accuracy: 0.9683 - val_loss: 0.1043 - val_accuracy: 0.9684\n",
      "Epoch 23/25\n",
      "2652/2652 [==============================] - 1154s 435ms/step - loss: 0.1256 - accuracy: 0.9687 - val_loss: 0.1040 - val_accuracy: 0.9684\n",
      "Epoch 24/25\n",
      "2652/2652 [==============================] - 1115s 420ms/step - loss: 0.1255 - accuracy: 0.9687 - val_loss: 0.1031 - val_accuracy: 0.9685\n",
      "Epoch 25/25\n",
      "2652/2652 [==============================] - 1100s 415ms/step - loss: 0.1035 - accuracy: 0.9689 - val_loss: 0.1027 - val_accuracy: 0.9686\n"
     ]
    },
    {
     "data": {
      "text/plain": [
       "<tensorflow.python.keras.callbacks.History at 0x29d5985bd48>"
      ]
     },
     "execution_count": 134,
     "metadata": {},
     "output_type": "execute_result"
    }
   ],
   "source": [
    "rnn2v2.compile(loss = \"categorical_crossentropy\", optimizer='adam', metrics=['accuracy'])\n",
    "rnn2v2.fit(X_train, y_train, epochs=25, batch_size= 1024, validation_data=(X_test,y_test),callbacks=[tensorboard_callback, eary_stop_callback])"
   ]
  },
  {
   "cell_type": "code",
   "execution_count": 135,
   "id": "framed-namibia",
   "metadata": {},
   "outputs": [
    {
     "data": {
      "image/png": "[encoded data removed]",
      "text/plain": [
       "<Figure size 432x288 with 1 Axes>"
      ]
     },
     "metadata": {
      "needs_background": "light"
     },
     "output_type": "display_data"
    },
    {
     "data": {
      "image/png": "[encoded data removed]",
      "text/plain": [
       "<Figure size 432x288 with 1 Axes>"
      ]
     },
     "metadata": {
      "needs_background": "light"
     },
     "output_type": "display_data"
    }
   ],
   "source": [
    "# plotting loss graphs w.r.t each epoch\n",
    "f, ax = plt.subplots()\n",
    "ax.plot([None] + rnn2v2.history.history[\"accuracy\"], 'o-')\n",
    "ax.plot([None] + rnn2v2.history.history[\"val_accuracy\"], 'x-')\n",
    "\n",
    "ax.legend(['Train_Accuracy', 'Val_Accuracy'], loc = 0)\n",
    "ax.set_title('Training/Val Accuracy Per Epoch')\n",
    "ax.set_xlabel('epoch')\n",
    "ax.set_ylabel('acc')\n",
    "plt.show()\n",
    "\n",
    "f, ax = plt.subplots()\n",
    "ax.plot([None] + rnn2v2.history.history[\"loss\"], 'o-')\n",
    "ax.plot([None] + rnn2v2.history.history[\"val_loss\"], 'x-')\n",
    "\n",
    "ax.legend(['Train_Loss', 'Val_Loss'], loc = 0)\n",
    "ax.set_title('Training/Val Losses Per Epoch')\n",
    "ax.set_xlabel('epoch')\n",
    "ax.set_ylabel('loss')\n",
    "plt.show()"
   ]
  },
  {
   "cell_type": "code",
   "execution_count": 138,
   "id": "separate-bradford",
   "metadata": {},
   "outputs": [],
   "source": [
    "predict = np.argmax(rnn2v2.predict(X_test),axis=1)\n",
    "\n",
    "a = np.unique(predict)\n",
    "b = np.unique(y_test)\n",
    "c = list(set(a) | set(b))"
   ]
  },
  {
   "cell_type": "code",
   "execution_count": 139,
   "id": "medieval-milan",
   "metadata": {},
   "outputs": [
    {
     "name": "stdout",
     "output_type": "stream",
     "text": [
      "        ----------Classification Report Of Classes-------------\n",
      "              precision    recall  f1-score   support\n",
      "\n",
      "           0       0.94      0.99      0.96    452600\n",
      "           1       1.00      0.90      0.95     55595\n",
      "           2       0.84      0.64      0.73       128\n",
      "           3       0.94      0.76      0.84        42\n",
      "           4       1.00      1.00      1.00    130014\n",
      "           5       0.77      0.93      0.84       328\n",
      "           6       1.00      1.00      1.00    115506\n",
      "           7       1.00      1.00      1.00      8302\n",
      "           8       1.00      1.00      1.00     82196\n",
      "           9       0.65      0.36      0.46      1415\n",
      "          10       1.00      1.00      1.00      1997\n",
      "          11       0.80      0.93      0.86      3920\n",
      "          12       0.76      0.24      0.36     32307\n",
      "          13       0.50      0.15      0.24        13\n",
      "          14       1.00      1.00      1.00     20609\n",
      "\n",
      "    accuracy                           0.96    904972\n",
      "   macro avg       0.88      0.79      0.82    904972\n",
      "weighted avg       0.96      0.96      0.95    904972\n",
      "\n",
      "\n",
      "        ----------Validation Data------------------\n",
      "Accuarcy: 96.24132017344184\n",
      "Precision: 95.8368 %\n",
      "Recall-score: 96.2413\n",
      "F1-score: 95.4874\n"
     ]
    }
   ],
   "source": [
    "report(predict,labels_test)"
   ]
  },
  {
   "cell_type": "code",
   "execution_count": 152,
   "id": "dietary-reporter",
   "metadata": {},
   "outputs": [
    {
     "name": "stdout",
     "output_type": "stream",
     "text": [
      "Model: \"sequential_7\"\n",
      "_________________________________________________________________\n",
      "Layer (type)                 Output Shape              Param #   \n",
      "=================================================================\n",
      "simple_rnn_16 (SimpleRNN)    (None, 77, 64)            4224      \n",
      "_________________________________________________________________\n",
      "dropout_16 (Dropout)         (None, 77, 64)            0         \n",
      "_________________________________________________________________\n",
      "simple_rnn_17 (SimpleRNN)    (None, 77, 32)            3104      \n",
      "_________________________________________________________________\n",
      "dropout_17 (Dropout)         (None, 77, 32)            0         \n",
      "_________________________________________________________________\n",
      "simple_rnn_18 (SimpleRNN)    (None, 77, 16)            784       \n",
      "_________________________________________________________________\n",
      "dropout_18 (Dropout)         (None, 77, 16)            0         \n",
      "_________________________________________________________________\n",
      "flatten_7 (Flatten)          (None, 1232)              0         \n",
      "_________________________________________________________________\n",
      "dense_21 (Dense)             (None, 64)                78912     \n",
      "_________________________________________________________________\n",
      "leaky_re_lu_14 (LeakyReLU)   (None, 64)                0         \n",
      "_________________________________________________________________\n",
      "dense_22 (Dense)             (None, 32)                2080      \n",
      "_________________________________________________________________\n",
      "leaky_re_lu_15 (LeakyReLU)   (None, 32)                0         \n",
      "_________________________________________________________________\n",
      "dense_23 (Dense)             (None, 15)                495       \n",
      "=================================================================\n",
      "Total params: 89,599\n",
      "Trainable params: 89,599\n",
      "Non-trainable params: 0\n",
      "_________________________________________________________________\n"
     ]
    }
   ],
   "source": [
    "#hyperparameters\n",
    "\n",
    "# Initialising the RNN\n",
    "rnn3v2 = Sequential()\n",
    "\n",
    "# Adding the first RNN layer and some Dropout regularisation\n",
    "rnn3v2.add(SimpleRNN(units = 64,activation='relu', return_sequences = True,  input_shape = (77,1)))\n",
    "rnn3v2.add(Dropout(0.1))\n",
    "\n",
    "# Adding a second RNN layer and some Dropout regularisation\n",
    "rnn3v2.add(SimpleRNN(units = 32,activation='relu', return_sequences = True))\n",
    "rnn3v2.add(Dropout(0.1))\n",
    "\n",
    "# Adding a third RNN layer and some Dropout regularisation\n",
    "rnn3v2.add(SimpleRNN(units = 16,activation='relu', return_sequences = True))\n",
    "rnn3v2.add(Dropout(0.1))\n",
    "\n",
    "# Adding the output layer\n",
    "rnn3v2.add(Flatten())\n",
    "rnn3v2.add(Dense(64, input_dim=77, kernel_initializer=hidden_initializer))\n",
    "rnn3v2.add(LeakyReLU(alpha=0.1))\n",
    "rnn3v2.add(Dense(32))\n",
    "rnn3v2.add(LeakyReLU(alpha=0.1))\n",
    "rnn3v2.add(Dense(units = 15, activation='sigmoid'))\n",
    "\n",
    "rnn3v2.summary()"
   ]
  },
  {
   "cell_type": "code",
   "execution_count": 153,
   "id": "known-supply",
   "metadata": {
    "scrolled": true
   },
   "outputs": [
    {
     "name": "stdout",
     "output_type": "stream",
     "text": [
      "Epoch 1/20\n",
      "663/663 [==============================] - 962s 1s/step - loss: 5312.7934 - accuracy: 0.6649 - val_loss: 88.8211 - val_accuracy: 0.8400\n",
      "Epoch 2/20\n",
      "663/663 [==============================] - 970s 1s/step - loss: 173.8617 - accuracy: 0.8798 - val_loss: 17.2408 - val_accuracy: 0.8888\n",
      "Epoch 3/20\n",
      "663/663 [==============================] - 953s 1s/step - loss: 42.7287 - accuracy: 0.8895 - val_loss: 4.6382 - val_accuracy: 0.9138\n",
      "Epoch 4/20\n",
      "663/663 [==============================] - 949s 1s/step - loss: 12.6328 - accuracy: 0.9011 - val_loss: 1.6020 - val_accuracy: 0.9081\n",
      "Epoch 5/20\n",
      "663/663 [==============================] - 959s 1s/step - loss: 3.7021 - accuracy: 0.9165 - val_loss: 0.5552 - val_accuracy: 0.8964\n",
      "Epoch 6/20\n",
      "663/663 [==============================] - 959s 1s/step - loss: 1.9492 - accuracy: 0.9264 - val_loss: 0.4659 - val_accuracy: 0.9489\n",
      "Epoch 7/20\n",
      "663/663 [==============================] - 960s 1s/step - loss: 1.6391 - accuracy: 0.9321 - val_loss: 0.5400 - val_accuracy: 0.9506\n",
      "Epoch 8/20\n",
      "663/663 [==============================] - 957s 1s/step - loss: 1.4428 - accuracy: 0.9382 - val_loss: 0.7259 - val_accuracy: 0.9542\n",
      "Epoch 9/20\n",
      "663/663 [==============================] - 968s 1s/step - loss: 1.2819 - accuracy: 0.9407 - val_loss: 0.5612 - val_accuracy: 0.9530\n",
      "Epoch 10/20\n",
      "663/663 [==============================] - 962s 1s/step - loss: 0.9602 - accuracy: 0.9450 - val_loss: 1.3614 - val_accuracy: 0.9547\n",
      "Epoch 11/20\n",
      "663/663 [==============================] - 961s 1s/step - loss: 0.8163 - accuracy: 0.9477 - val_loss: 2.3695 - val_accuracy: 0.9581\n",
      "Epoch 12/20\n",
      "663/663 [==============================] - 964s 1s/step - loss: 4.9896 - accuracy: 0.9395 - val_loss: 0.5561 - val_accuracy: 0.9526\n",
      "Epoch 13/20\n",
      "663/663 [==============================] - 963s 1s/step - loss: 1.1119 - accuracy: 0.9394 - val_loss: 0.6981 - val_accuracy: 0.9570\n",
      "Epoch 14/20\n",
      "663/663 [==============================] - 965s 1s/step - loss: 0.4164 - accuracy: 0.9511 - val_loss: 0.4526 - val_accuracy: 0.9612\n",
      "Epoch 15/20\n",
      "663/663 [==============================] - 958s 1s/step - loss: 0.5263 - accuracy: 0.9545 - val_loss: 0.4110 - val_accuracy: 0.9523\n",
      "Epoch 16/20\n",
      "663/663 [==============================] - 958s 1s/step - loss: 0.3905 - accuracy: 0.9525 - val_loss: 0.1440 - val_accuracy: 0.9600\n",
      "Epoch 17/20\n",
      "663/663 [==============================] - 963s 1s/step - loss: 0.2730 - accuracy: 0.9568 - val_loss: 0.1316 - val_accuracy: 0.9621\n",
      "Epoch 18/20\n",
      "663/663 [==============================] - 964s 1s/step - loss: 0.2154 - accuracy: 0.9592 - val_loss: 0.1320 - val_accuracy: 0.9620\n",
      "Epoch 19/20\n",
      "663/663 [==============================] - 960s 1s/step - loss: 0.2079 - accuracy: 0.9604 - val_loss: 0.1247 - val_accuracy: 0.9635\n",
      "Epoch 20/20\n",
      "663/663 [==============================] - 961s 1s/step - loss: 0.1833 - accuracy: 0.9621 - val_loss: 0.1225 - val_accuracy: 0.9640\n"
     ]
    },
    {
     "data": {
      "text/plain": [
       "<tensorflow.python.keras.callbacks.History at 0x29d6c961c88>"
      ]
     },
     "execution_count": 153,
     "metadata": {},
     "output_type": "execute_result"
    }
   ],
   "source": [
    "rnn3v2.compile(loss = \"categorical_crossentropy\", optimizer='adam', metrics=['accuracy'])\n",
    "rnn3v2.fit(X_train, y_train, epochs=20, batch_size= 4096, validation_data=(X_test,y_test),callbacks=[tensorboard_callback, eary_stop_callback])"
   ]
  },
  {
   "cell_type": "code",
   "execution_count": 154,
   "id": "artificial-booking",
   "metadata": {},
   "outputs": [
    {
     "data": {
      "image/png": "[encoded data removed]",
      "text/plain": [
       "<Figure size 432x288 with 1 Axes>"
      ]
     },
     "metadata": {
      "needs_background": "light"
     },
     "output_type": "display_data"
    },
    {
     "data": {
      "image/png": "[encoded data removed]",
      "text/plain": [
       "<Figure size 432x288 with 1 Axes>"
      ]
     },
     "metadata": {
      "needs_background": "light"
     },
     "output_type": "display_data"
    }
   ],
   "source": [
    "# plotting loss graphs w.r.t each epoch\n",
    "f, ax = plt.subplots()\n",
    "ax.plot([None] + rnn3v2.history.history[\"accuracy\"], 'o-')\n",
    "ax.plot([None] + rnn3v2.history.history[\"val_accuracy\"], 'x-')\n",
    "\n",
    "ax.legend(['Train_Accuracy', 'Val_Accuracy'], loc = 0)\n",
    "ax.set_title('Training/Val Accuracy Per Epoch')\n",
    "ax.set_xlabel('epoch')\n",
    "ax.set_ylabel('acc')\n",
    "plt.show()\n",
    "\n",
    "f, ax = plt.subplots()\n",
    "ax.plot([None] + rnn3v2.history.history[\"loss\"], 'o-')\n",
    "ax.plot([None] + rnn3v2.history.history[\"val_loss\"], 'x-')\n",
    "\n",
    "ax.legend(['Train_Loss', 'Val_Loss'], loc = 0)\n",
    "ax.set_title('Training/Val Losses Per Epoch')\n",
    "ax.set_xlabel('epoch')\n",
    "ax.set_ylabel('loss')\n",
    "plt.show()"
   ]
  },
  {
   "cell_type": "code",
   "execution_count": 155,
   "id": "explicit-council",
   "metadata": {},
   "outputs": [],
   "source": [
    "predict = np.argmax(rnn3v2.predict(X_test),axis=1)\n",
    "\n",
    "a = np.unique(predict)\n",
    "b = np.unique(y_test)\n",
    "c = list(set(a) | set(b))"
   ]
  },
  {
   "cell_type": "code",
   "execution_count": 156,
   "id": "going-drawing",
   "metadata": {},
   "outputs": [
    {
     "name": "stdout",
     "output_type": "stream",
     "text": [
      "        ----------Classification Report Of Classes-------------\n",
      "              precision    recall  f1-score   support\n",
      "\n",
      "           0       0.94      0.99      0.97    452600\n",
      "           1       1.00      1.00      1.00     55595\n",
      "           2       0.00      0.00      0.00       128\n",
      "           3       0.00      0.00      0.00        42\n",
      "           4       1.00      1.00      1.00    130014\n",
      "           5       0.50      0.00      0.01       328\n",
      "           6       0.99      1.00      1.00    115506\n",
      "           7       0.97      0.98      0.98      8302\n",
      "           8       1.00      1.00      1.00     82196\n",
      "           9       0.00      0.00      0.00      1415\n",
      "          10       0.92      0.24      0.38      1997\n",
      "          11       0.73      1.00      0.84      3920\n",
      "          12       0.73      0.18      0.29     32307\n",
      "          13       0.00      0.00      0.00        13\n",
      "          14       1.00      1.00      1.00     20609\n",
      "\n",
      "    accuracy                           0.96    904972\n",
      "   macro avg       0.65      0.56      0.56    904972\n",
      "weighted avg       0.96      0.96      0.95    904972\n",
      "\n",
      "\n",
      "        ----------Validation Data------------------\n",
      "Accuarcy: 96.26927683950443\n",
      "Precision: 95.5717 %\n",
      "Recall-score: 96.2693\n",
      "F1-score: 95.2236\n"
     ]
    }
   ],
   "source": [
    "report(predict,labels_test)"
   ]
  },
  {
   "cell_type": "code",
   "execution_count": 159,
   "id": "intended-acceptance",
   "metadata": {},
   "outputs": [
    {
     "name": "stdout",
     "output_type": "stream",
     "text": [
      "Model: \"sequential\"\n",
      "_________________________________________________________________\n",
      "Layer (type)                 Output Shape              Param #   \n",
      "=================================================================\n",
      "conv1d (Conv1D)              (None, 75, 64)            256       \n",
      "_________________________________________________________________\n",
      "leaky_re_lu (LeakyReLU)      (None, 75, 64)            0         \n",
      "_________________________________________________________________\n",
      "dropout (Dropout)            (None, 75, 64)            0         \n",
      "_________________________________________________________________\n",
      "conv1d_1 (Conv1D)            (None, 75, 32)            2080      \n",
      "_________________________________________________________________\n",
      "leaky_re_lu_1 (LeakyReLU)    (None, 75, 32)            0         \n",
      "_________________________________________________________________\n",
      "dropout_1 (Dropout)          (None, 75, 32)            0         \n",
      "_________________________________________________________________\n",
      "conv1d_2 (Conv1D)            (None, 75, 32)            1056      \n",
      "_________________________________________________________________\n",
      "leaky_re_lu_2 (LeakyReLU)    (None, 75, 32)            0         \n",
      "_________________________________________________________________\n",
      "dropout_2 (Dropout)          (None, 75, 32)            0         \n",
      "_________________________________________________________________\n",
      "flatten (Flatten)            (None, 2400)              0         \n",
      "_________________________________________________________________\n",
      "dense (Dense)                (None, 64)                153664    \n",
      "_________________________________________________________________\n",
      "leaky_re_lu_3 (LeakyReLU)    (None, 64)                0         \n",
      "_________________________________________________________________\n",
      "dense_1 (Dense)              (None, 32)                2080      \n",
      "_________________________________________________________________\n",
      "leaky_re_lu_4 (LeakyReLU)    (None, 32)                0         \n",
      "_________________________________________________________________\n",
      "dense_2 (Dense)              (None, 15)                495       \n",
      "=================================================================\n",
      "Total params: 159,631\n",
      "Trainable params: 159,631\n",
      "Non-trainable params: 0\n",
      "_________________________________________________________________\n"
     ]
    }
   ],
   "source": [
    "#hyperparameters\n",
    "keras.backend.clear_session()\n",
    "SEED = 1040941203\n",
    "hidden_initializer = random_uniform(seed=SEED)\n",
    "\n",
    "\n",
    "# create model\n",
    "cnn3v2 = Sequential()\n",
    "cnn3v2.add(Conv1D(64, 3, input_shape=(77, 1)))\n",
    "cnn3v2.add(LeakyReLU(alpha=0.1))\n",
    "cnn3v2.add(Dropout(0.3))\n",
    "\n",
    "cnn3v2.add(Conv1D(32, 1))\n",
    "cnn3v2.add(LeakyReLU(alpha=0.1))\n",
    "cnn3v2.add(Dropout(0.4))\n",
    "\n",
    "cnn3v2.add(Conv1D(32, 1))\n",
    "cnn3v2.add(LeakyReLU(alpha=0.1))\n",
    "cnn3v2.add(Dropout(0.4))\n",
    "\n",
    "cnn3v2.add(Flatten())\n",
    "cnn3v2.add(Dense(64, input_dim=77, kernel_initializer=hidden_initializer))\n",
    "cnn3v2.add(LeakyReLU(alpha=0.1))\n",
    "cnn3v2.add(Dense(32))\n",
    "cnn3v2.add(LeakyReLU(alpha=0.1))\n",
    "cnn3v2.add(Dense(15, activation='sigmoid'))\n",
    "\n",
    "cnn3v2.summary()"
   ]
  },
  {
   "cell_type": "code",
   "execution_count": 160,
   "id": "completed-accused",
   "metadata": {
    "scrolled": true
   },
   "outputs": [
    {
     "name": "stdout",
     "output_type": "stream",
     "text": [
      "Epoch 1/20\n",
      "2652/2652 [==============================] - 507s 191ms/step - loss: 2198.3173 - accuracy: 0.7150 - val_loss: 10.3386 - val_accuracy: 0.8748\n",
      "Epoch 2/20\n",
      "2652/2652 [==============================] - 493s 186ms/step - loss: 16.4260 - accuracy: 0.8781 - val_loss: 2.0952 - val_accuracy: 0.8927\n",
      "Epoch 3/20\n",
      "2652/2652 [==============================] - 488s 184ms/step - loss: 7.4455 - accuracy: 0.8924 - val_loss: 2.5215 - val_accuracy: 0.9112\n",
      "Epoch 4/20\n",
      "2652/2652 [==============================] - 503s 190ms/step - loss: 4.0959 - accuracy: 0.8786 - val_loss: 0.6504 - val_accuracy: 0.8996\n",
      "Epoch 5/20\n",
      "2652/2652 [==============================] - 504s 190ms/step - loss: 1.0116 - accuracy: 0.8981 - val_loss: 0.2749 - val_accuracy: 0.9353\n",
      "Epoch 6/20\n",
      "2652/2652 [==============================] - 497s 187ms/step - loss: 0.5887 - accuracy: 0.9165 - val_loss: 0.3559 - val_accuracy: 0.9227\n",
      "Epoch 7/20\n",
      "2652/2652 [==============================] - 529s 199ms/step - loss: 1.4490 - accuracy: 0.9201 - val_loss: 0.3631 - val_accuracy: 0.9163\n",
      "Epoch 8/20\n",
      "2652/2652 [==============================] - 564s 213ms/step - loss: 0.4294 - accuracy: 0.9252 - val_loss: 5.6125 - val_accuracy: 0.9449\n",
      "Epoch 9/20\n",
      "2652/2652 [==============================] - 553s 208ms/step - loss: 0.3232 - accuracy: 0.9317 - val_loss: 4.1208 - val_accuracy: 0.9506\n",
      "Epoch 10/20\n",
      "2652/2652 [==============================] - 531s 200ms/step - loss: 3.2458 - accuracy: 0.9211 - val_loss: 0.7575 - val_accuracy: 0.9264\n",
      "Epoch 11/20\n",
      "2652/2652 [==============================] - 526s 199ms/step - loss: 1.2129 - accuracy: 0.9075 - val_loss: 0.6476 - val_accuracy: 0.9268\n",
      "Epoch 12/20\n",
      "2652/2652 [==============================] - 528s 199ms/step - loss: 0.5803 - accuracy: 0.9199 - val_loss: 5.3078 - val_accuracy: 0.9438\n",
      "Epoch 13/20\n",
      "2652/2652 [==============================] - 502s 189ms/step - loss: 0.3832 - accuracy: 0.9298 - val_loss: 3.8487 - val_accuracy: 0.9500\n",
      "Epoch 14/20\n",
      "2652/2652 [==============================] - 493s 186ms/step - loss: 0.2771 - accuracy: 0.9380 - val_loss: 0.1897 - val_accuracy: 0.9487\n",
      "Epoch 15/20\n",
      "2652/2652 [==============================] - 503s 190ms/step - loss: 0.6115 - accuracy: 0.9410 - val_loss: 1.0644 - val_accuracy: 0.9271\n",
      "Epoch 16/20\n",
      "2652/2652 [==============================] - 502s 189ms/step - loss: 0.6312 - accuracy: 0.9229 - val_loss: 3.2476 - val_accuracy: 0.9392\n",
      "Epoch 17/20\n",
      "2652/2652 [==============================] - 497s 188ms/step - loss: 0.3507 - accuracy: 0.9358 - val_loss: 46.4430 - val_accuracy: 0.9385\n",
      "Epoch 18/20\n",
      "2652/2652 [==============================] - 490s 185ms/step - loss: 6.7333 - accuracy: 0.9386 - val_loss: 2.1703 - val_accuracy: 0.8997\n",
      "Epoch 19/20\n",
      "2652/2652 [==============================] - 485s 183ms/step - loss: 1.4046 - accuracy: 0.9151 - val_loss: 0.8847 - val_accuracy: 0.9330\n",
      "Epoch 20/20\n",
      "2652/2652 [==============================] - 492s 186ms/step - loss: 0.5868 - accuracy: 0.9269 - val_loss: 0.2214 - val_accuracy: 0.9441TA: 1s - loss: 0.5871 - \n"
     ]
    },
    {
     "data": {
      "text/plain": [
       "<tensorflow.python.keras.callbacks.History at 0x29d6bdfcac8>"
      ]
     },
     "execution_count": 160,
     "metadata": {},
     "output_type": "execute_result"
    }
   ],
   "source": [
    "cnn3v2.compile(loss = \"categorical_crossentropy\", optimizer='adam', metrics=['accuracy'])\n",
    "cnn3v2.fit(X_train, y_train, epochs=20, batch_size=1024, validation_data=(X_test,y_test),callbacks=[tensorboard_callback, eary_stop_callback])"
   ]
  },
  {
   "cell_type": "code",
   "execution_count": null,
   "id": "saved-warrant",
   "metadata": {},
   "outputs": [],
   "source": []
  }
 ],
 "metadata": {
  "kernelspec": {
   "display_name": "Python 3",
   "language": "python",
   "name": "python3"
  },
  "language_info": {
   "codemirror_mode": {
    "name": "ipython",
    "version": 3
   },
   "file_extension": ".py",
   "mimetype": "text/x-python",
   "name": "python",
   "nbconvert_exporter": "python",
   "pygments_lexer": "ipython3",
   "version": "3.7.4"
  }
 },
 "nbformat": 4,
 "nbformat_minor": 5
}
