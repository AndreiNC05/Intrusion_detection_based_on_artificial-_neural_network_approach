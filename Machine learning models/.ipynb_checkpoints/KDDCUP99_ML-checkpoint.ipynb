{
 "cells": [
  {
   "cell_type": "code",
   "execution_count": 1,
   "id": "wired-struggle",
   "metadata": {},
   "outputs": [],
   "source": [
    "import numpy as np # linear algebra\n",
    "import pandas as pd # data processing, CSV file I/O (e.g. pd.read_csv)\n",
    "import seaborn as sns\n",
    "import matplotlib.pyplot as plt\n",
    "import glob\n",
    "\n",
    "from sklearn.metrics import confusion_matrix\n",
    "import itertools\n",
    "\n",
    "from sklearn.metrics import make_scorer, accuracy_score, precision_score, recall_score, f1_score, confusion_matrix, classification_report\n",
    "\n",
    "import tensorflow as tf\n",
    "from tensorflow import keras\n",
    "from keras.models import Sequential\n",
    "from keras.layers import Dense, Flatten, Conv1D, MaxPool1D\n",
    "from keras.initializers import random_uniform\n",
    "from keras.layers.advanced_activations import LeakyReLU\n",
    "from keras.callbacks import EarlyStopping\n",
    "\n",
    "from sklearn.model_selection import train_test_split\n",
    "from sklearn.preprocessing import StandardScaler as SS\n",
    "\n",
    "from sklearn.model_selection import train_test_split\n",
    "from keras.models import Sequential\n",
    "from keras.preprocessing.text import Tokenizer\n",
    "from matplotlib import pyplot as plt\n",
    "from keras.preprocessing.sequence import pad_sequences\n",
    "from keras.layers import Embedding,Dense,LSTM,Dropout,Flatten,BatchNormalization,Conv1D,GlobalMaxPooling1D,MaxPooling1D\n",
    "from keras.optimizers import  SGD\n",
    "import matplotlib.pyplot as plt\n",
    "from keras.regularizers import l2\n",
    "from keras.optimizers import Adam\n",
    "from keras import regularizers\n",
    "from keras.callbacks import EarlyStopping\n",
    "from sklearn.preprocessing import OneHotEncoder\n",
    "from keras.preprocessing import sequence\n",
    "from keras.layers import SimpleRNN\n",
    "#from hyperas.distributions import uniform\n",
    "\n",
    "from keras.utils.np_utils import to_categorical\n",
    "from keras import regularizers\n",
    "import pandas as pd\n",
    "import string\n",
    "import numpy as np\n",
    "import matplotlib.pyplot as plt\n",
    "\n",
    "# import warnings\n",
    "import warnings\n",
    "# filter warnings\n",
    "warnings.filterwarnings('ignore')"
   ]
  },
  {
   "cell_type": "markdown",
   "id": "black-issue",
   "metadata": {},
   "source": [
    "# Data import"
   ]
  },
  {
   "cell_type": "code",
   "execution_count": 6,
   "id": "purple-census",
   "metadata": {},
   "outputs": [],
   "source": [
    "dataset = pd.read_csv(r'...') # use your path"
   ]
  },
  {
   "cell_type": "code",
   "execution_count": 7,
   "id": "documentary-fifty",
   "metadata": {},
   "outputs": [
    {
     "data": {
      "text/html": [
       "<div>\n",
       "<style scoped>\n",
       "    .dataframe tbody tr th:only-of-type {\n",
       "        vertical-align: middle;\n",
       "    }\n",
       "\n",
       "    .dataframe tbody tr th {\n",
       "        vertical-align: top;\n",
       "    }\n",
       "\n",
       "    .dataframe thead th {\n",
       "        text-align: right;\n",
       "    }\n",
       "</style>\n",
       "<table border=\"1\" class=\"dataframe\">\n",
       "  <thead>\n",
       "    <tr style=\"text-align: right;\">\n",
       "      <th></th>\n",
       "      <th>duration</th>\n",
       "      <th>protocol_type</th>\n",
       "      <th>service</th>\n",
       "      <th>flag</th>\n",
       "      <th>src_bytes</th>\n",
       "      <th>dst_bytes</th>\n",
       "      <th>land</th>\n",
       "      <th>wrong_fragment</th>\n",
       "      <th>urgent</th>\n",
       "      <th>hot</th>\n",
       "      <th>...</th>\n",
       "      <th>dst_host_srv_count</th>\n",
       "      <th>dst_host_same_srv_rate</th>\n",
       "      <th>dst_host_diff_srv_rate</th>\n",
       "      <th>dst_host_same_src_port_rate</th>\n",
       "      <th>dst_host_srv_diff_host_rate</th>\n",
       "      <th>dst_host_serror_rate</th>\n",
       "      <th>dst_host_srv_serror_rate</th>\n",
       "      <th>dst_host_rerror_rate</th>\n",
       "      <th>dst_host_srv_rerror_rate</th>\n",
       "      <th>Label</th>\n",
       "    </tr>\n",
       "  </thead>\n",
       "  <tbody>\n",
       "    <tr>\n",
       "      <th>0</th>\n",
       "      <td>0</td>\n",
       "      <td>1</td>\n",
       "      <td>24</td>\n",
       "      <td>9</td>\n",
       "      <td>215</td>\n",
       "      <td>45076</td>\n",
       "      <td>0</td>\n",
       "      <td>0</td>\n",
       "      <td>0</td>\n",
       "      <td>0</td>\n",
       "      <td>...</td>\n",
       "      <td>0</td>\n",
       "      <td>0.0</td>\n",
       "      <td>0.0</td>\n",
       "      <td>0.00</td>\n",
       "      <td>0.0</td>\n",
       "      <td>0.0</td>\n",
       "      <td>0.0</td>\n",
       "      <td>0.0</td>\n",
       "      <td>0.0</td>\n",
       "      <td>normal.</td>\n",
       "    </tr>\n",
       "    <tr>\n",
       "      <th>1</th>\n",
       "      <td>0</td>\n",
       "      <td>1</td>\n",
       "      <td>24</td>\n",
       "      <td>9</td>\n",
       "      <td>162</td>\n",
       "      <td>4528</td>\n",
       "      <td>0</td>\n",
       "      <td>0</td>\n",
       "      <td>0</td>\n",
       "      <td>0</td>\n",
       "      <td>...</td>\n",
       "      <td>1</td>\n",
       "      <td>1.0</td>\n",
       "      <td>0.0</td>\n",
       "      <td>1.00</td>\n",
       "      <td>0.0</td>\n",
       "      <td>0.0</td>\n",
       "      <td>0.0</td>\n",
       "      <td>0.0</td>\n",
       "      <td>0.0</td>\n",
       "      <td>normal.</td>\n",
       "    </tr>\n",
       "    <tr>\n",
       "      <th>2</th>\n",
       "      <td>0</td>\n",
       "      <td>1</td>\n",
       "      <td>24</td>\n",
       "      <td>9</td>\n",
       "      <td>236</td>\n",
       "      <td>1228</td>\n",
       "      <td>0</td>\n",
       "      <td>0</td>\n",
       "      <td>0</td>\n",
       "      <td>0</td>\n",
       "      <td>...</td>\n",
       "      <td>2</td>\n",
       "      <td>1.0</td>\n",
       "      <td>0.0</td>\n",
       "      <td>0.50</td>\n",
       "      <td>0.0</td>\n",
       "      <td>0.0</td>\n",
       "      <td>0.0</td>\n",
       "      <td>0.0</td>\n",
       "      <td>0.0</td>\n",
       "      <td>normal.</td>\n",
       "    </tr>\n",
       "    <tr>\n",
       "      <th>3</th>\n",
       "      <td>0</td>\n",
       "      <td>1</td>\n",
       "      <td>24</td>\n",
       "      <td>9</td>\n",
       "      <td>233</td>\n",
       "      <td>2032</td>\n",
       "      <td>0</td>\n",
       "      <td>0</td>\n",
       "      <td>0</td>\n",
       "      <td>0</td>\n",
       "      <td>...</td>\n",
       "      <td>3</td>\n",
       "      <td>1.0</td>\n",
       "      <td>0.0</td>\n",
       "      <td>0.33</td>\n",
       "      <td>0.0</td>\n",
       "      <td>0.0</td>\n",
       "      <td>0.0</td>\n",
       "      <td>0.0</td>\n",
       "      <td>0.0</td>\n",
       "      <td>normal.</td>\n",
       "    </tr>\n",
       "    <tr>\n",
       "      <th>4</th>\n",
       "      <td>0</td>\n",
       "      <td>1</td>\n",
       "      <td>24</td>\n",
       "      <td>9</td>\n",
       "      <td>239</td>\n",
       "      <td>486</td>\n",
       "      <td>0</td>\n",
       "      <td>0</td>\n",
       "      <td>0</td>\n",
       "      <td>0</td>\n",
       "      <td>...</td>\n",
       "      <td>4</td>\n",
       "      <td>1.0</td>\n",
       "      <td>0.0</td>\n",
       "      <td>0.25</td>\n",
       "      <td>0.0</td>\n",
       "      <td>0.0</td>\n",
       "      <td>0.0</td>\n",
       "      <td>0.0</td>\n",
       "      <td>0.0</td>\n",
       "      <td>normal.</td>\n",
       "    </tr>\n",
       "  </tbody>\n",
       "</table>\n",
       "<p>5 rows × 40 columns</p>\n",
       "</div>"
      ],
      "text/plain": [
       "   duration  protocol_type  service  flag  src_bytes  dst_bytes  land  \\\n",
       "0         0              1       24     9        215      45076     0   \n",
       "1         0              1       24     9        162       4528     0   \n",
       "2         0              1       24     9        236       1228     0   \n",
       "3         0              1       24     9        233       2032     0   \n",
       "4         0              1       24     9        239        486     0   \n",
       "\n",
       "   wrong_fragment  urgent  hot  ...  dst_host_srv_count  \\\n",
       "0               0       0    0  ...                   0   \n",
       "1               0       0    0  ...                   1   \n",
       "2               0       0    0  ...                   2   \n",
       "3               0       0    0  ...                   3   \n",
       "4               0       0    0  ...                   4   \n",
       "\n",
       "   dst_host_same_srv_rate  dst_host_diff_srv_rate  \\\n",
       "0                     0.0                     0.0   \n",
       "1                     1.0                     0.0   \n",
       "2                     1.0                     0.0   \n",
       "3                     1.0                     0.0   \n",
       "4                     1.0                     0.0   \n",
       "\n",
       "   dst_host_same_src_port_rate  dst_host_srv_diff_host_rate  \\\n",
       "0                         0.00                          0.0   \n",
       "1                         1.00                          0.0   \n",
       "2                         0.50                          0.0   \n",
       "3                         0.33                          0.0   \n",
       "4                         0.25                          0.0   \n",
       "\n",
       "   dst_host_serror_rate  dst_host_srv_serror_rate  dst_host_rerror_rate  \\\n",
       "0                   0.0                       0.0                   0.0   \n",
       "1                   0.0                       0.0                   0.0   \n",
       "2                   0.0                       0.0                   0.0   \n",
       "3                   0.0                       0.0                   0.0   \n",
       "4                   0.0                       0.0                   0.0   \n",
       "\n",
       "   dst_host_srv_rerror_rate    Label  \n",
       "0                       0.0  normal.  \n",
       "1                       0.0  normal.  \n",
       "2                       0.0  normal.  \n",
       "3                       0.0  normal.  \n",
       "4                       0.0  normal.  \n",
       "\n",
       "[5 rows x 40 columns]"
      ]
     },
     "execution_count": 7,
     "metadata": {},
     "output_type": "execute_result"
    }
   ],
   "source": [
    "dataset.head()"
   ]
  },
  {
   "cell_type": "code",
   "execution_count": 8,
   "id": "differential-racing",
   "metadata": {},
   "outputs": [
    {
     "data": {
      "text/plain": [
       "(1945562, 40)"
      ]
     },
     "execution_count": 8,
     "metadata": {},
     "output_type": "execute_result"
    }
   ],
   "source": [
    "dataset.shape"
   ]
  },
  {
   "cell_type": "code",
   "execution_count": 9,
   "id": "persistent-legislature",
   "metadata": {},
   "outputs": [],
   "source": [
    "# Splitting dataset into features and labels.\n",
    "labels = dataset['Label']\n",
    "features = dataset.loc[:, dataset.columns != 'Label'].astype('float64')"
   ]
  },
  {
   "cell_type": "code",
   "execution_count": 10,
   "id": "greek-fancy",
   "metadata": {},
   "outputs": [],
   "source": [
    "# For scaling the data, we use RobustScaler class from sklearn.\n",
    "\n",
    "from sklearn.preprocessing import MinMaxScaler, StandardScaler, RobustScaler"
   ]
  },
  {
   "cell_type": "code",
   "execution_count": 11,
   "id": "decreased-battle",
   "metadata": {},
   "outputs": [],
   "source": [
    "scaler = RobustScaler()\n",
    "scaler.fit(features)\n",
    "\n",
    "features = scaler.transform(features)"
   ]
  },
  {
   "cell_type": "code",
   "execution_count": 12,
   "id": "coral-independence",
   "metadata": {},
   "outputs": [],
   "source": [
    "from sklearn.preprocessing import LabelEncoder"
   ]
  },
  {
   "cell_type": "code",
   "execution_count": 13,
   "id": "fuzzy-irrigation",
   "metadata": {},
   "outputs": [],
   "source": [
    "LE = LabelEncoder()\n",
    "\n",
    "LE.fit(labels)\n",
    "labels = LE.transform(labels)"
   ]
  },
  {
   "cell_type": "code",
   "execution_count": 14,
   "id": "illegal-colombia",
   "metadata": {},
   "outputs": [
    {
     "data": {
      "text/plain": [
       "array([ 0,  1,  2,  3,  4,  5,  6,  7,  8,  9, 10, 11, 12, 13, 14, 15, 16,\n",
       "       17, 18, 19])"
      ]
     },
     "execution_count": 14,
     "metadata": {},
     "output_type": "execute_result"
    }
   ],
   "source": [
    "# Labels have been replaced with integers.\n",
    "\n",
    "np.unique(labels)"
   ]
  },
  {
   "cell_type": "code",
   "execution_count": 15,
   "id": "broke-agency",
   "metadata": {},
   "outputs": [
    {
     "data": {
      "text/plain": [
       "array(['normal.', 'smurf.', 'neptune.', 'satan.', 'ipsweep.',\n",
       "       'portsweep.', 'back.', 'nmap.', 'warezclient.', 'pod.',\n",
       "       'teardrop.', 'guess_passwd.', 'land.', 'buffer_overflow.',\n",
       "       'warezmaster.', 'multihop.', 'rootkit.', 'loadmodule.', 'phf.',\n",
       "       'ftp_write.'], dtype=object)"
      ]
     },
     "execution_count": 15,
     "metadata": {},
     "output_type": "execute_result"
    }
   ],
   "source": [
    "# Checking that encoding reversal works.\n",
    "\n",
    "d = LE.inverse_transform(labels)\n",
    "d = pd.Series(d)\n",
    "d.unique()\n"
   ]
  },
  {
   "cell_type": "markdown",
   "id": "magnetic-supplement",
   "metadata": {},
   "source": [
    "### Splitting the data"
   ]
  },
  {
   "cell_type": "code",
   "execution_count": 16,
   "id": "spare-question",
   "metadata": {},
   "outputs": [],
   "source": [
    "from sklearn.model_selection import train_test_split"
   ]
  },
  {
   "cell_type": "code",
   "execution_count": 23,
   "id": "exotic-responsibility",
   "metadata": {},
   "outputs": [],
   "source": [
    "# The next step is to split training and testing data. For this we will use sklearn function train_test_split().\n",
    "\n",
    "features_train, features_test, labels_train, labels_test = train_test_split(features, labels, test_size= 0.2,random_state=1)"
   ]
  },
  {
   "cell_type": "code",
   "execution_count": 24,
   "id": "assigned-collaboration",
   "metadata": {},
   "outputs": [
    {
     "data": {
      "text/plain": [
       "((1556449, 39), (389113, 39), (1556449,), (389113,))"
      ]
     },
     "execution_count": 24,
     "metadata": {},
     "output_type": "execute_result"
    }
   ],
   "source": [
    "features_train.shape, features_test.shape, labels_train.shape, labels_test.shape"
   ]
  },
  {
   "cell_type": "code",
   "execution_count": 20,
   "id": "seventh-tomorrow",
   "metadata": {},
   "outputs": [],
   "source": [
    "# this function has evaluation metrics\n",
    "def report(prediction, y_true):\n",
    "    print('        ----------Classification Report Of Classes-------------')\n",
    "    print(classification_report(y_true,prediction))\n",
    "    print('\\n        ----------Validation Data------------------')\n",
    "    print('Accuarcy:',accuracy_score(y_true, prediction)* 100)\n",
    "    print('Precision: {:,.4f} %'.format(precision_score(y_true, prediction, average='weighted') * 100))\n",
    "    print('Recall-score: {:,.4f}'.format(recall_score(y_true, prediction, average='weighted') * 100))\n",
    "    print('F1-score: {:,.4f}'.format(f1_score(y_true, prediction, average='weighted') * 100))"
   ]
  },
  {
   "cell_type": "code",
   "execution_count": 21,
   "id": "impressed-mainstream",
   "metadata": {},
   "outputs": [],
   "source": [
    "from sklearn.naive_bayes import GaussianNB\n",
    "from sklearn.neighbors import KNeighborsClassifier\n",
    "from sklearn.linear_model import LogisticRegression\n",
    "from sklearn.tree import DecisionTreeClassifier\n",
    "from sklearn.ensemble import RandomForestClassifier\n",
    "from sklearn.ensemble import AdaBoostClassifier"
   ]
  },
  {
   "cell_type": "markdown",
   "id": "printable-necessity",
   "metadata": {},
   "source": [
    "### Logistic Regression"
   ]
  },
  {
   "cell_type": "code",
   "execution_count": 22,
   "id": "thorough-hopkins",
   "metadata": {},
   "outputs": [],
   "source": [
    "ln = LogisticRegression()"
   ]
  },
  {
   "cell_type": "code",
   "execution_count": 25,
   "id": "noble-chicago",
   "metadata": {},
   "outputs": [
    {
     "data": {
      "text/plain": [
       "LogisticRegression()"
      ]
     },
     "execution_count": 25,
     "metadata": {},
     "output_type": "execute_result"
    }
   ],
   "source": [
    "ln.fit(features_train,labels_train)"
   ]
  },
  {
   "cell_type": "code",
   "execution_count": 26,
   "id": "exact-capitol",
   "metadata": {},
   "outputs": [
    {
     "name": "stdout",
     "output_type": "stream",
     "text": [
      "        ----------Classification Report Of Classes-------------\n",
      "              precision    recall  f1-score   support\n",
      "\n",
      "           0       0.00      0.00      0.00       109\n",
      "           1       0.00      0.00      0.00         2\n",
      "           3       0.00      0.00      0.00         6\n",
      "           4       0.99      0.59      0.74       627\n",
      "           5       0.00      0.00      0.00         2\n",
      "           8       0.98      1.00      0.99     53123\n",
      "           9       0.00      0.00      0.00       105\n",
      "          10       1.00      0.99      0.99    194326\n",
      "          12       0.00      0.00      0.00        14\n",
      "          13       0.24      0.04      0.06       557\n",
      "          14       0.00      0.00      0.00         1\n",
      "          15       0.40      0.88      0.55       777\n",
      "          16       0.99      1.00      1.00    139354\n",
      "          17       0.00      0.00      0.00        43\n",
      "          18       0.00      0.00      0.00        65\n",
      "          19       0.00      0.00      0.00         2\n",
      "\n",
      "    accuracy                           0.99    389113\n",
      "   macro avg       0.29      0.28      0.27    389113\n",
      "weighted avg       0.99      0.99      0.99    389113\n",
      "\n",
      "\n",
      "        ----------Validation Data------------------\n",
      "Accuarcy: 98.97047901252336\n",
      "Precision: 98.9341 %\n",
      "Recall-score: 98.9705\n",
      "F1-score: 98.9125\n"
     ]
    }
   ],
   "source": [
    "predict = ln.predict(features_test)\n",
    "report(predict,labels_test)"
   ]
  },
  {
   "cell_type": "markdown",
   "id": "recognized-description",
   "metadata": {},
   "source": [
    "### GaussianNB"
   ]
  },
  {
   "cell_type": "code",
   "execution_count": 27,
   "id": "flexible-lingerie",
   "metadata": {},
   "outputs": [],
   "source": [
    "nb = GaussianNB()"
   ]
  },
  {
   "cell_type": "code",
   "execution_count": 28,
   "id": "intellectual-angel",
   "metadata": {},
   "outputs": [
    {
     "data": {
      "text/plain": [
       "GaussianNB()"
      ]
     },
     "execution_count": 28,
     "metadata": {},
     "output_type": "execute_result"
    }
   ],
   "source": [
    "nb.fit(features_train,labels_train)"
   ]
  },
  {
   "cell_type": "code",
   "execution_count": 29,
   "id": "wooden-organ",
   "metadata": {},
   "outputs": [
    {
     "name": "stdout",
     "output_type": "stream",
     "text": [
      "        ----------Classification Report Of Classes-------------\n",
      "              precision    recall  f1-score   support\n",
      "\n",
      "           0       1.00      0.95      0.98       109\n",
      "           1       0.50      1.00      0.67         2\n",
      "           2       0.00      0.00      0.00         0\n",
      "           3       1.00      0.83      0.91         6\n",
      "           4       0.05      1.00      0.10       627\n",
      "           5       1.00      1.00      1.00         2\n",
      "           7       0.00      0.00      0.00         0\n",
      "           8       1.00      1.00      1.00     53123\n",
      "           9       0.01      0.57      0.01       105\n",
      "          10       1.00      0.84      0.91    194326\n",
      "          12       0.15      1.00      0.27        14\n",
      "          13       0.31      0.14      0.20       557\n",
      "          14       0.00      0.00      0.00         1\n",
      "          15       0.26      0.97      0.42       777\n",
      "          16       1.00      1.00      1.00    139354\n",
      "          17       1.00      1.00      1.00        43\n",
      "          18       0.01      0.92      0.01        65\n",
      "          19       0.00      1.00      0.00         2\n",
      "\n",
      "    accuracy                           0.92    389113\n",
      "   macro avg       0.46      0.74      0.47    389113\n",
      "weighted avg       1.00      0.92      0.95    389113\n",
      "\n",
      "\n",
      "        ----------Validation Data------------------\n",
      "Accuarcy: 91.84298648464585\n",
      "Precision: 99.5310 %\n",
      "Recall-score: 91.8430\n",
      "F1-score: 95.2146\n"
     ]
    }
   ],
   "source": [
    "predict = nb.predict(features_test)\n",
    "report(predict,labels_test)"
   ]
  },
  {
   "cell_type": "markdown",
   "id": "closing-magnitude",
   "metadata": {},
   "source": [
    "### AdaBoostClassifier"
   ]
  },
  {
   "cell_type": "code",
   "execution_count": 30,
   "id": "advanced-gardening",
   "metadata": {},
   "outputs": [],
   "source": [
    "ab = AdaBoostClassifier(n_estimators=100)"
   ]
  },
  {
   "cell_type": "code",
   "execution_count": 31,
   "id": "heated-feature",
   "metadata": {},
   "outputs": [
    {
     "data": {
      "text/plain": [
       "AdaBoostClassifier(n_estimators=100)"
      ]
     },
     "execution_count": 31,
     "metadata": {},
     "output_type": "execute_result"
    }
   ],
   "source": [
    "ab.fit(features_train,labels_train)"
   ]
  },
  {
   "cell_type": "code",
   "execution_count": 32,
   "id": "residential-laundry",
   "metadata": {},
   "outputs": [
    {
     "name": "stdout",
     "output_type": "stream",
     "text": [
      "        ----------Classification Report Of Classes-------------\n",
      "              precision    recall  f1-score   support\n",
      "\n",
      "           0       0.00      0.00      0.00       109\n",
      "           1       0.00      0.00      0.00         2\n",
      "           3       0.00      0.00      0.00         6\n",
      "           4       0.00      0.00      0.00       627\n",
      "           5       0.00      0.00      0.00         2\n",
      "           8       0.00      0.00      0.00     53123\n",
      "           9       0.00      0.00      0.00       105\n",
      "          10       0.98      0.99      0.99    194326\n",
      "          12       0.00      0.00      0.00        14\n",
      "          13       0.00      0.00      0.00       557\n",
      "          14       0.00      0.00      0.00         1\n",
      "          15       0.00      0.00      0.00       777\n",
      "          16       0.72      1.00      0.84    139354\n",
      "          17       1.00      1.00      1.00        43\n",
      "          18       0.00      0.00      0.00        65\n",
      "          19       0.00      0.00      0.00         2\n",
      "\n",
      "    accuracy                           0.85    389113\n",
      "   macro avg       0.17      0.19      0.18    389113\n",
      "weighted avg       0.75      0.85      0.79    389113\n",
      "\n",
      "\n",
      "        ----------Validation Data------------------\n",
      "Accuarcy: 85.42145854803104\n",
      "Precision: 75.0273 %\n",
      "Recall-score: 85.4215\n",
      "F1-score: 79.4206\n"
     ]
    }
   ],
   "source": [
    "predict = ab.predict(features_test)\n",
    "report(predict,labels_test)"
   ]
  },
  {
   "cell_type": "markdown",
   "id": "marine-attention",
   "metadata": {},
   "source": [
    "### Decision Tree Classifier"
   ]
  },
  {
   "cell_type": "code",
   "execution_count": 33,
   "id": "otherwise-flexibility",
   "metadata": {},
   "outputs": [],
   "source": [
    "dt = DecisionTreeClassifier()"
   ]
  },
  {
   "cell_type": "code",
   "execution_count": 34,
   "id": "moved-design",
   "metadata": {},
   "outputs": [
    {
     "data": {
      "text/plain": [
       "DecisionTreeClassifier()"
      ]
     },
     "execution_count": 34,
     "metadata": {},
     "output_type": "execute_result"
    }
   ],
   "source": [
    "dt.fit(features_train,labels_train)"
   ]
  },
  {
   "cell_type": "code",
   "execution_count": 35,
   "id": "characteristic-replacement",
   "metadata": {},
   "outputs": [
    {
     "name": "stdout",
     "output_type": "stream",
     "text": [
      "        ----------Classification Report Of Classes-------------\n",
      "              precision    recall  f1-score   support\n",
      "\n",
      "           0       1.00      0.98      0.99       109\n",
      "           1       0.50      0.50      0.50         2\n",
      "           2       0.00      0.00      0.00         0\n",
      "           3       1.00      0.83      0.91         6\n",
      "           4       1.00      1.00      1.00       627\n",
      "           5       1.00      0.50      0.67         2\n",
      "           8       1.00      1.00      1.00     53123\n",
      "           9       0.99      0.99      0.99       105\n",
      "          10       1.00      1.00      1.00    194326\n",
      "          12       1.00      1.00      1.00        14\n",
      "          13       0.99      1.00      0.99       557\n",
      "          14       0.00      0.00      0.00         1\n",
      "          15       0.99      0.99      0.99       777\n",
      "          16       1.00      1.00      1.00    139354\n",
      "          17       1.00      1.00      1.00        43\n",
      "          18       0.95      0.88      0.91        65\n",
      "          19       1.00      1.00      1.00         2\n",
      "\n",
      "    accuracy                           1.00    389113\n",
      "   macro avg       0.85      0.80      0.82    389113\n",
      "weighted avg       1.00      1.00      1.00    389113\n",
      "\n",
      "\n",
      "        ----------Validation Data------------------\n",
      "Accuarcy: 99.98972020981051\n",
      "Precision: 99.9897 %\n",
      "Recall-score: 99.9897\n",
      "F1-score: 99.9896\n"
     ]
    }
   ],
   "source": [
    "predict = dt.predict(features_test)\n",
    "report(predict,labels_test)"
   ]
  },
  {
   "cell_type": "markdown",
   "id": "modified-project",
   "metadata": {},
   "source": [
    "### RandomForestClassifier"
   ]
  },
  {
   "cell_type": "code",
   "execution_count": 36,
   "id": "annoying-vintage",
   "metadata": {},
   "outputs": [],
   "source": [
    "rf = RandomForestClassifier(n_estimators=100)"
   ]
  },
  {
   "cell_type": "code",
   "execution_count": 37,
   "id": "modified-denial",
   "metadata": {},
   "outputs": [
    {
     "data": {
      "text/plain": [
       "RandomForestClassifier()"
      ]
     },
     "execution_count": 37,
     "metadata": {},
     "output_type": "execute_result"
    }
   ],
   "source": [
    "rf.fit(features_train,labels_train)"
   ]
  },
  {
   "cell_type": "code",
   "execution_count": 38,
   "id": "compressed-workplace",
   "metadata": {},
   "outputs": [
    {
     "name": "stdout",
     "output_type": "stream",
     "text": [
      "        ----------Classification Report Of Classes-------------\n",
      "              precision    recall  f1-score   support\n",
      "\n",
      "           0       1.00      0.98      0.99       109\n",
      "           1       1.00      0.50      0.67         2\n",
      "           3       1.00      0.83      0.91         6\n",
      "           4       1.00      1.00      1.00       627\n",
      "           5       0.00      0.00      0.00         2\n",
      "           8       1.00      1.00      1.00     53123\n",
      "           9       0.99      0.99      0.99       105\n",
      "          10       1.00      1.00      1.00    194326\n",
      "          12       1.00      1.00      1.00        14\n",
      "          13       1.00      1.00      1.00       557\n",
      "          14       0.00      0.00      0.00         1\n",
      "          15       1.00      0.99      0.99       777\n",
      "          16       1.00      1.00      1.00    139354\n",
      "          17       1.00      1.00      1.00        43\n",
      "          18       1.00      0.88      0.93        65\n",
      "          19       1.00      1.00      1.00         2\n",
      "\n",
      "    accuracy                           1.00    389113\n",
      "   macro avg       0.87      0.82      0.84    389113\n",
      "weighted avg       1.00      1.00      1.00    389113\n",
      "\n",
      "\n",
      "        ----------Validation Data------------------\n",
      "Accuarcy: 99.99203316260315\n",
      "Precision: 99.9913 %\n",
      "Recall-score: 99.9920\n",
      "F1-score: 99.9915\n"
     ]
    }
   ],
   "source": [
    "predict = rf.predict(features_test)\n",
    "report(predict,labels_test)"
   ]
  },
  {
   "cell_type": "code",
   "execution_count": null,
   "id": "personalized-ottawa",
   "metadata": {},
   "outputs": [],
   "source": []
  }
 ],
 "metadata": {
  "kernelspec": {
   "display_name": "Python 3",
   "language": "python",
   "name": "python3"
  },
  "language_info": {
   "codemirror_mode": {
    "name": "ipython",
    "version": 3
   },
   "file_extension": ".py",
   "mimetype": "text/x-python",
   "name": "python",
   "nbconvert_exporter": "python",
   "pygments_lexer": "ipython3",
   "version": "3.7.4"
  }
 },
 "nbformat": 4,
 "nbformat_minor": 5
}
