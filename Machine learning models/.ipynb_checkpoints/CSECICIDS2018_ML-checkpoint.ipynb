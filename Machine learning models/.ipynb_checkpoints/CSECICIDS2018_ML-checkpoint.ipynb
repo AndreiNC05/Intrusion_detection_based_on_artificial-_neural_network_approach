{
 "cells": [
  {
   "cell_type": "code",
   "execution_count": 1,
   "id": "cathedral-fiber",
   "metadata": {},
   "outputs": [],
   "source": [
    "import numpy as np # linear algebra\n",
    "import pandas as pd # data processing, CSV file I/O (e.g. pd.read_csv)\n",
    "import seaborn as sns\n",
    "import matplotlib.pyplot as plt\n",
    "import glob\n",
    "\n",
    "from sklearn.metrics import confusion_matrix\n",
    "import itertools\n",
    "\n",
    "from sklearn.metrics import make_scorer, accuracy_score, precision_score, recall_score, f1_score, confusion_matrix, classification_report\n",
    "\n",
    "import tensorflow as tf\n",
    "from tensorflow import keras\n",
    "from keras.models import Sequential\n",
    "from keras.layers import Dense, Flatten, Conv1D, MaxPool1D\n",
    "from keras.initializers import random_uniform\n",
    "from keras.layers.advanced_activations import LeakyReLU\n",
    "from keras.callbacks import EarlyStopping\n",
    "\n",
    "from sklearn.model_selection import train_test_split\n",
    "from sklearn.preprocessing import StandardScaler as SS\n",
    "\n",
    "from sklearn.model_selection import train_test_split\n",
    "from keras.models import Sequential\n",
    "from keras.preprocessing.text import Tokenizer\n",
    "from matplotlib import pyplot as plt\n",
    "from keras.preprocessing.sequence import pad_sequences\n",
    "from keras.layers import Embedding,Dense,LSTM,Dropout,Flatten,BatchNormalization,Conv1D,GlobalMaxPooling1D,MaxPooling1D\n",
    "from keras.optimizers import  SGD\n",
    "import matplotlib.pyplot as plt\n",
    "from keras.regularizers import l2\n",
    "from keras.optimizers import Adam\n",
    "from keras import regularizers\n",
    "from keras.callbacks import EarlyStopping\n",
    "from sklearn.preprocessing import OneHotEncoder\n",
    "from keras.preprocessing import sequence\n",
    "from keras.layers import SimpleRNN\n",
    "#from hyperas.distributions import uniform\n",
    "\n",
    "from keras.utils.np_utils import to_categorical\n",
    "from keras import regularizers\n",
    "import pandas as pd\n",
    "import string\n",
    "import numpy as np\n",
    "import matplotlib.pyplot as plt\n",
    "\n",
    "# import warnings\n",
    "import warnings\n",
    "# filter warnings\n",
    "warnings.filterwarnings('ignore')"
   ]
  },
  {
   "cell_type": "markdown",
   "id": "secret-serum",
   "metadata": {},
   "source": [
    "# Data import"
   ]
  },
  {
   "cell_type": "code",
   "execution_count": 2,
   "id": "convertible-browse",
   "metadata": {},
   "outputs": [],
   "source": [
    "dataset = pd.read_csv(r'...')  # use your path"
   ]
  },
  {
   "cell_type": "code",
   "execution_count": 3,
   "id": "grand-college",
   "metadata": {},
   "outputs": [
    {
     "data": {
      "text/html": [
       "<div>\n",
       "<style scoped>\n",
       "    .dataframe tbody tr th:only-of-type {\n",
       "        vertical-align: middle;\n",
       "    }\n",
       "\n",
       "    .dataframe tbody tr th {\n",
       "        vertical-align: top;\n",
       "    }\n",
       "\n",
       "    .dataframe thead th {\n",
       "        text-align: right;\n",
       "    }\n",
       "</style>\n",
       "<table border=\"1\" class=\"dataframe\">\n",
       "  <thead>\n",
       "    <tr style=\"text-align: right;\">\n",
       "      <th></th>\n",
       "      <th>DstPort</th>\n",
       "      <th>FlowDuration</th>\n",
       "      <th>TotFwdPkts</th>\n",
       "      <th>TotBwdPkts</th>\n",
       "      <th>TotLenFwdPkts</th>\n",
       "      <th>TotLenBwdPkts</th>\n",
       "      <th>FwdPktLenMax</th>\n",
       "      <th>FwdPktLenMin</th>\n",
       "      <th>FwdPktLenMean</th>\n",
       "      <th>FwdPktLenStd</th>\n",
       "      <th>...</th>\n",
       "      <th>FwdSegSizeMin</th>\n",
       "      <th>ActiveMean</th>\n",
       "      <th>ActiveStd</th>\n",
       "      <th>ActiveMax</th>\n",
       "      <th>ActiveMin</th>\n",
       "      <th>IdleMean</th>\n",
       "      <th>IdleStd</th>\n",
       "      <th>IdleMax</th>\n",
       "      <th>IdleMin</th>\n",
       "      <th>Label</th>\n",
       "    </tr>\n",
       "  </thead>\n",
       "  <tbody>\n",
       "    <tr>\n",
       "      <th>0</th>\n",
       "      <td>53.0</td>\n",
       "      <td>1457.0</td>\n",
       "      <td>1.0</td>\n",
       "      <td>1.0</td>\n",
       "      <td>34.0</td>\n",
       "      <td>121.0</td>\n",
       "      <td>34.0</td>\n",
       "      <td>34.0</td>\n",
       "      <td>34.000000</td>\n",
       "      <td>0.000000</td>\n",
       "      <td>...</td>\n",
       "      <td>8.0</td>\n",
       "      <td>0.0</td>\n",
       "      <td>0.0</td>\n",
       "      <td>0.0</td>\n",
       "      <td>0.0</td>\n",
       "      <td>0.0</td>\n",
       "      <td>0.0</td>\n",
       "      <td>0.0</td>\n",
       "      <td>0.0</td>\n",
       "      <td>Benign</td>\n",
       "    </tr>\n",
       "    <tr>\n",
       "      <th>1</th>\n",
       "      <td>53.0</td>\n",
       "      <td>19128.0</td>\n",
       "      <td>1.0</td>\n",
       "      <td>1.0</td>\n",
       "      <td>52.0</td>\n",
       "      <td>112.0</td>\n",
       "      <td>52.0</td>\n",
       "      <td>52.0</td>\n",
       "      <td>52.000000</td>\n",
       "      <td>0.000000</td>\n",
       "      <td>...</td>\n",
       "      <td>8.0</td>\n",
       "      <td>0.0</td>\n",
       "      <td>0.0</td>\n",
       "      <td>0.0</td>\n",
       "      <td>0.0</td>\n",
       "      <td>0.0</td>\n",
       "      <td>0.0</td>\n",
       "      <td>0.0</td>\n",
       "      <td>0.0</td>\n",
       "      <td>Benign</td>\n",
       "    </tr>\n",
       "    <tr>\n",
       "      <th>2</th>\n",
       "      <td>53.0</td>\n",
       "      <td>713.0</td>\n",
       "      <td>1.0</td>\n",
       "      <td>1.0</td>\n",
       "      <td>32.0</td>\n",
       "      <td>60.0</td>\n",
       "      <td>32.0</td>\n",
       "      <td>32.0</td>\n",
       "      <td>32.000000</td>\n",
       "      <td>0.000000</td>\n",
       "      <td>...</td>\n",
       "      <td>8.0</td>\n",
       "      <td>0.0</td>\n",
       "      <td>0.0</td>\n",
       "      <td>0.0</td>\n",
       "      <td>0.0</td>\n",
       "      <td>0.0</td>\n",
       "      <td>0.0</td>\n",
       "      <td>0.0</td>\n",
       "      <td>0.0</td>\n",
       "      <td>Benign</td>\n",
       "    </tr>\n",
       "    <tr>\n",
       "      <th>3</th>\n",
       "      <td>3389.0</td>\n",
       "      <td>6949770.0</td>\n",
       "      <td>12.0</td>\n",
       "      <td>7.0</td>\n",
       "      <td>1052.0</td>\n",
       "      <td>1429.0</td>\n",
       "      <td>581.0</td>\n",
       "      <td>0.0</td>\n",
       "      <td>87.666667</td>\n",
       "      <td>169.503732</td>\n",
       "      <td>...</td>\n",
       "      <td>20.0</td>\n",
       "      <td>0.0</td>\n",
       "      <td>0.0</td>\n",
       "      <td>0.0</td>\n",
       "      <td>0.0</td>\n",
       "      <td>0.0</td>\n",
       "      <td>0.0</td>\n",
       "      <td>0.0</td>\n",
       "      <td>0.0</td>\n",
       "      <td>Benign</td>\n",
       "    </tr>\n",
       "    <tr>\n",
       "      <th>4</th>\n",
       "      <td>80.0</td>\n",
       "      <td>80.0</td>\n",
       "      <td>2.0</td>\n",
       "      <td>0.0</td>\n",
       "      <td>0.0</td>\n",
       "      <td>0.0</td>\n",
       "      <td>0.0</td>\n",
       "      <td>0.0</td>\n",
       "      <td>0.000000</td>\n",
       "      <td>0.000000</td>\n",
       "      <td>...</td>\n",
       "      <td>20.0</td>\n",
       "      <td>0.0</td>\n",
       "      <td>0.0</td>\n",
       "      <td>0.0</td>\n",
       "      <td>0.0</td>\n",
       "      <td>0.0</td>\n",
       "      <td>0.0</td>\n",
       "      <td>0.0</td>\n",
       "      <td>0.0</td>\n",
       "      <td>Benign</td>\n",
       "    </tr>\n",
       "  </tbody>\n",
       "</table>\n",
       "<p>5 rows × 78 columns</p>\n",
       "</div>"
      ],
      "text/plain": [
       "   DstPort  FlowDuration  TotFwdPkts  TotBwdPkts  TotLenFwdPkts  \\\n",
       "0     53.0        1457.0         1.0         1.0           34.0   \n",
       "1     53.0       19128.0         1.0         1.0           52.0   \n",
       "2     53.0         713.0         1.0         1.0           32.0   \n",
       "3   3389.0     6949770.0        12.0         7.0         1052.0   \n",
       "4     80.0          80.0         2.0         0.0            0.0   \n",
       "\n",
       "   TotLenBwdPkts  FwdPktLenMax  FwdPktLenMin  FwdPktLenMean  FwdPktLenStd  \\\n",
       "0          121.0          34.0          34.0      34.000000      0.000000   \n",
       "1          112.0          52.0          52.0      52.000000      0.000000   \n",
       "2           60.0          32.0          32.0      32.000000      0.000000   \n",
       "3         1429.0         581.0           0.0      87.666667    169.503732   \n",
       "4            0.0           0.0           0.0       0.000000      0.000000   \n",
       "\n",
       "   ...  FwdSegSizeMin  ActiveMean  ActiveStd  ActiveMax  ActiveMin  IdleMean  \\\n",
       "0  ...            8.0         0.0        0.0        0.0        0.0       0.0   \n",
       "1  ...            8.0         0.0        0.0        0.0        0.0       0.0   \n",
       "2  ...            8.0         0.0        0.0        0.0        0.0       0.0   \n",
       "3  ...           20.0         0.0        0.0        0.0        0.0       0.0   \n",
       "4  ...           20.0         0.0        0.0        0.0        0.0       0.0   \n",
       "\n",
       "   IdleStd  IdleMax  IdleMin   Label  \n",
       "0      0.0      0.0      0.0  Benign  \n",
       "1      0.0      0.0      0.0  Benign  \n",
       "2      0.0      0.0      0.0  Benign  \n",
       "3      0.0      0.0      0.0  Benign  \n",
       "4      0.0      0.0      0.0  Benign  \n",
       "\n",
       "[5 rows x 78 columns]"
      ]
     },
     "execution_count": 3,
     "metadata": {},
     "output_type": "execute_result"
    }
   ],
   "source": [
    "dataset.head()"
   ]
  },
  {
   "cell_type": "code",
   "execution_count": 4,
   "id": "egyptian-causing",
   "metadata": {},
   "outputs": [
    {
     "data": {
      "text/plain": [
       "(4524858, 78)"
      ]
     },
     "execution_count": 4,
     "metadata": {},
     "output_type": "execute_result"
    }
   ],
   "source": [
    "dataset.shape"
   ]
  },
  {
   "cell_type": "code",
   "execution_count": 5,
   "id": "billion-carbon",
   "metadata": {},
   "outputs": [],
   "source": [
    "# Splitting dataset into features and labels.\n",
    "labels = dataset['Label']\n",
    "features = dataset.loc[:, dataset.columns != 'Label'].astype('float64')"
   ]
  },
  {
   "cell_type": "code",
   "execution_count": 6,
   "id": "medium-execution",
   "metadata": {},
   "outputs": [],
   "source": [
    "# For scaling the data, we use RobustScaler class from sklearn.\n",
    "\n",
    "from sklearn.preprocessing import MinMaxScaler, StandardScaler, RobustScaler"
   ]
  },
  {
   "cell_type": "code",
   "execution_count": 7,
   "id": "lyric-yukon",
   "metadata": {},
   "outputs": [],
   "source": [
    "scaler = RobustScaler()\n",
    "scaler.fit(features)\n",
    "\n",
    "features = scaler.transform(features)"
   ]
  },
  {
   "cell_type": "code",
   "execution_count": 8,
   "id": "continental-native",
   "metadata": {},
   "outputs": [],
   "source": [
    "from sklearn.preprocessing import LabelEncoder"
   ]
  },
  {
   "cell_type": "code",
   "execution_count": 9,
   "id": "dried-lounge",
   "metadata": {},
   "outputs": [],
   "source": [
    "LE = LabelEncoder()\n",
    "\n",
    "LE.fit(labels)\n",
    "labels = LE.transform(labels)"
   ]
  },
  {
   "cell_type": "code",
   "execution_count": 10,
   "id": "active-casino",
   "metadata": {},
   "outputs": [
    {
     "data": {
      "text/plain": [
       "array([ 0,  1,  2,  3,  4,  5,  6,  7,  8,  9, 10, 11, 12, 13, 14])"
      ]
     },
     "execution_count": 10,
     "metadata": {},
     "output_type": "execute_result"
    }
   ],
   "source": [
    "# Labels have been replaced with integers.\n",
    "\n",
    "np.unique(labels)"
   ]
  },
  {
   "cell_type": "code",
   "execution_count": 11,
   "id": "level-cornwall",
   "metadata": {},
   "outputs": [
    {
     "data": {
      "text/plain": [
       "array(['Benign', 'Bot', 'DoS_attacksSlowHTTPTest', 'DoS_attacksHulk',\n",
       "       'Brute_Force_Web', 'Brute_Force_XSS', 'SQL_Injection',\n",
       "       'Infilteration', 'DoS_attacksGoldenEye', 'DoS_attacksSlowloris',\n",
       "       'FTPBruteForce', 'SSHBruteforce', 'DDOS_attackLOICUDP',\n",
       "       'DDOS_attackHOIC', 'DDoS_attacksLOICHTTP'], dtype=object)"
      ]
     },
     "execution_count": 11,
     "metadata": {},
     "output_type": "execute_result"
    }
   ],
   "source": [
    "# Checking that encoding reversal works.\n",
    "\n",
    "d = LE.inverse_transform(labels)\n",
    "d = pd.Series(d)\n",
    "d.unique()\n"
   ]
  },
  {
   "cell_type": "markdown",
   "id": "regular-scholar",
   "metadata": {},
   "source": [
    "### Splitting the data"
   ]
  },
  {
   "cell_type": "code",
   "execution_count": 12,
   "id": "confirmed-glory",
   "metadata": {},
   "outputs": [],
   "source": [
    "from sklearn.model_selection import train_test_split"
   ]
  },
  {
   "cell_type": "code",
   "execution_count": null,
   "id": "pursuant-review",
   "metadata": {},
   "outputs": [],
   "source": [
    "# The next step is to split training and testing data. For this we will use sklearn function train_test_split().\n",
    "\n",
    "features_train, features_test, labels_train, labels_test = train_test_split(features, labels, test_size= 0.3,random_state=1)\n",
    "features_train.shape, labels_train.shape ,features_test.shape , labels_test.shape"
   ]
  },
  {
   "cell_type": "code",
   "execution_count": 14,
   "id": "quick-programming",
   "metadata": {},
   "outputs": [],
   "source": [
    "# this function has evaluation metrics\n",
    "def report(prediction, y_true):\n",
    "    print('        ----------Classification Report Of Classes-------------')\n",
    "    print(classification_report(y_true,prediction))\n",
    "    print('\\n        ----------Validation Data------------------')\n",
    "    print('Accuarcy:',accuracy_score(y_true, prediction)* 100)\n",
    "    print('Precision: {:,.4f} %'.format(precision_score(y_true, prediction, average='weighted') * 100))\n",
    "    print('Recall-score: {:,.4f}'.format(recall_score(y_true, prediction, average='weighted') * 100))\n",
    "    print('F1-score: {:,.4f}'.format(f1_score(y_true, prediction, average='weighted') * 100))"
   ]
  },
  {
   "cell_type": "code",
   "execution_count": 15,
   "id": "natural-bandwidth",
   "metadata": {},
   "outputs": [],
   "source": [
    "from sklearn.naive_bayes import GaussianNB\n",
    "from sklearn.neighbors import KNeighborsClassifier\n",
    "from sklearn.linear_model import LogisticRegression\n",
    "from sklearn.tree import DecisionTreeClassifier\n",
    "from sklearn.ensemble import RandomForestClassifier\n",
    "from sklearn.ensemble import AdaBoostClassifier"
   ]
  },
  {
   "cell_type": "markdown",
   "id": "large-paris",
   "metadata": {},
   "source": [
    "### Logistic Regression"
   ]
  },
  {
   "cell_type": "code",
   "execution_count": 16,
   "id": "republican-relationship",
   "metadata": {},
   "outputs": [],
   "source": [
    "ln = LogisticRegression()"
   ]
  },
  {
   "cell_type": "code",
   "execution_count": 17,
   "id": "earlier-rhythm",
   "metadata": {},
   "outputs": [
    {
     "data": {
      "text/plain": [
       "LogisticRegression()"
      ]
     },
     "execution_count": 17,
     "metadata": {},
     "output_type": "execute_result"
    }
   ],
   "source": [
    "ln.fit(features_train,labels_train)"
   ]
  },
  {
   "cell_type": "code",
   "execution_count": 18,
   "id": "sacred-assembly",
   "metadata": {},
   "outputs": [
    {
     "name": "stdout",
     "output_type": "stream",
     "text": [
      "        ----------Classification Report Of Classes-------------\n",
      "              precision    recall  f1-score   support\n",
      "\n",
      "           0       0.67      0.65      0.66    678303\n",
      "           1       0.00      0.00      0.00     83353\n",
      "           2       0.00      0.00      0.00       199\n",
      "           3       0.00      0.00      0.00        58\n",
      "           4       0.00      0.00      0.00    195833\n",
      "           5       0.01      1.00      0.02       512\n",
      "           6       0.04      0.06      0.05    172989\n",
      "           7       0.00      0.00      0.00     12403\n",
      "           8       1.00      0.01      0.01    123292\n",
      "           9       0.00      0.00      0.00      2066\n",
      "          10       0.00      0.02      0.00      2989\n",
      "          11       0.00      0.00      0.00      6001\n",
      "          12       0.03      0.00      0.00     48556\n",
      "          13       0.00      0.00      0.00        27\n",
      "          14       0.00      0.00      0.00     30877\n",
      "\n",
      "    accuracy                           0.33   1357458\n",
      "   macro avg       0.12      0.12      0.05   1357458\n",
      "weighted avg       0.43      0.33      0.34   1357458\n",
      "\n",
      "\n",
      "        ----------Validation Data------------------\n",
      "Accuarcy: 33.36788320522624\n",
      "Precision: 43.0026 %\n",
      "Recall-score: 33.3679\n",
      "F1-score: 33.6359\n"
     ]
    }
   ],
   "source": [
    "predict = ln.predict(features_test)\n",
    "report(predict,labels_test)"
   ]
  },
  {
   "cell_type": "markdown",
   "id": "material-motel",
   "metadata": {},
   "source": [
    "### GaussianNB"
   ]
  },
  {
   "cell_type": "code",
   "execution_count": 19,
   "id": "metropolitan-general",
   "metadata": {},
   "outputs": [],
   "source": [
    "nb = GaussianNB()"
   ]
  },
  {
   "cell_type": "code",
   "execution_count": 20,
   "id": "major-polyester",
   "metadata": {},
   "outputs": [
    {
     "data": {
      "text/plain": [
       "GaussianNB()"
      ]
     },
     "execution_count": 20,
     "metadata": {},
     "output_type": "execute_result"
    }
   ],
   "source": [
    "nb.fit(features_train,labels_train)"
   ]
  },
  {
   "cell_type": "code",
   "execution_count": 21,
   "id": "varied-hands",
   "metadata": {},
   "outputs": [
    {
     "name": "stdout",
     "output_type": "stream",
     "text": [
      "        ----------Classification Report Of Classes-------------\n",
      "              precision    recall  f1-score   support\n",
      "\n",
      "           0       0.94      0.00      0.00    678303\n",
      "           1       0.00      0.00      0.00     83353\n",
      "           2       0.03      0.24      0.05       199\n",
      "           3       0.00      0.00      0.00        58\n",
      "           4       0.17      1.00      0.29    195833\n",
      "           5       0.71      0.99      0.83       512\n",
      "           6       0.70      0.42      0.52    172989\n",
      "           7       0.00      0.00      0.00     12403\n",
      "           8       0.03      0.00      0.00    123292\n",
      "           9       0.00      0.00      0.00      2066\n",
      "          10       0.16      0.69      0.26      2989\n",
      "          11       0.00      0.00      0.00      6001\n",
      "          12       0.11      0.03      0.05     48556\n",
      "          13       0.00      0.00      0.00        27\n",
      "          14       0.00      0.00      0.00     30877\n",
      "\n",
      "    accuracy                           0.20   1357458\n",
      "   macro avg       0.19      0.23      0.13   1357458\n",
      "weighted avg       0.59      0.20      0.11   1357458\n",
      "\n",
      "\n",
      "        ----------Validation Data------------------\n",
      "Accuarcy: 20.10426841935441\n",
      "Precision: 59.3035 %\n",
      "Recall-score: 20.1043\n",
      "F1-score: 11.1904\n"
     ]
    }
   ],
   "source": [
    "predict = nb.predict(features_test)\n",
    "report(predict,labels_test)"
   ]
  },
  {
   "cell_type": "markdown",
   "id": "needed-planner",
   "metadata": {},
   "source": [
    "### AdaBoostClassifier"
   ]
  },
  {
   "cell_type": "code",
   "execution_count": 22,
   "id": "modern-orlando",
   "metadata": {},
   "outputs": [],
   "source": [
    "ab = AdaBoostClassifier(n_estimators=100)"
   ]
  },
  {
   "cell_type": "code",
   "execution_count": 23,
   "id": "medical-philadelphia",
   "metadata": {},
   "outputs": [
    {
     "data": {
      "text/plain": [
       "AdaBoostClassifier(n_estimators=100)"
      ]
     },
     "execution_count": 23,
     "metadata": {},
     "output_type": "execute_result"
    }
   ],
   "source": [
    "ab.fit(features_train,labels_train)"
   ]
  },
  {
   "cell_type": "code",
   "execution_count": 24,
   "id": "thrown-endorsement",
   "metadata": {},
   "outputs": [
    {
     "name": "stdout",
     "output_type": "stream",
     "text": [
      "        ----------Classification Report Of Classes-------------\n",
      "              precision    recall  f1-score   support\n",
      "\n",
      "           0       0.50      1.00      0.67    678303\n",
      "           1       0.00      0.00      0.00     83353\n",
      "           2       0.00      0.00      0.00       199\n",
      "           3       0.00      0.00      0.00        58\n",
      "           4       0.00      0.00      0.00    195833\n",
      "           5       0.67      1.00      0.80       512\n",
      "           6       0.00      0.00      0.00    172989\n",
      "           7       0.00      0.00      0.00     12403\n",
      "           8       0.00      0.00      0.00    123292\n",
      "           9       0.00      0.00      0.00      2066\n",
      "          10       0.00      0.00      0.00      2989\n",
      "          11       0.00      0.00      0.00      6001\n",
      "          12       0.00      0.00      0.00     48556\n",
      "          13       0.00      0.00      0.00        27\n",
      "          14       0.00      0.00      0.00     30877\n",
      "\n",
      "    accuracy                           0.50   1357458\n",
      "   macro avg       0.08      0.13      0.10   1357458\n",
      "weighted avg       0.25      0.50      0.33   1357458\n",
      "\n",
      "\n",
      "        ----------Validation Data------------------\n",
      "Accuarcy: 50.00604070254844\n",
      "Precision: 25.0078 %\n",
      "Recall-score: 50.0060\n",
      "F1-score: 33.3410\n"
     ]
    }
   ],
   "source": [
    "predict = ab.predict(features_test)\n",
    "report(predict,labels_test)"
   ]
  },
  {
   "cell_type": "markdown",
   "id": "challenging-internet",
   "metadata": {},
   "source": [
    "### Decision Tree Classifier"
   ]
  },
  {
   "cell_type": "code",
   "execution_count": 25,
   "id": "stretch-feeling",
   "metadata": {},
   "outputs": [],
   "source": [
    "dt = DecisionTreeClassifier()"
   ]
  },
  {
   "cell_type": "code",
   "execution_count": 26,
   "id": "available-captain",
   "metadata": {},
   "outputs": [
    {
     "data": {
      "text/plain": [
       "DecisionTreeClassifier()"
      ]
     },
     "execution_count": 26,
     "metadata": {},
     "output_type": "execute_result"
    }
   ],
   "source": [
    "dt.fit(features_train,labels_train)"
   ]
  },
  {
   "cell_type": "code",
   "execution_count": 27,
   "id": "surprising-refrigerator",
   "metadata": {},
   "outputs": [
    {
     "name": "stdout",
     "output_type": "stream",
     "text": [
      "        ----------Classification Report Of Classes-------------\n",
      "              precision    recall  f1-score   support\n",
      "\n",
      "           0       0.95      0.96      0.96    678303\n",
      "           1       1.00      1.00      1.00     83353\n",
      "           2       0.81      0.84      0.83       199\n",
      "           3       0.84      0.90      0.87        58\n",
      "           4       1.00      1.00      1.00    195833\n",
      "           5       0.86      0.88      0.87       512\n",
      "           6       1.00      1.00      1.00    172989\n",
      "           7       1.00      1.00      1.00     12403\n",
      "           8       1.00      1.00      1.00    123292\n",
      "           9       0.65      0.49      0.56      2066\n",
      "          10       1.00      1.00      1.00      2989\n",
      "          11       0.84      0.91      0.87      6001\n",
      "          12       0.42      0.36      0.39     48556\n",
      "          13       0.77      0.63      0.69        27\n",
      "          14       1.00      1.00      1.00     30877\n",
      "\n",
      "    accuracy                           0.96   1357458\n",
      "   macro avg       0.88      0.86      0.87   1357458\n",
      "weighted avg       0.96      0.96      0.96   1357458\n",
      "\n",
      "\n",
      "        ----------Validation Data------------------\n",
      "Accuarcy: 95.79935438149836\n",
      "Precision: 95.5143 %\n",
      "Recall-score: 95.7994\n",
      "F1-score: 95.6447\n"
     ]
    }
   ],
   "source": [
    "predict = dt.predict(features_test)\n",
    "report(predict,labels_test)"
   ]
  },
  {
   "cell_type": "markdown",
   "id": "potential-blond",
   "metadata": {},
   "source": [
    "### RandomForestClassifier"
   ]
  },
  {
   "cell_type": "code",
   "execution_count": 28,
   "id": "pursuant-palace",
   "metadata": {},
   "outputs": [],
   "source": [
    "rf = RandomForestClassifier(n_estimators=100)"
   ]
  },
  {
   "cell_type": "code",
   "execution_count": 29,
   "id": "unlike-government",
   "metadata": {},
   "outputs": [
    {
     "data": {
      "text/plain": [
       "RandomForestClassifier()"
      ]
     },
     "execution_count": 29,
     "metadata": {},
     "output_type": "execute_result"
    }
   ],
   "source": [
    "rf.fit(features_train,labels_train)"
   ]
  },
  {
   "cell_type": "code",
   "execution_count": 30,
   "id": "adjacent-patio",
   "metadata": {},
   "outputs": [
    {
     "name": "stdout",
     "output_type": "stream",
     "text": [
      "        ----------Classification Report Of Classes-------------\n",
      "              precision    recall  f1-score   support\n",
      "\n",
      "           0       0.95      0.98      0.97    678303\n",
      "           1       1.00      1.00      1.00     83353\n",
      "           2       0.89      0.66      0.76       199\n",
      "           3       0.88      0.72      0.79        58\n",
      "           4       1.00      1.00      1.00    195833\n",
      "           5       0.86      0.95      0.90       512\n",
      "           6       1.00      1.00      1.00    172989\n",
      "           7       1.00      1.00      1.00     12403\n",
      "           8       1.00      1.00      1.00    123292\n",
      "           9       0.65      0.49      0.56      2066\n",
      "          10       1.00      1.00      1.00      2989\n",
      "          11       0.84      0.91      0.87      6001\n",
      "          12       0.55      0.32      0.41     48556\n",
      "          13       0.85      0.41      0.55        27\n",
      "          14       1.00      1.00      1.00     30877\n",
      "\n",
      "    accuracy                           0.96   1357458\n",
      "   macro avg       0.90      0.83      0.85   1357458\n",
      "weighted avg       0.96      0.96      0.96   1357458\n",
      "\n",
      "\n",
      "        ----------Validation Data------------------\n",
      "Accuarcy: 96.47502906167263\n",
      "Precision: 95.8783 %\n",
      "Recall-score: 96.4750\n",
      "F1-score: 96.0632\n"
     ]
    }
   ],
   "source": [
    "predict = rf.predict(features_test)\n",
    "report(predict,labels_test)"
   ]
  },
  {
   "cell_type": "code",
   "execution_count": null,
   "id": "remarkable-momentum",
   "metadata": {},
   "outputs": [],
   "source": []
  }
 ],
 "metadata": {
  "kernelspec": {
   "display_name": "Python 3",
   "language": "python",
   "name": "python3"
  },
  "language_info": {
   "codemirror_mode": {
    "name": "ipython",
    "version": 3
   },
   "file_extension": ".py",
   "mimetype": "text/x-python",
   "name": "python",
   "nbconvert_exporter": "python",
   "pygments_lexer": "ipython3",
   "version": "3.7.4"
  }
 },
 "nbformat": 4,
 "nbformat_minor": 5
}
