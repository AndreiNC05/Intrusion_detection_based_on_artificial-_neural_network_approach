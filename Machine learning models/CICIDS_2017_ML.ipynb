{
 "cells": [
  {
   "cell_type": "code",
   "execution_count": 1,
   "id": "identical-wyoming",
   "metadata": {},
   "outputs": [],
   "source": [
    "import numpy as np # linear algebra\n",
    "import pandas as pd # data processing, CSV file I/O (e.g. pd.read_csv)\n",
    "import seaborn as sns\n",
    "import matplotlib.pyplot as plt\n",
    "import glob\n",
    "\n",
    "from sklearn.metrics import confusion_matrix\n",
    "import itertools\n",
    "\n",
    "from sklearn.metrics import make_scorer, accuracy_score, precision_score, recall_score, f1_score, confusion_matrix, classification_report\n",
    "\n",
    "import tensorflow as tf\n",
    "from tensorflow import keras\n",
    "from keras.models import Sequential\n",
    "from keras.layers import Dense, Flatten, Conv1D, MaxPool1D\n",
    "from keras.initializers import random_uniform\n",
    "from keras.layers.advanced_activations import LeakyReLU\n",
    "from keras.callbacks import EarlyStopping\n",
    "\n",
    "from sklearn.model_selection import train_test_split\n",
    "from sklearn.preprocessing import StandardScaler as SS\n",
    "\n",
    "from sklearn.model_selection import train_test_split\n",
    "from keras.models import Sequential\n",
    "from keras.preprocessing.text import Tokenizer\n",
    "from matplotlib import pyplot as plt\n",
    "from keras.preprocessing.sequence import pad_sequences\n",
    "from keras.layers import Embedding,Dense,LSTM,Dropout,Flatten,BatchNormalization,Conv1D,GlobalMaxPooling1D,MaxPooling1D\n",
    "from keras.optimizers import  SGD\n",
    "import matplotlib.pyplot as plt\n",
    "from keras.regularizers import l2\n",
    "from keras.optimizers import Adam\n",
    "from keras import regularizers\n",
    "from keras.callbacks import EarlyStopping\n",
    "from sklearn.preprocessing import OneHotEncoder\n",
    "from keras.preprocessing import sequence\n",
    "from keras.layers import SimpleRNN\n",
    "#from hyperas.distributions import uniform\n",
    "\n",
    "from keras.utils.np_utils import to_categorical\n",
    "from keras import regularizers\n",
    "import pandas as pd\n",
    "import string\n",
    "import numpy as np\n",
    "import matplotlib.pyplot as plt\n",
    "\n",
    "# import warnings\n",
    "import warnings\n",
    "# filter warnings\n",
    "warnings.filterwarnings('ignore')"
   ]
  },
  {
   "cell_type": "markdown",
   "id": "heavy-failing",
   "metadata": {},
   "source": [
    "# Data import"
   ]
  },
  {
   "cell_type": "code",
   "execution_count": 2,
   "id": "perfect-completion",
   "metadata": {},
   "outputs": [],
   "source": [
    "dataset = pd.read_csv(r'..')  # use your path"
   ]
  },
  {
   "cell_type": "code",
   "execution_count": 3,
   "id": "printable-healthcare",
   "metadata": {},
   "outputs": [
    {
     "data": {
      "text/html": [
       "<div>\n",
       "<style scoped>\n",
       "    .dataframe tbody tr th:only-of-type {\n",
       "        vertical-align: middle;\n",
       "    }\n",
       "\n",
       "    .dataframe tbody tr th {\n",
       "        vertical-align: top;\n",
       "    }\n",
       "\n",
       "    .dataframe thead th {\n",
       "        text-align: right;\n",
       "    }\n",
       "</style>\n",
       "<table border=\"1\" class=\"dataframe\">\n",
       "  <thead>\n",
       "    <tr style=\"text-align: right;\">\n",
       "      <th></th>\n",
       "      <th>DestinationPort</th>\n",
       "      <th>FlowDuration</th>\n",
       "      <th>TotalFwdPackets</th>\n",
       "      <th>TotalBackwardPackets</th>\n",
       "      <th>TotalLengthofFwdPackets</th>\n",
       "      <th>TotalLengthofBwdPackets</th>\n",
       "      <th>FwdPacketLengthMax</th>\n",
       "      <th>FwdPacketLengthMin</th>\n",
       "      <th>FwdPacketLengthMean</th>\n",
       "      <th>FwdPacketLengthStd</th>\n",
       "      <th>...</th>\n",
       "      <th>min_seg_size_forward</th>\n",
       "      <th>ActiveMean</th>\n",
       "      <th>ActiveStd</th>\n",
       "      <th>ActiveMax</th>\n",
       "      <th>ActiveMin</th>\n",
       "      <th>IdleMean</th>\n",
       "      <th>IdleStd</th>\n",
       "      <th>IdleMax</th>\n",
       "      <th>IdleMin</th>\n",
       "      <th>Label</th>\n",
       "    </tr>\n",
       "  </thead>\n",
       "  <tbody>\n",
       "    <tr>\n",
       "      <th>0</th>\n",
       "      <td>80.0</td>\n",
       "      <td>1293792.0</td>\n",
       "      <td>3.0</td>\n",
       "      <td>7.0</td>\n",
       "      <td>26.0</td>\n",
       "      <td>11607.0</td>\n",
       "      <td>20.0</td>\n",
       "      <td>0.0</td>\n",
       "      <td>8.666667</td>\n",
       "      <td>10.263203</td>\n",
       "      <td>...</td>\n",
       "      <td>20.0</td>\n",
       "      <td>0.0</td>\n",
       "      <td>0.0</td>\n",
       "      <td>0.0</td>\n",
       "      <td>0.0</td>\n",
       "      <td>0.0</td>\n",
       "      <td>0.0</td>\n",
       "      <td>0.0</td>\n",
       "      <td>0.0</td>\n",
       "      <td>DDoS</td>\n",
       "    </tr>\n",
       "    <tr>\n",
       "      <th>1</th>\n",
       "      <td>80.0</td>\n",
       "      <td>4421382.0</td>\n",
       "      <td>4.0</td>\n",
       "      <td>0.0</td>\n",
       "      <td>24.0</td>\n",
       "      <td>0.0</td>\n",
       "      <td>6.0</td>\n",
       "      <td>6.0</td>\n",
       "      <td>6.000000</td>\n",
       "      <td>0.000000</td>\n",
       "      <td>...</td>\n",
       "      <td>20.0</td>\n",
       "      <td>0.0</td>\n",
       "      <td>0.0</td>\n",
       "      <td>0.0</td>\n",
       "      <td>0.0</td>\n",
       "      <td>0.0</td>\n",
       "      <td>0.0</td>\n",
       "      <td>0.0</td>\n",
       "      <td>0.0</td>\n",
       "      <td>DDoS</td>\n",
       "    </tr>\n",
       "    <tr>\n",
       "      <th>2</th>\n",
       "      <td>80.0</td>\n",
       "      <td>1083538.0</td>\n",
       "      <td>3.0</td>\n",
       "      <td>6.0</td>\n",
       "      <td>26.0</td>\n",
       "      <td>11601.0</td>\n",
       "      <td>20.0</td>\n",
       "      <td>0.0</td>\n",
       "      <td>8.666667</td>\n",
       "      <td>10.263203</td>\n",
       "      <td>...</td>\n",
       "      <td>20.0</td>\n",
       "      <td>0.0</td>\n",
       "      <td>0.0</td>\n",
       "      <td>0.0</td>\n",
       "      <td>0.0</td>\n",
       "      <td>0.0</td>\n",
       "      <td>0.0</td>\n",
       "      <td>0.0</td>\n",
       "      <td>0.0</td>\n",
       "      <td>DDoS</td>\n",
       "    </tr>\n",
       "    <tr>\n",
       "      <th>3</th>\n",
       "      <td>80.0</td>\n",
       "      <td>80034360.0</td>\n",
       "      <td>8.0</td>\n",
       "      <td>4.0</td>\n",
       "      <td>56.0</td>\n",
       "      <td>11601.0</td>\n",
       "      <td>20.0</td>\n",
       "      <td>0.0</td>\n",
       "      <td>7.000000</td>\n",
       "      <td>5.656854</td>\n",
       "      <td>...</td>\n",
       "      <td>20.0</td>\n",
       "      <td>939.0</td>\n",
       "      <td>0.0</td>\n",
       "      <td>939.0</td>\n",
       "      <td>939.0</td>\n",
       "      <td>39300000.0</td>\n",
       "      <td>44200000.0</td>\n",
       "      <td>70600000.0</td>\n",
       "      <td>8072664.0</td>\n",
       "      <td>DDoS</td>\n",
       "    </tr>\n",
       "    <tr>\n",
       "      <th>4</th>\n",
       "      <td>80.0</td>\n",
       "      <td>642654.0</td>\n",
       "      <td>3.0</td>\n",
       "      <td>6.0</td>\n",
       "      <td>26.0</td>\n",
       "      <td>11607.0</td>\n",
       "      <td>20.0</td>\n",
       "      <td>0.0</td>\n",
       "      <td>8.666667</td>\n",
       "      <td>10.263203</td>\n",
       "      <td>...</td>\n",
       "      <td>20.0</td>\n",
       "      <td>0.0</td>\n",
       "      <td>0.0</td>\n",
       "      <td>0.0</td>\n",
       "      <td>0.0</td>\n",
       "      <td>0.0</td>\n",
       "      <td>0.0</td>\n",
       "      <td>0.0</td>\n",
       "      <td>0.0</td>\n",
       "      <td>DDoS</td>\n",
       "    </tr>\n",
       "  </tbody>\n",
       "</table>\n",
       "<p>5 rows × 79 columns</p>\n",
       "</div>"
      ],
      "text/plain": [
       "   DestinationPort  FlowDuration  TotalFwdPackets  TotalBackwardPackets  \\\n",
       "0             80.0     1293792.0              3.0                   7.0   \n",
       "1             80.0     4421382.0              4.0                   0.0   \n",
       "2             80.0     1083538.0              3.0                   6.0   \n",
       "3             80.0    80034360.0              8.0                   4.0   \n",
       "4             80.0      642654.0              3.0                   6.0   \n",
       "\n",
       "   TotalLengthofFwdPackets  TotalLengthofBwdPackets  FwdPacketLengthMax  \\\n",
       "0                     26.0                  11607.0                20.0   \n",
       "1                     24.0                      0.0                 6.0   \n",
       "2                     26.0                  11601.0                20.0   \n",
       "3                     56.0                  11601.0                20.0   \n",
       "4                     26.0                  11607.0                20.0   \n",
       "\n",
       "   FwdPacketLengthMin  FwdPacketLengthMean  FwdPacketLengthStd  ...  \\\n",
       "0                 0.0             8.666667           10.263203  ...   \n",
       "1                 6.0             6.000000            0.000000  ...   \n",
       "2                 0.0             8.666667           10.263203  ...   \n",
       "3                 0.0             7.000000            5.656854  ...   \n",
       "4                 0.0             8.666667           10.263203  ...   \n",
       "\n",
       "   min_seg_size_forward  ActiveMean  ActiveStd  ActiveMax  ActiveMin  \\\n",
       "0                  20.0         0.0        0.0        0.0        0.0   \n",
       "1                  20.0         0.0        0.0        0.0        0.0   \n",
       "2                  20.0         0.0        0.0        0.0        0.0   \n",
       "3                  20.0       939.0        0.0      939.0      939.0   \n",
       "4                  20.0         0.0        0.0        0.0        0.0   \n",
       "\n",
       "     IdleMean     IdleStd     IdleMax    IdleMin  Label  \n",
       "0         0.0         0.0         0.0        0.0   DDoS  \n",
       "1         0.0         0.0         0.0        0.0   DDoS  \n",
       "2         0.0         0.0         0.0        0.0   DDoS  \n",
       "3  39300000.0  44200000.0  70600000.0  8072664.0   DDoS  \n",
       "4         0.0         0.0         0.0        0.0   DDoS  \n",
       "\n",
       "[5 rows x 79 columns]"
      ]
     },
     "execution_count": 3,
     "metadata": {},
     "output_type": "execute_result"
    }
   ],
   "source": [
    "dataset.head()"
   ]
  },
  {
   "cell_type": "code",
   "execution_count": 4,
   "id": "mounted-fifty",
   "metadata": {},
   "outputs": [
    {
     "data": {
      "text/plain": [
       "(780444, 79)"
      ]
     },
     "execution_count": 4,
     "metadata": {},
     "output_type": "execute_result"
    }
   ],
   "source": [
    "dataset.shape"
   ]
  },
  {
   "cell_type": "code",
   "execution_count": 5,
   "id": "joined-integration",
   "metadata": {},
   "outputs": [],
   "source": [
    "# Splitting dataset into features and labels.\n",
    "labels = dataset['Label']\n",
    "features = dataset.loc[:, dataset.columns != 'Label'].astype('float64')"
   ]
  },
  {
   "cell_type": "code",
   "execution_count": 6,
   "id": "hybrid-reminder",
   "metadata": {},
   "outputs": [],
   "source": [
    "# For scaling the data, we use RobustScaler class from sklearn.\n",
    "\n",
    "from sklearn.preprocessing import MinMaxScaler, StandardScaler, RobustScaler"
   ]
  },
  {
   "cell_type": "code",
   "execution_count": 7,
   "id": "furnished-firmware",
   "metadata": {},
   "outputs": [],
   "source": [
    "scaler = RobustScaler()\n",
    "scaler.fit(features)\n",
    "\n",
    "features = scaler.transform(features)"
   ]
  },
  {
   "cell_type": "code",
   "execution_count": 8,
   "id": "ceramic-russia",
   "metadata": {},
   "outputs": [],
   "source": [
    "from sklearn.preprocessing import LabelEncoder"
   ]
  },
  {
   "cell_type": "code",
   "execution_count": 9,
   "id": "grand-audio",
   "metadata": {},
   "outputs": [],
   "source": [
    "LE = LabelEncoder()\n",
    "\n",
    "LE.fit(labels)\n",
    "labels = LE.transform(labels)"
   ]
  },
  {
   "cell_type": "code",
   "execution_count": 10,
   "id": "bronze-marker",
   "metadata": {},
   "outputs": [
    {
     "data": {
      "text/plain": [
       "array([ 0,  1,  2,  3,  4,  5,  6,  7,  8,  9, 10, 11, 12, 13, 14])"
      ]
     },
     "execution_count": 10,
     "metadata": {},
     "output_type": "execute_result"
    }
   ],
   "source": [
    "# Labels have been replaced with integers.\n",
    "\n",
    "np.unique(labels)"
   ]
  },
  {
   "cell_type": "code",
   "execution_count": 11,
   "id": "polished-sweden",
   "metadata": {},
   "outputs": [
    {
     "data": {
      "text/plain": [
       "array(['DDoS', 'PortScan', 'Bot', 'Infiltration',\n",
       "       'Web_Attack_Brute_Force', 'Web_Attack_XSS',\n",
       "       'Web_Attack_Sql_Injection', 'FTPPatator', 'SSHPatator',\n",
       "       'DoS_slowloris', 'DoS_Slowhttptest', 'DoS_Hulk', 'DoS_GoldenEye',\n",
       "       'Heartbleed', 'BENIGN'], dtype=object)"
      ]
     },
     "execution_count": 11,
     "metadata": {},
     "output_type": "execute_result"
    }
   ],
   "source": [
    "# Checking that encoding reversal works.\n",
    "\n",
    "d = LE.inverse_transform(labels)\n",
    "d = pd.Series(d)\n",
    "d.unique()\n"
   ]
  },
  {
   "cell_type": "markdown",
   "id": "selective-behalf",
   "metadata": {},
   "source": [
    "### Splitting the data"
   ]
  },
  {
   "cell_type": "code",
   "execution_count": 12,
   "id": "similar-ozone",
   "metadata": {},
   "outputs": [],
   "source": [
    "from sklearn.model_selection import train_test_split"
   ]
  },
  {
   "cell_type": "code",
   "execution_count": 13,
   "id": "horizontal-toddler",
   "metadata": {},
   "outputs": [],
   "source": [
    "# The next step is to split training and testing data. For this we will use sklearn function train_test_split().\n",
    "\n",
    "features_train, features_test, labels_train, labels_test = train_test_split(features, labels, test_size= 0.3,random_state=1)"
   ]
  },
  {
   "cell_type": "code",
   "execution_count": 14,
   "id": "opened-banner",
   "metadata": {},
   "outputs": [
    {
     "data": {
      "text/plain": [
       "((546310, 78), (546310,), (234134, 78), (234134,))"
      ]
     },
     "execution_count": 14,
     "metadata": {},
     "output_type": "execute_result"
    }
   ],
   "source": [
    "features_train.shape, labels_train.shape ,features_test.shape , labels_test.shape"
   ]
  },
  {
   "cell_type": "code",
   "execution_count": 15,
   "id": "complete-contrast",
   "metadata": {},
   "outputs": [],
   "source": [
    "# this function has evaluation metrics\n",
    "def report(prediction, y_true):\n",
    "    print('        ----------Classification Report Of Classes-------------')\n",
    "    print(classification_report(y_true,prediction))\n",
    "    print('\\n        ----------Validation Data------------------')\n",
    "    print('Accuarcy:',accuracy_score(y_true, prediction)* 100)\n",
    "    print('Precision: {:,.4f} %'.format(precision_score(y_true, prediction, average='weighted') * 100))\n",
    "    print('Recall-score: {:,.4f}'.format(recall_score(y_true, prediction, average='weighted') * 100))\n",
    "    print('F1-score: {:,.4f}'.format(f1_score(y_true, prediction, average='weighted') * 100))"
   ]
  },
  {
   "cell_type": "code",
   "execution_count": 17,
   "id": "presidential-scheduling",
   "metadata": {},
   "outputs": [],
   "source": [
    "from sklearn.naive_bayes import GaussianNB\n",
    "from sklearn.neighbors import KNeighborsClassifier\n",
    "from sklearn.linear_model import LogisticRegression\n",
    "from sklearn.tree import DecisionTreeClassifier\n",
    "from sklearn.ensemble import RandomForestClassifier\n",
    "from sklearn.ensemble import AdaBoostClassifier"
   ]
  },
  {
   "cell_type": "markdown",
   "id": "advanced-morgan",
   "metadata": {},
   "source": [
    "### Logistic Regression"
   ]
  },
  {
   "cell_type": "code",
   "execution_count": 18,
   "id": "respiratory-titanium",
   "metadata": {},
   "outputs": [],
   "source": [
    "ln = LogisticRegression()"
   ]
  },
  {
   "cell_type": "code",
   "execution_count": 19,
   "id": "narrow-credits",
   "metadata": {},
   "outputs": [
    {
     "data": {
      "text/plain": [
       "LogisticRegression()"
      ]
     },
     "execution_count": 19,
     "metadata": {},
     "output_type": "execute_result"
    }
   ],
   "source": [
    "ln.fit(features_train,labels_train)"
   ]
  },
  {
   "cell_type": "code",
   "execution_count": 20,
   "id": "intelligent-mentor",
   "metadata": {},
   "outputs": [
    {
     "name": "stdout",
     "output_type": "stream",
     "text": [
      "        ----------Classification Report Of Classes-------------\n",
      "              precision    recall  f1-score   support\n",
      "\n",
      "           0       0.72      0.75      0.74    117310\n",
      "           1       0.00      0.00      0.00       594\n",
      "           2       0.66      0.33      0.44     38037\n",
      "           3       0.03      0.32      0.05      3072\n",
      "           4       0.71      0.25      0.37     51585\n",
      "           5       0.00      0.00      0.00      1557\n",
      "           6       0.00      0.07      0.01      1618\n",
      "           7       0.00      0.00      0.00      1635\n",
      "           8       0.00      0.00      0.00         2\n",
      "           9       0.00      0.00      0.00        13\n",
      "          10       0.00      0.00      0.00     17214\n",
      "          11       0.00      0.00      0.00       883\n",
      "          12       0.00      0.00      0.00       408\n",
      "          13       0.00      0.00      0.00         5\n",
      "          14       0.00      0.00      0.00       201\n",
      "\n",
      "    accuracy                           0.49    234134\n",
      "   macro avg       0.14      0.11      0.11    234134\n",
      "weighted avg       0.63      0.49      0.52    234134\n",
      "\n",
      "\n",
      "        ----------Validation Data------------------\n",
      "Accuarcy: 48.90447350662441\n",
      "Precision: 62.5791 %\n",
      "Recall-score: 48.9045\n",
      "F1-score: 52.2685\n"
     ]
    }
   ],
   "source": [
    "predict = ln.predict(features_test)\n",
    "report(predict,labels_test)"
   ]
  },
  {
   "cell_type": "markdown",
   "id": "harmful-medline",
   "metadata": {},
   "source": [
    "### GaussianNB"
   ]
  },
  {
   "cell_type": "code",
   "execution_count": 21,
   "id": "specialized-constant",
   "metadata": {},
   "outputs": [],
   "source": [
    "nb = GaussianNB()"
   ]
  },
  {
   "cell_type": "code",
   "execution_count": 22,
   "id": "worldwide-inflation",
   "metadata": {},
   "outputs": [
    {
     "data": {
      "text/plain": [
       "GaussianNB()"
      ]
     },
     "execution_count": 22,
     "metadata": {},
     "output_type": "execute_result"
    }
   ],
   "source": [
    "nb.fit(features_train,labels_train)"
   ]
  },
  {
   "cell_type": "code",
   "execution_count": 23,
   "id": "improving-bailey",
   "metadata": {},
   "outputs": [
    {
     "name": "stdout",
     "output_type": "stream",
     "text": [
      "        ----------Classification Report Of Classes-------------\n",
      "              precision    recall  f1-score   support\n",
      "\n",
      "           0       1.00      0.00      0.00    117310\n",
      "           1       0.07      0.31      0.12       594\n",
      "           2       0.40      0.14      0.21     38037\n",
      "           3       0.12      0.28      0.17      3072\n",
      "           4       0.00      0.00      0.00     51585\n",
      "           5       0.25      0.55      0.34      1557\n",
      "           6       0.24      0.52      0.33      1618\n",
      "           7       0.01      1.00      0.02      1635\n",
      "           8       0.33      0.50      0.40         2\n",
      "           9       0.01      0.38      0.02        13\n",
      "          10       0.14      0.01      0.03     17214\n",
      "          11       0.00      0.00      0.00       883\n",
      "          12       0.00      0.00      0.00       408\n",
      "          13       0.00      0.00      0.00         5\n",
      "          14       0.00      0.00      0.00       201\n",
      "\n",
      "    accuracy                           0.04    234134\n",
      "   macro avg       0.17      0.25      0.11    234134\n",
      "weighted avg       0.58      0.04      0.04    234134\n",
      "\n",
      "\n",
      "        ----------Validation Data------------------\n",
      "Accuarcy: 4.352635670171781\n",
      "Precision: 58.0589 %\n",
      "Recall-score: 4.3526\n",
      "F1-score: 4.4437\n"
     ]
    }
   ],
   "source": [
    "predict = nb.predict(features_test)\n",
    "report(predict,labels_test)"
   ]
  },
  {
   "cell_type": "markdown",
   "id": "utility-carol",
   "metadata": {},
   "source": [
    "### AdaBoostClassifier"
   ]
  },
  {
   "cell_type": "code",
   "execution_count": 24,
   "id": "ready-balloon",
   "metadata": {},
   "outputs": [],
   "source": [
    "ab = AdaBoostClassifier(n_estimators=100)"
   ]
  },
  {
   "cell_type": "code",
   "execution_count": 25,
   "id": "commercial-joint",
   "metadata": {},
   "outputs": [
    {
     "data": {
      "text/plain": [
       "AdaBoostClassifier(n_estimators=100)"
      ]
     },
     "execution_count": 25,
     "metadata": {},
     "output_type": "execute_result"
    }
   ],
   "source": [
    "ab.fit(features_train,labels_train)"
   ]
  },
  {
   "cell_type": "code",
   "execution_count": 26,
   "id": "reported-archive",
   "metadata": {},
   "outputs": [
    {
     "name": "stdout",
     "output_type": "stream",
     "text": [
      "        ----------Classification Report Of Classes-------------\n",
      "              precision    recall  f1-score   support\n",
      "\n",
      "           0       0.74      0.99      0.85    117310\n",
      "           1       0.00      0.00      0.00       594\n",
      "           2       0.00      0.00      0.00     38037\n",
      "           3       0.00      0.00      0.00      3072\n",
      "           4       0.64      0.90      0.75     51585\n",
      "           5       0.00      0.00      0.00      1557\n",
      "           6       0.00      0.00      0.00      1618\n",
      "           7       0.47      1.00      0.64      1635\n",
      "           8       0.00      0.00      0.00         2\n",
      "           9       0.00      0.00      0.00        13\n",
      "          10       0.00      0.00      0.00     17214\n",
      "          11       0.00      0.00      0.00       883\n",
      "          12       0.00      0.00      0.00       408\n",
      "          13       0.00      0.00      0.00         5\n",
      "          14       0.00      0.00      0.00       201\n",
      "\n",
      "    accuracy                           0.70    234134\n",
      "   macro avg       0.12      0.19      0.15    234134\n",
      "weighted avg       0.51      0.70      0.59    234134\n",
      "\n",
      "\n",
      "        ----------Validation Data------------------\n",
      "Accuarcy: 70.22645151921549\n",
      "Precision: 51.3274 %\n",
      "Recall-score: 70.2265\n",
      "F1-score: 59.2771\n"
     ]
    }
   ],
   "source": [
    "predict = ab.predict(features_test)\n",
    "report(predict,labels_test)"
   ]
  },
  {
   "cell_type": "markdown",
   "id": "stable-month",
   "metadata": {},
   "source": [
    "### Decision Tree Classifier"
   ]
  },
  {
   "cell_type": "code",
   "execution_count": 27,
   "id": "reflected-oxide",
   "metadata": {},
   "outputs": [],
   "source": [
    "dt = DecisionTreeClassifier()"
   ]
  },
  {
   "cell_type": "code",
   "execution_count": 28,
   "id": "guided-roulette",
   "metadata": {},
   "outputs": [
    {
     "data": {
      "text/plain": [
       "DecisionTreeClassifier()"
      ]
     },
     "execution_count": 28,
     "metadata": {},
     "output_type": "execute_result"
    }
   ],
   "source": [
    "dt.fit(features_train,labels_train)"
   ]
  },
  {
   "cell_type": "code",
   "execution_count": 29,
   "id": "immune-leeds",
   "metadata": {},
   "outputs": [
    {
     "name": "stdout",
     "output_type": "stream",
     "text": [
      "        ----------Classification Report Of Classes-------------\n",
      "              precision    recall  f1-score   support\n",
      "\n",
      "           0       1.00      1.00      1.00    117310\n",
      "           1       0.95      0.91      0.93       594\n",
      "           2       1.00      1.00      1.00     38037\n",
      "           3       1.00      0.99      0.99      3072\n",
      "           4       1.00      1.00      1.00     51585\n",
      "           5       0.99      0.98      0.99      1557\n",
      "           6       0.98      1.00      0.99      1618\n",
      "           7       1.00      1.00      1.00      1635\n",
      "           8       0.67      1.00      0.80         2\n",
      "           9       0.89      0.62      0.73        13\n",
      "          10       1.00      1.00      1.00     17214\n",
      "          11       1.00      1.00      1.00       883\n",
      "          12       0.69      0.71      0.70       408\n",
      "          13       0.29      0.40      0.33         5\n",
      "          14       0.39      0.38      0.38       201\n",
      "\n",
      "    accuracy                           1.00    234134\n",
      "   macro avg       0.86      0.87      0.86    234134\n",
      "weighted avg       1.00      1.00      1.00    234134\n",
      "\n",
      "\n",
      "        ----------Validation Data------------------\n",
      "Accuarcy: 99.73818411678782\n",
      "Precision: 99.7381 %\n",
      "Recall-score: 99.7382\n",
      "F1-score: 99.7378\n"
     ]
    }
   ],
   "source": [
    "predict = dt.predict(features_test)\n",
    "report(predict,labels_test)"
   ]
  },
  {
   "cell_type": "markdown",
   "id": "solid-miller",
   "metadata": {},
   "source": [
    "### RandomForestClassifier"
   ]
  },
  {
   "cell_type": "code",
   "execution_count": 30,
   "id": "measured-majority",
   "metadata": {},
   "outputs": [],
   "source": [
    "rf = RandomForestClassifier(n_estimators=100)"
   ]
  },
  {
   "cell_type": "code",
   "execution_count": 31,
   "id": "becoming-chuck",
   "metadata": {},
   "outputs": [
    {
     "data": {
      "text/plain": [
       "RandomForestClassifier()"
      ]
     },
     "execution_count": 31,
     "metadata": {},
     "output_type": "execute_result"
    }
   ],
   "source": [
    "rf.fit(features_train,labels_train)"
   ]
  },
  {
   "cell_type": "code",
   "execution_count": 32,
   "id": "reported-seating",
   "metadata": {},
   "outputs": [
    {
     "name": "stdout",
     "output_type": "stream",
     "text": [
      "        ----------Classification Report Of Classes-------------\n",
      "              precision    recall  f1-score   support\n",
      "\n",
      "           0       1.00      1.00      1.00    117310\n",
      "           1       0.95      0.91      0.93       594\n",
      "           2       1.00      1.00      1.00     38037\n",
      "           3       1.00      1.00      1.00      3072\n",
      "           4       1.00      1.00      1.00     51585\n",
      "           5       1.00      0.99      0.99      1557\n",
      "           6       0.99      1.00      0.99      1618\n",
      "           7       1.00      1.00      1.00      1635\n",
      "           8       1.00      0.50      0.67         2\n",
      "           9       1.00      0.62      0.76        13\n",
      "          10       1.00      1.00      1.00     17214\n",
      "          11       1.00      1.00      1.00       883\n",
      "          12       0.71      0.81      0.75       408\n",
      "          13       1.00      0.20      0.33         5\n",
      "          14       0.46      0.32      0.38       201\n",
      "\n",
      "    accuracy                           1.00    234134\n",
      "   macro avg       0.94      0.82      0.85    234134\n",
      "weighted avg       1.00      1.00      1.00    234134\n",
      "\n",
      "\n",
      "        ----------Validation Data------------------\n",
      "Accuarcy: 99.782176018861\n",
      "Precision: 99.7742 %\n",
      "Recall-score: 99.7822\n",
      "F1-score: 99.7755\n"
     ]
    }
   ],
   "source": [
    "predict = rf.predict(features_test)\n",
    "report(predict,labels_test)"
   ]
  },
  {
   "cell_type": "code",
   "execution_count": null,
   "id": "dedicated-competition",
   "metadata": {},
   "outputs": [],
   "source": []
  }
 ],
 "metadata": {
  "kernelspec": {
   "display_name": "Python 3",
   "language": "python",
   "name": "python3"
  },
  "language_info": {
   "codemirror_mode": {
    "name": "ipython",
    "version": 3
   },
   "file_extension": ".py",
   "mimetype": "text/x-python",
   "name": "python",
   "nbconvert_exporter": "python",
   "pygments_lexer": "ipython3",
   "version": "3.7.4"
  }
 },
 "nbformat": 4,
 "nbformat_minor": 5
}
